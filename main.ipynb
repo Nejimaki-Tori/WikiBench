{
 "cells": [
  {
   "cell_type": "code",
   "execution_count": 1,
   "id": "0b8632f9-b953-47c5-8045-542c52621be8",
   "metadata": {
    "scrolled": true
   },
   "outputs": [
    {
     "name": "stdout",
     "output_type": "stream",
     "text": [
      "Requirement already satisfied: numpy==2.0.2 in c:\\users\\dagri\\anaconda3\\envs\\wikibench\\lib\\site-packages (from -r requirements.txt (line 1)) (2.0.2)\n",
      "Requirement already satisfied: pandas in c:\\users\\dagri\\anaconda3\\envs\\wikibench\\lib\\site-packages (from -r requirements.txt (line 2)) (2.2.3)\n",
      "Requirement already satisfied: scipy==1.14.1 in c:\\users\\dagri\\anaconda3\\envs\\wikibench\\lib\\site-packages (from -r requirements.txt (line 3)) (1.14.1)\n",
      "Requirement already satisfied: scikit-learn==1.6.1 in c:\\users\\dagri\\anaconda3\\envs\\wikibench\\lib\\site-packages (from -r requirements.txt (line 4)) (1.6.1)\n",
      "Requirement already satisfied: requests==2.32.3 in c:\\users\\dagri\\anaconda3\\envs\\wikibench\\lib\\site-packages (from -r requirements.txt (line 5)) (2.32.3)\n",
      "Requirement already satisfied: BeautifulSoup4==4.11.1 in c:\\users\\dagri\\anaconda3\\envs\\wikibench\\lib\\site-packages (from -r requirements.txt (line 6)) (4.11.1)\n",
      "Requirement already satisfied: lxml_html_clean==0.4.1 in c:\\users\\dagri\\anaconda3\\envs\\wikibench\\lib\\site-packages (from -r requirements.txt (line 7)) (0.4.1)\n",
      "Requirement already satisfied: newspaper3k==0.2.8 in c:\\users\\dagri\\anaconda3\\envs\\wikibench\\lib\\site-packages (from -r requirements.txt (line 8)) (0.2.8)\n",
      "Requirement already satisfied: openai==1.55.3 in c:\\users\\dagri\\anaconda3\\envs\\wikibench\\lib\\site-packages (from -r requirements.txt (line 10)) (1.55.3)\n",
      "Requirement already satisfied: httpx==0.27.2 in c:\\users\\dagri\\anaconda3\\envs\\wikibench\\lib\\site-packages (from -r requirements.txt (line 11)) (0.27.2)\n",
      "Requirement already satisfied: asyncio==3.4.3 in c:\\users\\dagri\\anaconda3\\envs\\wikibench\\lib\\site-packages (from -r requirements.txt (line 12)) (3.4.3)\n",
      "Requirement already satisfied: nltk in c:\\users\\dagri\\anaconda3\\envs\\wikibench\\lib\\site-packages (from -r requirements.txt (line 13)) (3.9.1)\n",
      "Requirement already satisfied: PyStemmer==2.2.0.3 in c:\\users\\dagri\\anaconda3\\envs\\wikibench\\lib\\site-packages (from -r requirements.txt (line 14)) (2.2.0.3)\n",
      "Requirement already satisfied: datasets in c:\\users\\dagri\\anaconda3\\envs\\wikibench\\lib\\site-packages (from -r requirements.txt (line 16)) (3.5.0)\n",
      "Requirement already satisfied: jax==0.5.2 in c:\\users\\dagri\\anaconda3\\envs\\wikibench\\lib\\site-packages (from jax[cpu]==0.5.2->-r requirements.txt (line 17)) (0.5.2)\n",
      "Requirement already satisfied: tqdm in c:\\users\\dagri\\anaconda3\\envs\\wikibench\\lib\\site-packages (from -r requirements.txt (line 18)) (4.67.1)\n",
      "Requirement already satisfied: sentence-transformers in c:\\users\\dagri\\anaconda3\\envs\\wikibench\\lib\\site-packages (from -r requirements.txt (line 19)) (4.0.2)\n",
      "Requirement already satisfied: accelerate in c:\\users\\dagri\\anaconda3\\envs\\wikibench\\lib\\site-packages (from -r requirements.txt (line 20)) (1.6.0)\n",
      "Requirement already satisfied: transformers in c:\\users\\dagri\\anaconda3\\envs\\wikibench\\lib\\site-packages (from -r requirements.txt (line 21)) (4.51.0)\n",
      "Requirement already satisfied: matplotlib in c:\\users\\dagri\\anaconda3\\envs\\wikibench\\lib\\site-packages (from -r requirements.txt (line 22)) (3.10.1)\n",
      "Requirement already satisfied: pymorphy3 in c:\\users\\dagri\\anaconda3\\envs\\wikibench\\lib\\site-packages (from -r requirements.txt (line 23)) (2.0.3)\n",
      "Requirement already satisfied: razdel in c:\\users\\dagri\\anaconda3\\envs\\wikibench\\lib\\site-packages (from -r requirements.txt (line 24)) (0.5.0)\n",
      "Requirement already satisfied: goose3[all] in c:\\users\\dagri\\anaconda3\\envs\\wikibench\\lib\\site-packages (from -r requirements.txt (line 9)) (3.1.19)\n",
      "Requirement already satisfied: bm25s[full] in c:\\users\\dagri\\anaconda3\\envs\\wikibench\\lib\\site-packages (from -r requirements.txt (line 15)) (0.2.10)\n",
      "Requirement already satisfied: joblib>=1.2.0 in c:\\users\\dagri\\anaconda3\\envs\\wikibench\\lib\\site-packages (from scikit-learn==1.6.1->-r requirements.txt (line 4)) (1.4.2)\n",
      "Requirement already satisfied: threadpoolctl>=3.1.0 in c:\\users\\dagri\\anaconda3\\envs\\wikibench\\lib\\site-packages (from scikit-learn==1.6.1->-r requirements.txt (line 4)) (3.6.0)\n",
      "Requirement already satisfied: charset-normalizer<4,>=2 in c:\\users\\dagri\\anaconda3\\envs\\wikibench\\lib\\site-packages (from requests==2.32.3->-r requirements.txt (line 5)) (2.0.12)\n",
      "Requirement already satisfied: idna<4,>=2.5 in c:\\users\\dagri\\anaconda3\\envs\\wikibench\\lib\\site-packages (from requests==2.32.3->-r requirements.txt (line 5)) (3.10)\n",
      "Requirement already satisfied: urllib3<3,>=1.21.1 in c:\\users\\dagri\\anaconda3\\envs\\wikibench\\lib\\site-packages (from requests==2.32.3->-r requirements.txt (line 5)) (1.26.20)\n",
      "Requirement already satisfied: certifi>=2017.4.17 in c:\\users\\dagri\\anaconda3\\envs\\wikibench\\lib\\site-packages (from requests==2.32.3->-r requirements.txt (line 5)) (2025.1.31)\n",
      "Requirement already satisfied: soupsieve>1.2 in c:\\users\\dagri\\anaconda3\\envs\\wikibench\\lib\\site-packages (from BeautifulSoup4==4.11.1->-r requirements.txt (line 6)) (2.5)\n",
      "Requirement already satisfied: lxml in c:\\users\\dagri\\anaconda3\\envs\\wikibench\\lib\\site-packages (from lxml_html_clean==0.4.1->-r requirements.txt (line 7)) (5.3.1)\n",
      "Requirement already satisfied: Pillow>=3.3.0 in c:\\users\\dagri\\anaconda3\\envs\\wikibench\\lib\\site-packages (from newspaper3k==0.2.8->-r requirements.txt (line 8)) (11.1.0)\n",
      "Requirement already satisfied: PyYAML>=3.11 in c:\\users\\dagri\\anaconda3\\envs\\wikibench\\lib\\site-packages (from newspaper3k==0.2.8->-r requirements.txt (line 8)) (6.0.2)\n",
      "Requirement already satisfied: cssselect>=0.9.2 in c:\\users\\dagri\\anaconda3\\envs\\wikibench\\lib\\site-packages (from newspaper3k==0.2.8->-r requirements.txt (line 8)) (1.2.0)\n",
      "Requirement already satisfied: feedparser>=5.2.1 in c:\\users\\dagri\\anaconda3\\envs\\wikibench\\lib\\site-packages (from newspaper3k==0.2.8->-r requirements.txt (line 8)) (6.0.11)\n",
      "Requirement already satisfied: tldextract>=2.0.1 in c:\\users\\dagri\\anaconda3\\envs\\wikibench\\lib\\site-packages (from newspaper3k==0.2.8->-r requirements.txt (line 8)) (5.1.3)\n",
      "Requirement already satisfied: feedfinder2>=0.0.4 in c:\\users\\dagri\\anaconda3\\envs\\wikibench\\lib\\site-packages (from newspaper3k==0.2.8->-r requirements.txt (line 8)) (0.0.4)\n",
      "Requirement already satisfied: jieba3k>=0.35.1 in c:\\users\\dagri\\anaconda3\\envs\\wikibench\\lib\\site-packages (from newspaper3k==0.2.8->-r requirements.txt (line 8)) (0.35.1)\n",
      "Requirement already satisfied: python-dateutil>=2.5.3 in c:\\users\\dagri\\anaconda3\\envs\\wikibench\\lib\\site-packages (from newspaper3k==0.2.8->-r requirements.txt (line 8)) (2.9.0.post0)\n",
      "Requirement already satisfied: tinysegmenter==0.3 in c:\\users\\dagri\\anaconda3\\envs\\wikibench\\lib\\site-packages (from newspaper3k==0.2.8->-r requirements.txt (line 8)) (0.3)\n",
      "Requirement already satisfied: anyio<5,>=3.5.0 in c:\\users\\dagri\\anaconda3\\envs\\wikibench\\lib\\site-packages (from openai==1.55.3->-r requirements.txt (line 10)) (4.9.0)\n",
      "Requirement already satisfied: distro<2,>=1.7.0 in c:\\users\\dagri\\anaconda3\\envs\\wikibench\\lib\\site-packages (from openai==1.55.3->-r requirements.txt (line 10)) (1.9.0)\n",
      "Requirement already satisfied: jiter<1,>=0.4.0 in c:\\users\\dagri\\anaconda3\\envs\\wikibench\\lib\\site-packages (from openai==1.55.3->-r requirements.txt (line 10)) (0.9.0)\n",
      "Requirement already satisfied: pydantic<3,>=1.9.0 in c:\\users\\dagri\\anaconda3\\envs\\wikibench\\lib\\site-packages (from openai==1.55.3->-r requirements.txt (line 10)) (2.10.6)\n",
      "Requirement already satisfied: sniffio in c:\\users\\dagri\\anaconda3\\envs\\wikibench\\lib\\site-packages (from openai==1.55.3->-r requirements.txt (line 10)) (1.3.1)\n",
      "Requirement already satisfied: typing-extensions<5,>=4.11 in c:\\users\\dagri\\anaconda3\\envs\\wikibench\\lib\\site-packages (from openai==1.55.3->-r requirements.txt (line 10)) (4.13.0)\n",
      "Requirement already satisfied: httpcore==1.* in c:\\users\\dagri\\anaconda3\\envs\\wikibench\\lib\\site-packages (from httpx==0.27.2->-r requirements.txt (line 11)) (1.0.7)\n",
      "Requirement already satisfied: jaxlib<=0.5.2,>=0.5.1 in c:\\users\\dagri\\anaconda3\\envs\\wikibench\\lib\\site-packages (from jax==0.5.2->jax[cpu]==0.5.2->-r requirements.txt (line 17)) (0.5.1)\n",
      "Requirement already satisfied: ml_dtypes>=0.4.0 in c:\\users\\dagri\\anaconda3\\envs\\wikibench\\lib\\site-packages (from jax==0.5.2->jax[cpu]==0.5.2->-r requirements.txt (line 17)) (0.5.1)\n",
      "Requirement already satisfied: opt_einsum in c:\\users\\dagri\\anaconda3\\envs\\wikibench\\lib\\site-packages (from jax==0.5.2->jax[cpu]==0.5.2->-r requirements.txt (line 17)) (3.4.0)\n",
      "Requirement already satisfied: h11<0.15,>=0.13 in c:\\users\\dagri\\anaconda3\\envs\\wikibench\\lib\\site-packages (from httpcore==1.*->httpx==0.27.2->-r requirements.txt (line 11)) (0.14.0)\n",
      "Requirement already satisfied: pytz>=2020.1 in c:\\users\\dagri\\anaconda3\\envs\\wikibench\\lib\\site-packages (from pandas->-r requirements.txt (line 2)) (2025.2)\n",
      "Requirement already satisfied: tzdata>=2022.7 in c:\\users\\dagri\\anaconda3\\envs\\wikibench\\lib\\site-packages (from pandas->-r requirements.txt (line 2)) (2025.1)\n",
      "Requirement already satisfied: langdetect in c:\\users\\dagri\\anaconda3\\envs\\wikibench\\lib\\site-packages (from goose3[all]->-r requirements.txt (line 9)) (1.0.9)\n",
      "Requirement already satisfied: pyahocorasick in c:\\users\\dagri\\anaconda3\\envs\\wikibench\\lib\\site-packages (from goose3[all]->-r requirements.txt (line 9)) (2.1.0)\n",
      "Requirement already satisfied: jieba in c:\\users\\dagri\\anaconda3\\envs\\wikibench\\lib\\site-packages (from goose3[all]->-r requirements.txt (line 9)) (0.42.1)\n",
      "Requirement already satisfied: click in c:\\users\\dagri\\anaconda3\\envs\\wikibench\\lib\\site-packages (from nltk->-r requirements.txt (line 13)) (8.1.8)\n",
      "Requirement already satisfied: regex>=2021.8.3 in c:\\users\\dagri\\anaconda3\\envs\\wikibench\\lib\\site-packages (from nltk->-r requirements.txt (line 13)) (2024.11.6)\n",
      "Requirement already satisfied: orjson in c:\\users\\dagri\\anaconda3\\envs\\wikibench\\lib\\site-packages (from bm25s[full]->-r requirements.txt (line 15)) (3.10.16)\n",
      "Requirement already satisfied: numba in c:\\users\\dagri\\anaconda3\\envs\\wikibench\\lib\\site-packages (from bm25s[full]->-r requirements.txt (line 15)) (0.61.0)\n",
      "Requirement already satisfied: huggingface-hub in c:\\users\\dagri\\anaconda3\\envs\\wikibench\\lib\\site-packages (from bm25s[full]->-r requirements.txt (line 15)) (0.30.1)\n",
      "Requirement already satisfied: black in c:\\users\\dagri\\anaconda3\\envs\\wikibench\\lib\\site-packages (from bm25s[full]->-r requirements.txt (line 15)) (25.1.0)\n",
      "Requirement already satisfied: pytrec-eval in c:\\users\\dagri\\anaconda3\\envs\\wikibench\\lib\\site-packages (from bm25s[full]->-r requirements.txt (line 15)) (0.5)\n",
      "Requirement already satisfied: filelock in c:\\users\\dagri\\anaconda3\\envs\\wikibench\\lib\\site-packages (from datasets->-r requirements.txt (line 16)) (3.17.0)\n",
      "Requirement already satisfied: pyarrow>=15.0.0 in c:\\users\\dagri\\anaconda3\\envs\\wikibench\\lib\\site-packages (from datasets->-r requirements.txt (line 16)) (19.0.1)\n",
      "Requirement already satisfied: dill<0.3.9,>=0.3.0 in c:\\users\\dagri\\anaconda3\\envs\\wikibench\\lib\\site-packages (from datasets->-r requirements.txt (line 16)) (0.3.8)\n",
      "Requirement already satisfied: xxhash in c:\\users\\dagri\\anaconda3\\envs\\wikibench\\lib\\site-packages (from datasets->-r requirements.txt (line 16)) (3.5.0)\n",
      "Requirement already satisfied: multiprocess<0.70.17 in c:\\users\\dagri\\anaconda3\\envs\\wikibench\\lib\\site-packages (from datasets->-r requirements.txt (line 16)) (0.70.16)\n",
      "Requirement already satisfied: fsspec<=2024.12.0,>=2023.1.0 in c:\\users\\dagri\\anaconda3\\envs\\wikibench\\lib\\site-packages (from fsspec[http]<=2024.12.0,>=2023.1.0->datasets->-r requirements.txt (line 16)) (2024.12.0)\n",
      "Requirement already satisfied: aiohttp in c:\\users\\dagri\\anaconda3\\envs\\wikibench\\lib\\site-packages (from datasets->-r requirements.txt (line 16)) (3.11.16)\n",
      "Requirement already satisfied: packaging in c:\\users\\dagri\\anaconda3\\envs\\wikibench\\lib\\site-packages (from datasets->-r requirements.txt (line 16)) (24.2)\n",
      "Requirement already satisfied: colorama in c:\\users\\dagri\\anaconda3\\envs\\wikibench\\lib\\site-packages (from tqdm->-r requirements.txt (line 18)) (0.4.6)\n",
      "Requirement already satisfied: torch>=1.11.0 in c:\\users\\dagri\\anaconda3\\envs\\wikibench\\lib\\site-packages (from sentence-transformers->-r requirements.txt (line 19)) (2.6.0)\n",
      "Requirement already satisfied: psutil in c:\\users\\dagri\\anaconda3\\envs\\wikibench\\lib\\site-packages (from accelerate->-r requirements.txt (line 20)) (7.0.0)\n",
      "Requirement already satisfied: safetensors>=0.4.3 in c:\\users\\dagri\\anaconda3\\envs\\wikibench\\lib\\site-packages (from accelerate->-r requirements.txt (line 20)) (0.5.3)\n",
      "Requirement already satisfied: tokenizers<0.22,>=0.21 in c:\\users\\dagri\\anaconda3\\envs\\wikibench\\lib\\site-packages (from transformers->-r requirements.txt (line 21)) (0.21.1)\n",
      "Requirement already satisfied: contourpy>=1.0.1 in c:\\users\\dagri\\anaconda3\\envs\\wikibench\\lib\\site-packages (from matplotlib->-r requirements.txt (line 22)) (1.3.1)\n",
      "Requirement already satisfied: cycler>=0.10 in c:\\users\\dagri\\anaconda3\\envs\\wikibench\\lib\\site-packages (from matplotlib->-r requirements.txt (line 22)) (0.12.1)\n",
      "Requirement already satisfied: fonttools>=4.22.0 in c:\\users\\dagri\\anaconda3\\envs\\wikibench\\lib\\site-packages (from matplotlib->-r requirements.txt (line 22)) (4.57.0)\n",
      "Requirement already satisfied: kiwisolver>=1.3.1 in c:\\users\\dagri\\anaconda3\\envs\\wikibench\\lib\\site-packages (from matplotlib->-r requirements.txt (line 22)) (1.4.8)\n",
      "Requirement already satisfied: pyparsing>=2.3.1 in c:\\users\\dagri\\anaconda3\\envs\\wikibench\\lib\\site-packages (from matplotlib->-r requirements.txt (line 22)) (3.2.3)\n",
      "Requirement already satisfied: dawg2-python>=0.8.0 in c:\\users\\dagri\\anaconda3\\envs\\wikibench\\lib\\site-packages (from pymorphy3->-r requirements.txt (line 23)) (0.9.0)\n",
      "Requirement already satisfied: pymorphy3-dicts-ru in c:\\users\\dagri\\anaconda3\\envs\\wikibench\\lib\\site-packages (from pymorphy3->-r requirements.txt (line 23)) (2.4.417150.4580142)\n",
      "Requirement already satisfied: setuptools>=68.2.2 in c:\\users\\dagri\\anaconda3\\envs\\wikibench\\lib\\site-packages (from pymorphy3->-r requirements.txt (line 23)) (78.1.0)\n",
      "Requirement already satisfied: six in c:\\users\\dagri\\anaconda3\\envs\\wikibench\\lib\\site-packages (from feedfinder2>=0.0.4->newspaper3k==0.2.8->-r requirements.txt (line 8)) (1.17.0)\n",
      "Requirement already satisfied: sgmllib3k in c:\\users\\dagri\\anaconda3\\envs\\wikibench\\lib\\site-packages (from feedparser>=5.2.1->newspaper3k==0.2.8->-r requirements.txt (line 8)) (1.0.0)\n",
      "Requirement already satisfied: aiohappyeyeballs>=2.3.0 in c:\\users\\dagri\\anaconda3\\envs\\wikibench\\lib\\site-packages (from aiohttp->datasets->-r requirements.txt (line 16)) (2.6.1)\n",
      "Requirement already satisfied: aiosignal>=1.1.2 in c:\\users\\dagri\\anaconda3\\envs\\wikibench\\lib\\site-packages (from aiohttp->datasets->-r requirements.txt (line 16)) (1.3.2)\n",
      "Requirement already satisfied: attrs>=17.3.0 in c:\\users\\dagri\\anaconda3\\envs\\wikibench\\lib\\site-packages (from aiohttp->datasets->-r requirements.txt (line 16)) (25.3.0)\n",
      "Requirement already satisfied: frozenlist>=1.1.1 in c:\\users\\dagri\\anaconda3\\envs\\wikibench\\lib\\site-packages (from aiohttp->datasets->-r requirements.txt (line 16)) (1.5.0)\n",
      "Requirement already satisfied: multidict<7.0,>=4.5 in c:\\users\\dagri\\anaconda3\\envs\\wikibench\\lib\\site-packages (from aiohttp->datasets->-r requirements.txt (line 16)) (6.2.0)\n",
      "Requirement already satisfied: propcache>=0.2.0 in c:\\users\\dagri\\anaconda3\\envs\\wikibench\\lib\\site-packages (from aiohttp->datasets->-r requirements.txt (line 16)) (0.3.1)\n",
      "Requirement already satisfied: yarl<2.0,>=1.17.0 in c:\\users\\dagri\\anaconda3\\envs\\wikibench\\lib\\site-packages (from aiohttp->datasets->-r requirements.txt (line 16)) (1.18.3)\n",
      "Requirement already satisfied: annotated-types>=0.6.0 in c:\\users\\dagri\\anaconda3\\envs\\wikibench\\lib\\site-packages (from pydantic<3,>=1.9.0->openai==1.55.3->-r requirements.txt (line 10)) (0.7.0)\n",
      "Requirement already satisfied: pydantic-core==2.27.2 in c:\\users\\dagri\\anaconda3\\envs\\wikibench\\lib\\site-packages (from pydantic<3,>=1.9.0->openai==1.55.3->-r requirements.txt (line 10)) (2.27.2)\n",
      "Requirement already satisfied: requests-file>=1.4 in c:\\users\\dagri\\anaconda3\\envs\\wikibench\\lib\\site-packages (from tldextract>=2.0.1->newspaper3k==0.2.8->-r requirements.txt (line 8)) (2.1.0)\n",
      "Requirement already satisfied: networkx in c:\\users\\dagri\\anaconda3\\envs\\wikibench\\lib\\site-packages (from torch>=1.11.0->sentence-transformers->-r requirements.txt (line 19)) (3.4.2)\n",
      "Requirement already satisfied: jinja2 in c:\\users\\dagri\\anaconda3\\envs\\wikibench\\lib\\site-packages (from torch>=1.11.0->sentence-transformers->-r requirements.txt (line 19)) (3.1.6)\n",
      "Requirement already satisfied: sympy==1.13.1 in c:\\users\\dagri\\anaconda3\\envs\\wikibench\\lib\\site-packages (from torch>=1.11.0->sentence-transformers->-r requirements.txt (line 19)) (1.13.1)\n",
      "Requirement already satisfied: mpmath<1.4,>=1.1.0 in c:\\users\\dagri\\anaconda3\\envs\\wikibench\\lib\\site-packages (from sympy==1.13.1->torch>=1.11.0->sentence-transformers->-r requirements.txt (line 19)) (1.3.0)\n",
      "Requirement already satisfied: mypy-extensions>=0.4.3 in c:\\users\\dagri\\anaconda3\\envs\\wikibench\\lib\\site-packages (from black->bm25s[full]->-r requirements.txt (line 15)) (1.0.0)\n",
      "Requirement already satisfied: pathspec>=0.9.0 in c:\\users\\dagri\\anaconda3\\envs\\wikibench\\lib\\site-packages (from black->bm25s[full]->-r requirements.txt (line 15)) (0.12.1)\n",
      "Requirement already satisfied: platformdirs>=2 in c:\\users\\dagri\\anaconda3\\envs\\wikibench\\lib\\site-packages (from black->bm25s[full]->-r requirements.txt (line 15)) (4.3.7)\n",
      "Requirement already satisfied: llvmlite<0.45,>=0.44.0dev0 in c:\\users\\dagri\\anaconda3\\envs\\wikibench\\lib\\site-packages (from numba->bm25s[full]->-r requirements.txt (line 15)) (0.44.0)\n",
      "Requirement already satisfied: MarkupSafe>=2.0 in c:\\users\\dagri\\anaconda3\\envs\\wikibench\\lib\\site-packages (from jinja2->torch>=1.11.0->sentence-transformers->-r requirements.txt (line 19)) (3.0.2)\n"
     ]
    }
   ],
   "source": [
    "!pip install -r requirements.txt"
   ]
  },
  {
   "cell_type": "code",
   "execution_count": 8,
   "id": "10a4b5ec-3805-4a98-9942-d5b12d1bb298",
   "metadata": {},
   "outputs": [],
   "source": [
    "%load_ext autoreload\n",
    "%autoreload 2"
   ]
  },
  {
   "cell_type": "code",
   "execution_count": 9,
   "id": "6664a03f-3846-48ae-8bcc-6377651f84c2",
   "metadata": {
    "scrolled": true
   },
   "outputs": [],
   "source": [
    "%reload_ext autoreload"
   ]
  },
  {
   "cell_type": "code",
   "execution_count": 2,
   "id": "6440ec21-7d5b-42a5-9cd1-d8d241fd2850",
   "metadata": {
    "collapsed": true,
    "jupyter": {
     "outputs_hidden": true
    }
   },
   "outputs": [
    {
     "ename": "NameError",
     "evalue": "name 'wiki_bench' is not defined",
     "output_type": "error",
     "traceback": [
      "\u001b[31m---------------------------------------------------------------------------\u001b[39m",
      "\u001b[31mNameError\u001b[39m                                 Traceback (most recent call last)",
      "\u001b[36mCell\u001b[39m\u001b[36m \u001b[39m\u001b[32mIn[2]\u001b[39m\u001b[32m, line 1\u001b[39m\n\u001b[32m----> \u001b[39m\u001b[32m1\u001b[39m lst = \u001b[38;5;28mlist\u001b[39m(\u001b[38;5;28;01mawait\u001b[39;00m \u001b[43mwiki_bench\u001b[49m.client.client.models.list())[\u001b[32m0\u001b[39m][\u001b[32m1\u001b[39m]\n\u001b[32m      2\u001b[39m \u001b[38;5;28;01mfor\u001b[39;00m l \u001b[38;5;129;01min\u001b[39;00m lst:\n\u001b[32m      3\u001b[39m     \u001b[38;5;28mprint\u001b[39m(l)\n",
      "\u001b[31mNameError\u001b[39m: name 'wiki_bench' is not defined"
     ]
    }
   ],
   "source": [
    "#lst = list(await wiki_bench.client.client.models.list())[0][1]\n",
    "#for l in lst:\n",
    "#    print(l)"
   ]
  },
  {
   "cell_type": "code",
   "execution_count": 1,
   "id": "954571ad-a45a-494c-a0ab-dbf20f1a0781",
   "metadata": {},
   "outputs": [
    {
     "name": "stdout",
     "output_type": "stream",
     "text": [
      "resource module not available on Windows\n"
     ]
    }
   ],
   "source": [
    "import sys\n",
    "\n",
    "sys.path.append(\"src\")\n",
    "from wiki_bench import WikiBench\n",
    "with open('Access_key.txt', 'r', encoding='utf-8') as file:\n",
    "    url, key = file.read().split()\n",
    "#wiki_bench = WikiBench(url, key, model_name='RefalMachine/RuadaptQwen2.5-7B-Lite-Beta', pre_load=True)"
   ]
  },
  {
   "cell_type": "code",
   "execution_count": 2,
   "id": "1ba40c7e-e754-478d-966e-b3be23372916",
   "metadata": {},
   "outputs": [],
   "source": [
    "import logging\n",
    "import torch\n",
    "from sentence_transformers import SentenceTransformer\n",
    "\n",
    "logging.getLogger(\"sentence_transformers.SentenceTransformer\").setLevel(logging.ERROR)\n",
    "\n",
    "device = torch.device(\"cuda\" if torch.cuda.is_available() else \"cpu\")\n",
    "encoder = SentenceTransformer(\"sergeyzh/BERTA\").to(device)"
   ]
  },
  {
   "cell_type": "code",
   "execution_count": 3,
   "id": "3c996b17-c828-405b-918e-5b9f8890e61c",
   "metadata": {},
   "outputs": [],
   "source": [
    "import asyncio\n",
    "import json\n",
    "from datetime import datetime, UTC\n",
    "import aiofiles\n",
    "import os\n",
    "\n",
    "\n",
    "async def run_bench_for_model(url: str,\n",
    "                              api_key: str,\n",
    "                              model_name: str,\n",
    "                              device = None,\n",
    "                              encoder = None,\n",
    "                              out_dir: str = \"results\",\n",
    "                              reference_mode: int = 0,\n",
    "                              neighbor_count = 0,\n",
    "                              description_mode = 0,\n",
    "                              mode = 1\n",
    "                             ):\n",
    "\n",
    "    file_path = f\"{out_dir}/{model_name.replace('/', '_')}.jsonl\"\n",
    "\n",
    "    os.makedirs(out_dir, exist_ok=True)\n",
    "\n",
    "    bench = WikiBench(url, api_key, model_name=model_name, device=device, encoder=encoder, pre_load=True)\n",
    "    \n",
    "    async with aiofiles.open(file_path, \"a\", encoding=\"utf‑8\") as f:\n",
    "        \n",
    "        # ---------- запросы ----------\n",
    "        async for article_name, item, annotation in bench.query_stream(reference_mode=reference_mode):\n",
    "            await f.write(_as_jsonl(model_name, article_name, \"query\", item, annotation, False))\n",
    "        print(f\"[{model_name}] — запросы готовы\")\n",
    "        \n",
    "        # ---------- планы статей ----------\n",
    "        async for article_name, item in bench.outline_stream(\n",
    "            neighbor_count=neighbor_count, \n",
    "            description_mode=description_mode, \n",
    "            mode=mode\n",
    "        ):\n",
    "            await f.write(_as_jsonl(model_name, article_name, \"outline\", item, '', False))\n",
    "        print(f\"[{model_name}] — планы готовы\")\n",
    "\n",
    "        # ---------- секции статей ----------\n",
    "        async for article_name, item in bench.sections_stream():\n",
    "            await f.write(_as_jsonl(model_name, article_name, \"section\", item, '', True))\n",
    "        print(f\"[{model_name}] — секции готовы\")\n",
    "\n",
    "    print(f\"[{model_name}] — готово. Результаты: {file_path}\")\n",
    "    \n",
    "def serialize(d):\n",
    "    return [[[k, n], v] for (k, n), v in d.items()]\n",
    "\n",
    "def _as_jsonl(model, article_name, phase, data, annotation='', needs_ser=False):\n",
    "    if needs_ser:\n",
    "        data = serialize(data)\n",
    "    entry = {\n",
    "        \"ts\": datetime.now(UTC).isoformat(timespec=\"seconds\"),\n",
    "        \"model\": model,\n",
    "        \"article_name\": article_name,\n",
    "        \"phase\": phase,\n",
    "        \"annotation\": annotation,\n",
    "        \"data\": data,\n",
    "    }\n",
    "    return json.dumps(entry, ensure_ascii=False) + \"\\n\"\n"
   ]
  },
  {
   "cell_type": "code",
   "execution_count": 4,
   "id": "eed362db-62c6-4be5-af35-e62eb49bdaf3",
   "metadata": {},
   "outputs": [],
   "source": [
    "from openai_utils import AsyncList\n",
    "\n",
    "async def main():\n",
    "    models = AsyncList()\n",
    "    model_names = [\n",
    "        'RefalMachine/RuadaptQwen3-32B-Instruct-v2',\n",
    "        'Qwen3-235B-A22B',\n",
    "        'DeepSeek V3',\n",
    "        'tpro',\n",
    "        'RefalMachine/RuadaptQwen2.5-7B-Garant-v2',\n",
    "        'yagpt5lite'\n",
    "    ]\n",
    "    for name in model_names:\n",
    "        models.append(run_bench_for_model(url, key, name, device, encoder))\n",
    "\n",
    "    await models.complete_couroutines(batch_size=6)\n",
    "    models = await models.to_list()"
   ]
  },
  {
   "cell_type": "code",
   "execution_count": 5,
   "id": "4d93c72e-ebb8-43e9-b360-0a28e4a77fcc",
   "metadata": {
    "collapsed": true,
    "jupyter": {
     "outputs_hidden": true
    },
    "scrolled": true
   },
   "outputs": [
    {
     "name": "stdout",
     "output_type": "stream",
     "text": [
      "[yagpt5lite] — запросы готовы\n",
      "[RefalMachine/RuadaptQwen2.5-7B-Garant-v2] — запросы готовы\n",
      "[yagpt5lite] — планы готовы\n",
      "[Qwen3-235B-A22B] — запросы готовы\n",
      "[RefalMachine/RuadaptQwen2.5-7B-Garant-v2] — планы готовы\n",
      "[DeepSeek V3] — запросы готовы\n",
      "[Qwen3-235B-A22B] — планы готовы\n",
      "[DeepSeek V3] — планы готовы\n",
      "[yagpt5lite] — секции готовы\n",
      "[yagpt5lite] — готово. Результаты: results/yagpt5lite.jsonl\n",
      "[RefalMachine/RuadaptQwen2.5-7B-Garant-v2] — секции готовы\n",
      "[RefalMachine/RuadaptQwen2.5-7B-Garant-v2] — готово. Результаты: results/RefalMachine_RuadaptQwen2.5-7B-Garant-v2.jsonl\n",
      "[RefalMachine/RuadaptQwen3-32B-Instruct-v2] — запросы готовы\n",
      "[tpro] — запросы готовы\n",
      "[RefalMachine/RuadaptQwen3-32B-Instruct-v2] — планы готовы\n",
      "[tpro] — планы готовы\n",
      "[Qwen3-235B-A22B] — секции готовы\n",
      "[Qwen3-235B-A22B] — готово. Результаты: results/Qwen3-235B-A22B.jsonl\n",
      "[DeepSeek V3] — секции готовы\n",
      "[DeepSeek V3] — готово. Результаты: results/DeepSeek V3.jsonl\n"
     ]
    },
    {
     "ename": "APIConnectionError",
     "evalue": "Connection error.",
     "output_type": "error",
     "traceback": [
      "\u001b[31m---------------------------------------------------------------------------\u001b[39m",
      "\u001b[31mRemoteProtocolError\u001b[39m                       Traceback (most recent call last)",
      "\u001b[36mFile \u001b[39m\u001b[32m~\\anaconda3\\envs\\WIKIbench\\Lib\\site-packages\\httpx\\_transports\\default.py:101\u001b[39m, in \u001b[36mmap_httpcore_exceptions\u001b[39m\u001b[34m()\u001b[39m\n\u001b[32m    100\u001b[39m \u001b[38;5;28;01mtry\u001b[39;00m:\n\u001b[32m--> \u001b[39m\u001b[32m101\u001b[39m     \u001b[38;5;28;01myield\u001b[39;00m\n\u001b[32m    102\u001b[39m \u001b[38;5;28;01mexcept\u001b[39;00m \u001b[38;5;167;01mException\u001b[39;00m \u001b[38;5;28;01mas\u001b[39;00m exc:\n",
      "\u001b[36mFile \u001b[39m\u001b[32m~\\anaconda3\\envs\\WIKIbench\\Lib\\site-packages\\httpx\\_transports\\default.py:394\u001b[39m, in \u001b[36mAsyncHTTPTransport.handle_async_request\u001b[39m\u001b[34m(self, request)\u001b[39m\n\u001b[32m    393\u001b[39m \u001b[38;5;28;01mwith\u001b[39;00m map_httpcore_exceptions():\n\u001b[32m--> \u001b[39m\u001b[32m394\u001b[39m     resp = \u001b[38;5;28;01mawait\u001b[39;00m \u001b[38;5;28mself\u001b[39m._pool.handle_async_request(req)\n\u001b[32m    396\u001b[39m \u001b[38;5;28;01massert\u001b[39;00m \u001b[38;5;28misinstance\u001b[39m(resp.stream, typing.AsyncIterable)\n",
      "\u001b[36mFile \u001b[39m\u001b[32m~\\anaconda3\\envs\\WIKIbench\\Lib\\site-packages\\httpcore\\_async\\connection_pool.py:256\u001b[39m, in \u001b[36mAsyncConnectionPool.handle_async_request\u001b[39m\u001b[34m(self, request)\u001b[39m\n\u001b[32m    255\u001b[39m     \u001b[38;5;28;01mawait\u001b[39;00m \u001b[38;5;28mself\u001b[39m._close_connections(closing)\n\u001b[32m--> \u001b[39m\u001b[32m256\u001b[39m     \u001b[38;5;28;01mraise\u001b[39;00m exc \u001b[38;5;28;01mfrom\u001b[39;00m\u001b[38;5;250m \u001b[39m\u001b[38;5;28;01mNone\u001b[39;00m\n\u001b[32m    258\u001b[39m \u001b[38;5;66;03m# Return the response. Note that in this case we still have to manage\u001b[39;00m\n\u001b[32m    259\u001b[39m \u001b[38;5;66;03m# the point at which the response is closed.\u001b[39;00m\n",
      "\u001b[36mFile \u001b[39m\u001b[32m~\\anaconda3\\envs\\WIKIbench\\Lib\\site-packages\\httpcore\\_async\\connection_pool.py:236\u001b[39m, in \u001b[36mAsyncConnectionPool.handle_async_request\u001b[39m\u001b[34m(self, request)\u001b[39m\n\u001b[32m    234\u001b[39m \u001b[38;5;28;01mtry\u001b[39;00m:\n\u001b[32m    235\u001b[39m     \u001b[38;5;66;03m# Send the request on the assigned connection.\u001b[39;00m\n\u001b[32m--> \u001b[39m\u001b[32m236\u001b[39m     response = \u001b[38;5;28;01mawait\u001b[39;00m connection.handle_async_request(\n\u001b[32m    237\u001b[39m         pool_request.request\n\u001b[32m    238\u001b[39m     )\n\u001b[32m    239\u001b[39m \u001b[38;5;28;01mexcept\u001b[39;00m ConnectionNotAvailable:\n\u001b[32m    240\u001b[39m     \u001b[38;5;66;03m# In some cases a connection may initially be available to\u001b[39;00m\n\u001b[32m    241\u001b[39m     \u001b[38;5;66;03m# handle a request, but then become unavailable.\u001b[39;00m\n\u001b[32m    242\u001b[39m     \u001b[38;5;66;03m#\u001b[39;00m\n\u001b[32m    243\u001b[39m     \u001b[38;5;66;03m# In this case we clear the connection and try again.\u001b[39;00m\n",
      "\u001b[36mFile \u001b[39m\u001b[32m~\\anaconda3\\envs\\WIKIbench\\Lib\\site-packages\\httpcore\\_async\\connection.py:103\u001b[39m, in \u001b[36mAsyncHTTPConnection.handle_async_request\u001b[39m\u001b[34m(self, request)\u001b[39m\n\u001b[32m    101\u001b[39m     \u001b[38;5;28;01mraise\u001b[39;00m exc\n\u001b[32m--> \u001b[39m\u001b[32m103\u001b[39m \u001b[38;5;28;01mreturn\u001b[39;00m \u001b[38;5;28;01mawait\u001b[39;00m \u001b[38;5;28mself\u001b[39m._connection.handle_async_request(request)\n",
      "\u001b[36mFile \u001b[39m\u001b[32m~\\anaconda3\\envs\\WIKIbench\\Lib\\site-packages\\httpcore\\_async\\http11.py:136\u001b[39m, in \u001b[36mAsyncHTTP11Connection.handle_async_request\u001b[39m\u001b[34m(self, request)\u001b[39m\n\u001b[32m    135\u001b[39m         \u001b[38;5;28;01mawait\u001b[39;00m \u001b[38;5;28mself\u001b[39m._response_closed()\n\u001b[32m--> \u001b[39m\u001b[32m136\u001b[39m \u001b[38;5;28;01mraise\u001b[39;00m exc\n",
      "\u001b[36mFile \u001b[39m\u001b[32m~\\anaconda3\\envs\\WIKIbench\\Lib\\site-packages\\httpcore\\_async\\http11.py:106\u001b[39m, in \u001b[36mAsyncHTTP11Connection.handle_async_request\u001b[39m\u001b[34m(self, request)\u001b[39m\n\u001b[32m     97\u001b[39m \u001b[38;5;28;01masync\u001b[39;00m \u001b[38;5;28;01mwith\u001b[39;00m Trace(\n\u001b[32m     98\u001b[39m     \u001b[33m\"\u001b[39m\u001b[33mreceive_response_headers\u001b[39m\u001b[33m\"\u001b[39m, logger, request, kwargs\n\u001b[32m     99\u001b[39m ) \u001b[38;5;28;01mas\u001b[39;00m trace:\n\u001b[32m    100\u001b[39m     (\n\u001b[32m    101\u001b[39m         http_version,\n\u001b[32m    102\u001b[39m         status,\n\u001b[32m    103\u001b[39m         reason_phrase,\n\u001b[32m    104\u001b[39m         headers,\n\u001b[32m    105\u001b[39m         trailing_data,\n\u001b[32m--> \u001b[39m\u001b[32m106\u001b[39m     ) = \u001b[38;5;28;01mawait\u001b[39;00m \u001b[38;5;28mself\u001b[39m._receive_response_headers(**kwargs)\n\u001b[32m    107\u001b[39m     trace.return_value = (\n\u001b[32m    108\u001b[39m         http_version,\n\u001b[32m    109\u001b[39m         status,\n\u001b[32m    110\u001b[39m         reason_phrase,\n\u001b[32m    111\u001b[39m         headers,\n\u001b[32m    112\u001b[39m     )\n",
      "\u001b[36mFile \u001b[39m\u001b[32m~\\anaconda3\\envs\\WIKIbench\\Lib\\site-packages\\httpcore\\_async\\http11.py:177\u001b[39m, in \u001b[36mAsyncHTTP11Connection._receive_response_headers\u001b[39m\u001b[34m(self, request)\u001b[39m\n\u001b[32m    176\u001b[39m \u001b[38;5;28;01mwhile\u001b[39;00m \u001b[38;5;28;01mTrue\u001b[39;00m:\n\u001b[32m--> \u001b[39m\u001b[32m177\u001b[39m     event = \u001b[38;5;28;01mawait\u001b[39;00m \u001b[38;5;28mself\u001b[39m._receive_event(timeout=timeout)\n\u001b[32m    178\u001b[39m     \u001b[38;5;28;01mif\u001b[39;00m \u001b[38;5;28misinstance\u001b[39m(event, h11.Response):\n",
      "\u001b[36mFile \u001b[39m\u001b[32m~\\anaconda3\\envs\\WIKIbench\\Lib\\site-packages\\httpcore\\_async\\http11.py:231\u001b[39m, in \u001b[36mAsyncHTTP11Connection._receive_event\u001b[39m\u001b[34m(self, timeout)\u001b[39m\n\u001b[32m    230\u001b[39m     msg = \u001b[33m\"\u001b[39m\u001b[33mServer disconnected without sending a response.\u001b[39m\u001b[33m\"\u001b[39m\n\u001b[32m--> \u001b[39m\u001b[32m231\u001b[39m     \u001b[38;5;28;01mraise\u001b[39;00m RemoteProtocolError(msg)\n\u001b[32m    233\u001b[39m \u001b[38;5;28mself\u001b[39m._h11_state.receive_data(data)\n",
      "\u001b[31mRemoteProtocolError\u001b[39m: Server disconnected without sending a response.",
      "\nThe above exception was the direct cause of the following exception:\n",
      "\u001b[31mRemoteProtocolError\u001b[39m                       Traceback (most recent call last)",
      "\u001b[36mFile \u001b[39m\u001b[32m~\\anaconda3\\envs\\WIKIbench\\Lib\\site-packages\\openai\\_base_client.py:1576\u001b[39m, in \u001b[36mAsyncAPIClient._request\u001b[39m\u001b[34m(self, cast_to, options, stream, stream_cls, retries_taken)\u001b[39m\n\u001b[32m   1575\u001b[39m \u001b[38;5;28;01mtry\u001b[39;00m:\n\u001b[32m-> \u001b[39m\u001b[32m1576\u001b[39m     response = \u001b[38;5;28;01mawait\u001b[39;00m \u001b[38;5;28mself\u001b[39m._client.send(\n\u001b[32m   1577\u001b[39m         request,\n\u001b[32m   1578\u001b[39m         stream=stream \u001b[38;5;129;01mor\u001b[39;00m \u001b[38;5;28mself\u001b[39m._should_stream_response_body(request=request),\n\u001b[32m   1579\u001b[39m         **kwargs,\n\u001b[32m   1580\u001b[39m     )\n\u001b[32m   1581\u001b[39m \u001b[38;5;28;01mexcept\u001b[39;00m httpx.TimeoutException \u001b[38;5;28;01mas\u001b[39;00m err:\n",
      "\u001b[36mFile \u001b[39m\u001b[32m~\\anaconda3\\envs\\WIKIbench\\Lib\\site-packages\\httpx\\_client.py:1629\u001b[39m, in \u001b[36mAsyncClient.send\u001b[39m\u001b[34m(self, request, stream, auth, follow_redirects)\u001b[39m\n\u001b[32m   1627\u001b[39m auth = \u001b[38;5;28mself\u001b[39m._build_request_auth(request, auth)\n\u001b[32m-> \u001b[39m\u001b[32m1629\u001b[39m response = \u001b[38;5;28;01mawait\u001b[39;00m \u001b[38;5;28mself\u001b[39m._send_handling_auth(\n\u001b[32m   1630\u001b[39m     request,\n\u001b[32m   1631\u001b[39m     auth=auth,\n\u001b[32m   1632\u001b[39m     follow_redirects=follow_redirects,\n\u001b[32m   1633\u001b[39m     history=[],\n\u001b[32m   1634\u001b[39m )\n\u001b[32m   1635\u001b[39m \u001b[38;5;28;01mtry\u001b[39;00m:\n",
      "\u001b[36mFile \u001b[39m\u001b[32m~\\anaconda3\\envs\\WIKIbench\\Lib\\site-packages\\httpx\\_client.py:1657\u001b[39m, in \u001b[36mAsyncClient._send_handling_auth\u001b[39m\u001b[34m(self, request, auth, follow_redirects, history)\u001b[39m\n\u001b[32m   1656\u001b[39m \u001b[38;5;28;01mwhile\u001b[39;00m \u001b[38;5;28;01mTrue\u001b[39;00m:\n\u001b[32m-> \u001b[39m\u001b[32m1657\u001b[39m     response = \u001b[38;5;28;01mawait\u001b[39;00m \u001b[38;5;28mself\u001b[39m._send_handling_redirects(\n\u001b[32m   1658\u001b[39m         request,\n\u001b[32m   1659\u001b[39m         follow_redirects=follow_redirects,\n\u001b[32m   1660\u001b[39m         history=history,\n\u001b[32m   1661\u001b[39m     )\n\u001b[32m   1662\u001b[39m     \u001b[38;5;28;01mtry\u001b[39;00m:\n",
      "\u001b[36mFile \u001b[39m\u001b[32m~\\anaconda3\\envs\\WIKIbench\\Lib\\site-packages\\httpx\\_client.py:1694\u001b[39m, in \u001b[36mAsyncClient._send_handling_redirects\u001b[39m\u001b[34m(self, request, follow_redirects, history)\u001b[39m\n\u001b[32m   1692\u001b[39m     \u001b[38;5;28;01mawait\u001b[39;00m hook(request)\n\u001b[32m-> \u001b[39m\u001b[32m1694\u001b[39m response = \u001b[38;5;28;01mawait\u001b[39;00m \u001b[38;5;28mself\u001b[39m._send_single_request(request)\n\u001b[32m   1695\u001b[39m \u001b[38;5;28;01mtry\u001b[39;00m:\n",
      "\u001b[36mFile \u001b[39m\u001b[32m~\\anaconda3\\envs\\WIKIbench\\Lib\\site-packages\\httpx\\_client.py:1730\u001b[39m, in \u001b[36mAsyncClient._send_single_request\u001b[39m\u001b[34m(self, request)\u001b[39m\n\u001b[32m   1729\u001b[39m \u001b[38;5;28;01mwith\u001b[39;00m request_context(request=request):\n\u001b[32m-> \u001b[39m\u001b[32m1730\u001b[39m     response = \u001b[38;5;28;01mawait\u001b[39;00m transport.handle_async_request(request)\n\u001b[32m   1732\u001b[39m \u001b[38;5;28;01massert\u001b[39;00m \u001b[38;5;28misinstance\u001b[39m(response.stream, AsyncByteStream)\n",
      "\u001b[36mFile \u001b[39m\u001b[32m~\\anaconda3\\envs\\WIKIbench\\Lib\\site-packages\\httpx\\_transports\\default.py:393\u001b[39m, in \u001b[36mAsyncHTTPTransport.handle_async_request\u001b[39m\u001b[34m(self, request)\u001b[39m\n\u001b[32m    381\u001b[39m req = httpcore.Request(\n\u001b[32m    382\u001b[39m     method=request.method,\n\u001b[32m    383\u001b[39m     url=httpcore.URL(\n\u001b[32m   (...)\u001b[39m\u001b[32m    391\u001b[39m     extensions=request.extensions,\n\u001b[32m    392\u001b[39m )\n\u001b[32m--> \u001b[39m\u001b[32m393\u001b[39m \u001b[38;5;28;01mwith\u001b[39;00m map_httpcore_exceptions():\n\u001b[32m    394\u001b[39m     resp = \u001b[38;5;28;01mawait\u001b[39;00m \u001b[38;5;28mself\u001b[39m._pool.handle_async_request(req)\n",
      "\u001b[36mFile \u001b[39m\u001b[32m~\\anaconda3\\envs\\WIKIbench\\Lib\\contextlib.py:158\u001b[39m, in \u001b[36m_GeneratorContextManager.__exit__\u001b[39m\u001b[34m(self, typ, value, traceback)\u001b[39m\n\u001b[32m    157\u001b[39m \u001b[38;5;28;01mtry\u001b[39;00m:\n\u001b[32m--> \u001b[39m\u001b[32m158\u001b[39m     \u001b[38;5;28;43mself\u001b[39;49m\u001b[43m.\u001b[49m\u001b[43mgen\u001b[49m\u001b[43m.\u001b[49m\u001b[43mthrow\u001b[49m\u001b[43m(\u001b[49m\u001b[43mvalue\u001b[49m\u001b[43m)\u001b[49m\n\u001b[32m    159\u001b[39m \u001b[38;5;28;01mexcept\u001b[39;00m \u001b[38;5;167;01mStopIteration\u001b[39;00m \u001b[38;5;28;01mas\u001b[39;00m exc:\n\u001b[32m    160\u001b[39m     \u001b[38;5;66;03m# Suppress StopIteration *unless* it's the same exception that\u001b[39;00m\n\u001b[32m    161\u001b[39m     \u001b[38;5;66;03m# was passed to throw().  This prevents a StopIteration\u001b[39;00m\n\u001b[32m    162\u001b[39m     \u001b[38;5;66;03m# raised inside the \"with\" statement from being suppressed.\u001b[39;00m\n",
      "\u001b[36mFile \u001b[39m\u001b[32m~\\anaconda3\\envs\\WIKIbench\\Lib\\site-packages\\httpx\\_transports\\default.py:118\u001b[39m, in \u001b[36mmap_httpcore_exceptions\u001b[39m\u001b[34m()\u001b[39m\n\u001b[32m    117\u001b[39m message = \u001b[38;5;28mstr\u001b[39m(exc)\n\u001b[32m--> \u001b[39m\u001b[32m118\u001b[39m \u001b[38;5;28;01mraise\u001b[39;00m mapped_exc(message) \u001b[38;5;28;01mfrom\u001b[39;00m\u001b[38;5;250m \u001b[39m\u001b[34;01mexc\u001b[39;00m\n",
      "\u001b[31mRemoteProtocolError\u001b[39m: Server disconnected without sending a response.",
      "\nThe above exception was the direct cause of the following exception:\n",
      "\u001b[31mAPIConnectionError\u001b[39m                        Traceback (most recent call last)",
      "\u001b[36mCell\u001b[39m\u001b[36m \u001b[39m\u001b[32mIn[5]\u001b[39m\u001b[32m, line 1\u001b[39m\n\u001b[32m----> \u001b[39m\u001b[32m1\u001b[39m \u001b[38;5;28;01mawait\u001b[39;00m main()\n",
      "\u001b[36mCell\u001b[39m\u001b[36m \u001b[39m\u001b[32mIn[4]\u001b[39m\u001b[32m, line 16\u001b[39m, in \u001b[36mmain\u001b[39m\u001b[34m()\u001b[39m\n\u001b[32m     13\u001b[39m \u001b[38;5;28;01mfor\u001b[39;00m name \u001b[38;5;129;01min\u001b[39;00m model_names:\n\u001b[32m     14\u001b[39m     models.append(run_bench_for_model(url, key, name, device, encoder))\n\u001b[32m---> \u001b[39m\u001b[32m16\u001b[39m \u001b[38;5;28;01mawait\u001b[39;00m models.complete_couroutines(batch_size=\u001b[32m6\u001b[39m)\n\u001b[32m     17\u001b[39m models = \u001b[38;5;28;01mawait\u001b[39;00m models.to_list()\n",
      "\u001b[36mFile \u001b[39m\u001b[32m~\\WIKIBENCH\\src\\openai_utils.py:119\u001b[39m, in \u001b[36mAsyncList.complete_couroutines\u001b[39m\u001b[34m(self, batch_size)\u001b[39m\n\u001b[32m    117\u001b[39m \u001b[38;5;28;01mwhile\u001b[39;00m \u001b[38;5;28mlen\u001b[39m(\u001b[38;5;28mself\u001b[39m.couroutine_ids) > \u001b[32m0\u001b[39m:\n\u001b[32m    118\u001b[39m     tasks = [\u001b[38;5;28mself\u001b[39m.contents[i] \u001b[38;5;28;01mfor\u001b[39;00m i \u001b[38;5;129;01min\u001b[39;00m \u001b[38;5;28mself\u001b[39m.couroutine_ids[:batch_size]]\n\u001b[32m--> \u001b[39m\u001b[32m119\u001b[39m     res = \u001b[38;5;28;01mawait\u001b[39;00m asyncio.gather(*tasks)\n\u001b[32m    120\u001b[39m     \u001b[38;5;28;01mfor\u001b[39;00m i, r \u001b[38;5;129;01min\u001b[39;00m \u001b[38;5;28mzip\u001b[39m(\u001b[38;5;28mself\u001b[39m.couroutine_ids, res):\n\u001b[32m    121\u001b[39m         \u001b[38;5;28mself\u001b[39m.contents[i] = r\n",
      "\u001b[36mCell\u001b[39m\u001b[36m \u001b[39m\u001b[32mIn[3]\u001b[39m\u001b[32m, line 43\u001b[39m, in \u001b[36mrun_bench_for_model\u001b[39m\u001b[34m(url, api_key, model_name, device, encoder, out_dir, reference_mode, neighbor_count, description_mode, mode)\u001b[39m\n\u001b[32m     40\u001b[39m \u001b[38;5;28mprint\u001b[39m(\u001b[33mf\u001b[39m\u001b[33m\"\u001b[39m\u001b[33m[\u001b[39m\u001b[38;5;132;01m{\u001b[39;00mmodel_name\u001b[38;5;132;01m}\u001b[39;00m\u001b[33m] — планы готовы\u001b[39m\u001b[33m\"\u001b[39m)\n\u001b[32m     42\u001b[39m \u001b[38;5;66;03m# ---------- секции статей ----------\u001b[39;00m\n\u001b[32m---> \u001b[39m\u001b[32m43\u001b[39m \u001b[38;5;28;01masync\u001b[39;00m \u001b[38;5;28;01mfor\u001b[39;00m article_name, item \u001b[38;5;129;01min\u001b[39;00m bench.sections_stream():\n\u001b[32m     44\u001b[39m     \u001b[38;5;28;01mawait\u001b[39;00m f.write(_as_jsonl(model_name, article_name, \u001b[33m\"\u001b[39m\u001b[33msection\u001b[39m\u001b[33m\"\u001b[39m, item, \u001b[33m'\u001b[39m\u001b[33m'\u001b[39m, \u001b[38;5;28;01mTrue\u001b[39;00m))\n\u001b[32m     45\u001b[39m \u001b[38;5;28mprint\u001b[39m(\u001b[33mf\u001b[39m\u001b[33m\"\u001b[39m\u001b[33m[\u001b[39m\u001b[38;5;132;01m{\u001b[39;00mmodel_name\u001b[38;5;132;01m}\u001b[39;00m\u001b[33m] — секции готовы\u001b[39m\u001b[33m\"\u001b[39m)\n",
      "\u001b[36mFile \u001b[39m\u001b[32m~\\WIKIBENCH\\src\\wiki_bench.py:161\u001b[39m, in \u001b[36mWikiBench.sections_stream\u001b[39m\u001b[34m(self)\u001b[39m\n\u001b[32m    158\u001b[39m \u001b[38;5;28;01mfor\u001b[39;00m name \u001b[38;5;129;01min\u001b[39;00m \u001b[38;5;28mself\u001b[39m.article_names:\n\u001b[32m    159\u001b[39m     \u001b[38;5;66;03m#print(name)\u001b[39;00m\n\u001b[32m    160\u001b[39m     page = \u001b[38;5;28mself\u001b[39m.get_article(name, \u001b[38;5;28;01mFalse\u001b[39;00m, \u001b[38;5;28;01mTrue\u001b[39;00m)\n\u001b[32m--> \u001b[39m\u001b[32m161\u001b[39m     sections = \u001b[38;5;28;01mawait\u001b[39;00m \u001b[38;5;28mself\u001b[39m.wiki_agent.create_sections(page)\n\u001b[32m    162\u001b[39m     \u001b[38;5;28;01myield\u001b[39;00m name, sections\n",
      "\u001b[36mFile \u001b[39m\u001b[32m~\\WIKIBENCH\\src\\wiki_agent.py:242\u001b[39m, in \u001b[36mWikiAgent.create_sections\u001b[39m\u001b[34m(self, page)\u001b[39m\n\u001b[32m    240\u001b[39m     secs.append(section)\n\u001b[32m    241\u001b[39m     \u001b[38;5;66;03m#break\u001b[39;00m\n\u001b[32m--> \u001b[39m\u001b[32m242\u001b[39m \u001b[38;5;28;01mawait\u001b[39;00m sections.complete_couroutines(batch_size=\u001b[32m4\u001b[39m)\n\u001b[32m    243\u001b[39m sections = \u001b[38;5;28;01mawait\u001b[39;00m sections.to_list()\n\u001b[32m    244\u001b[39m result = {}\n",
      "\u001b[36mFile \u001b[39m\u001b[32m~\\WIKIBENCH\\src\\openai_utils.py:119\u001b[39m, in \u001b[36mAsyncList.complete_couroutines\u001b[39m\u001b[34m(self, batch_size)\u001b[39m\n\u001b[32m    117\u001b[39m \u001b[38;5;28;01mwhile\u001b[39;00m \u001b[38;5;28mlen\u001b[39m(\u001b[38;5;28mself\u001b[39m.couroutine_ids) > \u001b[32m0\u001b[39m:\n\u001b[32m    118\u001b[39m     tasks = [\u001b[38;5;28mself\u001b[39m.contents[i] \u001b[38;5;28;01mfor\u001b[39;00m i \u001b[38;5;129;01min\u001b[39;00m \u001b[38;5;28mself\u001b[39m.couroutine_ids[:batch_size]]\n\u001b[32m--> \u001b[39m\u001b[32m119\u001b[39m     res = \u001b[38;5;28;01mawait\u001b[39;00m asyncio.gather(*tasks)\n\u001b[32m    120\u001b[39m     \u001b[38;5;28;01mfor\u001b[39;00m i, r \u001b[38;5;129;01min\u001b[39;00m \u001b[38;5;28mzip\u001b[39m(\u001b[38;5;28mself\u001b[39m.couroutine_ids, res):\n\u001b[32m    121\u001b[39m         \u001b[38;5;28mself\u001b[39m.contents[i] = r\n",
      "\u001b[36mFile \u001b[39m\u001b[32m~\\WIKIBENCH\\src\\wiki_agent.py:229\u001b[39m, in \u001b[36mWikiAgent.get_section\u001b[39m\u001b[34m(self, section, snips, page)\u001b[39m\n\u001b[32m    226\u001b[39m summarized_snippets = \u001b[38;5;28;01mawait\u001b[39;00m \u001b[38;5;28mself\u001b[39m.client.summarize_groups(filtered_snippets)\n\u001b[32m    227\u001b[39m \u001b[38;5;66;03m#print('Number of grouped snippets: ', len(summarized_snippets))\u001b[39;00m\n\u001b[32m    228\u001b[39m \u001b[38;5;66;03m#print('Generation section')\u001b[39;00m\n\u001b[32m--> \u001b[39m\u001b[32m229\u001b[39m generated_text = \u001b[38;5;28;01mawait\u001b[39;00m \u001b[38;5;28mself\u001b[39m.client.generate_section(section, summarized_snippets, page.name)\n\u001b[32m    230\u001b[39m \u001b[38;5;66;03m#print('Generated for section (hr): ', section)\u001b[39;00m\n\u001b[32m    231\u001b[39m \u001b[38;5;28;01mreturn\u001b[39;00m generated_text\n",
      "\u001b[36mFile \u001b[39m\u001b[32m~\\WIKIBENCH\\src\\wiki_gen.py:465\u001b[39m, in \u001b[36mWikiGen.generate_section\u001b[39m\u001b[34m(self, section, snippets, name)\u001b[39m\n\u001b[32m    462\u001b[39m         snippet_text = \u001b[33m\"\u001b[39m\u001b[38;5;130;01m\\n\u001b[39;00m\u001b[33m\"\u001b[39m.join(group)\n\u001b[32m    463\u001b[39m         next_summaries.append(\u001b[38;5;28mself\u001b[39m.get_description(name, section, snippet_text))\n\u001b[32m--> \u001b[39m\u001b[32m465\u001b[39m     \u001b[38;5;28;01mawait\u001b[39;00m next_summaries.complete_couroutines(batch_size=\u001b[32m10\u001b[39m)\n\u001b[32m    466\u001b[39m     summaries = \u001b[38;5;28;01mawait\u001b[39;00m next_summaries.to_list()\n\u001b[32m    468\u001b[39m \u001b[38;5;28;01mreturn\u001b[39;00m summaries[\u001b[32m0\u001b[39m]\n",
      "\u001b[36mFile \u001b[39m\u001b[32m~\\WIKIBENCH\\src\\openai_utils.py:119\u001b[39m, in \u001b[36mAsyncList.complete_couroutines\u001b[39m\u001b[34m(self, batch_size)\u001b[39m\n\u001b[32m    117\u001b[39m \u001b[38;5;28;01mwhile\u001b[39;00m \u001b[38;5;28mlen\u001b[39m(\u001b[38;5;28mself\u001b[39m.couroutine_ids) > \u001b[32m0\u001b[39m:\n\u001b[32m    118\u001b[39m     tasks = [\u001b[38;5;28mself\u001b[39m.contents[i] \u001b[38;5;28;01mfor\u001b[39;00m i \u001b[38;5;129;01min\u001b[39;00m \u001b[38;5;28mself\u001b[39m.couroutine_ids[:batch_size]]\n\u001b[32m--> \u001b[39m\u001b[32m119\u001b[39m     res = \u001b[38;5;28;01mawait\u001b[39;00m asyncio.gather(*tasks)\n\u001b[32m    120\u001b[39m     \u001b[38;5;28;01mfor\u001b[39;00m i, r \u001b[38;5;129;01min\u001b[39;00m \u001b[38;5;28mzip\u001b[39m(\u001b[38;5;28mself\u001b[39m.couroutine_ids, res):\n\u001b[32m    121\u001b[39m         \u001b[38;5;28mself\u001b[39m.contents[i] = r\n",
      "\u001b[36mFile \u001b[39m\u001b[32m~\\WIKIBENCH\\src\\wiki_gen.py:452\u001b[39m, in \u001b[36mWikiGen.get_description\u001b[39m\u001b[34m(self, name, section, combined_text)\u001b[39m\n\u001b[32m    450\u001b[39m \u001b[38;5;28;01masync\u001b[39;00m \u001b[38;5;28;01mdef\u001b[39;00m\u001b[38;5;250m \u001b[39m\u001b[34mget_description\u001b[39m(\u001b[38;5;28mself\u001b[39m, name, section, combined_text):\n\u001b[32m    451\u001b[39m     myprompt = SUMMARIZATION_PROMPT.format(name, section[\u001b[32m1\u001b[39m], combined_text) + \u001b[38;5;28mself\u001b[39m.thinking_pass\n\u001b[32m--> \u001b[39m\u001b[32m452\u001b[39m     res = \u001b[38;5;28;01mawait\u001b[39;00m \u001b[38;5;28mself\u001b[39m.client.get_completion(myprompt)\n\u001b[32m    453\u001b[39m     response = \u001b[38;5;28mself\u001b[39m.extract_response(res)\n\u001b[32m    454\u001b[39m     \u001b[38;5;28;01mreturn\u001b[39;00m response\n",
      "\u001b[36mFile \u001b[39m\u001b[32m~\\WIKIBENCH\\src\\openai_utils.py:67\u001b[39m, in \u001b[36mLlmCompleter.get_completion\u001b[39m\u001b[34m(self, query, system, examples, choices, rep_penalty, regex_pattern, max_tokens, use_beam_search, beam_width, answer_prefix)\u001b[39m\n\u001b[32m     50\u001b[39m     beam_width = \u001b[38;5;28mmax\u001b[39m(\u001b[32m3\u001b[39m, beam_width)\n\u001b[32m     51\u001b[39m completion = \u001b[38;5;28mself\u001b[39m.client.chat.completions.create(\n\u001b[32m     52\u001b[39m     model=\u001b[38;5;28mself\u001b[39m.model,\n\u001b[32m     53\u001b[39m     messages=msgs,\n\u001b[32m   (...)\u001b[39m\u001b[32m     65\u001b[39m     }\n\u001b[32m     66\u001b[39m )\n\u001b[32m---> \u001b[39m\u001b[32m67\u001b[39m response = \u001b[38;5;28;01mawait\u001b[39;00m completion\n\u001b[32m     68\u001b[39m \u001b[38;5;28;01mreturn\u001b[39;00m response\n",
      "\u001b[36mFile \u001b[39m\u001b[32m~\\anaconda3\\envs\\WIKIbench\\Lib\\site-packages\\openai\\resources\\chat\\completions.py:1661\u001b[39m, in \u001b[36mAsyncCompletions.create\u001b[39m\u001b[34m(self, messages, model, audio, frequency_penalty, function_call, functions, logit_bias, logprobs, max_completion_tokens, max_tokens, metadata, modalities, n, parallel_tool_calls, prediction, presence_penalty, response_format, seed, service_tier, stop, store, stream, stream_options, temperature, tool_choice, tools, top_logprobs, top_p, user, extra_headers, extra_query, extra_body, timeout)\u001b[39m\n\u001b[32m   1620\u001b[39m \u001b[38;5;129m@required_args\u001b[39m([\u001b[33m\"\u001b[39m\u001b[33mmessages\u001b[39m\u001b[33m\"\u001b[39m, \u001b[33m\"\u001b[39m\u001b[33mmodel\u001b[39m\u001b[33m\"\u001b[39m], [\u001b[33m\"\u001b[39m\u001b[33mmessages\u001b[39m\u001b[33m\"\u001b[39m, \u001b[33m\"\u001b[39m\u001b[33mmodel\u001b[39m\u001b[33m\"\u001b[39m, \u001b[33m\"\u001b[39m\u001b[33mstream\u001b[39m\u001b[33m\"\u001b[39m])\n\u001b[32m   1621\u001b[39m \u001b[38;5;28;01masync\u001b[39;00m \u001b[38;5;28;01mdef\u001b[39;00m\u001b[38;5;250m \u001b[39m\u001b[34mcreate\u001b[39m(\n\u001b[32m   1622\u001b[39m     \u001b[38;5;28mself\u001b[39m,\n\u001b[32m   (...)\u001b[39m\u001b[32m   1658\u001b[39m     timeout: \u001b[38;5;28mfloat\u001b[39m | httpx.Timeout | \u001b[38;5;28;01mNone\u001b[39;00m | NotGiven = NOT_GIVEN,\n\u001b[32m   1659\u001b[39m ) -> ChatCompletion | AsyncStream[ChatCompletionChunk]:\n\u001b[32m   1660\u001b[39m     validate_response_format(response_format)\n\u001b[32m-> \u001b[39m\u001b[32m1661\u001b[39m     \u001b[38;5;28;01mreturn\u001b[39;00m \u001b[38;5;28;01mawait\u001b[39;00m \u001b[38;5;28mself\u001b[39m._post(\n\u001b[32m   1662\u001b[39m         \u001b[33m\"\u001b[39m\u001b[33m/chat/completions\u001b[39m\u001b[33m\"\u001b[39m,\n\u001b[32m   1663\u001b[39m         body=\u001b[38;5;28;01mawait\u001b[39;00m async_maybe_transform(\n\u001b[32m   1664\u001b[39m             {\n\u001b[32m   1665\u001b[39m                 \u001b[33m\"\u001b[39m\u001b[33mmessages\u001b[39m\u001b[33m\"\u001b[39m: messages,\n\u001b[32m   1666\u001b[39m                 \u001b[33m\"\u001b[39m\u001b[33mmodel\u001b[39m\u001b[33m\"\u001b[39m: model,\n\u001b[32m   1667\u001b[39m                 \u001b[33m\"\u001b[39m\u001b[33maudio\u001b[39m\u001b[33m\"\u001b[39m: audio,\n\u001b[32m   1668\u001b[39m                 \u001b[33m\"\u001b[39m\u001b[33mfrequency_penalty\u001b[39m\u001b[33m\"\u001b[39m: frequency_penalty,\n\u001b[32m   1669\u001b[39m                 \u001b[33m\"\u001b[39m\u001b[33mfunction_call\u001b[39m\u001b[33m\"\u001b[39m: function_call,\n\u001b[32m   1670\u001b[39m                 \u001b[33m\"\u001b[39m\u001b[33mfunctions\u001b[39m\u001b[33m\"\u001b[39m: functions,\n\u001b[32m   1671\u001b[39m                 \u001b[33m\"\u001b[39m\u001b[33mlogit_bias\u001b[39m\u001b[33m\"\u001b[39m: logit_bias,\n\u001b[32m   1672\u001b[39m                 \u001b[33m\"\u001b[39m\u001b[33mlogprobs\u001b[39m\u001b[33m\"\u001b[39m: logprobs,\n\u001b[32m   1673\u001b[39m                 \u001b[33m\"\u001b[39m\u001b[33mmax_completion_tokens\u001b[39m\u001b[33m\"\u001b[39m: max_completion_tokens,\n\u001b[32m   1674\u001b[39m                 \u001b[33m\"\u001b[39m\u001b[33mmax_tokens\u001b[39m\u001b[33m\"\u001b[39m: max_tokens,\n\u001b[32m   1675\u001b[39m                 \u001b[33m\"\u001b[39m\u001b[33mmetadata\u001b[39m\u001b[33m\"\u001b[39m: metadata,\n\u001b[32m   1676\u001b[39m                 \u001b[33m\"\u001b[39m\u001b[33mmodalities\u001b[39m\u001b[33m\"\u001b[39m: modalities,\n\u001b[32m   1677\u001b[39m                 \u001b[33m\"\u001b[39m\u001b[33mn\u001b[39m\u001b[33m\"\u001b[39m: n,\n\u001b[32m   1678\u001b[39m                 \u001b[33m\"\u001b[39m\u001b[33mparallel_tool_calls\u001b[39m\u001b[33m\"\u001b[39m: parallel_tool_calls,\n\u001b[32m   1679\u001b[39m                 \u001b[33m\"\u001b[39m\u001b[33mprediction\u001b[39m\u001b[33m\"\u001b[39m: prediction,\n\u001b[32m   1680\u001b[39m                 \u001b[33m\"\u001b[39m\u001b[33mpresence_penalty\u001b[39m\u001b[33m\"\u001b[39m: presence_penalty,\n\u001b[32m   1681\u001b[39m                 \u001b[33m\"\u001b[39m\u001b[33mresponse_format\u001b[39m\u001b[33m\"\u001b[39m: response_format,\n\u001b[32m   1682\u001b[39m                 \u001b[33m\"\u001b[39m\u001b[33mseed\u001b[39m\u001b[33m\"\u001b[39m: seed,\n\u001b[32m   1683\u001b[39m                 \u001b[33m\"\u001b[39m\u001b[33mservice_tier\u001b[39m\u001b[33m\"\u001b[39m: service_tier,\n\u001b[32m   1684\u001b[39m                 \u001b[33m\"\u001b[39m\u001b[33mstop\u001b[39m\u001b[33m\"\u001b[39m: stop,\n\u001b[32m   1685\u001b[39m                 \u001b[33m\"\u001b[39m\u001b[33mstore\u001b[39m\u001b[33m\"\u001b[39m: store,\n\u001b[32m   1686\u001b[39m                 \u001b[33m\"\u001b[39m\u001b[33mstream\u001b[39m\u001b[33m\"\u001b[39m: stream,\n\u001b[32m   1687\u001b[39m                 \u001b[33m\"\u001b[39m\u001b[33mstream_options\u001b[39m\u001b[33m\"\u001b[39m: stream_options,\n\u001b[32m   1688\u001b[39m                 \u001b[33m\"\u001b[39m\u001b[33mtemperature\u001b[39m\u001b[33m\"\u001b[39m: temperature,\n\u001b[32m   1689\u001b[39m                 \u001b[33m\"\u001b[39m\u001b[33mtool_choice\u001b[39m\u001b[33m\"\u001b[39m: tool_choice,\n\u001b[32m   1690\u001b[39m                 \u001b[33m\"\u001b[39m\u001b[33mtools\u001b[39m\u001b[33m\"\u001b[39m: tools,\n\u001b[32m   1691\u001b[39m                 \u001b[33m\"\u001b[39m\u001b[33mtop_logprobs\u001b[39m\u001b[33m\"\u001b[39m: top_logprobs,\n\u001b[32m   1692\u001b[39m                 \u001b[33m\"\u001b[39m\u001b[33mtop_p\u001b[39m\u001b[33m\"\u001b[39m: top_p,\n\u001b[32m   1693\u001b[39m                 \u001b[33m\"\u001b[39m\u001b[33muser\u001b[39m\u001b[33m\"\u001b[39m: user,\n\u001b[32m   1694\u001b[39m             },\n\u001b[32m   1695\u001b[39m             completion_create_params.CompletionCreateParams,\n\u001b[32m   1696\u001b[39m         ),\n\u001b[32m   1697\u001b[39m         options=make_request_options(\n\u001b[32m   1698\u001b[39m             extra_headers=extra_headers, extra_query=extra_query, extra_body=extra_body, timeout=timeout\n\u001b[32m   1699\u001b[39m         ),\n\u001b[32m   1700\u001b[39m         cast_to=ChatCompletion,\n\u001b[32m   1701\u001b[39m         stream=stream \u001b[38;5;129;01mor\u001b[39;00m \u001b[38;5;28;01mFalse\u001b[39;00m,\n\u001b[32m   1702\u001b[39m         stream_cls=AsyncStream[ChatCompletionChunk],\n\u001b[32m   1703\u001b[39m     )\n",
      "\u001b[36mFile \u001b[39m\u001b[32m~\\anaconda3\\envs\\WIKIbench\\Lib\\site-packages\\openai\\_base_client.py:1843\u001b[39m, in \u001b[36mAsyncAPIClient.post\u001b[39m\u001b[34m(self, path, cast_to, body, files, options, stream, stream_cls)\u001b[39m\n\u001b[32m   1829\u001b[39m \u001b[38;5;28;01masync\u001b[39;00m \u001b[38;5;28;01mdef\u001b[39;00m\u001b[38;5;250m \u001b[39m\u001b[34mpost\u001b[39m(\n\u001b[32m   1830\u001b[39m     \u001b[38;5;28mself\u001b[39m,\n\u001b[32m   1831\u001b[39m     path: \u001b[38;5;28mstr\u001b[39m,\n\u001b[32m   (...)\u001b[39m\u001b[32m   1838\u001b[39m     stream_cls: \u001b[38;5;28mtype\u001b[39m[_AsyncStreamT] | \u001b[38;5;28;01mNone\u001b[39;00m = \u001b[38;5;28;01mNone\u001b[39;00m,\n\u001b[32m   1839\u001b[39m ) -> ResponseT | _AsyncStreamT:\n\u001b[32m   1840\u001b[39m     opts = FinalRequestOptions.construct(\n\u001b[32m   1841\u001b[39m         method=\u001b[33m\"\u001b[39m\u001b[33mpost\u001b[39m\u001b[33m\"\u001b[39m, url=path, json_data=body, files=\u001b[38;5;28;01mawait\u001b[39;00m async_to_httpx_files(files), **options\n\u001b[32m   1842\u001b[39m     )\n\u001b[32m-> \u001b[39m\u001b[32m1843\u001b[39m     \u001b[38;5;28;01mreturn\u001b[39;00m \u001b[38;5;28;01mawait\u001b[39;00m \u001b[38;5;28mself\u001b[39m.request(cast_to, opts, stream=stream, stream_cls=stream_cls)\n",
      "\u001b[36mFile \u001b[39m\u001b[32m~\\anaconda3\\envs\\WIKIbench\\Lib\\site-packages\\openai\\_base_client.py:1537\u001b[39m, in \u001b[36mAsyncAPIClient.request\u001b[39m\u001b[34m(self, cast_to, options, stream, stream_cls, remaining_retries)\u001b[39m\n\u001b[32m   1534\u001b[39m \u001b[38;5;28;01melse\u001b[39;00m:\n\u001b[32m   1535\u001b[39m     retries_taken = \u001b[32m0\u001b[39m\n\u001b[32m-> \u001b[39m\u001b[32m1537\u001b[39m \u001b[38;5;28;01mreturn\u001b[39;00m \u001b[38;5;28;01mawait\u001b[39;00m \u001b[38;5;28mself\u001b[39m._request(\n\u001b[32m   1538\u001b[39m     cast_to=cast_to,\n\u001b[32m   1539\u001b[39m     options=options,\n\u001b[32m   1540\u001b[39m     stream=stream,\n\u001b[32m   1541\u001b[39m     stream_cls=stream_cls,\n\u001b[32m   1542\u001b[39m     retries_taken=retries_taken,\n\u001b[32m   1543\u001b[39m )\n",
      "\u001b[36mFile \u001b[39m\u001b[32m~\\anaconda3\\envs\\WIKIbench\\Lib\\site-packages\\openai\\_base_client.py:1600\u001b[39m, in \u001b[36mAsyncAPIClient._request\u001b[39m\u001b[34m(self, cast_to, options, stream, stream_cls, retries_taken)\u001b[39m\n\u001b[32m   1597\u001b[39m log.debug(\u001b[33m\"\u001b[39m\u001b[33mEncountered Exception\u001b[39m\u001b[33m\"\u001b[39m, exc_info=\u001b[38;5;28;01mTrue\u001b[39;00m)\n\u001b[32m   1599\u001b[39m \u001b[38;5;28;01mif\u001b[39;00m remaining_retries > \u001b[32m0\u001b[39m:\n\u001b[32m-> \u001b[39m\u001b[32m1600\u001b[39m     \u001b[38;5;28;01mreturn\u001b[39;00m \u001b[38;5;28;01mawait\u001b[39;00m \u001b[38;5;28mself\u001b[39m._retry_request(\n\u001b[32m   1601\u001b[39m         input_options,\n\u001b[32m   1602\u001b[39m         cast_to,\n\u001b[32m   1603\u001b[39m         retries_taken=retries_taken,\n\u001b[32m   1604\u001b[39m         stream=stream,\n\u001b[32m   1605\u001b[39m         stream_cls=stream_cls,\n\u001b[32m   1606\u001b[39m         response_headers=\u001b[38;5;28;01mNone\u001b[39;00m,\n\u001b[32m   1607\u001b[39m     )\n\u001b[32m   1609\u001b[39m log.debug(\u001b[33m\"\u001b[39m\u001b[33mRaising connection error\u001b[39m\u001b[33m\"\u001b[39m)\n\u001b[32m   1610\u001b[39m \u001b[38;5;28;01mraise\u001b[39;00m APIConnectionError(request=request) \u001b[38;5;28;01mfrom\u001b[39;00m\u001b[38;5;250m \u001b[39m\u001b[34;01merr\u001b[39;00m\n",
      "\u001b[36mFile \u001b[39m\u001b[32m~\\anaconda3\\envs\\WIKIbench\\Lib\\site-packages\\openai\\_base_client.py:1670\u001b[39m, in \u001b[36mAsyncAPIClient._retry_request\u001b[39m\u001b[34m(self, options, cast_to, retries_taken, response_headers, stream, stream_cls)\u001b[39m\n\u001b[32m   1666\u001b[39m log.info(\u001b[33m\"\u001b[39m\u001b[33mRetrying request to \u001b[39m\u001b[38;5;132;01m%s\u001b[39;00m\u001b[33m in \u001b[39m\u001b[38;5;132;01m%f\u001b[39;00m\u001b[33m seconds\u001b[39m\u001b[33m\"\u001b[39m, options.url, timeout)\n\u001b[32m   1668\u001b[39m \u001b[38;5;28;01mawait\u001b[39;00m anyio.sleep(timeout)\n\u001b[32m-> \u001b[39m\u001b[32m1670\u001b[39m \u001b[38;5;28;01mreturn\u001b[39;00m \u001b[38;5;28;01mawait\u001b[39;00m \u001b[38;5;28mself\u001b[39m._request(\n\u001b[32m   1671\u001b[39m     options=options,\n\u001b[32m   1672\u001b[39m     cast_to=cast_to,\n\u001b[32m   1673\u001b[39m     retries_taken=retries_taken + \u001b[32m1\u001b[39m,\n\u001b[32m   1674\u001b[39m     stream=stream,\n\u001b[32m   1675\u001b[39m     stream_cls=stream_cls,\n\u001b[32m   1676\u001b[39m )\n",
      "\u001b[36mFile \u001b[39m\u001b[32m~\\anaconda3\\envs\\WIKIbench\\Lib\\site-packages\\openai\\_base_client.py:1600\u001b[39m, in \u001b[36mAsyncAPIClient._request\u001b[39m\u001b[34m(self, cast_to, options, stream, stream_cls, retries_taken)\u001b[39m\n\u001b[32m   1597\u001b[39m log.debug(\u001b[33m\"\u001b[39m\u001b[33mEncountered Exception\u001b[39m\u001b[33m\"\u001b[39m, exc_info=\u001b[38;5;28;01mTrue\u001b[39;00m)\n\u001b[32m   1599\u001b[39m \u001b[38;5;28;01mif\u001b[39;00m remaining_retries > \u001b[32m0\u001b[39m:\n\u001b[32m-> \u001b[39m\u001b[32m1600\u001b[39m     \u001b[38;5;28;01mreturn\u001b[39;00m \u001b[38;5;28;01mawait\u001b[39;00m \u001b[38;5;28mself\u001b[39m._retry_request(\n\u001b[32m   1601\u001b[39m         input_options,\n\u001b[32m   1602\u001b[39m         cast_to,\n\u001b[32m   1603\u001b[39m         retries_taken=retries_taken,\n\u001b[32m   1604\u001b[39m         stream=stream,\n\u001b[32m   1605\u001b[39m         stream_cls=stream_cls,\n\u001b[32m   1606\u001b[39m         response_headers=\u001b[38;5;28;01mNone\u001b[39;00m,\n\u001b[32m   1607\u001b[39m     )\n\u001b[32m   1609\u001b[39m log.debug(\u001b[33m\"\u001b[39m\u001b[33mRaising connection error\u001b[39m\u001b[33m\"\u001b[39m)\n\u001b[32m   1610\u001b[39m \u001b[38;5;28;01mraise\u001b[39;00m APIConnectionError(request=request) \u001b[38;5;28;01mfrom\u001b[39;00m\u001b[38;5;250m \u001b[39m\u001b[34;01merr\u001b[39;00m\n",
      "\u001b[36mFile \u001b[39m\u001b[32m~\\anaconda3\\envs\\WIKIbench\\Lib\\site-packages\\openai\\_base_client.py:1670\u001b[39m, in \u001b[36mAsyncAPIClient._retry_request\u001b[39m\u001b[34m(self, options, cast_to, retries_taken, response_headers, stream, stream_cls)\u001b[39m\n\u001b[32m   1666\u001b[39m log.info(\u001b[33m\"\u001b[39m\u001b[33mRetrying request to \u001b[39m\u001b[38;5;132;01m%s\u001b[39;00m\u001b[33m in \u001b[39m\u001b[38;5;132;01m%f\u001b[39;00m\u001b[33m seconds\u001b[39m\u001b[33m\"\u001b[39m, options.url, timeout)\n\u001b[32m   1668\u001b[39m \u001b[38;5;28;01mawait\u001b[39;00m anyio.sleep(timeout)\n\u001b[32m-> \u001b[39m\u001b[32m1670\u001b[39m \u001b[38;5;28;01mreturn\u001b[39;00m \u001b[38;5;28;01mawait\u001b[39;00m \u001b[38;5;28mself\u001b[39m._request(\n\u001b[32m   1671\u001b[39m     options=options,\n\u001b[32m   1672\u001b[39m     cast_to=cast_to,\n\u001b[32m   1673\u001b[39m     retries_taken=retries_taken + \u001b[32m1\u001b[39m,\n\u001b[32m   1674\u001b[39m     stream=stream,\n\u001b[32m   1675\u001b[39m     stream_cls=stream_cls,\n\u001b[32m   1676\u001b[39m )\n",
      "\u001b[36mFile \u001b[39m\u001b[32m~\\anaconda3\\envs\\WIKIbench\\Lib\\site-packages\\openai\\_base_client.py:1610\u001b[39m, in \u001b[36mAsyncAPIClient._request\u001b[39m\u001b[34m(self, cast_to, options, stream, stream_cls, retries_taken)\u001b[39m\n\u001b[32m   1600\u001b[39m         \u001b[38;5;28;01mreturn\u001b[39;00m \u001b[38;5;28;01mawait\u001b[39;00m \u001b[38;5;28mself\u001b[39m._retry_request(\n\u001b[32m   1601\u001b[39m             input_options,\n\u001b[32m   1602\u001b[39m             cast_to,\n\u001b[32m   (...)\u001b[39m\u001b[32m   1606\u001b[39m             response_headers=\u001b[38;5;28;01mNone\u001b[39;00m,\n\u001b[32m   1607\u001b[39m         )\n\u001b[32m   1609\u001b[39m     log.debug(\u001b[33m\"\u001b[39m\u001b[33mRaising connection error\u001b[39m\u001b[33m\"\u001b[39m)\n\u001b[32m-> \u001b[39m\u001b[32m1610\u001b[39m     \u001b[38;5;28;01mraise\u001b[39;00m APIConnectionError(request=request) \u001b[38;5;28;01mfrom\u001b[39;00m\u001b[38;5;250m \u001b[39m\u001b[34;01merr\u001b[39;00m\n\u001b[32m   1612\u001b[39m log.debug(\n\u001b[32m   1613\u001b[39m     \u001b[33m'\u001b[39m\u001b[33mHTTP Request: \u001b[39m\u001b[38;5;132;01m%s\u001b[39;00m\u001b[33m \u001b[39m\u001b[38;5;132;01m%s\u001b[39;00m\u001b[33m \u001b[39m\u001b[33m\"\u001b[39m\u001b[38;5;132;01m%i\u001b[39;00m\u001b[33m \u001b[39m\u001b[38;5;132;01m%s\u001b[39;00m\u001b[33m\"\u001b[39m\u001b[33m'\u001b[39m, request.method, request.url, response.status_code, response.reason_phrase\n\u001b[32m   1614\u001b[39m )\n\u001b[32m   1616\u001b[39m \u001b[38;5;28;01mtry\u001b[39;00m:\n",
      "\u001b[31mAPIConnectionError\u001b[39m: Connection error."
     ]
    }
   ],
   "source": [
    "await main()"
   ]
  },
  {
   "cell_type": "code",
   "execution_count": null,
   "id": "86ce39cd-f66d-441f-89e9-2582c5c3cd14",
   "metadata": {},
   "outputs": [],
   "source": []
  }
 ],
 "metadata": {
  "kernelspec": {
   "display_name": "Python 3 (ipykernel)",
   "language": "python",
   "name": "python3"
  },
  "language_info": {
   "codemirror_mode": {
    "name": "ipython",
    "version": 3
   },
   "file_extension": ".py",
   "mimetype": "text/x-python",
   "name": "python",
   "nbconvert_exporter": "python",
   "pygments_lexer": "ipython3",
   "version": "3.12.9"
  }
 },
 "nbformat": 4,
 "nbformat_minor": 5
}
