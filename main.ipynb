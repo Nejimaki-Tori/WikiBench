{
 "cells": [
  {
   "cell_type": "code",
   "execution_count": 1,
   "id": "0b8632f9-b953-47c5-8045-542c52621be8",
   "metadata": {
    "scrolled": true
   },
   "outputs": [
    {
     "name": "stdout",
     "output_type": "stream",
     "text": [
      "Requirement already satisfied: wikipedia==1.4.0 in c:\\users\\dagri\\anaconda3\\lib\\site-packages (from -r requirements.txt (line 1)) (1.4.0)\n",
      "Requirement already satisfied: requests==2.28.0 in c:\\users\\dagri\\anaconda3\\lib\\site-packages (from -r requirements.txt (line 2)) (2.28.0)\n",
      "Requirement already satisfied: BeautifulSoup4==4.11.1 in c:\\users\\dagri\\anaconda3\\lib\\site-packages (from -r requirements.txt (line 3)) (4.11.1)\n",
      "Requirement already satisfied: Wikipedia-Api==0.5 in c:\\users\\dagri\\anaconda3\\lib\\site-packages (from -r requirements.txt (line 4)) (0.5.0)\n",
      "Requirement already satisfied: newspaper3k==0.2.8 in c:\\users\\dagri\\anaconda3\\lib\\site-packages (from -r requirements.txt (line 5)) (0.2.8)\n",
      "Requirement already satisfied: trafilatura==0.9.0 in c:\\users\\dagri\\anaconda3\\lib\\site-packages (from -r requirements.txt (line 6)) (0.9.0)\n",
      "Requirement already satisfied: lxml_html_clean==0.4.1 in c:\\users\\dagri\\anaconda3\\lib\\site-packages (from -r requirements.txt (line 7)) (0.4.1)\n",
      "Requirement already satisfied: tqdm==4.67.1 in c:\\users\\dagri\\anaconda3\\lib\\site-packages (from -r requirements.txt (line 8)) (4.67.1)\n",
      "Requirement already satisfied: openai==1.55.3 in c:\\users\\dagri\\anaconda3\\lib\\site-packages (from -r requirements.txt (line 9)) (1.55.3)\n",
      "Requirement already satisfied: httpx==0.27.2 in c:\\users\\dagri\\anaconda3\\lib\\site-packages (from -r requirements.txt (line 10)) (0.27.2)\n",
      "Requirement already satisfied: charset-normalizer~=2.0.0 in c:\\users\\dagri\\anaconda3\\lib\\site-packages (from requests==2.28.0->-r requirements.txt (line 2)) (2.0.12)\n",
      "Requirement already satisfied: idna<4,>=2.5 in c:\\users\\dagri\\anaconda3\\lib\\site-packages (from requests==2.28.0->-r requirements.txt (line 2)) (3.7)\n",
      "Requirement already satisfied: urllib3<1.27,>=1.21.1 in c:\\users\\dagri\\anaconda3\\lib\\site-packages (from requests==2.28.0->-r requirements.txt (line 2)) (1.26.20)\n",
      "Requirement already satisfied: certifi>=2017.4.17 in c:\\users\\dagri\\anaconda3\\lib\\site-packages (from requests==2.28.0->-r requirements.txt (line 2)) (2025.1.31)\n",
      "Requirement already satisfied: soupsieve>1.2 in c:\\users\\dagri\\anaconda3\\lib\\site-packages (from BeautifulSoup4==4.11.1->-r requirements.txt (line 3)) (2.5)\n",
      "Requirement already satisfied: Pillow>=3.3.0 in c:\\users\\dagri\\anaconda3\\lib\\site-packages (from newspaper3k==0.2.8->-r requirements.txt (line 5)) (11.1.0)\n",
      "Requirement already satisfied: PyYAML>=3.11 in c:\\users\\dagri\\anaconda3\\lib\\site-packages (from newspaper3k==0.2.8->-r requirements.txt (line 5)) (6.0.2)\n",
      "Requirement already satisfied: cssselect>=0.9.2 in c:\\users\\dagri\\anaconda3\\lib\\site-packages (from newspaper3k==0.2.8->-r requirements.txt (line 5)) (1.2.0)\n",
      "Requirement already satisfied: lxml>=3.6.0 in c:\\users\\dagri\\anaconda3\\lib\\site-packages (from newspaper3k==0.2.8->-r requirements.txt (line 5)) (5.3.0)\n",
      "Requirement already satisfied: nltk>=3.2.1 in c:\\users\\dagri\\anaconda3\\lib\\site-packages (from newspaper3k==0.2.8->-r requirements.txt (line 5)) (3.9.1)\n",
      "Requirement already satisfied: feedparser>=5.2.1 in c:\\users\\dagri\\anaconda3\\lib\\site-packages (from newspaper3k==0.2.8->-r requirements.txt (line 5)) (6.0.11)\n",
      "Requirement already satisfied: tldextract>=2.0.1 in c:\\users\\dagri\\anaconda3\\lib\\site-packages (from newspaper3k==0.2.8->-r requirements.txt (line 5)) (5.1.2)\n",
      "Requirement already satisfied: feedfinder2>=0.0.4 in c:\\users\\dagri\\anaconda3\\lib\\site-packages (from newspaper3k==0.2.8->-r requirements.txt (line 5)) (0.0.4)\n",
      "Requirement already satisfied: jieba3k>=0.35.1 in c:\\users\\dagri\\anaconda3\\lib\\site-packages (from newspaper3k==0.2.8->-r requirements.txt (line 5)) (0.35.1)\n",
      "Requirement already satisfied: python-dateutil>=2.5.3 in c:\\users\\dagri\\anaconda3\\lib\\site-packages (from newspaper3k==0.2.8->-r requirements.txt (line 5)) (2.9.0.post0)\n",
      "Requirement already satisfied: tinysegmenter==0.3 in c:\\users\\dagri\\anaconda3\\lib\\site-packages (from newspaper3k==0.2.8->-r requirements.txt (line 5)) (0.3)\n",
      "Requirement already satisfied: courlan>=0.4.1 in c:\\users\\dagri\\anaconda3\\lib\\site-packages (from trafilatura==0.9.0->-r requirements.txt (line 6)) (1.3.2)\n",
      "Requirement already satisfied: htmldate>=0.9.0 in c:\\users\\dagri\\anaconda3\\lib\\site-packages (from trafilatura==0.9.0->-r requirements.txt (line 6)) (1.2.3)\n",
      "Requirement already satisfied: justext>=2.2.0 in c:\\users\\dagri\\anaconda3\\lib\\site-packages (from trafilatura==0.9.0->-r requirements.txt (line 6)) (3.0.2)\n",
      "Requirement already satisfied: readability-lxml>=0.8.1 in c:\\users\\dagri\\anaconda3\\lib\\site-packages (from trafilatura==0.9.0->-r requirements.txt (line 6)) (0.8.1)\n",
      "Requirement already satisfied: chardet>=4.0.0 in c:\\users\\dagri\\anaconda3\\lib\\site-packages (from trafilatura==0.9.0->-r requirements.txt (line 6)) (4.0.0)\n",
      "Requirement already satisfied: colorama in c:\\users\\dagri\\anaconda3\\lib\\site-packages (from tqdm==4.67.1->-r requirements.txt (line 8)) (0.4.6)\n",
      "Requirement already satisfied: anyio<5,>=3.5.0 in c:\\users\\dagri\\anaconda3\\lib\\site-packages (from openai==1.55.3->-r requirements.txt (line 9)) (4.6.2)\n",
      "Requirement already satisfied: distro<2,>=1.7.0 in c:\\users\\dagri\\anaconda3\\lib\\site-packages (from openai==1.55.3->-r requirements.txt (line 9)) (1.9.0)\n",
      "Requirement already satisfied: jiter<1,>=0.4.0 in c:\\users\\dagri\\anaconda3\\lib\\site-packages (from openai==1.55.3->-r requirements.txt (line 9)) (0.9.0)\n",
      "Requirement already satisfied: pydantic<3,>=1.9.0 in c:\\users\\dagri\\anaconda3\\lib\\site-packages (from openai==1.55.3->-r requirements.txt (line 9)) (2.10.3)\n",
      "Requirement already satisfied: sniffio in c:\\users\\dagri\\anaconda3\\lib\\site-packages (from openai==1.55.3->-r requirements.txt (line 9)) (1.3.0)\n",
      "Requirement already satisfied: typing-extensions<5,>=4.11 in c:\\users\\dagri\\anaconda3\\lib\\site-packages (from openai==1.55.3->-r requirements.txt (line 9)) (4.12.2)\n",
      "Requirement already satisfied: httpcore==1.* in c:\\users\\dagri\\anaconda3\\lib\\site-packages (from httpx==0.27.2->-r requirements.txt (line 10)) (1.0.2)\n",
      "Requirement already satisfied: h11<0.15,>=0.13 in c:\\users\\dagri\\anaconda3\\lib\\site-packages (from httpcore==1.*->httpx==0.27.2->-r requirements.txt (line 10)) (0.14.0)\n",
      "Requirement already satisfied: babel>=2.16.0 in c:\\users\\dagri\\anaconda3\\lib\\site-packages (from courlan>=0.4.1->trafilatura==0.9.0->-r requirements.txt (line 6)) (2.16.0)\n",
      "Requirement already satisfied: tld>=0.13 in c:\\users\\dagri\\anaconda3\\lib\\site-packages (from courlan>=0.4.1->trafilatura==0.9.0->-r requirements.txt (line 6)) (0.13)\n",
      "Requirement already satisfied: six in c:\\users\\dagri\\anaconda3\\lib\\site-packages (from feedfinder2>=0.0.4->newspaper3k==0.2.8->-r requirements.txt (line 5)) (1.16.0)\n",
      "Requirement already satisfied: sgmllib3k in c:\\users\\dagri\\anaconda3\\lib\\site-packages (from feedparser>=5.2.1->newspaper3k==0.2.8->-r requirements.txt (line 5)) (1.0.0)\n",
      "Requirement already satisfied: dateparser>=1.1.1 in c:\\users\\dagri\\anaconda3\\lib\\site-packages (from htmldate>=0.9.0->trafilatura==0.9.0->-r requirements.txt (line 6)) (1.2.1)\n",
      "Requirement already satisfied: click in c:\\users\\dagri\\anaconda3\\lib\\site-packages (from nltk>=3.2.1->newspaper3k==0.2.8->-r requirements.txt (line 5)) (8.1.7)\n",
      "Requirement already satisfied: joblib in c:\\users\\dagri\\anaconda3\\lib\\site-packages (from nltk>=3.2.1->newspaper3k==0.2.8->-r requirements.txt (line 5)) (1.4.2)\n",
      "Requirement already satisfied: regex>=2021.8.3 in c:\\users\\dagri\\anaconda3\\lib\\site-packages (from nltk>=3.2.1->newspaper3k==0.2.8->-r requirements.txt (line 5)) (2024.11.6)\n",
      "Requirement already satisfied: annotated-types>=0.6.0 in c:\\users\\dagri\\anaconda3\\lib\\site-packages (from pydantic<3,>=1.9.0->openai==1.55.3->-r requirements.txt (line 9)) (0.6.0)\n",
      "Requirement already satisfied: pydantic-core==2.27.1 in c:\\users\\dagri\\anaconda3\\lib\\site-packages (from pydantic<3,>=1.9.0->openai==1.55.3->-r requirements.txt (line 9)) (2.27.1)\n",
      "Requirement already satisfied: requests-file>=1.4 in c:\\users\\dagri\\anaconda3\\lib\\site-packages (from tldextract>=2.0.1->newspaper3k==0.2.8->-r requirements.txt (line 5)) (1.5.1)\n",
      "Requirement already satisfied: filelock>=3.0.8 in c:\\users\\dagri\\anaconda3\\lib\\site-packages (from tldextract>=2.0.1->newspaper3k==0.2.8->-r requirements.txt (line 5)) (3.13.1)\n",
      "Requirement already satisfied: pytz>=2024.2 in c:\\users\\dagri\\anaconda3\\lib\\site-packages (from dateparser>=1.1.1->htmldate>=0.9.0->trafilatura==0.9.0->-r requirements.txt (line 6)) (2025.1)\n",
      "Requirement already satisfied: tzlocal>=0.2 in c:\\users\\dagri\\anaconda3\\lib\\site-packages (from dateparser>=1.1.1->htmldate>=0.9.0->trafilatura==0.9.0->-r requirements.txt (line 6)) (5.3)\n",
      "Requirement already satisfied: tzdata in c:\\users\\dagri\\anaconda3\\lib\\site-packages (from tzlocal>=0.2->dateparser>=1.1.1->htmldate>=0.9.0->trafilatura==0.9.0->-r requirements.txt (line 6)) (2023.3)\n"
     ]
    }
   ],
   "source": [
    "!pip install -r requirements.txt"
   ]
  },
  {
   "cell_type": "code",
   "execution_count": 2,
   "id": "f10fe472-7e94-41f7-843b-5a33f1eb770d",
   "metadata": {},
   "outputs": [],
   "source": [
    "import json\n",
    "import sys\n",
    "import os\n",
    "from openai import OpenAI\n",
    "sys.path.append(\"src\")"
   ]
  },
  {
   "cell_type": "code",
   "execution_count": 3,
   "id": "10a4b5ec-3805-4a98-9942-d5b12d1bb298",
   "metadata": {},
   "outputs": [],
   "source": [
    "%load_ext autoreload\n",
    "%autoreload 2"
   ]
  },
  {
   "cell_type": "code",
   "execution_count": 13,
   "id": "6664a03f-3846-48ae-8bcc-6377651f84c2",
   "metadata": {},
   "outputs": [],
   "source": [
    "%reload_ext autoreload"
   ]
  },
  {
   "cell_type": "code",
   "execution_count": 5,
   "id": "216bea97-a5c3-464b-8015-5d87020be620",
   "metadata": {},
   "outputs": [],
   "source": [
    "from wiki_extract import Extracter\n",
    "from wiki_gen import WikiGen"
   ]
  },
  {
   "cell_type": "code",
   "execution_count": 7,
   "id": "d9b4a312-18dc-4047-acd8-da3ea801094b",
   "metadata": {},
   "outputs": [],
   "source": [
    "def get_article(name):\n",
    "    print('Article name: ', name)\n",
    "    page = Extracter(name)\n",
    "    page.get_references()\n",
    "    page.get_outline()\n",
    "    page.get_reference_positions()\n",
    "    page.newspaper_ref()\n",
    "    page.get_filtered_outline()\n",
    "    return page"
   ]
  },
  {
   "cell_type": "code",
   "execution_count": 8,
   "id": "d9ca652e-8a75-4980-9ef5-0b28fdef039f",
   "metadata": {},
   "outputs": [
    {
     "name": "stdout",
     "output_type": "stream",
     "text": [
      "Article name:  Сколково (инновационный центр)\n"
     ]
    },
    {
     "name": "stderr",
     "output_type": "stream",
     "text": [
      "Creating outline: 100%|███████████████████████████████████████████████████████████| 283/283 [00:00<00:00, 47307.32it/s]\n",
      "Getting link numbers: 100%|█████████████████████████████████████████████████████████| 257/257 [00:01<00:00, 148.79it/s]\n",
      "Calculating reference positions: 100%|█████████████████████████████████████████████████████████| 64/64 [00:00<?, ?it/s]\n",
      "Retrieving sources: 100%|████████████████████████████████████████████████████████████| 257/257 [07:18<00:00,  1.71s/it]\n",
      "Getting link numbers: 100%|█████████████████████████████████████████████████████████| 257/257 [00:01<00:00, 148.15it/s]\n",
      "Calculating reference positions: 100%|██████████████████████████████████████████████| 64/64 [00:00<00:00, 64605.40it/s]\n"
     ]
    }
   ],
   "source": [
    "p = get_article('Сколково (инновационный центр)')"
   ]
  },
  {
   "cell_type": "code",
   "execution_count": 14,
   "id": "fb74aa21-5e8a-4554-9ea8-9f68e61fe8ed",
   "metadata": {},
   "outputs": [
    {
     "name": "stdout",
     "output_type": "stream",
     "text": [
      "91494 53258\n"
     ]
    }
   ],
   "source": [
    "p.get_text()\n",
    "p.get_filtered_text()\n",
    "print(len(p.text), len(p.filtered_text))"
   ]
  },
  {
   "cell_type": "code",
   "execution_count": 12,
   "id": "e21955e3-1b7f-4abc-ac9f-e5ca0ccabaf3",
   "metadata": {},
   "outputs": [],
   "source": [
    "article_names = [\n",
    "    'Python',\n",
    "    'Летние Олимпийские игры 2024',\n",
    "    'Квантовый компьютер',\n",
    "    'Присоединение Крыма к Российской Федерации',\n",
    "    'Сколково (инновационный центр)',\n",
    "    'Tomb Raider (игра, 2013)',\n",
    "    'Чёрная дыра',\n",
    "    'Экономика США',\n",
    "    'Искусственный интеллект',\n",
    "    'COVID-19',\n",
    "    'Броненосный крейсер'\n",
    "]"
   ]
  },
  {
   "cell_type": "code",
   "execution_count": 6,
   "id": "92438061-70a2-4ca0-8ca3-460d25428830",
   "metadata": {},
   "outputs": [],
   "source": [
    "def save_texts(article_name, texts, number):\n",
    "\n",
    "    directory = os.path.join(\"Articles\", \"Sources\", article_name)\n",
    "\n",
    "    os.makedirs(directory, exist_ok=True)\n",
    "\n",
    "    for i, text in enumerate(texts, start=number):\n",
    "        file_path = os.path.join(directory, f\"source_{i}.txt\")\n",
    "        with open(file_path, \"w\", encoding=\"utf-8\") as file:\n",
    "            file.write(text)"
   ]
  },
  {
   "cell_type": "code",
   "execution_count": 13,
   "id": "52a0577b-98af-4a5c-92f9-35f697e0bd7f",
   "metadata": {
    "scrolled": true
   },
   "outputs": [
    {
     "name": "stdout",
     "output_type": "stream",
     "text": [
      "Article name:  Python\n"
     ]
    },
    {
     "name": "stderr",
     "output_type": "stream",
     "text": [
      "Creating outline: 100%|██████████| 208/208 [00:00<00:00, 52545.64it/s]\n",
      "Getting link numbers: 100%|██████████| 195/195 [00:01<00:00, 158.66it/s]\n",
      "Calculating reference positions: 100%|██████████| 60/60 [00:00<00:00, 59381.37it/s]\n",
      "100%|██████████| 195/195 [21:19<00:00,  6.56s/it]\n"
     ]
    },
    {
     "name": "stdout",
     "output_type": "stream",
     "text": [
      "Article name:  Летние Олимпийские игры 2024\n"
     ]
    },
    {
     "name": "stderr",
     "output_type": "stream",
     "text": [
      "Creating outline: 100%|██████████| 109/109 [00:00<00:00, 109294.56it/s]\n",
      "Getting link numbers: 100%|██████████| 96/96 [00:00<00:00, 304.89it/s]\n",
      "Calculating reference positions: 100%|██████████| 36/36 [00:00<?, ?it/s]\n",
      "100%|██████████| 96/96 [01:59<00:00,  1.25s/it]\n"
     ]
    },
    {
     "name": "stdout",
     "output_type": "stream",
     "text": [
      "Article name:  Квантовый компьютер\n"
     ]
    },
    {
     "name": "stderr",
     "output_type": "stream",
     "text": [
      "Creating outline: 100%|██████████| 91/91 [00:00<00:00, 45541.30it/s]\n",
      "Getting link numbers: 100%|██████████| 62/62 [00:00<00:00, 405.15it/s]\n",
      "Calculating reference positions: 100%|██████████| 19/19 [00:00<00:00, 19418.07it/s]\n",
      "100%|██████████| 62/62 [10:12<00:00,  9.87s/it]\n"
     ]
    },
    {
     "name": "stdout",
     "output_type": "stream",
     "text": [
      "Article name:  Присоединение Крыма к Российской Федерации\n"
     ]
    },
    {
     "name": "stderr",
     "output_type": "stream",
     "text": [
      "Creating outline: 100%|██████████| 85/85 [00:00<00:00, 87167.69it/s]\n",
      "Getting link numbers: 100%|██████████| 36/36 [00:00<00:00, 922.14it/s]\n",
      "Calculating reference positions: 100%|██████████| 25/25 [00:00<00:00, 25001.81it/s]\n",
      "100%|██████████| 36/36 [01:10<00:00,  1.96s/it]\n"
     ]
    },
    {
     "name": "stdout",
     "output_type": "stream",
     "text": [
      "Article name:  Сколково (инновационный центр)\n"
     ]
    },
    {
     "name": "stderr",
     "output_type": "stream",
     "text": [
      "Creating outline: 100%|██████████| 283/283 [00:00<00:00, 47239.54it/s]\n",
      "Getting link numbers: 100%|██████████| 257/257 [00:01<00:00, 143.11it/s]\n",
      "Calculating reference positions: 100%|██████████| 64/64 [00:00<00:00, 63913.20it/s]\n",
      "100%|██████████| 257/257 [03:35<00:00,  1.20it/s]\n"
     ]
    },
    {
     "name": "stdout",
     "output_type": "stream",
     "text": [
      "Article name:  Tomb Raider (игра, 2013)\n"
     ]
    },
    {
     "name": "stderr",
     "output_type": "stream",
     "text": [
      "Creating outline: 100%|██████████| 129/129 [00:00<00:00, 19352.09it/s]\n",
      "Getting link numbers: 100%|██████████| 270/270 [00:03<00:00, 81.34it/s]\n",
      "Calculating reference positions: 100%|██████████| 36/36 [00:00<?, ?it/s]\n",
      "100%|██████████| 270/270 [39:11<00:00,  8.71s/it]   \n"
     ]
    },
    {
     "name": "stdout",
     "output_type": "stream",
     "text": [
      "Article name:  Чёрная дыра\n"
     ]
    },
    {
     "name": "stderr",
     "output_type": "stream",
     "text": [
      "Creating outline: 100%|██████████| 172/172 [00:00<00:00, 43157.47it/s]\n",
      "Getting link numbers: 100%|██████████| 104/104 [00:00<00:00, 258.30it/s]\n",
      "Calculating reference positions: 100%|██████████| 52/52 [00:00<00:00, 51892.41it/s]\n",
      "100%|██████████| 104/104 [11:33<00:00,  6.67s/it]\n"
     ]
    },
    {
     "name": "stdout",
     "output_type": "stream",
     "text": [
      "Article name:  Экономика США\n"
     ]
    },
    {
     "name": "stderr",
     "output_type": "stream",
     "text": [
      "Creating outline: 100%|██████████| 146/146 [00:00<00:00, 48462.20it/s]\n",
      "Getting link numbers: 100%|██████████| 89/89 [00:00<00:00, 340.02it/s]\n",
      "Calculating reference positions: 100%|██████████| 32/32 [00:00<?, ?it/s]\n",
      "100%|██████████| 89/89 [09:32<00:00,  6.43s/it]\n"
     ]
    },
    {
     "name": "stdout",
     "output_type": "stream",
     "text": [
      "Article name:  Искусственный интеллект\n"
     ]
    },
    {
     "name": "stderr",
     "output_type": "stream",
     "text": [
      "Creating outline: 100%|██████████| 226/226 [00:00<00:00, 60032.47it/s]\n",
      "Getting link numbers: 100%|██████████| 104/104 [00:00<00:00, 339.25it/s]\n",
      "Calculating reference positions: 100%|██████████| 65/65 [00:00<00:00, 123083.41it/s]\n",
      "100%|██████████| 104/104 [08:59<00:00,  5.19s/it]\n"
     ]
    },
    {
     "name": "stdout",
     "output_type": "stream",
     "text": [
      "Article name:  COVID-19\n"
     ]
    },
    {
     "name": "stderr",
     "output_type": "stream",
     "text": [
      "Creating outline: 100%|██████████| 191/191 [00:00<00:00, 43709.74it/s]\n",
      "Getting link numbers: 100%|██████████| 257/257 [00:02<00:00, 111.40it/s]\n",
      "Calculating reference positions: 100%|██████████| 57/57 [00:00<00:00, 56800.98it/s]\n",
      "Some characters could not be decoded, and were replaced with REPLACEMENT CHARACTER.\n",
      "Some characters could not be decoded, and were replaced with REPLACEMENT CHARACTER.\n",
      "100%|██████████| 257/257 [26:02<00:00,  6.08s/it]\n"
     ]
    }
   ],
   "source": [
    "for name in article_names:\n",
    "    page = get_article(name)\n",
    "    num = 1\n",
    "    for _, texts in page.ref_texts.items():\n",
    "        save_texts(page.name, texts, num)\n",
    "        num += len(texts)"
   ]
  },
  {
   "cell_type": "code",
   "execution_count": 30,
   "id": "c830643c-8a34-410c-bd43-5997626e4119",
   "metadata": {},
   "outputs": [],
   "source": [
    "oclient = OpenAI(api_key=KEY, base_url=URL)\n",
    "\n",
    "wiki_writer = WikiGen(oclient)\n",
    "\n",
    "for name in article_names:\n",
    "\n",
    "    json_str = wiki_writer.get_subqueries(name)\n",
    "\n",
    "    if json_str:\n",
    "        data = json.loads(json_str)\n",
    "        directory = os.path.join(\"Generation\", \"Subqueries\", name)\n",
    "        os.makedirs(directory, exist_ok=True)\n",
    "        filename = name.replace(\" \", \"_\") + '.json'\n",
    "        file_path = os.path.join(directory, filename)\n",
    "        with open(file_path, \"w\", encoding=\"utf-8\") as f:\n",
    "            json.dump(data, f, ensure_ascii=False, indent=2)"
   ]
  },
  {
   "cell_type": "code",
   "execution_count": null,
   "id": "5ab1a362-68e5-46d4-8c14-2c8445c27ac7",
   "metadata": {},
   "outputs": [],
   "source": []
  }
 ],
 "metadata": {
  "kernelspec": {
   "display_name": "Python 3 (ipykernel)",
   "language": "python",
   "name": "python3"
  },
  "language_info": {
   "codemirror_mode": {
    "name": "ipython",
    "version": 3
   },
   "file_extension": ".py",
   "mimetype": "text/x-python",
   "name": "python",
   "nbconvert_exporter": "python",
   "pygments_lexer": "ipython3",
   "version": "3.12.7"
  }
 },
 "nbformat": 4,
 "nbformat_minor": 5
}
