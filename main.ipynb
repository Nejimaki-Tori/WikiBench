{
 "cells": [
  {
   "cell_type": "code",
   "execution_count": 9,
   "id": "0b8632f9-b953-47c5-8045-542c52621be8",
   "metadata": {
    "scrolled": true
   },
   "outputs": [
    {
     "name": "stdout",
     "output_type": "stream",
     "text": [
      "Requirement already satisfied: wikipedia==1.4.0 in c:\\users\\dagri\\anaconda3\\envs\\wikibench\\lib\\site-packages (from -r requirements.txt (line 1)) (1.4.0)\n",
      "Requirement already satisfied: requests==2.28.0 in c:\\users\\dagri\\anaconda3\\envs\\wikibench\\lib\\site-packages (from -r requirements.txt (line 2)) (2.28.0)\n",
      "Requirement already satisfied: BeautifulSoup4==4.11.1 in c:\\users\\dagri\\anaconda3\\envs\\wikibench\\lib\\site-packages (from -r requirements.txt (line 3)) (4.11.1)\n",
      "Requirement already satisfied: Wikipedia-Api==0.5 in c:\\users\\dagri\\anaconda3\\envs\\wikibench\\lib\\site-packages (from -r requirements.txt (line 4)) (0.5.0)\n",
      "Requirement already satisfied: newspaper3k==0.2.8 in c:\\users\\dagri\\anaconda3\\envs\\wikibench\\lib\\site-packages (from -r requirements.txt (line 5)) (0.2.8)\n",
      "Requirement already satisfied: trafilatura==0.9.0 in c:\\users\\dagri\\anaconda3\\envs\\wikibench\\lib\\site-packages (from -r requirements.txt (line 6)) (0.9.0)\n",
      "Requirement already satisfied: lxml_html_clean==0.4.1 in c:\\users\\dagri\\anaconda3\\envs\\wikibench\\lib\\site-packages (from -r requirements.txt (line 7)) (0.4.1)\n",
      "Requirement already satisfied: tqdm==4.67.1 in c:\\users\\dagri\\anaconda3\\envs\\wikibench\\lib\\site-packages (from -r requirements.txt (line 8)) (4.67.1)\n",
      "Requirement already satisfied: openai==1.55.3 in c:\\users\\dagri\\anaconda3\\envs\\wikibench\\lib\\site-packages (from -r requirements.txt (line 9)) (1.55.3)\n",
      "Requirement already satisfied: httpx==0.27.2 in c:\\users\\dagri\\anaconda3\\envs\\wikibench\\lib\\site-packages (from -r requirements.txt (line 10)) (0.27.2)\n",
      "Requirement already satisfied: charset-normalizer~=2.0.0 in c:\\users\\dagri\\anaconda3\\envs\\wikibench\\lib\\site-packages (from requests==2.28.0->-r requirements.txt (line 2)) (2.0.12)\n",
      "Requirement already satisfied: idna<4,>=2.5 in c:\\users\\dagri\\anaconda3\\envs\\wikibench\\lib\\site-packages (from requests==2.28.0->-r requirements.txt (line 2)) (3.10)\n",
      "Requirement already satisfied: urllib3<1.27,>=1.21.1 in c:\\users\\dagri\\anaconda3\\envs\\wikibench\\lib\\site-packages (from requests==2.28.0->-r requirements.txt (line 2)) (1.26.20)\n",
      "Requirement already satisfied: certifi>=2017.4.17 in c:\\users\\dagri\\anaconda3\\envs\\wikibench\\lib\\site-packages (from requests==2.28.0->-r requirements.txt (line 2)) (2025.1.31)\n",
      "Requirement already satisfied: soupsieve>1.2 in c:\\users\\dagri\\anaconda3\\envs\\wikibench\\lib\\site-packages (from BeautifulSoup4==4.11.1->-r requirements.txt (line 3)) (2.5)\n",
      "Requirement already satisfied: Pillow>=3.3.0 in c:\\users\\dagri\\anaconda3\\envs\\wikibench\\lib\\site-packages (from newspaper3k==0.2.8->-r requirements.txt (line 5)) (11.1.0)\n",
      "Requirement already satisfied: PyYAML>=3.11 in c:\\users\\dagri\\anaconda3\\envs\\wikibench\\lib\\site-packages (from newspaper3k==0.2.8->-r requirements.txt (line 5)) (6.0.2)\n",
      "Requirement already satisfied: cssselect>=0.9.2 in c:\\users\\dagri\\anaconda3\\envs\\wikibench\\lib\\site-packages (from newspaper3k==0.2.8->-r requirements.txt (line 5)) (1.2.0)\n",
      "Requirement already satisfied: lxml>=3.6.0 in c:\\users\\dagri\\anaconda3\\envs\\wikibench\\lib\\site-packages (from newspaper3k==0.2.8->-r requirements.txt (line 5)) (5.3.1)\n",
      "Requirement already satisfied: nltk>=3.2.1 in c:\\users\\dagri\\anaconda3\\envs\\wikibench\\lib\\site-packages (from newspaper3k==0.2.8->-r requirements.txt (line 5)) (3.9.1)\n",
      "Requirement already satisfied: feedparser>=5.2.1 in c:\\users\\dagri\\anaconda3\\envs\\wikibench\\lib\\site-packages (from newspaper3k==0.2.8->-r requirements.txt (line 5)) (6.0.11)\n",
      "Requirement already satisfied: tldextract>=2.0.1 in c:\\users\\dagri\\anaconda3\\envs\\wikibench\\lib\\site-packages (from newspaper3k==0.2.8->-r requirements.txt (line 5)) (5.1.3)\n",
      "Requirement already satisfied: feedfinder2>=0.0.4 in c:\\users\\dagri\\anaconda3\\envs\\wikibench\\lib\\site-packages (from newspaper3k==0.2.8->-r requirements.txt (line 5)) (0.0.4)\n",
      "Requirement already satisfied: jieba3k>=0.35.1 in c:\\users\\dagri\\anaconda3\\envs\\wikibench\\lib\\site-packages (from newspaper3k==0.2.8->-r requirements.txt (line 5)) (0.35.1)\n",
      "Requirement already satisfied: python-dateutil>=2.5.3 in c:\\users\\dagri\\anaconda3\\envs\\wikibench\\lib\\site-packages (from newspaper3k==0.2.8->-r requirements.txt (line 5)) (2.9.0.post0)\n",
      "Requirement already satisfied: tinysegmenter==0.3 in c:\\users\\dagri\\anaconda3\\envs\\wikibench\\lib\\site-packages (from newspaper3k==0.2.8->-r requirements.txt (line 5)) (0.3)\n",
      "Requirement already satisfied: courlan>=0.4.1 in c:\\users\\dagri\\anaconda3\\envs\\wikibench\\lib\\site-packages (from trafilatura==0.9.0->-r requirements.txt (line 6)) (1.3.2)\n",
      "Requirement already satisfied: htmldate>=0.9.0 in c:\\users\\dagri\\anaconda3\\envs\\wikibench\\lib\\site-packages (from trafilatura==0.9.0->-r requirements.txt (line 6)) (1.2.3)\n",
      "Requirement already satisfied: justext>=2.2.0 in c:\\users\\dagri\\anaconda3\\envs\\wikibench\\lib\\site-packages (from trafilatura==0.9.0->-r requirements.txt (line 6)) (3.0.2)\n",
      "Requirement already satisfied: readability-lxml>=0.8.1 in c:\\users\\dagri\\anaconda3\\envs\\wikibench\\lib\\site-packages (from trafilatura==0.9.0->-r requirements.txt (line 6)) (0.8.1)\n",
      "Requirement already satisfied: chardet>=4.0.0 in c:\\users\\dagri\\anaconda3\\envs\\wikibench\\lib\\site-packages (from trafilatura==0.9.0->-r requirements.txt (line 6)) (5.2.0)\n",
      "Requirement already satisfied: colorama in c:\\users\\dagri\\anaconda3\\envs\\wikibench\\lib\\site-packages (from tqdm==4.67.1->-r requirements.txt (line 8)) (0.4.6)\n",
      "Requirement already satisfied: anyio<5,>=3.5.0 in c:\\users\\dagri\\anaconda3\\envs\\wikibench\\lib\\site-packages (from openai==1.55.3->-r requirements.txt (line 9)) (4.8.0)\n",
      "Requirement already satisfied: distro<2,>=1.7.0 in c:\\users\\dagri\\anaconda3\\envs\\wikibench\\lib\\site-packages (from openai==1.55.3->-r requirements.txt (line 9)) (1.9.0)\n",
      "Requirement already satisfied: jiter<1,>=0.4.0 in c:\\users\\dagri\\anaconda3\\envs\\wikibench\\lib\\site-packages (from openai==1.55.3->-r requirements.txt (line 9)) (0.9.0)\n",
      "Requirement already satisfied: pydantic<3,>=1.9.0 in c:\\users\\dagri\\anaconda3\\envs\\wikibench\\lib\\site-packages (from openai==1.55.3->-r requirements.txt (line 9)) (2.10.6)\n",
      "Requirement already satisfied: sniffio in c:\\users\\dagri\\anaconda3\\envs\\wikibench\\lib\\site-packages (from openai==1.55.3->-r requirements.txt (line 9)) (1.3.1)\n",
      "Requirement already satisfied: typing-extensions<5,>=4.11 in c:\\users\\dagri\\anaconda3\\envs\\wikibench\\lib\\site-packages (from openai==1.55.3->-r requirements.txt (line 9)) (4.12.2)\n",
      "Requirement already satisfied: httpcore==1.* in c:\\users\\dagri\\anaconda3\\envs\\wikibench\\lib\\site-packages (from httpx==0.27.2->-r requirements.txt (line 10)) (1.0.7)\n",
      "Requirement already satisfied: h11<0.15,>=0.13 in c:\\users\\dagri\\anaconda3\\envs\\wikibench\\lib\\site-packages (from httpcore==1.*->httpx==0.27.2->-r requirements.txt (line 10)) (0.14.0)\n",
      "Requirement already satisfied: babel>=2.16.0 in c:\\users\\dagri\\anaconda3\\envs\\wikibench\\lib\\site-packages (from courlan>=0.4.1->trafilatura==0.9.0->-r requirements.txt (line 6)) (2.17.0)\n",
      "Requirement already satisfied: tld>=0.13 in c:\\users\\dagri\\anaconda3\\envs\\wikibench\\lib\\site-packages (from courlan>=0.4.1->trafilatura==0.9.0->-r requirements.txt (line 6)) (0.13)\n",
      "Requirement already satisfied: six in c:\\users\\dagri\\anaconda3\\envs\\wikibench\\lib\\site-packages (from feedfinder2>=0.0.4->newspaper3k==0.2.8->-r requirements.txt (line 5)) (1.17.0)\n",
      "Requirement already satisfied: sgmllib3k in c:\\users\\dagri\\anaconda3\\envs\\wikibench\\lib\\site-packages (from feedparser>=5.2.1->newspaper3k==0.2.8->-r requirements.txt (line 5)) (1.0.0)\n",
      "Requirement already satisfied: dateparser>=1.1.1 in c:\\users\\dagri\\anaconda3\\envs\\wikibench\\lib\\site-packages (from htmldate>=0.9.0->trafilatura==0.9.0->-r requirements.txt (line 6)) (1.2.1)\n",
      "Requirement already satisfied: click in c:\\users\\dagri\\anaconda3\\envs\\wikibench\\lib\\site-packages (from nltk>=3.2.1->newspaper3k==0.2.8->-r requirements.txt (line 5)) (8.1.8)\n",
      "Requirement already satisfied: joblib in c:\\users\\dagri\\anaconda3\\envs\\wikibench\\lib\\site-packages (from nltk>=3.2.1->newspaper3k==0.2.8->-r requirements.txt (line 5)) (1.4.2)\n",
      "Requirement already satisfied: regex>=2021.8.3 in c:\\users\\dagri\\anaconda3\\envs\\wikibench\\lib\\site-packages (from nltk>=3.2.1->newspaper3k==0.2.8->-r requirements.txt (line 5)) (2024.11.6)\n",
      "Requirement already satisfied: annotated-types>=0.6.0 in c:\\users\\dagri\\anaconda3\\envs\\wikibench\\lib\\site-packages (from pydantic<3,>=1.9.0->openai==1.55.3->-r requirements.txt (line 9)) (0.7.0)\n",
      "Requirement already satisfied: pydantic-core==2.27.2 in c:\\users\\dagri\\anaconda3\\envs\\wikibench\\lib\\site-packages (from pydantic<3,>=1.9.0->openai==1.55.3->-r requirements.txt (line 9)) (2.27.2)\n",
      "Requirement already satisfied: requests-file>=1.4 in c:\\users\\dagri\\anaconda3\\envs\\wikibench\\lib\\site-packages (from tldextract>=2.0.1->newspaper3k==0.2.8->-r requirements.txt (line 5)) (2.1.0)\n",
      "Requirement already satisfied: filelock>=3.0.8 in c:\\users\\dagri\\anaconda3\\envs\\wikibench\\lib\\site-packages (from tldextract>=2.0.1->newspaper3k==0.2.8->-r requirements.txt (line 5)) (3.17.0)\n",
      "Requirement already satisfied: pytz>=2024.2 in c:\\users\\dagri\\anaconda3\\envs\\wikibench\\lib\\site-packages (from dateparser>=1.1.1->htmldate>=0.9.0->trafilatura==0.9.0->-r requirements.txt (line 6)) (2025.1)\n",
      "Requirement already satisfied: tzlocal>=0.2 in c:\\users\\dagri\\anaconda3\\envs\\wikibench\\lib\\site-packages (from dateparser>=1.1.1->htmldate>=0.9.0->trafilatura==0.9.0->-r requirements.txt (line 6)) (5.3)\n",
      "Requirement already satisfied: tzdata in c:\\users\\dagri\\anaconda3\\envs\\wikibench\\lib\\site-packages (from tzlocal>=0.2->dateparser>=1.1.1->htmldate>=0.9.0->trafilatura==0.9.0->-r requirements.txt (line 6)) (2025.1)\n"
     ]
    }
   ],
   "source": [
    "!pip install -r requirements.txt"
   ]
  },
  {
   "cell_type": "code",
   "execution_count": 10,
   "id": "f10fe472-7e94-41f7-843b-5a33f1eb770d",
   "metadata": {},
   "outputs": [],
   "source": [
    "import json\n",
    "import sys\n",
    "import os\n",
    "from openai import OpenAI\n",
    "sys.path.append(\"src\")"
   ]
  },
  {
   "cell_type": "code",
   "execution_count": 11,
   "id": "10a4b5ec-3805-4a98-9942-d5b12d1bb298",
   "metadata": {},
   "outputs": [
    {
     "name": "stdout",
     "output_type": "stream",
     "text": [
      "The autoreload extension is already loaded. To reload it, use:\n",
      "  %reload_ext autoreload\n"
     ]
    }
   ],
   "source": [
    "%load_ext autoreload\n",
    "%autoreload 2"
   ]
  },
  {
   "cell_type": "code",
   "execution_count": 17,
   "id": "6664a03f-3846-48ae-8bcc-6377651f84c2",
   "metadata": {},
   "outputs": [],
   "source": [
    "%reload_ext autoreload"
   ]
  },
  {
   "cell_type": "code",
   "execution_count": 13,
   "id": "216bea97-a5c3-464b-8015-5d87020be620",
   "metadata": {},
   "outputs": [],
   "source": [
    "from wiki_extract import Extracter\n",
    "from wiki_gen import WikiGen"
   ]
  },
  {
   "cell_type": "code",
   "execution_count": 14,
   "id": "d9b4a312-18dc-4047-acd8-da3ea801094b",
   "metadata": {},
   "outputs": [],
   "source": [
    "def get_article(name):\n",
    "    print('Article name: ', name)\n",
    "    page = Extracter(name)\n",
    "    page.get_references()\n",
    "    page.get_outline()\n",
    "    page.get_reference_positions()\n",
    "    page.newspaper_ref()\n",
    "    page.get_filtered_outline()\n",
    "    return page"
   ]
  },
  {
   "cell_type": "code",
   "execution_count": 15,
   "id": "e21955e3-1b7f-4abc-ac9f-e5ca0ccabaf3",
   "metadata": {},
   "outputs": [],
   "source": [
    "article_names = [\n",
    "    'Python',\n",
    "    'Летние Олимпийские игры 2024',\n",
    "    'Квантовый компьютер',\n",
    "    'Присоединение Крыма к Российской Федерации',\n",
    "    'Сколково (инновационный центр)',\n",
    "    'Tomb Raider (игра, 2013)',\n",
    "    'Чёрная дыра',\n",
    "    'Экономика США',\n",
    "    'Искусственный интеллект',\n",
    "    'COVID-19',\n",
    "    'Броненосный крейсер',\n",
    "    'Применение искусственного интеллекта',\n",
    "    'РИА Новости'\n",
    "]"
   ]
  },
  {
   "cell_type": "code",
   "execution_count": 16,
   "id": "92438061-70a2-4ca0-8ca3-460d25428830",
   "metadata": {},
   "outputs": [],
   "source": [
    "def save_texts(article_name, texts, number):\n",
    "\n",
    "    directory = os.path.join(\"Articles\", \"Sources\", article_name)\n",
    "\n",
    "    os.makedirs(directory, exist_ok=True)\n",
    "\n",
    "    for i, text in enumerate(texts, start=number):\n",
    "        file_path = os.path.join(directory, f\"source_{i}.txt\")\n",
    "        with open(file_path, \"w\", encoding=\"utf-8\") as file:\n",
    "            file.write(text)"
   ]
  },
  {
   "cell_type": "code",
   "execution_count": null,
   "id": "52a0577b-98af-4a5c-92f9-35f697e0bd7f",
   "metadata": {
    "scrolled": true
   },
   "outputs": [
    {
     "name": "stdout",
     "output_type": "stream",
     "text": [
      "Article name:  Python\n"
     ]
    },
    {
     "name": "stderr",
     "output_type": "stream",
     "text": [
      "Creating outline: 100%|██████████| 208/208 [00:00<00:00, 46469.33it/s]\n",
      "Getting link numbers: 100%|██████████| 195/195 [00:01<00:00, 153.90it/s]\n",
      "Calculating reference positions: 100%|██████████| 60/60 [00:00<00:00, 114338.14it/s]\n",
      "Retrieving sources: 100%|██████████| 195/195 [38:13<00:00, 11.76s/it] \n",
      "Getting link numbers: 100%|██████████| 195/195 [00:02<00:00, 93.78it/s]\n",
      "Calculating reference positions: 100%|██████████| 60/60 [00:00<00:00, 60061.63it/s]\n"
     ]
    },
    {
     "name": "stdout",
     "output_type": "stream",
     "text": [
      "Article name:  Летние Олимпийские игры 2024\n"
     ]
    },
    {
     "name": "stderr",
     "output_type": "stream",
     "text": [
      "Creating outline: 100%|██████████| 109/109 [00:00<00:00, 108955.94it/s]\n",
      "Getting link numbers: 100%|██████████| 96/96 [00:00<00:00, 160.03it/s]\n",
      "Calculating reference positions: 100%|██████████| 36/36 [00:00<?, ?it/s]\n",
      "Retrieving sources: 100%|██████████| 96/96 [02:43<00:00,  1.70s/it]\n",
      "Getting link numbers: 100%|██████████| 96/96 [00:00<00:00, 160.80it/s]\n",
      "Calculating reference positions: 100%|██████████| 36/36 [00:00<?, ?it/s]\n"
     ]
    },
    {
     "name": "stdout",
     "output_type": "stream",
     "text": [
      "Article name:  Квантовый компьютер\n"
     ]
    },
    {
     "name": "stderr",
     "output_type": "stream",
     "text": [
      "Creating outline: 100%|██████████| 91/91 [00:00<00:00, 15162.34it/s]\n",
      "Getting link numbers: 100%|██████████| 62/62 [00:00<00:00, 232.66it/s]\n",
      "Calculating reference positions: 100%|██████████| 19/19 [00:00<00:00, 35044.76it/s]\n",
      "Retrieving sources: 100%|██████████| 62/62 [14:36<00:00, 14.13s/it]\n",
      "Getting link numbers: 100%|██████████| 62/62 [00:00<00:00, 203.53it/s]\n",
      "Calculating reference positions: 100%|██████████| 19/19 [00:00<00:00, 35897.20it/s]\n"
     ]
    },
    {
     "name": "stdout",
     "output_type": "stream",
     "text": [
      "Article name:  Присоединение Крыма к Российской Федерации\n"
     ]
    },
    {
     "name": "stderr",
     "output_type": "stream",
     "text": [
      "Creating outline: 100%|██████████| 85/85 [00:00<00:00, 28333.14it/s]\n",
      "Getting link numbers: 100%|██████████| 36/36 [00:00<00:00, 496.46it/s]\n",
      "Calculating reference positions: 100%|██████████| 25/25 [00:00<00:00, 48410.71it/s]\n",
      "Retrieving sources: 100%|██████████| 36/36 [02:14<00:00,  3.75s/it]\n",
      "Getting link numbers: 100%|██████████| 36/36 [00:00<00:00, 584.58it/s]\n",
      "Calculating reference positions: 100%|██████████| 25/25 [00:00<00:00, 24983.94it/s]\n"
     ]
    },
    {
     "name": "stdout",
     "output_type": "stream",
     "text": [
      "Article name:  Сколково (инновационный центр)\n"
     ]
    },
    {
     "name": "stderr",
     "output_type": "stream",
     "text": [
      "Creating outline: 100%|██████████| 283/283 [00:00<00:00, 35371.24it/s]\n",
      "Getting link numbers: 100%|██████████| 257/257 [00:03<00:00, 84.13it/s]\n",
      "Calculating reference positions: 100%|██████████| 64/64 [00:00<00:00, 63974.13it/s]\n",
      "Retrieving sources: 100%|██████████| 257/257 [05:49<00:00,  1.36s/it]\n",
      "Getting link numbers: 100%|██████████| 257/257 [00:03<00:00, 80.24it/s]\n",
      "Calculating reference positions: 100%|██████████| 64/64 [00:00<00:00, 121574.03it/s]\n"
     ]
    },
    {
     "name": "stdout",
     "output_type": "stream",
     "text": [
      "Article name:  Tomb Raider (игра, 2013)\n"
     ]
    },
    {
     "name": "stderr",
     "output_type": "stream",
     "text": [
      "Creating outline: 100%|██████████| 129/129 [00:00<00:00, 16125.69it/s]\n",
      "Getting link numbers: 100%|██████████| 270/270 [00:05<00:00, 46.60it/s]\n",
      "Calculating reference positions: 100%|██████████| 36/36 [00:00<00:00, 36114.55it/s]\n",
      "Retrieving sources: 100%|██████████| 270/270 [1:06:07<00:00, 14.70s/it]   \n",
      "Getting link numbers: 100%|██████████| 270/270 [00:05<00:00, 49.76it/s]\n",
      "Calculating reference positions: 100%|██████████| 36/36 [00:00<00:00, 12007.55it/s]\n"
     ]
    },
    {
     "name": "stdout",
     "output_type": "stream",
     "text": [
      "Article name:  Чёрная дыра\n"
     ]
    },
    {
     "name": "stderr",
     "output_type": "stream",
     "text": [
      "Creating outline: 100%|██████████| 172/172 [00:00<00:00, 24590.80it/s]\n",
      "Getting link numbers: 100%|██████████| 104/104 [00:00<00:00, 149.69it/s]\n",
      "Calculating reference positions: 100%|██████████| 52/52 [00:00<00:00, 52128.06it/s]\n",
      "Retrieving sources: 100%|██████████| 104/104 [16:40<00:00,  9.62s/it]\n",
      "Getting link numbers: 100%|██████████| 104/104 [00:00<00:00, 156.58it/s]\n",
      "Calculating reference positions: 100%|██████████| 52/52 [00:00<00:00, 97150.92it/s]\n"
     ]
    },
    {
     "name": "stdout",
     "output_type": "stream",
     "text": [
      "Article name:  Экономика США\n"
     ]
    },
    {
     "name": "stderr",
     "output_type": "stream",
     "text": [
      "Creating outline: 100%|██████████| 146/146 [00:00<00:00, 44858.87it/s]\n",
      "Getting link numbers: 100%|██████████| 89/89 [00:00<00:00, 207.33it/s]\n",
      "Calculating reference positions: 100%|██████████| 32/32 [00:00<00:00, 60567.57it/s]\n",
      "Retrieving sources: 100%|██████████| 89/89 [16:18<00:00, 10.99s/it]\n",
      "Getting link numbers: 100%|██████████| 89/89 [00:00<00:00, 306.74it/s]\n",
      "Calculating reference positions: 100%|██████████| 32/32 [00:00<00:00, 60431.21it/s]\n"
     ]
    },
    {
     "name": "stdout",
     "output_type": "stream",
     "text": [
      "Article name:  Искусственный интеллект\n"
     ]
    },
    {
     "name": "stderr",
     "output_type": "stream",
     "text": [
      "Creating outline: 100%|██████████| 226/226 [00:00<00:00, 32295.75it/s]\n",
      "Getting link numbers: 100%|██████████| 104/104 [00:00<00:00, 321.12it/s]\n",
      "Calculating reference positions: 100%|██████████| 65/65 [00:00<00:00, 124887.66it/s]\n",
      "Retrieving sources: 100%|██████████| 104/104 [14:30<00:00,  8.37s/it]\n",
      "Getting link numbers: 100%|██████████| 104/104 [00:00<00:00, 330.75it/s]\n",
      "Calculating reference positions: 100%|██████████| 65/65 [00:00<00:00, 116458.68it/s]\n"
     ]
    },
    {
     "name": "stdout",
     "output_type": "stream",
     "text": [
      "Article name:  COVID-19\n"
     ]
    },
    {
     "name": "stderr",
     "output_type": "stream",
     "text": [
      "Creating outline: 100%|██████████| 191/191 [00:00<00:00, 39802.86it/s]\n",
      "Getting link numbers: 100%|██████████| 257/257 [00:02<00:00, 114.74it/s]\n",
      "Calculating reference positions: 100%|██████████| 57/57 [00:00<00:00, 54871.55it/s]\n",
      "Retrieving sources:   3%|▎         | 7/257 [00:44<20:12,  4.85s/it]"
     ]
    }
   ],
   "source": [
    "for name in article_names:\n",
    "    page = get_article(name)\n",
    "    num = 1\n",
    "    for _, texts in page.ref_texts.items():\n",
    "        save_texts(page.name, texts, num)\n",
    "        num += len(texts)"
   ]
  },
  {
   "cell_type": "code",
   "execution_count": 30,
   "id": "c830643c-8a34-410c-bd43-5997626e4119",
   "metadata": {},
   "outputs": [],
   "source": [
    "oclient = OpenAI(api_key=KEY, base_url=URL)\n",
    "\n",
    "wiki_writer = WikiGen(oclient)\n",
    "\n",
    "for name in article_names:\n",
    "\n",
    "    json_str = wiki_writer.get_subqueries(name)\n",
    "\n",
    "    if json_str:\n",
    "        data = json.loads(json_str)\n",
    "        directory = os.path.join(\"Generation\", \"Subqueries\", name)\n",
    "        os.makedirs(directory, exist_ok=True)\n",
    "        filename = name.replace(\" \", \"_\") + '.json'\n",
    "        file_path = os.path.join(directory, filename)\n",
    "        with open(file_path, \"w\", encoding=\"utf-8\") as f:\n",
    "            json.dump(data, f, ensure_ascii=False, indent=2)"
   ]
  }
 ],
 "metadata": {
  "kernelspec": {
   "display_name": "Python 3 (ipykernel)",
   "language": "python",
   "name": "python3"
  },
  "language_info": {
   "codemirror_mode": {
    "name": "ipython",
    "version": 3
   },
   "file_extension": ".py",
   "mimetype": "text/x-python",
   "name": "python",
   "nbconvert_exporter": "python",
   "pygments_lexer": "ipython3",
   "version": "3.12.9"
  }
 },
 "nbformat": 4,
 "nbformat_minor": 5
}
