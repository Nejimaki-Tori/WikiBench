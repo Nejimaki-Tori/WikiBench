{
 "cells": [
  {
   "cell_type": "code",
   "execution_count": 1,
   "id": "0b8632f9-b953-47c5-8045-542c52621be8",
   "metadata": {
    "collapsed": true,
    "jupyter": {
     "outputs_hidden": true
    },
    "scrolled": true
   },
   "outputs": [
    {
     "name": "stdout",
     "output_type": "stream",
     "text": [
      "Requirement already satisfied: numpy==2.0.2 in c:\\users\\dagri\\anaconda3\\envs\\wikibench\\lib\\site-packages (from -r requirements.txt (line 1)) (2.0.2)\n",
      "Requirement already satisfied: scipy==1.14.1 in c:\\users\\dagri\\anaconda3\\envs\\wikibench\\lib\\site-packages (from -r requirements.txt (line 2)) (1.14.1)\n",
      "Requirement already satisfied: scikit-learn==1.6.1 in c:\\users\\dagri\\anaconda3\\envs\\wikibench\\lib\\site-packages (from -r requirements.txt (line 3)) (1.6.1)\n",
      "Requirement already satisfied: requests==2.32.3 in c:\\users\\dagri\\anaconda3\\envs\\wikibench\\lib\\site-packages (from -r requirements.txt (line 4)) (2.32.3)\n",
      "Requirement already satisfied: BeautifulSoup4==4.11.1 in c:\\users\\dagri\\anaconda3\\envs\\wikibench\\lib\\site-packages (from -r requirements.txt (line 5)) (4.11.1)\n",
      "Requirement already satisfied: lxml_html_clean==0.4.1 in c:\\users\\dagri\\anaconda3\\envs\\wikibench\\lib\\site-packages (from -r requirements.txt (line 6)) (0.4.1)\n",
      "Requirement already satisfied: newspaper3k==0.2.8 in c:\\users\\dagri\\anaconda3\\envs\\wikibench\\lib\\site-packages (from -r requirements.txt (line 7)) (0.2.8)\n",
      "Requirement already satisfied: openai==1.55.3 in c:\\users\\dagri\\anaconda3\\envs\\wikibench\\lib\\site-packages (from -r requirements.txt (line 9)) (1.55.3)\n",
      "Requirement already satisfied: httpx==0.27.2 in c:\\users\\dagri\\anaconda3\\envs\\wikibench\\lib\\site-packages (from -r requirements.txt (line 10)) (0.27.2)\n",
      "Requirement already satisfied: asyncio==3.4.3 in c:\\users\\dagri\\anaconda3\\envs\\wikibench\\lib\\site-packages (from -r requirements.txt (line 11)) (3.4.3)\n",
      "Requirement already satisfied: nltk in c:\\users\\dagri\\anaconda3\\envs\\wikibench\\lib\\site-packages (from -r requirements.txt (line 12)) (3.9.1)\n",
      "Requirement already satisfied: PyStemmer==2.2.0.3 in c:\\users\\dagri\\anaconda3\\envs\\wikibench\\lib\\site-packages (from -r requirements.txt (line 13)) (2.2.0.3)\n",
      "Requirement already satisfied: datasets in c:\\users\\dagri\\anaconda3\\envs\\wikibench\\lib\\site-packages (from -r requirements.txt (line 15)) (3.5.0)\n",
      "Requirement already satisfied: jax==0.5.2 in c:\\users\\dagri\\anaconda3\\envs\\wikibench\\lib\\site-packages (from jax[cpu]==0.5.2->-r requirements.txt (line 16)) (0.5.2)\n",
      "Requirement already satisfied: tqdm in c:\\users\\dagri\\anaconda3\\envs\\wikibench\\lib\\site-packages (from -r requirements.txt (line 17)) (4.67.1)\n",
      "Requirement already satisfied: goose3[all] in c:\\users\\dagri\\anaconda3\\envs\\wikibench\\lib\\site-packages (from -r requirements.txt (line 8)) (3.1.19)\n",
      "Requirement already satisfied: bm25s[full] in c:\\users\\dagri\\anaconda3\\envs\\wikibench\\lib\\site-packages (from -r requirements.txt (line 14)) (0.2.10)\n",
      "Requirement already satisfied: joblib>=1.2.0 in c:\\users\\dagri\\anaconda3\\envs\\wikibench\\lib\\site-packages (from scikit-learn==1.6.1->-r requirements.txt (line 3)) (1.4.2)\n",
      "Requirement already satisfied: threadpoolctl>=3.1.0 in c:\\users\\dagri\\anaconda3\\envs\\wikibench\\lib\\site-packages (from scikit-learn==1.6.1->-r requirements.txt (line 3)) (3.6.0)\n",
      "Requirement already satisfied: charset-normalizer<4,>=2 in c:\\users\\dagri\\anaconda3\\envs\\wikibench\\lib\\site-packages (from requests==2.32.3->-r requirements.txt (line 4)) (2.0.12)\n",
      "Requirement already satisfied: idna<4,>=2.5 in c:\\users\\dagri\\anaconda3\\envs\\wikibench\\lib\\site-packages (from requests==2.32.3->-r requirements.txt (line 4)) (3.10)\n",
      "Requirement already satisfied: urllib3<3,>=1.21.1 in c:\\users\\dagri\\anaconda3\\envs\\wikibench\\lib\\site-packages (from requests==2.32.3->-r requirements.txt (line 4)) (1.26.20)\n",
      "Requirement already satisfied: certifi>=2017.4.17 in c:\\users\\dagri\\anaconda3\\envs\\wikibench\\lib\\site-packages (from requests==2.32.3->-r requirements.txt (line 4)) (2025.1.31)\n",
      "Requirement already satisfied: soupsieve>1.2 in c:\\users\\dagri\\anaconda3\\envs\\wikibench\\lib\\site-packages (from BeautifulSoup4==4.11.1->-r requirements.txt (line 5)) (2.5)\n",
      "Requirement already satisfied: lxml in c:\\users\\dagri\\anaconda3\\envs\\wikibench\\lib\\site-packages (from lxml_html_clean==0.4.1->-r requirements.txt (line 6)) (5.3.1)\n",
      "Requirement already satisfied: Pillow>=3.3.0 in c:\\users\\dagri\\anaconda3\\envs\\wikibench\\lib\\site-packages (from newspaper3k==0.2.8->-r requirements.txt (line 7)) (11.1.0)\n",
      "Requirement already satisfied: PyYAML>=3.11 in c:\\users\\dagri\\anaconda3\\envs\\wikibench\\lib\\site-packages (from newspaper3k==0.2.8->-r requirements.txt (line 7)) (6.0.2)\n",
      "Requirement already satisfied: cssselect>=0.9.2 in c:\\users\\dagri\\anaconda3\\envs\\wikibench\\lib\\site-packages (from newspaper3k==0.2.8->-r requirements.txt (line 7)) (1.2.0)\n",
      "Requirement already satisfied: feedparser>=5.2.1 in c:\\users\\dagri\\anaconda3\\envs\\wikibench\\lib\\site-packages (from newspaper3k==0.2.8->-r requirements.txt (line 7)) (6.0.11)\n",
      "Requirement already satisfied: tldextract>=2.0.1 in c:\\users\\dagri\\anaconda3\\envs\\wikibench\\lib\\site-packages (from newspaper3k==0.2.8->-r requirements.txt (line 7)) (5.1.3)\n",
      "Requirement already satisfied: feedfinder2>=0.0.4 in c:\\users\\dagri\\anaconda3\\envs\\wikibench\\lib\\site-packages (from newspaper3k==0.2.8->-r requirements.txt (line 7)) (0.0.4)\n",
      "Requirement already satisfied: jieba3k>=0.35.1 in c:\\users\\dagri\\anaconda3\\envs\\wikibench\\lib\\site-packages (from newspaper3k==0.2.8->-r requirements.txt (line 7)) (0.35.1)\n",
      "Requirement already satisfied: python-dateutil>=2.5.3 in c:\\users\\dagri\\anaconda3\\envs\\wikibench\\lib\\site-packages (from newspaper3k==0.2.8->-r requirements.txt (line 7)) (2.9.0.post0)\n",
      "Requirement already satisfied: tinysegmenter==0.3 in c:\\users\\dagri\\anaconda3\\envs\\wikibench\\lib\\site-packages (from newspaper3k==0.2.8->-r requirements.txt (line 7)) (0.3)\n",
      "Requirement already satisfied: anyio<5,>=3.5.0 in c:\\users\\dagri\\anaconda3\\envs\\wikibench\\lib\\site-packages (from openai==1.55.3->-r requirements.txt (line 9)) (4.9.0)\n",
      "Requirement already satisfied: distro<2,>=1.7.0 in c:\\users\\dagri\\anaconda3\\envs\\wikibench\\lib\\site-packages (from openai==1.55.3->-r requirements.txt (line 9)) (1.9.0)\n",
      "Requirement already satisfied: jiter<1,>=0.4.0 in c:\\users\\dagri\\anaconda3\\envs\\wikibench\\lib\\site-packages (from openai==1.55.3->-r requirements.txt (line 9)) (0.9.0)\n",
      "Requirement already satisfied: pydantic<3,>=1.9.0 in c:\\users\\dagri\\anaconda3\\envs\\wikibench\\lib\\site-packages (from openai==1.55.3->-r requirements.txt (line 9)) (2.10.6)\n",
      "Requirement already satisfied: sniffio in c:\\users\\dagri\\anaconda3\\envs\\wikibench\\lib\\site-packages (from openai==1.55.3->-r requirements.txt (line 9)) (1.3.1)\n",
      "Requirement already satisfied: typing-extensions<5,>=4.11 in c:\\users\\dagri\\anaconda3\\envs\\wikibench\\lib\\site-packages (from openai==1.55.3->-r requirements.txt (line 9)) (4.13.0)\n",
      "Requirement already satisfied: httpcore==1.* in c:\\users\\dagri\\anaconda3\\envs\\wikibench\\lib\\site-packages (from httpx==0.27.2->-r requirements.txt (line 10)) (1.0.7)\n",
      "Requirement already satisfied: jaxlib<=0.5.2,>=0.5.1 in c:\\users\\dagri\\anaconda3\\envs\\wikibench\\lib\\site-packages (from jax==0.5.2->jax[cpu]==0.5.2->-r requirements.txt (line 16)) (0.5.1)\n",
      "Requirement already satisfied: ml_dtypes>=0.4.0 in c:\\users\\dagri\\anaconda3\\envs\\wikibench\\lib\\site-packages (from jax==0.5.2->jax[cpu]==0.5.2->-r requirements.txt (line 16)) (0.5.1)\n",
      "Requirement already satisfied: opt_einsum in c:\\users\\dagri\\anaconda3\\envs\\wikibench\\lib\\site-packages (from jax==0.5.2->jax[cpu]==0.5.2->-r requirements.txt (line 16)) (3.4.0)\n",
      "Requirement already satisfied: h11<0.15,>=0.13 in c:\\users\\dagri\\anaconda3\\envs\\wikibench\\lib\\site-packages (from httpcore==1.*->httpx==0.27.2->-r requirements.txt (line 10)) (0.14.0)\n",
      "Requirement already satisfied: langdetect in c:\\users\\dagri\\anaconda3\\envs\\wikibench\\lib\\site-packages (from goose3[all]->-r requirements.txt (line 8)) (1.0.9)\n",
      "Requirement already satisfied: pyahocorasick in c:\\users\\dagri\\anaconda3\\envs\\wikibench\\lib\\site-packages (from goose3[all]->-r requirements.txt (line 8)) (2.1.0)\n",
      "Requirement already satisfied: jieba in c:\\users\\dagri\\anaconda3\\envs\\wikibench\\lib\\site-packages (from goose3[all]->-r requirements.txt (line 8)) (0.42.1)\n",
      "Requirement already satisfied: click in c:\\users\\dagri\\anaconda3\\envs\\wikibench\\lib\\site-packages (from nltk->-r requirements.txt (line 12)) (8.1.8)\n",
      "Requirement already satisfied: regex>=2021.8.3 in c:\\users\\dagri\\anaconda3\\envs\\wikibench\\lib\\site-packages (from nltk->-r requirements.txt (line 12)) (2024.11.6)\n",
      "Requirement already satisfied: orjson in c:\\users\\dagri\\anaconda3\\envs\\wikibench\\lib\\site-packages (from bm25s[full]->-r requirements.txt (line 14)) (3.10.16)\n",
      "Requirement already satisfied: numba in c:\\users\\dagri\\anaconda3\\envs\\wikibench\\lib\\site-packages (from bm25s[full]->-r requirements.txt (line 14)) (0.61.0)\n",
      "Requirement already satisfied: huggingface-hub in c:\\users\\dagri\\anaconda3\\envs\\wikibench\\lib\\site-packages (from bm25s[full]->-r requirements.txt (line 14)) (0.30.1)\n",
      "Requirement already satisfied: black in c:\\users\\dagri\\anaconda3\\envs\\wikibench\\lib\\site-packages (from bm25s[full]->-r requirements.txt (line 14)) (25.1.0)\n",
      "Requirement already satisfied: pytrec-eval in c:\\users\\dagri\\anaconda3\\envs\\wikibench\\lib\\site-packages (from bm25s[full]->-r requirements.txt (line 14)) (0.5)\n",
      "Requirement already satisfied: filelock in c:\\users\\dagri\\anaconda3\\envs\\wikibench\\lib\\site-packages (from datasets->-r requirements.txt (line 15)) (3.17.0)\n",
      "Requirement already satisfied: pyarrow>=15.0.0 in c:\\users\\dagri\\anaconda3\\envs\\wikibench\\lib\\site-packages (from datasets->-r requirements.txt (line 15)) (19.0.1)\n",
      "Requirement already satisfied: dill<0.3.9,>=0.3.0 in c:\\users\\dagri\\anaconda3\\envs\\wikibench\\lib\\site-packages (from datasets->-r requirements.txt (line 15)) (0.3.8)\n",
      "Requirement already satisfied: pandas in c:\\users\\dagri\\anaconda3\\envs\\wikibench\\lib\\site-packages (from datasets->-r requirements.txt (line 15)) (2.2.3)\n",
      "Requirement already satisfied: xxhash in c:\\users\\dagri\\anaconda3\\envs\\wikibench\\lib\\site-packages (from datasets->-r requirements.txt (line 15)) (3.5.0)\n",
      "Requirement already satisfied: multiprocess<0.70.17 in c:\\users\\dagri\\anaconda3\\envs\\wikibench\\lib\\site-packages (from datasets->-r requirements.txt (line 15)) (0.70.16)\n",
      "Requirement already satisfied: fsspec<=2024.12.0,>=2023.1.0 in c:\\users\\dagri\\anaconda3\\envs\\wikibench\\lib\\site-packages (from fsspec[http]<=2024.12.0,>=2023.1.0->datasets->-r requirements.txt (line 15)) (2024.12.0)\n",
      "Requirement already satisfied: aiohttp in c:\\users\\dagri\\anaconda3\\envs\\wikibench\\lib\\site-packages (from datasets->-r requirements.txt (line 15)) (3.11.16)\n",
      "Requirement already satisfied: packaging in c:\\users\\dagri\\anaconda3\\envs\\wikibench\\lib\\site-packages (from datasets->-r requirements.txt (line 15)) (24.2)\n",
      "Requirement already satisfied: colorama in c:\\users\\dagri\\anaconda3\\envs\\wikibench\\lib\\site-packages (from tqdm->-r requirements.txt (line 17)) (0.4.6)\n",
      "Requirement already satisfied: six in c:\\users\\dagri\\anaconda3\\envs\\wikibench\\lib\\site-packages (from feedfinder2>=0.0.4->newspaper3k==0.2.8->-r requirements.txt (line 7)) (1.17.0)\n",
      "Requirement already satisfied: sgmllib3k in c:\\users\\dagri\\anaconda3\\envs\\wikibench\\lib\\site-packages (from feedparser>=5.2.1->newspaper3k==0.2.8->-r requirements.txt (line 7)) (1.0.0)\n",
      "Requirement already satisfied: aiohappyeyeballs>=2.3.0 in c:\\users\\dagri\\anaconda3\\envs\\wikibench\\lib\\site-packages (from aiohttp->datasets->-r requirements.txt (line 15)) (2.6.1)\n",
      "Requirement already satisfied: aiosignal>=1.1.2 in c:\\users\\dagri\\anaconda3\\envs\\wikibench\\lib\\site-packages (from aiohttp->datasets->-r requirements.txt (line 15)) (1.3.2)\n",
      "Requirement already satisfied: attrs>=17.3.0 in c:\\users\\dagri\\anaconda3\\envs\\wikibench\\lib\\site-packages (from aiohttp->datasets->-r requirements.txt (line 15)) (25.3.0)\n",
      "Requirement already satisfied: frozenlist>=1.1.1 in c:\\users\\dagri\\anaconda3\\envs\\wikibench\\lib\\site-packages (from aiohttp->datasets->-r requirements.txt (line 15)) (1.5.0)\n",
      "Requirement already satisfied: multidict<7.0,>=4.5 in c:\\users\\dagri\\anaconda3\\envs\\wikibench\\lib\\site-packages (from aiohttp->datasets->-r requirements.txt (line 15)) (6.2.0)\n",
      "Requirement already satisfied: propcache>=0.2.0 in c:\\users\\dagri\\anaconda3\\envs\\wikibench\\lib\\site-packages (from aiohttp->datasets->-r requirements.txt (line 15)) (0.3.1)\n",
      "Requirement already satisfied: yarl<2.0,>=1.17.0 in c:\\users\\dagri\\anaconda3\\envs\\wikibench\\lib\\site-packages (from aiohttp->datasets->-r requirements.txt (line 15)) (1.18.3)\n",
      "Requirement already satisfied: annotated-types>=0.6.0 in c:\\users\\dagri\\anaconda3\\envs\\wikibench\\lib\\site-packages (from pydantic<3,>=1.9.0->openai==1.55.3->-r requirements.txt (line 9)) (0.7.0)\n",
      "Requirement already satisfied: pydantic-core==2.27.2 in c:\\users\\dagri\\anaconda3\\envs\\wikibench\\lib\\site-packages (from pydantic<3,>=1.9.0->openai==1.55.3->-r requirements.txt (line 9)) (2.27.2)\n",
      "Requirement already satisfied: requests-file>=1.4 in c:\\users\\dagri\\anaconda3\\envs\\wikibench\\lib\\site-packages (from tldextract>=2.0.1->newspaper3k==0.2.8->-r requirements.txt (line 7)) (2.1.0)\n",
      "Requirement already satisfied: mypy-extensions>=0.4.3 in c:\\users\\dagri\\anaconda3\\envs\\wikibench\\lib\\site-packages (from black->bm25s[full]->-r requirements.txt (line 14)) (1.0.0)\n",
      "Requirement already satisfied: pathspec>=0.9.0 in c:\\users\\dagri\\anaconda3\\envs\\wikibench\\lib\\site-packages (from black->bm25s[full]->-r requirements.txt (line 14)) (0.12.1)\n",
      "Requirement already satisfied: platformdirs>=2 in c:\\users\\dagri\\anaconda3\\envs\\wikibench\\lib\\site-packages (from black->bm25s[full]->-r requirements.txt (line 14)) (4.3.7)\n",
      "Requirement already satisfied: llvmlite<0.45,>=0.44.0dev0 in c:\\users\\dagri\\anaconda3\\envs\\wikibench\\lib\\site-packages (from numba->bm25s[full]->-r requirements.txt (line 14)) (0.44.0)\n",
      "Requirement already satisfied: pytz>=2020.1 in c:\\users\\dagri\\anaconda3\\envs\\wikibench\\lib\\site-packages (from pandas->datasets->-r requirements.txt (line 15)) (2025.2)\n",
      "Requirement already satisfied: tzdata>=2022.7 in c:\\users\\dagri\\anaconda3\\envs\\wikibench\\lib\\site-packages (from pandas->datasets->-r requirements.txt (line 15)) (2025.1)\n"
     ]
    }
   ],
   "source": [
    "!pip install -r requirements.txt"
   ]
  },
  {
   "cell_type": "code",
   "execution_count": 2,
   "id": "f10fe472-7e94-41f7-843b-5a33f1eb770d",
   "metadata": {},
   "outputs": [],
   "source": [
    "import json\n",
    "import sys\n",
    "import os\n",
    "import re\n",
    "sys.path.append(\"src\")"
   ]
  },
  {
   "cell_type": "code",
   "execution_count": 3,
   "id": "10a4b5ec-3805-4a98-9942-d5b12d1bb298",
   "metadata": {},
   "outputs": [],
   "source": [
    "%load_ext autoreload\n",
    "%autoreload 2"
   ]
  },
  {
   "cell_type": "code",
   "execution_count": 31,
   "id": "6664a03f-3846-48ae-8bcc-6377651f84c2",
   "metadata": {
    "scrolled": true
   },
   "outputs": [],
   "source": [
    "%reload_ext autoreload"
   ]
  },
  {
   "cell_type": "code",
   "execution_count": 4,
   "id": "216bea97-a5c3-464b-8015-5d87020be620",
   "metadata": {},
   "outputs": [
    {
     "name": "stdout",
     "output_type": "stream",
     "text": [
      "resource module not available on Windows\n"
     ]
    }
   ],
   "source": [
    "from wiki_extract import Extracter\n",
    "from wiki_gen import WikiGen\n",
    "from openai_utils import LlmCompleter\n",
    "from openai_utils import AsyncList\n",
    "from wiki_metrics import WikiEval"
   ]
  },
  {
   "cell_type": "code",
   "execution_count": 4,
   "id": "d9b4a312-18dc-4047-acd8-da3ea801094b",
   "metadata": {},
   "outputs": [],
   "source": [
    "def get_article(name, retrieve_sources=False):\n",
    "    print('Article name: ', name)\n",
    "    page = Extracter(name)\n",
    "    page.get_references()\n",
    "    page.get_outline()\n",
    "    if retrieve_sources:\n",
    "        page.fast_extracter()\n",
    "        page.get_filtered_outline()\n",
    "    return page"
   ]
  },
  {
   "cell_type": "code",
   "execution_count": 11,
   "id": "e21955e3-1b7f-4abc-ac9f-e5ca0ccabaf3",
   "metadata": {},
   "outputs": [],
   "source": [
    "article_names = [\n",
    "    'Python',\n",
    "    'Летние Олимпийские игры 2024',\n",
    "    'Квантовый компьютер',\n",
    "    'Присоединение Крыма к Российской Федерации',\n",
    "    'Сколково (инновационный центр)',\n",
    "    'Tomb Raider (игра, 2013)',\n",
    "    'Чёрная дыра',\n",
    "    'Экономика США',\n",
    "    'Искусственный интеллект',\n",
    "    'COVID-19',\n",
    "    'Применение искусственного интеллекта',\n",
    "    'РИА Новости',\n",
    "    'Uncharted 4: A Thief’s End',\n",
    "    'Экономика КНР',\n",
    "    'Экономика Германии',\n",
    "    'Иннополис',\n",
    "    'Летние Олимпийские игры 2020',\n",
    "    'Солнечная система',\n",
    "    'C++',\n",
    "    'Си (язык программирования)',\n",
    "    'Сбербанк России',\n",
    "    'Чёрная смерть',\n",
    "    'Яндекс',\n",
    "    'Google (компания)',\n",
    "    'Большой адронный коллайдер',\n",
    "    'Геморрагическая лихорадка Эбола',\n",
    "    'Вирус иммунодефицита человека',\n",
    "    'Dota 2',\n",
    "    'TikTok',\n",
    "    'Марс',\n",
    "    'YouTube'\n",
    "]"
   ]
  },
  {
   "cell_type": "code",
   "execution_count": 10,
   "id": "8acaf1b3-947e-43d3-a627-8829d7d124f2",
   "metadata": {},
   "outputs": [
    {
     "name": "stdout",
     "output_type": "stream",
     "text": [
      "Article name:  YouTube\n"
     ]
    },
    {
     "name": "stderr",
     "output_type": "stream",
     "text": [
      "Creating outline: 100%|██████████| 104/104 [00:00<00:00, 48770.98it/s]\n",
      "Retrieving sources: 100%|██████████| 96/96 [00:47<00:00,  2.04it/s]\n",
      "Getting link numbers: 100%|██████████| 96/96 [00:00<00:00, 393.86it/s]\n",
      "Calculating reference positions: 100%|██████████| 18/18 [00:00<?, ?it/s]\n"
     ]
    }
   ],
   "source": [
    "page = get_article('YouTube', True)"
   ]
  },
  {
   "cell_type": "code",
   "execution_count": 25,
   "id": "0c1ee187-c0d4-4741-9bd3-535c54aca3fd",
   "metadata": {
    "collapsed": true,
    "jupyter": {
     "outputs_hidden": true
    },
    "scrolled": true
   },
   "outputs": [
    {
     "name": "stdout",
     "output_type": "stream",
     "text": [
      "Article name:  Python\n"
     ]
    },
    {
     "name": "stderr",
     "output_type": "stream",
     "text": [
      "Creating outline: 100%|██████████| 208/208 [00:00<00:00, 45011.62it/s]\n",
      "Retrieving sources: 100%|██████████| 195/195 [02:04<00:00,  1.57it/s]\n",
      "Getting link numbers: 100%|██████████| 195/195 [00:01<00:00, 146.31it/s]\n",
      "Calculating reference positions: 100%|██████████| 54/54 [00:00<00:00, 54042.57it/s]"
     ]
    },
    {
     "name": "stdout",
     "output_type": "stream",
     "text": [
      "Article name:  Летние Олимпийские игры 2024\n"
     ]
    },
    {
     "name": "stderr",
     "output_type": "stream",
     "text": [
      "\n",
      "Creating outline: 100%|██████████| 109/109 [00:00<00:00, 108955.94it/s]\n",
      "Retrieving sources: 100%|██████████| 96/96 [00:15<00:00,  6.33it/s]\n",
      "Getting link numbers: 100%|██████████| 96/96 [00:00<00:00, 244.40it/s]\n",
      "Calculating reference positions: 100%|██████████| 32/32 [00:00<00:00, 32078.81it/s]"
     ]
    },
    {
     "name": "stdout",
     "output_type": "stream",
     "text": [
      "Article name:  Квантовый компьютер\n"
     ]
    },
    {
     "name": "stderr",
     "output_type": "stream",
     "text": [
      "\n",
      "Creating outline: 100%|██████████| 91/91 [00:00<00:00, 30345.18it/s]\n",
      "Retrieving sources: 100%|██████████| 62/62 [00:15<00:00,  4.08it/s]\n",
      "Getting link numbers: 100%|██████████| 62/62 [00:00<00:00, 359.08it/s]\n",
      "Calculating reference positions: 100%|██████████| 16/16 [00:00<?, ?it/s]"
     ]
    },
    {
     "name": "stdout",
     "output_type": "stream",
     "text": [
      "Article name:  Присоединение Крыма к Российской Федерации\n"
     ]
    },
    {
     "name": "stderr",
     "output_type": "stream",
     "text": [
      "\n",
      "Creating outline: 100%|██████████| 84/84 [00:00<00:00, 40422.39it/s]\n",
      "Retrieving sources: 100%|██████████| 36/36 [00:07<00:00,  5.03it/s]\n",
      "Getting link numbers: 100%|██████████| 36/36 [00:00<00:00, 1035.97it/s]\n",
      "Calculating reference positions: 100%|██████████| 22/22 [00:00<00:00, 21871.22it/s]"
     ]
    },
    {
     "name": "stdout",
     "output_type": "stream",
     "text": [
      "Article name:  Сколково (инновационный центр)\n"
     ]
    },
    {
     "name": "stderr",
     "output_type": "stream",
     "text": [
      "\n",
      "Creating outline: 100%|██████████| 283/283 [00:00<00:00, 39442.68it/s]\n",
      "Retrieving sources: 100%|██████████| 257/257 [00:34<00:00,  7.39it/s]\n",
      "Getting link numbers: 100%|██████████| 257/257 [00:01<00:00, 140.85it/s]\n",
      "Calculating reference positions: 100%|██████████| 60/60 [00:00<?, ?it/s]"
     ]
    },
    {
     "name": "stdout",
     "output_type": "stream",
     "text": [
      "Article name:  Tomb Raider (игра, 2013)\n"
     ]
    },
    {
     "name": "stderr",
     "output_type": "stream",
     "text": [
      "\n",
      "Creating outline: 100%|██████████| 129/129 [00:00<00:00, 25360.45it/s]\n",
      "Retrieving sources: 100%|██████████| 270/270 [04:58<00:00,  1.11s/it]\n",
      "Getting link numbers: 100%|██████████| 270/270 [00:03<00:00, 68.81it/s]\n",
      "Calculating reference positions: 100%|██████████| 33/33 [00:00<?, ?it/s]"
     ]
    },
    {
     "name": "stdout",
     "output_type": "stream",
     "text": [
      "Article name:  Чёрная дыра\n"
     ]
    },
    {
     "name": "stderr",
     "output_type": "stream",
     "text": [
      "\n",
      "Creating outline: 100%|██████████| 172/172 [00:00<00:00, 43021.07it/s]\n",
      "Retrieving sources: 100%|██████████| 104/104 [00:33<00:00,  3.11it/s]\n",
      "Getting link numbers: 100%|██████████| 104/104 [00:00<00:00, 220.57it/s]\n",
      "Calculating reference positions: 100%|██████████| 50/50 [00:00<00:00, 50087.22it/s]"
     ]
    },
    {
     "name": "stdout",
     "output_type": "stream",
     "text": [
      "Article name:  Экономика США\n"
     ]
    },
    {
     "name": "stderr",
     "output_type": "stream",
     "text": [
      "\n",
      "Creating outline: 100%|██████████| 148/148 [00:00<00:00, 49332.99it/s]\n",
      "Retrieving sources: 100%|██████████| 93/93 [00:20<00:00,  4.44it/s]\n",
      "Getting link numbers: 100%|██████████| 93/93 [00:00<00:00, 294.02it/s]\n",
      "Calculating reference positions: 100%|██████████| 30/30 [00:00<00:00, 30109.86it/s]"
     ]
    },
    {
     "name": "stdout",
     "output_type": "stream",
     "text": [
      "Article name:  Искусственный интеллект\n"
     ]
    },
    {
     "name": "stderr",
     "output_type": "stream",
     "text": [
      "\n",
      "Creating outline: 100%|██████████| 226/226 [00:00<00:00, 56504.10it/s]\n",
      "Retrieving sources: 100%|██████████| 105/105 [00:17<00:00,  5.88it/s]\n",
      "Getting link numbers: 100%|██████████| 105/105 [00:00<00:00, 319.94it/s]\n",
      "Calculating reference positions: 100%|██████████| 61/61 [00:00<00:00, 60902.77it/s]"
     ]
    },
    {
     "name": "stdout",
     "output_type": "stream",
     "text": [
      "Article name:  COVID-19\n"
     ]
    },
    {
     "name": "stderr",
     "output_type": "stream",
     "text": [
      "\n",
      "Creating outline: 100%|██████████| 191/191 [00:00<00:00, 53159.39it/s]\n",
      "Retrieving sources:  46%|████▌     | 117/257 [01:11<04:12,  1.80s/it]Some characters could not be decoded, and were replaced with REPLACEMENT CHARACTER.\n",
      "Retrieving sources:  47%|████▋     | 120/257 [01:23<07:04,  3.10s/it]Some characters could not be decoded, and were replaced with REPLACEMENT CHARACTER.\n",
      "Retrieving sources:  79%|███████▉  | 203/257 [03:23<01:13,  1.36s/it]Some characters could not be decoded, and were replaced with REPLACEMENT CHARACTER.\n",
      "Retrieving sources:  88%|████████▊ | 227/257 [03:42<00:26,  1.14it/s]Some characters could not be decoded, and were replaced with REPLACEMENT CHARACTER.\n",
      "Retrieving sources: 100%|██████████| 257/257 [04:07<00:00,  1.04it/s]\n",
      "Getting link numbers: 100%|██████████| 257/257 [00:02<00:00, 103.80it/s]\n",
      "Calculating reference positions: 100%|██████████| 54/54 [00:00<00:00, 54068.37it/s]"
     ]
    },
    {
     "name": "stdout",
     "output_type": "stream",
     "text": [
      "Article name:  Броненосный крейсер\n"
     ]
    },
    {
     "name": "stderr",
     "output_type": "stream",
     "text": [
      "\n",
      "Creating outline: 100%|██████████| 282/282 [00:00<00:00, 40287.26it/s]\n",
      "Retrieving sources: 100%|██████████| 180/180 [00:06<00:00, 25.92it/s] \n",
      "Getting link numbers: 100%|██████████| 180/180 [00:01<00:00, 159.06it/s]\n",
      "Calculating reference positions: 100%|██████████| 26/26 [00:00<?, ?it/s]"
     ]
    },
    {
     "name": "stdout",
     "output_type": "stream",
     "text": [
      "Article name:  Применение искусственного интеллекта\n"
     ]
    },
    {
     "name": "stderr",
     "output_type": "stream",
     "text": [
      "\n",
      "Creating outline: 100%|██████████| 151/151 [00:00<00:00, 47469.64it/s]\n",
      "Retrieving sources: 100%|██████████| 224/224 [01:37<00:00,  2.31it/s]\n",
      "Getting link numbers: 100%|██████████| 224/224 [00:01<00:00, 150.53it/s]\n",
      "Calculating reference positions: 100%|██████████| 46/46 [00:00<00:00, 88747.92it/s]"
     ]
    },
    {
     "name": "stdout",
     "output_type": "stream",
     "text": [
      "Article name:  РИА Новости\n"
     ]
    },
    {
     "name": "stderr",
     "output_type": "stream",
     "text": [
      "\n",
      "Creating outline: 100%|██████████| 102/102 [00:00<00:00, 51762.74it/s]\n",
      "Retrieving sources: 100%|██████████| 83/83 [00:12<00:00,  6.58it/s]\n",
      "Getting link numbers: 100%|██████████| 83/83 [00:00<00:00, 429.34it/s]\n",
      "Calculating reference positions: 100%|██████████| 29/29 [00:00<00:00, 28940.00it/s]"
     ]
    },
    {
     "name": "stdout",
     "output_type": "stream",
     "text": [
      "Article name:  Uncharted 4: A Thief’s End\n"
     ]
    },
    {
     "name": "stderr",
     "output_type": "stream",
     "text": [
      "\n",
      "Creating outline: 100%|██████████| 56/56 [00:00<00:00, 28008.71it/s]\n",
      "Retrieving sources: 100%|██████████| 78/78 [00:32<00:00,  2.37it/s]\n",
      "Getting link numbers: 100%|██████████| 78/78 [00:00<00:00, 497.37it/s]\n",
      "Calculating reference positions: 100%|██████████| 9/9 [00:00<00:00, 4480.03it/s]\n"
     ]
    },
    {
     "name": "stdout",
     "output_type": "stream",
     "text": [
      "Article name:  Экономика КНР\n"
     ]
    },
    {
     "name": "stderr",
     "output_type": "stream",
     "text": [
      "Creating outline: 100%|██████████| 226/226 [00:00<00:00, 37682.87it/s]\n",
      "Retrieving sources: 100%|██████████| 172/172 [13:36<00:00,  4.75s/it]\n",
      "Getting link numbers: 100%|██████████| 172/172 [00:02<00:00, 57.39it/s]\n",
      "Calculating reference positions: 100%|██████████| 57/57 [00:00<00:00, 56895.60it/s]\n"
     ]
    },
    {
     "name": "stdout",
     "output_type": "stream",
     "text": [
      "Article name:  Экономика Германии\n"
     ]
    },
    {
     "name": "stderr",
     "output_type": "stream",
     "text": [
      "Creating outline: 100%|██████████| 151/151 [00:00<00:00, 15657.74it/s]\n",
      "Retrieving sources: 100%|██████████| 42/42 [01:25<00:00,  2.05s/it]\n",
      "Getting link numbers: 100%|██████████| 42/42 [00:00<00:00, 89.04it/s]\n",
      "Calculating reference positions: 100%|██████████| 36/36 [00:00<00:00, 17992.72it/s]\n"
     ]
    },
    {
     "name": "stdout",
     "output_type": "stream",
     "text": [
      "Article name:  Иннополис\n"
     ]
    },
    {
     "name": "stderr",
     "output_type": "stream",
     "text": [
      "Creating outline: 100%|██████████| 84/84 [00:00<00:00, 20999.02it/s]\n",
      "Retrieving sources: 100%|██████████| 104/104 [00:25<00:00,  4.05it/s]\n",
      "Getting link numbers: 100%|██████████| 104/104 [00:00<00:00, 132.06it/s]\n",
      "Calculating reference positions: 100%|██████████| 25/25 [00:00<?, ?it/s]\n"
     ]
    },
    {
     "name": "stdout",
     "output_type": "stream",
     "text": [
      "Article name:  Летние Олимпийские игры 2020\n"
     ]
    },
    {
     "name": "stderr",
     "output_type": "stream",
     "text": [
      "Creating outline: 100%|██████████| 52/52 [00:00<00:00, 16217.10it/s]\n",
      "Retrieving sources: 100%|██████████| 103/103 [00:29<00:00,  3.50it/s]\n",
      "Getting link numbers: 100%|██████████| 103/103 [00:01<00:00, 102.26it/s]\n",
      "Calculating reference positions: 100%|██████████| 14/14 [00:00<00:00, 7003.01it/s]\n"
     ]
    },
    {
     "name": "stdout",
     "output_type": "stream",
     "text": [
      "Article name:  Солнечная система\n"
     ]
    },
    {
     "name": "stderr",
     "output_type": "stream",
     "text": [
      "Creating outline: 100%|██████████| 155/155 [00:00<00:00, 31002.25it/s]\n",
      "Retrieving sources: 100%|██████████| 99/99 [03:27<00:00,  2.09s/it]\n",
      "Getting link numbers: 100%|██████████| 99/99 [00:01<00:00, 59.72it/s]\n",
      "Calculating reference positions: 100%|██████████| 47/47 [00:00<00:00, 47093.24it/s]\n"
     ]
    },
    {
     "name": "stdout",
     "output_type": "stream",
     "text": [
      "Article name:  C++\n"
     ]
    },
    {
     "name": "stderr",
     "output_type": "stream",
     "text": [
      "Creating outline: 100%|██████████| 184/184 [00:00<00:00, 36795.65it/s]\n",
      "Retrieving sources: 100%|██████████| 59/59 [01:14<00:00,  1.26s/it]\n",
      "Getting link numbers: 100%|██████████| 59/59 [00:00<00:00, 97.97it/s] \n",
      "Calculating reference positions: 100%|██████████| 58/58 [00:00<00:00, 24268.72it/s]"
     ]
    },
    {
     "name": "stdout",
     "output_type": "stream",
     "text": [
      "Article name:  Си (язык программирования)\n"
     ]
    },
    {
     "name": "stderr",
     "output_type": "stream",
     "text": [
      "\n",
      "Creating outline: 100%|██████████| 223/223 [00:00<00:00, 31673.88it/s]\n",
      "Retrieving sources: 100%|██████████| 100/100 [02:20<00:00,  1.41s/it]\n",
      "Getting link numbers: 100%|██████████| 100/100 [00:00<00:00, 149.97it/s]\n",
      "Calculating reference positions: 100%|██████████| 68/68 [00:00<00:00, 67875.46it/s]"
     ]
    },
    {
     "name": "stdout",
     "output_type": "stream",
     "text": [
      "Article name:  Сбербанк России\n"
     ]
    },
    {
     "name": "stderr",
     "output_type": "stream",
     "text": [
      "\n",
      "Creating outline: 100%|██████████| 176/176 [00:00<00:00, 44378.83it/s]\n",
      "Retrieving sources: 100%|██████████| 196/196 [10:10<00:00,  3.12s/it]\n",
      "Getting link numbers: 100%|██████████| 196/196 [00:00<00:00, 207.08it/s]\n",
      "Calculating reference positions: 100%|██████████| 28/28 [00:00<00:00, 13986.01it/s]\n"
     ]
    },
    {
     "name": "stdout",
     "output_type": "stream",
     "text": [
      "Article name:  Чёрная смерть\n"
     ]
    },
    {
     "name": "stderr",
     "output_type": "stream",
     "text": [
      "Creating outline: 100%|██████████| 275/275 [00:00<00:00, 39237.77it/s]\n",
      "Retrieving sources: 100%|██████████| 214/214 [01:12<00:00,  2.95it/s]\n",
      "Getting link numbers: 100%|██████████| 214/214 [00:01<00:00, 141.65it/s]\n",
      "Calculating reference positions: 100%|██████████| 34/34 [00:00<00:00, 33994.36it/s]"
     ]
    },
    {
     "name": "stdout",
     "output_type": "stream",
     "text": [
      "Article name:  Яндекс\n"
     ]
    },
    {
     "name": "stderr",
     "output_type": "stream",
     "text": [
      "\n",
      "Creating outline: 100%|██████████| 105/105 [00:00<00:00, 53858.62it/s]\n",
      "Retrieving sources: 100%|██████████| 147/147 [00:19<00:00,  7.58it/s]\n",
      "Getting link numbers: 100%|██████████| 147/147 [00:00<00:00, 269.54it/s]\n",
      "Calculating reference positions: 100%|██████████| 30/30 [00:00<?, ?it/s]"
     ]
    },
    {
     "name": "stdout",
     "output_type": "stream",
     "text": [
      "Article name:  Google (компания)\n"
     ]
    },
    {
     "name": "stderr",
     "output_type": "stream",
     "text": [
      "\n",
      "Creating outline: 100%|██████████| 142/142 [00:00<00:00, 26502.52it/s]\n",
      "Retrieving sources: 100%|██████████| 181/181 [01:15<00:00,  2.41it/s]\n",
      "Getting link numbers: 100%|██████████| 181/181 [00:00<00:00, 228.39it/s]\n",
      "Calculating reference positions: 100%|██████████| 26/26 [00:00<00:00, 26001.88it/s]"
     ]
    },
    {
     "name": "stdout",
     "output_type": "stream",
     "text": [
      "Article name:  Большой адронный коллайдер\n"
     ]
    },
    {
     "name": "stderr",
     "output_type": "stream",
     "text": [
      "\n",
      "Creating outline: 100%|██████████| 88/88 [00:00<00:00, 56854.40it/s]\n",
      "Retrieving sources: 100%|██████████| 90/90 [05:43<00:00,  3.82s/it]\n",
      "Getting link numbers: 100%|██████████| 90/90 [00:00<00:00, 290.25it/s]\n",
      "Calculating reference positions: 100%|██████████| 32/32 [00:00<?, ?it/s]\n"
     ]
    }
   ],
   "source": [
    "for name in article_names:\n",
    "    page = get_article(name, True)"
   ]
  },
  {
   "cell_type": "code",
   "execution_count": 7,
   "id": "d258ba51-a187-417e-b5a0-f6c8e053faf7",
   "metadata": {
    "scrolled": true
   },
   "outputs": [
    {
     "name": "stdout",
     "output_type": "stream",
     "text": [
      "Article name:  Python\n"
     ]
    },
    {
     "name": "stderr",
     "output_type": "stream",
     "text": [
      "Creating outline: 100%|██████████| 208/208 [00:00<00:00, 41597.06it/s]\n"
     ]
    },
    {
     "name": "stdout",
     "output_type": "stream",
     "text": [
      "Article name:  Летние Олимпийские игры 2024\n"
     ]
    },
    {
     "name": "stderr",
     "output_type": "stream",
     "text": [
      "Creating outline: 100%|██████████| 109/109 [00:00<00:00, 71940.07it/s]\n"
     ]
    },
    {
     "name": "stdout",
     "output_type": "stream",
     "text": [
      "Article name:  Квантовый компьютер\n"
     ]
    },
    {
     "name": "stderr",
     "output_type": "stream",
     "text": [
      "Creating outline: 100%|██████████| 91/91 [00:00<00:00, 30726.27it/s]\n"
     ]
    },
    {
     "name": "stdout",
     "output_type": "stream",
     "text": [
      "Article name:  Присоединение Крыма к Российской Федерации\n"
     ]
    },
    {
     "name": "stderr",
     "output_type": "stream",
     "text": [
      "Creating outline: 100%|██████████| 84/84 [00:00<00:00, 42043.14it/s]\n"
     ]
    },
    {
     "name": "stdout",
     "output_type": "stream",
     "text": [
      "Article name:  Сколково (инновационный центр)\n"
     ]
    },
    {
     "name": "stderr",
     "output_type": "stream",
     "text": [
      "Creating outline: 100%|██████████| 283/283 [00:00<00:00, 61147.13it/s]\n"
     ]
    },
    {
     "name": "stdout",
     "output_type": "stream",
     "text": [
      "Article name:  Tomb Raider (игра, 2013)\n"
     ]
    },
    {
     "name": "stderr",
     "output_type": "stream",
     "text": [
      "Creating outline: 100%|██████████| 129/129 [00:00<00:00, 25653.84it/s]\n"
     ]
    },
    {
     "name": "stdout",
     "output_type": "stream",
     "text": [
      "Article name:  Чёрная дыра\n"
     ]
    },
    {
     "name": "stderr",
     "output_type": "stream",
     "text": [
      "Creating outline: 100%|██████████| 172/172 [00:00<00:00, 43023.63it/s]\n"
     ]
    },
    {
     "name": "stdout",
     "output_type": "stream",
     "text": [
      "Article name:  Экономика США\n"
     ]
    },
    {
     "name": "stderr",
     "output_type": "stream",
     "text": [
      "Creating outline: 100%|██████████| 148/148 [00:00<00:00, 49892.06it/s]\n"
     ]
    },
    {
     "name": "stdout",
     "output_type": "stream",
     "text": [
      "Article name:  Искусственный интеллект\n"
     ]
    },
    {
     "name": "stderr",
     "output_type": "stream",
     "text": [
      "Creating outline: 100%|██████████| 226/226 [00:00<00:00, 56531.05it/s]\n"
     ]
    },
    {
     "name": "stdout",
     "output_type": "stream",
     "text": [
      "Article name:  COVID-19\n"
     ]
    },
    {
     "name": "stderr",
     "output_type": "stream",
     "text": [
      "Creating outline: 100%|██████████| 191/191 [00:00<00:00, 47744.92it/s]\n"
     ]
    },
    {
     "name": "stdout",
     "output_type": "stream",
     "text": [
      "Article name:  Броненосный крейсер\n"
     ]
    },
    {
     "name": "stderr",
     "output_type": "stream",
     "text": [
      "Creating outline: 100%|██████████| 282/282 [00:00<00:00, 42898.37it/s]\n"
     ]
    },
    {
     "name": "stdout",
     "output_type": "stream",
     "text": [
      "Article name:  Применение искусственного интеллекта\n"
     ]
    },
    {
     "name": "stderr",
     "output_type": "stream",
     "text": [
      "Creating outline: 100%|██████████| 151/151 [00:00<00:00, 59664.62it/s]\n"
     ]
    },
    {
     "name": "stdout",
     "output_type": "stream",
     "text": [
      "Article name:  РИА Новости\n"
     ]
    },
    {
     "name": "stderr",
     "output_type": "stream",
     "text": [
      "Creating outline: 100%|██████████| 102/102 [00:00<00:00, 50967.24it/s]\n"
     ]
    },
    {
     "name": "stdout",
     "output_type": "stream",
     "text": [
      "Article name:  Uncharted 4: A Thief’s End\n"
     ]
    },
    {
     "name": "stderr",
     "output_type": "stream",
     "text": [
      "Creating outline: 100%|██████████| 56/56 [00:00<00:00, 40006.99it/s]\n"
     ]
    },
    {
     "name": "stdout",
     "output_type": "stream",
     "text": [
      "Article name:  Экономика КНР\n"
     ]
    },
    {
     "name": "stderr",
     "output_type": "stream",
     "text": [
      "Creating outline: 100%|██████████| 226/226 [00:00<00:00, 44922.64it/s]\n"
     ]
    },
    {
     "name": "stdout",
     "output_type": "stream",
     "text": [
      "Article name:  Экономика Германии\n"
     ]
    },
    {
     "name": "stderr",
     "output_type": "stream",
     "text": [
      "Creating outline: 100%|██████████| 151/151 [00:00<00:00, 75604.62it/s]\n"
     ]
    },
    {
     "name": "stdout",
     "output_type": "stream",
     "text": [
      "Article name:  Иннополис\n"
     ]
    },
    {
     "name": "stderr",
     "output_type": "stream",
     "text": [
      "Creating outline: 100%|██████████| 84/84 [00:00<00:00, 83389.71it/s]\n"
     ]
    },
    {
     "name": "stdout",
     "output_type": "stream",
     "text": [
      "Article name:  Летние Олимпийские игры 2020\n"
     ]
    },
    {
     "name": "stderr",
     "output_type": "stream",
     "text": [
      "Creating outline: 100%|██████████| 52/52 [00:00<00:00, 39418.73it/s]\n"
     ]
    },
    {
     "name": "stdout",
     "output_type": "stream",
     "text": [
      "Article name:  Солнечная система\n"
     ]
    },
    {
     "name": "stderr",
     "output_type": "stream",
     "text": [
      "Creating outline: 100%|██████████| 155/155 [00:00<00:00, 51514.83it/s]\n"
     ]
    },
    {
     "name": "stdout",
     "output_type": "stream",
     "text": [
      "Article name:  C++\n"
     ]
    },
    {
     "name": "stderr",
     "output_type": "stream",
     "text": [
      "Creating outline: 100%|██████████| 184/184 [00:00<00:00, 61459.90it/s]\n"
     ]
    },
    {
     "name": "stdout",
     "output_type": "stream",
     "text": [
      "Article name:  Си (язык программирования)\n"
     ]
    },
    {
     "name": "stderr",
     "output_type": "stream",
     "text": [
      "Creating outline: 100%|██████████| 223/223 [00:00<00:00, 55747.39it/s]\n"
     ]
    },
    {
     "name": "stdout",
     "output_type": "stream",
     "text": [
      "Article name:  Сбербанк России\n"
     ]
    },
    {
     "name": "stderr",
     "output_type": "stream",
     "text": [
      "Creating outline: 100%|██████████| 176/176 [00:00<00:00, 58684.91it/s]\n"
     ]
    },
    {
     "name": "stdout",
     "output_type": "stream",
     "text": [
      "Article name:  Чёрная смерть\n"
     ]
    },
    {
     "name": "stderr",
     "output_type": "stream",
     "text": [
      "Creating outline: 100%|██████████| 275/275 [00:00<00:00, 34551.53it/s]\n"
     ]
    },
    {
     "name": "stdout",
     "output_type": "stream",
     "text": [
      "Article name:  Яндекс\n"
     ]
    },
    {
     "name": "stderr",
     "output_type": "stream",
     "text": [
      "Creating outline: 100%|██████████| 105/105 [00:00<00:00, 52341.56it/s]\n"
     ]
    },
    {
     "name": "stdout",
     "output_type": "stream",
     "text": [
      "Article name:  Google (компания)\n"
     ]
    },
    {
     "name": "stderr",
     "output_type": "stream",
     "text": [
      "Creating outline: 100%|██████████| 142/142 [00:00<00:00, 47302.93it/s]\n"
     ]
    },
    {
     "name": "stdout",
     "output_type": "stream",
     "text": [
      "Article name:  Большой адронный коллайдер\n"
     ]
    },
    {
     "name": "stderr",
     "output_type": "stream",
     "text": [
      "Creating outline: 100%|██████████| 88/88 [00:00<00:00, 44668.86it/s]\n"
     ]
    }
   ],
   "source": [
    "\n",
    "client = LlmCompleter(api_address=URL, api_key=KEY, model_name='llama3-70b')\n",
    "wiki_writer = WikiGen(client)\n",
    "annotations = AsyncList()\n",
    "\n",
    "pages = [get_article(name) for name in article_names]\n",
    "\n",
    "for page in pages:\n",
    "    annotations.append(wiki_writer.get_ref_subqueries(page))\n",
    "    annotations.append(wiki_writer.get_ref_subqueries(page, 1))\n",
    "\n",
    "await annotations.complete_couroutines(batch_size=20)\n",
    "annotations = await annotations.to_list()"
   ]
  },
  {
   "cell_type": "code",
   "execution_count": 10,
   "id": "cd9e40d3-ceb3-4db5-9898-9cb99f19d142",
   "metadata": {},
   "outputs": [],
   "source": [
    "dir_name = os.path.join(\"Generation\", \"Subqueries_ref\", \"Annotations\")\n",
    "for i in range(0, len(annotations), 2):\n",
    "    name = re.sub(r'[<>:\"/\\\\|?*]', '', annotations[i][0])\n",
    "    file_name = os.path.join(dir_name, name + '.txt')\n",
    "    with open(file_name, 'w', encoding='utf-8') as f:\n",
    "        f.write(annotations[i][1] + \"\\n\")\n",
    "        f.write(annotations[i + 1][1])"
   ]
  },
  {
   "cell_type": "code",
   "execution_count": 46,
   "id": "9487f010-345b-4417-8423-7ccdba6298c3",
   "metadata": {},
   "outputs": [],
   "source": [
    "%reload_ext autoreload"
   ]
  },
  {
   "cell_type": "code",
   "execution_count": null,
   "id": "ce64aee5-17fa-478c-9005-2588d0088180",
   "metadata": {},
   "outputs": [],
   "source": [
    "'''\n",
    "for path in leaf_paths:\n",
    "    answer.append(wiki_writer.get_ref_subqueries(page.name, path))\n",
    "\n",
    "await answer.complete_couroutines(batch_size=25)\n",
    "answer = await answer.to_list()\n",
    "\n",
    "\n",
    "for i, json_str in enumerate(answer):\n",
    "    if json_str:\n",
    "        try:\n",
    "            if json_str.startswith('`'):\n",
    "                json_str = json_str[7:-3]\n",
    "            data = json.loads(json_str)\n",
    "            directory = os.path.join(\"Generation\", \"Subqueries_ref\", page.name)\n",
    "            os.makedirs(directory, exist_ok=True)\n",
    "            filename = page.name.replace(\" \", \"_\") + '_' + str(i) + '.json'\n",
    "            file_path = os.path.join(directory, filename)\n",
    "            with open(file_path, \"w\", encoding=\"utf-8\") as f:\n",
    "                json.dump(data, f, ensure_ascii=False, indent=2)\n",
    "        except:\n",
    "            print(f\"Пропущен некорректный JSON: {json_str}...\")\n",
    "            continue\n",
    "'''"
   ]
  },
  {
   "cell_type": "code",
   "execution_count": 22,
   "id": "740d953e-4b89-407d-9551-c7d8371bac00",
   "metadata": {},
   "outputs": [],
   "source": [
    "texts = []\n",
    "for subdir, _, files in os.walk(r'Generation\\Subqueries_ref\\Annotations'):\n",
    "    for file in files:\n",
    "        if file.endswith(\".txt\"):\n",
    "            file_path = os.path.join(subdir, file)\n",
    "            with open(file_path, \"r\", encoding=\"utf-8\") as f:\n",
    "                text = f.read()\n",
    "                texts.append((text, file_path))"
   ]
  },
  {
   "cell_type": "code",
   "execution_count": 23,
   "id": "b8f53a60-7a57-4685-b917-7c1521c17e01",
   "metadata": {},
   "outputs": [
    {
     "name": "stdout",
     "output_type": "stream",
     "text": [
      "C++\n"
     ]
    }
   ],
   "source": [
    "print(texts[0][1].split('\\\\')[-1].split('.')[0])"
   ]
  },
  {
   "cell_type": "code",
   "execution_count": 15,
   "id": "a0467bfe-7224-4a55-a97a-b9f0cc6e9389",
   "metadata": {
    "scrolled": true
   },
   "outputs": [
    {
     "name": "stdout",
     "output_type": "stream",
     "text": [
      "C++: 12 .txt файлов\n",
      "COVID-19: 90 .txt файлов\n",
      "Google (компания): 56 .txt файлов\n",
      "Python: 76 .txt файлов\n",
      "Tomb Raider (игра, 2013): 68 .txt файлов\n",
      "Uncharted 4 A Thief’s End: 27 .txt файлов\n",
      "Большой адронный коллайдер: 24 .txt файлов\n",
      "Броненосный крейсер: 4 .txt файлов\n",
      "Иннополис: 45 .txt файлов\n",
      "Искусственный интеллект: 37 .txt файлов\n",
      "Квантовый компьютер: 27 .txt файлов\n",
      "Летние Олимпийские игры 2020: 10 .txt файлов\n",
      "Летние Олимпийские игры 2024: 39 .txt файлов\n",
      "Применение искусственного интеллекта: 82 .txt файлов\n",
      "Присоединение Крыма к Российской Федерации: 20 .txt файлов\n",
      "РИА Новости: 35 .txt файлов\n",
      "Сбербанк России: 103 .txt файлов\n",
      "Си (язык программирования): 62 .txt файлов\n",
      "Сколково (инновационный центр): 156 .txt файлов\n",
      "Солнечная система: 32 .txt файлов\n",
      "Чёрная дыра: 35 .txt файлов\n",
      "Чёрная смерть: 18 .txt файлов\n",
      "Экономика Германии: 5 .txt файлов\n",
      "Экономика КНР: 65 .txt файлов\n",
      "Экономика США: 25 .txt файлов\n",
      "Яндекс: 50 .txt файлов\n"
     ]
    }
   ],
   "source": [
    "import os\n",
    "\n",
    "base_dir = os.path.join('Articles', 'Sources')\n",
    "\n",
    "folders = [f for f in os.listdir(base_dir) if os.path.isdir(os.path.join(base_dir, f))]\n",
    "txt_counts = []\n",
    "\n",
    "for folder in folders:\n",
    "    folder_path = os.path.join(base_dir, folder)\n",
    "    txt_files = [file for file in os.listdir(folder_path) if file.lower().endswith('.txt')]\n",
    "    txt_counts.append(len(txt_files))\n",
    "\n",
    "for folder, count in zip(folders, txt_counts):\n",
    "    print(f'{folder}: {count} .txt файлов')\n"
   ]
  },
  {
   "cell_type": "code",
   "execution_count": 19,
   "id": "00232d0d-dd06-4e7e-94ad-7e4f8c5dd4d4",
   "metadata": {
    "scrolled": true
   },
   "outputs": [
    {
     "data": {
      "application/vnd.jupyter.widget-view+json": {
       "model_id": "c4903ed6c05348bfae217eca373d22d3",
       "version_major": 2,
       "version_minor": 0
      },
      "text/plain": [
       "Split strings:   0%|          | 0/2001 [00:00<?, ?it/s]"
      ]
     },
     "metadata": {},
     "output_type": "display_data"
    },
    {
     "data": {
      "application/vnd.jupyter.widget-view+json": {
       "model_id": "2482ddcca78d4ded9137d1f12f36ff42",
       "version_major": 2,
       "version_minor": 0
      },
      "text/plain": [
       "Stem Tokens:   0%|          | 0/2001 [00:00<?, ?it/s]"
      ]
     },
     "metadata": {},
     "output_type": "display_data"
    },
    {
     "name": "stdout",
     "output_type": "stream",
     "text": [
      "{'Articles\\\\Sources\\\\Dota 2\\\\source_20.txt', 'Articles\\\\Sources\\\\Python\\\\source_10.txt', 'Articles\\\\Sources\\\\Python\\\\source_23.txt', 'Articles\\\\Sources\\\\Python\\\\source_26.txt', 'Articles\\\\Sources\\\\Иннополис\\\\source_16.txt', 'Articles\\\\Sources\\\\Сколково (инновационный центр)\\\\source_40.txt', 'Articles\\\\Sources\\\\Геморрагическая лихорадка Эбола\\\\source_23.txt', 'Articles\\\\Sources\\\\Применение искусственного интеллекта\\\\source_82.txt', 'Articles\\\\Sources\\\\Экономика США\\\\source_4.txt', 'Articles\\\\Sources\\\\Большой адронный коллайдер\\\\source_24.txt', 'Articles\\\\Sources\\\\COVID-19\\\\source_5.txt', 'Articles\\\\Sources\\\\TikTok\\\\source_33.txt', 'Articles\\\\Sources\\\\Uncharted 4 A Thief’s End\\\\source_19.txt', 'Articles\\\\Sources\\\\Сколково (инновационный центр)\\\\source_10.txt', 'Articles\\\\Sources\\\\Яндекс\\\\source_36.txt', 'Articles\\\\Sources\\\\Сколково (инновационный центр)\\\\source_98.txt', 'Articles\\\\Sources\\\\Google (компания)\\\\source_30.txt', 'Articles\\\\Sources\\\\TikTok\\\\source_32.txt', 'Articles\\\\Sources\\\\Сбербанк России\\\\source_69.txt', 'Articles\\\\Sources\\\\Си (язык программирования)\\\\source_37.txt', 'Articles\\\\Sources\\\\Си (язык программирования)\\\\source_25.txt', 'Articles\\\\Sources\\\\Си (язык программирования)\\\\source_18.txt', 'Articles\\\\Sources\\\\Марс\\\\source_49.txt', 'Articles\\\\Sources\\\\COVID-19\\\\source_3.txt', 'Articles\\\\Sources\\\\Tomb Raider (игра, 2013)\\\\source_40.txt', 'Articles\\\\Sources\\\\Искусственный интеллект\\\\source_15.txt', 'Articles\\\\Sources\\\\Сбербанк России\\\\source_28.txt', 'Articles\\\\Sources\\\\Сбербанк России\\\\source_4.txt', 'Articles\\\\Sources\\\\Экономика КНР\\\\source_7.txt', 'Articles\\\\Sources\\\\C++\\\\source_7.txt', 'Articles\\\\Sources\\\\Применение искусственного интеллекта\\\\source_29.txt', 'Articles\\\\Sources\\\\Сколково (инновационный центр)\\\\source_54.txt', 'Articles\\\\Sources\\\\TikTok\\\\source_41.txt', 'Articles\\\\Sources\\\\Иннополис\\\\source_14.txt', 'Articles\\\\Sources\\\\Применение искусственного интеллекта\\\\source_20.txt', 'Articles\\\\Sources\\\\РИА Новости\\\\source_13.txt', 'Articles\\\\Sources\\\\Марс\\\\source_50.txt', 'Articles\\\\Sources\\\\Google (компания)\\\\source_7.txt', 'Articles\\\\Sources\\\\Применение искусственного интеллекта\\\\source_52.txt', 'Articles\\\\Sources\\\\Python\\\\source_63.txt', 'Articles\\\\Sources\\\\Применение искусственного интеллекта\\\\source_24.txt', 'Articles\\\\Sources\\\\Google (компания)\\\\source_9.txt', 'Articles\\\\Sources\\\\Большой адронный коллайдер\\\\source_1.txt', 'Articles\\\\Sources\\\\Uncharted 4 A Thief’s End\\\\source_25.txt', 'Articles\\\\Sources\\\\Яндекс\\\\source_40.txt', 'Articles\\\\Sources\\\\Экономика КНР\\\\source_36.txt', 'Articles\\\\Sources\\\\РИА Новости\\\\source_1.txt', 'Articles\\\\Sources\\\\COVID-19\\\\source_61.txt', 'Articles\\\\Sources\\\\Сколково (инновационный центр)\\\\source_64.txt', 'Articles\\\\Sources\\\\Присоединение Крыма к Российской Федерации\\\\source_20.txt', 'Articles\\\\Sources\\\\Portal 2\\\\source_20.txt', 'Articles\\\\Sources\\\\Си (язык программирования)\\\\source_52.txt', 'Articles\\\\Sources\\\\Tomb Raider (игра, 2013)\\\\source_63.txt', 'Articles\\\\Sources\\\\Google (компания)\\\\source_1.txt', 'Articles\\\\Sources\\\\Летние Олимпийские игры 2024\\\\source_38.txt', 'Articles\\\\Sources\\\\Portal 2\\\\source_11.txt', 'Articles\\\\Sources\\\\Вирус иммунодефицита человека\\\\source_18.txt', 'Articles\\\\Sources\\\\Применение искусственного интеллекта\\\\source_75.txt', 'Articles\\\\Sources\\\\Tomb Raider (игра, 2013)\\\\source_41.txt', 'Articles\\\\Sources\\\\Google (компания)\\\\source_34.txt', 'Articles\\\\Sources\\\\Яндекс\\\\source_15.txt', 'Articles\\\\Sources\\\\Геморрагическая лихорадка Эбола\\\\source_27.txt', 'Articles\\\\Sources\\\\Сбербанк России\\\\source_50.txt', 'Articles\\\\Sources\\\\Сбербанк России\\\\source_95.txt', 'Articles\\\\Sources\\\\Иннополис\\\\source_4.txt', 'Articles\\\\Sources\\\\Геморрагическая лихорадка Эбола\\\\source_25.txt', 'Articles\\\\Sources\\\\РИА Новости\\\\source_2.txt', 'Articles\\\\Sources\\\\Сколково (инновационный центр)\\\\source_123.txt', 'Articles\\\\Sources\\\\Применение искусственного интеллекта\\\\source_71.txt', 'Articles\\\\Sources\\\\Экономика США\\\\source_14.txt', 'Articles\\\\Sources\\\\YouTube\\\\source_12.txt', 'Articles\\\\Sources\\\\Присоединение Крыма к Российской Федерации\\\\source_18.txt', 'Articles\\\\Sources\\\\Применение искусственного интеллекта\\\\source_8.txt', 'Articles\\\\Sources\\\\Python\\\\source_61.txt', 'Articles\\\\Sources\\\\TikTok\\\\source_57.txt', 'Articles\\\\Sources\\\\C++\\\\source_5.txt', 'Articles\\\\Sources\\\\Tomb Raider (игра, 2013)\\\\source_66.txt', 'Articles\\\\Sources\\\\Квантовый компьютер\\\\source_5.txt', 'Articles\\\\Sources\\\\Летние Олимпийские игры 2024\\\\source_11.txt', 'Articles\\\\Sources\\\\Летние Олимпийские игры 2024\\\\source_36.txt', 'Articles\\\\Sources\\\\COVID-19\\\\source_63.txt', 'Articles\\\\Sources\\\\Си (язык программирования)\\\\source_44.txt', 'Articles\\\\Sources\\\\Сколково (инновационный центр)\\\\source_136.txt', 'Articles\\\\Sources\\\\Экономика КНР\\\\source_46.txt', 'Articles\\\\Sources\\\\YouTube\\\\source_16.txt', 'Articles\\\\Sources\\\\Применение искусственного интеллекта\\\\source_1.txt', 'Articles\\\\Sources\\\\Tomb Raider (игра, 2013)\\\\source_1.txt', 'Articles\\\\Sources\\\\Экономика США\\\\source_21.txt', 'Articles\\\\Sources\\\\Сбербанк России\\\\source_96.txt', 'Articles\\\\Sources\\\\Вирус иммунодефицита человека\\\\source_44.txt', 'Articles\\\\Sources\\\\Большой адронный коллайдер\\\\source_18.txt', 'Articles\\\\Sources\\\\Сколково (инновационный центр)\\\\source_97.txt', 'Articles\\\\Sources\\\\Tomb Raider (игра, 2013)\\\\source_59.txt', 'Articles\\\\Sources\\\\Python\\\\source_73.txt', 'Articles\\\\Sources\\\\Сколково (инновационный центр)\\\\source_142.txt', 'Articles\\\\Sources\\\\Python\\\\source_54.txt', 'Articles\\\\Sources\\\\Сбербанк России\\\\source_13.txt', 'Articles\\\\Sources\\\\Сбербанк России\\\\source_66.txt', 'Articles\\\\Sources\\\\Google (компания)\\\\source_23.txt', 'Articles\\\\Sources\\\\Tomb Raider (игра, 2013)\\\\source_62.txt', 'Articles\\\\Sources\\\\Portal 2\\\\source_14.txt', 'Articles\\\\Sources\\\\Python\\\\source_2.txt', 'Articles\\\\Sources\\\\TikTok\\\\source_44.txt', 'Articles\\\\Sources\\\\Присоединение Крыма к Российской Федерации\\\\source_2.txt', 'Articles\\\\Sources\\\\Летние Олимпийские игры 2024\\\\source_33.txt', 'Articles\\\\Sources\\\\Яндекс\\\\source_4.txt', 'Articles\\\\Sources\\\\Сбербанк России\\\\source_20.txt', 'Articles\\\\Sources\\\\Вирус иммунодефицита человека\\\\source_1.txt', 'Articles\\\\Sources\\\\Си (язык программирования)\\\\source_43.txt', 'Articles\\\\Sources\\\\Portal 2\\\\source_7.txt', 'Articles\\\\Sources\\\\Python\\\\source_60.txt', 'Articles\\\\Sources\\\\Иннополис\\\\source_10.txt', 'Articles\\\\Sources\\\\COVID-19\\\\source_11.txt', 'Articles\\\\Sources\\\\Python\\\\source_6.txt', 'Articles\\\\Sources\\\\Сколково (инновационный центр)\\\\source_150.txt', 'Articles\\\\Sources\\\\РИА Новости\\\\source_4.txt', 'Articles\\\\Sources\\\\TikTok\\\\source_52.txt', 'Articles\\\\Sources\\\\Tomb Raider (игра, 2013)\\\\source_48.txt', 'Articles\\\\Sources\\\\Применение искусственного интеллекта\\\\source_6.txt', 'Articles\\\\Sources\\\\Сбербанк России\\\\source_44.txt', 'Articles\\\\Sources\\\\Квантовый компьютер\\\\source_23.txt', 'Articles\\\\Sources\\\\Экономика КНР\\\\source_27.txt', 'Articles\\\\Sources\\\\Солнечная система\\\\source_22.txt', 'Articles\\\\Sources\\\\Геморрагическая лихорадка Эбола\\\\source_16.txt', 'Articles\\\\Sources\\\\Марс\\\\source_35.txt', 'Articles\\\\Sources\\\\TikTok\\\\source_51.txt', 'Articles\\\\Sources\\\\Сколково (инновационный центр)\\\\source_65.txt', 'Articles\\\\Sources\\\\Tomb Raider (игра, 2013)\\\\source_33.txt', 'Articles\\\\Sources\\\\Чёрная дыра\\\\source_30.txt', 'Articles\\\\Sources\\\\Солнечная система\\\\source_18.txt', 'Articles\\\\Sources\\\\Сколково (инновационный центр)\\\\source_116.txt', 'Articles\\\\Sources\\\\C++\\\\source_12.txt', 'Articles\\\\Sources\\\\Применение искусственного интеллекта\\\\source_40.txt', 'Articles\\\\Sources\\\\Си (язык программирования)\\\\source_21.txt', 'Articles\\\\Sources\\\\Большой адронный коллайдер\\\\source_12.txt', 'Articles\\\\Sources\\\\Применение искусственного интеллекта\\\\source_9.txt', 'Articles\\\\Sources\\\\Сбербанк России\\\\source_92.txt', 'Articles\\\\Sources\\\\Сколково (инновационный центр)\\\\source_46.txt', 'Articles\\\\Sources\\\\Искусственный интеллект\\\\source_7.txt', 'Articles\\\\Sources\\\\Яндекс\\\\source_25.txt', 'Articles\\\\Sources\\\\TikTok\\\\source_5.txt', 'Articles\\\\Sources\\\\Сколково (инновационный центр)\\\\source_19.txt', 'Articles\\\\Sources\\\\Экономика США\\\\source_22.txt', 'Articles\\\\Sources\\\\Экономика США\\\\source_12.txt', 'Articles\\\\Sources\\\\Tomb Raider (игра, 2013)\\\\source_58.txt', 'Articles\\\\Sources\\\\РИА Новости\\\\source_35.txt', 'Articles\\\\Sources\\\\Экономика КНР\\\\source_4.txt', 'Articles\\\\Sources\\\\Portal 2\\\\source_17.txt', 'Articles\\\\Sources\\\\TikTok\\\\source_28.txt', 'Articles\\\\Sources\\\\Применение искусственного интеллекта\\\\source_67.txt', 'Articles\\\\Sources\\\\Google (компания)\\\\source_28.txt', 'Articles\\\\Sources\\\\Летние Олимпийские игры 2024\\\\source_7.txt', 'Articles\\\\Sources\\\\Применение искусственного интеллекта\\\\source_27.txt', 'Articles\\\\Sources\\\\Летние Олимпийские игры 2024\\\\source_28.txt', 'Articles\\\\Sources\\\\Portal 2\\\\source_27.txt', 'Articles\\\\Sources\\\\Яндекс\\\\source_26.txt', 'Articles\\\\Sources\\\\Экономика КНР\\\\source_50.txt', 'Articles\\\\Sources\\\\Экономика США\\\\source_7.txt', 'Articles\\\\Sources\\\\Сбербанк России\\\\source_102.txt', 'Articles\\\\Sources\\\\Сколково (инновационный центр)\\\\source_67.txt', 'Articles\\\\Sources\\\\Сколково (инновационный центр)\\\\source_143.txt', 'Articles\\\\Sources\\\\Сбербанк России\\\\source_25.txt', 'Articles\\\\Sources\\\\Dota 2\\\\source_9.txt', 'Articles\\\\Sources\\\\Иннополис\\\\source_38.txt', 'Articles\\\\Sources\\\\C++\\\\source_11.txt', 'Articles\\\\Sources\\\\Portal 2\\\\source_16.txt', 'Articles\\\\Sources\\\\РИА Новости\\\\source_20.txt', 'Articles\\\\Sources\\\\TikTok\\\\source_63.txt', 'Articles\\\\Sources\\\\Tomb Raider (игра, 2013)\\\\source_2.txt', 'Articles\\\\Sources\\\\Марс\\\\source_43.txt', 'Articles\\\\Sources\\\\Марс\\\\source_37.txt', 'Articles\\\\Sources\\\\COVID-19\\\\source_14.txt', 'Articles\\\\Sources\\\\Сколково (инновационный центр)\\\\source_53.txt', 'Articles\\\\Sources\\\\COVID-19\\\\source_90.txt', 'Articles\\\\Sources\\\\Вирус иммунодефицита человека\\\\source_37.txt', 'Articles\\\\Sources\\\\Сколково (инновационный центр)\\\\source_145.txt', 'Articles\\\\Sources\\\\Сбербанк России\\\\source_45.txt', 'Articles\\\\Sources\\\\Большой адронный коллайдер\\\\source_19.txt', 'Articles\\\\Sources\\\\Применение искусственного интеллекта\\\\source_16.txt', 'Articles\\\\Sources\\\\COVID-19\\\\source_64.txt', 'Articles\\\\Sources\\\\Искусственный интеллект\\\\source_32.txt', 'Articles\\\\Sources\\\\РИА Новости\\\\source_14.txt', 'Articles\\\\Sources\\\\Применение искусственного интеллекта\\\\source_76.txt', 'Articles\\\\Sources\\\\Квантовый компьютер\\\\source_21.txt', 'Articles\\\\Sources\\\\Сбербанк России\\\\source_14.txt', 'Articles\\\\Sources\\\\Portal 2\\\\source_6.txt', 'Articles\\\\Sources\\\\Квантовый компьютер\\\\source_1.txt', 'Articles\\\\Sources\\\\Применение искусственного интеллекта\\\\source_49.txt', 'Articles\\\\Sources\\\\Сколково (инновационный центр)\\\\source_3.txt', 'Articles\\\\Sources\\\\Си (язык программирования)\\\\source_53.txt', 'Articles\\\\Sources\\\\Python\\\\source_12.txt', 'Articles\\\\Sources\\\\Экономика КНР\\\\source_42.txt', 'Articles\\\\Sources\\\\Солнечная система\\\\source_11.txt', 'Articles\\\\Sources\\\\Иннополис\\\\source_1.txt', 'Articles\\\\Sources\\\\Экономика США\\\\source_2.txt', 'Articles\\\\Sources\\\\Сбербанк России\\\\source_60.txt', 'Articles\\\\Sources\\\\Геморрагическая лихорадка Эбола\\\\source_33.txt', 'Articles\\\\Sources\\\\Сбербанк России\\\\source_93.txt', 'Articles\\\\Sources\\\\Сколково (инновационный центр)\\\\source_45.txt', 'Articles\\\\Sources\\\\Применение искусственного интеллекта\\\\source_37.txt', 'Articles\\\\Sources\\\\Экономика КНР\\\\source_51.txt', 'Articles\\\\Sources\\\\Сбербанк России\\\\source_29.txt', 'Articles\\\\Sources\\\\YouTube\\\\source_13.txt', 'Articles\\\\Sources\\\\Python\\\\source_44.txt', 'Articles\\\\Sources\\\\Portal 2\\\\source_9.txt', 'Articles\\\\Sources\\\\Python\\\\source_66.txt', 'Articles\\\\Sources\\\\Си (язык программирования)\\\\source_15.txt', 'Articles\\\\Sources\\\\Сколково (инновационный центр)\\\\source_12.txt', 'Articles\\\\Sources\\\\YouTube\\\\source_26.txt', 'Articles\\\\Sources\\\\Присоединение Крыма к Российской Федерации\\\\source_11.txt', 'Articles\\\\Sources\\\\Чёрная дыра\\\\source_34.txt', 'Articles\\\\Sources\\\\Чёрная смерть\\\\source_5.txt', 'Articles\\\\Sources\\\\Вирус иммунодефицита человека\\\\source_20.txt', 'Articles\\\\Sources\\\\Летние Олимпийские игры 2020\\\\source_1.txt', 'Articles\\\\Sources\\\\Сбербанк России\\\\source_101.txt', 'Articles\\\\Sources\\\\Сколково (инновационный центр)\\\\source_113.txt', 'Articles\\\\Sources\\\\Яндекс\\\\source_46.txt', 'Articles\\\\Sources\\\\Экономика Германии\\\\source_3.txt', 'Articles\\\\Sources\\\\Экономика США\\\\source_25.txt', 'Articles\\\\Sources\\\\Tomb Raider (игра, 2013)\\\\source_32.txt', 'Articles\\\\Sources\\\\C++\\\\source_3.txt', 'Articles\\\\Sources\\\\TikTok\\\\source_72.txt', 'Articles\\\\Sources\\\\Применение искусственного интеллекта\\\\source_59.txt', 'Articles\\\\Sources\\\\Применение искусственного интеллекта\\\\source_44.txt', 'Articles\\\\Sources\\\\Яндекс\\\\source_17.txt', 'Articles\\\\Sources\\\\YouTube\\\\source_25.txt', 'Articles\\\\Sources\\\\Сбербанк России\\\\source_67.txt', 'Articles\\\\Sources\\\\Яндекс\\\\source_10.txt', 'Articles\\\\Sources\\\\Летние Олимпийские игры 2024\\\\source_24.txt', 'Articles\\\\Sources\\\\Экономика КНР\\\\source_18.txt', 'Articles\\\\Sources\\\\Экономика КНР\\\\source_34.txt', 'Articles\\\\Sources\\\\Геморрагическая лихорадка Эбола\\\\source_5.txt', 'Articles\\\\Sources\\\\YouTube\\\\source_21.txt', 'Articles\\\\Sources\\\\Сбербанк России\\\\source_21.txt', 'Articles\\\\Sources\\\\Сбербанк России\\\\source_87.txt', 'Articles\\\\Sources\\\\YouTube\\\\source_11.txt', 'Articles\\\\Sources\\\\Tomb Raider (игра, 2013)\\\\source_26.txt', 'Articles\\\\Sources\\\\Сколково (инновационный центр)\\\\source_15.txt', 'Articles\\\\Sources\\\\Присоединение Крыма к Российской Федерации\\\\source_6.txt', 'Articles\\\\Sources\\\\Экономика КНР\\\\source_33.txt', 'Articles\\\\Sources\\\\YouTube\\\\source_18.txt', 'Articles\\\\Sources\\\\Чёрная дыра\\\\source_15.txt', 'Articles\\\\Sources\\\\Солнечная система\\\\source_26.txt', 'Articles\\\\Sources\\\\Солнечная система\\\\source_12.txt', 'Articles\\\\Sources\\\\Большой адронный коллайдер\\\\source_20.txt', 'Articles\\\\Sources\\\\Сколково (инновационный центр)\\\\source_122.txt', 'Articles\\\\Sources\\\\Экономика КНР\\\\source_62.txt', 'Articles\\\\Sources\\\\Сколково (инновационный центр)\\\\source_25.txt', 'Articles\\\\Sources\\\\Си (язык программирования)\\\\source_31.txt', 'Articles\\\\Sources\\\\Сколково (инновационный центр)\\\\source_50.txt', 'Articles\\\\Sources\\\\Си (язык программирования)\\\\source_56.txt', 'Articles\\\\Sources\\\\YouTube\\\\source_3.txt', 'Articles\\\\Sources\\\\COVID-19\\\\source_88.txt', 'Articles\\\\Sources\\\\Google (компания)\\\\source_21.txt', 'Articles\\\\Sources\\\\Python\\\\source_32.txt', 'Articles\\\\Sources\\\\Uncharted 4 A Thief’s End\\\\source_23.txt', 'Articles\\\\Sources\\\\Марс\\\\source_20.txt', 'Articles\\\\Sources\\\\Вирус иммунодефицита человека\\\\source_33.txt', 'Articles\\\\Sources\\\\Геморрагическая лихорадка Эбола\\\\source_9.txt', 'Articles\\\\Sources\\\\Большой адронный коллайдер\\\\source_10.txt', 'Articles\\\\Sources\\\\Сбербанк России\\\\source_68.txt', 'Articles\\\\Sources\\\\Uncharted 4 A Thief’s End\\\\source_24.txt', 'Articles\\\\Sources\\\\Квантовый компьютер\\\\source_13.txt', 'Articles\\\\Sources\\\\TikTok\\\\source_42.txt', 'Articles\\\\Sources\\\\Иннополис\\\\source_20.txt', 'Articles\\\\Sources\\\\Сбербанк России\\\\source_103.txt', 'Articles\\\\Sources\\\\Искусственный интеллект\\\\source_37.txt', 'Articles\\\\Sources\\\\Присоединение Крыма к Российской Федерации\\\\source_8.txt', 'Articles\\\\Sources\\\\Чёрная смерть\\\\source_4.txt', 'Articles\\\\Sources\\\\Искусственный интеллект\\\\source_11.txt', 'Articles\\\\Sources\\\\Сколково (инновационный центр)\\\\source_144.txt', 'Articles\\\\Sources\\\\Марс\\\\source_57.txt', 'Articles\\\\Sources\\\\Яндекс\\\\source_31.txt', 'Articles\\\\Sources\\\\TikTok\\\\source_62.txt', 'Articles\\\\Sources\\\\Си (язык программирования)\\\\source_40.txt', 'Articles\\\\Sources\\\\TikTok\\\\source_74.txt', 'Articles\\\\Sources\\\\Применение искусственного интеллекта\\\\source_35.txt', 'Articles\\\\Sources\\\\TikTok\\\\source_37.txt', 'Articles\\\\Sources\\\\Сколково (инновационный центр)\\\\source_94.txt', 'Articles\\\\Sources\\\\Сколково (инновационный центр)\\\\source_90.txt', 'Articles\\\\Sources\\\\Tomb Raider (игра, 2013)\\\\source_39.txt', 'Articles\\\\Sources\\\\TikTok\\\\source_73.txt', 'Articles\\\\Sources\\\\Геморрагическая лихорадка Эбола\\\\source_32.txt', 'Articles\\\\Sources\\\\Яндекс\\\\source_18.txt', 'Articles\\\\Sources\\\\Применение искусственного интеллекта\\\\source_5.txt', 'Articles\\\\Sources\\\\Яндекс\\\\source_23.txt', 'Articles\\\\Sources\\\\Марс\\\\source_1.txt', 'Articles\\\\Sources\\\\Google (компания)\\\\source_46.txt', 'Articles\\\\Sources\\\\Применение искусственного интеллекта\\\\source_43.txt', 'Articles\\\\Sources\\\\Квантовый компьютер\\\\source_12.txt', 'Articles\\\\Sources\\\\C++\\\\source_2.txt', 'Articles\\\\Sources\\\\TikTok\\\\source_48.txt', 'Articles\\\\Sources\\\\Uncharted 4 A Thief’s End\\\\source_22.txt', 'Articles\\\\Sources\\\\Python\\\\source_64.txt', 'Articles\\\\Sources\\\\Tomb Raider (игра, 2013)\\\\source_55.txt', 'Articles\\\\Sources\\\\Чёрная дыра\\\\source_22.txt', 'Articles\\\\Sources\\\\Си (язык программирования)\\\\source_59.txt', 'Articles\\\\Sources\\\\TikTok\\\\source_39.txt', 'Articles\\\\Sources\\\\Марс\\\\source_47.txt', 'Articles\\\\Sources\\\\Летние Олимпийские игры 2024\\\\source_1.txt', 'Articles\\\\Sources\\\\Dota 2\\\\source_6.txt', 'Articles\\\\Sources\\\\Сбербанк России\\\\source_76.txt', 'Articles\\\\Sources\\\\Python\\\\source_58.txt', 'Articles\\\\Sources\\\\Сколково (инновационный центр)\\\\source_51.txt', 'Articles\\\\Sources\\\\Вирус иммунодефицита человека\\\\source_13.txt', 'Articles\\\\Sources\\\\Яндекс\\\\source_9.txt', 'Articles\\\\Sources\\\\Экономика США\\\\source_8.txt', 'Articles\\\\Sources\\\\Летние Олимпийские игры 2024\\\\source_17.txt', 'Articles\\\\Sources\\\\Си (язык программирования)\\\\source_24.txt', 'Articles\\\\Sources\\\\Сколково (инновационный центр)\\\\source_82.txt', 'Articles\\\\Sources\\\\Сбербанк России\\\\source_53.txt', 'Articles\\\\Sources\\\\Portal 2\\\\source_25.txt', 'Articles\\\\Sources\\\\Сколково (инновационный центр)\\\\source_95.txt', 'Articles\\\\Sources\\\\Сбербанк России\\\\source_100.txt', 'Articles\\\\Sources\\\\Искусственный интеллект\\\\source_12.txt', 'Articles\\\\Sources\\\\Uncharted 4 A Thief’s End\\\\source_5.txt', 'Articles\\\\Sources\\\\Чёрная дыра\\\\source_24.txt', 'Articles\\\\Sources\\\\Вирус иммунодефицита человека\\\\source_39.txt', 'Articles\\\\Sources\\\\Летние Олимпийские игры 2024\\\\source_26.txt', 'Articles\\\\Sources\\\\Экономика КНР\\\\source_53.txt', 'Articles\\\\Sources\\\\Portal 2\\\\source_24.txt', 'Articles\\\\Sources\\\\Применение искусственного интеллекта\\\\source_26.txt', 'Articles\\\\Sources\\\\Google (компания)\\\\source_16.txt', 'Articles\\\\Sources\\\\TikTok\\\\source_40.txt', 'Articles\\\\Sources\\\\Чёрная дыра\\\\source_23.txt', 'Articles\\\\Sources\\\\Иннополис\\\\source_21.txt', 'Articles\\\\Sources\\\\Летние Олимпийские игры 2024\\\\source_5.txt', 'Articles\\\\Sources\\\\Сколково (инновационный центр)\\\\source_107.txt', 'Articles\\\\Sources\\\\Сколково (инновационный центр)\\\\source_111.txt', 'Articles\\\\Sources\\\\Tomb Raider (игра, 2013)\\\\source_68.txt', 'Articles\\\\Sources\\\\COVID-19\\\\source_42.txt', 'Articles\\\\Sources\\\\РИА Новости\\\\source_16.txt', 'Articles\\\\Sources\\\\Применение искусственного интеллекта\\\\source_45.txt', 'Articles\\\\Sources\\\\Чёрная дыра\\\\source_12.txt', 'Articles\\\\Sources\\\\Сбербанк России\\\\source_57.txt', 'Articles\\\\Sources\\\\Экономика США\\\\source_9.txt', 'Articles\\\\Sources\\\\Квантовый компьютер\\\\source_14.txt', 'Articles\\\\Sources\\\\Uncharted 4 A Thief’s End\\\\source_10.txt', 'Articles\\\\Sources\\\\Чёрная дыра\\\\source_3.txt', 'Articles\\\\Sources\\\\Google (компания)\\\\source_13.txt', 'Articles\\\\Sources\\\\COVID-19\\\\source_82.txt', 'Articles\\\\Sources\\\\Tomb Raider (игра, 2013)\\\\source_31.txt', 'Articles\\\\Sources\\\\Си (язык программирования)\\\\source_4.txt', 'Articles\\\\Sources\\\\C++\\\\source_1.txt', 'Articles\\\\Sources\\\\Сколково (инновационный центр)\\\\source_139.txt', 'Articles\\\\Sources\\\\Google (компания)\\\\source_52.txt', 'Articles\\\\Sources\\\\Python\\\\source_8.txt', 'Articles\\\\Sources\\\\YouTube\\\\source_24.txt', 'Articles\\\\Sources\\\\Экономика КНР\\\\source_8.txt', 'Articles\\\\Sources\\\\Google (компания)\\\\source_33.txt', 'Articles\\\\Sources\\\\Искусственный интеллект\\\\source_16.txt', 'Articles\\\\Sources\\\\Portal 2\\\\source_15.txt', 'Articles\\\\Sources\\\\Летние Олимпийские игры 2024\\\\source_8.txt', 'Articles\\\\Sources\\\\Искусственный интеллект\\\\source_2.txt', 'Articles\\\\Sources\\\\Экономика КНР\\\\source_65.txt', 'Articles\\\\Sources\\\\YouTube\\\\source_5.txt', 'Articles\\\\Sources\\\\COVID-19\\\\source_57.txt', 'Articles\\\\Sources\\\\Portal 2\\\\source_33.txt', 'Articles\\\\Sources\\\\Сбербанк России\\\\source_99.txt', 'Articles\\\\Sources\\\\Tomb Raider (игра, 2013)\\\\source_29.txt', 'Articles\\\\Sources\\\\Сбербанк России\\\\source_7.txt', 'Articles\\\\Sources\\\\Марс\\\\source_7.txt', 'Articles\\\\Sources\\\\Экономика КНР\\\\source_60.txt', 'Articles\\\\Sources\\\\Марс\\\\source_2.txt', 'Articles\\\\Sources\\\\Экономика США\\\\source_11.txt', 'Articles\\\\Sources\\\\Вирус иммунодефицита человека\\\\source_41.txt', 'Articles\\\\Sources\\\\Чёрная дыра\\\\source_18.txt', 'Articles\\\\Sources\\\\Google (компания)\\\\source_50.txt', 'Articles\\\\Sources\\\\C++\\\\source_4.txt', 'Articles\\\\Sources\\\\Сбербанк России\\\\source_70.txt', 'Articles\\\\Sources\\\\Uncharted 4 A Thief’s End\\\\source_17.txt', 'Articles\\\\Sources\\\\Tomb Raider (игра, 2013)\\\\source_64.txt', 'Articles\\\\Sources\\\\Google (компания)\\\\source_56.txt', 'Articles\\\\Sources\\\\Си (язык программирования)\\\\source_3.txt', 'Articles\\\\Sources\\\\Сколково (инновационный центр)\\\\source_100.txt', 'Articles\\\\Sources\\\\COVID-19\\\\source_89.txt', 'Articles\\\\Sources\\\\Иннополис\\\\source_15.txt', 'Articles\\\\Sources\\\\Применение искусственного интеллекта\\\\source_65.txt', 'Articles\\\\Sources\\\\Вирус иммунодефицита человека\\\\source_4.txt', 'Articles\\\\Sources\\\\COVID-19\\\\source_27.txt', 'Articles\\\\Sources\\\\Квантовый компьютер\\\\source_6.txt', 'Articles\\\\Sources\\\\Google (компания)\\\\source_24.txt', 'Articles\\\\Sources\\\\Сбербанк России\\\\source_71.txt', 'Articles\\\\Sources\\\\РИА Новости\\\\source_3.txt', 'Articles\\\\Sources\\\\Python\\\\source_22.txt', 'Articles\\\\Sources\\\\Dota 2\\\\source_30.txt', 'Articles\\\\Sources\\\\Марс\\\\source_22.txt', 'Articles\\\\Sources\\\\Солнечная система\\\\source_5.txt', 'Articles\\\\Sources\\\\Искусственный интеллект\\\\source_18.txt', 'Articles\\\\Sources\\\\Си (язык программирования)\\\\source_51.txt', 'Articles\\\\Sources\\\\Большой адронный коллайдер\\\\source_2.txt', 'Articles\\\\Sources\\\\Сбербанк России\\\\source_18.txt', 'Articles\\\\Sources\\\\COVID-19\\\\source_33.txt', 'Articles\\\\Sources\\\\Чёрная дыра\\\\source_32.txt', 'Articles\\\\Sources\\\\Вирус иммунодефицита человека\\\\source_42.txt', 'Articles\\\\Sources\\\\Геморрагическая лихорадка Эбола\\\\source_15.txt', 'Articles\\\\Sources\\\\Применение искусственного интеллекта\\\\source_62.txt', 'Articles\\\\Sources\\\\Чёрная дыра\\\\source_21.txt', 'Articles\\\\Sources\\\\COVID-19\\\\source_38.txt', 'Articles\\\\Sources\\\\Чёрная дыра\\\\source_4.txt', 'Articles\\\\Sources\\\\Экономика США\\\\source_6.txt', 'Articles\\\\Sources\\\\Portal 2\\\\source_34.txt', 'Articles\\\\Sources\\\\Tomb Raider (игра, 2013)\\\\source_4.txt', 'Articles\\\\Sources\\\\Иннополис\\\\source_26.txt', 'Articles\\\\Sources\\\\COVID-19\\\\source_7.txt', 'Articles\\\\Sources\\\\Солнечная система\\\\source_15.txt', 'Articles\\\\Sources\\\\Python\\\\source_25.txt', 'Articles\\\\Sources\\\\Сколково (инновационный центр)\\\\source_24.txt', 'Articles\\\\Sources\\\\Присоединение Крыма к Российской Федерации\\\\source_10.txt', 'Articles\\\\Sources\\\\C++\\\\source_9.txt', 'Articles\\\\Sources\\\\Летние Олимпийские игры 2024\\\\source_13.txt', 'Articles\\\\Sources\\\\TikTok\\\\source_18.txt', 'Articles\\\\Sources\\\\Экономика КНР\\\\source_20.txt', 'Articles\\\\Sources\\\\Google (компания)\\\\source_18.txt', 'Articles\\\\Sources\\\\Иннополис\\\\source_19.txt', 'Articles\\\\Sources\\\\Python\\\\source_11.txt', 'Articles\\\\Sources\\\\Tomb Raider (игра, 2013)\\\\source_13.txt', 'Articles\\\\Sources\\\\Вирус иммунодефицита человека\\\\source_35.txt', 'Articles\\\\Sources\\\\Сбербанк России\\\\source_35.txt', 'Articles\\\\Sources\\\\COVID-19\\\\source_1.txt', 'Articles\\\\Sources\\\\Чёрная дыра\\\\source_8.txt', 'Articles\\\\Sources\\\\YouTube\\\\source_17.txt', 'Articles\\\\Sources\\\\Экономика Германии\\\\source_5.txt', 'Articles\\\\Sources\\\\Вирус иммунодефицита человека\\\\source_11.txt', 'Articles\\\\Sources\\\\РИА Новости\\\\source_11.txt', 'Articles\\\\Sources\\\\Сбербанк России\\\\source_42.txt', 'Articles\\\\Sources\\\\Вирус иммунодефицита человека\\\\source_40.txt', 'Articles\\\\Sources\\\\Сбербанк России\\\\source_38.txt', 'Articles\\\\Sources\\\\Квантовый компьютер\\\\source_22.txt', 'Articles\\\\Sources\\\\Сколково (инновационный центр)\\\\source_105.txt', 'Articles\\\\Sources\\\\Экономика США\\\\source_13.txt', 'Articles\\\\Sources\\\\Квантовый компьютер\\\\source_24.txt', 'Articles\\\\Sources\\\\Экономика Германии\\\\source_4.txt', 'Articles\\\\Sources\\\\Сколково (инновационный центр)\\\\source_151.txt', 'Articles\\\\Sources\\\\TikTok\\\\source_8.txt', 'Articles\\\\Sources\\\\Яндекс\\\\source_35.txt', 'Articles\\\\Sources\\\\Экономика КНР\\\\source_63.txt', 'Articles\\\\Sources\\\\РИА Новости\\\\source_15.txt', 'Articles\\\\Sources\\\\РИА Новости\\\\source_27.txt', 'Articles\\\\Sources\\\\Чёрная дыра\\\\source_11.txt', 'Articles\\\\Sources\\\\Применение искусственного интеллекта\\\\source_17.txt', 'Articles\\\\Sources\\\\Солнечная система\\\\source_2.txt', 'Articles\\\\Sources\\\\Экономика КНР\\\\source_24.txt', 'Articles\\\\Sources\\\\COVID-19\\\\source_53.txt', 'Articles\\\\Sources\\\\Марс\\\\source_21.txt', 'Articles\\\\Sources\\\\Искусственный интеллект\\\\source_25.txt', 'Articles\\\\Sources\\\\Сколково (инновационный центр)\\\\source_17.txt', 'Articles\\\\Sources\\\\Dota 2\\\\source_13.txt', 'Articles\\\\Sources\\\\Летние Олимпийские игры 2024\\\\source_31.txt', 'Articles\\\\Sources\\\\COVID-19\\\\source_49.txt', 'Articles\\\\Sources\\\\COVID-19\\\\source_46.txt', 'Articles\\\\Sources\\\\Искусственный интеллект\\\\source_30.txt', 'Articles\\\\Sources\\\\РИА Новости\\\\source_8.txt', 'Articles\\\\Sources\\\\Python\\\\source_18.txt', 'Articles\\\\Sources\\\\Сбербанк России\\\\source_36.txt', 'Articles\\\\Sources\\\\Применение искусственного интеллекта\\\\source_48.txt', 'Articles\\\\Sources\\\\Сколково (инновационный центр)\\\\source_29.txt', 'Articles\\\\Sources\\\\Dota 2\\\\source_4.txt', 'Articles\\\\Sources\\\\Сколково (инновационный центр)\\\\source_30.txt', 'Articles\\\\Sources\\\\Летние Олимпийские игры 2024\\\\source_22.txt', 'Articles\\\\Sources\\\\Присоединение Крыма к Российской Федерации\\\\source_4.txt', 'Articles\\\\Sources\\\\COVID-19\\\\source_80.txt', 'Articles\\\\Sources\\\\Сбербанк России\\\\source_55.txt', 'Articles\\\\Sources\\\\Солнечная система\\\\source_17.txt', 'Articles\\\\Sources\\\\Вирус иммунодефицита человека\\\\source_43.txt', 'Articles\\\\Sources\\\\Яндекс\\\\source_29.txt', 'Articles\\\\Sources\\\\Экономика КНР\\\\source_22.txt', 'Articles\\\\Sources\\\\Экономика КНР\\\\source_38.txt', 'Articles\\\\Sources\\\\Google (компания)\\\\source_22.txt', 'Articles\\\\Sources\\\\Экономика КНР\\\\source_16.txt', 'Articles\\\\Sources\\\\Яндекс\\\\source_42.txt', 'Articles\\\\Sources\\\\COVID-19\\\\source_50.txt', 'Articles\\\\Sources\\\\Dota 2\\\\source_7.txt', 'Articles\\\\Sources\\\\Иннополис\\\\source_42.txt', 'Articles\\\\Sources\\\\Солнечная система\\\\source_8.txt', 'Articles\\\\Sources\\\\Чёрная дыра\\\\source_25.txt', 'Articles\\\\Sources\\\\Вирус иммунодефицита человека\\\\source_36.txt', 'Articles\\\\Sources\\\\Иннополис\\\\source_36.txt', 'Articles\\\\Sources\\\\Применение искусственного интеллекта\\\\source_69.txt', 'Articles\\\\Sources\\\\Dota 2\\\\source_11.txt', 'Articles\\\\Sources\\\\Применение искусственного интеллекта\\\\source_80.txt', 'Articles\\\\Sources\\\\COVID-19\\\\source_78.txt', 'Articles\\\\Sources\\\\Сбербанк России\\\\source_41.txt', 'Articles\\\\Sources\\\\Экономика США\\\\source_23.txt', 'Articles\\\\Sources\\\\Применение искусственного интеллекта\\\\source_28.txt', 'Articles\\\\Sources\\\\Искусственный интеллект\\\\source_36.txt', 'Articles\\\\Sources\\\\Сколково (инновационный центр)\\\\source_61.txt', 'Articles\\\\Sources\\\\Солнечная система\\\\source_13.txt', 'Articles\\\\Sources\\\\Искусственный интеллект\\\\source_20.txt', 'Articles\\\\Sources\\\\C++\\\\source_6.txt', 'Articles\\\\Sources\\\\Геморрагическая лихорадка Эбола\\\\source_10.txt', 'Articles\\\\Sources\\\\Сбербанк России\\\\source_46.txt', 'Articles\\\\Sources\\\\Dota 2\\\\source_16.txt', 'Articles\\\\Sources\\\\Большой адронный коллайдер\\\\source_5.txt', 'Articles\\\\Sources\\\\TikTok\\\\source_54.txt', 'Articles\\\\Sources\\\\Вирус иммунодефицита человека\\\\source_7.txt', 'Articles\\\\Sources\\\\Си (язык программирования)\\\\source_35.txt', 'Articles\\\\Sources\\\\Иннополис\\\\source_22.txt', 'Articles\\\\Sources\\\\Яндекс\\\\source_30.txt', 'Articles\\\\Sources\\\\РИА Новости\\\\source_22.txt', 'Articles\\\\Sources\\\\Dota 2\\\\source_28.txt', 'Articles\\\\Sources\\\\Сколково (инновационный центр)\\\\source_74.txt', 'Articles\\\\Sources\\\\Марс\\\\source_39.txt', 'Articles\\\\Sources\\\\Tomb Raider (игра, 2013)\\\\source_16.txt', 'Articles\\\\Sources\\\\Си (язык программирования)\\\\source_2.txt', 'Articles\\\\Sources\\\\РИА Новости\\\\source_34.txt', 'Articles\\\\Sources\\\\Python\\\\source_62.txt', 'Articles\\\\Sources\\\\Сколково (инновационный центр)\\\\source_11.txt', 'Articles\\\\Sources\\\\Python\\\\source_15.txt', 'Articles\\\\Sources\\\\Марс\\\\source_17.txt', 'Articles\\\\Sources\\\\Сколково (инновационный центр)\\\\source_66.txt', 'Articles\\\\Sources\\\\Чёрная смерть\\\\source_6.txt', 'Articles\\\\Sources\\\\Сколково (инновационный центр)\\\\source_6.txt', 'Articles\\\\Sources\\\\Искусственный интеллект\\\\source_26.txt', 'Articles\\\\Sources\\\\Сколково (инновационный центр)\\\\source_37.txt', 'Articles\\\\Sources\\\\Присоединение Крыма к Российской Федерации\\\\source_16.txt', 'Articles\\\\Sources\\\\TikTok\\\\source_17.txt', 'Articles\\\\Sources\\\\Большой адронный коллайдер\\\\source_8.txt', 'Articles\\\\Sources\\\\Иннополис\\\\source_44.txt', 'Articles\\\\Sources\\\\Применение искусственного интеллекта\\\\source_77.txt', 'Articles\\\\Sources\\\\Python\\\\source_48.txt', 'Articles\\\\Sources\\\\Python\\\\source_55.txt', 'Articles\\\\Sources\\\\Марс\\\\source_10.txt', 'Articles\\\\Sources\\\\Portal 2\\\\source_8.txt', 'Articles\\\\Sources\\\\Google (компания)\\\\source_41.txt', 'Articles\\\\Sources\\\\Марс\\\\source_30.txt', 'Articles\\\\Sources\\\\Применение искусственного интеллекта\\\\source_50.txt', 'Articles\\\\Sources\\\\Сколково (инновационный центр)\\\\source_26.txt', 'Articles\\\\Sources\\\\COVID-19\\\\source_79.txt', 'Articles\\\\Sources\\\\COVID-19\\\\source_24.txt', 'Articles\\\\Sources\\\\Геморрагическая лихорадка Эбола\\\\source_3.txt', 'Articles\\\\Sources\\\\Сколково (инновационный центр)\\\\source_79.txt', 'Articles\\\\Sources\\\\Чёрная дыра\\\\source_26.txt', 'Articles\\\\Sources\\\\Экономика КНР\\\\source_6.txt', 'Articles\\\\Sources\\\\Python\\\\source_45.txt', 'Articles\\\\Sources\\\\Tomb Raider (игра, 2013)\\\\source_11.txt', 'Articles\\\\Sources\\\\Летние Олимпийские игры 2024\\\\source_19.txt', 'Articles\\\\Sources\\\\YouTube\\\\source_27.txt', 'Articles\\\\Sources\\\\Сбербанк России\\\\source_11.txt', 'Articles\\\\Sources\\\\Чёрная смерть\\\\source_13.txt', 'Articles\\\\Sources\\\\Dota 2\\\\source_10.txt', 'Articles\\\\Sources\\\\Квантовый компьютер\\\\source_20.txt', 'Articles\\\\Sources\\\\Tomb Raider (игра, 2013)\\\\source_38.txt', 'Articles\\\\Sources\\\\Экономика КНР\\\\source_26.txt', 'Articles\\\\Sources\\\\Tomb Raider (игра, 2013)\\\\source_24.txt', 'Articles\\\\Sources\\\\Сколково (инновационный центр)\\\\source_137.txt', 'Articles\\\\Sources\\\\Си (язык программирования)\\\\source_62.txt', 'Articles\\\\Sources\\\\Применение искусственного интеллекта\\\\source_12.txt', 'Articles\\\\Sources\\\\Си (язык программирования)\\\\source_36.txt', 'Articles\\\\Sources\\\\COVID-19\\\\source_44.txt', 'Articles\\\\Sources\\\\Экономика КНР\\\\source_29.txt', 'Articles\\\\Sources\\\\Си (язык программирования)\\\\source_8.txt', 'Articles\\\\Sources\\\\Сбербанк России\\\\source_19.txt', 'Articles\\\\Sources\\\\Летние Олимпийские игры 2024\\\\source_16.txt', 'Articles\\\\Sources\\\\Сбербанк России\\\\source_40.txt', 'Articles\\\\Sources\\\\COVID-19\\\\source_59.txt', 'Articles\\\\Sources\\\\Летние Олимпийские игры 2024\\\\source_27.txt', 'Articles\\\\Sources\\\\Google (компания)\\\\source_44.txt', 'Articles\\\\Sources\\\\Летние Олимпийские игры 2024\\\\source_10.txt', 'Articles\\\\Sources\\\\Сбербанк России\\\\source_84.txt', 'Articles\\\\Sources\\\\Вирус иммунодефицита человека\\\\source_46.txt', 'Articles\\\\Sources\\\\Применение искусственного интеллекта\\\\source_55.txt', 'Articles\\\\Sources\\\\Сбербанк России\\\\source_2.txt', 'Articles\\\\Sources\\\\Сколково (инновационный центр)\\\\source_27.txt', 'Articles\\\\Sources\\\\Сколково (инновационный центр)\\\\source_80.txt', 'Articles\\\\Sources\\\\Сколково (инновационный центр)\\\\source_39.txt', 'Articles\\\\Sources\\\\Dota 2\\\\source_26.txt', 'Articles\\\\Sources\\\\TikTok\\\\source_19.txt', 'Articles\\\\Sources\\\\TikTok\\\\source_36.txt', 'Articles\\\\Sources\\\\Tomb Raider (игра, 2013)\\\\source_50.txt', 'Articles\\\\Sources\\\\Искусственный интеллект\\\\source_35.txt', 'Articles\\\\Sources\\\\Сколково (инновационный центр)\\\\source_132.txt', 'Articles\\\\Sources\\\\Сбербанк России\\\\source_34.txt', 'Articles\\\\Sources\\\\YouTube\\\\source_8.txt', 'Articles\\\\Sources\\\\Экономика КНР\\\\source_54.txt', 'Articles\\\\Sources\\\\Сбербанк России\\\\source_32.txt', 'Articles\\\\Sources\\\\Вирус иммунодефицита человека\\\\source_6.txt', 'Articles\\\\Sources\\\\Сколково (инновационный центр)\\\\source_124.txt', 'Articles\\\\Sources\\\\COVID-19\\\\source_4.txt', 'Articles\\\\Sources\\\\Си (язык программирования)\\\\source_7.txt', 'Articles\\\\Sources\\\\Чёрная дыра\\\\source_31.txt', 'Articles\\\\Sources\\\\Tomb Raider (игра, 2013)\\\\source_19.txt', 'Articles\\\\Sources\\\\COVID-19\\\\source_28.txt', 'Articles\\\\Sources\\\\COVID-19\\\\source_35.txt', 'Articles\\\\Sources\\\\Uncharted 4 A Thief’s End\\\\source_6.txt', 'Articles\\\\Sources\\\\Присоединение Крыма к Российской Федерации\\\\source_19.txt', 'Articles\\\\Sources\\\\Portal 2\\\\source_21.txt', 'Articles\\\\Sources\\\\Присоединение Крыма к Российской Федерации\\\\source_15.txt', 'Articles\\\\Sources\\\\Google (компания)\\\\source_25.txt', 'Articles\\\\Sources\\\\Иннополис\\\\source_7.txt', 'Articles\\\\Sources\\\\Марс\\\\source_48.txt', 'Articles\\\\Sources\\\\Марс\\\\source_51.txt', 'Articles\\\\Sources\\\\Летние Олимпийские игры 2024\\\\source_37.txt', 'Articles\\\\Sources\\\\Сбербанк России\\\\source_94.txt', 'Articles\\\\Sources\\\\Экономика КНР\\\\source_15.txt', 'Articles\\\\Sources\\\\Иннополис\\\\source_3.txt', 'Articles\\\\Sources\\\\Экономика КНР\\\\source_45.txt', 'Articles\\\\Sources\\\\Чёрная дыра\\\\source_29.txt', 'Articles\\\\Sources\\\\TikTok\\\\source_2.txt', 'Articles\\\\Sources\\\\Солнечная система\\\\source_28.txt', 'Articles\\\\Sources\\\\Tomb Raider (игра, 2013)\\\\source_3.txt', 'Articles\\\\Sources\\\\COVID-19\\\\source_22.txt', 'Articles\\\\Sources\\\\Dota 2\\\\source_14.txt', 'Articles\\\\Sources\\\\Иннополис\\\\source_40.txt', 'Articles\\\\Sources\\\\Применение искусственного интеллекта\\\\source_22.txt', 'Articles\\\\Sources\\\\TikTok\\\\source_75.txt', 'Articles\\\\Sources\\\\Геморрагическая лихорадка Эбола\\\\source_4.txt', 'Articles\\\\Sources\\\\Применение искусственного интеллекта\\\\source_81.txt', 'Articles\\\\Sources\\\\РИА Новости\\\\source_10.txt', 'Articles\\\\Sources\\\\Квантовый компьютер\\\\source_7.txt', 'Articles\\\\Sources\\\\Си (язык программирования)\\\\source_11.txt', 'Articles\\\\Sources\\\\Применение искусственного интеллекта\\\\source_14.txt', 'Articles\\\\Sources\\\\TikTok\\\\source_27.txt', 'Articles\\\\Sources\\\\Квантовый компьютер\\\\source_26.txt', 'Articles\\\\Sources\\\\Сбербанк России\\\\source_27.txt', 'Articles\\\\Sources\\\\Google (компания)\\\\source_3.txt', 'Articles\\\\Sources\\\\Сколково (инновационный центр)\\\\source_114.txt', 'Articles\\\\Sources\\\\Квантовый компьютер\\\\source_16.txt', 'Articles\\\\Sources\\\\Применение искусственного интеллекта\\\\source_72.txt', 'Articles\\\\Sources\\\\Летние Олимпийские игры 2024\\\\source_15.txt', 'Articles\\\\Sources\\\\Python\\\\source_16.txt', 'Articles\\\\Sources\\\\YouTube\\\\source_29.txt', 'Articles\\\\Sources\\\\Применение искусственного интеллекта\\\\source_73.txt', 'Articles\\\\Sources\\\\Сколково (инновационный центр)\\\\source_18.txt', 'Articles\\\\Sources\\\\COVID-19\\\\source_83.txt', 'Articles\\\\Sources\\\\Большой адронный коллайдер\\\\source_16.txt', 'Articles\\\\Sources\\\\Python\\\\source_52.txt', 'Articles\\\\Sources\\\\COVID-19\\\\source_86.txt', 'Articles\\\\Sources\\\\Python\\\\source_59.txt', 'Articles\\\\Sources\\\\Вирус иммунодефицита человека\\\\source_38.txt', 'Articles\\\\Sources\\\\Солнечная система\\\\source_29.txt', 'Articles\\\\Sources\\\\COVID-19\\\\source_62.txt', 'Articles\\\\Sources\\\\Летние Олимпийские игры 2020\\\\source_2.txt', 'Articles\\\\Sources\\\\Си (язык программирования)\\\\source_55.txt', 'Articles\\\\Sources\\\\Си (язык программирования)\\\\source_32.txt', 'Articles\\\\Sources\\\\Uncharted 4 A Thief’s End\\\\source_11.txt', 'Articles\\\\Sources\\\\Применение искусственного интеллекта\\\\source_63.txt', 'Articles\\\\Sources\\\\Вирус иммунодефицита человека\\\\source_10.txt', 'Articles\\\\Sources\\\\Экономика США\\\\source_16.txt', 'Articles\\\\Sources\\\\Python\\\\source_75.txt', 'Articles\\\\Sources\\\\Летние Олимпийские игры 2024\\\\source_32.txt', 'Articles\\\\Sources\\\\Экономика США\\\\source_24.txt', 'Articles\\\\Sources\\\\Google (компания)\\\\source_17.txt', 'Articles\\\\Sources\\\\YouTube\\\\source_7.txt', 'Articles\\\\Sources\\\\TikTok\\\\source_61.txt', 'Articles\\\\Sources\\\\Солнечная система\\\\source_23.txt', 'Articles\\\\Sources\\\\Tomb Raider (игра, 2013)\\\\source_35.txt', 'Articles\\\\Sources\\\\Яндекс\\\\source_22.txt', 'Articles\\\\Sources\\\\Большой адронный коллайдер\\\\source_3.txt', 'Articles\\\\Sources\\\\Portal 2\\\\source_22.txt', 'Articles\\\\Sources\\\\Марс\\\\source_16.txt', 'Articles\\\\Sources\\\\Иннополис\\\\source_28.txt', 'Articles\\\\Sources\\\\Си (язык программирования)\\\\source_46.txt', 'Articles\\\\Sources\\\\Сколково (инновационный центр)\\\\source_42.txt', 'Articles\\\\Sources\\\\Геморрагическая лихорадка Эбола\\\\source_11.txt', 'Articles\\\\Sources\\\\Искусственный интеллект\\\\source_13.txt', 'Articles\\\\Sources\\\\Чёрная дыра\\\\source_6.txt', 'Articles\\\\Sources\\\\TikTok\\\\source_14.txt', 'Articles\\\\Sources\\\\Иннополис\\\\source_41.txt', 'Articles\\\\Sources\\\\COVID-19\\\\source_87.txt', 'Articles\\\\Sources\\\\Вирус иммунодефицита человека\\\\source_28.txt', 'Articles\\\\Sources\\\\TikTok\\\\source_29.txt', 'Articles\\\\Sources\\\\Применение искусственного интеллекта\\\\source_54.txt', 'Articles\\\\Sources\\\\Иннополис\\\\source_33.txt', 'Articles\\\\Sources\\\\Вирус иммунодефицита человека\\\\source_21.txt', 'Articles\\\\Sources\\\\Сбербанк России\\\\source_81.txt', 'Articles\\\\Sources\\\\Вирус иммунодефицита человека\\\\source_5.txt', 'Articles\\\\Sources\\\\Сколково (инновационный центр)\\\\source_109.txt', 'Articles\\\\Sources\\\\Google (компания)\\\\source_40.txt', 'Articles\\\\Sources\\\\Сколково (инновационный центр)\\\\source_52.txt', 'Articles\\\\Sources\\\\Tomb Raider (игра, 2013)\\\\source_53.txt', 'Articles\\\\Sources\\\\TikTok\\\\source_45.txt', 'Articles\\\\Sources\\\\Сбербанк России\\\\source_63.txt', 'Articles\\\\Sources\\\\Python\\\\source_43.txt', 'Articles\\\\Sources\\\\Экономика КНР\\\\source_17.txt', 'Articles\\\\Sources\\\\Сколково (инновационный центр)\\\\source_20.txt', 'Articles\\\\Sources\\\\Portal 2\\\\source_19.txt', 'Articles\\\\Sources\\\\Летние Олимпийские игры 2024\\\\source_23.txt', 'Articles\\\\Sources\\\\Летние Олимпийские игры 2024\\\\source_35.txt', 'Articles\\\\Sources\\\\Экономика КНР\\\\source_41.txt', 'Articles\\\\Sources\\\\Большой адронный коллайдер\\\\source_15.txt', 'Articles\\\\Sources\\\\Сколково (инновационный центр)\\\\source_152.txt', 'Articles\\\\Sources\\\\Вирус иммунодефицита человека\\\\source_25.txt', 'Articles\\\\Sources\\\\Сколково (инновационный центр)\\\\source_120.txt', 'Articles\\\\Sources\\\\Python\\\\source_53.txt', 'Articles\\\\Sources\\\\Экономика КНР\\\\source_44.txt', 'Articles\\\\Sources\\\\Python\\\\source_46.txt', 'Articles\\\\Sources\\\\Чёрная смерть\\\\source_10.txt', 'Articles\\\\Sources\\\\COVID-19\\\\source_43.txt', 'Articles\\\\Sources\\\\Dota 2\\\\source_32.txt', 'Articles\\\\Sources\\\\Сколково (инновационный центр)\\\\source_4.txt', 'Articles\\\\Sources\\\\Чёрная смерть\\\\source_1.txt', 'Articles\\\\Sources\\\\Квантовый компьютер\\\\source_8.txt', 'Articles\\\\Sources\\\\Применение искусственного интеллекта\\\\source_18.txt', 'Articles\\\\Sources\\\\Марс\\\\source_46.txt', 'Articles\\\\Sources\\\\TikTok\\\\source_43.txt', 'Articles\\\\Sources\\\\РИА Новости\\\\source_28.txt', 'Articles\\\\Sources\\\\Сбербанк России\\\\source_75.txt', 'Articles\\\\Sources\\\\C++\\\\source_8.txt', 'Articles\\\\Sources\\\\Си (язык программирования)\\\\source_16.txt', 'Articles\\\\Sources\\\\Си (язык программирования)\\\\source_54.txt', 'Articles\\\\Sources\\\\РИА Новости\\\\source_19.txt', 'Articles\\\\Sources\\\\Летние Олимпийские игры 2024\\\\source_29.txt', 'Articles\\\\Sources\\\\Сбербанк России\\\\source_89.txt', 'Articles\\\\Sources\\\\Сколково (инновационный центр)\\\\source_2.txt', 'Articles\\\\Sources\\\\Иннополис\\\\source_39.txt', 'Articles\\\\Sources\\\\Экономика КНР\\\\source_3.txt', 'Articles\\\\Sources\\\\Марс\\\\source_42.txt', 'Articles\\\\Sources\\\\Квантовый компьютер\\\\source_15.txt', 'Articles\\\\Sources\\\\Google (компания)\\\\source_20.txt', 'Articles\\\\Sources\\\\Google (компания)\\\\source_43.txt', 'Articles\\\\Sources\\\\Иннополис\\\\source_23.txt', 'Articles\\\\Sources\\\\Марс\\\\source_11.txt', 'Articles\\\\Sources\\\\Иннополис\\\\source_37.txt', 'Articles\\\\Sources\\\\Летние Олимпийские игры 2024\\\\source_25.txt', 'Articles\\\\Sources\\\\Сколково (инновационный центр)\\\\source_96.txt', 'Articles\\\\Sources\\\\Portal 2\\\\source_30.txt', 'Articles\\\\Sources\\\\TikTok\\\\source_3.txt', 'Articles\\\\Sources\\\\Uncharted 4 A Thief’s End\\\\source_21.txt', 'Articles\\\\Sources\\\\Искусственный интеллект\\\\source_10.txt', 'Articles\\\\Sources\\\\Яндекс\\\\source_43.txt', 'Articles\\\\Sources\\\\Си (язык программирования)\\\\source_30.txt', 'Articles\\\\Sources\\\\Google (компания)\\\\source_10.txt', 'Articles\\\\Sources\\\\Uncharted 4 A Thief’s End\\\\source_27.txt', 'Articles\\\\Sources\\\\Tomb Raider (игра, 2013)\\\\source_57.txt', 'Articles\\\\Sources\\\\Экономика КНР\\\\source_39.txt', 'Articles\\\\Sources\\\\Марс\\\\source_40.txt', 'Articles\\\\Sources\\\\Сколково (инновационный центр)\\\\source_117.txt', 'Articles\\\\Sources\\\\Экономика США\\\\source_10.txt', 'Articles\\\\Sources\\\\Сколково (инновационный центр)\\\\source_43.txt', 'Articles\\\\Sources\\\\Солнечная система\\\\source_1.txt', 'Articles\\\\Sources\\\\Google (компания)\\\\source_47.txt', 'Articles\\\\Sources\\\\Большой адронный коллайдер\\\\source_21.txt', 'Articles\\\\Sources\\\\Сколково (инновационный центр)\\\\source_115.txt', 'Articles\\\\Sources\\\\Tomb Raider (игра, 2013)\\\\source_5.txt', 'Articles\\\\Sources\\\\Сколково (инновационный центр)\\\\source_128.txt', 'Articles\\\\Sources\\\\Чёрная дыра\\\\source_14.txt', 'Articles\\\\Sources\\\\Сколково (инновационный центр)\\\\source_140.txt', 'Articles\\\\Sources\\\\COVID-19\\\\source_54.txt', 'Articles\\\\Sources\\\\Dota 2\\\\source_34.txt', 'Articles\\\\Sources\\\\Искусственный интеллект\\\\source_27.txt', 'Articles\\\\Sources\\\\Сколково (инновационный центр)\\\\source_9.txt', 'Articles\\\\Sources\\\\Присоединение Крыма к Российской Федерации\\\\source_9.txt', 'Articles\\\\Sources\\\\Сколково (инновационный центр)\\\\source_68.txt', 'Articles\\\\Sources\\\\Марс\\\\source_27.txt', 'Articles\\\\Sources\\\\Яндекс\\\\source_20.txt', 'Articles\\\\Sources\\\\Python\\\\source_67.txt', 'Articles\\\\Sources\\\\Google (компания)\\\\source_4.txt', 'Articles\\\\Sources\\\\Марс\\\\source_56.txt', 'Articles\\\\Sources\\\\Uncharted 4 A Thief’s End\\\\source_16.txt', 'Articles\\\\Sources\\\\Tomb Raider (игра, 2013)\\\\source_52.txt', 'Articles\\\\Sources\\\\COVID-19\\\\source_32.txt', 'Articles\\\\Sources\\\\Си (язык программирования)\\\\source_50.txt', 'Articles\\\\Sources\\\\Яндекс\\\\source_45.txt', 'Articles\\\\Sources\\\\TikTok\\\\source_13.txt', 'Articles\\\\Sources\\\\Сколково (инновационный центр)\\\\source_35.txt', 'Articles\\\\Sources\\\\Tomb Raider (игра, 2013)\\\\source_49.txt', 'Articles\\\\Sources\\\\Си (язык программирования)\\\\source_49.txt', 'Articles\\\\Sources\\\\Сбербанк России\\\\source_79.txt', 'Articles\\\\Sources\\\\Сбербанк России\\\\source_52.txt', 'Articles\\\\Sources\\\\Сколково (инновационный центр)\\\\source_153.txt', 'Articles\\\\Sources\\\\YouTube\\\\source_23.txt', 'Articles\\\\Sources\\\\Си (язык программирования)\\\\source_39.txt', 'Articles\\\\Sources\\\\Чёрная смерть\\\\source_14.txt', 'Articles\\\\Sources\\\\Геморрагическая лихорадка Эбола\\\\source_19.txt', 'Articles\\\\Sources\\\\Сколково (инновационный центр)\\\\source_8.txt', 'Articles\\\\Sources\\\\Экономика КНР\\\\source_10.txt', 'Articles\\\\Sources\\\\Марс\\\\source_24.txt', 'Articles\\\\Sources\\\\Tomb Raider (игра, 2013)\\\\source_18.txt', 'Articles\\\\Sources\\\\TikTok\\\\source_22.txt', 'Articles\\\\Sources\\\\Экономика США\\\\source_19.txt', 'Articles\\\\Sources\\\\Чёрная смерть\\\\source_3.txt', 'Articles\\\\Sources\\\\Применение искусственного интеллекта\\\\source_78.txt', 'Articles\\\\Sources\\\\Сбербанк России\\\\source_33.txt', 'Articles\\\\Sources\\\\Солнечная система\\\\source_27.txt', 'Articles\\\\Sources\\\\Portal 2\\\\source_35.txt', 'Articles\\\\Sources\\\\Иннополис\\\\source_32.txt', 'Articles\\\\Sources\\\\РИА Новости\\\\source_9.txt', 'Articles\\\\Sources\\\\Вирус иммунодефицита человека\\\\source_31.txt', 'Articles\\\\Sources\\\\Сбербанк России\\\\source_6.txt', 'Articles\\\\Sources\\\\Искусственный интеллект\\\\source_3.txt', 'Articles\\\\Sources\\\\Сбербанк России\\\\source_78.txt', 'Articles\\\\Sources\\\\Си (язык программирования)\\\\source_58.txt', 'Articles\\\\Sources\\\\Python\\\\source_69.txt', 'Articles\\\\Sources\\\\Применение искусственного интеллекта\\\\source_33.txt', 'Articles\\\\Sources\\\\Сколково (инновационный центр)\\\\source_22.txt', 'Articles\\\\Sources\\\\Яндекс\\\\source_12.txt', 'Articles\\\\Sources\\\\Чёрная смерть\\\\source_17.txt', 'Articles\\\\Sources\\\\Экономика КНР\\\\source_28.txt', 'Articles\\\\Sources\\\\Искусственный интеллект\\\\source_4.txt', 'Articles\\\\Sources\\\\Искусственный интеллект\\\\source_9.txt', 'Articles\\\\Sources\\\\Сколково (инновационный центр)\\\\source_48.txt', 'Articles\\\\Sources\\\\Искусственный интеллект\\\\source_33.txt', 'Articles\\\\Sources\\\\TikTok\\\\source_55.txt', 'Articles\\\\Sources\\\\Применение искусственного интеллекта\\\\source_58.txt', 'Articles\\\\Sources\\\\Геморрагическая лихорадка Эбола\\\\source_12.txt', 'Articles\\\\Sources\\\\Сколково (инновационный центр)\\\\source_156.txt', 'Articles\\\\Sources\\\\Си (язык программирования)\\\\source_14.txt', 'Articles\\\\Sources\\\\TikTok\\\\source_46.txt', 'Articles\\\\Sources\\\\Tomb Raider (игра, 2013)\\\\source_54.txt', 'Articles\\\\Sources\\\\Марс\\\\source_9.txt', 'Articles\\\\Sources\\\\РИА Новости\\\\source_5.txt', 'Articles\\\\Sources\\\\Tomb Raider (игра, 2013)\\\\source_47.txt', 'Articles\\\\Sources\\\\Сколково (инновационный центр)\\\\source_77.txt', 'Articles\\\\Sources\\\\Иннополис\\\\source_27.txt', 'Articles\\\\Sources\\\\Применение искусственного интеллекта\\\\source_64.txt', 'Articles\\\\Sources\\\\COVID-19\\\\source_47.txt', 'Articles\\\\Sources\\\\Чёрная дыра\\\\source_20.txt', 'Articles\\\\Sources\\\\Сколково (инновационный центр)\\\\source_126.txt', 'Articles\\\\Sources\\\\Си (язык программирования)\\\\source_12.txt', 'Articles\\\\Sources\\\\Экономика США\\\\source_3.txt', 'Articles\\\\Sources\\\\Сколково (инновационный центр)\\\\source_78.txt', 'Articles\\\\Sources\\\\Экономика КНР\\\\source_32.txt', 'Articles\\\\Sources\\\\Летние Олимпийские игры 2020\\\\source_10.txt', 'Articles\\\\Sources\\\\Чёрная дыра\\\\source_5.txt', 'Articles\\\\Sources\\\\Python\\\\source_14.txt', 'Articles\\\\Sources\\\\COVID-19\\\\source_72.txt', 'Articles\\\\Sources\\\\COVID-19\\\\source_29.txt', 'Articles\\\\Sources\\\\TikTok\\\\source_9.txt', 'Articles\\\\Sources\\\\Сбербанк России\\\\source_73.txt', 'Articles\\\\Sources\\\\Uncharted 4 A Thief’s End\\\\source_15.txt', 'Articles\\\\Sources\\\\YouTube\\\\source_19.txt', 'Articles\\\\Sources\\\\Python\\\\source_72.txt', 'Articles\\\\Sources\\\\Сколково (инновационный центр)\\\\source_13.txt', 'Articles\\\\Sources\\\\Си (язык программирования)\\\\source_57.txt', 'Articles\\\\Sources\\\\COVID-19\\\\source_55.txt', 'Articles\\\\Sources\\\\Tomb Raider (игра, 2013)\\\\source_61.txt', 'Articles\\\\Sources\\\\Яндекс\\\\source_34.txt', 'Articles\\\\Sources\\\\Google (компания)\\\\source_11.txt', 'Articles\\\\Sources\\\\Tomb Raider (игра, 2013)\\\\source_60.txt', 'Articles\\\\Sources\\\\Вирус иммунодефицита человека\\\\source_48.txt', 'Articles\\\\Sources\\\\Вирус иммунодефицита человека\\\\source_23.txt', 'Articles\\\\Sources\\\\Применение искусственного интеллекта\\\\source_21.txt', 'Articles\\\\Sources\\\\Марс\\\\source_19.txt', 'Articles\\\\Sources\\\\Google (компания)\\\\source_36.txt', 'Articles\\\\Sources\\\\Искусственный интеллект\\\\source_5.txt', 'Articles\\\\Sources\\\\Квантовый компьютер\\\\source_9.txt', 'Articles\\\\Sources\\\\Чёрная дыра\\\\source_35.txt', 'Articles\\\\Sources\\\\COVID-19\\\\source_8.txt', 'Articles\\\\Sources\\\\Солнечная система\\\\source_19.txt', 'Articles\\\\Sources\\\\Python\\\\source_1.txt', 'Articles\\\\Sources\\\\Летние Олимпийские игры 2024\\\\source_21.txt', 'Articles\\\\Sources\\\\Присоединение Крыма к Российской Федерации\\\\source_14.txt', 'Articles\\\\Sources\\\\Экономика КНР\\\\source_49.txt', 'Articles\\\\Sources\\\\Python\\\\source_49.txt', 'Articles\\\\Sources\\\\Экономика КНР\\\\source_59.txt', 'Articles\\\\Sources\\\\Uncharted 4 A Thief’s End\\\\source_4.txt', 'Articles\\\\Sources\\\\Солнечная система\\\\source_7.txt', 'Articles\\\\Sources\\\\COVID-19\\\\source_70.txt', 'Articles\\\\Sources\\\\Portal 2\\\\source_5.txt', 'Articles\\\\Sources\\\\Вирус иммунодефицита человека\\\\source_34.txt', 'Articles\\\\Sources\\\\Сколково (инновационный центр)\\\\source_88.txt', 'Articles\\\\Sources\\\\Солнечная система\\\\source_20.txt', 'Articles\\\\Sources\\\\Летние Олимпийские игры 2024\\\\source_9.txt', 'Articles\\\\Sources\\\\Си (язык программирования)\\\\source_5.txt', 'Articles\\\\Sources\\\\Dota 2\\\\source_29.txt', 'Articles\\\\Sources\\\\Dota 2\\\\source_22.txt', 'Articles\\\\Sources\\\\Google (компания)\\\\source_12.txt', 'Articles\\\\Sources\\\\Сколково (инновационный центр)\\\\source_84.txt', 'Articles\\\\Sources\\\\Летние Олимпийские игры 2020\\\\source_6.txt', 'Articles\\\\Sources\\\\Чёрная дыра\\\\source_19.txt', 'Articles\\\\Sources\\\\Марс\\\\source_6.txt', 'Articles\\\\Sources\\\\Сколково (инновационный центр)\\\\source_125.txt', 'Articles\\\\Sources\\\\Яндекс\\\\source_27.txt', 'Articles\\\\Sources\\\\Tomb Raider (игра, 2013)\\\\source_67.txt', 'Articles\\\\Sources\\\\Яндекс\\\\source_38.txt', 'Articles\\\\Sources\\\\Python\\\\source_38.txt', 'Articles\\\\Sources\\\\Сбербанк России\\\\source_85.txt', 'Articles\\\\Sources\\\\Чёрная дыра\\\\source_9.txt', 'Articles\\\\Sources\\\\Сбербанк России\\\\source_62.txt', 'Articles\\\\Sources\\\\YouTube\\\\source_10.txt', 'Articles\\\\Sources\\\\Летние Олимпийские игры 2020\\\\source_4.txt', 'Articles\\\\Sources\\\\Tomb Raider (игра, 2013)\\\\source_25.txt', 'Articles\\\\Sources\\\\Экономика США\\\\source_17.txt', 'Articles\\\\Sources\\\\Квантовый компьютер\\\\source_4.txt', 'Articles\\\\Sources\\\\Искусственный интеллект\\\\source_23.txt', 'Articles\\\\Sources\\\\TikTok\\\\source_1.txt', 'Articles\\\\Sources\\\\Чёрная дыра\\\\source_17.txt', 'Articles\\\\Sources\\\\Летние Олимпийские игры 2024\\\\source_39.txt', 'Articles\\\\Sources\\\\Google (компания)\\\\source_51.txt', 'Articles\\\\Sources\\\\Вирус иммунодефицита человека\\\\source_3.txt', 'Articles\\\\Sources\\\\Google (компания)\\\\source_38.txt', 'Articles\\\\Sources\\\\Марс\\\\source_41.txt', 'Articles\\\\Sources\\\\Применение искусственного интеллекта\\\\source_31.txt', 'Articles\\\\Sources\\\\Сбербанк России\\\\source_30.txt', 'Articles\\\\Sources\\\\Python\\\\source_34.txt', 'Articles\\\\Sources\\\\Яндекс\\\\source_16.txt', 'Articles\\\\Sources\\\\COVID-19\\\\source_16.txt', 'Articles\\\\Sources\\\\Python\\\\source_13.txt', 'Articles\\\\Sources\\\\Летние Олимпийские игры 2024\\\\source_12.txt', 'Articles\\\\Sources\\\\COVID-19\\\\source_18.txt', 'Articles\\\\Sources\\\\Квантовый компьютер\\\\source_19.txt', 'Articles\\\\Sources\\\\Си (язык программирования)\\\\source_61.txt', 'Articles\\\\Sources\\\\Квантовый компьютер\\\\source_25.txt', 'Articles\\\\Sources\\\\Си (язык программирования)\\\\source_6.txt', 'Articles\\\\Sources\\\\Экономика КНР\\\\source_9.txt', 'Articles\\\\Sources\\\\COVID-19\\\\source_85.txt', 'Articles\\\\Sources\\\\Сбербанк России\\\\source_77.txt', 'Articles\\\\Sources\\\\Геморрагическая лихорадка Эбола\\\\source_20.txt', 'Articles\\\\Sources\\\\TikTok\\\\source_24.txt', 'Articles\\\\Sources\\\\COVID-19\\\\source_17.txt', 'Articles\\\\Sources\\\\Portal 2\\\\source_13.txt', 'Articles\\\\Sources\\\\Марс\\\\source_15.txt', 'Articles\\\\Sources\\\\Сколково (инновационный центр)\\\\source_41.txt', 'Articles\\\\Sources\\\\COVID-19\\\\source_75.txt', 'Articles\\\\Sources\\\\Искусственный интеллект\\\\source_29.txt', 'Articles\\\\Sources\\\\Python\\\\source_74.txt', 'Articles\\\\Sources\\\\Сколково (инновационный центр)\\\\source_56.txt', 'Articles\\\\Sources\\\\Чёрная дыра\\\\source_7.txt', 'Articles\\\\Sources\\\\Dota 2\\\\source_21.txt', 'Articles\\\\Sources\\\\TikTok\\\\source_21.txt', 'Articles\\\\Sources\\\\COVID-19\\\\source_60.txt', 'Articles\\\\Sources\\\\Python\\\\source_39.txt', 'Articles\\\\Sources\\\\Вирус иммунодефицита человека\\\\source_15.txt', 'Articles\\\\Sources\\\\COVID-19\\\\source_2.txt', 'Articles\\\\Sources\\\\Применение искусственного интеллекта\\\\source_36.txt', 'Articles\\\\Sources\\\\COVID-19\\\\source_74.txt', 'Articles\\\\Sources\\\\Сбербанк России\\\\source_56.txt', 'Articles\\\\Sources\\\\COVID-19\\\\source_76.txt', 'Articles\\\\Sources\\\\Сколково (инновационный центр)\\\\source_47.txt', 'Articles\\\\Sources\\\\Марс\\\\source_14.txt', 'Articles\\\\Sources\\\\Dota 2\\\\source_12.txt', 'Articles\\\\Sources\\\\Сколково (инновационный центр)\\\\source_118.txt', 'Articles\\\\Sources\\\\Tomb Raider (игра, 2013)\\\\source_17.txt', 'Articles\\\\Sources\\\\Сбербанк России\\\\source_15.txt', 'Articles\\\\Sources\\\\COVID-19\\\\source_12.txt', 'Articles\\\\Sources\\\\Си (язык программирования)\\\\source_29.txt', 'Articles\\\\Sources\\\\Сбербанк России\\\\source_31.txt', 'Articles\\\\Sources\\\\Dota 2\\\\source_23.txt', 'Articles\\\\Sources\\\\Dota 2\\\\source_33.txt', 'Articles\\\\Sources\\\\Чёрная смерть\\\\source_8.txt', 'Articles\\\\Sources\\\\Иннополис\\\\source_31.txt', 'Articles\\\\Sources\\\\Иннополис\\\\source_18.txt', 'Articles\\\\Sources\\\\Google (компания)\\\\source_55.txt', 'Articles\\\\Sources\\\\Python\\\\source_5.txt', 'Articles\\\\Sources\\\\Сколково (инновационный центр)\\\\source_92.txt', 'Articles\\\\Sources\\\\Си (язык программирования)\\\\source_34.txt', 'Articles\\\\Sources\\\\TikTok\\\\source_64.txt', 'Articles\\\\Sources\\\\Сколково (инновационный центр)\\\\source_131.txt', 'Articles\\\\Sources\\\\Сколково (инновационный центр)\\\\source_119.txt', 'Articles\\\\Sources\\\\Яндекс\\\\source_47.txt', 'Articles\\\\Sources\\\\Вирус иммунодефицита человека\\\\source_17.txt', 'Articles\\\\Sources\\\\Применение искусственного интеллекта\\\\source_66.txt', 'Articles\\\\Sources\\\\Сбербанк России\\\\source_17.txt', 'Articles\\\\Sources\\\\Сбербанк России\\\\source_51.txt', 'Articles\\\\Sources\\\\Си (язык программирования)\\\\source_26.txt', 'Articles\\\\Sources\\\\Tomb Raider (игра, 2013)\\\\source_43.txt', 'Articles\\\\Sources\\\\Экономика КНР\\\\source_48.txt', 'Articles\\\\Sources\\\\Яндекс\\\\source_49.txt', 'Articles\\\\Sources\\\\Tomb Raider (игра, 2013)\\\\source_46.txt', 'Articles\\\\Sources\\\\Квантовый компьютер\\\\source_18.txt', 'Articles\\\\Sources\\\\Вирус иммунодефицита человека\\\\source_32.txt', 'Articles\\\\Sources\\\\Геморрагическая лихорадка Эбола\\\\source_22.txt', 'Articles\\\\Sources\\\\Применение искусственного интеллекта\\\\source_19.txt', 'Articles\\\\Sources\\\\Солнечная система\\\\source_10.txt', 'Articles\\\\Sources\\\\TikTok\\\\source_10.txt', 'Articles\\\\Sources\\\\Применение искусственного интеллекта\\\\source_51.txt', 'Articles\\\\Sources\\\\Экономика Германии\\\\source_2.txt', 'Articles\\\\Sources\\\\Dota 2\\\\source_19.txt', 'Articles\\\\Sources\\\\COVID-19\\\\source_21.txt', 'Articles\\\\Sources\\\\Сколково (инновационный центр)\\\\source_81.txt', 'Articles\\\\Sources\\\\Марс\\\\source_31.txt', 'Articles\\\\Sources\\\\Сколково (инновационный центр)\\\\source_104.txt', 'Articles\\\\Sources\\\\Сбербанк России\\\\source_82.txt', 'Articles\\\\Sources\\\\Сколково (инновационный центр)\\\\source_129.txt', 'Articles\\\\Sources\\\\Летние Олимпийские игры 2024\\\\source_3.txt', 'Articles\\\\Sources\\\\Сколково (инновационный центр)\\\\source_133.txt', 'Articles\\\\Sources\\\\Присоединение Крыма к Российской Федерации\\\\source_1.txt', 'Articles\\\\Sources\\\\Солнечная система\\\\source_14.txt', 'Articles\\\\Sources\\\\TikTok\\\\source_60.txt', 'Articles\\\\Sources\\\\Сбербанк России\\\\source_22.txt', 'Articles\\\\Sources\\\\Сбербанк России\\\\source_37.txt', 'Articles\\\\Sources\\\\Марс\\\\source_44.txt', 'Articles\\\\Sources\\\\Применение искусственного интеллекта\\\\source_4.txt', 'Articles\\\\Sources\\\\Яндекс\\\\source_50.txt', 'Articles\\\\Sources\\\\Иннополис\\\\source_11.txt', 'Articles\\\\Sources\\\\Геморрагическая лихорадка Эбола\\\\source_7.txt', 'Articles\\\\Sources\\\\РИА Новости\\\\source_12.txt', 'Articles\\\\Sources\\\\Яндекс\\\\source_5.txt', 'Articles\\\\Sources\\\\COVID-19\\\\source_36.txt', 'Articles\\\\Sources\\\\Сколково (инновационный центр)\\\\source_32.txt', 'Articles\\\\Sources\\\\Google (компания)\\\\source_29.txt', 'Articles\\\\Sources\\\\Tomb Raider (игра, 2013)\\\\source_20.txt', 'Articles\\\\Sources\\\\Присоединение Крыма к Российской Федерации\\\\source_17.txt', 'Articles\\\\Sources\\\\Си (язык программирования)\\\\source_27.txt', 'Articles\\\\Sources\\\\Python\\\\source_47.txt', 'Articles\\\\Sources\\\\РИА Новости\\\\source_25.txt', 'Articles\\\\Sources\\\\COVID-19\\\\source_10.txt', 'Articles\\\\Sources\\\\Сколково (инновационный центр)\\\\source_135.txt', 'Articles\\\\Sources\\\\Сколково (инновационный центр)\\\\source_87.txt', 'Articles\\\\Sources\\\\Экономика КНР\\\\source_56.txt', 'Articles\\\\Sources\\\\TikTok\\\\source_11.txt', 'Articles\\\\Sources\\\\TikTok\\\\source_12.txt', 'Articles\\\\Sources\\\\Google (компания)\\\\source_32.txt', 'Articles\\\\Sources\\\\Применение искусственного интеллекта\\\\source_74.txt', 'Articles\\\\Sources\\\\РИА Новости\\\\source_6.txt', 'Articles\\\\Sources\\\\Геморрагическая лихорадка Эбола\\\\source_28.txt', 'Articles\\\\Sources\\\\Геморрагическая лихорадка Эбола\\\\source_18.txt', 'Articles\\\\Sources\\\\Марс\\\\source_18.txt', 'Articles\\\\Sources\\\\Вирус иммунодефицита человека\\\\source_45.txt', 'Articles\\\\Sources\\\\Portal 2\\\\source_26.txt', 'Articles\\\\Sources\\\\Dota 2\\\\source_2.txt', 'Articles\\\\Sources\\\\Вирус иммунодефицита человека\\\\source_27.txt', 'Articles\\\\Sources\\\\Солнечная система\\\\source_24.txt', 'Articles\\\\Sources\\\\COVID-19\\\\source_68.txt', 'Articles\\\\Sources\\\\Tomb Raider (игра, 2013)\\\\source_65.txt', 'Articles\\\\Sources\\\\Dota 2\\\\source_27.txt', 'Articles\\\\Sources\\\\Применение искусственного интеллекта\\\\source_11.txt', 'Articles\\\\Sources\\\\Искусственный интеллект\\\\source_28.txt', 'Articles\\\\Sources\\\\Си (язык программирования)\\\\source_13.txt', 'Articles\\\\Sources\\\\Си (язык программирования)\\\\source_47.txt', 'Articles\\\\Sources\\\\Python\\\\source_19.txt', 'Articles\\\\Sources\\\\Сколково (инновационный центр)\\\\source_38.txt', 'Articles\\\\Sources\\\\Марс\\\\source_36.txt', 'Articles\\\\Sources\\\\Солнечная система\\\\source_21.txt', 'Articles\\\\Sources\\\\Portal 2\\\\source_3.txt', 'Articles\\\\Sources\\\\Tomb Raider (игра, 2013)\\\\source_37.txt', 'Articles\\\\Sources\\\\Искусственный интеллект\\\\source_34.txt', 'Articles\\\\Sources\\\\Uncharted 4 A Thief’s End\\\\source_8.txt', 'Articles\\\\Sources\\\\Tomb Raider (игра, 2013)\\\\source_34.txt', 'Articles\\\\Sources\\\\Экономика КНР\\\\source_13.txt', 'Articles\\\\Sources\\\\Вирус иммунодефицита человека\\\\source_2.txt', 'Articles\\\\Sources\\\\Сбербанк России\\\\source_10.txt', 'Articles\\\\Sources\\\\Сколково (инновационный центр)\\\\source_23.txt', 'Articles\\\\Sources\\\\Экономика КНР\\\\source_58.txt', 'Articles\\\\Sources\\\\Portal 2\\\\source_1.txt', 'Articles\\\\Sources\\\\COVID-19\\\\source_41.txt', 'Articles\\\\Sources\\\\Си (язык программирования)\\\\source_28.txt', 'Articles\\\\Sources\\\\Сбербанк России\\\\source_97.txt', 'Articles\\\\Sources\\\\Сколково (инновационный центр)\\\\source_36.txt', 'Articles\\\\Sources\\\\Летние Олимпийские игры 2024\\\\source_4.txt', 'Articles\\\\Sources\\\\Экономика США\\\\source_1.txt', 'Articles\\\\Sources\\\\Геморрагическая лихорадка Эбола\\\\source_30.txt', 'Articles\\\\Sources\\\\Google (компания)\\\\source_14.txt', 'Articles\\\\Sources\\\\Вирус иммунодефицита человека\\\\source_8.txt', 'Articles\\\\Sources\\\\Чёрная смерть\\\\source_11.txt', 'Articles\\\\Sources\\\\Иннополис\\\\source_6.txt', 'Articles\\\\Sources\\\\Python\\\\source_56.txt', 'Articles\\\\Sources\\\\Сколково (инновационный центр)\\\\source_148.txt', 'Articles\\\\Sources\\\\Tomb Raider (игра, 2013)\\\\source_23.txt', 'Articles\\\\Sources\\\\Экономика КНР\\\\source_25.txt', 'Articles\\\\Sources\\\\Летние Олимпийские игры 2020\\\\source_3.txt', 'Articles\\\\Sources\\\\Сколково (инновационный центр)\\\\source_58.txt', 'Articles\\\\Sources\\\\TikTok\\\\source_58.txt', 'Articles\\\\Sources\\\\Большой адронный коллайдер\\\\source_23.txt', 'Articles\\\\Sources\\\\Portal 2\\\\source_32.txt', 'Articles\\\\Sources\\\\Экономика КНР\\\\source_30.txt', 'Articles\\\\Sources\\\\Вирус иммунодефицита человека\\\\source_9.txt', 'Articles\\\\Sources\\\\Экономика США\\\\source_18.txt', 'Articles\\\\Sources\\\\Tomb Raider (игра, 2013)\\\\source_45.txt', 'Articles\\\\Sources\\\\YouTube\\\\source_15.txt', 'Articles\\\\Sources\\\\Google (компания)\\\\source_54.txt', 'Articles\\\\Sources\\\\Большой адронный коллайдер\\\\source_11.txt', 'Articles\\\\Sources\\\\Вирус иммунодефицита человека\\\\source_22.txt', 'Articles\\\\Sources\\\\Чёрная дыра\\\\source_28.txt', 'Articles\\\\Sources\\\\Чёрная дыра\\\\source_33.txt', 'Articles\\\\Sources\\\\Экономика США\\\\source_15.txt', 'Articles\\\\Sources\\\\Применение искусственного интеллекта\\\\source_46.txt', 'Articles\\\\Sources\\\\Uncharted 4 A Thief’s End\\\\source_20.txt', 'Articles\\\\Sources\\\\Летние Олимпийские игры 2024\\\\source_34.txt', 'Articles\\\\Sources\\\\Экономика КНР\\\\source_57.txt', 'Articles\\\\Sources\\\\Вирус иммунодефицита человека\\\\source_47.txt', 'Articles\\\\Sources\\\\Python\\\\source_21.txt', 'Articles\\\\Sources\\\\Сбербанк России\\\\source_24.txt', 'Articles\\\\Sources\\\\Марс\\\\source_54.txt', 'Articles\\\\Sources\\\\Python\\\\source_71.txt', 'Articles\\\\Sources\\\\COVID-19\\\\source_34.txt', 'Articles\\\\Sources\\\\Uncharted 4 A Thief’s End\\\\source_18.txt', 'Articles\\\\Sources\\\\COVID-19\\\\source_48.txt', 'Articles\\\\Sources\\\\Tomb Raider (игра, 2013)\\\\source_21.txt', 'Articles\\\\Sources\\\\COVID-19\\\\source_66.txt', 'Articles\\\\Sources\\\\Присоединение Крыма к Российской Федерации\\\\source_12.txt', 'Articles\\\\Sources\\\\Применение искусственного интеллекта\\\\source_57.txt', 'Articles\\\\Sources\\\\Марс\\\\source_12.txt', 'Articles\\\\Sources\\\\Google (компания)\\\\source_35.txt', 'Articles\\\\Sources\\\\Вирус иммунодефицита человека\\\\source_24.txt', 'Articles\\\\Sources\\\\Применение искусственного интеллекта\\\\source_68.txt', 'Articles\\\\Sources\\\\Python\\\\source_17.txt', 'Articles\\\\Sources\\\\Летние Олимпийские игры 2020\\\\source_5.txt', 'Articles\\\\Sources\\\\Сбербанк России\\\\source_39.txt', 'Articles\\\\Sources\\\\Иннополис\\\\source_43.txt', 'Articles\\\\Sources\\\\Геморрагическая лихорадка Эбола\\\\source_14.txt', 'Articles\\\\Sources\\\\Применение искусственного интеллекта\\\\source_39.txt', 'Articles\\\\Sources\\\\Экономика КНР\\\\source_12.txt', 'Articles\\\\Sources\\\\Сколково (инновационный центр)\\\\source_108.txt', 'Articles\\\\Sources\\\\Вирус иммунодефицита человека\\\\source_29.txt', 'Articles\\\\Sources\\\\Присоединение Крыма к Российской Федерации\\\\source_3.txt', 'Articles\\\\Sources\\\\Экономика КНР\\\\source_55.txt', 'Articles\\\\Sources\\\\Марс\\\\source_4.txt', 'Articles\\\\Sources\\\\Применение искусственного интеллекта\\\\source_10.txt', 'Articles\\\\Sources\\\\Сколково (инновационный центр)\\\\source_59.txt', 'Articles\\\\Sources\\\\Искусственный интеллект\\\\source_19.txt', 'Articles\\\\Sources\\\\Сбербанк России\\\\source_1.txt', 'Articles\\\\Sources\\\\Dota 2\\\\source_1.txt', 'Articles\\\\Sources\\\\Летние Олимпийские игры 2020\\\\source_8.txt', 'Articles\\\\Sources\\\\Экономика Германии\\\\source_1.txt', 'Articles\\\\Sources\\\\Экономика КНР\\\\source_31.txt', 'Articles\\\\Sources\\\\Сбербанк России\\\\source_8.txt', 'Articles\\\\Sources\\\\Python\\\\source_70.txt', 'Articles\\\\Sources\\\\COVID-19\\\\source_65.txt', 'Articles\\\\Sources\\\\Сбербанк России\\\\source_83.txt', 'Articles\\\\Sources\\\\Сколково (инновационный центр)\\\\source_73.txt', 'Articles\\\\Sources\\\\Марс\\\\source_32.txt', 'Articles\\\\Sources\\\\Иннополис\\\\source_34.txt', 'Articles\\\\Sources\\\\Сколково (инновационный центр)\\\\source_7.txt', 'Articles\\\\Sources\\\\Python\\\\source_27.txt', 'Articles\\\\Sources\\\\Сколково (инновационный центр)\\\\source_89.txt', 'Articles\\\\Sources\\\\Сбербанк России\\\\source_26.txt', 'Articles\\\\Sources\\\\Применение искусственного интеллекта\\\\source_13.txt', 'Articles\\\\Sources\\\\YouTube\\\\source_1.txt', 'Articles\\\\Sources\\\\Сколково (инновационный центр)\\\\source_103.txt', 'Articles\\\\Sources\\\\Сколково (инновационный центр)\\\\source_93.txt', 'Articles\\\\Sources\\\\РИА Новости\\\\source_7.txt', 'Articles\\\\Sources\\\\Google (компания)\\\\source_31.txt', 'Articles\\\\Sources\\\\Сколково (инновационный центр)\\\\source_155.txt', 'Articles\\\\Sources\\\\Сбербанк России\\\\source_98.txt', 'Articles\\\\Sources\\\\Летние Олимпийские игры 2024\\\\source_30.txt', 'Articles\\\\Sources\\\\РИА Новости\\\\source_26.txt', 'Articles\\\\Sources\\\\Яндекс\\\\source_41.txt', 'Articles\\\\Sources\\\\Марс\\\\source_34.txt', 'Articles\\\\Sources\\\\Искусственный интеллект\\\\source_6.txt', 'Articles\\\\Sources\\\\Portal 2\\\\source_18.txt', 'Articles\\\\Sources\\\\Солнечная система\\\\source_32.txt', 'Articles\\\\Sources\\\\COVID-19\\\\source_6.txt', 'Articles\\\\Sources\\\\Google (компания)\\\\source_15.txt', 'Articles\\\\Sources\\\\Марс\\\\source_33.txt', 'Articles\\\\Sources\\\\Экономика КНР\\\\source_2.txt', 'Articles\\\\Sources\\\\Искусственный интеллект\\\\source_8.txt', 'Articles\\\\Sources\\\\Сколково (инновационный центр)\\\\source_110.txt', 'Articles\\\\Sources\\\\Uncharted 4 A Thief’s End\\\\source_26.txt', 'Articles\\\\Sources\\\\TikTok\\\\source_50.txt', 'Articles\\\\Sources\\\\TikTok\\\\source_26.txt', 'Articles\\\\Sources\\\\Portal 2\\\\source_10.txt', 'Articles\\\\Sources\\\\Сбербанк России\\\\source_58.txt', 'Articles\\\\Sources\\\\TikTok\\\\source_65.txt', 'Articles\\\\Sources\\\\Сколково (инновационный центр)\\\\source_33.txt', 'Articles\\\\Sources\\\\Сколково (инновационный центр)\\\\source_130.txt', 'Articles\\\\Sources\\\\Летние Олимпийские игры 2024\\\\source_20.txt', 'Articles\\\\Sources\\\\Геморрагическая лихорадка Эбола\\\\source_1.txt', 'Articles\\\\Sources\\\\Солнечная система\\\\source_31.txt', 'Articles\\\\Sources\\\\Python\\\\source_24.txt', 'Articles\\\\Sources\\\\Python\\\\source_4.txt', 'Articles\\\\Sources\\\\Python\\\\source_20.txt', 'Articles\\\\Sources\\\\Сколково (инновационный центр)\\\\source_127.txt', 'Articles\\\\Sources\\\\Сбербанк России\\\\source_80.txt', 'Articles\\\\Sources\\\\COVID-19\\\\source_39.txt', 'Articles\\\\Sources\\\\Python\\\\source_65.txt', 'Articles\\\\Sources\\\\Яндекс\\\\source_1.txt', 'Articles\\\\Sources\\\\Яндекс\\\\source_21.txt', 'Articles\\\\Sources\\\\Марс\\\\source_25.txt', 'Articles\\\\Sources\\\\Яндекс\\\\source_28.txt', 'Articles\\\\Sources\\\\Сколково (инновационный центр)\\\\source_31.txt', 'Articles\\\\Sources\\\\Сбербанк России\\\\source_48.txt', 'Articles\\\\Sources\\\\YouTube\\\\source_9.txt', 'Articles\\\\Sources\\\\Tomb Raider (игра, 2013)\\\\source_28.txt', 'Articles\\\\Sources\\\\Применение искусственного интеллекта\\\\source_41.txt', 'Articles\\\\Sources\\\\YouTube\\\\source_30.txt', 'Articles\\\\Sources\\\\TikTok\\\\source_23.txt', 'Articles\\\\Sources\\\\Марс\\\\source_23.txt', 'Articles\\\\Sources\\\\Python\\\\source_51.txt', 'Articles\\\\Sources\\\\Иннополис\\\\source_8.txt', 'Articles\\\\Sources\\\\Python\\\\source_3.txt', 'Articles\\\\Sources\\\\TikTok\\\\source_15.txt', 'Articles\\\\Sources\\\\COVID-19\\\\source_67.txt', 'Articles\\\\Sources\\\\Сколково (инновационный центр)\\\\source_106.txt', 'Articles\\\\Sources\\\\C++\\\\source_10.txt', 'Articles\\\\Sources\\\\Сбербанк России\\\\source_47.txt', 'Articles\\\\Sources\\\\Применение искусственного интеллекта\\\\source_3.txt', 'Articles\\\\Sources\\\\Геморрагическая лихорадка Эбола\\\\source_21.txt', 'Articles\\\\Sources\\\\Dota 2\\\\source_31.txt', 'Articles\\\\Sources\\\\Летние Олимпийские игры 2024\\\\source_18.txt', 'Articles\\\\Sources\\\\COVID-19\\\\source_84.txt', 'Articles\\\\Sources\\\\Tomb Raider (игра, 2013)\\\\source_51.txt', 'Articles\\\\Sources\\\\Си (язык программирования)\\\\source_9.txt', 'Articles\\\\Sources\\\\Сколково (инновационный центр)\\\\source_154.txt', 'Articles\\\\Sources\\\\Марс\\\\source_53.txt', 'Articles\\\\Sources\\\\Python\\\\source_9.txt', 'Articles\\\\Sources\\\\Квантовый компьютер\\\\source_2.txt', 'Articles\\\\Sources\\\\Яндекс\\\\source_33.txt', 'Articles\\\\Sources\\\\Python\\\\source_50.txt', 'Articles\\\\Sources\\\\Tomb Raider (игра, 2013)\\\\source_7.txt', 'Articles\\\\Sources\\\\Квантовый компьютер\\\\source_3.txt', 'Articles\\\\Sources\\\\Tomb Raider (игра, 2013)\\\\source_6.txt', 'Articles\\\\Sources\\\\Сбербанк России\\\\source_49.txt', 'Articles\\\\Sources\\\\Си (язык программирования)\\\\source_22.txt', 'Articles\\\\Sources\\\\Сбербанк России\\\\source_59.txt', 'Articles\\\\Sources\\\\Сколково (инновационный центр)\\\\source_55.txt', 'Articles\\\\Sources\\\\Применение искусственного интеллекта\\\\source_25.txt', 'Articles\\\\Sources\\\\COVID-19\\\\source_13.txt', 'Articles\\\\Sources\\\\Присоединение Крыма к Российской Федерации\\\\source_5.txt', 'Articles\\\\Sources\\\\Геморрагическая лихорадка Эбола\\\\source_8.txt', 'Articles\\\\Sources\\\\Солнечная система\\\\source_25.txt', 'Articles\\\\Sources\\\\Экономика США\\\\source_5.txt', 'Articles\\\\Sources\\\\Яндекс\\\\source_3.txt', 'Articles\\\\Sources\\\\Tomb Raider (игра, 2013)\\\\source_10.txt', 'Articles\\\\Sources\\\\Экономика КНР\\\\source_35.txt', 'Articles\\\\Sources\\\\Uncharted 4 A Thief’s End\\\\source_13.txt', 'Articles\\\\Sources\\\\Сколково (инновационный центр)\\\\source_121.txt', 'Articles\\\\Sources\\\\Квантовый компьютер\\\\source_17.txt', 'Articles\\\\Sources\\\\Применение искусственного интеллекта\\\\source_7.txt', 'Articles\\\\Sources\\\\Применение искусственного интеллекта\\\\source_61.txt', 'Articles\\\\Sources\\\\COVID-19\\\\source_9.txt', 'Articles\\\\Sources\\\\TikTok\\\\source_67.txt', 'Articles\\\\Sources\\\\Марс\\\\source_3.txt', 'Articles\\\\Sources\\\\COVID-19\\\\source_19.txt', 'Articles\\\\Sources\\\\Сколково (инновационный центр)\\\\source_147.txt', 'Articles\\\\Sources\\\\Искусственный интеллект\\\\source_1.txt', 'Articles\\\\Sources\\\\COVID-19\\\\source_31.txt', 'Articles\\\\Sources\\\\Чёрная смерть\\\\source_18.txt', 'Articles\\\\Sources\\\\Квантовый компьютер\\\\source_10.txt', 'Articles\\\\Sources\\\\Квантовый компьютер\\\\source_11.txt', 'Articles\\\\Sources\\\\Яндекс\\\\source_37.txt', 'Articles\\\\Sources\\\\Python\\\\source_41.txt', 'Articles\\\\Sources\\\\Летние Олимпийские игры 2020\\\\source_9.txt', 'Articles\\\\Sources\\\\Иннополис\\\\source_17.txt', 'Articles\\\\Sources\\\\Google (компания)\\\\source_37.txt', 'Articles\\\\Sources\\\\COVID-19\\\\source_30.txt', 'Articles\\\\Sources\\\\Сколково (инновационный центр)\\\\source_69.txt', 'Articles\\\\Sources\\\\Чёрная смерть\\\\source_7.txt', 'Articles\\\\Sources\\\\COVID-19\\\\source_26.txt', 'Articles\\\\Sources\\\\Dota 2\\\\source_3.txt', 'Articles\\\\Sources\\\\Искусственный интеллект\\\\source_22.txt', 'Articles\\\\Sources\\\\Сбербанк России\\\\source_54.txt', 'Articles\\\\Sources\\\\COVID-19\\\\source_15.txt', 'Articles\\\\Sources\\\\Си (язык программирования)\\\\source_10.txt', 'Articles\\\\Sources\\\\YouTube\\\\source_28.txt', 'Articles\\\\Sources\\\\Марс\\\\source_52.txt', 'Articles\\\\Sources\\\\Большой адронный коллайдер\\\\source_13.txt', 'Articles\\\\Sources\\\\РИА Новости\\\\source_32.txt', 'Articles\\\\Sources\\\\Tomb Raider (игра, 2013)\\\\source_30.txt', 'Articles\\\\Sources\\\\TikTok\\\\source_66.txt', 'Articles\\\\Sources\\\\Чёрная смерть\\\\source_9.txt', 'Articles\\\\Sources\\\\Си (язык программирования)\\\\source_20.txt', 'Articles\\\\Sources\\\\Солнечная система\\\\source_30.txt', 'Articles\\\\Sources\\\\Uncharted 4 A Thief’s End\\\\source_3.txt', 'Articles\\\\Sources\\\\Экономика КНР\\\\source_5.txt', 'Articles\\\\Sources\\\\Python\\\\source_57.txt', 'Articles\\\\Sources\\\\TikTok\\\\source_69.txt', 'Articles\\\\Sources\\\\COVID-19\\\\source_37.txt', 'Articles\\\\Sources\\\\Применение искусственного интеллекта\\\\source_34.txt', 'Articles\\\\Sources\\\\Dota 2\\\\source_35.txt', 'Articles\\\\Sources\\\\Си (язык программирования)\\\\source_48.txt', 'Articles\\\\Sources\\\\Применение искусственного интеллекта\\\\source_60.txt', 'Articles\\\\Sources\\\\Dota 2\\\\source_15.txt', 'Articles\\\\Sources\\\\Сбербанк России\\\\source_16.txt', 'Articles\\\\Sources\\\\Google (компания)\\\\source_42.txt', 'Articles\\\\Sources\\\\TikTok\\\\source_56.txt', 'Articles\\\\Sources\\\\Чёрная смерть\\\\source_2.txt', 'Articles\\\\Sources\\\\Сколково (инновационный центр)\\\\source_91.txt', 'Articles\\\\Sources\\\\Сколково (инновационный центр)\\\\source_99.txt', 'Articles\\\\Sources\\\\Python\\\\source_31.txt', 'Articles\\\\Sources\\\\Google (компания)\\\\source_39.txt', 'Articles\\\\Sources\\\\Portal 2\\\\source_23.txt', 'Articles\\\\Sources\\\\Сбербанк России\\\\source_90.txt', 'Articles\\\\Sources\\\\Portal 2\\\\source_28.txt', 'Articles\\\\Sources\\\\Google (компания)\\\\source_5.txt', 'Articles\\\\Sources\\\\Экономика КНР\\\\source_40.txt', 'Articles\\\\Sources\\\\Большой адронный коллайдер\\\\source_9.txt', 'Articles\\\\Sources\\\\Python\\\\source_42.txt', 'Articles\\\\Sources\\\\Python\\\\source_68.txt', 'Articles\\\\Sources\\\\Экономика КНР\\\\source_52.txt', 'Articles\\\\Sources\\\\Сколково (инновационный центр)\\\\source_71.txt', 'Articles\\\\Sources\\\\YouTube\\\\source_4.txt', 'Articles\\\\Sources\\\\TikTok\\\\source_6.txt', 'Articles\\\\Sources\\\\Сколково (инновационный центр)\\\\source_60.txt', 'Articles\\\\Sources\\\\Большой адронный коллайдер\\\\source_22.txt', 'Articles\\\\Sources\\\\Иннополис\\\\source_29.txt', 'Articles\\\\Sources\\\\Сколково (инновационный центр)\\\\source_149.txt', 'Articles\\\\Sources\\\\Tomb Raider (игра, 2013)\\\\source_8.txt', 'Articles\\\\Sources\\\\Tomb Raider (игра, 2013)\\\\source_56.txt', 'Articles\\\\Sources\\\\Python\\\\source_33.txt', 'Articles\\\\Sources\\\\Google (компания)\\\\source_48.txt', 'Articles\\\\Sources\\\\Сколково (инновационный центр)\\\\source_70.txt', 'Articles\\\\Sources\\\\Сколково (инновационный центр)\\\\source_21.txt', 'Articles\\\\Sources\\\\TikTok\\\\source_35.txt', 'Articles\\\\Sources\\\\Геморрагическая лихорадка Эбола\\\\source_24.txt', 'Articles\\\\Sources\\\\Экономика КНР\\\\source_14.txt', 'Articles\\\\Sources\\\\Яндекс\\\\source_13.txt', 'Articles\\\\Sources\\\\Google (компания)\\\\source_2.txt', 'Articles\\\\Sources\\\\Сколково (инновационный центр)\\\\source_112.txt', 'Articles\\\\Sources\\\\Google (компания)\\\\source_26.txt', 'Articles\\\\Sources\\\\РИА Новости\\\\source_17.txt', 'Articles\\\\Sources\\\\РИА Новости\\\\source_24.txt', 'Articles\\\\Sources\\\\Присоединение Крыма к Российской Федерации\\\\source_13.txt', 'Articles\\\\Sources\\\\TikTok\\\\source_30.txt', 'Articles\\\\Sources\\\\Си (язык программирования)\\\\source_33.txt', 'Articles\\\\Sources\\\\Марс\\\\source_8.txt', 'Articles\\\\Sources\\\\Dota 2\\\\source_8.txt', 'Articles\\\\Sources\\\\Uncharted 4 A Thief’s End\\\\source_2.txt', 'Articles\\\\Sources\\\\РИА Новости\\\\source_30.txt', 'Articles\\\\Sources\\\\Portal 2\\\\source_12.txt', 'Articles\\\\Sources\\\\Экономика КНР\\\\source_61.txt', 'Articles\\\\Sources\\\\Яндекс\\\\source_14.txt', 'Articles\\\\Sources\\\\Большой адронный коллайдер\\\\source_7.txt', 'Articles\\\\Sources\\\\Марс\\\\source_28.txt', 'Articles\\\\Sources\\\\Иннополис\\\\source_12.txt', 'Articles\\\\Sources\\\\Вирус иммунодефицита человека\\\\source_30.txt', 'Articles\\\\Sources\\\\Uncharted 4 A Thief’s End\\\\source_14.txt', 'Articles\\\\Sources\\\\Геморрагическая лихорадка Эбола\\\\source_29.txt', 'Articles\\\\Sources\\\\Иннополис\\\\source_5.txt', 'Articles\\\\Sources\\\\TikTok\\\\source_70.txt', 'Articles\\\\Sources\\\\Tomb Raider (игра, 2013)\\\\source_36.txt', 'Articles\\\\Sources\\\\Искусственный интеллект\\\\source_31.txt', 'Articles\\\\Sources\\\\Си (язык программирования)\\\\source_1.txt', 'Articles\\\\Sources\\\\Си (язык программирования)\\\\source_42.txt', 'Articles\\\\Sources\\\\TikTok\\\\source_16.txt', 'Articles\\\\Sources\\\\Сколково (инновационный центр)\\\\source_101.txt', 'Articles\\\\Sources\\\\Сколково (инновационный центр)\\\\source_62.txt', 'Articles\\\\Sources\\\\Вирус иммунодефицита человека\\\\source_26.txt', 'Articles\\\\Sources\\\\Экономика КНР\\\\source_1.txt', 'Articles\\\\Sources\\\\Uncharted 4 A Thief’s End\\\\source_1.txt', 'Articles\\\\Sources\\\\РИА Новости\\\\source_33.txt', 'Articles\\\\Sources\\\\COVID-19\\\\source_73.txt', 'Articles\\\\Sources\\\\COVID-19\\\\source_52.txt', 'Articles\\\\Sources\\\\Си (язык программирования)\\\\source_38.txt', 'Articles\\\\Sources\\\\Tomb Raider (игра, 2013)\\\\source_42.txt', 'Articles\\\\Sources\\\\Иннополис\\\\source_35.txt', 'Articles\\\\Sources\\\\Google (компания)\\\\source_53.txt', 'Articles\\\\Sources\\\\COVID-19\\\\source_56.txt', 'Articles\\\\Sources\\\\COVID-19\\\\source_71.txt', 'Articles\\\\Sources\\\\COVID-19\\\\source_40.txt', 'Articles\\\\Sources\\\\Марс\\\\source_5.txt', 'Articles\\\\Sources\\\\Сколково (инновационный центр)\\\\source_146.txt', 'Articles\\\\Sources\\\\Сколково (инновационный центр)\\\\source_44.txt', 'Articles\\\\Sources\\\\COVID-19\\\\source_25.txt', 'Articles\\\\Sources\\\\Чёрная смерть\\\\source_12.txt', 'Articles\\\\Sources\\\\Чёрная дыра\\\\source_13.txt', 'Articles\\\\Sources\\\\Применение искусственного интеллекта\\\\source_2.txt', 'Articles\\\\Sources\\\\Сколково (инновационный центр)\\\\source_34.txt', 'Articles\\\\Sources\\\\Большой адронный коллайдер\\\\source_17.txt', 'Articles\\\\Sources\\\\Летние Олимпийские игры 2024\\\\source_6.txt', 'Articles\\\\Sources\\\\YouTube\\\\source_22.txt', 'Articles\\\\Sources\\\\Portal 2\\\\source_29.txt', 'Articles\\\\Sources\\\\Применение искусственного интеллекта\\\\source_42.txt', 'Articles\\\\Sources\\\\COVID-19\\\\source_45.txt', 'Articles\\\\Sources\\\\Сколково (инновационный центр)\\\\source_86.txt', 'Articles\\\\Sources\\\\Присоединение Крыма к Российской Федерации\\\\source_7.txt', 'Articles\\\\Sources\\\\Dota 2\\\\source_5.txt', 'Articles\\\\Sources\\\\Применение искусственного интеллекта\\\\source_32.txt', 'Articles\\\\Sources\\\\Сбербанк России\\\\source_65.txt', 'Articles\\\\Sources\\\\Иннополис\\\\source_45.txt', 'Articles\\\\Sources\\\\Солнечная система\\\\source_4.txt', 'Articles\\\\Sources\\\\Геморрагическая лихорадка Эбола\\\\source_2.txt', 'Articles\\\\Sources\\\\Солнечная система\\\\source_6.txt', 'Articles\\\\Sources\\\\Сколково (инновационный центр)\\\\source_76.txt', 'Articles\\\\Sources\\\\Python\\\\source_35.txt', 'Articles\\\\Sources\\\\Яндекс\\\\source_19.txt', 'Articles\\\\Sources\\\\Геморрагическая лихорадка Эбола\\\\source_6.txt', 'Articles\\\\Sources\\\\TikTok\\\\source_4.txt', 'Articles\\\\Sources\\\\Геморрагическая лихорадка Эбола\\\\source_31.txt', 'Articles\\\\Sources\\\\Чёрная смерть\\\\source_16.txt', 'Articles\\\\Sources\\\\Вирус иммунодефицита человека\\\\source_16.txt', 'Articles\\\\Sources\\\\Геморрагическая лихорадка Эбола\\\\source_26.txt', 'Articles\\\\Sources\\\\Экономика КНР\\\\source_64.txt', 'Articles\\\\Sources\\\\COVID-19\\\\source_23.txt', 'Articles\\\\Sources\\\\Portal 2\\\\source_4.txt', 'Articles\\\\Sources\\\\Применение искусственного интеллекта\\\\source_30.txt', 'Articles\\\\Sources\\\\Python\\\\source_30.txt', 'Articles\\\\Sources\\\\Применение искусственного интеллекта\\\\source_56.txt', 'Articles\\\\Sources\\\\Google (компания)\\\\source_6.txt', 'Articles\\\\Sources\\\\Иннополис\\\\source_9.txt', 'Articles\\\\Sources\\\\Dota 2\\\\source_18.txt', 'Articles\\\\Sources\\\\Яндекс\\\\source_6.txt', 'Articles\\\\Sources\\\\Марс\\\\source_55.txt', 'Articles\\\\Sources\\\\Искусственный интеллект\\\\source_21.txt', 'Articles\\\\Sources\\\\Яндекс\\\\source_44.txt', 'Articles\\\\Sources\\\\COVID-19\\\\source_69.txt', 'Articles\\\\Sources\\\\Экономика КНР\\\\source_23.txt', 'Articles\\\\Sources\\\\Сколково (инновационный центр)\\\\source_72.txt', 'Articles\\\\Sources\\\\Большой адронный коллайдер\\\\source_6.txt', 'Articles\\\\Sources\\\\TikTok\\\\source_25.txt', 'Articles\\\\Sources\\\\YouTube\\\\source_6.txt', 'Articles\\\\Sources\\\\Tomb Raider (игра, 2013)\\\\source_15.txt', 'Articles\\\\Sources\\\\Portal 2\\\\source_31.txt', 'Articles\\\\Sources\\\\Сбербанк России\\\\source_88.txt', 'Articles\\\\Sources\\\\TikTok\\\\source_68.txt', 'Articles\\\\Sources\\\\Сбербанк России\\\\source_3.txt', 'Articles\\\\Sources\\\\Python\\\\source_28.txt', 'Articles\\\\Sources\\\\Сколково (инновационный центр)\\\\source_141.txt', 'Articles\\\\Sources\\\\COVID-19\\\\source_77.txt', 'Articles\\\\Sources\\\\COVID-19\\\\source_51.txt', 'Articles\\\\Sources\\\\Экономика КНР\\\\source_43.txt', 'Articles\\\\Sources\\\\Экономика США\\\\source_20.txt', 'Articles\\\\Sources\\\\Сколково (инновационный центр)\\\\source_138.txt', 'Articles\\\\Sources\\\\Яндекс\\\\source_48.txt', 'Articles\\\\Sources\\\\Си (язык программирования)\\\\source_23.txt', 'Articles\\\\Sources\\\\Сбербанк России\\\\source_72.txt', 'Articles\\\\Sources\\\\TikTok\\\\source_34.txt', 'Articles\\\\Sources\\\\Большой адронный коллайдер\\\\source_4.txt', 'Articles\\\\Sources\\\\Python\\\\source_36.txt', 'Articles\\\\Sources\\\\Си (язык программирования)\\\\source_19.txt', 'Articles\\\\Sources\\\\Искусственный интеллект\\\\source_17.txt', 'Articles\\\\Sources\\\\Сколково (инновационный центр)\\\\source_75.txt', 'Articles\\\\Sources\\\\COVID-19\\\\source_58.txt', 'Articles\\\\Sources\\\\TikTok\\\\source_7.txt', 'Articles\\\\Sources\\\\YouTube\\\\source_2.txt', 'Articles\\\\Sources\\\\Солнечная система\\\\source_3.txt', 'Articles\\\\Sources\\\\Tomb Raider (игра, 2013)\\\\source_22.txt', 'Articles\\\\Sources\\\\Экономика КНР\\\\source_47.txt', 'Articles\\\\Sources\\\\Летние Олимпийские игры 2020\\\\source_7.txt', 'Articles\\\\Sources\\\\Portal 2\\\\source_2.txt', 'Articles\\\\Sources\\\\Летние Олимпийские игры 2024\\\\source_2.txt', 'Articles\\\\Sources\\\\TikTok\\\\source_49.txt', 'Articles\\\\Sources\\\\Иннополис\\\\source_25.txt', 'Articles\\\\Sources\\\\Яндекс\\\\source_32.txt', 'Articles\\\\Sources\\\\Солнечная система\\\\source_16.txt', 'Articles\\\\Sources\\\\Си (язык программирования)\\\\source_17.txt', 'Articles\\\\Sources\\\\TikTok\\\\source_38.txt', 'Articles\\\\Sources\\\\Сбербанк России\\\\source_61.txt', 'Articles\\\\Sources\\\\Яндекс\\\\source_2.txt', 'Articles\\\\Sources\\\\Экономика КНР\\\\source_19.txt', 'Articles\\\\Sources\\\\Применение искусственного интеллекта\\\\source_38.txt', 'Articles\\\\Sources\\\\РИА Новости\\\\source_21.txt', 'Articles\\\\Sources\\\\Python\\\\source_76.txt', 'Articles\\\\Sources\\\\Чёрная дыра\\\\source_1.txt', 'Articles\\\\Sources\\\\Сбербанк России\\\\source_43.txt', 'Articles\\\\Sources\\\\Сколково (инновационный центр)\\\\source_49.txt', 'Articles\\\\Sources\\\\TikTok\\\\source_47.txt', 'Articles\\\\Sources\\\\COVID-19\\\\source_81.txt', 'Articles\\\\Sources\\\\Tomb Raider (игра, 2013)\\\\source_44.txt', 'Articles\\\\Sources\\\\Экономика КНР\\\\source_37.txt', 'Articles\\\\Sources\\\\Яндекс\\\\source_39.txt', 'Articles\\\\Sources\\\\Сколково (инновационный центр)\\\\source_83.txt', 'Articles\\\\Sources\\\\Google (компания)\\\\source_27.txt', 'Articles\\\\Sources\\\\Tomb Raider (игра, 2013)\\\\source_9.txt', 'Articles\\\\Sources\\\\Сколково (инновационный центр)\\\\source_102.txt', 'Articles\\\\Sources\\\\Сколково (инновационный центр)\\\\source_85.txt', 'Articles\\\\Sources\\\\Си (язык программирования)\\\\source_60.txt', 'Articles\\\\Sources\\\\Сколково (инновационный центр)\\\\source_134.txt', 'Articles\\\\Sources\\\\TikTok\\\\source_53.txt', 'Articles\\\\Sources\\\\Марс\\\\source_29.txt', 'Articles\\\\Sources\\\\Google (компания)\\\\source_8.txt', 'Articles\\\\Sources\\\\Иннополис\\\\source_24.txt', 'Articles\\\\Sources\\\\YouTube\\\\source_20.txt', 'Articles\\\\Sources\\\\Python\\\\source_29.txt', 'Articles\\\\Sources\\\\Яндекс\\\\source_11.txt', 'Articles\\\\Sources\\\\Иннополис\\\\source_2.txt', 'Articles\\\\Sources\\\\Сколково (инновационный центр)\\\\source_28.txt', 'Articles\\\\Sources\\\\Применение искусственного интеллекта\\\\source_15.txt', 'Articles\\\\Sources\\\\Применение искусственного интеллекта\\\\source_79.txt', 'Articles\\\\Sources\\\\РИА Новости\\\\source_18.txt', 'Articles\\\\Sources\\\\Tomb Raider (игра, 2013)\\\\source_14.txt', 'Articles\\\\Sources\\\\РИА Новости\\\\source_23.txt', 'Articles\\\\Sources\\\\Квантовый компьютер\\\\source_27.txt', 'Articles\\\\Sources\\\\Сбербанк России\\\\source_74.txt', 'Articles\\\\Sources\\\\Сколково (инновационный центр)\\\\source_57.txt', 'Articles\\\\Sources\\\\Uncharted 4 A Thief’s End\\\\source_7.txt', 'Articles\\\\Sources\\\\COVID-19\\\\source_20.txt', 'Articles\\\\Sources\\\\Чёрная дыра\\\\source_27.txt', 'Articles\\\\Sources\\\\Марс\\\\source_26.txt', 'Articles\\\\Sources\\\\Dota 2\\\\source_25.txt', 'Articles\\\\Sources\\\\TikTok\\\\source_20.txt', 'Articles\\\\Sources\\\\Геморрагическая лихорадка Эбола\\\\source_13.txt', 'Articles\\\\Sources\\\\Сколково (инновационный центр)\\\\source_16.txt', 'Articles\\\\Sources\\\\Сбербанк России\\\\source_12.txt', 'Articles\\\\Sources\\\\Сбербанк России\\\\source_5.txt', 'Articles\\\\Sources\\\\Большой адронный коллайдер\\\\source_14.txt', 'Articles\\\\Sources\\\\Чёрная дыра\\\\source_16.txt', 'Articles\\\\Sources\\\\Яндекс\\\\source_24.txt', 'Articles\\\\Sources\\\\Вирус иммунодефицита человека\\\\source_19.txt', 'Articles\\\\Sources\\\\Применение искусственного интеллекта\\\\source_53.txt', 'Articles\\\\Sources\\\\Яндекс\\\\source_8.txt', 'Articles\\\\Sources\\\\РИА Новости\\\\source_31.txt', 'Articles\\\\Sources\\\\Python\\\\source_7.txt', 'Articles\\\\Sources\\\\Google (компания)\\\\source_49.txt', 'Articles\\\\Sources\\\\Сколково (инновационный центр)\\\\source_14.txt', 'Articles\\\\Sources\\\\Python\\\\source_37.txt', 'Articles\\\\Sources\\\\Tomb Raider (игра, 2013)\\\\source_27.txt', 'Articles\\\\Sources\\\\Летние Олимпийские игры 2024\\\\source_14.txt', 'Articles\\\\Sources\\\\Сбербанк России\\\\source_9.txt', 'Articles\\\\Sources\\\\Применение искусственного интеллекта\\\\source_23.txt', 'Articles\\\\Sources\\\\Сбербанк России\\\\source_64.txt', 'Articles\\\\Sources\\\\Google (компания)\\\\source_45.txt', 'Articles\\\\Sources\\\\Tomb Raider (игра, 2013)\\\\source_12.txt', 'Articles\\\\Sources\\\\Искусственный интеллект\\\\source_14.txt', 'Articles\\\\Sources\\\\Геморрагическая лихорадка Эбола\\\\source_17.txt', 'Articles\\\\Sources\\\\Чёрная дыра\\\\source_10.txt', 'Articles\\\\Sources\\\\Dota 2\\\\source_24.txt', 'Articles\\\\Sources\\\\Google (компания)\\\\source_19.txt', 'Articles\\\\Sources\\\\Сколково (инновационный центр)\\\\source_1.txt', 'Articles\\\\Sources\\\\Марс\\\\source_13.txt', 'Articles\\\\Sources\\\\Марс\\\\source_45.txt', 'Articles\\\\Sources\\\\Экономика КНР\\\\source_21.txt', 'Articles\\\\Sources\\\\Солнечная система\\\\source_9.txt', 'Articles\\\\Sources\\\\Экономика КНР\\\\source_11.txt', 'Articles\\\\Sources\\\\Uncharted 4 A Thief’s End\\\\source_12.txt', 'Articles\\\\Sources\\\\Применение искусственного интеллекта\\\\source_70.txt', 'Articles\\\\Sources\\\\Си (язык программирования)\\\\source_45.txt', 'Articles\\\\Sources\\\\Python\\\\source_40.txt', 'Articles\\\\Sources\\\\Яндекс\\\\source_7.txt', 'Articles\\\\Sources\\\\РИА Новости\\\\source_29.txt', 'Articles\\\\Sources\\\\Сбербанк России\\\\source_86.txt', 'Articles\\\\Sources\\\\TikTok\\\\source_59.txt', 'Articles\\\\Sources\\\\Сбербанк России\\\\source_91.txt', 'Articles\\\\Sources\\\\Иннополис\\\\source_13.txt', 'Articles\\\\Sources\\\\Вирус иммунодефицита человека\\\\source_14.txt', 'Articles\\\\Sources\\\\Сколково (инновационный центр)\\\\source_5.txt', 'Articles\\\\Sources\\\\TikTok\\\\source_31.txt', 'Articles\\\\Sources\\\\Си (язык программирования)\\\\source_41.txt', 'Articles\\\\Sources\\\\Марс\\\\source_38.txt', 'Articles\\\\Sources\\\\Uncharted 4 A Thief’s End\\\\source_9.txt', 'Articles\\\\Sources\\\\Иннополис\\\\source_30.txt', 'Articles\\\\Sources\\\\Применение искусственного интеллекта\\\\source_47.txt', 'Articles\\\\Sources\\\\Сбербанк России\\\\source_23.txt', 'Articles\\\\Sources\\\\Чёрная дыра\\\\source_2.txt', 'Articles\\\\Sources\\\\Сколково (инновационный центр)\\\\source_63.txt', 'Articles\\\\Sources\\\\TikTok\\\\source_71.txt', 'Articles\\\\Sources\\\\Чёрная смерть\\\\source_15.txt', 'Articles\\\\Sources\\\\Искусственный интеллект\\\\source_24.txt', 'Articles\\\\Sources\\\\YouTube\\\\source_14.txt', 'Articles\\\\Sources\\\\Вирус иммунодефицита человека\\\\source_12.txt', 'Articles\\\\Sources\\\\Dota 2\\\\source_17.txt'}\n"
     ]
    },
    {
     "data": {
      "application/vnd.jupyter.widget-view+json": {
       "model_id": "3271349725b54b50b2809d366ec3f00c",
       "version_major": 2,
       "version_minor": 0
      },
      "text/plain": [
       "Saving the dataset (0/1 shards):   0%|          | 0/2001 [00:00<?, ? examples/s]"
      ]
     },
     "metadata": {},
     "output_type": "display_data"
    },
    {
     "data": {
      "application/vnd.jupyter.widget-view+json": {
       "model_id": "a39c3a4e00584f298816de58e02b6754",
       "version_major": 2,
       "version_minor": 0
      },
      "text/plain": [
       "BM25S Count Tokens:   0%|          | 0/2001 [00:00<?, ?it/s]"
      ]
     },
     "metadata": {},
     "output_type": "display_data"
    },
    {
     "data": {
      "application/vnd.jupyter.widget-view+json": {
       "model_id": "57c886f37f604128af3432f6213577b2",
       "version_major": 2,
       "version_minor": 0
      },
      "text/plain": [
       "BM25S Compute Scores:   0%|          | 0/2001 [00:00<?, ?it/s]"
      ]
     },
     "metadata": {},
     "output_type": "display_data"
    },
    {
     "data": {
      "application/vnd.jupyter.widget-view+json": {
       "model_id": "863112520dff48928d594e1d80216ad0",
       "version_major": 2,
       "version_minor": 0
      },
      "text/plain": [
       "Finding newlines for mmindex:   0%|          | 0.00/9.30M [00:00<?, ?B/s]"
      ]
     },
     "metadata": {},
     "output_type": "display_data"
    }
   ],
   "source": [
    "\n",
    "\n",
    "snippets = wiki_evaluater.load_corpus()\n",
    "\n",
    "\n",
    "import os\n",
    "\n",
    "base_dir = os.path.join('Articles', 'Sources')\n",
    "\n",
    "folders = [f for f in os.listdir(base_dir) if os.path.isdir(os.path.join(base_dir, f))]\n",
    "\n",
    "topR = []\n",
    "\n",
    "for folder in folders:\n",
    "    snip = [1 if snippet['doc_id'].split(\"\\\\\")[-2] == folder else 0 for snippet in snippets]\n",
    "    topR.append((folder, sum(snip)))"
   ]
  },
  {
   "cell_type": "code",
   "execution_count": 20,
   "id": "a90d962c-360d-4ad0-87cf-1574239f363e",
   "metadata": {},
   "outputs": [
    {
     "name": "stdout",
     "output_type": "stream",
     "text": [
      "[('C++', 15), ('COVID-19', 135), ('Dota 2', 42), ('Google (компания)', 63), ('Portal 2', 40), ('Python', 177), ('TikTok', 77), ('Tomb Raider (игра, 2013)', 76), ('Uncharted 4 A Thief’s End', 33), ('YouTube', 31), ('Большой адронный коллайдер', 24), ('Вирус иммунодефицита человека', 58), ('Геморрагическая лихорадка Эбола', 38), ('Иннополис', 51), ('Искусственный интеллект', 59), ('Квантовый компьютер', 29), ('Летние Олимпийские игры 2020', 16), ('Летние Олимпийские игры 2024', 40), ('Марс', 66), ('Применение искусственного интеллекта', 108), ('Присоединение Крыма к Российской Федерации', 30), ('РИА Новости', 37), ('Сбербанк России', 104), ('Си (язык программирования)', 134), ('Сколково (инновационный центр)', 177), ('Солнечная система', 61), ('Чёрная дыра', 61), ('Чёрная смерть', 58), ('Экономика Германии', 5), ('Экономика КНР', 78), ('Экономика США', 25), ('Яндекс', 53)]\n"
     ]
    }
   ],
   "source": [
    "print(topR)"
   ]
  },
  {
   "cell_type": "code",
   "execution_count": 33,
   "id": "996ca726-3d01-4a26-80be-cd194599788e",
   "metadata": {
    "editable": true,
    "scrolled": true,
    "slideshow": {
     "slide_type": ""
    },
    "tags": []
   },
   "outputs": [
    {
     "data": {
      "application/vnd.jupyter.widget-view+json": {
       "model_id": "6dc34f4ccf0d4de1aeefd40ec4b0d268",
       "version_major": 2,
       "version_minor": 0
      },
      "text/plain": [
       "Split strings:   0%|          | 0/1 [00:00<?, ?it/s]"
      ]
     },
     "metadata": {},
     "output_type": "display_data"
    },
    {
     "data": {
      "application/vnd.jupyter.widget-view+json": {
       "model_id": "e653ec65a51d4d8fb6f6209c2da4fca8",
       "version_major": 2,
       "version_minor": 0
      },
      "text/plain": [
       "Stem Tokens:   0%|          | 0/1 [00:00<?, ?it/s]"
      ]
     },
     "metadata": {},
     "output_type": "display_data"
    },
    {
     "data": {
      "application/vnd.jupyter.widget-view+json": {
       "model_id": "311833afe0b7444c985b3aca48b8616c",
       "version_major": 2,
       "version_minor": 0
      },
      "text/plain": [
       "BM25S Retrieve:   0%|          | 0/1 [00:00<?, ?it/s]"
      ]
     },
     "metadata": {},
     "output_type": "display_data"
    },
    {
     "name": "stdout",
     "output_type": "stream",
     "text": [
      "C++\n",
      "Ndcg:  0.98\n",
      "R-precision:  0.86\n"
     ]
    },
    {
     "data": {
      "application/vnd.jupyter.widget-view+json": {
       "model_id": "f0c39e1fffaa43a2a9154a923d9ca072",
       "version_major": 2,
       "version_minor": 0
      },
      "text/plain": [
       "Split strings:   0%|          | 0/1 [00:00<?, ?it/s]"
      ]
     },
     "metadata": {},
     "output_type": "display_data"
    },
    {
     "data": {
      "application/vnd.jupyter.widget-view+json": {
       "model_id": "63664ba9bca84135ba4fb1183dc155b3",
       "version_major": 2,
       "version_minor": 0
      },
      "text/plain": [
       "Stem Tokens:   0%|          | 0/1 [00:00<?, ?it/s]"
      ]
     },
     "metadata": {},
     "output_type": "display_data"
    },
    {
     "data": {
      "application/vnd.jupyter.widget-view+json": {
       "model_id": "3844e637598841b19cbd8b3c36332a53",
       "version_major": 2,
       "version_minor": 0
      },
      "text/plain": [
       "BM25S Retrieve:   0%|          | 0/1 [00:00<?, ?it/s]"
      ]
     },
     "metadata": {},
     "output_type": "display_data"
    },
    {
     "name": "stdout",
     "output_type": "stream",
     "text": [
      "COVID-19\n",
      "Ndcg:  0.97\n",
      "R-precision:  0.94\n"
     ]
    },
    {
     "data": {
      "application/vnd.jupyter.widget-view+json": {
       "model_id": "dadfe40796b542108765373d9687c24b",
       "version_major": 2,
       "version_minor": 0
      },
      "text/plain": [
       "Split strings:   0%|          | 0/1 [00:00<?, ?it/s]"
      ]
     },
     "metadata": {},
     "output_type": "display_data"
    },
    {
     "data": {
      "application/vnd.jupyter.widget-view+json": {
       "model_id": "0d74c35c759e4ff9a31ac3e56202bd24",
       "version_major": 2,
       "version_minor": 0
      },
      "text/plain": [
       "Stem Tokens:   0%|          | 0/1 [00:00<?, ?it/s]"
      ]
     },
     "metadata": {},
     "output_type": "display_data"
    },
    {
     "data": {
      "application/vnd.jupyter.widget-view+json": {
       "model_id": "329613157b4f4108bcf0f9c5fcc5c6dc",
       "version_major": 2,
       "version_minor": 0
      },
      "text/plain": [
       "BM25S Retrieve:   0%|          | 0/1 [00:00<?, ?it/s]"
      ]
     },
     "metadata": {},
     "output_type": "display_data"
    },
    {
     "name": "stdout",
     "output_type": "stream",
     "text": [
      "Google (компания)\n",
      "Ndcg:  0.97\n",
      "R-precision:  0.83\n"
     ]
    },
    {
     "data": {
      "application/vnd.jupyter.widget-view+json": {
       "model_id": "b66633a6e83244b3aa7f70573659d0ec",
       "version_major": 2,
       "version_minor": 0
      },
      "text/plain": [
       "Split strings:   0%|          | 0/1 [00:00<?, ?it/s]"
      ]
     },
     "metadata": {},
     "output_type": "display_data"
    },
    {
     "data": {
      "application/vnd.jupyter.widget-view+json": {
       "model_id": "af8460d1d3284a4a9193acf1dbd6290b",
       "version_major": 2,
       "version_minor": 0
      },
      "text/plain": [
       "Stem Tokens:   0%|          | 0/1 [00:00<?, ?it/s]"
      ]
     },
     "metadata": {},
     "output_type": "display_data"
    },
    {
     "data": {
      "application/vnd.jupyter.widget-view+json": {
       "model_id": "f438097462274ee4a644972825b90d49",
       "version_major": 2,
       "version_minor": 0
      },
      "text/plain": [
       "BM25S Retrieve:   0%|          | 0/1 [00:00<?, ?it/s]"
      ]
     },
     "metadata": {},
     "output_type": "display_data"
    },
    {
     "name": "stdout",
     "output_type": "stream",
     "text": [
      "Python\n",
      "Ndcg:  0.99\n",
      "R-precision:  0.95\n"
     ]
    },
    {
     "data": {
      "application/vnd.jupyter.widget-view+json": {
       "model_id": "ef4c52c47dc74c1d93bdf668f7a1ab7b",
       "version_major": 2,
       "version_minor": 0
      },
      "text/plain": [
       "Split strings:   0%|          | 0/1 [00:00<?, ?it/s]"
      ]
     },
     "metadata": {},
     "output_type": "display_data"
    },
    {
     "data": {
      "application/vnd.jupyter.widget-view+json": {
       "model_id": "e1bf320a389b46f98c89f6c2eeb69b72",
       "version_major": 2,
       "version_minor": 0
      },
      "text/plain": [
       "Stem Tokens:   0%|          | 0/1 [00:00<?, ?it/s]"
      ]
     },
     "metadata": {},
     "output_type": "display_data"
    },
    {
     "data": {
      "application/vnd.jupyter.widget-view+json": {
       "model_id": "95e73a7a39264a5ba50cbe5d40a97454",
       "version_major": 2,
       "version_minor": 0
      },
      "text/plain": [
       "BM25S Retrieve:   0%|          | 0/1 [00:00<?, ?it/s]"
      ]
     },
     "metadata": {},
     "output_type": "display_data"
    },
    {
     "name": "stdout",
     "output_type": "stream",
     "text": [
      "Tomb Raider (игра, 2013)\n",
      "Ndcg:  1.0\n",
      "R-precision:  0.92\n"
     ]
    },
    {
     "data": {
      "application/vnd.jupyter.widget-view+json": {
       "model_id": "e32514cf9c284dd1a27c762e1bb95098",
       "version_major": 2,
       "version_minor": 0
      },
      "text/plain": [
       "Split strings:   0%|          | 0/1 [00:00<?, ?it/s]"
      ]
     },
     "metadata": {},
     "output_type": "display_data"
    },
    {
     "data": {
      "application/vnd.jupyter.widget-view+json": {
       "model_id": "d308e9c53cf6435aa05839a1d7dcb265",
       "version_major": 2,
       "version_minor": 0
      },
      "text/plain": [
       "Stem Tokens:   0%|          | 0/1 [00:00<?, ?it/s]"
      ]
     },
     "metadata": {},
     "output_type": "display_data"
    },
    {
     "data": {
      "application/vnd.jupyter.widget-view+json": {
       "model_id": "bbe5f3bd6d2a405db2502b2fb751872b",
       "version_major": 2,
       "version_minor": 0
      },
      "text/plain": [
       "BM25S Retrieve:   0%|          | 0/1 [00:00<?, ?it/s]"
      ]
     },
     "metadata": {},
     "output_type": "display_data"
    },
    {
     "name": "stdout",
     "output_type": "stream",
     "text": [
      "Uncharted 4 A Thief’s End\n",
      "Ndcg:  0.98\n",
      "R-precision:  0.94\n"
     ]
    },
    {
     "data": {
      "application/vnd.jupyter.widget-view+json": {
       "model_id": "966e11fedc1d4fbc8b656004eba5df9a",
       "version_major": 2,
       "version_minor": 0
      },
      "text/plain": [
       "Split strings:   0%|          | 0/1 [00:00<?, ?it/s]"
      ]
     },
     "metadata": {},
     "output_type": "display_data"
    },
    {
     "data": {
      "application/vnd.jupyter.widget-view+json": {
       "model_id": "40033c0ab6604c09bac59ae69a3e9dc7",
       "version_major": 2,
       "version_minor": 0
      },
      "text/plain": [
       "Stem Tokens:   0%|          | 0/1 [00:00<?, ?it/s]"
      ]
     },
     "metadata": {},
     "output_type": "display_data"
    },
    {
     "data": {
      "application/vnd.jupyter.widget-view+json": {
       "model_id": "487b2752f7b844d5962f09b692be4356",
       "version_major": 2,
       "version_minor": 0
      },
      "text/plain": [
       "BM25S Retrieve:   0%|          | 0/1 [00:00<?, ?it/s]"
      ]
     },
     "metadata": {},
     "output_type": "display_data"
    },
    {
     "name": "stdout",
     "output_type": "stream",
     "text": [
      "Большой адронный коллайдер\n",
      "Ndcg:  1.0\n",
      "R-precision:  0.95\n"
     ]
    },
    {
     "data": {
      "application/vnd.jupyter.widget-view+json": {
       "model_id": "4862e53035b2490ca5419f6995076075",
       "version_major": 2,
       "version_minor": 0
      },
      "text/plain": [
       "Split strings:   0%|          | 0/1 [00:00<?, ?it/s]"
      ]
     },
     "metadata": {},
     "output_type": "display_data"
    },
    {
     "data": {
      "application/vnd.jupyter.widget-view+json": {
       "model_id": "17c1fc41e18642e29d075ed408cbb984",
       "version_major": 2,
       "version_minor": 0
      },
      "text/plain": [
       "Stem Tokens:   0%|          | 0/1 [00:00<?, ?it/s]"
      ]
     },
     "metadata": {},
     "output_type": "display_data"
    },
    {
     "data": {
      "application/vnd.jupyter.widget-view+json": {
       "model_id": "25453ad652454427a41249d65f49c4c4",
       "version_major": 2,
       "version_minor": 0
      },
      "text/plain": [
       "BM25S Retrieve:   0%|          | 0/1 [00:00<?, ?it/s]"
      ]
     },
     "metadata": {},
     "output_type": "display_data"
    },
    {
     "name": "stdout",
     "output_type": "stream",
     "text": [
      "Иннополис\n",
      "Ndcg:  1.0\n",
      "R-precision:  0.98\n"
     ]
    },
    {
     "data": {
      "application/vnd.jupyter.widget-view+json": {
       "model_id": "9d46a8a1e2e142fcaeed3a1b0f58dc50",
       "version_major": 2,
       "version_minor": 0
      },
      "text/plain": [
       "Split strings:   0%|          | 0/1 [00:00<?, ?it/s]"
      ]
     },
     "metadata": {},
     "output_type": "display_data"
    },
    {
     "data": {
      "application/vnd.jupyter.widget-view+json": {
       "model_id": "ea71a46153924a2b8e3746707a37e7ef",
       "version_major": 2,
       "version_minor": 0
      },
      "text/plain": [
       "Stem Tokens:   0%|          | 0/1 [00:00<?, ?it/s]"
      ]
     },
     "metadata": {},
     "output_type": "display_data"
    },
    {
     "data": {
      "application/vnd.jupyter.widget-view+json": {
       "model_id": "46752f1f01c04f6a9754b6f3a6f15da8",
       "version_major": 2,
       "version_minor": 0
      },
      "text/plain": [
       "BM25S Retrieve:   0%|          | 0/1 [00:00<?, ?it/s]"
      ]
     },
     "metadata": {},
     "output_type": "display_data"
    },
    {
     "name": "stdout",
     "output_type": "stream",
     "text": [
      "Искусственный интеллект\n",
      "Ndcg:  0.74\n",
      "R-precision:  0.49\n"
     ]
    },
    {
     "data": {
      "application/vnd.jupyter.widget-view+json": {
       "model_id": "20a6ef73c7604492a0a08a78d002125f",
       "version_major": 2,
       "version_minor": 0
      },
      "text/plain": [
       "Split strings:   0%|          | 0/1 [00:00<?, ?it/s]"
      ]
     },
     "metadata": {},
     "output_type": "display_data"
    },
    {
     "data": {
      "application/vnd.jupyter.widget-view+json": {
       "model_id": "ab540b8e82214b73bb9c2aeb0a04adda",
       "version_major": 2,
       "version_minor": 0
      },
      "text/plain": [
       "Stem Tokens:   0%|          | 0/1 [00:00<?, ?it/s]"
      ]
     },
     "metadata": {},
     "output_type": "display_data"
    },
    {
     "data": {
      "application/vnd.jupyter.widget-view+json": {
       "model_id": "75077e2fa8b648b9992053127cabf73f",
       "version_major": 2,
       "version_minor": 0
      },
      "text/plain": [
       "BM25S Retrieve:   0%|          | 0/1 [00:00<?, ?it/s]"
      ]
     },
     "metadata": {},
     "output_type": "display_data"
    },
    {
     "name": "stdout",
     "output_type": "stream",
     "text": [
      "Квантовый компьютер\n",
      "Ndcg:  1.0\n",
      "R-precision:  0.96\n"
     ]
    },
    {
     "data": {
      "application/vnd.jupyter.widget-view+json": {
       "model_id": "340dc8d043154e81ad1d619823b4d605",
       "version_major": 2,
       "version_minor": 0
      },
      "text/plain": [
       "Split strings:   0%|          | 0/1 [00:00<?, ?it/s]"
      ]
     },
     "metadata": {},
     "output_type": "display_data"
    },
    {
     "data": {
      "application/vnd.jupyter.widget-view+json": {
       "model_id": "d20601d632d84833981022185aaa6bce",
       "version_major": 2,
       "version_minor": 0
      },
      "text/plain": [
       "Stem Tokens:   0%|          | 0/1 [00:00<?, ?it/s]"
      ]
     },
     "metadata": {},
     "output_type": "display_data"
    },
    {
     "data": {
      "application/vnd.jupyter.widget-view+json": {
       "model_id": "9a573337e4f641c1b36f9a0551336729",
       "version_major": 2,
       "version_minor": 0
      },
      "text/plain": [
       "BM25S Retrieve:   0%|          | 0/1 [00:00<?, ?it/s]"
      ]
     },
     "metadata": {},
     "output_type": "display_data"
    },
    {
     "name": "stdout",
     "output_type": "stream",
     "text": [
      "Летние Олимпийские игры 2020\n",
      "Ndcg:  0.95\n",
      "R-precision:  0.78\n"
     ]
    },
    {
     "data": {
      "application/vnd.jupyter.widget-view+json": {
       "model_id": "efa31c30db2b43fd8960c1152eb767d1",
       "version_major": 2,
       "version_minor": 0
      },
      "text/plain": [
       "Split strings:   0%|          | 0/1 [00:00<?, ?it/s]"
      ]
     },
     "metadata": {},
     "output_type": "display_data"
    },
    {
     "data": {
      "application/vnd.jupyter.widget-view+json": {
       "model_id": "feedc28b50be45b6bafb54019d9241ca",
       "version_major": 2,
       "version_minor": 0
      },
      "text/plain": [
       "Stem Tokens:   0%|          | 0/1 [00:00<?, ?it/s]"
      ]
     },
     "metadata": {},
     "output_type": "display_data"
    },
    {
     "data": {
      "application/vnd.jupyter.widget-view+json": {
       "model_id": "a42e19b9f6a148f683960e2721070e9c",
       "version_major": 2,
       "version_minor": 0
      },
      "text/plain": [
       "BM25S Retrieve:   0%|          | 0/1 [00:00<?, ?it/s]"
      ]
     },
     "metadata": {},
     "output_type": "display_data"
    },
    {
     "name": "stdout",
     "output_type": "stream",
     "text": [
      "Летние Олимпийские игры 2024\n",
      "Ndcg:  1.0\n",
      "R-precision:  1.0\n"
     ]
    },
    {
     "data": {
      "application/vnd.jupyter.widget-view+json": {
       "model_id": "99a8256527e54963a25d11267d9c597a",
       "version_major": 2,
       "version_minor": 0
      },
      "text/plain": [
       "Split strings:   0%|          | 0/1 [00:00<?, ?it/s]"
      ]
     },
     "metadata": {},
     "output_type": "display_data"
    },
    {
     "data": {
      "application/vnd.jupyter.widget-view+json": {
       "model_id": "2ed068a75e05419f8dd77bd129d50291",
       "version_major": 2,
       "version_minor": 0
      },
      "text/plain": [
       "Stem Tokens:   0%|          | 0/1 [00:00<?, ?it/s]"
      ]
     },
     "metadata": {},
     "output_type": "display_data"
    },
    {
     "data": {
      "application/vnd.jupyter.widget-view+json": {
       "model_id": "215608eadb904f0c80e5c6c20a1acfa8",
       "version_major": 2,
       "version_minor": 0
      },
      "text/plain": [
       "BM25S Retrieve:   0%|          | 0/1 [00:00<?, ?it/s]"
      ]
     },
     "metadata": {},
     "output_type": "display_data"
    },
    {
     "name": "stdout",
     "output_type": "stream",
     "text": [
      "Применение искусственного интеллекта\n",
      "Ndcg:  0.61\n",
      "R-precision:  0.17\n"
     ]
    },
    {
     "data": {
      "application/vnd.jupyter.widget-view+json": {
       "model_id": "2d2026c22c564dff877dbd68b6a3dd91",
       "version_major": 2,
       "version_minor": 0
      },
      "text/plain": [
       "Split strings:   0%|          | 0/1 [00:00<?, ?it/s]"
      ]
     },
     "metadata": {},
     "output_type": "display_data"
    },
    {
     "data": {
      "application/vnd.jupyter.widget-view+json": {
       "model_id": "f0251a4453544349b54fa53a5458746f",
       "version_major": 2,
       "version_minor": 0
      },
      "text/plain": [
       "Stem Tokens:   0%|          | 0/1 [00:00<?, ?it/s]"
      ]
     },
     "metadata": {},
     "output_type": "display_data"
    },
    {
     "data": {
      "application/vnd.jupyter.widget-view+json": {
       "model_id": "e8fb0e6212824a14916cc29dacbf1c47",
       "version_major": 2,
       "version_minor": 0
      },
      "text/plain": [
       "BM25S Retrieve:   0%|          | 0/1 [00:00<?, ?it/s]"
      ]
     },
     "metadata": {},
     "output_type": "display_data"
    },
    {
     "name": "stdout",
     "output_type": "stream",
     "text": [
      "Присоединение Крыма к Российской Федерации\n",
      "Ndcg:  1.0\n",
      "R-precision:  0.88\n"
     ]
    },
    {
     "data": {
      "application/vnd.jupyter.widget-view+json": {
       "model_id": "9412a7e7daaf4de1a207083ce3329ad9",
       "version_major": 2,
       "version_minor": 0
      },
      "text/plain": [
       "Split strings:   0%|          | 0/1 [00:00<?, ?it/s]"
      ]
     },
     "metadata": {},
     "output_type": "display_data"
    },
    {
     "data": {
      "application/vnd.jupyter.widget-view+json": {
       "model_id": "4a86675741ea4d63b84d3b9d85e07001",
       "version_major": 2,
       "version_minor": 0
      },
      "text/plain": [
       "Stem Tokens:   0%|          | 0/1 [00:00<?, ?it/s]"
      ]
     },
     "metadata": {},
     "output_type": "display_data"
    },
    {
     "data": {
      "application/vnd.jupyter.widget-view+json": {
       "model_id": "388e47d0612140709146a182e1055cb1",
       "version_major": 2,
       "version_minor": 0
      },
      "text/plain": [
       "BM25S Retrieve:   0%|          | 0/1 [00:00<?, ?it/s]"
      ]
     },
     "metadata": {},
     "output_type": "display_data"
    },
    {
     "name": "stdout",
     "output_type": "stream",
     "text": [
      "РИА Новости\n",
      "Ndcg:  0.97\n",
      "R-precision:  0.81\n"
     ]
    },
    {
     "data": {
      "application/vnd.jupyter.widget-view+json": {
       "model_id": "8dd3d49092fd4e5c88fe20b87c25fe98",
       "version_major": 2,
       "version_minor": 0
      },
      "text/plain": [
       "Split strings:   0%|          | 0/1 [00:00<?, ?it/s]"
      ]
     },
     "metadata": {},
     "output_type": "display_data"
    },
    {
     "data": {
      "application/vnd.jupyter.widget-view+json": {
       "model_id": "35ea242c18b945cba759acb237ea3211",
       "version_major": 2,
       "version_minor": 0
      },
      "text/plain": [
       "Stem Tokens:   0%|          | 0/1 [00:00<?, ?it/s]"
      ]
     },
     "metadata": {},
     "output_type": "display_data"
    },
    {
     "data": {
      "application/vnd.jupyter.widget-view+json": {
       "model_id": "86114025317146498013873dbbe617cf",
       "version_major": 2,
       "version_minor": 0
      },
      "text/plain": [
       "BM25S Retrieve:   0%|          | 0/1 [00:00<?, ?it/s]"
      ]
     },
     "metadata": {},
     "output_type": "display_data"
    },
    {
     "name": "stdout",
     "output_type": "stream",
     "text": [
      "Сбербанк России\n",
      "Ndcg:  1.0\n",
      "R-precision:  0.93\n"
     ]
    },
    {
     "data": {
      "application/vnd.jupyter.widget-view+json": {
       "model_id": "d49df017b87047efbf09331881f5a92e",
       "version_major": 2,
       "version_minor": 0
      },
      "text/plain": [
       "Split strings:   0%|          | 0/1 [00:00<?, ?it/s]"
      ]
     },
     "metadata": {},
     "output_type": "display_data"
    },
    {
     "data": {
      "application/vnd.jupyter.widget-view+json": {
       "model_id": "0cc9c541e3b5480d801f1905891ea184",
       "version_major": 2,
       "version_minor": 0
      },
      "text/plain": [
       "Stem Tokens:   0%|          | 0/1 [00:00<?, ?it/s]"
      ]
     },
     "metadata": {},
     "output_type": "display_data"
    },
    {
     "data": {
      "application/vnd.jupyter.widget-view+json": {
       "model_id": "462cd4a765cc4843a171f62ce6841f07",
       "version_major": 2,
       "version_minor": 0
      },
      "text/plain": [
       "BM25S Retrieve:   0%|          | 0/1 [00:00<?, ?it/s]"
      ]
     },
     "metadata": {},
     "output_type": "display_data"
    },
    {
     "name": "stdout",
     "output_type": "stream",
     "text": [
      "Си (язык программирования)\n",
      "Ndcg:  0.0\n",
      "R-precision:  0.0\n"
     ]
    },
    {
     "data": {
      "application/vnd.jupyter.widget-view+json": {
       "model_id": "fbbaf0f24b7147d5926c1e8386a5fa8d",
       "version_major": 2,
       "version_minor": 0
      },
      "text/plain": [
       "Split strings:   0%|          | 0/1 [00:00<?, ?it/s]"
      ]
     },
     "metadata": {},
     "output_type": "display_data"
    },
    {
     "data": {
      "application/vnd.jupyter.widget-view+json": {
       "model_id": "119127a31a6a40a5945a6c7d729e0072",
       "version_major": 2,
       "version_minor": 0
      },
      "text/plain": [
       "Stem Tokens:   0%|          | 0/1 [00:00<?, ?it/s]"
      ]
     },
     "metadata": {},
     "output_type": "display_data"
    },
    {
     "data": {
      "application/vnd.jupyter.widget-view+json": {
       "model_id": "ee7929661d7a44f0bc10c6c1ac64b6b7",
       "version_major": 2,
       "version_minor": 0
      },
      "text/plain": [
       "BM25S Retrieve:   0%|          | 0/1 [00:00<?, ?it/s]"
      ]
     },
     "metadata": {},
     "output_type": "display_data"
    },
    {
     "name": "stdout",
     "output_type": "stream",
     "text": [
      "Сколково (инновационный центр)\n",
      "Ndcg:  1.0\n",
      "R-precision:  0.97\n"
     ]
    },
    {
     "data": {
      "application/vnd.jupyter.widget-view+json": {
       "model_id": "0d7cd84e60454e28a95b918a017e9c4a",
       "version_major": 2,
       "version_minor": 0
      },
      "text/plain": [
       "Split strings:   0%|          | 0/1 [00:00<?, ?it/s]"
      ]
     },
     "metadata": {},
     "output_type": "display_data"
    },
    {
     "data": {
      "application/vnd.jupyter.widget-view+json": {
       "model_id": "221a33a69eeb4defac3ea833633be133",
       "version_major": 2,
       "version_minor": 0
      },
      "text/plain": [
       "Stem Tokens:   0%|          | 0/1 [00:00<?, ?it/s]"
      ]
     },
     "metadata": {},
     "output_type": "display_data"
    },
    {
     "data": {
      "application/vnd.jupyter.widget-view+json": {
       "model_id": "dae05da9ceb74dec9ec00e041fe7d90b",
       "version_major": 2,
       "version_minor": 0
      },
      "text/plain": [
       "BM25S Retrieve:   0%|          | 0/1 [00:00<?, ?it/s]"
      ]
     },
     "metadata": {},
     "output_type": "display_data"
    },
    {
     "name": "stdout",
     "output_type": "stream",
     "text": [
      "Солнечная система\n",
      "Ndcg:  0.84\n",
      "R-precision:  0.61\n"
     ]
    },
    {
     "data": {
      "application/vnd.jupyter.widget-view+json": {
       "model_id": "f72cacc648c04717a30dbfdaeb1a4a3a",
       "version_major": 2,
       "version_minor": 0
      },
      "text/plain": [
       "Split strings:   0%|          | 0/1 [00:00<?, ?it/s]"
      ]
     },
     "metadata": {},
     "output_type": "display_data"
    },
    {
     "data": {
      "application/vnd.jupyter.widget-view+json": {
       "model_id": "383f29b7f54e471abdfc11b082ea205b",
       "version_major": 2,
       "version_minor": 0
      },
      "text/plain": [
       "Stem Tokens:   0%|          | 0/1 [00:00<?, ?it/s]"
      ]
     },
     "metadata": {},
     "output_type": "display_data"
    },
    {
     "data": {
      "application/vnd.jupyter.widget-view+json": {
       "model_id": "47a6bab415cd4323aaefeb24ef38df51",
       "version_major": 2,
       "version_minor": 0
      },
      "text/plain": [
       "BM25S Retrieve:   0%|          | 0/1 [00:00<?, ?it/s]"
      ]
     },
     "metadata": {},
     "output_type": "display_data"
    },
    {
     "name": "stdout",
     "output_type": "stream",
     "text": [
      "Чёрная дыра\n",
      "Ndcg:  0.99\n",
      "R-precision:  0.93\n"
     ]
    },
    {
     "data": {
      "application/vnd.jupyter.widget-view+json": {
       "model_id": "677021e58bcc4e39aca4f6d4916f7aa5",
       "version_major": 2,
       "version_minor": 0
      },
      "text/plain": [
       "Split strings:   0%|          | 0/1 [00:00<?, ?it/s]"
      ]
     },
     "metadata": {},
     "output_type": "display_data"
    },
    {
     "data": {
      "application/vnd.jupyter.widget-view+json": {
       "model_id": "fba35480c971410ba88bcaff10076cc8",
       "version_major": 2,
       "version_minor": 0
      },
      "text/plain": [
       "Stem Tokens:   0%|          | 0/1 [00:00<?, ?it/s]"
      ]
     },
     "metadata": {},
     "output_type": "display_data"
    },
    {
     "data": {
      "application/vnd.jupyter.widget-view+json": {
       "model_id": "ba32afcf101b4ac59f3e6152b8c1c704",
       "version_major": 2,
       "version_minor": 0
      },
      "text/plain": [
       "BM25S Retrieve:   0%|          | 0/1 [00:00<?, ?it/s]"
      ]
     },
     "metadata": {},
     "output_type": "display_data"
    },
    {
     "name": "stdout",
     "output_type": "stream",
     "text": [
      "Чёрная смерть\n",
      "Ndcg:  1.0\n",
      "R-precision:  0.98\n"
     ]
    },
    {
     "data": {
      "application/vnd.jupyter.widget-view+json": {
       "model_id": "ab1f3e3b62004d7589889a7d7465fee7",
       "version_major": 2,
       "version_minor": 0
      },
      "text/plain": [
       "Split strings:   0%|          | 0/1 [00:00<?, ?it/s]"
      ]
     },
     "metadata": {},
     "output_type": "display_data"
    },
    {
     "data": {
      "application/vnd.jupyter.widget-view+json": {
       "model_id": "56851c49910843ceaf008c6e05943416",
       "version_major": 2,
       "version_minor": 0
      },
      "text/plain": [
       "Stem Tokens:   0%|          | 0/1 [00:00<?, ?it/s]"
      ]
     },
     "metadata": {},
     "output_type": "display_data"
    },
    {
     "data": {
      "application/vnd.jupyter.widget-view+json": {
       "model_id": "22536a92638b4cd4bd13d0019e2aa301",
       "version_major": 2,
       "version_minor": 0
      },
      "text/plain": [
       "BM25S Retrieve:   0%|          | 0/1 [00:00<?, ?it/s]"
      ]
     },
     "metadata": {},
     "output_type": "display_data"
    },
    {
     "name": "stdout",
     "output_type": "stream",
     "text": [
      "Экономика Германии\n",
      "Ndcg:  1.0\n",
      "R-precision:  1.0\n"
     ]
    },
    {
     "data": {
      "application/vnd.jupyter.widget-view+json": {
       "model_id": "f488494921594b56ae1244af4816c7f4",
       "version_major": 2,
       "version_minor": 0
      },
      "text/plain": [
       "Split strings:   0%|          | 0/1 [00:00<?, ?it/s]"
      ]
     },
     "metadata": {},
     "output_type": "display_data"
    },
    {
     "data": {
      "application/vnd.jupyter.widget-view+json": {
       "model_id": "47e7e35b8aa24881ae206eeeb1153983",
       "version_major": 2,
       "version_minor": 0
      },
      "text/plain": [
       "Stem Tokens:   0%|          | 0/1 [00:00<?, ?it/s]"
      ]
     },
     "metadata": {},
     "output_type": "display_data"
    },
    {
     "data": {
      "application/vnd.jupyter.widget-view+json": {
       "model_id": "3ca663d1c8bc46499663e291f901fb94",
       "version_major": 2,
       "version_minor": 0
      },
      "text/plain": [
       "BM25S Retrieve:   0%|          | 0/1 [00:00<?, ?it/s]"
      ]
     },
     "metadata": {},
     "output_type": "display_data"
    },
    {
     "name": "stdout",
     "output_type": "stream",
     "text": [
      "Экономика КНР\n",
      "Ndcg:  0.97\n",
      "R-precision:  0.83\n"
     ]
    },
    {
     "data": {
      "application/vnd.jupyter.widget-view+json": {
       "model_id": "c2fe749788034d79a8a6e27da70bdc57",
       "version_major": 2,
       "version_minor": 0
      },
      "text/plain": [
       "Split strings:   0%|          | 0/1 [00:00<?, ?it/s]"
      ]
     },
     "metadata": {},
     "output_type": "display_data"
    },
    {
     "data": {
      "application/vnd.jupyter.widget-view+json": {
       "model_id": "a0115a660bf14f7a99943b3cf5ce3714",
       "version_major": 2,
       "version_minor": 0
      },
      "text/plain": [
       "Stem Tokens:   0%|          | 0/1 [00:00<?, ?it/s]"
      ]
     },
     "metadata": {},
     "output_type": "display_data"
    },
    {
     "data": {
      "application/vnd.jupyter.widget-view+json": {
       "model_id": "87c51514fa504bcb9c98e99b7f9a5164",
       "version_major": 2,
       "version_minor": 0
      },
      "text/plain": [
       "BM25S Retrieve:   0%|          | 0/1 [00:00<?, ?it/s]"
      ]
     },
     "metadata": {},
     "output_type": "display_data"
    },
    {
     "name": "stdout",
     "output_type": "stream",
     "text": [
      "Экономика США\n",
      "Ndcg:  0.93\n",
      "R-precision:  0.79\n"
     ]
    },
    {
     "data": {
      "application/vnd.jupyter.widget-view+json": {
       "model_id": "2c63f29189b04f9f9c0df958c6d4c632",
       "version_major": 2,
       "version_minor": 0
      },
      "text/plain": [
       "Split strings:   0%|          | 0/1 [00:00<?, ?it/s]"
      ]
     },
     "metadata": {},
     "output_type": "display_data"
    },
    {
     "data": {
      "application/vnd.jupyter.widget-view+json": {
       "model_id": "a7b2a8aff85c4e4d8876ecc7d6cdfa72",
       "version_major": 2,
       "version_minor": 0
      },
      "text/plain": [
       "Stem Tokens:   0%|          | 0/1 [00:00<?, ?it/s]"
      ]
     },
     "metadata": {},
     "output_type": "display_data"
    },
    {
     "data": {
      "application/vnd.jupyter.widget-view+json": {
       "model_id": "f7635777e46c405f861ea8e5cf3fb7ec",
       "version_major": 2,
       "version_minor": 0
      },
      "text/plain": [
       "BM25S Retrieve:   0%|          | 0/1 [00:00<?, ?it/s]"
      ]
     },
     "metadata": {},
     "output_type": "display_data"
    },
    {
     "name": "stdout",
     "output_type": "stream",
     "text": [
      "Яндекс\n",
      "Ndcg:  0.98\n",
      "R-precision:  0.9\n"
     ]
    }
   ],
   "source": [
    "client = LlmCompleter(api_address=URL, api_key=KEY, model_name='llama3-70b')\n",
    "wiki_writer = WikiGen(client)\n",
    "wiki_evaluater = WikiEval(wiki_writer, True)\n",
    "\n",
    "for (annotation, path), (_, topK) in zip(texts, topR):\n",
    "    ndcg, pr_r_score = await wiki_evaluater.rank_one_query(annotation, 3*topK, path.split('\\\\')[-1].split('.')[0])\n",
    "    print(path.split('\\\\')[-1].split('.')[0])\n",
    "    print(\"Ndcg: \", round(ndcg, 2))\n",
    "    print(\"R-precision: \", round(pr_r_score, 2))"
   ]
  },
  {
   "cell_type": "code",
   "execution_count": 32,
   "id": "d4c52cc8-402a-4f58-9d80-671f16d6e832",
   "metadata": {
    "editable": true,
    "slideshow": {
     "slide_type": ""
    },
    "tags": []
   },
   "outputs": [],
   "source": [
    "%reload_ext autoreload"
   ]
  },
  {
   "cell_type": "code",
   "execution_count": 44,
   "id": "74a25883-1108-4634-87e5-0278dd2b16d8",
   "metadata": {
    "collapsed": true,
    "jupyter": {
     "outputs_hidden": true
    }
   },
   "outputs": [
    {
     "data": {
      "application/vnd.jupyter.widget-view+json": {
       "model_id": "c93183a84c71481db5ccb9a7ba82f301",
       "version_major": 2,
       "version_minor": 0
      },
      "text/plain": [
       "Split strings:   0%|          | 0/1656 [00:00<?, ?it/s]"
      ]
     },
     "metadata": {},
     "output_type": "display_data"
    },
    {
     "data": {
      "application/vnd.jupyter.widget-view+json": {
       "model_id": "67b967fd2e484c53afc2ddd31bc744cc",
       "version_major": 2,
       "version_minor": 0
      },
      "text/plain": [
       "Stem Tokens:   0%|          | 0/1656 [00:00<?, ?it/s]"
      ]
     },
     "metadata": {},
     "output_type": "display_data"
    },
    {
     "data": {
      "application/vnd.jupyter.widget-view+json": {
       "model_id": "55c5a5ed9e7c40e295a95c40c9495c83",
       "version_major": 2,
       "version_minor": 0
      },
      "text/plain": [
       "Saving the dataset (0/1 shards):   0%|          | 0/1656 [00:00<?, ? examples/s]"
      ]
     },
     "metadata": {},
     "output_type": "display_data"
    },
    {
     "data": {
      "application/vnd.jupyter.widget-view+json": {
       "model_id": "2f8cc498cfcf44308bccb77206646151",
       "version_major": 2,
       "version_minor": 0
      },
      "text/plain": [
       "BM25S Count Tokens:   0%|          | 0/1656 [00:00<?, ?it/s]"
      ]
     },
     "metadata": {},
     "output_type": "display_data"
    },
    {
     "data": {
      "application/vnd.jupyter.widget-view+json": {
       "model_id": "2b71a44c0d5d424ea72013f5b488231b",
       "version_major": 2,
       "version_minor": 0
      },
      "text/plain": [
       "BM25S Compute Scores:   0%|          | 0/1656 [00:00<?, ?it/s]"
      ]
     },
     "metadata": {},
     "output_type": "display_data"
    },
    {
     "data": {
      "application/vnd.jupyter.widget-view+json": {
       "model_id": "d3ba77499b5645c6b58b17e182c0dc61",
       "version_major": 2,
       "version_minor": 0
      },
      "text/plain": [
       "Finding newlines for mmindex:   0%|          | 0.00/8.12M [00:00<?, ?B/s]"
      ]
     },
     "metadata": {},
     "output_type": "display_data"
    },
    {
     "data": {
      "application/vnd.jupyter.widget-view+json": {
       "model_id": "2bcccd79fc37461db378ac60b7caeb77",
       "version_major": 2,
       "version_minor": 0
      },
      "text/plain": [
       "Split strings:   0%|          | 0/1 [00:00<?, ?it/s]"
      ]
     },
     "metadata": {},
     "output_type": "display_data"
    },
    {
     "data": {
      "application/vnd.jupyter.widget-view+json": {
       "model_id": "051f5e979f1348ba9f7f924005bc9eec",
       "version_major": 2,
       "version_minor": 0
      },
      "text/plain": [
       "Stem Tokens:   0%|          | 0/1 [00:00<?, ?it/s]"
      ]
     },
     "metadata": {},
     "output_type": "display_data"
    },
    {
     "data": {
      "application/vnd.jupyter.widget-view+json": {
       "model_id": "f2e5ab73f94a491fac8b01a2378566d0",
       "version_major": 2,
       "version_minor": 0
      },
      "text/plain": [
       "BM25S Retrieve:   0%|          | 0/1 [00:00<?, ?it/s]"
      ]
     },
     "metadata": {},
     "output_type": "display_data"
    },
    {
     "name": "stdout",
     "output_type": "stream",
     "text": [
      "Си (язык программирования)\n",
      "Ndcg:  1.0\n",
      "R-precision:  0.15625\n"
     ]
    }
   ],
   "source": [
    "wiki_evaluater = WikiEval(wiki_writer)\n",
    "pr = 32\n",
    "ndcg, pr_r_score = await wiki_evaluater.rank_one_query(texts[0][0], 30, texts[0][1].split('\\\\')[-1].split('.')[0], pr)\n",
    "print(texts[17][1].split('\\\\')[-1].split('.')[0])\n",
    "print(\"Ndcg: \", ndcg)\n",
    "print(\"R-precision: \", pr_r_score)"
   ]
  },
  {
   "cell_type": "code",
   "execution_count": null,
   "id": "751b71a5-1cdb-4f59-a9f6-6684fd884291",
   "metadata": {},
   "outputs": [],
   "source": []
  }
 ],
 "metadata": {
  "kernelspec": {
   "display_name": "Python 3 (ipykernel)",
   "language": "python",
   "name": "python3"
  },
  "language_info": {
   "codemirror_mode": {
    "name": "ipython",
    "version": 3
   },
   "file_extension": ".py",
   "mimetype": "text/x-python",
   "name": "python",
   "nbconvert_exporter": "python",
   "pygments_lexer": "ipython3",
   "version": "3.12.9"
  }
 },
 "nbformat": 4,
 "nbformat_minor": 5
}
