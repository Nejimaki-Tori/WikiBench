{
 "cells": [
  {
   "cell_type": "code",
   "execution_count": 1,
   "id": "0b8632f9-b953-47c5-8045-542c52621be8",
   "metadata": {
    "scrolled": true
   },
   "outputs": [
    {
     "name": "stdout",
     "output_type": "stream",
     "text": [
      "Requirement already satisfied: wikipedia==1.4.0 in c:\\users\\dagri\\anaconda3\\envs\\wikibench\\lib\\site-packages (from -r requirements.txt (line 1)) (1.4.0)\n",
      "Requirement already satisfied: requests==2.28.0 in c:\\users\\dagri\\anaconda3\\envs\\wikibench\\lib\\site-packages (from -r requirements.txt (line 2)) (2.28.0)\n",
      "Requirement already satisfied: BeautifulSoup4==4.11.1 in c:\\users\\dagri\\anaconda3\\envs\\wikibench\\lib\\site-packages (from -r requirements.txt (line 3)) (4.11.1)\n",
      "Requirement already satisfied: Wikipedia-Api==0.5 in c:\\users\\dagri\\anaconda3\\envs\\wikibench\\lib\\site-packages (from -r requirements.txt (line 4)) (0.5.0)\n",
      "Requirement already satisfied: newspaper3k==0.2.8 in c:\\users\\dagri\\anaconda3\\envs\\wikibench\\lib\\site-packages (from -r requirements.txt (line 5)) (0.2.8)\n",
      "Requirement already satisfied: trafilatura==0.9.0 in c:\\users\\dagri\\anaconda3\\envs\\wikibench\\lib\\site-packages (from -r requirements.txt (line 6)) (0.9.0)\n",
      "Requirement already satisfied: lxml_html_clean==0.4.1 in c:\\users\\dagri\\anaconda3\\envs\\wikibench\\lib\\site-packages (from -r requirements.txt (line 7)) (0.4.1)\n",
      "Requirement already satisfied: tqdm==4.67.1 in c:\\users\\dagri\\anaconda3\\envs\\wikibench\\lib\\site-packages (from -r requirements.txt (line 8)) (4.67.1)\n",
      "Collecting openai==1.55.3 (from -r requirements.txt (line 9))\n",
      "  Downloading openai-1.55.3-py3-none-any.whl.metadata (24 kB)\n",
      "Requirement already satisfied: httpx==0.27.2 in c:\\users\\dagri\\anaconda3\\envs\\wikibench\\lib\\site-packages (from -r requirements.txt (line 10)) (0.27.2)\n",
      "Requirement already satisfied: charset-normalizer~=2.0.0 in c:\\users\\dagri\\anaconda3\\envs\\wikibench\\lib\\site-packages (from requests==2.28.0->-r requirements.txt (line 2)) (2.0.12)\n",
      "Requirement already satisfied: idna<4,>=2.5 in c:\\users\\dagri\\anaconda3\\envs\\wikibench\\lib\\site-packages (from requests==2.28.0->-r requirements.txt (line 2)) (3.10)\n",
      "Requirement already satisfied: urllib3<1.27,>=1.21.1 in c:\\users\\dagri\\anaconda3\\envs\\wikibench\\lib\\site-packages (from requests==2.28.0->-r requirements.txt (line 2)) (1.26.20)\n",
      "Requirement already satisfied: certifi>=2017.4.17 in c:\\users\\dagri\\anaconda3\\envs\\wikibench\\lib\\site-packages (from requests==2.28.0->-r requirements.txt (line 2)) (2025.1.31)\n",
      "Requirement already satisfied: soupsieve>1.2 in c:\\users\\dagri\\anaconda3\\envs\\wikibench\\lib\\site-packages (from BeautifulSoup4==4.11.1->-r requirements.txt (line 3)) (2.5)\n",
      "Requirement already satisfied: Pillow>=3.3.0 in c:\\users\\dagri\\anaconda3\\envs\\wikibench\\lib\\site-packages (from newspaper3k==0.2.8->-r requirements.txt (line 5)) (11.1.0)\n",
      "Requirement already satisfied: PyYAML>=3.11 in c:\\users\\dagri\\anaconda3\\envs\\wikibench\\lib\\site-packages (from newspaper3k==0.2.8->-r requirements.txt (line 5)) (6.0.2)\n",
      "Requirement already satisfied: cssselect>=0.9.2 in c:\\users\\dagri\\anaconda3\\envs\\wikibench\\lib\\site-packages (from newspaper3k==0.2.8->-r requirements.txt (line 5)) (1.2.0)\n",
      "Requirement already satisfied: lxml>=3.6.0 in c:\\users\\dagri\\anaconda3\\envs\\wikibench\\lib\\site-packages (from newspaper3k==0.2.8->-r requirements.txt (line 5)) (5.3.1)\n",
      "Requirement already satisfied: nltk>=3.2.1 in c:\\users\\dagri\\anaconda3\\envs\\wikibench\\lib\\site-packages (from newspaper3k==0.2.8->-r requirements.txt (line 5)) (3.9.1)\n",
      "Requirement already satisfied: feedparser>=5.2.1 in c:\\users\\dagri\\anaconda3\\envs\\wikibench\\lib\\site-packages (from newspaper3k==0.2.8->-r requirements.txt (line 5)) (6.0.11)\n",
      "Requirement already satisfied: tldextract>=2.0.1 in c:\\users\\dagri\\anaconda3\\envs\\wikibench\\lib\\site-packages (from newspaper3k==0.2.8->-r requirements.txt (line 5)) (5.1.3)\n",
      "Requirement already satisfied: feedfinder2>=0.0.4 in c:\\users\\dagri\\anaconda3\\envs\\wikibench\\lib\\site-packages (from newspaper3k==0.2.8->-r requirements.txt (line 5)) (0.0.4)\n",
      "Requirement already satisfied: jieba3k>=0.35.1 in c:\\users\\dagri\\anaconda3\\envs\\wikibench\\lib\\site-packages (from newspaper3k==0.2.8->-r requirements.txt (line 5)) (0.35.1)\n",
      "Requirement already satisfied: python-dateutil>=2.5.3 in c:\\users\\dagri\\anaconda3\\envs\\wikibench\\lib\\site-packages (from newspaper3k==0.2.8->-r requirements.txt (line 5)) (2.9.0.post0)\n",
      "Requirement already satisfied: tinysegmenter==0.3 in c:\\users\\dagri\\anaconda3\\envs\\wikibench\\lib\\site-packages (from newspaper3k==0.2.8->-r requirements.txt (line 5)) (0.3)\n",
      "Requirement already satisfied: courlan>=0.4.1 in c:\\users\\dagri\\anaconda3\\envs\\wikibench\\lib\\site-packages (from trafilatura==0.9.0->-r requirements.txt (line 6)) (1.3.2)\n",
      "Requirement already satisfied: htmldate>=0.9.0 in c:\\users\\dagri\\anaconda3\\envs\\wikibench\\lib\\site-packages (from trafilatura==0.9.0->-r requirements.txt (line 6)) (1.2.3)\n",
      "Requirement already satisfied: justext>=2.2.0 in c:\\users\\dagri\\anaconda3\\envs\\wikibench\\lib\\site-packages (from trafilatura==0.9.0->-r requirements.txt (line 6)) (3.0.2)\n",
      "Requirement already satisfied: readability-lxml>=0.8.1 in c:\\users\\dagri\\anaconda3\\envs\\wikibench\\lib\\site-packages (from trafilatura==0.9.0->-r requirements.txt (line 6)) (0.8.1)\n",
      "Requirement already satisfied: chardet>=4.0.0 in c:\\users\\dagri\\anaconda3\\envs\\wikibench\\lib\\site-packages (from trafilatura==0.9.0->-r requirements.txt (line 6)) (5.2.0)\n",
      "Requirement already satisfied: colorama in c:\\users\\dagri\\anaconda3\\envs\\wikibench\\lib\\site-packages (from tqdm==4.67.1->-r requirements.txt (line 8)) (0.4.6)\n",
      "Requirement already satisfied: anyio<5,>=3.5.0 in c:\\users\\dagri\\anaconda3\\envs\\wikibench\\lib\\site-packages (from openai==1.55.3->-r requirements.txt (line 9)) (4.8.0)\n",
      "Requirement already satisfied: distro<2,>=1.7.0 in c:\\users\\dagri\\anaconda3\\envs\\wikibench\\lib\\site-packages (from openai==1.55.3->-r requirements.txt (line 9)) (1.9.0)\n",
      "Requirement already satisfied: jiter<1,>=0.4.0 in c:\\users\\dagri\\anaconda3\\envs\\wikibench\\lib\\site-packages (from openai==1.55.3->-r requirements.txt (line 9)) (0.9.0)\n",
      "Requirement already satisfied: pydantic<3,>=1.9.0 in c:\\users\\dagri\\anaconda3\\envs\\wikibench\\lib\\site-packages (from openai==1.55.3->-r requirements.txt (line 9)) (2.10.6)\n",
      "Requirement already satisfied: sniffio in c:\\users\\dagri\\anaconda3\\envs\\wikibench\\lib\\site-packages (from openai==1.55.3->-r requirements.txt (line 9)) (1.3.1)\n",
      "Requirement already satisfied: typing-extensions<5,>=4.11 in c:\\users\\dagri\\anaconda3\\envs\\wikibench\\lib\\site-packages (from openai==1.55.3->-r requirements.txt (line 9)) (4.12.2)\n",
      "Requirement already satisfied: httpcore==1.* in c:\\users\\dagri\\anaconda3\\envs\\wikibench\\lib\\site-packages (from httpx==0.27.2->-r requirements.txt (line 10)) (1.0.7)\n",
      "Requirement already satisfied: h11<0.15,>=0.13 in c:\\users\\dagri\\anaconda3\\envs\\wikibench\\lib\\site-packages (from httpcore==1.*->httpx==0.27.2->-r requirements.txt (line 10)) (0.14.0)\n",
      "Requirement already satisfied: babel>=2.16.0 in c:\\users\\dagri\\anaconda3\\envs\\wikibench\\lib\\site-packages (from courlan>=0.4.1->trafilatura==0.9.0->-r requirements.txt (line 6)) (2.17.0)\n",
      "Requirement already satisfied: tld>=0.13 in c:\\users\\dagri\\anaconda3\\envs\\wikibench\\lib\\site-packages (from courlan>=0.4.1->trafilatura==0.9.0->-r requirements.txt (line 6)) (0.13)\n",
      "Requirement already satisfied: six in c:\\users\\dagri\\anaconda3\\envs\\wikibench\\lib\\site-packages (from feedfinder2>=0.0.4->newspaper3k==0.2.8->-r requirements.txt (line 5)) (1.17.0)\n",
      "Requirement already satisfied: sgmllib3k in c:\\users\\dagri\\anaconda3\\envs\\wikibench\\lib\\site-packages (from feedparser>=5.2.1->newspaper3k==0.2.8->-r requirements.txt (line 5)) (1.0.0)\n",
      "Requirement already satisfied: dateparser>=1.1.1 in c:\\users\\dagri\\anaconda3\\envs\\wikibench\\lib\\site-packages (from htmldate>=0.9.0->trafilatura==0.9.0->-r requirements.txt (line 6)) (1.2.1)\n",
      "Requirement already satisfied: click in c:\\users\\dagri\\anaconda3\\envs\\wikibench\\lib\\site-packages (from nltk>=3.2.1->newspaper3k==0.2.8->-r requirements.txt (line 5)) (8.1.8)\n",
      "Requirement already satisfied: joblib in c:\\users\\dagri\\anaconda3\\envs\\wikibench\\lib\\site-packages (from nltk>=3.2.1->newspaper3k==0.2.8->-r requirements.txt (line 5)) (1.4.2)\n",
      "Requirement already satisfied: regex>=2021.8.3 in c:\\users\\dagri\\anaconda3\\envs\\wikibench\\lib\\site-packages (from nltk>=3.2.1->newspaper3k==0.2.8->-r requirements.txt (line 5)) (2024.11.6)\n",
      "Requirement already satisfied: annotated-types>=0.6.0 in c:\\users\\dagri\\anaconda3\\envs\\wikibench\\lib\\site-packages (from pydantic<3,>=1.9.0->openai==1.55.3->-r requirements.txt (line 9)) (0.7.0)\n",
      "Requirement already satisfied: pydantic-core==2.27.2 in c:\\users\\dagri\\anaconda3\\envs\\wikibench\\lib\\site-packages (from pydantic<3,>=1.9.0->openai==1.55.3->-r requirements.txt (line 9)) (2.27.2)\n",
      "Requirement already satisfied: requests-file>=1.4 in c:\\users\\dagri\\anaconda3\\envs\\wikibench\\lib\\site-packages (from tldextract>=2.0.1->newspaper3k==0.2.8->-r requirements.txt (line 5)) (2.1.0)\n",
      "Requirement already satisfied: filelock>=3.0.8 in c:\\users\\dagri\\anaconda3\\envs\\wikibench\\lib\\site-packages (from tldextract>=2.0.1->newspaper3k==0.2.8->-r requirements.txt (line 5)) (3.17.0)\n",
      "Requirement already satisfied: pytz>=2024.2 in c:\\users\\dagri\\anaconda3\\envs\\wikibench\\lib\\site-packages (from dateparser>=1.1.1->htmldate>=0.9.0->trafilatura==0.9.0->-r requirements.txt (line 6)) (2025.1)\n",
      "Requirement already satisfied: tzlocal>=0.2 in c:\\users\\dagri\\anaconda3\\envs\\wikibench\\lib\\site-packages (from dateparser>=1.1.1->htmldate>=0.9.0->trafilatura==0.9.0->-r requirements.txt (line 6)) (5.3)\n",
      "Requirement already satisfied: tzdata in c:\\users\\dagri\\anaconda3\\envs\\wikibench\\lib\\site-packages (from tzlocal>=0.2->dateparser>=1.1.1->htmldate>=0.9.0->trafilatura==0.9.0->-r requirements.txt (line 6)) (2025.1)\n",
      "Downloading openai-1.55.3-py3-none-any.whl (389 kB)\n",
      "Installing collected packages: openai\n",
      "  Attempting uninstall: openai\n",
      "    Found existing installation: openai 1.56.0\n",
      "    Uninstalling openai-1.56.0:\n",
      "      Successfully uninstalled openai-1.56.0\n",
      "Successfully installed openai-1.55.3\n"
     ]
    }
   ],
   "source": [
    "!pip install -r requirements.txt"
   ]
  },
  {
   "cell_type": "code",
   "execution_count": 23,
   "id": "f10fe472-7e94-41f7-843b-5a33f1eb770d",
   "metadata": {},
   "outputs": [],
   "source": [
    "import json\n",
    "import sys\n",
    "import os\n",
    "from openai import OpenAI\n",
    "sys.path.append(\"src\")"
   ]
  },
  {
   "cell_type": "code",
   "execution_count": 27,
   "id": "10a4b5ec-3805-4a98-9942-d5b12d1bb298",
   "metadata": {},
   "outputs": [
    {
     "name": "stdout",
     "output_type": "stream",
     "text": [
      "The autoreload extension is already loaded. To reload it, use:\n",
      "  %reload_ext autoreload\n"
     ]
    }
   ],
   "source": [
    "%load_ext autoreload\n",
    "%autoreload 2"
   ]
  },
  {
   "cell_type": "code",
   "execution_count": 28,
   "id": "6664a03f-3846-48ae-8bcc-6377651f84c2",
   "metadata": {},
   "outputs": [],
   "source": [
    "%reload_ext autoreload"
   ]
  },
  {
   "cell_type": "code",
   "execution_count": 29,
   "id": "216bea97-a5c3-464b-8015-5d87020be620",
   "metadata": {},
   "outputs": [],
   "source": [
    "from wiki_extract import Extracter\n",
    "from wiki_gen import WikiGen"
   ]
  },
  {
   "cell_type": "code",
   "execution_count": 4,
   "id": "d23e25b4-c952-4ee4-b609-75b4d0b70cd2",
   "metadata": {
    "scrolled": true
   },
   "outputs": [],
   "source": [
    "page = Extracter('Присоединение Крыма к Российской Федерации')"
   ]
  },
  {
   "cell_type": "code",
   "execution_count": 5,
   "id": "a0d00b7e-6356-406c-8359-6161643490c8",
   "metadata": {
    "scrolled": true
   },
   "outputs": [],
   "source": [
    "page.get_references()"
   ]
  },
  {
   "cell_type": "code",
   "execution_count": 6,
   "id": "276b0078-c47f-414e-b573-2c15200f5c38",
   "metadata": {
    "scrolled": true
   },
   "outputs": [
    {
     "data": {
      "text/plain": [
       "{'cite_note-1': [('https://tass.ru/info/6222164',\n",
       "   'История воссоединения Крыма с Россией  - ТАСС')],\n",
       " 'cite_note-2': [('https://www.interfax.ru/russia/365492',\n",
       "   'Крым вошел в состав Российской Федерации')],\n",
       " 'cite_note-pawn-3': [('https://web.archive.org/web/20160817161027/https://www.stratfor.com/analysis/crimea-russias-little-pawn',\n",
       "   'Архивная копия')],\n",
       " 'cite_note-4': [('https://www.telegraph.co.uk/news/worldnews/europe/ukraine/10666557/Keep-out-of-Ukraine-America-tells-Russia.html',\n",
       "   'Keep out of Ukraine, America tells Russia'),\n",
       "  ('https://web.archive.org/web/20180619042544/https://www.telegraph.co.uk/news/worldnews/europe/ukraine/10666557/Keep-out-of-Ukraine-America-tells-Russia.html',\n",
       "   'Архивировано')],\n",
       " 'cite_note-5': [('https://cyberleninka.ru/article/n/istoriko-pravovye-osnovy-vhozhdeniya-kryma-v-sostav-rossiyskoy-federatsii',\n",
       "   'Историко-правовые основы вхождения Крыма в состав Российской Федерации')],\n",
       " 'cite_note-6': [('https://news.ru/russia/10-voprosov-o-prisoedinenii-kryma-k-rossii-kak-eto-bylo-na-samom-dele/',\n",
       "   '10 вопросов о присоединении Крыма к России: как это было на самом деле')],\n",
       " 'cite_note-7': [('https://lenta.ru/articles/2023/04/19/krim/',\n",
       "   'Гордость и любовь. Крым присоединился к Российской империи 240 лет назад. О чем важно помнить сегодня?')],\n",
       " 'cite_note-8': [('http://www.kremlin.ru/news/20603',\n",
       "   'Обращение Президента Российской Федерации'),\n",
       "  ('https://web.archive.org/web/20140321160157/http://www.kremlin.ru/news/20603',\n",
       "   'Архивировано')],\n",
       " 'cite_note-9': [('http://www.vesti.ru/videos?vid=585495&cid=9',\n",
       "   'Сергей Хрущёв о причинах передачи Крыма Украине'),\n",
       "  ('https://web.archive.org/web/20140606195816/http://www.vesti.ru/videos?vid=585495&cid=9',\n",
       "   'Архивная копия')],\n",
       " 'cite_note-10': [('https://tass.ru/politika/18400205',\n",
       "   'ТАСС, 29 июля 2023. Урегулирование и нейтралитет Киева. Путин изложил африканской миссии позицию по Украине')],\n",
       " 'cite_note-polunov-11': [('http://e-journal.spa.msu.ru/uploads/vestnik/2009/vipusk__21._dekabr_2009_g./polunov.pdf',\n",
       "   'Общественные организации русского Крыма: политическая деятельность, стратегии взаимоотношений с властью')],\n",
       " 'cite_note-12': [('https://sevastopol.su/news/kievskiy-televedushchiy-po-russki-napomnil-krym-budet-ukrainskim-ili-bezlyudnym',\n",
       "   'ForPost\\xa0— Новости Севастополя, 4 марта 2014. Киевский телеведущий по-русски напомнил: Крым будет украинским или безлюдным')],\n",
       " 'cite_note-13': [('http://council.gov.ru/events/news/124755/',\n",
       "   'Воссоединение Крыма и Севастополя с Россией стало ключевым событием в новейшей истории нашей страны – В. Матвиенко')],\n",
       " 'cite_note-14': [('http://www.gazeta.ru/politics/news/2015/02/07/n_6901845.shtml',\n",
       "   'Саркози: Крым выбрал Россию')],\n",
       " 'cite_note-16': [('http://cyberleninka.ru/article/n/mirovaya-politika-kak-vyrazhenie-ekonomicheskih-interesov',\n",
       "   'Мировая политика как выражение экономических интересов')],\n",
       " 'cite_note-17': [('https://tass.ru/mezhdunarodnaya-panorama/18525179',\n",
       "   'ТАСС, 16 августа 2023. Саркози считает иллюзорным возврат Крыма в состав Украины')],\n",
       " 'cite_note-21': [('http://top.rbc.ru/politics/30/04/2015/554203e49a7947265f2ac332',\n",
       "   'РБК, 30 апреля 2015. Джимми Картер назвал присоединение Крыма к России «неизбежным шагом»')],\n",
       " 'cite_note-22': ['[Россия 24. 16 марта 2024. Крым. 10 лет]'],\n",
       " 'cite_note-23': [('https://tass.ru/politika/1114345',\n",
       "   'Россия начала передачу Украине боевых кораблей украинских ВМС. ТАСС, 11.04.2014'),\n",
       "  ('https://web.archive.org/web/20200612143429/https://tass.ru/politika/1114345',\n",
       "   'Архивировано')],\n",
       " 'cite_note-24': [('https://rg.ru/2014/07/05/peredacha-site-anons.html',\n",
       "   'Россия приостановила передачу Украине военной техники из Крыма'),\n",
       "  ('https://web.archive.org/web/20200612143428/https://rg.ru/2014/07/05/peredacha-site-anons.html',\n",
       "   'Архивная копия')],\n",
       " 'cite_note-25': [('http://www.mid.ru/brp_4.nsf/newsline/388D440BD20F44B444257D0C003207DC',\n",
       "   'О приостановлении мероприятий по передаче вооружения, военной техники и материальных средств вооружённых сил Украины'),\n",
       "  ('https://web.archive.org/web/20141129112126/http://www.mid.ru/brp_4.nsf/newsline/388D440BD20F44B444257D0C003207DC',\n",
       "   'Архивная копия')],\n",
       " 'cite_note-26': [('http://kremlin.ru/events/president/news/56639',\n",
       "   'Встреча с руководителями российских печатных СМИ и информагентств'),\n",
       "  ('https://web.archive.org/web/20180128083715/http://www.kremlin.ru/events/president/news/56639',\n",
       "   'Архивировано')],\n",
       " 'cite_note-27': [('https://www.bbc.com/russian/features-42664487',\n",
       "   'Нужна ли Украине военная техника из Крыма?'),\n",
       "  ('https://web.archive.org/web/20220703115655/https://www.bbc.com/russian/features-42664487',\n",
       "   'Архивировано')],\n",
       " 'cite_note-28': [('http://crimea.gov.ru/vesna',\n",
       "   'Крымская весна. Документы и факты')],\n",
       " 'cite_note-29': [('https://iz.ru/export/google/amp/1483714',\n",
       "   '18 марта — День воссоединения Крыма с Россией: история великого события')],\n",
       " 'cite_note-30': [('https://lenta.ru/news/2023/03/18/rgn/?',\n",
       "   'Российские регионы отпраздновали Крымскую весну')],\n",
       " 'cite_note-31': [('https://tvzvezda.ru/news/20223181917-5wNYG.html',\n",
       "   '«Вера в могучий и добрый народ»: как прошел концерт в честь восьмой годовщины присоединения Крыма к РФ')],\n",
       " 'cite_note-32': [('https://crimea.ria.ru/20240301/krymskaya-vesna--nachalo-istoricheskaya-fotokhronika-1135316363.html',\n",
       "   'Крымская весна – начало: историческая фотохроника')],\n",
       " 'cite_note-34': [('https://www.culture.ru/events/4207580/vstrecha-10-let-krymskoi-vesne',\n",
       "   'Встреча «10 лет Крымской весне»')],\n",
       " 'cite_note-35': [('https://www.culture.ru/events/4270349/krymskaya-vesna-10-let-my-vmeste?institute=31446',\n",
       "   '«Крымская весна — 10 лет мы вместе!»')],\n",
       " 'cite_note-:0-38': [('https://www.crimea.kp.ru/daily/27506/4767273/?',\n",
       "   'Ожившая история памятника «Вежливым людям»: девочка и военнослужащий с популярного видео встретились спустя 9 лет')],\n",
       " 'cite_note-39': [('https://www.pnp.ru/social/2016/12/30/pamyatnik-narodnomu-opolcheniyu-vsekh-vremyon-otkryli-v-simferopole.html',\n",
       "   'Памятник Народному ополчению всех времён открыли в Симферополе')],\n",
       " 'cite_note-40': [('https://www.kinopoisk.ru/film/984364/', 'Крым (2017)')],\n",
       " 'cite_note-41': [('https://www.culture.ru/events/1758459/dokumentalnyi-film-krymskaya-vesna',\n",
       "   'Документальный фильм «Крымская весна».')],\n",
       " 'cite_note-43': [('https://tass.ru/kultura/17273873',\n",
       "   'В России стартовали съемки сериала о Крымской весне')],\n",
       " 'cite_note-44': [('https://www.ntv.ru/novosti/2816242/?ysclid=lu06jcin9p128200176',\n",
       "   'Премьера: детективная драма «10 дней до весны»\\xa0— 11 марта на НТВ')]}"
      ]
     },
     "execution_count": 6,
     "metadata": {},
     "output_type": "execute_result"
    }
   ],
   "source": [
    "page.links"
   ]
  },
  {
   "cell_type": "code",
   "execution_count": 7,
   "id": "6b524c72-5b19-48f9-89a1-4f34ba97b450",
   "metadata": {
    "scrolled": true
   },
   "outputs": [
    {
     "name": "stderr",
     "output_type": "stream",
     "text": [
      "Creating outline: 100%|██████████| 85/85 [00:00<00:00, 13669.56it/s]\n"
     ]
    }
   ],
   "source": [
    "page.get_outline()"
   ]
  },
  {
   "cell_type": "code",
   "execution_count": 8,
   "id": "0e30700c-4571-403c-8cb6-a608d24313bb",
   "metadata": {
    "scrolled": true
   },
   "outputs": [
    {
     "name": "stderr",
     "output_type": "stream",
     "text": [
      "Getting link numbers: 100%|██████████| 36/36 [00:00<00:00, 235.18it/s]\n",
      "Calculating reference positions: 100%|██████████| 25/25 [00:00<00:00, 24155.17it/s]\n"
     ]
    },
    {
     "data": {
      "text/plain": [
       "{'cite_note-1': (('h1', 'Присоединение Крыма к Российской Федерации'), 1),\n",
       " 'cite_note-2': (('h1', 'Присоединение Крыма к Российской Федерации'), 1),\n",
       " 'cite_note-pawn-3': (('h2', 'Решающие события'), 1),\n",
       " 'cite_note-4': (('h2', 'Решающие события'), 1),\n",
       " 'cite_note-5': (('h2', 'Решающие события'), 3),\n",
       " 'cite_note-6': (('h2', 'Решающие события'), 3),\n",
       " 'cite_note-7': (('h2', 'Решающие события'), 5),\n",
       " 'cite_note-8': (('h2', 'Предыстория'), 1),\n",
       " 'cite_note-9': (('h2', 'Предыстория'), 1),\n",
       " 'cite_note-10': (('h3', 'Крым в составе Украины'), 1),\n",
       " 'cite_note-polunov-11': (('h3', 'Крым в составе Украины'), 4),\n",
       " 'cite_note-12': (('h3', 'Крым в составе Украины'), 1),\n",
       " 'cite_note-13': (('h3', 'Референдум 16 марта 2014\\xa0года'), 2),\n",
       " 'cite_note-14': (('h3', 'Международные отношения'), 4),\n",
       " 'cite_note-16': (('h3', 'Международные отношения'), 4),\n",
       " 'cite_note-17': (('h3', 'Международные отношения'), 4),\n",
       " 'cite_note-21': (('h3', 'Международные отношения'), 4),\n",
       " 'cite_note-22': (('h3', 'Вложения в экономику Крыма'), 1),\n",
       " 'cite_note-23': (('h3', 'Последствия для Украины'), 2),\n",
       " 'cite_note-24': (('h3', 'Последствия для Украины'), 2),\n",
       " 'cite_note-25': (('h3', 'Последствия для Украины'), 2),\n",
       " 'cite_note-26': (('h3', 'Последствия для Украины'), 2),\n",
       " 'cite_note-27': (('h3', 'Последствия для Украины'), 2),\n",
       " 'cite_note-28': (('h2', 'В культуре'), 1),\n",
       " 'cite_note-29': (('h2', 'В культуре'), 2),\n",
       " 'cite_note-30': (('h3', 'Торжественные мероприятия'), 1),\n",
       " 'cite_note-31': (('h3', 'Торжественные мероприятия'), 1),\n",
       " 'cite_note-32': (('h3', 'Торжественные мероприятия'), 3),\n",
       " 'cite_note-34': (('h3', 'Торжественные мероприятия'), 5),\n",
       " 'cite_note-35': (('h3', 'Торжественные мероприятия'), 5),\n",
       " 'cite_note-:0-38': (('h3', 'Памятники'), 2),\n",
       " 'cite_note-39': (('h3', 'Памятники'), 3),\n",
       " 'cite_note-40': (('h3', 'Фильмы'), 1),\n",
       " 'cite_note-41': (('h3', 'Фильмы'), 2),\n",
       " 'cite_note-43': (('h3', 'Фильмы'), 3),\n",
       " 'cite_note-44': (('h3', 'Фильмы'), 3)}"
      ]
     },
     "execution_count": 8,
     "metadata": {},
     "output_type": "execute_result"
    }
   ],
   "source": [
    "page.get_reference_positions()"
   ]
  },
  {
   "cell_type": "code",
   "execution_count": 9,
   "id": "ce42872d-e484-43ab-8c90-583f8c7513c8",
   "metadata": {
    "scrolled": true
   },
   "outputs": [
    {
     "name": "stdout",
     "output_type": "stream",
     "text": [
      "Присоединение Крыма к Российской Федерации\n",
      "Присоединение Крыма к Российской Федерации — вхождение в состав Российской Федерации на основе референдума в марте 2014 года Крымского полуострова в пределах административных границ регионов Украины — Автономной Республики Крым и города Севастополя. На вошедших в состав России территориях Крыма были созданы новые субъекты Российской Федерации — Республика Крым и город федерального значения Севастополь.\n",
      "Решающие события\n",
      "Референдуму о вхождении Крыма в состав России предшествовали длительные общественно-политические акции на Украине ( Евромайдан ). 18-20 февраля 2014 года в Киеве произошли кровавые столкновения между сторонниками Евромайдана и украинскими силовиками, что привело к гибели десятков людей и смещению Виктора Януковича с поста президента Украины, существенным переменам в государственной власти, что значительной частью населения, в том числе в Крыму и на Донбассе, было воспринято как государственный переворот.\n",
      "\n",
      "Недовольство русских общественных организаций новыми нелегитимными властями Украины и активизацию жителей Крыма вызвало постановление Верховной рады об отмене Закона об основах государственной языковой политики, подготовка закона о люстрации, радикальные заявления активистов Евромайдана и политиков националистического толка. В противовес русским общественным организациям и настроениям большинства жителей Крыма другую позицию занял Меджлис крымскотатарского народа, пытавшийся позиционировать себя как представительный орган крымских татар. 21—23 февраля меджлис устроил акции в поддержку новой украинской власти, а затем, после назначения референдума о присоединении Крыма к РФ на 16 марта, не признал законность волеизъявления крымчан.\n",
      "\n",
      "23—24 февраля под напором сторонников интеграции с Россией была проведена смена исполнительных органов власти Севастополя. 26 февраля сторонники Меджлиса и новой украинской власти попытались проникнуть в здание крымского парламента и заблокировать его работу. Реагируя на эту ситуацию, рано утром 27 февраля российский спецназ по указанию президента России Владимира Путина бескровно занял здания органов власти Автономной Республики Крым. Депутаты Верховного Совета АР Крым, собравшиеся на сессию в здании парламента, отправили в отставку прежнее правительство Анатолия Могилёва и назначили главой нового правительства Крыма лидера партии « Русское единство » Сергея Аксёнова. Он заявил о непризнании нового руководства Украины и обратился к руководству России за «содействием в обеспечении мира и спокойствия на территории Автономной Республики Крым». Эта позиция получила массовый энтузиазм среди населения Крыма. Новое правительства Крыма во главе с Аксёновым не было признано властями Украины.\n",
      "\n",
      "1 марта 2014 года Совет Федерации РФ удовлетворил официальное обращение президента Путина о разрешении на использование российских войск на территории Украины. Российскими военнослужащими совместно с отрядами добровольцев были блокированы все объекты и воинские части ВС Украины на территории полуострова, командование которых отказалось подчиниться новому правительству Крыма.\n",
      "\n",
      "Политическим инструментом интеграции Крыма в Россию стал проведённый 16 марта 2014 года референдум о присоединении Крыма к России, который завершился убедительной победой сторонников вхождения Крыма в состав России. Начатый референдумом процесс присоединения продолжился 18 марта, с образованием Россией на занятой территории новых субъектов Федерации. К 26 марта Россия обрела полный военный контроль над территорией. Большинство населения полуострова составляли этнические русские, потомки коренных русских жителей Крыма, они желали, чтобы полуостров вновь, как и до 1954 года, стал частью России, и поддержали её действия в Крыму.\n",
      "\n",
      "Украина отказалась признавать утрату территории, рассматривая её в своём законодательстве как «временно оккупированную» часть страны, а действия России — как нарушения различных ранее заключённых договоров, среди которых — Будапештский меморандум 1994 года и Договор о дружбе, сотрудничестве и партнёрстве между Российской Федерацией и Украиной от 1997 года.\n",
      "Предыстория\n",
      "«Учитывая общность экономики, территориальную близость и тесные хозяйственные и культурные связи» в 1954 году Крымская область по инициативе тогдашнего руководителя СССР Н. С. Хрущёва была передана из состава РСФСР в состав Украинской ССР. Сын Хрущёва Сергей Никитич в интервью Российскому телевидению по телемосту из США 19 марта 2014 года пояснил, ссылаясь на слова отца, что решение Хрущёва было связано со строительством северокрымского водоканала от Каховского водохранилища на Днепре и желательностью ведения и финансирования масштабных гидротехнических работ в рамках одной союзной республики. Изменение внутренних границ в СССР было обычным делом, и на формальную передачу Крыма из России на Украину никто не обращал внимания до распада СССР. При этом имелось в виду, что передача территории происходит внутри одного единого государства, а границы между его частями являются не государственными, а административными.\n",
      "Крым в составе Украины\n",
      "После распада СССР в 1991 году Россия признала суверенное государство Украину в тогдашних границах Украинской ССР, то есть с Крымом в её составе. Одним из главных условий признания было закрепление в « Декларации о государственном суверенитете » и Конституции Украины постоянного статуса нейтрального государства, что подразумевало отказ от вступления в НАТО. Начиная с 1992 года, пророссийски настроенное население Крыма и его политические организации выдвигали ряд интеграционных лозунгов — курс на сближение Республики Крым с Россией, вплоть до полного присоединения, заключение с Россией военно-политического союза, предоставление жителям Крыма российского гражданства. В ответ на это украинские националисты выдвинули экстремистский контрлозунг: «Крым будет либо украинским — либо безлюдным».\n",
      "\n",
      "На международном уровне в 1997 году Россия и Украина подписали Соглашение о статусе Черноморского флота, решившие вопрос его раздела и пребывания на территории Крыма, а также Договор о дружбе, сотрудничестве и партнёрстве между Российской Федерацией и Украиной («Большой договор», вступивший в силу два года спустя), которым признавали нерушимость границ друг друга и, тем самым, суверенитет Украины над Крымом.\n",
      "\n",
      "Оживление общественно-политической деятельности пророссийских организаций наметилось с 2002 года. Этому в дальнейшем способствовала «Оранжевая революция» (2004), многие лозунги которой резко враждебно встретила значительная часть крымчан, а также позиция новой власти, в частности, в вопросах сближения Украины с НАТО и войны в Грузии (2008), что вызвало напряжённость в российско-украинских отношениях.\n",
      "\n",
      "Возможность возникновения нового конфликта в Крыму в связи с новым переделом мира считалась высокой уже в начале 2000-х годов. В условиях приближавшегося истечения срока базирования российских войск в Крыму (2017) сохранялась возможность вспышки конфликта за обладание регионом: этому способствовали как действия самой России (поддержка пророссийских организаций), так и пророссийские настроения большинства населения региона, что давало России «внутреннюю легитимность» в Крыму. Отношения между государствами осложнились в 2008 году, когда Украина, вопреки закреплённому в её конституции статусу нейтрального государства, взяла курс на интеграцию в НАТО и Евросоюз. Резкое ухудшение отношений произошло в 2014 году после Евромайдана и государственного переворота и отстранения от власти президента Виктора Януковича, начала военной операции Украины на Донбассе (АТО), где население, как и в Крыму, не приняло результаты переворота. Новый политический кризис на Украине побудил активистов добиваться проведения в Крыму референдума о присоединении к России.\n",
      "Развитие событий после 2013 года\n",
      "Произошедшее 18—20 февраля обострение гражданского противостояния в стране, а затем и смещение Януковича с поста президента способствовали радикализации настроений в Крыму. В Крыму многие восприняли смену власти в Киеве как государственный переворот. В этот период даже стремившиеся к договорённостям с Украиной политики «склонили чашу весов в пользу Москвы», в том числе под давлением общественности. Отделение Крыма от Украины и присоединение его к России стало допускаться и руководством парламента автономии. В Крыму началась протестная мобилизация населения, инициированная в основном местными жителями. Партия « Русское единство » инициировала создание сил самообороны.\n",
      "\n",
      "В числе причин, побудивших российское руководство на присоединение Крыма, эксперты рассматривают как геополитические (опасения относительно возможного пересмотра соглашений по флоту и/или превращения Украины из нейтрального «буферного государства» в «значимого игрока на стороне США и их союзников»), экономические и внутриполитические мотивы.\n",
      "\n",
      "Источники, близкие к командованию крымской операцией, указывают 18 февраля как дату, когда ССО РФ в Новороссийске и на базе ВМФ РФ в Севастополе были приведены в состояние тревоги. 20 февраля войска РФ получили приказ блокировать украинские военные базы в Крыму и предотвратить кровопролитие между протестующими. Однако силы РФ начали действовать только 23 февраля, через 2 дня после отъезда Януковича из Киева, давая таким образом возможность отозвать операцию, если бы соглашение, подписанное Януковичем 21 февраля с лидерами Майдана и ЕС о досрочных выборах, начало действовать.\n",
      "Гражданский конфликт в Крыму\n",
      "К 23 февраля российские спецподразделения получили первые приказы по Крыму и в течение нескольких дней происходила первичная переброска войск на полуостров, где тем временем продолжался гражданский конфликт. 23—24 февраля под давлением пророссийских активистов была осуществлена смена исполнительных органов власти Севастополя; фактическим главой города стал предприниматель и гражданин России Алексей Чалый, назначенный руководителем Севастопольского городского управления по обеспечению жизнедеятельности города и председателем координационного совета при нём.\n",
      "\n",
      "В АР Крым пиком этого гражданского этапа противостояния стали столкновения 26 февраля у здания Верховного Совета АРК. В этот день Меджлис крымскотатарского народа организовал митинг у здания Верховного Совета Крыма с целью заблокировать его и не допустить принятия «решений, направленных на дестабилизацию ситуации в автономии». В ходе митинга Рефат Чубаров заявил, что крымские татары не дадут оторвать Крым от Украины. Одновременно здесь же проходил митинг «Русской общины Крыма». Между участниками двух митингов вспыхнул конфликт, в результате которого 35 человек получили травмы и ранения и два человека погибли: мужчина, скончавшийся от сердечного приступа, и женщина, затоптанная в давке.\n",
      "Референдум 16 марта 2014 года\n",
      "Политическим инструментом присоединения Крыма стал референдум о вхождении Крыма в состав России, проведённый 16 марта. По объявленным итогам голосования подавляющее большинство крымчан поддержало присоединение. По официальным данным, в голосовании приняло участие 83,1 % избирателей АРК, из них около 96,77 % проголосовали за присоединение Крыма к России, в Севастополе соответственно 89,5 % и 95,6 %.\n",
      "\n",
      "На основании объявленных результатов референдума, 17 марта в границах АРК и Севастополя была создана самопровозглашённая Республика Крым, а 18 марта Россия подписала с ней договор, образовавший на этой территории субъекты Российской Федерации — Республику Крым и город федерального значения Севастополь.\n",
      "\n",
      "21 марта завершилась законодательная процедура образования субъектов. Оставшиеся на стороне Украины военнослужащие сложили оружие и к 28 марта были выведены с полуострова. Фактической государственной границей между Россией и Украиной в крымском регионе стала сложившаяся к этому времени административная граница АР Крым и Херсонской области, протяжённостью приблизительно 170 км по суше и азовским лиманам.\n",
      "Военные силы сторон\n",
      "В начале конфликта в Крыму размещались около 18,8 тыс. украинских военнослужащих, хотя временный министр обороны Украины в феврале оценивал их численность ближе к 15 тыс. Военно-морские силы Украины на территории Крыма были представлены ракетно-артиллерийской бригадой, двумя отдельными батальонами морской пехоты, и бригадой береговой охраны. Также на полуострове находились 2,5 тыс. сотрудников Министерства внутренних дел Украины, которые, по мнению центра, не имели оборонного значения.\n",
      "\n",
      "Министр обороны Украины Павел Лебедев на совещаниях украинского руководства в феврале сказал, что от полутора до двух тысяч военнослужащих являются надёжными и готовы сражаться с россиянами в случае приказа. В распоряжении армии были 41 танк, 160 БМП, 47 артиллерийских установок, и крупнокалиберные миномёты. Из 45 самолётов МиГ-29 в Бельбеке в рабочем состоянии находились от 4 до 6 машин. Уровень готовности украинских зенитных ракетных комплексов Бук-М1 и С-300 центр назвал сомнительным.\n",
      "\n",
      "Россия разместила на полуострове около 12 тыс. военнослужащих Черноморского флота, единственной пехотной частью при этом являлась 810-я отдельная бригада морской пехоты. Российская морская пехота состояла из контрактных военнослужащих, которые были обучены и укомплектованы лучше, чем солдаты срочной службы. Российская армия в Крыму перед началом конфликта уступала в численности живой силе и тяжёлой технике украинским войскам, однако соглашения Украины с Россией о базировании российских войск в Крыму позволяли достаточно свободно перебрасывать силы с материка на полуостров.\n",
      "Потери сторон\n",
      "В ходе Крымского кризиса с 23 февраля по 18 марта 2014 года на полуострове погибло шесть человек. Среди погибших: трое общественных активистов (два пророссийских и один проукраинский ), двое украинских военнослужащих — прапорщик Сергей Кокурин и майор Станислав Карачевский, и один пророссийский крымский ополченец Руслан Казаков.\n",
      "\n",
      "В ночь с 5 на 6 марта 2014 года российскими военными у входа в озеро Донузлав были затоплены три водолазных судна и собственный противолодочный корабль «Очаков» с целью блокады кораблей ВМС Украины; по завершении конфликта «Очаков» был поднят и отправлен на утилизацию.\n",
      "Оценки\n",
      "Nato StratFor указывает на такие характерные черты российской тактики ведения « гибридной войны », как ведение интенсивной информационной кампании, использование кибератак и хорошо тренированных сил спецопераций.\n",
      "\n",
      "Директор российского Центра анализа стратегий и технологий (ЦАСТ) Руслан Пухов, однако, полагает, что никаких принципиально новых действий российская армия в Крыму и в последующем на Украине не вела, употребление термина «гибридная война» носит более пропагандистский, чем классификационный характер, а действия, которые объявляются специфичными для «гибридной войны», на самом деле уже давно используются во всех вооружённых конфликтах «низкой интенсивности». Пухов пишет, что российская агитация украинских военных в пользу сдачи и перехода на сторону России стала «в высшей степени успешным мероприятием, приведшим к полному разложению украинских сил на полуострове», но вместе с тем связывает этот успех со спецификой этих сил (большинство военнослужащих Украины в Крыму были жителями полуострова), а не какими-либо особыми действиями в области пропаганды.\n",
      "Международные отношения\n",
      "С 2014 года статус Крыма остаётся предметом споров. Украина отказывается признавать вхождение полуострова в состав России. Также Украина в 2017 году подала в ООН иск против России, где, в частности, обвинила Москву в нарушении конвенции ООН о ликвидации всех форм расовой дискриминации, заявляя о дискриминации российскими властями в Крыму украинцев и крымских татар.\n",
      "\n",
      "Украина и ряд специалистов заявили, что своими действиями в Крыму Россия нарушила множество двухсторонних и международных договоров, среди которых Будапештский меморандум и Договор о дружбе, сотрудничестве и партнёрстве между Российской Федерацией и Украиной. Присоединение Крыма серьёзно ухудшило политические и военные отношения России с западным сообществом (« Большая семёрка », государства — члены НАТО, Евросоюза, Совета Европы ), некоторые из введённых в отношении России санкций непосредственно связаны с российскими действиями в Крыму.\n",
      "\n",
      "«Большая семёрка» исключила Россию из своего состава, а НАТО усилило своё военное присутствие в Восточной Европе. В прилегающих к Крыму районах время от времени происходили вооружённые инциденты, связанные с принадлежностью территории (российско-украинское столкновение в Керченском проливе в 2018 году, инцидент 2021 года в Чёрном море, когда британский эсминец предпринял попытку прохождения через крымские воды вопреки их закрытию Россией).\n",
      "\n",
      "Несмотря на негативную реакцию, во влиятельных политических кругах на Западе существуют и другие точки зрения на присоединение Крыма к России, что, в частности, нашло отражение в позициях экс-президентов Франции Валери Жискар д’Эстена и Николя Саркози, оправдавших его. Экс-президент Чехии Вацлав Клаус назвал присоединение Крыма «аннексией», однако выразил мнение, что «она была продиктована растущей озабоченностью населения Крыма, а в движении за независимость нашли отражение подлинные чаяния народа…». Подобные мнения выразили также экс-канцлеры Германии Гельмут Шмидт и Герхард Шрёдер, экс-президент США Джимми Картер. Согласно позиции бывшего американского лидера-демократа, присоединение Крыма к России было «неизбежным», произошло по «взаимной договорённости» жителей полуострова и россиян. Картер исключил аннулирование в будущем новых отношений Крыма и России.\n",
      "Экономические и социальные последствия для Крыма\n",
      "Перед российским руководством и крымскими властями встала беспрецедентная для постсоветской России задача по интеграции полуострова в экономическую, финансовую, кредитную и правовую системы РФ. Это, в частности, предполагало создание минимальной транспортной и энергетической связности с основной территорией России и распространение социальных и прочих обязательств государства перед гражданами на жителей Крыма, социально-экономические показатели которого до присоединения к России были в несколько раз ниже российских. Общий переходный период был установлен до 1 января 2015 года, однако ряд соответствующих задач был решён оперативнее, тогда как другие потребовали больше времени. Российскими властями разработана и осуществляется федеральная целевая программа социально-экономического развития Крыма, включающая строительство более 800 объектов в 9 отраслях экономики. Бюджет Крыма, составлявший в 2013 году лишь эквивалент 600 млн долларов, или около 18 млрд рублей по курсу 2013 года, постоянно увеличивался и достиг 174,7 млрд рублей в 2018 году, при этом поступления из федерального бюджета по ФЦП составили 131,1 млрд рублей (75 % от общего бюджета Крыма).\n",
      "Северо-Крымский канал\n",
      "Остро встал вопрос об обеспечении энергоснабжения Крыма. К моменту присоединения к России полуостров почти 80 % потребляемой энергии получал с материковой Украины, и когда в 2015 году украинские активисты начали «энергоблокаду Крыма» (перешедшую затем в официальный государственный запрет на энергопоставки в Крым), на полуострове вводился режим чрезвычайной ситуации и проводились веерные отключения электроэнергии.\n",
      "\n",
      "К 2017 году после запуска энергомоста, купировавшего проблему зависимости от украинской электроэнергии, в Крыму были достигнуты многолетние максимумы энергопотребления; в 2019 году были введены в эксплуатацию парогазовые ТЭС ( Таврическая и Балаклавская, общая мощность 940 МВт), сократившие зависимость и от энергомоста.\n",
      "\n",
      "Нерешённой оставалась проблема водоснабжения — перекрытый в 2014 году Украиной Северо-Крымский канал обеспечивал 85 % водных потребностей полуострова, и утрата этой воды привела к сокращению выращивания водозатратных сельскохозяйственных культур, хотя виноградарство смогло адаптироваться в условиях дефицита воды — увеличилась как площадь, так и валовый сбор с виноградников. Россия рассматривала различные варианты альтернативного решения водной проблемы, в том числе строительство опреснительных установок, извлечение пресной воды из пластов под Азовским морем. В 2022 году канал был деблокирован.\n",
      "Туризм, инвестиции, санкции\n",
      "Рекордно увеличился туристический поток, чему способствовало открытие в 2018 году автодорожного Крымского моста, ставшего основным способом транспортного сообщения с Крымом. В декабре 2019 года по мосту было открыто железнодорожное сообщение. Среди крупнейших строек также можно выделить сдачу первой очереди новой трассы « Таврида », строительство нового аэровокзального комплекса в Симферополе, а также возведение многопрофильного медицинского центра Крымской республиканской клинической больницы им. Семашко.\n",
      "\n",
      "Российский крупный бизнес начал замещать мелкий бизнес на полуострове, что привело к снижению конкуренции в некоторых отраслях, таких как сферы торговли и транспорта, а также снижению доли населения Крыма, занятой в малом бизнесе.\n",
      "\n",
      "Евросоюз запретил импорт продуктов, произведённых в Крыму или Севастополе, и инвестиции в эти регионы. США, Канада и Украина также ввели экономические санкции в отношении физических и юридических лиц, работающих в Крыму. Из-за того, что западные компании не работают в регионе, ряд западных товаров и услуг в Крыму недоступен.\n",
      "Военная сфера\n",
      "Присоединение региона дало России большие возможности в вопросе модернизации Черноморского флота и другой военной инфраструктуры на полуострове (ранее активно сдерживавшейся Украиной), а также фактически освобождало Россию от необходимости платить арендную плату за пребывание войск на полуострове; состав войск был усилен, что обеспечило защиту территории полуострова и интересов России в Чёрном море.\n",
      "\n",
      "В частности, в состав самого ЧФ в 2014—2019 годах вошло около 20 кораблей и подводных лодок. Соглашения о базировании флота были расторгнуты Россией, так как Россия рассматривает полуостров как часть своей территории, а с 2019 года и Украина формально не может требовать их соблюдения.\n",
      "Вложения в экономику Крыма\n",
      "За все постсоветские годы (1991—2014) Украиной не было осуществлено в Крыму ни одного инфраструктурного проекта.\n",
      "\n",
      "С 2014 по 2023 годы Россия вложила в экономику Крыма около триллиона рублей, финансируя ряд крупных инфраструктурных проектов. По подсчётам журнала Forbes только в строительство 10 самых крупных объектов в Крыму РФ вложила 638 млрд рублей.\n",
      "\n",
      "Вот список шести крупнейших из них:\n",
      "\n",
      "На сооружение ещё четырёх объектов потрачено 43 млрд рублей.\n",
      "\n",
      "Всего в инфраструктуру Крыма с 2014 по 2021 год вложено было более 700 млрд рублей, такие цифры приводит вице-премьер правительства России Марат Хуснуллин.\n",
      "Последствия для России\n",
      "Присоединение Крыма было поддержано всеми российскими парламентскими партиями и, согласно опросам, населением в целом, способствовало росту рейтинга президента Путина и федеральной власти; кроме того, согласно регулярно проводившимся после 2014 года опросам, присоединение к России было поддержано и большинством населения самого Крыма.\n",
      "Последствия для Украины\n",
      "Для большинства украинцев потеря Крымского полуострова стала неожиданностью. Для Украины утрата Крыма, наряду с геополитическими, военными и внутриполитическими последствиями, связана с экономическими последствиями потери государственной собственности, находившейся на полуострове, которая вошла в число объектов, национализированных крымскими и российскими властями, де-факто сократилась исключительная экономическая зона Украины.\n",
      "\n",
      "С Крымским полуостровом Украина утратила две трети своего военного флота. И хотя первоначально была достигнута принципиальная договорённость о выведении всех украинских кораблей и самолётов из Крыма, позднее Россия приостановила передачу военной техники из Крыма Украине, ссылаясь на агрессивные действия украинских силовиков на востоке Украины, в Донбассе, хотя и не исключила возможность возобновления в дальнейшем передачи военной техники. После начала военных действий в 2022 году Украина потеряла свой военно-морской флот окончательно.\n",
      "В культуре\n",
      "Период событий, связанных с возвращением Крыма в состав Российской Федерации, получил название « Крымская весна ».\n",
      "\n",
      "В Крыму дата воссоединения полуострова с Россией, 18 марта, является официальным праздником и выходным днём.\n",
      "Торжественные мероприятия\n",
      "Ежегодно в Крыму, а также за его пределами на территории РФ, проводятся торжественные и праздничные мероприятия, посвящённые этому событию. В Москве несколько раз организовывался концерт в честь воссоединения Крыма с РФ, на котором отмечали присутствие президента Владимира Путина.\n",
      "\n",
      "20 января ежегодно полуостров празднует День Республики Крым.\n",
      "\n",
      "В СМИ регулярно выходят репортажи, посвящённые годовщине Крымской весны.\n",
      "\n",
      "В Феодосии на пятилетний юбилей воссоединения Крыма с Россией была организована уличная выставка «5 лет в родной гавани», прошёл концерт и торжественные мероприятия с участием военных.\n",
      "\n",
      "К 10-летию присоединения намечено проведение торжественных мероприятий под лозунгом «Крымская весна — 10 лет мы вместе!», часть из них уже прошли в конце февраля и начале марта.\n",
      "Памятники\n",
      "По мотивам нашумевшего фотокадра, на котором человека в военной форме обнимает девочка, в Симферополе появился « Памятник Вежливым людям », который стал одним из символом событий Крымской весны и местом проведения торжественных акций в городе.\n",
      "\n",
      "Спустя 9 лет произошла встреча уже выросшей девочки и военного, имя которого было установлено в ходе поисков. Им организовали возможность познакомиться. Девушку зовут Анна Соловьян, военного — Михаил, он родом из Новороссийска.\n",
      "\n",
      "В 2016 году в Крыму открыт памятник «Народному ополчению всех времён», появление которого связано в том числе с событиями Крымской весны. Идея его создания была озвучена в 2014 году, автором стал крымский художник Валерий Ключев.\n",
      "Фильмы\n",
      "В 2017 году была снят художественный фильм « Крым ».\n",
      "\n",
      "Также выпущен документальный фильм «Крымская весна» (в другом варианте называется «Крымская весна. Хроника эмоций» ).\n",
      "\n",
      "В 2023 году начались съёмки 12-серийного художественного фильма «Десять дней до весны», о чём заявили в Фонде поддержки военно-патриотического кино (Военкино). Выход сериала в онлайн-кинотеатрах Wink и Premier состоялся 8 марта 2024 года, а трансляция на телеканале НТВ началась 11 марта.\n",
      "См. также\n",
      "\n",
      "Примечания\n",
      "\n",
      "Ссылки\n",
      "\n",
      "\n"
     ]
    }
   ],
   "source": [
    "print(page.get_text())"
   ]
  },
  {
   "cell_type": "code",
   "execution_count": 10,
   "id": "ff05d247-245e-4a6a-8353-ace5a2ec460c",
   "metadata": {
    "scrolled": true
   },
   "outputs": [
    {
     "data": {
      "text/plain": [
       "{('h1',\n",
       "  'Присоединение Крыма к Российской Федерации'): 'Присоединение Крыма к Российской Федерации — вхождение в состав Российской Федерации на основе референдума в марте 2014\\xa0года Крымского полуострова в пределах административных границ регионов Украины — Автономной Республики Крым и города Севастополя [1]. На вошедших в состав России территориях Крыма были созданы новые субъекты Российской Федерации\\xa0— Республика Крым и город федерального значения Севастополь [2].',\n",
       " ('h2',\n",
       "  'Решающие события'): 'Референдуму о вхождении Крыма в состав России предшествовали длительные общественно-политические акции на Украине ( Евромайдан ). 18-20 февраля 2014\\xa0года в Киеве произошли кровавые столкновения между сторонниками Евромайдана и украинскими силовиками, что привело к гибели десятков людей и смещению Виктора Януковича с поста президента Украины, существенным переменам в государственной власти, что значительной частью населения, в том числе в Крыму и на Донбассе, было воспринято как государственный переворот [3] [4].\\n\\nНедовольство русских общественных организаций новыми нелегитимными властями Украины и активизацию жителей Крыма вызвало постановление Верховной рады об отмене Закона об основах государственной языковой политики, подготовка закона о люстрации, радикальные заявления активистов Евромайдана и политиков националистического толка. В противовес русским общественным организациям и настроениям большинства жителей Крыма другую позицию занял Меджлис крымскотатарского народа, пытавшийся позиционировать себя как представительный орган крымских татар. 21—23 февраля меджлис устроил акции в поддержку новой украинской власти, а затем, после назначения референдума о присоединении Крыма к РФ на 16 марта, не признал законность волеизъявления крымчан.\\n\\n23—24 февраля под напором сторонников интеграции с Россией была проведена смена исполнительных органов власти Севастополя. 26 февраля сторонники Меджлиса и новой украинской власти попытались проникнуть в здание крымского парламента и заблокировать его работу. Реагируя на эту ситуацию, рано утром 27 февраля российский спецназ по указанию президента России Владимира Путина бескровно занял здания органов власти Автономной Республики Крым. Депутаты Верховного Совета АР Крым, собравшиеся на сессию в здании парламента, отправили в отставку прежнее правительство Анатолия Могилёва и назначили главой нового правительства Крыма лидера партии « Русское единство » Сергея Аксёнова. Он заявил о непризнании нового руководства Украины и обратился к руководству России за «содействием в обеспечении мира и спокойствия на территории Автономной Республики Крым» [5]. Эта позиция получила массовый энтузиазм среди населения Крыма. Новое правительства Крыма во главе с Аксёновым не было признано властями Украины [6].\\n\\n1 марта 2014\\xa0года Совет Федерации РФ удовлетворил официальное обращение президента Путина о разрешении на использование российских войск на территории Украины. Российскими военнослужащими совместно с отрядами добровольцев были блокированы все объекты и воинские части ВС Украины на территории полуострова, командование которых отказалось подчиниться новому правительству Крыма.\\n\\nПолитическим инструментом интеграции Крыма в Россию стал проведённый 16 марта 2014\\xa0года референдум о присоединении Крыма к России, который завершился убедительной победой сторонников вхождения Крыма в состав России [7]. Начатый референдумом процесс присоединения продолжился 18 марта, с образованием Россией на занятой территории новых субъектов Федерации. К 26 марта Россия обрела полный военный контроль над территорией. Большинство населения полуострова составляли этнические русские, потомки коренных русских жителей Крыма, они желали, чтобы полуостров вновь, как и до 1954\\xa0года, стал частью России, и поддержали её действия в Крыму.\\n\\nУкраина отказалась признавать утрату территории, рассматривая её в своём законодательстве как «временно оккупированную» часть страны, а действия России\\xa0— как нарушения различных ранее заключённых договоров, среди которых\\xa0— Будапештский меморандум 1994\\xa0года и Договор о дружбе, сотрудничестве и партнёрстве между Российской Федерацией и Украиной от 1997\\xa0года.',\n",
       " ('h2',\n",
       "  'Предыстория'): '«Учитывая общность экономики, территориальную близость и тесные хозяйственные и культурные связи» в 1954\\xa0году Крымская область по инициативе тогдашнего руководителя СССР Н.\\xa0С.\\xa0Хрущёва была передана из состава РСФСР в состав Украинской ССР. Сын Хрущёва Сергей Никитич в интервью Российскому телевидению по телемосту из США 19 марта 2014\\xa0года пояснил, ссылаясь на слова отца, что решение Хрущёва было связано со строительством северокрымского водоканала от Каховского водохранилища на Днепре и желательностью ведения и финансирования масштабных гидротехнических работ в рамках одной союзной республики. Изменение внутренних границ в СССР было обычным делом, и на формальную передачу Крыма из России на Украину никто не обращал внимания до распада СССР. При этом имелось в виду, что передача территории происходит внутри одного единого государства, а границы между его частями являются не государственными, а административными [8] [9].',\n",
       " ('h3',\n",
       "  'Крым в составе Украины'): 'После распада СССР в 1991\\xa0году Россия признала суверенное государство Украину в тогдашних границах Украинской ССР, то есть с Крымом в её составе. Одним из главных условий признания было закрепление в « Декларации о государственном суверенитете » и Конституции Украины постоянного статуса нейтрального государства, что подразумевало отказ от вступления в НАТО [10]. Начиная с 1992\\xa0года, пророссийски настроенное население Крыма и его политические организации выдвигали ряд интеграционных лозунгов\\xa0— курс на сближение Республики Крым с Россией, вплоть до полного присоединения, заключение с Россией военно-политического союза, предоставление жителям Крыма российского гражданства [11]. В ответ на это украинские националисты выдвинули экстремистский контрлозунг: «Крым будет либо украинским\\xa0— либо безлюдным» [12].\\n\\nНа международном уровне в 1997\\xa0году Россия и Украина подписали Соглашение о статусе Черноморского флота, решившие вопрос его раздела и пребывания на территории Крыма, а также Договор о дружбе, сотрудничестве и партнёрстве между Российской Федерацией и Украиной («Большой договор», вступивший в силу два года спустя), которым признавали нерушимость границ друг друга и, тем самым, суверенитет Украины над Крымом.\\n\\nОживление общественно-политической деятельности пророссийских организаций наметилось с 2002\\xa0года. Этому в дальнейшем способствовала «Оранжевая революция» (2004), многие лозунги которой резко враждебно встретила значительная часть крымчан, а также позиция новой власти, в частности, в вопросах сближения Украины с НАТО и войны в Грузии (2008), что вызвало напряжённость в российско-украинских отношениях.\\n\\nВозможность возникновения нового конфликта в Крыму в связи с новым переделом мира считалась высокой уже в начале 2000-х годов. В условиях приближавшегося истечения срока базирования российских войск в Крыму (2017) сохранялась возможность вспышки конфликта за обладание регионом: этому способствовали как действия самой России (поддержка пророссийских организаций), так и пророссийские настроения большинства населения региона, что давало России «внутреннюю легитимность» в Крыму. Отношения между государствами осложнились в 2008\\xa0году, когда Украина, вопреки закреплённому в её конституции статусу нейтрального государства, взяла курс на интеграцию в НАТО и Евросоюз. Резкое ухудшение отношений произошло в 2014\\xa0году после Евромайдана и государственного переворота и отстранения от власти президента Виктора Януковича, начала военной операции Украины на Донбассе (АТО), где население, как и в Крыму, не приняло результаты переворота. Новый политический кризис на Украине побудил активистов добиваться проведения в Крыму референдума о присоединении к России [11].',\n",
       " ('h3',\n",
       "  'Развитие событий после 2013\\xa0года'): 'Произошедшее 18—20 февраля обострение гражданского противостояния в стране, а затем и смещение Януковича с поста президента способствовали радикализации настроений в Крыму. В Крыму многие восприняли смену власти в Киеве как государственный переворот. В этот период даже стремившиеся к договорённостям с Украиной политики «склонили чашу весов в пользу Москвы», в том числе под давлением общественности. Отделение Крыма от Украины и присоединение его к России стало допускаться и руководством парламента автономии. В Крыму началась протестная мобилизация населения, инициированная в основном местными жителями. Партия « Русское единство » инициировала создание сил самообороны.\\n\\nВ числе причин, побудивших российское руководство на присоединение Крыма, эксперты рассматривают как геополитические (опасения относительно возможного пересмотра соглашений по флоту и/или превращения Украины из нейтрального «буферного государства» в «значимого игрока на стороне США и их союзников»), экономические и внутриполитические мотивы.\\n\\nИсточники, близкие к командованию крымской операцией, указывают 18 февраля как дату, когда ССО РФ в Новороссийске и на базе ВМФ РФ в Севастополе были приведены в состояние тревоги. 20 февраля войска РФ получили приказ блокировать украинские военные базы в Крыму и предотвратить кровопролитие между протестующими. Однако силы РФ начали действовать только 23 февраля, через 2 дня после отъезда Януковича из Киева, давая таким образом возможность отозвать операцию, если бы соглашение, подписанное Януковичем 21 февраля с лидерами Майдана и ЕС о досрочных выборах, начало действовать.',\n",
       " ('h3',\n",
       "  'Гражданский конфликт в Крыму'): 'К 23 февраля российские спецподразделения получили первые приказы по Крыму и в течение нескольких дней происходила первичная переброска войск на полуостров, где тем временем продолжался гражданский конфликт. 23—24 февраля под давлением пророссийских активистов была осуществлена смена исполнительных органов власти Севастополя; фактическим главой города стал предприниматель и гражданин России Алексей Чалый, назначенный руководителем Севастопольского городского управления по обеспечению жизнедеятельности города и председателем координационного совета при нём.\\n\\nВ АР Крым пиком этого гражданского этапа противостояния стали столкновения 26 февраля у здания Верховного Совета АРК. В этот день Меджлис крымскотатарского народа организовал митинг у здания Верховного Совета Крыма с целью заблокировать его и не допустить принятия «решений, направленных на дестабилизацию ситуации в автономии». В ходе митинга Рефат Чубаров заявил, что крымские татары не дадут оторвать Крым от Украины. Одновременно здесь же проходил митинг «Русской общины Крыма». Между участниками двух митингов вспыхнул конфликт, в результате которого 35 человек получили травмы и ранения и два человека погибли: мужчина, скончавшийся от сердечного приступа, и женщина, затоптанная в давке.',\n",
       " ('h3',\n",
       "  'Референдум 16 марта 2014\\xa0года'): 'Политическим инструментом присоединения Крыма стал референдум о вхождении Крыма в состав России, проведённый 16 марта. По объявленным итогам голосования подавляющее большинство крымчан поддержало присоединение. По официальным данным, в голосовании приняло участие 83,1\\xa0% избирателей АРК, из них около 96,77\\xa0% проголосовали за присоединение Крыма к России, в Севастополе соответственно 89,5\\xa0% и 95,6\\xa0%.\\n\\nНа основании объявленных результатов референдума, 17 марта в границах АРК и Севастополя была создана самопровозглашённая Республика Крым, а 18 марта Россия подписала с ней договор, образовавший на этой территории субъекты Российской Федерации\\xa0— Республику Крым и город федерального значения Севастополь [13].\\n\\n21 марта завершилась законодательная процедура образования субъектов. Оставшиеся на стороне Украины военнослужащие сложили оружие и к 28 марта были выведены с полуострова. Фактической государственной границей между Россией и Украиной в крымском регионе стала сложившаяся к этому времени административная граница АР Крым и Херсонской области, протяжённостью приблизительно 170\\xa0км по суше и азовским лиманам.',\n",
       " ('h3',\n",
       "  'Военные силы сторон'): 'В начале конфликта в Крыму размещались около 18,8\\xa0тыс. украинских военнослужащих, хотя временный министр обороны Украины в феврале оценивал их численность ближе к 15\\xa0тыс. Военно-морские силы Украины на территории Крыма были представлены ракетно-артиллерийской бригадой, двумя отдельными батальонами морской пехоты, и бригадой береговой охраны. Также на полуострове находились 2,5\\xa0тыс. сотрудников Министерства внутренних дел Украины, которые, по мнению центра, не имели оборонного значения.\\n\\nМинистр обороны Украины Павел Лебедев на совещаниях украинского руководства в феврале сказал, что от полутора до двух тысяч военнослужащих являются надёжными и готовы сражаться с россиянами в случае приказа. В распоряжении армии были 41 танк, 160 БМП, 47 артиллерийских установок, и крупнокалиберные миномёты. Из 45 самолётов МиГ-29 в Бельбеке в рабочем состоянии находились от 4 до 6 машин. Уровень готовности украинских зенитных ракетных комплексов Бук-М1 и С-300 центр назвал сомнительным.\\n\\nРоссия разместила на полуострове около 12\\xa0тыс. военнослужащих Черноморского флота, единственной пехотной частью при этом являлась 810-я отдельная бригада морской пехоты. Российская морская пехота состояла из контрактных военнослужащих, которые были обучены и укомплектованы лучше, чем солдаты срочной службы. Российская армия в Крыму перед началом конфликта уступала в численности живой силе и тяжёлой технике украинским войскам, однако соглашения Украины с Россией о базировании российских войск в Крыму позволяли достаточно свободно перебрасывать силы с материка на полуостров.',\n",
       " ('h3',\n",
       "  'Потери сторон'): 'В ходе Крымского кризиса с 23 февраля по 18 марта 2014\\xa0года на полуострове погибло шесть человек. Среди погибших: трое общественных активистов (два пророссийских и один проукраинский ), двое украинских военнослужащих\\xa0— прапорщик Сергей Кокурин и майор Станислав Карачевский, и один пророссийский крымский ополченец Руслан Казаков.\\n\\nВ ночь с 5 на 6 марта 2014\\xa0года российскими военными у входа в озеро Донузлав были затоплены три водолазных судна и собственный противолодочный корабль «Очаков» с целью блокады кораблей ВМС Украины; по завершении конфликта «Очаков» был поднят и отправлен на утилизацию.',\n",
       " ('h3',\n",
       "  'Оценки'): 'Nato StratFor указывает на такие характерные черты российской тактики ведения « гибридной войны », как ведение интенсивной информационной кампании, использование кибератак и хорошо тренированных сил спецопераций.\\n\\nДиректор российского Центра анализа стратегий и технологий (ЦАСТ) Руслан\\xa0Пухов, однако, полагает, что никаких принципиально новых действий российская армия в Крыму и в последующем на Украине не вела, употребление термина «гибридная война» носит более пропагандистский, чем классификационный характер, а действия, которые объявляются специфичными для «гибридной войны», на самом деле уже давно используются во всех вооружённых конфликтах «низкой интенсивности». Пухов пишет, что российская агитация украинских военных в пользу сдачи и перехода на сторону России стала «в высшей степени успешным мероприятием, приведшим к полному разложению украинских сил на полуострове», но вместе с тем связывает этот успех со спецификой этих сил (большинство военнослужащих Украины в Крыму были жителями полуострова), а не какими-либо особыми действиями в области пропаганды.',\n",
       " ('h3',\n",
       "  'Международные отношения'): 'С 2014\\xa0года статус Крыма остаётся предметом споров. Украина отказывается признавать вхождение полуострова в состав России. Также Украина в 2017\\xa0году подала в ООН иск против России, где, в частности, обвинила Москву в нарушении конвенции ООН о ликвидации всех форм расовой дискриминации, заявляя о дискриминации российскими властями в Крыму украинцев и крымских татар.\\n\\nУкраина и ряд специалистов заявили, что своими действиями в Крыму Россия нарушила множество двухсторонних и международных договоров, среди которых Будапештский меморандум и Договор о дружбе, сотрудничестве и партнёрстве между Российской Федерацией и Украиной. Присоединение Крыма серьёзно ухудшило политические и военные отношения России с западным сообществом (« Большая семёрка », государства\\xa0— члены НАТО, Евросоюза, Совета Европы ), некоторые из введённых в отношении России санкций непосредственно связаны с российскими действиями в Крыму.\\n\\n«Большая семёрка» исключила Россию из своего состава, а НАТО усилило своё военное присутствие в Восточной Европе. В прилегающих к Крыму районах время от времени происходили вооружённые инциденты, связанные с принадлежностью территории (российско-украинское столкновение в Керченском проливе в 2018\\xa0году, инцидент 2021\\xa0года в Чёрном море, когда британский эсминец предпринял попытку прохождения через крымские воды вопреки их закрытию Россией).\\n\\nНесмотря на негативную реакцию, во влиятельных политических кругах на Западе существуют и другие точки зрения на присоединение Крыма к России, что, в частности, нашло отражение в позициях экс-президентов Франции Валери Жискар д’Эстена и Николя Саркози, оправдавших его [14] [15] [16] [17]. Экс-президент Чехии Вацлав Клаус назвал присоединение Крыма «аннексией», однако выразил мнение, что «она была продиктована растущей озабоченностью населения Крыма, а в движении за независимость нашли отражение подлинные чаяния народа…». Подобные мнения выразили также экс-канцлеры Германии Гельмут Шмидт и Герхард Шрёдер, экс-президент США Джимми Картер [18] [19] [20]. Согласно позиции бывшего американского лидера-демократа, присоединение Крыма к России было «неизбежным», произошло по «взаимной договорённости» жителей полуострова и россиян. Картер исключил аннулирование в будущем новых отношений Крыма и России [21].',\n",
       " ('h3',\n",
       "  'Экономические и социальные последствия для Крыма'): 'Перед российским руководством и крымскими властями встала беспрецедентная для постсоветской России задача по интеграции полуострова в экономическую, финансовую, кредитную и правовую системы РФ. Это, в частности, предполагало создание минимальной транспортной и энергетической связности с основной территорией России и распространение социальных и прочих обязательств государства перед гражданами на жителей Крыма, социально-экономические показатели которого до присоединения к России были в несколько раз ниже российских. Общий переходный период был установлен до 1 января 2015\\xa0года, однако ряд соответствующих задач был решён оперативнее, тогда как другие потребовали больше времени. Российскими властями разработана и осуществляется федеральная целевая программа социально-экономического развития Крыма, включающая строительство более 800 объектов в 9 отраслях экономики. Бюджет Крыма, составлявший в 2013\\xa0году лишь эквивалент 600\\xa0млн долларов, или около 18\\xa0млрд рублей по курсу 2013\\xa0года, постоянно увеличивался и достиг 174,7\\xa0млрд рублей в 2018\\xa0году, при этом поступления из федерального бюджета по ФЦП составили 131,1\\xa0млрд рублей (75\\xa0% от общего бюджета Крыма).',\n",
       " ('h3',\n",
       "  'Северо-Крымский канал'): 'Остро встал вопрос об обеспечении энергоснабжения Крыма. К моменту присоединения к России полуостров почти 80\\xa0% потребляемой энергии получал с материковой Украины, и когда в 2015\\xa0году украинские активисты начали «энергоблокаду Крыма» (перешедшую затем в официальный государственный запрет на энергопоставки в Крым), на полуострове вводился режим чрезвычайной ситуации и проводились веерные отключения электроэнергии.\\n\\nК 2017\\xa0году после запуска энергомоста, купировавшего проблему зависимости от украинской электроэнергии, в Крыму были достигнуты многолетние максимумы энергопотребления; в 2019\\xa0году были введены в эксплуатацию парогазовые ТЭС ( Таврическая и Балаклавская, общая мощность 940 МВт), сократившие зависимость и от энергомоста.\\n\\nНерешённой оставалась проблема водоснабжения\\xa0— перекрытый в 2014\\xa0году Украиной Северо-Крымский канал обеспечивал 85\\xa0% водных потребностей полуострова, и утрата этой воды привела к сокращению выращивания водозатратных сельскохозяйственных культур, хотя виноградарство смогло адаптироваться в условиях дефицита воды\\xa0— увеличилась как площадь, так и валовый сбор с виноградников. Россия рассматривала различные варианты альтернативного решения водной проблемы, в том числе строительство опреснительных установок, извлечение пресной воды из пластов под Азовским морем. В 2022\\xa0году канал был деблокирован.',\n",
       " ('h3',\n",
       "  'Туризм, инвестиции, санкции'): 'Рекордно увеличился туристический поток, чему способствовало открытие в 2018\\xa0году автодорожного Крымского моста, ставшего основным способом транспортного сообщения с Крымом. В декабре 2019\\xa0года по мосту было открыто железнодорожное сообщение. Среди крупнейших строек также можно выделить сдачу первой очереди новой трассы « Таврида », строительство нового аэровокзального комплекса в Симферополе, а также возведение многопрофильного медицинского центра Крымской республиканской клинической больницы им. Семашко.\\n\\nРоссийский крупный бизнес начал замещать мелкий бизнес на полуострове, что привело к снижению конкуренции в некоторых отраслях, таких как сферы торговли и транспорта, а также снижению доли населения Крыма, занятой в малом бизнесе.\\n\\nЕвросоюз запретил импорт продуктов, произведённых в Крыму или Севастополе, и инвестиции в эти регионы. США, Канада и Украина также ввели экономические санкции в отношении физических и юридических лиц, работающих в Крыму. Из-за того, что западные компании не работают в регионе, ряд западных товаров и услуг в Крыму недоступен.',\n",
       " ('h3',\n",
       "  'Военная сфера'): 'Присоединение региона дало России большие возможности в вопросе модернизации Черноморского флота и другой военной инфраструктуры на полуострове (ранее активно сдерживавшейся Украиной), а также фактически освобождало Россию от необходимости платить арендную плату за пребывание войск на полуострове; состав войск был усилен, что обеспечило защиту территории полуострова и интересов России в Чёрном море.\\n\\nВ частности, в состав самого ЧФ в 2014—2019\\xa0годах вошло около 20 кораблей и подводных лодок. Соглашения о базировании флота были расторгнуты Россией, так как Россия рассматривает полуостров как часть своей территории, а с 2019\\xa0года и Украина формально не может требовать их соблюдения.',\n",
       " ('h3',\n",
       "  'Вложения в экономику Крыма'): 'За все постсоветские годы (1991—2014) Украиной не было осуществлено в Крыму ни одного инфраструктурного проекта [22].\\n\\nС 2014\\xa0по 2023\\xa0годы Россия вложила в экономику Крыма около триллиона рублей, финансируя ряд крупных инфраструктурных проектов. По подсчётам журнала Forbes только в строительство 10 самых крупных объектов в Крыму РФ вложила 638\\xa0млрд рублей.\\n\\nВот список шести крупнейших из них:\\n\\nНа сооружение ещё четырёх объектов потрачено 43\\xa0млрд рублей.\\n\\nВсего в инфраструктуру Крыма с 2014 по 2021\\xa0год вложено было более 700\\xa0млрд рублей, такие цифры приводит вице-премьер правительства России Марат Хуснуллин.',\n",
       " ('h3',\n",
       "  'Последствия для России'): 'Присоединение Крыма было поддержано всеми российскими парламентскими партиями и, согласно опросам, населением в целом, способствовало росту рейтинга президента Путина и федеральной власти; кроме того, согласно регулярно проводившимся после 2014\\xa0года опросам, присоединение к России было поддержано и большинством населения самого Крыма.',\n",
       " ('h3',\n",
       "  'Последствия для Украины'): 'Для большинства украинцев потеря Крымского полуострова стала неожиданностью. Для Украины утрата Крыма, наряду с геополитическими, военными и внутриполитическими последствиями, связана с экономическими последствиями потери государственной собственности, находившейся на полуострове, которая вошла в число объектов, национализированных крымскими и российскими властями, де-факто сократилась исключительная экономическая зона Украины.\\n\\nС Крымским полуостровом Украина утратила две трети своего военного флота. И хотя первоначально была достигнута принципиальная договорённость о выведении всех украинских кораблей и самолётов из Крыма, позднее Россия приостановила передачу военной техники из Крыма Украине, ссылаясь на агрессивные действия украинских силовиков на востоке Украины, в Донбассе, хотя и не исключила возможность возобновления в дальнейшем передачи военной техники [23] [24] [25] [26] [27]. После начала военных действий в 2022\\xa0году Украина потеряла свой военно-морской флот окончательно.',\n",
       " ('h2',\n",
       "  'В культуре'): 'Период событий, связанных с возвращением Крыма в состав Российской Федерации, получил название « Крымская весна » [28].\\n\\nВ Крыму дата воссоединения полуострова с Россией, 18 марта, является официальным праздником и выходным днём [29].',\n",
       " ('h3',\n",
       "  'Торжественные мероприятия'): 'Ежегодно в Крыму, а также за его пределами на территории РФ, проводятся торжественные и праздничные мероприятия, посвящённые этому событию [30]. В Москве несколько раз организовывался концерт в честь воссоединения Крыма с РФ, на котором отмечали присутствие президента Владимира Путина [31].\\n\\n20 января ежегодно полуостров празднует День Республики Крым.\\n\\nВ СМИ регулярно выходят репортажи, посвящённые годовщине Крымской весны [32].\\n\\nВ Феодосии на пятилетний юбилей воссоединения Крыма с Россией была организована уличная выставка «5 лет в родной гавани», прошёл концерт и торжественные мероприятия с участием военных [33].\\n\\nК 10-летию присоединения намечено [34] проведение торжественных мероприятий под лозунгом «Крымская весна\\xa0— 10 лет мы вместе!» [35], часть из них уже прошли в конце февраля и начале марта [36].',\n",
       " ('h3',\n",
       "  'Памятники'): 'По мотивам нашумевшего фотокадра, на котором человека в военной форме обнимает девочка, в Симферополе появился « Памятник Вежливым людям », который стал одним из символом событий Крымской весны и местом проведения торжественных акций в городе [37] [38].\\n\\nСпустя 9 лет произошла встреча уже выросшей девочки и военного, имя которого было установлено в ходе поисков. Им организовали возможность познакомиться. Девушку зовут Анна Соловьян, военного\\xa0— Михаил, он родом из Новороссийска [38].\\n\\nВ 2016\\xa0году в Крыму открыт памятник «Народному ополчению всех времён», появление которого связано в том числе с событиями Крымской весны. Идея его создания была озвучена в 2014\\xa0году, автором стал крымский художник Валерий Ключев [39].',\n",
       " ('h3',\n",
       "  'Фильмы'): 'В 2017\\xa0году была снят художественный фильм « Крым » [40].\\n\\nТакже выпущен документальный фильм «Крымская весна» [41] (в другом варианте называется «Крымская весна. Хроника эмоций» [42] ).\\n\\nВ 2023\\xa0году начались съёмки 12-серийного художественного фильма «Десять дней до весны», о чём заявили в Фонде поддержки военно-патриотического кино (Военкино) [43]. Выход сериала в онлайн-кинотеатрах Wink и Premier состоялся 8 марта 2024\\xa0года, а трансляция на телеканале НТВ началась 11 марта [44].',\n",
       " ('h2', 'См. также'): '',\n",
       " ('h2', 'Примечания'): '',\n",
       " ('h2', 'Ссылки'): ''}"
      ]
     },
     "execution_count": 10,
     "metadata": {},
     "output_type": "execute_result"
    }
   ],
   "source": [
    "page.outline"
   ]
  },
  {
   "cell_type": "code",
   "execution_count": null,
   "id": "53d88b20-1a6b-4a54-8da0-16cf74b59bac",
   "metadata": {},
   "outputs": [
    {
     "name": "stderr",
     "output_type": "stream",
     "text": [
      "  8%|▊         | 3/36 [00:14<03:15,  5.92s/it]"
     ]
    }
   ],
   "source": [
    "page.newspaper_ref()"
   ]
  },
  {
   "cell_type": "code",
   "execution_count": 14,
   "id": "f6eb83d9-b710-4928-aa44-062e3116471b",
   "metadata": {},
   "outputs": [],
   "source": [
    "def save_html(html_code, file_path):\n",
    "    with open(file_path, 'w', encoding='utf-8') as f:\n",
    "        f.write(html_code)\n",
    "\n",
    "\n",
    "def save_citations(citations, file_path):\n",
    "    with open(file_path, 'w', encoding='utf-8') as f:\n",
    "        json.dump(citations, f, ensure_ascii=False, indent=4)"
   ]
  },
  {
   "cell_type": "code",
   "execution_count": 15,
   "id": "d9b4a312-18dc-4047-acd8-da3ea801094b",
   "metadata": {},
   "outputs": [],
   "source": [
    "def get_article(name):\n",
    "    print('Article name: ', name)\n",
    "    page = Extracter(name)\n",
    "    page.get_references()\n",
    "    page.get_outline()\n",
    "    page.get_reference_positions()\n",
    "    print('Text length: ', len(page.get_text()))\n",
    "    print('Number of links: ', len(page.links))\n",
    "    save_html(page.response.text, \"Статьи/Html/\" + name + '.html')\n",
    "    save_citations(page.links, \"Статьи/Ссылки/\" + name + '.json')"
   ]
  },
  {
   "cell_type": "code",
   "execution_count": 3,
   "id": "e21955e3-1b7f-4abc-ac9f-e5ca0ccabaf3",
   "metadata": {},
   "outputs": [],
   "source": [
    "article_names = [\n",
    "    'Python',\n",
    "    'Летние Олимпийские игры 2024',\n",
    "    'Квантовый компьютер',\n",
    "    'Присоединение Крыма к Российской Федерации',\n",
    "    'Сколково (инновационный центр)',\n",
    "    'Tomb Raider (игра, 2013)',\n",
    "    'Чёрная дыра',\n",
    "    'Экономика США',\n",
    "    'Искусственный интеллект',\n",
    "    'COVID-19'\n",
    "]"
   ]
  },
  {
   "cell_type": "code",
   "execution_count": null,
   "id": "92438061-70a2-4ca0-8ca3-460d25428830",
   "metadata": {},
   "outputs": [],
   "source": [
    "def save_texts(article_name, texts, number):\n",
    "\n",
    "    directory = os.path.join(\"Статьи\", \"Источники\", article_name)\n",
    "\n",
    "    os.makedirs(directory, exist_ok=True)\n",
    "\n",
    "    for i, text in enumerate(texts, start=number):\n",
    "        file_path = os.path.join(directory, f\"source_{i}.txt\")\n",
    "        with open(file_path, \"w\", encoding=\"utf-8\") as file:\n",
    "            file.write(text)"
   ]
  },
  {
   "cell_type": "code",
   "execution_count": null,
   "id": "52a0577b-98af-4a5c-92f9-35f697e0bd7f",
   "metadata": {},
   "outputs": [],
   "source": [
    "num = 1\n",
    "for _, texts in page.ref_texts.items():\n",
    "    save_texts(page.name, texts, num)\n",
    "    num += len(texts)"
   ]
  },
  {
   "cell_type": "code",
   "execution_count": 30,
   "id": "c830643c-8a34-410c-bd43-5997626e4119",
   "metadata": {},
   "outputs": [],
   "source": [
    "oclient = OpenAI(api_key=KEY, base_url= URL)\n",
    "\n",
    "wiki_writer = WikiGen(oclient)\n",
    "\n",
    "for name in article_names:\n",
    "\n",
    "    json_str = wiki_writer.get_subqueries(name)\n",
    "\n",
    "    if json_str:\n",
    "        data = json.loads(json_str)\n",
    "        directory = os.path.join(\"Генерация\", \"Подзапросы\", name)\n",
    "        os.makedirs(directory, exist_ok=True)\n",
    "        filename = name.replace(\" \", \"_\") + '.json'\n",
    "        file_path = os.path.join(directory, filename)\n",
    "        with open(file_path, \"w\", encoding=\"utf-8\") as f:\n",
    "            json.dump(data, f, ensure_ascii=False, indent=2)"
   ]
  },
  {
   "cell_type": "code",
   "execution_count": null,
   "id": "5ab1a362-68e5-46d4-8c14-2c8445c27ac7",
   "metadata": {},
   "outputs": [],
   "source": []
  }
 ],
 "metadata": {
  "kernelspec": {
   "display_name": "Python 3 (ipykernel)",
   "language": "python",
   "name": "python3"
  },
  "language_info": {
   "codemirror_mode": {
    "name": "ipython",
    "version": 3
   },
   "file_extension": ".py",
   "mimetype": "text/x-python",
   "name": "python",
   "nbconvert_exporter": "python",
   "pygments_lexer": "ipython3",
   "version": "3.12.9"
  }
 },
 "nbformat": 4,
 "nbformat_minor": 5
}
