{
 "cells": [
  {
   "cell_type": "code",
   "execution_count": 19,
   "id": "0b8632f9-b953-47c5-8045-542c52621be8",
   "metadata": {
    "scrolled": true
   },
   "outputs": [
    {
     "name": "stdout",
     "output_type": "stream",
     "text": [
      "Requirement already satisfied: numpy==2.0.2 in c:\\users\\dagri\\anaconda3\\envs\\wikibench\\lib\\site-packages (from -r requirements.txt (line 1)) (2.0.2)\n",
      "Requirement already satisfied: pandas in c:\\users\\dagri\\anaconda3\\envs\\wikibench\\lib\\site-packages (from -r requirements.txt (line 2)) (2.2.3)\n",
      "Requirement already satisfied: scipy==1.14.1 in c:\\users\\dagri\\anaconda3\\envs\\wikibench\\lib\\site-packages (from -r requirements.txt (line 3)) (1.14.1)\n",
      "Requirement already satisfied: scikit-learn==1.6.1 in c:\\users\\dagri\\anaconda3\\envs\\wikibench\\lib\\site-packages (from -r requirements.txt (line 4)) (1.6.1)\n",
      "Requirement already satisfied: requests==2.32.3 in c:\\users\\dagri\\anaconda3\\envs\\wikibench\\lib\\site-packages (from -r requirements.txt (line 5)) (2.32.3)\n",
      "Requirement already satisfied: BeautifulSoup4==4.11.1 in c:\\users\\dagri\\anaconda3\\envs\\wikibench\\lib\\site-packages (from -r requirements.txt (line 6)) (4.11.1)\n",
      "Requirement already satisfied: lxml_html_clean==0.4.1 in c:\\users\\dagri\\anaconda3\\envs\\wikibench\\lib\\site-packages (from -r requirements.txt (line 7)) (0.4.1)\n",
      "Requirement already satisfied: newspaper3k==0.2.8 in c:\\users\\dagri\\anaconda3\\envs\\wikibench\\lib\\site-packages (from -r requirements.txt (line 8)) (0.2.8)\n",
      "Requirement already satisfied: openai==1.55.3 in c:\\users\\dagri\\anaconda3\\envs\\wikibench\\lib\\site-packages (from -r requirements.txt (line 10)) (1.55.3)\n",
      "Requirement already satisfied: httpx==0.27.2 in c:\\users\\dagri\\anaconda3\\envs\\wikibench\\lib\\site-packages (from -r requirements.txt (line 11)) (0.27.2)\n",
      "Requirement already satisfied: asyncio==3.4.3 in c:\\users\\dagri\\anaconda3\\envs\\wikibench\\lib\\site-packages (from -r requirements.txt (line 12)) (3.4.3)\n",
      "Requirement already satisfied: nltk in c:\\users\\dagri\\anaconda3\\envs\\wikibench\\lib\\site-packages (from -r requirements.txt (line 13)) (3.9.1)\n",
      "Requirement already satisfied: PyStemmer==2.2.0.3 in c:\\users\\dagri\\anaconda3\\envs\\wikibench\\lib\\site-packages (from -r requirements.txt (line 14)) (2.2.0.3)\n",
      "Requirement already satisfied: datasets in c:\\users\\dagri\\anaconda3\\envs\\wikibench\\lib\\site-packages (from -r requirements.txt (line 16)) (3.5.0)\n",
      "Requirement already satisfied: jax==0.5.2 in c:\\users\\dagri\\anaconda3\\envs\\wikibench\\lib\\site-packages (from jax[cpu]==0.5.2->-r requirements.txt (line 17)) (0.5.2)\n",
      "Requirement already satisfied: tqdm in c:\\users\\dagri\\anaconda3\\envs\\wikibench\\lib\\site-packages (from -r requirements.txt (line 18)) (4.67.1)\n",
      "Requirement already satisfied: sentence-transformers in c:\\users\\dagri\\anaconda3\\envs\\wikibench\\lib\\site-packages (from -r requirements.txt (line 19)) (4.0.2)\n",
      "Requirement already satisfied: accelerate in c:\\users\\dagri\\anaconda3\\envs\\wikibench\\lib\\site-packages (from -r requirements.txt (line 20)) (1.6.0)\n",
      "Requirement already satisfied: transformers in c:\\users\\dagri\\anaconda3\\envs\\wikibench\\lib\\site-packages (from -r requirements.txt (line 21)) (4.51.0)\n",
      "Requirement already satisfied: matplotlib in c:\\users\\dagri\\anaconda3\\envs\\wikibench\\lib\\site-packages (from -r requirements.txt (line 22)) (3.10.1)\n",
      "Collecting bert-score (from -r requirements.txt (line 23))\n",
      "  Downloading bert_score-0.3.13-py3-none-any.whl.metadata (15 kB)\n",
      "Requirement already satisfied: goose3[all] in c:\\users\\dagri\\anaconda3\\envs\\wikibench\\lib\\site-packages (from -r requirements.txt (line 9)) (3.1.19)\n",
      "Requirement already satisfied: bm25s[full] in c:\\users\\dagri\\anaconda3\\envs\\wikibench\\lib\\site-packages (from -r requirements.txt (line 15)) (0.2.10)\n",
      "Requirement already satisfied: joblib>=1.2.0 in c:\\users\\dagri\\anaconda3\\envs\\wikibench\\lib\\site-packages (from scikit-learn==1.6.1->-r requirements.txt (line 4)) (1.4.2)\n",
      "Requirement already satisfied: threadpoolctl>=3.1.0 in c:\\users\\dagri\\anaconda3\\envs\\wikibench\\lib\\site-packages (from scikit-learn==1.6.1->-r requirements.txt (line 4)) (3.6.0)\n",
      "Requirement already satisfied: charset-normalizer<4,>=2 in c:\\users\\dagri\\anaconda3\\envs\\wikibench\\lib\\site-packages (from requests==2.32.3->-r requirements.txt (line 5)) (2.0.12)\n",
      "Requirement already satisfied: idna<4,>=2.5 in c:\\users\\dagri\\anaconda3\\envs\\wikibench\\lib\\site-packages (from requests==2.32.3->-r requirements.txt (line 5)) (3.10)\n",
      "Requirement already satisfied: urllib3<3,>=1.21.1 in c:\\users\\dagri\\anaconda3\\envs\\wikibench\\lib\\site-packages (from requests==2.32.3->-r requirements.txt (line 5)) (1.26.20)\n",
      "Requirement already satisfied: certifi>=2017.4.17 in c:\\users\\dagri\\anaconda3\\envs\\wikibench\\lib\\site-packages (from requests==2.32.3->-r requirements.txt (line 5)) (2025.1.31)\n",
      "Requirement already satisfied: soupsieve>1.2 in c:\\users\\dagri\\anaconda3\\envs\\wikibench\\lib\\site-packages (from BeautifulSoup4==4.11.1->-r requirements.txt (line 6)) (2.5)\n",
      "Requirement already satisfied: lxml in c:\\users\\dagri\\anaconda3\\envs\\wikibench\\lib\\site-packages (from lxml_html_clean==0.4.1->-r requirements.txt (line 7)) (5.3.1)\n",
      "Requirement already satisfied: Pillow>=3.3.0 in c:\\users\\dagri\\anaconda3\\envs\\wikibench\\lib\\site-packages (from newspaper3k==0.2.8->-r requirements.txt (line 8)) (11.1.0)\n",
      "Requirement already satisfied: PyYAML>=3.11 in c:\\users\\dagri\\anaconda3\\envs\\wikibench\\lib\\site-packages (from newspaper3k==0.2.8->-r requirements.txt (line 8)) (6.0.2)\n",
      "Requirement already satisfied: cssselect>=0.9.2 in c:\\users\\dagri\\anaconda3\\envs\\wikibench\\lib\\site-packages (from newspaper3k==0.2.8->-r requirements.txt (line 8)) (1.2.0)\n",
      "Requirement already satisfied: feedparser>=5.2.1 in c:\\users\\dagri\\anaconda3\\envs\\wikibench\\lib\\site-packages (from newspaper3k==0.2.8->-r requirements.txt (line 8)) (6.0.11)\n",
      "Requirement already satisfied: tldextract>=2.0.1 in c:\\users\\dagri\\anaconda3\\envs\\wikibench\\lib\\site-packages (from newspaper3k==0.2.8->-r requirements.txt (line 8)) (5.1.3)\n",
      "Requirement already satisfied: feedfinder2>=0.0.4 in c:\\users\\dagri\\anaconda3\\envs\\wikibench\\lib\\site-packages (from newspaper3k==0.2.8->-r requirements.txt (line 8)) (0.0.4)\n",
      "Requirement already satisfied: jieba3k>=0.35.1 in c:\\users\\dagri\\anaconda3\\envs\\wikibench\\lib\\site-packages (from newspaper3k==0.2.8->-r requirements.txt (line 8)) (0.35.1)\n",
      "Requirement already satisfied: python-dateutil>=2.5.3 in c:\\users\\dagri\\anaconda3\\envs\\wikibench\\lib\\site-packages (from newspaper3k==0.2.8->-r requirements.txt (line 8)) (2.9.0.post0)\n",
      "Requirement already satisfied: tinysegmenter==0.3 in c:\\users\\dagri\\anaconda3\\envs\\wikibench\\lib\\site-packages (from newspaper3k==0.2.8->-r requirements.txt (line 8)) (0.3)\n",
      "Requirement already satisfied: anyio<5,>=3.5.0 in c:\\users\\dagri\\anaconda3\\envs\\wikibench\\lib\\site-packages (from openai==1.55.3->-r requirements.txt (line 10)) (4.9.0)\n",
      "Requirement already satisfied: distro<2,>=1.7.0 in c:\\users\\dagri\\anaconda3\\envs\\wikibench\\lib\\site-packages (from openai==1.55.3->-r requirements.txt (line 10)) (1.9.0)\n",
      "Requirement already satisfied: jiter<1,>=0.4.0 in c:\\users\\dagri\\anaconda3\\envs\\wikibench\\lib\\site-packages (from openai==1.55.3->-r requirements.txt (line 10)) (0.9.0)\n",
      "Requirement already satisfied: pydantic<3,>=1.9.0 in c:\\users\\dagri\\anaconda3\\envs\\wikibench\\lib\\site-packages (from openai==1.55.3->-r requirements.txt (line 10)) (2.10.6)\n",
      "Requirement already satisfied: sniffio in c:\\users\\dagri\\anaconda3\\envs\\wikibench\\lib\\site-packages (from openai==1.55.3->-r requirements.txt (line 10)) (1.3.1)\n",
      "Requirement already satisfied: typing-extensions<5,>=4.11 in c:\\users\\dagri\\anaconda3\\envs\\wikibench\\lib\\site-packages (from openai==1.55.3->-r requirements.txt (line 10)) (4.13.0)\n",
      "Requirement already satisfied: httpcore==1.* in c:\\users\\dagri\\anaconda3\\envs\\wikibench\\lib\\site-packages (from httpx==0.27.2->-r requirements.txt (line 11)) (1.0.7)\n",
      "Requirement already satisfied: jaxlib<=0.5.2,>=0.5.1 in c:\\users\\dagri\\anaconda3\\envs\\wikibench\\lib\\site-packages (from jax==0.5.2->jax[cpu]==0.5.2->-r requirements.txt (line 17)) (0.5.1)\n",
      "Requirement already satisfied: ml_dtypes>=0.4.0 in c:\\users\\dagri\\anaconda3\\envs\\wikibench\\lib\\site-packages (from jax==0.5.2->jax[cpu]==0.5.2->-r requirements.txt (line 17)) (0.5.1)\n",
      "Requirement already satisfied: opt_einsum in c:\\users\\dagri\\anaconda3\\envs\\wikibench\\lib\\site-packages (from jax==0.5.2->jax[cpu]==0.5.2->-r requirements.txt (line 17)) (3.4.0)\n",
      "Requirement already satisfied: h11<0.15,>=0.13 in c:\\users\\dagri\\anaconda3\\envs\\wikibench\\lib\\site-packages (from httpcore==1.*->httpx==0.27.2->-r requirements.txt (line 11)) (0.14.0)\n",
      "Requirement already satisfied: pytz>=2020.1 in c:\\users\\dagri\\anaconda3\\envs\\wikibench\\lib\\site-packages (from pandas->-r requirements.txt (line 2)) (2025.2)\n",
      "Requirement already satisfied: tzdata>=2022.7 in c:\\users\\dagri\\anaconda3\\envs\\wikibench\\lib\\site-packages (from pandas->-r requirements.txt (line 2)) (2025.1)\n",
      "Requirement already satisfied: langdetect in c:\\users\\dagri\\anaconda3\\envs\\wikibench\\lib\\site-packages (from goose3[all]->-r requirements.txt (line 9)) (1.0.9)\n",
      "Requirement already satisfied: pyahocorasick in c:\\users\\dagri\\anaconda3\\envs\\wikibench\\lib\\site-packages (from goose3[all]->-r requirements.txt (line 9)) (2.1.0)\n",
      "Requirement already satisfied: jieba in c:\\users\\dagri\\anaconda3\\envs\\wikibench\\lib\\site-packages (from goose3[all]->-r requirements.txt (line 9)) (0.42.1)\n",
      "Requirement already satisfied: click in c:\\users\\dagri\\anaconda3\\envs\\wikibench\\lib\\site-packages (from nltk->-r requirements.txt (line 13)) (8.1.8)\n",
      "Requirement already satisfied: regex>=2021.8.3 in c:\\users\\dagri\\anaconda3\\envs\\wikibench\\lib\\site-packages (from nltk->-r requirements.txt (line 13)) (2024.11.6)\n",
      "Requirement already satisfied: orjson in c:\\users\\dagri\\anaconda3\\envs\\wikibench\\lib\\site-packages (from bm25s[full]->-r requirements.txt (line 15)) (3.10.16)\n",
      "Requirement already satisfied: numba in c:\\users\\dagri\\anaconda3\\envs\\wikibench\\lib\\site-packages (from bm25s[full]->-r requirements.txt (line 15)) (0.61.0)\n",
      "Requirement already satisfied: huggingface-hub in c:\\users\\dagri\\anaconda3\\envs\\wikibench\\lib\\site-packages (from bm25s[full]->-r requirements.txt (line 15)) (0.30.1)\n",
      "Requirement already satisfied: black in c:\\users\\dagri\\anaconda3\\envs\\wikibench\\lib\\site-packages (from bm25s[full]->-r requirements.txt (line 15)) (25.1.0)\n",
      "Requirement already satisfied: pytrec-eval in c:\\users\\dagri\\anaconda3\\envs\\wikibench\\lib\\site-packages (from bm25s[full]->-r requirements.txt (line 15)) (0.5)\n",
      "Requirement already satisfied: filelock in c:\\users\\dagri\\anaconda3\\envs\\wikibench\\lib\\site-packages (from datasets->-r requirements.txt (line 16)) (3.17.0)\n",
      "Requirement already satisfied: pyarrow>=15.0.0 in c:\\users\\dagri\\anaconda3\\envs\\wikibench\\lib\\site-packages (from datasets->-r requirements.txt (line 16)) (19.0.1)\n",
      "Requirement already satisfied: dill<0.3.9,>=0.3.0 in c:\\users\\dagri\\anaconda3\\envs\\wikibench\\lib\\site-packages (from datasets->-r requirements.txt (line 16)) (0.3.8)\n",
      "Requirement already satisfied: xxhash in c:\\users\\dagri\\anaconda3\\envs\\wikibench\\lib\\site-packages (from datasets->-r requirements.txt (line 16)) (3.5.0)\n",
      "Requirement already satisfied: multiprocess<0.70.17 in c:\\users\\dagri\\anaconda3\\envs\\wikibench\\lib\\site-packages (from datasets->-r requirements.txt (line 16)) (0.70.16)\n",
      "Requirement already satisfied: fsspec<=2024.12.0,>=2023.1.0 in c:\\users\\dagri\\anaconda3\\envs\\wikibench\\lib\\site-packages (from fsspec[http]<=2024.12.0,>=2023.1.0->datasets->-r requirements.txt (line 16)) (2024.12.0)\n",
      "Requirement already satisfied: aiohttp in c:\\users\\dagri\\anaconda3\\envs\\wikibench\\lib\\site-packages (from datasets->-r requirements.txt (line 16)) (3.11.16)\n",
      "Requirement already satisfied: packaging in c:\\users\\dagri\\anaconda3\\envs\\wikibench\\lib\\site-packages (from datasets->-r requirements.txt (line 16)) (24.2)\n",
      "Requirement already satisfied: colorama in c:\\users\\dagri\\anaconda3\\envs\\wikibench\\lib\\site-packages (from tqdm->-r requirements.txt (line 18)) (0.4.6)\n",
      "Requirement already satisfied: torch>=1.11.0 in c:\\users\\dagri\\anaconda3\\envs\\wikibench\\lib\\site-packages (from sentence-transformers->-r requirements.txt (line 19)) (2.6.0)\n",
      "Requirement already satisfied: psutil in c:\\users\\dagri\\anaconda3\\envs\\wikibench\\lib\\site-packages (from accelerate->-r requirements.txt (line 20)) (7.0.0)\n",
      "Requirement already satisfied: safetensors>=0.4.3 in c:\\users\\dagri\\anaconda3\\envs\\wikibench\\lib\\site-packages (from accelerate->-r requirements.txt (line 20)) (0.5.3)\n",
      "Requirement already satisfied: tokenizers<0.22,>=0.21 in c:\\users\\dagri\\anaconda3\\envs\\wikibench\\lib\\site-packages (from transformers->-r requirements.txt (line 21)) (0.21.1)\n",
      "Requirement already satisfied: contourpy>=1.0.1 in c:\\users\\dagri\\anaconda3\\envs\\wikibench\\lib\\site-packages (from matplotlib->-r requirements.txt (line 22)) (1.3.1)\n",
      "Requirement already satisfied: cycler>=0.10 in c:\\users\\dagri\\anaconda3\\envs\\wikibench\\lib\\site-packages (from matplotlib->-r requirements.txt (line 22)) (0.12.1)\n",
      "Requirement already satisfied: fonttools>=4.22.0 in c:\\users\\dagri\\anaconda3\\envs\\wikibench\\lib\\site-packages (from matplotlib->-r requirements.txt (line 22)) (4.57.0)\n",
      "Requirement already satisfied: kiwisolver>=1.3.1 in c:\\users\\dagri\\anaconda3\\envs\\wikibench\\lib\\site-packages (from matplotlib->-r requirements.txt (line 22)) (1.4.8)\n",
      "Requirement already satisfied: pyparsing>=2.3.1 in c:\\users\\dagri\\anaconda3\\envs\\wikibench\\lib\\site-packages (from matplotlib->-r requirements.txt (line 22)) (3.2.3)\n",
      "Requirement already satisfied: six in c:\\users\\dagri\\anaconda3\\envs\\wikibench\\lib\\site-packages (from feedfinder2>=0.0.4->newspaper3k==0.2.8->-r requirements.txt (line 8)) (1.17.0)\n",
      "Requirement already satisfied: sgmllib3k in c:\\users\\dagri\\anaconda3\\envs\\wikibench\\lib\\site-packages (from feedparser>=5.2.1->newspaper3k==0.2.8->-r requirements.txt (line 8)) (1.0.0)\n",
      "Requirement already satisfied: aiohappyeyeballs>=2.3.0 in c:\\users\\dagri\\anaconda3\\envs\\wikibench\\lib\\site-packages (from aiohttp->datasets->-r requirements.txt (line 16)) (2.6.1)\n",
      "Requirement already satisfied: aiosignal>=1.1.2 in c:\\users\\dagri\\anaconda3\\envs\\wikibench\\lib\\site-packages (from aiohttp->datasets->-r requirements.txt (line 16)) (1.3.2)\n",
      "Requirement already satisfied: attrs>=17.3.0 in c:\\users\\dagri\\anaconda3\\envs\\wikibench\\lib\\site-packages (from aiohttp->datasets->-r requirements.txt (line 16)) (25.3.0)\n",
      "Requirement already satisfied: frozenlist>=1.1.1 in c:\\users\\dagri\\anaconda3\\envs\\wikibench\\lib\\site-packages (from aiohttp->datasets->-r requirements.txt (line 16)) (1.5.0)\n",
      "Requirement already satisfied: multidict<7.0,>=4.5 in c:\\users\\dagri\\anaconda3\\envs\\wikibench\\lib\\site-packages (from aiohttp->datasets->-r requirements.txt (line 16)) (6.2.0)\n",
      "Requirement already satisfied: propcache>=0.2.0 in c:\\users\\dagri\\anaconda3\\envs\\wikibench\\lib\\site-packages (from aiohttp->datasets->-r requirements.txt (line 16)) (0.3.1)\n",
      "Requirement already satisfied: yarl<2.0,>=1.17.0 in c:\\users\\dagri\\anaconda3\\envs\\wikibench\\lib\\site-packages (from aiohttp->datasets->-r requirements.txt (line 16)) (1.18.3)\n",
      "Requirement already satisfied: annotated-types>=0.6.0 in c:\\users\\dagri\\anaconda3\\envs\\wikibench\\lib\\site-packages (from pydantic<3,>=1.9.0->openai==1.55.3->-r requirements.txt (line 10)) (0.7.0)\n",
      "Requirement already satisfied: pydantic-core==2.27.2 in c:\\users\\dagri\\anaconda3\\envs\\wikibench\\lib\\site-packages (from pydantic<3,>=1.9.0->openai==1.55.3->-r requirements.txt (line 10)) (2.27.2)\n",
      "Requirement already satisfied: requests-file>=1.4 in c:\\users\\dagri\\anaconda3\\envs\\wikibench\\lib\\site-packages (from tldextract>=2.0.1->newspaper3k==0.2.8->-r requirements.txt (line 8)) (2.1.0)\n",
      "Requirement already satisfied: networkx in c:\\users\\dagri\\anaconda3\\envs\\wikibench\\lib\\site-packages (from torch>=1.11.0->sentence-transformers->-r requirements.txt (line 19)) (3.4.2)\n",
      "Requirement already satisfied: jinja2 in c:\\users\\dagri\\anaconda3\\envs\\wikibench\\lib\\site-packages (from torch>=1.11.0->sentence-transformers->-r requirements.txt (line 19)) (3.1.6)\n",
      "Requirement already satisfied: setuptools in c:\\users\\dagri\\anaconda3\\envs\\wikibench\\lib\\site-packages (from torch>=1.11.0->sentence-transformers->-r requirements.txt (line 19)) (78.1.0)\n",
      "Requirement already satisfied: sympy==1.13.1 in c:\\users\\dagri\\anaconda3\\envs\\wikibench\\lib\\site-packages (from torch>=1.11.0->sentence-transformers->-r requirements.txt (line 19)) (1.13.1)\n",
      "Requirement already satisfied: mpmath<1.4,>=1.1.0 in c:\\users\\dagri\\anaconda3\\envs\\wikibench\\lib\\site-packages (from sympy==1.13.1->torch>=1.11.0->sentence-transformers->-r requirements.txt (line 19)) (1.3.0)\n",
      "Requirement already satisfied: mypy-extensions>=0.4.3 in c:\\users\\dagri\\anaconda3\\envs\\wikibench\\lib\\site-packages (from black->bm25s[full]->-r requirements.txt (line 15)) (1.0.0)\n",
      "Requirement already satisfied: pathspec>=0.9.0 in c:\\users\\dagri\\anaconda3\\envs\\wikibench\\lib\\site-packages (from black->bm25s[full]->-r requirements.txt (line 15)) (0.12.1)\n",
      "Requirement already satisfied: platformdirs>=2 in c:\\users\\dagri\\anaconda3\\envs\\wikibench\\lib\\site-packages (from black->bm25s[full]->-r requirements.txt (line 15)) (4.3.7)\n",
      "Requirement already satisfied: llvmlite<0.45,>=0.44.0dev0 in c:\\users\\dagri\\anaconda3\\envs\\wikibench\\lib\\site-packages (from numba->bm25s[full]->-r requirements.txt (line 15)) (0.44.0)\n",
      "Requirement already satisfied: MarkupSafe>=2.0 in c:\\users\\dagri\\anaconda3\\envs\\wikibench\\lib\\site-packages (from jinja2->torch>=1.11.0->sentence-transformers->-r requirements.txt (line 19)) (3.0.2)\n",
      "Downloading bert_score-0.3.13-py3-none-any.whl (61 kB)\n",
      "Installing collected packages: bert-score\n",
      "Successfully installed bert-score-0.3.13\n"
     ]
    }
   ],
   "source": [
    "!pip install -r requirements.txt"
   ]
  },
  {
   "cell_type": "code",
   "execution_count": 1,
   "id": "f10fe472-7e94-41f7-843b-5a33f1eb770d",
   "metadata": {},
   "outputs": [],
   "source": [
    "import json\n",
    "import sys\n",
    "import os\n",
    "import re\n",
    "sys.path.append(\"src\")"
   ]
  },
  {
   "cell_type": "code",
   "execution_count": 44,
   "id": "10a4b5ec-3805-4a98-9942-d5b12d1bb298",
   "metadata": {},
   "outputs": [
    {
     "name": "stdout",
     "output_type": "stream",
     "text": [
      "The autoreload extension is already loaded. To reload it, use:\n",
      "  %reload_ext autoreload\n"
     ]
    }
   ],
   "source": [
    "%load_ext autoreload\n",
    "%autoreload 2"
   ]
  },
  {
   "cell_type": "code",
   "execution_count": 89,
   "id": "6664a03f-3846-48ae-8bcc-6377651f84c2",
   "metadata": {
    "scrolled": true
   },
   "outputs": [],
   "source": [
    "%reload_ext autoreload"
   ]
  },
  {
   "cell_type": "code",
   "execution_count": 90,
   "id": "216bea97-a5c3-464b-8015-5d87020be620",
   "metadata": {},
   "outputs": [],
   "source": [
    "from wiki_extract import Extracter\n",
    "from wiki_gen import WikiGen\n",
    "from openai_utils import LlmCompleter, AsyncList\n",
    "from wiki_metrics import WikiEval\n",
    "from wiki_utils import WikiUtils"
   ]
  },
  {
   "cell_type": "code",
   "execution_count": 91,
   "id": "d9b4a312-18dc-4047-acd8-da3ea801094b",
   "metadata": {},
   "outputs": [],
   "source": [
    "def get_article(name, retrieve_sources=False, is_downloaded=False, verbose=False):\n",
    "    print('Article name: ', name)\n",
    "    page = Extracter(name, is_downloaded, verbose)\n",
    "    page.get_references()\n",
    "    page.get_outline()\n",
    "    if retrieve_sources and not is_downloaded:\n",
    "        page.fast_extracter()\n",
    "    if is_downloaded or retrieve_sources:\n",
    "        page.get_filtered_outline()\n",
    "    return page"
   ]
  },
  {
   "cell_type": "code",
   "execution_count": 92,
   "id": "e21955e3-1b7f-4abc-ac9f-e5ca0ccabaf3",
   "metadata": {},
   "outputs": [],
   "source": [
    "article_names = [\n",
    "    'Python',\n",
    "    'Летние Олимпийские игры 2024',\n",
    "    'Квантовый компьютер',\n",
    "    'Присоединение Крыма к Российской Федерации',\n",
    "    'Сколково (инновационный центр)',\n",
    "    'Tomb Raider (игра, 2013)',\n",
    "    'Чёрная дыра',\n",
    "    'Экономика США',\n",
    "    'Искусственный интеллект',\n",
    "    'COVID-19',\n",
    "    'Применение искусственного интеллекта',\n",
    "    'РИА Новости',\n",
    "    'Uncharted 4: A Thief’s End',\n",
    "    'Экономика КНР',\n",
    "    'Экономика Германии',\n",
    "    'Иннополис',\n",
    "    'Летние Олимпийские игры 2020',\n",
    "    'Солнечная система',\n",
    "    'C++',\n",
    "    'Си (язык программирования)',\n",
    "    'Сбербанк России',\n",
    "    'Чёрная смерть',\n",
    "    'Яндекс',\n",
    "    'Google (компания)',\n",
    "    'Большой адронный коллайдер',\n",
    "    'Геморрагическая лихорадка Эбола',\n",
    "    'Вирус иммунодефицита человека',\n",
    "    'Dota 2',\n",
    "    'TikTok',\n",
    "    'Марс',\n",
    "    'YouTube'\n",
    "]"
   ]
  },
  {
   "cell_type": "code",
   "execution_count": 95,
   "id": "dc5d6af4-2f79-4f63-85df-073ff9c88750",
   "metadata": {
    "scrolled": true
   },
   "outputs": [
    {
     "name": "stdout",
     "output_type": "stream",
     "text": [
      "Article name:  Python\n",
      "508\n",
      "Article name:  Летние Олимпийские игры 2024\n",
      "64\n",
      "Article name:  Квантовый компьютер\n",
      "79\n",
      "Article name:  Присоединение Крыма к Российской Федерации\n",
      "116\n",
      "Article name:  Сколково (инновационный центр)\n",
      "455\n",
      "Article name:  Tomb Raider (игра, 2013)\n",
      "208\n",
      "Article name:  Чёрная дыра\n",
      "218\n",
      "Article name:  Экономика США\n",
      "60\n",
      "Article name:  Искусственный интеллект\n",
      "217\n",
      "Article name:  COVID-19\n",
      "533\n",
      "Article name:  Применение искусственного интеллекта\n",
      "370\n",
      "Article name:  РИА Новости\n",
      "83\n",
      "Article name:  Uncharted 4: A Thief’s End\n",
      "49\n",
      "Article name:  Экономика КНР\n",
      "237\n",
      "Article name:  Экономика Германии\n",
      "7\n",
      "Article name:  Иннополис\n",
      "160\n",
      "Article name:  Летние Олимпийские игры 2020\n",
      "49\n",
      "Article name:  Солнечная система\n",
      "211\n",
      "Article name:  C++\n",
      "45\n",
      "Article name:  Си (язык программирования)\n",
      "450\n",
      "Article name:  Сбербанк России\n",
      "192\n",
      "Article name:  Чёрная смерть\n",
      "243\n",
      "Article name:  Яндекс\n",
      "57\n",
      "Article name:  Google (компания)\n",
      "155\n",
      "Article name:  Большой адронный коллайдер\n",
      "44\n",
      "Article name:  Геморрагическая лихорадка Эбола\n",
      "127\n",
      "Article name:  Вирус иммунодефицита человека\n",
      "157\n",
      "Article name:  Dota 2\n",
      "126\n",
      "Article name:  TikTok\n",
      "120\n",
      "Article name:  Марс\n",
      "132\n",
      "Article name:  YouTube\n",
      "65\n"
     ]
    }
   ],
   "source": [
    "for name in article_names:\n",
    "    count = 0\n",
    "    page = get_article(name, False, True)\n",
    "    secs = wiki_evaluater.section_to_snippets(page)\n",
    "    for a, b in secs.items():\n",
    "        count += len(b)\n",
    "    print(count)"
   ]
  },
  {
   "cell_type": "code",
   "execution_count": 12,
   "id": "d258ba51-a187-417e-b5a0-f6c8e053faf7",
   "metadata": {
    "collapsed": true,
    "jupyter": {
     "outputs_hidden": true
    },
    "scrolled": true
   },
   "outputs": [
    {
     "name": "stdout",
     "output_type": "stream",
     "text": [
      "Article name:  Python\n"
     ]
    },
    {
     "name": "stderr",
     "output_type": "stream",
     "text": [
      "Creating outline: 100%|███████████████████████████████████████████████████████████| 208/208 [00:00<00:00, 52016.17it/s]\n"
     ]
    },
    {
     "name": "stdout",
     "output_type": "stream",
     "text": [
      "Article name:  Летние Олимпийские игры 2024\n"
     ]
    },
    {
     "name": "stderr",
     "output_type": "stream",
     "text": [
      "Creating outline: 100%|██████████████████████████████████████████████████████████| 109/109 [00:00<00:00, 104283.56it/s]\n"
     ]
    },
    {
     "name": "stdout",
     "output_type": "stream",
     "text": [
      "Article name:  Квантовый компьютер\n"
     ]
    },
    {
     "name": "stderr",
     "output_type": "stream",
     "text": [
      "Creating outline: 100%|█████████████████████████████████████████████████████████████| 91/91 [00:00<00:00, 45362.69it/s]\n"
     ]
    },
    {
     "name": "stdout",
     "output_type": "stream",
     "text": [
      "Article name:  Присоединение Крыма к Российской Федерации\n"
     ]
    },
    {
     "name": "stderr",
     "output_type": "stream",
     "text": [
      "Creating outline: 100%|█████████████████████████████████████████████████████████████| 84/84 [00:00<00:00, 27993.13it/s]\n"
     ]
    },
    {
     "name": "stdout",
     "output_type": "stream",
     "text": [
      "Article name:  Сколково (инновационный центр)\n"
     ]
    },
    {
     "name": "stderr",
     "output_type": "stream",
     "text": [
      "C:\\Users\\dagri\\anaconda3\\envs\\WIKIbench\\Lib\\site-packages\\bs4\\element.py:1180: RuntimeWarning: coroutine 'WikiGen.process_text' was never awaited\n",
      "  def __init__(self, parser=None, builder=None, name=None, namespace=None,\n",
      "RuntimeWarning: Enable tracemalloc to get the object allocation traceback\n",
      "Creating outline: 100%|███████████████████████████████████████████████████████████| 283/283 [00:00<00:00, 56413.10it/s]\n"
     ]
    },
    {
     "name": "stdout",
     "output_type": "stream",
     "text": [
      "Article name:  Tomb Raider (игра, 2013)\n"
     ]
    },
    {
     "name": "stderr",
     "output_type": "stream",
     "text": [
      "Creating outline: 100%|███████████████████████████████████████████████████████████| 129/129 [00:00<00:00, 24846.86it/s]\n"
     ]
    },
    {
     "name": "stdout",
     "output_type": "stream",
     "text": [
      "Article name:  Чёрная дыра\n"
     ]
    },
    {
     "name": "stderr",
     "output_type": "stream",
     "text": [
      "Creating outline: 100%|███████████████████████████████████████████████████████████| 172/172 [00:00<00:00, 57369.41it/s]\n"
     ]
    },
    {
     "name": "stdout",
     "output_type": "stream",
     "text": [
      "Article name:  Экономика США\n"
     ]
    },
    {
     "name": "stderr",
     "output_type": "stream",
     "text": [
      "Creating outline: 100%|███████████████████████████████████████████████████████████| 148/148 [00:00<00:00, 49435.14it/s]\n"
     ]
    },
    {
     "name": "stdout",
     "output_type": "stream",
     "text": [
      "Article name:  Искусственный интеллект\n"
     ]
    },
    {
     "name": "stderr",
     "output_type": "stream",
     "text": [
      "Creating outline: 100%|███████████████████████████████████████████████████████████| 226/226 [00:00<00:00, 75434.72it/s]\n"
     ]
    },
    {
     "name": "stdout",
     "output_type": "stream",
     "text": [
      "Article name:  COVID-19\n"
     ]
    },
    {
     "name": "stderr",
     "output_type": "stream",
     "text": [
      "Creating outline: 100%|███████████████████████████████████████████████████████████| 191/191 [00:00<00:00, 47625.71it/s]\n"
     ]
    },
    {
     "name": "stdout",
     "output_type": "stream",
     "text": [
      "Article name:  Применение искусственного интеллекта\n"
     ]
    },
    {
     "name": "stderr",
     "output_type": "stream",
     "text": [
      "Creating outline: 100%|███████████████████████████████████████████████████████████| 151/151 [00:00<00:00, 50046.61it/s]\n"
     ]
    },
    {
     "name": "stdout",
     "output_type": "stream",
     "text": [
      "Article name:  РИА Новости\n"
     ]
    },
    {
     "name": "stderr",
     "output_type": "stream",
     "text": [
      "Creating outline: 100%|██████████████████████████████████████████████████████████| 102/102 [00:00<00:00, 102275.64it/s]\n"
     ]
    },
    {
     "name": "stdout",
     "output_type": "stream",
     "text": [
      "Article name:  Uncharted 4: A Thief’s End\n"
     ]
    },
    {
     "name": "stderr",
     "output_type": "stream",
     "text": [
      "Creating outline: 100%|█████████████████████████████████████████████████████████████| 56/56 [00:00<00:00, 93429.21it/s]\n"
     ]
    },
    {
     "name": "stdout",
     "output_type": "stream",
     "text": [
      "Article name:  Экономика КНР\n"
     ]
    },
    {
     "name": "stderr",
     "output_type": "stream",
     "text": [
      "Creating outline: 100%|███████████████████████████████████████████████████████████| 226/226 [00:00<00:00, 45300.49it/s]\n"
     ]
    },
    {
     "name": "stdout",
     "output_type": "stream",
     "text": [
      "Article name:  Экономика Германии\n"
     ]
    },
    {
     "name": "stderr",
     "output_type": "stream",
     "text": [
      "Creating outline: 100%|███████████████████████████████████████████████████████████| 151/151 [00:00<00:00, 74005.60it/s]\n"
     ]
    },
    {
     "name": "stdout",
     "output_type": "stream",
     "text": [
      "Article name:  Иннополис\n"
     ]
    },
    {
     "name": "stderr",
     "output_type": "stream",
     "text": [
      "Creating outline: 100%|█████████████████████████████████████████████████████████████| 84/84 [00:00<00:00, 44637.21it/s]\n"
     ]
    },
    {
     "name": "stdout",
     "output_type": "stream",
     "text": [
      "Article name:  Летние Олимпийские игры 2020\n"
     ]
    },
    {
     "name": "stderr",
     "output_type": "stream",
     "text": [
      "Creating outline: 100%|█████████████████████████████████████████████████████████████| 52/52 [00:00<00:00, 51488.15it/s]\n"
     ]
    },
    {
     "name": "stdout",
     "output_type": "stream",
     "text": [
      "Article name:  Солнечная система\n"
     ]
    },
    {
     "name": "stderr",
     "output_type": "stream",
     "text": [
      "Creating outline: 100%|███████████████████████████████████████████████████████████| 155/155 [00:00<00:00, 37927.61it/s]\n"
     ]
    },
    {
     "name": "stdout",
     "output_type": "stream",
     "text": [
      "Article name:  C++\n"
     ]
    },
    {
     "name": "stderr",
     "output_type": "stream",
     "text": [
      "Creating outline: 100%|███████████████████████████████████████████████████████████| 184/184 [00:00<00:00, 61230.72it/s]\n"
     ]
    },
    {
     "name": "stdout",
     "output_type": "stream",
     "text": [
      "Article name:  Си (язык программирования)\n"
     ]
    },
    {
     "name": "stderr",
     "output_type": "stream",
     "text": [
      "Creating outline: 100%|███████████████████████████████████████████████████████████| 223/223 [00:00<00:00, 55783.97it/s]\n"
     ]
    },
    {
     "name": "stdout",
     "output_type": "stream",
     "text": [
      "Article name:  Сбербанк России\n"
     ]
    },
    {
     "name": "stderr",
     "output_type": "stream",
     "text": [
      "Creating outline: 100%|███████████████████████████████████████████████████████████| 177/177 [00:00<00:00, 58999.59it/s]\n"
     ]
    },
    {
     "name": "stdout",
     "output_type": "stream",
     "text": [
      "Article name:  Чёрная смерть\n"
     ]
    },
    {
     "name": "stderr",
     "output_type": "stream",
     "text": [
      "Creating outline: 100%|███████████████████████████████████████████████████████████| 275/275 [00:00<00:00, 39301.95it/s]\n"
     ]
    },
    {
     "name": "stdout",
     "output_type": "stream",
     "text": [
      "Article name:  Яндекс\n"
     ]
    },
    {
     "name": "stderr",
     "output_type": "stream",
     "text": [
      "Creating outline: 100%|██████████████████████████████████████████████████████████| 105/105 [00:00<00:00, 105359.31it/s]\n"
     ]
    },
    {
     "name": "stdout",
     "output_type": "stream",
     "text": [
      "Article name:  Google (компания)\n"
     ]
    },
    {
     "name": "stderr",
     "output_type": "stream",
     "text": [
      "Creating outline: 100%|███████████████████████████████████████████████████████████| 142/142 [00:00<00:00, 47004.27it/s]\n"
     ]
    },
    {
     "name": "stdout",
     "output_type": "stream",
     "text": [
      "Article name:  Большой адронный коллайдер\n"
     ]
    },
    {
     "name": "stderr",
     "output_type": "stream",
     "text": [
      "Creating outline: 100%|█████████████████████████████████████████████████████████████| 88/88 [00:00<00:00, 42963.42it/s]\n"
     ]
    },
    {
     "name": "stdout",
     "output_type": "stream",
     "text": [
      "Article name:  Геморрагическая лихорадка Эбола\n"
     ]
    },
    {
     "name": "stderr",
     "output_type": "stream",
     "text": [
      "Creating outline: 100%|█████████████████████████████████████████████████████████████| 86/86 [00:00<00:00, 42951.91it/s]\n"
     ]
    },
    {
     "name": "stdout",
     "output_type": "stream",
     "text": [
      "Article name:  Вирус иммунодефицита человека\n"
     ]
    },
    {
     "name": "stderr",
     "output_type": "stream",
     "text": [
      "Creating outline: 100%|███████████████████████████████████████████████████████████| 124/124 [00:00<00:00, 40788.46it/s]\n"
     ]
    },
    {
     "name": "stdout",
     "output_type": "stream",
     "text": [
      "Article name:  Dota 2\n"
     ]
    },
    {
     "name": "stderr",
     "output_type": "stream",
     "text": [
      "Creating outline: 100%|█████████████████████████████████████████████████████████████| 43/43 [00:00<00:00, 44313.29it/s]\n"
     ]
    },
    {
     "name": "stdout",
     "output_type": "stream",
     "text": [
      "Article name:  TikTok\n"
     ]
    },
    {
     "name": "stderr",
     "output_type": "stream",
     "text": [
      "Creating outline: 100%|███████████████████████████████████████████████████████████| 142/142 [00:00<00:00, 69880.46it/s]\n"
     ]
    },
    {
     "name": "stdout",
     "output_type": "stream",
     "text": [
      "Article name:  Марс\n"
     ]
    },
    {
     "name": "stderr",
     "output_type": "stream",
     "text": [
      "Creating outline: 100%|███████████████████████████████████████████████████████████| 200/200 [00:00<00:00, 50054.35it/s]\n"
     ]
    },
    {
     "name": "stdout",
     "output_type": "stream",
     "text": [
      "Article name:  YouTube\n"
     ]
    },
    {
     "name": "stderr",
     "output_type": "stream",
     "text": [
      "Creating outline: 100%|███████████████████████████████████████████████████████████| 104/104 [00:00<00:00, 52028.58it/s]\n"
     ]
    }
   ],
   "source": [
    "client = LlmCompleter(api_address=URL, api_key=KEY, model_name='llama3-70b')\n",
    "wiki_writer = WikiGen(client)\n",
    "annotations = AsyncList()\n",
    "\n",
    "pages = [get_article(name) for name in article_names]\n",
    "\n",
    "for page in pages:\n",
    "    annotations.append(wiki_writer.get_ref_subqueries(page))\n",
    "    annotations.append(wiki_writer.get_ref_subqueries(page, 1))\n",
    "\n",
    "await annotations.complete_couroutines(batch_size=40)\n",
    "annotations = await annotations.to_list()"
   ]
  },
  {
   "cell_type": "code",
   "execution_count": 13,
   "id": "cd9e40d3-ceb3-4db5-9898-9cb99f19d142",
   "metadata": {},
   "outputs": [],
   "source": [
    "dir_name = os.path.join(\"Generation\", \"Subqueries_ref\", \"Annotations\")\n",
    "for i in range(0, len(annotations), 2):\n",
    "    name = re.sub(r'[<>:\"/\\\\|?*]', '', annotations[i][0])\n",
    "    file_name = os.path.join(dir_name, name + '.txt')\n",
    "    with open(file_name, 'w', encoding='utf-8') as f:\n",
    "        f.write(annotations[i][1] + \"\\n\")\n",
    "        f.write(annotations[i + 1][1])"
   ]
  },
  {
   "cell_type": "code",
   "execution_count": 46,
   "id": "9487f010-345b-4417-8423-7ccdba6298c3",
   "metadata": {},
   "outputs": [],
   "source": [
    "%reload_ext autoreload"
   ]
  },
  {
   "cell_type": "code",
   "execution_count": null,
   "id": "ce64aee5-17fa-478c-9005-2588d0088180",
   "metadata": {},
   "outputs": [],
   "source": [
    "'''\n",
    "for path in leaf_paths:\n",
    "    answer.append(wiki_writer.get_ref_subqueries(page.name, path))\n",
    "\n",
    "await answer.complete_couroutines(batch_size=25)\n",
    "answer = await answer.to_list()\n",
    "\n",
    "\n",
    "for i, json_str in enumerate(answer):\n",
    "    if json_str:\n",
    "        try:\n",
    "            if json_str.startswith('`'):\n",
    "                json_str = json_str[7:-3]\n",
    "            data = json.loads(json_str)\n",
    "            directory = os.path.join(\"Generation\", \"Subqueries_ref\", page.name)\n",
    "            os.makedirs(directory, exist_ok=True)\n",
    "            filename = page.name.replace(\" \", \"_\") + '_' + str(i) + '.json'\n",
    "            file_path = os.path.join(directory, filename)\n",
    "            with open(file_path, \"w\", encoding=\"utf-8\") as f:\n",
    "                json.dump(data, f, ensure_ascii=False, indent=2)\n",
    "        except:\n",
    "            print(f\"Пропущен некорректный JSON: {json_str}...\")\n",
    "            continue\n",
    "'''"
   ]
  },
  {
   "cell_type": "code",
   "execution_count": 22,
   "id": "740d953e-4b89-407d-9551-c7d8371bac00",
   "metadata": {},
   "outputs": [],
   "source": [
    "texts = []\n",
    "for subdir, _, files in os.walk(r'Generation\\Subqueries_ref\\Annotations'):\n",
    "    for file in files:\n",
    "        if file.endswith(\".txt\"):\n",
    "            file_path = os.path.join(subdir, file)\n",
    "            with open(file_path, \"r\", encoding=\"utf-8\") as f:\n",
    "                text = f.read()\n",
    "                texts.append((text, file_path))"
   ]
  },
  {
   "cell_type": "code",
   "execution_count": 23,
   "id": "b8f53a60-7a57-4685-b917-7c1521c17e01",
   "metadata": {},
   "outputs": [
    {
     "name": "stdout",
     "output_type": "stream",
     "text": [
      "C++\n"
     ]
    }
   ],
   "source": [
    "print(texts[0][1].split('\\\\')[-1].split('.')[0])"
   ]
  },
  {
   "cell_type": "code",
   "execution_count": 23,
   "id": "996ca726-3d01-4a26-80be-cd194599788e",
   "metadata": {
    "collapsed": true,
    "editable": true,
    "jupyter": {
     "outputs_hidden": true
    },
    "scrolled": true,
    "slideshow": {
     "slide_type": ""
    },
    "tags": []
   },
   "outputs": [
    {
     "name": "stderr",
     "output_type": "stream",
     "text": [
      "Default prompt name is set to 'Classification'. This prompt will be applied to all `encode()` calls, except if `encode()` is called with `prompt` or `prompt_name` parameters.\n"
     ]
    },
    {
     "name": "stdout",
     "output_type": "stream",
     "text": [
      "('C++', 57)\n"
     ]
    },
    {
     "data": {
      "application/vnd.jupyter.widget-view+json": {
       "model_id": "440182b5b86c458f90b49bac9bd3e805",
       "version_major": 2,
       "version_minor": 0
      },
      "text/plain": [
       "Split strings:   0%|          | 0/1 [00:00<?, ?it/s]"
      ]
     },
     "metadata": {},
     "output_type": "display_data"
    },
    {
     "data": {
      "application/vnd.jupyter.widget-view+json": {
       "model_id": "bc6003cfdc0840d888dbc76b827551b9",
       "version_major": 2,
       "version_minor": 0
      },
      "text/plain": [
       "Stem Tokens:   0%|          | 0/1 [00:00<?, ?it/s]"
      ]
     },
     "metadata": {},
     "output_type": "display_data"
    },
    {
     "data": {
      "application/vnd.jupyter.widget-view+json": {
       "model_id": "3bc4be72d0df421db1f61a1893444596",
       "version_major": 2,
       "version_minor": 0
      },
      "text/plain": [
       "BM25S Retrieve:   0%|          | 0/1 [00:00<?, ?it/s]"
      ]
     },
     "metadata": {},
     "output_type": "display_data"
    },
    {
     "name": "stdout",
     "output_type": "stream",
     "text": [
      "C++\n",
      "простых задач, если сравнить полученный код с кодом на C++ и C. Вывод, который я сделал (в 1980 или около того), заключался в том, что универсальный язык программирования должен опираться на несколько парадигм и что каждая парадигма должна быть поддержана хорошо: с близкой к оптимальной пространственной и временной эффективностью. Подводя итог, я нахожу, что принятие новых идей было серьезно замедлено консерватизмом, опирающимся на мифы о сложности и непроизводительных затратах. Другая проблема в том, что многие люди, включая программистов, педагогов, и администраторов, просто не понимают сложности процесса разработки программного обеспечения. Они мечтают о \"серебряных пулях\" и отклоняют эффективные идеи потому, что они не точны и нетривиальны, чтобы использоваться новичками. Это ведет к реальной работе, сделанной с использованим излишне старых языков, инструментальных средств, и методов, несмотря на то, что эти причуды ведут к непроизводительным затратам. Эта же недооценка проблем также ведет всякий раз к поиску новой \"серебряной пули\" что является сильным упрощением суровостей реальной разработки программного обеспечения. И если проект, построенный таким образом, приходится адаптировать к новым реальностям, то он становится уязвимым к критическим ошибкам. Это ведет к поиску следующей \"серебряной пули\". Вернемся к полутехническому замечанию: я думаю, что любой язык, который стремится к господствующему положению во всех областях, должен обеспечить широкую основу для нескольких методов, включая объектно-ориентированное программирование (на основе иерархии классов) и обобщенное программирование (параметризированные типы и алгоритмы). В частности, необходимо обеспечить хорошие средства для создания программ из отдельных (независимых) частей (возможно, написанных на различных языках). Я также думаю, что для управления сложным процессом обработки ошибок необходимы исключения. Язык, в котором отсутствуют такие средства вынуждает его пользователей моделировать их (что ведет к дополнительным ошибкам и затратам). LinuxWorld.com: Какие важные тенденции в программировании мы увидим в ближайшем будущем? Какова роль функционального программирования, программирования на основе правил, обобщенного программирования, и других парадигм в мире программирования завтрашнего дня? Может что-либо из них стать\n",
      "171\n"
     ]
    },
    {
     "ename": "TypeError",
     "evalue": "cannot unpack non-iterable NoneType object",
     "output_type": "error",
     "traceback": [
      "\u001b[31m---------------------------------------------------------------------------\u001b[39m",
      "\u001b[31mTypeError\u001b[39m                                 Traceback (most recent call last)",
      "\u001b[36mCell\u001b[39m\u001b[36m \u001b[39m\u001b[32mIn[23]\u001b[39m\u001b[32m, line 28\u001b[39m\n\u001b[32m     25\u001b[39m \u001b[38;5;28mprint\u001b[39m(topR[\u001b[32m0\u001b[39m])\n\u001b[32m     27\u001b[39m \u001b[38;5;28;01mfor\u001b[39;00m (annotation, path), (_, topK) \u001b[38;5;129;01min\u001b[39;00m \u001b[38;5;28mzip\u001b[39m(texts, topR):\n\u001b[32m---> \u001b[39m\u001b[32m28\u001b[39m     ndcg, pr_r_score = \u001b[38;5;28;01mawait\u001b[39;00m wiki_evaluater.rank_one_query(annotation, \u001b[32m3\u001b[39m*topK, path.split(\u001b[33m'\u001b[39m\u001b[38;5;130;01m\\\\\u001b[39;00m\u001b[33m'\u001b[39m)[-\u001b[32m1\u001b[39m].split(\u001b[33m'\u001b[39m\u001b[33m.\u001b[39m\u001b[33m'\u001b[39m)[\u001b[32m0\u001b[39m])\n\u001b[32m     29\u001b[39m     \u001b[38;5;28mprint\u001b[39m(path.split(\u001b[33m'\u001b[39m\u001b[38;5;130;01m\\\\\u001b[39;00m\u001b[33m'\u001b[39m)[-\u001b[32m1\u001b[39m].split(\u001b[33m'\u001b[39m\u001b[33m.\u001b[39m\u001b[33m'\u001b[39m)[\u001b[32m0\u001b[39m])\n\u001b[32m     30\u001b[39m     \u001b[38;5;28mprint\u001b[39m(\u001b[33m\"\u001b[39m\u001b[33mNdcg: \u001b[39m\u001b[33m\"\u001b[39m, \u001b[38;5;28mround\u001b[39m(ndcg, \u001b[32m2\u001b[39m))\n",
      "\u001b[31mTypeError\u001b[39m: cannot unpack non-iterable NoneType object"
     ]
    }
   ],
   "source": [
    "\n",
    "client = LlmCompleter(api_address=URL, api_key=KEY, model_name='llama3-70b')\n",
    "wiki_writer = WikiGen(client)\n",
    "wiki_evaluater = WikiEval(wiki_writer, True)\n",
    "\n",
    "texts = []\n",
    "for subdir, _, files in os.walk(r'Generation\\Subqueries_ref\\Annotations'):\n",
    "    for file in files:\n",
    "        if file.endswith(\".txt\"):\n",
    "            file_path = os.path.join(subdir, file)\n",
    "            with open(file_path, \"r\", encoding=\"utf-8\") as f:\n",
    "                text = f.read()\n",
    "                texts.append((text, file_path))\n",
    "\n",
    "base_dir = os.path.join('Articles', 'Sources')\n",
    "\n",
    "folders = [f for f in os.listdir(base_dir) if os.path.isdir(os.path.join(base_dir, f))]\n",
    "\n",
    "snippets = wiki_evaluater.get_texts_from_disk()\n",
    "topR = []\n",
    "for folder in folders:\n",
    "    snip = [1 if snippet[0].split(\"\\\\\")[-2] == folder else 0 for snippet in snippets.keys()]\n",
    "    topR.append((folder, sum(snip)))\n",
    "print(topR[0])\n",
    "\n",
    "for (annotation, path), (_, topK) in zip(texts, topR):\n",
    "    ndcg, pr_r_score = await wiki_evaluater.rank_one_query(annotation, 3*topK, path.split('\\\\')[-1].split('.')[0])\n",
    "    print(path.split('\\\\')[-1].split('.')[0])\n",
    "    print(\"Ndcg: \", round(ndcg, 2))\n",
    "    print(\"R-precision: \", round(pr_r_score, 2))\n",
    "    break"
   ]
  },
  {
   "cell_type": "code",
   "execution_count": 13,
   "id": "b12a074f-24fc-45a5-90f4-f5b5835f6ad1",
   "metadata": {},
   "outputs": [
    {
     "name": "stderr",
     "output_type": "stream",
     "text": [
      "Default prompt name is set to 'Classification'. This prompt will be applied to all `encode()` calls, except if `encode()` is called with `prompt` or `prompt_name` parameters.\n"
     ]
    }
   ],
   "source": [
    "client = LlmCompleter(api_address=URL, api_key=KEY, model_name='llama3-70b')\n",
    "wiki_writer = WikiGen(client)\n",
    "wiki_evaluater = WikiEval(wiki_writer, True)\n",
    "for name in article_names:\n",
    "    wiki_evaluater.get_embeddings(name)"
   ]
  },
  {
   "cell_type": "code",
   "execution_count": 21,
   "id": "4cc1a5c2-0f06-4bf1-9044-0566f2629a78",
   "metadata": {
    "scrolled": true
   },
   "outputs": [
    {
     "name": "stdout",
     "output_type": "stream",
     "text": [
      "Article name:  Python\n"
     ]
    },
    {
     "name": "stderr",
     "output_type": "stream",
     "text": [
      "Creating outline: 100%|███████████████████████████████████████████████████████████| 208/208 [00:00<00:00, 39694.93it/s]\n",
      "Getting link numbers: 100%|█████████████████████████████████████████████████████████| 195/195 [00:01<00:00, 148.21it/s]\n",
      "Calculating reference positions: 100%|██████████████████████████████████████████████| 54/54 [00:00<00:00, 53696.64it/s]\n"
     ]
    },
    {
     "name": "stdout",
     "output_type": "stream",
     "text": [
      "BERTScore Precision: 0.7675\n",
      "BERTScore Recall:    0.7159\n",
      "BERTScore F1:        0.7408\n",
      "\n",
      "Article name:  Летние Олимпийские игры 2024\n"
     ]
    },
    {
     "name": "stderr",
     "output_type": "stream",
     "text": [
      "Creating outline: 100%|██████████████████████████████████████████████████████████| 109/109 [00:00<00:00, 109033.90it/s]\n",
      "Getting link numbers: 100%|███████████████████████████████████████████████████████████| 96/96 [00:00<00:00, 297.70it/s]\n",
      "Calculating reference positions: 100%|██████████████████████████████████████████████| 32/32 [00:00<00:00, 31707.47it/s]\n"
     ]
    },
    {
     "name": "stdout",
     "output_type": "stream",
     "text": [
      "BERTScore Precision: 0.6329\n",
      "BERTScore Recall:    0.6278\n",
      "BERTScore F1:        0.6303\n",
      "\n",
      "Article name:  Квантовый компьютер\n"
     ]
    },
    {
     "name": "stderr",
     "output_type": "stream",
     "text": [
      "Creating outline: 100%|█████████████████████████████████████████████████████████████| 91/91 [00:00<00:00, 46450.25it/s]\n",
      "Getting link numbers: 100%|███████████████████████████████████████████████████████████| 62/62 [00:00<00:00, 407.56it/s]\n",
      "Calculating reference positions: 100%|█████████████████████████████████████████████████████████| 16/16 [00:00<?, ?it/s]\n"
     ]
    },
    {
     "name": "stdout",
     "output_type": "stream",
     "text": [
      "BERTScore Precision: 0.8234\n",
      "BERTScore Recall:    0.6833\n",
      "BERTScore F1:        0.7469\n",
      "\n",
      "Article name:  Присоединение Крыма к Российской Федерации\n"
     ]
    },
    {
     "name": "stderr",
     "output_type": "stream",
     "text": [
      "Creating outline: 100%|█████████████████████████████████████████████████████████████| 84/84 [00:00<00:00, 42540.63it/s]\n",
      "Getting link numbers: 100%|██████████████████████████████████████████████████████████| 36/36 [00:00<00:00, 1081.26it/s]\n",
      "Calculating reference positions: 100%|█████████████████████████████████████████████████████████| 22/22 [00:00<?, ?it/s]\n"
     ]
    },
    {
     "name": "stdout",
     "output_type": "stream",
     "text": [
      "BERTScore Precision: 0.6497\n",
      "BERTScore Recall:    0.6251\n",
      "BERTScore F1:        0.6372\n",
      "\n",
      "Article name:  Сколково (инновационный центр)\n"
     ]
    },
    {
     "name": "stderr",
     "output_type": "stream",
     "text": [
      "Creating outline: 100%|███████████████████████████████████████████████████████████| 283/283 [00:00<00:00, 50450.02it/s]\n",
      "Getting link numbers: 100%|█████████████████████████████████████████████████████████| 257/257 [00:01<00:00, 142.38it/s]\n",
      "Calculating reference positions: 100%|██████████████████████████████████████████████| 60/60 [00:00<00:00, 59818.93it/s]\n"
     ]
    },
    {
     "name": "stdout",
     "output_type": "stream",
     "text": [
      "BERTScore Precision: 0.6891\n",
      "BERTScore Recall:    0.6003\n",
      "BERTScore F1:        0.6416\n",
      "\n",
      "Article name:  Tomb Raider (игра, 2013)\n"
     ]
    },
    {
     "name": "stderr",
     "output_type": "stream",
     "text": [
      "Creating outline: 100%|███████████████████████████████████████████████████████████| 129/129 [00:00<00:00, 24438.36it/s]\n",
      "Getting link numbers: 100%|██████████████████████████████████████████████████████████| 270/270 [00:03<00:00, 73.81it/s]\n",
      "Calculating reference positions: 100%|██████████████████████████████████████████████| 33/33 [00:00<00:00, 61271.37it/s]\n"
     ]
    },
    {
     "name": "stdout",
     "output_type": "stream",
     "text": [
      "BERTScore Precision: 0.7748\n",
      "BERTScore Recall:    0.7210\n",
      "BERTScore F1:        0.7470\n",
      "\n",
      "Article name:  Чёрная дыра\n"
     ]
    },
    {
     "name": "stderr",
     "output_type": "stream",
     "text": [
      "Creating outline: 100%|███████████████████████████████████████████████████████████| 172/172 [00:00<00:00, 33874.27it/s]\n",
      "Getting link numbers: 100%|█████████████████████████████████████████████████████████| 104/104 [00:00<00:00, 231.75it/s]\n",
      "Calculating reference positions: 100%|██████████████████████████████████████████████| 50/50 [00:00<00:00, 92304.23it/s]\n"
     ]
    },
    {
     "name": "stdout",
     "output_type": "stream",
     "text": [
      "BERTScore Precision: 0.6968\n",
      "BERTScore Recall:    0.7395\n",
      "BERTScore F1:        0.7175\n",
      "\n",
      "Article name:  Экономика США\n"
     ]
    },
    {
     "name": "stderr",
     "output_type": "stream",
     "text": [
      "Creating outline: 100%|███████████████████████████████████████████████████████████| 148/148 [00:00<00:00, 49262.52it/s]\n",
      "Getting link numbers: 100%|███████████████████████████████████████████████████████████| 93/93 [00:00<00:00, 336.59it/s]\n",
      "Calculating reference positions: 100%|█████████████████████████████████████████████████████████| 30/30 [00:00<?, ?it/s]\n"
     ]
    },
    {
     "name": "stdout",
     "output_type": "stream",
     "text": [
      "BERTScore Precision: 0.7105\n",
      "BERTScore Recall:    0.6833\n",
      "BERTScore F1:        0.6966\n",
      "\n",
      "Article name:  Искусственный интеллект\n"
     ]
    },
    {
     "name": "stderr",
     "output_type": "stream",
     "text": [
      "Creating outline: 100%|███████████████████████████████████████████████████████████| 226/226 [00:00<00:00, 54359.03it/s]\n",
      "Getting link numbers: 100%|█████████████████████████████████████████████████████████| 106/106 [00:00<00:00, 340.59it/s]\n",
      "Calculating reference positions: 100%|█████████████████████████████████████████████| 61/61 [00:00<00:00, 113209.09it/s]\n"
     ]
    },
    {
     "name": "stdout",
     "output_type": "stream",
     "text": [
      "BERTScore Precision: 0.7543\n",
      "BERTScore Recall:    0.6968\n",
      "BERTScore F1:        0.7244\n",
      "\n",
      "Article name:  COVID-19\n"
     ]
    },
    {
     "name": "stderr",
     "output_type": "stream",
     "text": [
      "Creating outline: 100%|███████████████████████████████████████████████████████████| 191/191 [00:00<00:00, 52941.58it/s]\n",
      "Getting link numbers: 100%|█████████████████████████████████████████████████████████| 257/257 [00:02<00:00, 119.32it/s]\n",
      "Calculating reference positions: 100%|█████████████████████████████████████████████| 54/54 [00:00<00:00, 104086.59it/s]\n"
     ]
    },
    {
     "name": "stdout",
     "output_type": "stream",
     "text": [
      "BERTScore Precision: 0.7196\n",
      "BERTScore Recall:    0.7420\n",
      "BERTScore F1:        0.7306\n",
      "\n",
      "Article name:  Применение искусственного интеллекта\n"
     ]
    },
    {
     "name": "stderr",
     "output_type": "stream",
     "text": [
      "Creating outline: 100%|███████████████████████████████████████████████████████████| 151/151 [00:00<00:00, 56432.32it/s]\n",
      "Getting link numbers: 100%|█████████████████████████████████████████████████████████| 224/224 [00:01<00:00, 186.37it/s]\n",
      "Calculating reference positions: 100%|█████████████████████████████████████████████████████████| 46/46 [00:00<?, ?it/s]\n"
     ]
    },
    {
     "name": "stdout",
     "output_type": "stream",
     "text": [
      "BERTScore Precision: 0.7281\n",
      "BERTScore Recall:    0.6810\n",
      "BERTScore F1:        0.7038\n",
      "\n",
      "Article name:  РИА Новости\n"
     ]
    },
    {
     "name": "stderr",
     "output_type": "stream",
     "text": [
      "Creating outline: 100%|██████████████████████████████████████████████████████████| 102/102 [00:00<00:00, 101234.98it/s]\n",
      "Getting link numbers: 100%|███████████████████████████████████████████████████████████| 83/83 [00:00<00:00, 565.80it/s]\n",
      "Calculating reference positions: 100%|█████████████████████████████████████████████████████████| 29/29 [00:00<?, ?it/s]\n"
     ]
    },
    {
     "name": "stdout",
     "output_type": "stream",
     "text": [
      "BERTScore Precision: 0.7488\n",
      "BERTScore Recall:    0.6839\n",
      "BERTScore F1:        0.7148\n",
      "\n",
      "Article name:  Uncharted 4: A Thief’s End\n"
     ]
    },
    {
     "name": "stderr",
     "output_type": "stream",
     "text": [
      "Creating outline: 100%|█████████████████████████████████████████████████████████████| 56/56 [00:00<00:00, 55553.70it/s]\n",
      "Getting link numbers: 100%|███████████████████████████████████████████████████████████| 78/78 [00:00<00:00, 535.14it/s]\n",
      "Calculating reference positions: 100%|███████████████████████████████████████████████████████████| 9/9 [00:00<?, ?it/s]\n"
     ]
    },
    {
     "name": "stdout",
     "output_type": "stream",
     "text": [
      "BERTScore Precision: 0.7891\n",
      "BERTScore Recall:    0.8649\n",
      "BERTScore F1:        0.8252\n",
      "\n",
      "Article name:  Экономика КНР\n"
     ]
    },
    {
     "name": "stderr",
     "output_type": "stream",
     "text": [
      "Creating outline: 100%|███████████████████████████████████████████████████████████| 226/226 [00:00<00:00, 45220.53it/s]\n",
      "Getting link numbers: 100%|█████████████████████████████████████████████████████████| 172/172 [00:00<00:00, 175.65it/s]\n",
      "Calculating reference positions: 100%|██████████████████████████████████████████████| 57/57 [00:00<00:00, 56094.63it/s]\n"
     ]
    },
    {
     "name": "stdout",
     "output_type": "stream",
     "text": [
      "BERTScore Precision: 0.7128\n",
      "BERTScore Recall:    0.6747\n",
      "BERTScore F1:        0.6932\n",
      "\n",
      "Article name:  Экономика Германии\n"
     ]
    },
    {
     "name": "stderr",
     "output_type": "stream",
     "text": [
      "Creating outline: 100%|███████████████████████████████████████████████████████████| 151/151 [00:00<00:00, 75156.03it/s]\n",
      "Getting link numbers: 100%|███████████████████████████████████████████████████████████| 42/42 [00:00<00:00, 332.08it/s]\n",
      "Calculating reference positions: 100%|██████████████████████████████████████████████| 36/36 [00:00<00:00, 36192.46it/s]\n"
     ]
    },
    {
     "name": "stdout",
     "output_type": "stream",
     "text": [
      "BERTScore Precision: 0.8064\n",
      "BERTScore Recall:    0.7475\n",
      "BERTScore F1:        0.7758\n",
      "\n",
      "Article name:  Иннополис\n"
     ]
    },
    {
     "name": "stderr",
     "output_type": "stream",
     "text": [
      "Creating outline: 100%|█████████████████████████████████████████████████████████████| 84/84 [00:00<00:00, 43913.94it/s]\n",
      "Getting link numbers: 100%|█████████████████████████████████████████████████████████| 104/104 [00:00<00:00, 374.56it/s]\n",
      "Calculating reference positions: 100%|█████████████████████████████████████████████████████████| 25/25 [00:00<?, ?it/s]\n"
     ]
    },
    {
     "name": "stdout",
     "output_type": "stream",
     "text": [
      "BERTScore Precision: 0.7829\n",
      "BERTScore Recall:    0.7168\n",
      "BERTScore F1:        0.7484\n",
      "\n",
      "Article name:  Летние Олимпийские игры 2020\n"
     ]
    },
    {
     "name": "stderr",
     "output_type": "stream",
     "text": [
      "Creating outline: 100%|█████████████████████████████████████████████████████████████| 52/52 [00:00<00:00, 50277.50it/s]\n",
      "Getting link numbers: 100%|█████████████████████████████████████████████████████████| 103/103 [00:00<00:00, 272.69it/s]\n",
      "Calculating reference positions: 100%|██████████████████████████████████████████████| 14/14 [00:00<00:00, 19152.07it/s]\n"
     ]
    },
    {
     "name": "stdout",
     "output_type": "stream",
     "text": [
      "Couldn't get the answer\n",
      "BERTScore Precision: 0.6131\n",
      "BERTScore Recall:    0.5879\n",
      "BERTScore F1:        0.6003\n",
      "\n",
      "Article name:  Солнечная система\n"
     ]
    },
    {
     "name": "stderr",
     "output_type": "stream",
     "text": [
      "Creating outline: 100%|███████████████████████████████████████████████████████████| 155/155 [00:00<00:00, 39118.91it/s]\n",
      "Getting link numbers: 100%|███████████████████████████████████████████████████████████| 99/99 [00:00<00:00, 204.11it/s]\n",
      "Calculating reference positions: 100%|█████████████████████████████████████████████████████████| 47/47 [00:00<?, ?it/s]\n"
     ]
    },
    {
     "name": "stdout",
     "output_type": "stream",
     "text": [
      "Couldn't get the answer\n",
      "BERTScore Precision: 0.7194\n",
      "BERTScore Recall:    0.6165\n",
      "BERTScore F1:        0.6640\n",
      "\n",
      "Article name:  C++\n"
     ]
    },
    {
     "name": "stderr",
     "output_type": "stream",
     "text": [
      "Creating outline: 100%|███████████████████████████████████████████████████████████| 184/184 [00:00<00:00, 60696.18it/s]\n",
      "Getting link numbers: 100%|███████████████████████████████████████████████████████████| 59/59 [00:00<00:00, 329.09it/s]\n",
      "Calculating reference positions: 100%|█████████████████████████████████████████████████████████| 58/58 [00:00<?, ?it/s]\n"
     ]
    },
    {
     "name": "stdout",
     "output_type": "stream",
     "text": [
      "BERTScore Precision: 0.7530\n",
      "BERTScore Recall:    0.6629\n",
      "BERTScore F1:        0.7051\n",
      "\n",
      "Article name:  Си (язык программирования)\n"
     ]
    },
    {
     "name": "stderr",
     "output_type": "stream",
     "text": [
      "Creating outline: 100%|███████████████████████████████████████████████████████████| 223/223 [00:00<00:00, 44673.53it/s]\n",
      "Getting link numbers: 100%|█████████████████████████████████████████████████████████| 100/100 [00:00<00:00, 192.28it/s]\n",
      "Calculating reference positions: 100%|█████████████████████████████████████████████████████████| 68/68 [00:00<?, ?it/s]\n"
     ]
    },
    {
     "name": "stdout",
     "output_type": "stream",
     "text": [
      "BERTScore Precision: 0.7713\n",
      "BERTScore Recall:    0.6651\n",
      "BERTScore F1:        0.7142\n",
      "\n",
      "Article name:  Сбербанк России\n"
     ]
    },
    {
     "name": "stderr",
     "output_type": "stream",
     "text": [
      "Creating outline: 100%|███████████████████████████████████████████████████████████| 177/177 [00:00<00:00, 44279.60it/s]\n",
      "Getting link numbers: 100%|█████████████████████████████████████████████████████████| 197/197 [00:00<00:00, 241.18it/s]\n",
      "Calculating reference positions: 100%|██████████████████████████████████████████████| 28/28 [00:00<00:00, 28008.71it/s]\n"
     ]
    },
    {
     "name": "stdout",
     "output_type": "stream",
     "text": [
      "BERTScore Precision: 0.6732\n",
      "BERTScore Recall:    0.7232\n",
      "BERTScore F1:        0.6973\n",
      "\n",
      "Article name:  Чёрная смерть\n"
     ]
    },
    {
     "name": "stderr",
     "output_type": "stream",
     "text": [
      "Creating outline: 100%|███████████████████████████████████████████████████████████| 275/275 [00:00<00:00, 36147.59it/s]\n",
      "Getting link numbers: 100%|█████████████████████████████████████████████████████████| 214/214 [00:01<00:00, 162.74it/s]\n",
      "Calculating reference positions: 100%|█████████████████████████████████████████████████████████| 34/34 [00:00<?, ?it/s]\n"
     ]
    },
    {
     "name": "stdout",
     "output_type": "stream",
     "text": [
      "BERTScore Precision: 0.6411\n",
      "BERTScore Recall:    0.6520\n",
      "BERTScore F1:        0.6465\n",
      "\n",
      "Article name:  Яндекс\n"
     ]
    },
    {
     "name": "stderr",
     "output_type": "stream",
     "text": [
      "Creating outline: 100%|███████████████████████████████████████████████████████████| 105/105 [00:00<00:00, 63817.12it/s]\n",
      "Getting link numbers: 100%|█████████████████████████████████████████████████████████| 147/147 [00:00<00:00, 297.19it/s]\n",
      "Calculating reference positions: 100%|█████████████████████████████████████████████████████████| 30/30 [00:00<?, ?it/s]\n"
     ]
    },
    {
     "name": "stdout",
     "output_type": "stream",
     "text": [
      "BERTScore Precision: 0.6958\n",
      "BERTScore Recall:    0.7391\n",
      "BERTScore F1:        0.7168\n",
      "\n",
      "Article name:  Google (компания)\n"
     ]
    },
    {
     "name": "stderr",
     "output_type": "stream",
     "text": [
      "Creating outline: 100%|███████████████████████████████████████████████████████████| 143/143 [00:00<00:00, 53337.97it/s]\n",
      "Getting link numbers: 100%|█████████████████████████████████████████████████████████| 183/183 [00:00<00:00, 269.49it/s]\n",
      "Calculating reference positions: 100%|██████████████████████████████████████████████| 26/26 [00:00<00:00, 50370.39it/s]\n"
     ]
    },
    {
     "name": "stdout",
     "output_type": "stream",
     "text": [
      "BERTScore Precision: 0.7014\n",
      "BERTScore Recall:    0.6978\n",
      "BERTScore F1:        0.6996\n",
      "\n",
      "Article name:  Большой адронный коллайдер\n"
     ]
    },
    {
     "name": "stderr",
     "output_type": "stream",
     "text": [
      "Creating outline: 100%|█████████████████████████████████████████████████████████████| 88/88 [00:00<00:00, 35510.75it/s]\n",
      "Getting link numbers: 100%|███████████████████████████████████████████████████████████| 90/90 [00:00<00:00, 347.96it/s]\n",
      "Calculating reference positions: 100%|█████████████████████████████████████████████████████████| 32/32 [00:00<?, ?it/s]\n"
     ]
    },
    {
     "name": "stdout",
     "output_type": "stream",
     "text": [
      "BERTScore Precision: 0.7200\n",
      "BERTScore Recall:    0.6509\n",
      "BERTScore F1:        0.6837\n",
      "\n",
      "Article name:  Геморрагическая лихорадка Эбола\n"
     ]
    },
    {
     "name": "stderr",
     "output_type": "stream",
     "text": [
      "Creating outline: 100%|█████████████████████████████████████████████████████████████| 86/86 [00:00<00:00, 86088.34it/s]\n",
      "Getting link numbers: 100%|███████████████████████████████████████████████████████████| 95/95 [00:00<00:00, 313.42it/s]\n",
      "Calculating reference positions: 100%|█████████████████████████████████████████████████████████| 19/19 [00:00<?, ?it/s]\n"
     ]
    },
    {
     "name": "stdout",
     "output_type": "stream",
     "text": [
      "BERTScore Precision: 0.7234\n",
      "BERTScore Recall:    0.7558\n",
      "BERTScore F1:        0.7392\n",
      "\n",
      "Article name:  Вирус иммунодефицита человека\n"
     ]
    },
    {
     "name": "stderr",
     "output_type": "stream",
     "text": [
      "Creating outline: 100%|███████████████████████████████████████████████████████████| 124/124 [00:00<00:00, 49344.75it/s]\n",
      "Getting link numbers: 100%|█████████████████████████████████████████████████████████| 181/181 [00:01<00:00, 166.84it/s]\n",
      "Calculating reference positions: 100%|█████████████████████████████████████████████████████████| 30/30 [00:00<?, ?it/s]\n"
     ]
    },
    {
     "name": "stdout",
     "output_type": "stream",
     "text": [
      "BERTScore Precision: 0.7518\n",
      "BERTScore Recall:    0.6936\n",
      "BERTScore F1:        0.7215\n",
      "\n",
      "Article name:  Dota 2\n"
     ]
    },
    {
     "name": "stderr",
     "output_type": "stream",
     "text": [
      "Creating outline: 100%|█████████████████████████████████████████████████████████████| 43/43 [00:00<00:00, 20845.48it/s]\n",
      "Getting link numbers: 100%|█████████████████████████████████████████████████████████| 100/100 [00:00<00:00, 298.44it/s]\n",
      "Calculating reference positions: 100%|█████████████████████████████████████████████████████████| 13/13 [00:00<?, ?it/s]\n"
     ]
    },
    {
     "name": "stdout",
     "output_type": "stream",
     "text": [
      "BERTScore Precision: 0.6596\n",
      "BERTScore Recall:    0.7193\n",
      "BERTScore F1:        0.6882\n",
      "\n",
      "Article name:  TikTok\n"
     ]
    },
    {
     "name": "stderr",
     "output_type": "stream",
     "text": [
      "Creating outline: 100%|███████████████████████████████████████████████████████████| 143/143 [00:00<00:00, 71301.17it/s]\n",
      "Getting link numbers: 100%|█████████████████████████████████████████████████████████| 126/126 [00:00<00:00, 346.57it/s]\n",
      "Calculating reference positions: 100%|█████████████████████████████████████████████████████████| 30/30 [00:00<?, ?it/s]\n"
     ]
    },
    {
     "name": "stdout",
     "output_type": "stream",
     "text": [
      "BERTScore Precision: 0.6557\n",
      "BERTScore Recall:    0.6354\n",
      "BERTScore F1:        0.6454\n",
      "\n",
      "Article name:  Марс\n"
     ]
    },
    {
     "name": "stderr",
     "output_type": "stream",
     "text": [
      "Creating outline: 100%|███████████████████████████████████████████████████████████| 200/200 [00:00<00:00, 36923.32it/s]\n",
      "Getting link numbers: 100%|█████████████████████████████████████████████████████████| 160/160 [00:01<00:00, 138.84it/s]\n",
      "Calculating reference positions: 100%|██████████████████████████████████████████████| 42/42 [00:00<00:00, 43539.49it/s]\n"
     ]
    },
    {
     "name": "stdout",
     "output_type": "stream",
     "text": [
      "BERTScore Precision: 0.7337\n",
      "BERTScore Recall:    0.7666\n",
      "BERTScore F1:        0.7498\n",
      "\n",
      "Article name:  YouTube\n"
     ]
    },
    {
     "name": "stderr",
     "output_type": "stream",
     "text": [
      "Creating outline: 100%|███████████████████████████████████████████████████████████| 104/104 [00:00<00:00, 50851.90it/s]\n",
      "Getting link numbers: 100%|███████████████████████████████████████████████████████████| 96/96 [00:00<00:00, 423.04it/s]\n",
      "Calculating reference positions: 100%|██████████████████████████████████████████████| 18/18 [00:00<00:00, 17949.95it/s]\n"
     ]
    },
    {
     "name": "stdout",
     "output_type": "stream",
     "text": [
      "BERTScore Precision: 0.7226\n",
      "BERTScore Recall:    0.7471\n",
      "BERTScore F1:        0.7347\n",
      "\n",
      "BERTScore Precision: 0.7201\n",
      "BERTScore Recall:    0.6941\n",
      "BERTScore F1:        0.7058\n"
     ]
    }
   ],
   "source": [
    "p_s = 0\n",
    "r_s = 0\n",
    "f_s = 0\n",
    "for name in article_names:\n",
    "    page = get_article(name, is_downloaded=True)\n",
    "    p, r, f = await wiki_evaluater.rank_outline(name, mode=1, page=page, neighbor_count=1, description_mode=1)\n",
    "    p_s += p\n",
    "    r_s += r\n",
    "    f_s += f\n",
    "    print(f\"BERTScore Precision: {p:.4f}\")\n",
    "    print(f\"BERTScore Recall:    {r:.4f}\")\n",
    "    print(f\"BERTScore F1:        {f:.4f}\")\n",
    "    print()\n",
    "print(f\"BERTScore Precision: {p_s/len(article_names):.4f}\")\n",
    "print(f\"BERTScore Recall:    {r_s/len(article_names):.4f}\")\n",
    "print(f\"BERTScore F1:        {f_s/len(article_names):.4f}\")"
   ]
  },
  {
   "cell_type": "code",
   "execution_count": 10,
   "id": "ec693b49-28f3-437e-94dd-63854cf3d289",
   "metadata": {
    "collapsed": true,
    "jupyter": {
     "outputs_hidden": true
    },
    "scrolled": true
   },
   "outputs": [
    {
     "data": {
      "text/plain": [
       "{('h1',\n",
       "  'РИА Новости'): '9 декабря 2013 года медиагруппа РИА Новости была официально расформирована указом президента [1] Российской Федерации Владимира Путина «О некоторых мерах по повышению эффективности деятельности государственных средств массовой информации». Взамен была создана Международная медиагруппа « Россия сегодня » (МИА «Россия Сегодня»), которая продолжила использовать бренд РИА Новости. Главный редактор ФГУП РАМИ РИА Новости на момент ликвидации\\xa0— Ираклий Гачечиладзе [2].\\n\\nПомимо одноимённого агентства, в состав медиагруппы РИА Новости до 9 декабря 2013 года входило Российское агентство правовой и судебной информации ( РАПСИ ) [3], Агентство спортивных новостей «Р-Спорт» [4], Агентство экономической информации « Прайм » [5] [6], Рейтинговое агентство «РИА Рейтинг» [7], Российское информационное агентство науки и технологий «РИА Наука» [8], Издательский дом « Московские новости » [9], сеть медиацентров в России и за рубежом и ещё около 40 интернет-ресурсов на 22 языках. Совокупная аудитория на момент ликвидации РИА Новости как юридического лица и медиагруппы\\xa0— более 20\\xa0млн уникальных посетителей в месяц [9].\\n\\n',\n",
       " ('h2', 'История'): '',\n",
       " ('h3',\n",
       "  'Совинформбюро'): 'Через два дня после начала Великой отечественной войны\\xa0— 24 июня 1941 года Совет Народных Комиссаров СССР выпустил постановление «О создании и задачах Советского информационного бюро». В задачи агентства вошло составление сводок для радио, газет и журналов о положении на фронтах, работе тыла, о партизанском движении во время Великой Отечественной войны [10].\\n\\n',\n",
       " ('h3',\n",
       "  'Агентство печати «Новости»'): 'Совместно с Союзом советских обществ дружбы АПН издавало газету « Московские новости », которая с сентября 1990 года стала независимым изданием. Издательство АПН выпускало более 200 книг и брошюр общим тиражом около 20 миллионов экземпляров в год. В авторском активе агентства было более 7 тысяч человек. В АПН работали такие известные журналисты как Генрих Боровик, Владимир Симонов, Геннадий Герасимов, Владимир Познер, Владимир Молчанов, Виталий Третьяков и другие. Наряду с советскими авторами с агентством сотрудничали зарубежные писатели, журналисты и общественные деятели [11].\\n\\n',\n",
       " ('h3',\n",
       "  'РИА «Вести» и РИА «Новости»'): 'В сентябре 1991 года на базе ИАН было создано Российское информационное агентство «Новости». Указом Президента РФ от 22 августа 1991 года РИА «Новости» [15] было передано в ведение министерства печати и информации. Информационное агентство «Новости» имело около 80 загранбюро и корреспондентских пунктов, более 1\\xa0500 подписчиков в странах СНГ и около 100 за рубежом. На основании Указа Президента РФ от 15 сентября 1993 года «О Российском информационном агентстве „Новости“» РИА «Новости» стало государственным информационно-аналитическим агентством. В 1996 году работал радиоканал РИА «Новости»\\xa0— «РИА Радио». В августе 1997 года на базе телеканала РИА при учредительстве ВГТРК был создан телеканал « Культура ».\\n\\n',\n",
       " ('h3',\n",
       "  'РИА «Новости» до 2013 года'): 'Другим ключевым направлением развития РИА Новости в этот период стало превращение агентства в медиахолдинг. В 2008 году РИА Новости вернуло себе бренд « Московские новости » [19], утраченный агентством в 1990 году. В 2009 году РИА стало соучредителем агентства правовой информации РАПСИ, в 2011 приобрело агентство экономической информации « ПРАЙМ » [20] [21], создало агентство социальных исследований «Социальный навигатор», в 2012 создало рейтинговое агентство «РИА Рейтинг» [22], агентство спортивной информации «Р-Спорт» и российское информационное агентство науки и технологий «РИА Наука». В рамках мультимедийной стратегии на базе пресс-центра РИА Новости были созданы просветительские проекты: ЛектоРИА [23], РИА Арт [24], «Научный понедельник», «Открытый показ» и другие; социальные проекты «Диагноз которого нет»\\xa0— проект о детях аутистов, «Жизнь без преград», «Дети в беде», «Жизнь без наркотиков».\\n\\n',\n",
       " ('h3',\n",
       "  'РИА «Новости» с 2014 года по настоящее время'): 'В 2018 году сайт RIA.RU был перезапущен [27].\\n\\n4 января 2025 года украинский дрон атаковал ехавший по трассе Донецк-Горловка автомобиль с российскими журналистами, они ехали в Донецк после съёмок в Горловке. В результате удара погиб внештатный корреспондент издания « Известия », корреспондент РИА Новости и другие сотрудники СМИ получили ранения [28].\\n\\n',\n",
       " ('h2',\n",
       "  'Ликвидация ФГУП РАМИ «РИА Новости»'): '9 декабря 2013 года Президент России Владимир Путин подписал указ «О некоторых мерах по повышению эффективности деятельности государственных средств массовой информации» [29]. Согласно тексту указа, ФГУП РАМИ «РИА Новости» ликвидировано, права учредителя и имущественные права были переданы Международному информационному агентству « Россия сегодня » [30]. Генеральным директором новой структуры назначен Дмитрий Киселёв [31]. Тем же указом была ликвидирована Российская государственная радиовещательная компания « Голос России », имущество компании также перешло к « России сегодня ».\\n\\nГенеральный директор «России сегодня» Дмитрий Киселёв, комментируя создание агентства и своё назначение, обозначил цель новой структуры\\xa0— восстановить справедливое отношение к России [33]. «Восстановление справедливого отношения к России, как важной стране мира с добрыми намерениями\\xa0— это и есть миссия новой структуры, которую мне предстоит возглавить»\\n\\nЛиквидация РИА Новости и создание «России сегодня» вызвали широкое обсуждение в СМИ [34]. Так, комментируя указ, журналисты отмечали, что на фоне сокращения государственных инвестиций в «РИА Новости» в последние годы [35], другие государственные информационные активы\\xa0— ИТАР-ТАСС, федеральные телеканалы ( Первый канал, ВГТРК, НТВ, Russia Today ) никакого снижения государственной поддержки не ощутили [36].\\n\\n16 декабря 2013 года ликвидационная комиссия под руководством Дмитрия Киселёва [37] назначила на пост главного редактора упраздняемой структуры Ираклия Гачечиладзе [38], одновременно занимавшего должность заместителя главного редактора телеканала Russia Today Маргариты Симоньян.\\n\\n31 декабря 2013 года Дмитрий Киселёв объявил о своем решении назначить Маргариту Симоньян главным редактором «России сегодня» [39]. При этом, она сохраняет свою должность в RT.\\n\\n',\n",
       " ('h2', 'Структура РИА Новости до 2013 года'): '',\n",
       " ('h3',\n",
       "  'RIA.ru'): 'RIA.ru — один из крупнейших новостных ресурсов в Европе [44] [45]. До 2014 года публиковал материалы на 9 языках\\xa0— русском, английском, арабском, испанском, французском, немецком, персидском, китайском и японском. Рубрикатор включал в себя разделы политика, общество, экономика, новости о событиях в мире, происшествия, безопасность, спорт, новости науки и технологий, культура. Также в качестве самостоятельного проекта на ria.ru существовал публиковавший рецензии и обзоры событий культуры Weekend.\\n\\n',\n",
       " ('h3',\n",
       "  'РАПСИ'): 'Российское агентство правовой и судебной информации (сокр.: РАПСИ )\\xa0— первое в России агентство правовой информации, учреждённое 10 февраля 2009 РИА Новости, Конституционным Судом РФ, Верховным Судом РФ и Высшим Арбитражным Судом РФ для профессионального освещения деятельности судебной системы и жизни судейского сообщества в России. Вещание осуществляется на двух языках\\xa0— русском и английском. Главным редактором РАПСИ является Олег Ефросинин [47].\\n\\n',\n",
       " ('h3',\n",
       "  'The Moscow News'): 'The Moscow News — старейшая в России газета на английском языке, издаётся с 5 октября 1930 года [54]. Основана американской социалисткой Анной Луизой Стронг [55]. Была закрыта в 1949 году, главный редактор Михаил Бородин осуждён по делу « Еврейского антифашистского комитета » [56]. Вновь стала выходить под эгидой АПН с 1956 года [57].\\n\\nС 2007 года The Moscow News издавалась при участии РИА Новости [58]. Являлась крупнейшей по тиражу еженедельной англоязычной газетой для иностранцев и экспатов [59]. В начале 2014 года выход бумажной и электронной версии издания прекращен решением ликвидационной комиссии РИА Новости [60].\\n\\n',\n",
       " ('h3',\n",
       "  'РИА Рейтинг'): 'РИА Рейтинг — рейтинговое агентство, специализирующееся на оценке состояния компаний, регионов, банков, отраслей и кредитных рисков. Агентство было создано в декабре 2011 года на базе Центра экономических исследований «РИА Аналитика» РИА Новости, публичной деятельности «РИА Рейтинг» приступило в июне 2012 года [67].\\n\\n',\n",
       " ('h3', 'Ты\\xa0— репортёр'): '',\n",
       " ('h3',\n",
       "  'РИА Новости Украина'): 'Бывший информационный партнёр агентства « Россия сегодня » на Украине [69].\\n\\n',\n",
       " ('h2', 'Сервисы'): '',\n",
       " ('h2', 'На Олимпиаде в Сочи'): '',\n",
       " ('h2',\n",
       "  'Журналисты, погибшие или пострадавшие при исполнении профессионального долга'): '4 января 2025 года в результате атаки украинского беспилотника на легковой автомобиль на трассе Донецк—Горловка погиб внештатный корреспондент «Известий »Александр Мартемьянов. В числе пострадавших были корреспонденты «РИА Новости» и издания «Блокнот Донецк» [77].\\n\\n',\n",
       " ('h2', 'Санкции'): '',\n",
       " ('h3',\n",
       "  'Блокировка в Азербайджане'): 'Редакция РИА Новости в ответ выпустила статью [78] о блокировке сайта издания в Азербайджане, отметив, что материалы с высказываниями представителя Нагорного Карабаха сопровождались детальным изложением позиции Азербайджана. Комментируя высказывание главы управления пресс-службы МИД Азербайджана Лейлы Абдуллаевой редакция, РИА Новости отмечает, что «никаких доказательств провокационности или пропаганды сепаратизма со стороны РИА Новости представитель министерства не привела». Российская Федерация официально не признаёт Нагорно-Карабахскую республику, этой позиции придерживаются и государственные СМИ России.\\n\\n',\n",
       " ('h3',\n",
       "  'Блокировка в Канаде'): '3 февраля 2023 года РИА Новости были внесены в санкционные списки Канады как часть медиахолдинга « Россия сегодня » [79].\\n\\n',\n",
       " ('h3',\n",
       "  'Блокировка в ЕС'): 'В июне 2024 года МИД России запретил вещание 81 европейских СМИ (в их числе Politico, Spiegel, AFP) в ответ на аналогичные меры в отношении российских медиа «РИА Новости», « Известий » и « Российской газеты » [81].\\n\\n',\n",
       " ('h2', 'Блокировка в Молдавии'): ''}"
      ]
     },
     "execution_count": 10,
     "metadata": {},
     "output_type": "execute_result"
    }
   ],
   "source": [
    "page.filtered_outline"
   ]
  },
  {
   "cell_type": "code",
   "execution_count": 17,
   "id": "cefd7ec3-b2a9-4662-9ee1-d2f3ca44c39f",
   "metadata": {},
   "outputs": [
    {
     "name": "stdout",
     "output_type": "stream",
     "text": [
      "BERTScore Precision: 0.7086\n",
      "BERTScore Recall:    0.6927\n",
      "BERTScore F1:        0.6991\n"
     ]
    }
   ],
   "source": [
    "print(f\"BERTScore Precision: {p_s/len(article_names):.4f}\")\n",
    "print(f\"BERTScore Recall:    {r_s/len(article_names):.4f}\")\n",
    "print(f\"BERTScore F1:        {f_s/len(article_names):.4f}\")"
   ]
  },
  {
   "cell_type": "code",
   "execution_count": null,
   "id": "69a2758e-d019-4a71-a7ee-91735bdae667",
   "metadata": {},
   "outputs": [],
   "source": []
  }
 ],
 "metadata": {
  "kernelspec": {
   "display_name": "Python 3 (ipykernel)",
   "language": "python",
   "name": "python3"
  },
  "language_info": {
   "codemirror_mode": {
    "name": "ipython",
    "version": 3
   },
   "file_extension": ".py",
   "mimetype": "text/x-python",
   "name": "python",
   "nbconvert_exporter": "python",
   "pygments_lexer": "ipython3",
   "version": "3.12.9"
  }
 },
 "nbformat": 4,
 "nbformat_minor": 5
}
