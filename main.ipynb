{
 "cells": [
  {
   "cell_type": "code",
   "execution_count": 1,
   "id": "0b8632f9-b953-47c5-8045-542c52621be8",
   "metadata": {
    "scrolled": true
   },
   "outputs": [
    {
     "name": "stdout",
     "output_type": "stream",
     "text": [
      "Requirement already satisfied: numpy==2.0.2 in c:\\users\\dagri\\anaconda3\\envs\\wikibench\\lib\\site-packages (from -r requirements.txt (line 1)) (2.0.2)\n",
      "Requirement already satisfied: pandas in c:\\users\\dagri\\anaconda3\\envs\\wikibench\\lib\\site-packages (from -r requirements.txt (line 2)) (2.2.3)\n",
      "Requirement already satisfied: scipy==1.14.1 in c:\\users\\dagri\\anaconda3\\envs\\wikibench\\lib\\site-packages (from -r requirements.txt (line 3)) (1.14.1)\n",
      "Requirement already satisfied: scikit-learn==1.6.1 in c:\\users\\dagri\\anaconda3\\envs\\wikibench\\lib\\site-packages (from -r requirements.txt (line 4)) (1.6.1)\n",
      "Requirement already satisfied: requests==2.32.3 in c:\\users\\dagri\\anaconda3\\envs\\wikibench\\lib\\site-packages (from -r requirements.txt (line 5)) (2.32.3)\n",
      "Requirement already satisfied: BeautifulSoup4==4.11.1 in c:\\users\\dagri\\anaconda3\\envs\\wikibench\\lib\\site-packages (from -r requirements.txt (line 6)) (4.11.1)\n",
      "Requirement already satisfied: lxml_html_clean==0.4.1 in c:\\users\\dagri\\anaconda3\\envs\\wikibench\\lib\\site-packages (from -r requirements.txt (line 7)) (0.4.1)\n",
      "Requirement already satisfied: newspaper3k==0.2.8 in c:\\users\\dagri\\anaconda3\\envs\\wikibench\\lib\\site-packages (from -r requirements.txt (line 8)) (0.2.8)\n",
      "Requirement already satisfied: openai==1.55.3 in c:\\users\\dagri\\anaconda3\\envs\\wikibench\\lib\\site-packages (from -r requirements.txt (line 10)) (1.55.3)\n",
      "Requirement already satisfied: httpx==0.27.2 in c:\\users\\dagri\\anaconda3\\envs\\wikibench\\lib\\site-packages (from -r requirements.txt (line 11)) (0.27.2)\n",
      "Requirement already satisfied: asyncio==3.4.3 in c:\\users\\dagri\\anaconda3\\envs\\wikibench\\lib\\site-packages (from -r requirements.txt (line 12)) (3.4.3)\n",
      "Requirement already satisfied: nltk in c:\\users\\dagri\\anaconda3\\envs\\wikibench\\lib\\site-packages (from -r requirements.txt (line 13)) (3.9.1)\n",
      "Requirement already satisfied: PyStemmer==2.2.0.3 in c:\\users\\dagri\\anaconda3\\envs\\wikibench\\lib\\site-packages (from -r requirements.txt (line 14)) (2.2.0.3)\n",
      "Requirement already satisfied: datasets in c:\\users\\dagri\\anaconda3\\envs\\wikibench\\lib\\site-packages (from -r requirements.txt (line 16)) (3.5.0)\n",
      "Requirement already satisfied: jax==0.5.2 in c:\\users\\dagri\\anaconda3\\envs\\wikibench\\lib\\site-packages (from jax[cpu]==0.5.2->-r requirements.txt (line 17)) (0.5.2)\n",
      "Requirement already satisfied: tqdm in c:\\users\\dagri\\anaconda3\\envs\\wikibench\\lib\\site-packages (from -r requirements.txt (line 18)) (4.67.1)\n",
      "Requirement already satisfied: sentence-transformers in c:\\users\\dagri\\anaconda3\\envs\\wikibench\\lib\\site-packages (from -r requirements.txt (line 19)) (4.0.2)\n",
      "Requirement already satisfied: accelerate in c:\\users\\dagri\\anaconda3\\envs\\wikibench\\lib\\site-packages (from -r requirements.txt (line 20)) (1.6.0)\n",
      "Requirement already satisfied: transformers in c:\\users\\dagri\\anaconda3\\envs\\wikibench\\lib\\site-packages (from -r requirements.txt (line 21)) (4.51.0)\n",
      "Requirement already satisfied: matplotlib in c:\\users\\dagri\\anaconda3\\envs\\wikibench\\lib\\site-packages (from -r requirements.txt (line 22)) (3.10.1)\n",
      "Requirement already satisfied: pymorphy3 in c:\\users\\dagri\\anaconda3\\envs\\wikibench\\lib\\site-packages (from -r requirements.txt (line 23)) (2.0.3)\n",
      "Requirement already satisfied: razdel in c:\\users\\dagri\\anaconda3\\envs\\wikibench\\lib\\site-packages (from -r requirements.txt (line 24)) (0.5.0)\n",
      "Requirement already satisfied: goose3[all] in c:\\users\\dagri\\anaconda3\\envs\\wikibench\\lib\\site-packages (from -r requirements.txt (line 9)) (3.1.19)\n",
      "Requirement already satisfied: bm25s[full] in c:\\users\\dagri\\anaconda3\\envs\\wikibench\\lib\\site-packages (from -r requirements.txt (line 15)) (0.2.10)\n",
      "Requirement already satisfied: joblib>=1.2.0 in c:\\users\\dagri\\anaconda3\\envs\\wikibench\\lib\\site-packages (from scikit-learn==1.6.1->-r requirements.txt (line 4)) (1.4.2)\n",
      "Requirement already satisfied: threadpoolctl>=3.1.0 in c:\\users\\dagri\\anaconda3\\envs\\wikibench\\lib\\site-packages (from scikit-learn==1.6.1->-r requirements.txt (line 4)) (3.6.0)\n",
      "Requirement already satisfied: charset-normalizer<4,>=2 in c:\\users\\dagri\\anaconda3\\envs\\wikibench\\lib\\site-packages (from requests==2.32.3->-r requirements.txt (line 5)) (2.0.12)\n",
      "Requirement already satisfied: idna<4,>=2.5 in c:\\users\\dagri\\anaconda3\\envs\\wikibench\\lib\\site-packages (from requests==2.32.3->-r requirements.txt (line 5)) (3.10)\n",
      "Requirement already satisfied: urllib3<3,>=1.21.1 in c:\\users\\dagri\\anaconda3\\envs\\wikibench\\lib\\site-packages (from requests==2.32.3->-r requirements.txt (line 5)) (1.26.20)\n",
      "Requirement already satisfied: certifi>=2017.4.17 in c:\\users\\dagri\\anaconda3\\envs\\wikibench\\lib\\site-packages (from requests==2.32.3->-r requirements.txt (line 5)) (2025.1.31)\n",
      "Requirement already satisfied: soupsieve>1.2 in c:\\users\\dagri\\anaconda3\\envs\\wikibench\\lib\\site-packages (from BeautifulSoup4==4.11.1->-r requirements.txt (line 6)) (2.5)\n",
      "Requirement already satisfied: lxml in c:\\users\\dagri\\anaconda3\\envs\\wikibench\\lib\\site-packages (from lxml_html_clean==0.4.1->-r requirements.txt (line 7)) (5.3.1)\n",
      "Requirement already satisfied: Pillow>=3.3.0 in c:\\users\\dagri\\anaconda3\\envs\\wikibench\\lib\\site-packages (from newspaper3k==0.2.8->-r requirements.txt (line 8)) (11.1.0)\n",
      "Requirement already satisfied: PyYAML>=3.11 in c:\\users\\dagri\\anaconda3\\envs\\wikibench\\lib\\site-packages (from newspaper3k==0.2.8->-r requirements.txt (line 8)) (6.0.2)\n",
      "Requirement already satisfied: cssselect>=0.9.2 in c:\\users\\dagri\\anaconda3\\envs\\wikibench\\lib\\site-packages (from newspaper3k==0.2.8->-r requirements.txt (line 8)) (1.2.0)\n",
      "Requirement already satisfied: feedparser>=5.2.1 in c:\\users\\dagri\\anaconda3\\envs\\wikibench\\lib\\site-packages (from newspaper3k==0.2.8->-r requirements.txt (line 8)) (6.0.11)\n",
      "Requirement already satisfied: tldextract>=2.0.1 in c:\\users\\dagri\\anaconda3\\envs\\wikibench\\lib\\site-packages (from newspaper3k==0.2.8->-r requirements.txt (line 8)) (5.1.3)\n",
      "Requirement already satisfied: feedfinder2>=0.0.4 in c:\\users\\dagri\\anaconda3\\envs\\wikibench\\lib\\site-packages (from newspaper3k==0.2.8->-r requirements.txt (line 8)) (0.0.4)\n",
      "Requirement already satisfied: jieba3k>=0.35.1 in c:\\users\\dagri\\anaconda3\\envs\\wikibench\\lib\\site-packages (from newspaper3k==0.2.8->-r requirements.txt (line 8)) (0.35.1)\n",
      "Requirement already satisfied: python-dateutil>=2.5.3 in c:\\users\\dagri\\anaconda3\\envs\\wikibench\\lib\\site-packages (from newspaper3k==0.2.8->-r requirements.txt (line 8)) (2.9.0.post0)\n",
      "Requirement already satisfied: tinysegmenter==0.3 in c:\\users\\dagri\\anaconda3\\envs\\wikibench\\lib\\site-packages (from newspaper3k==0.2.8->-r requirements.txt (line 8)) (0.3)\n",
      "Requirement already satisfied: anyio<5,>=3.5.0 in c:\\users\\dagri\\anaconda3\\envs\\wikibench\\lib\\site-packages (from openai==1.55.3->-r requirements.txt (line 10)) (4.9.0)\n",
      "Requirement already satisfied: distro<2,>=1.7.0 in c:\\users\\dagri\\anaconda3\\envs\\wikibench\\lib\\site-packages (from openai==1.55.3->-r requirements.txt (line 10)) (1.9.0)\n",
      "Requirement already satisfied: jiter<1,>=0.4.0 in c:\\users\\dagri\\anaconda3\\envs\\wikibench\\lib\\site-packages (from openai==1.55.3->-r requirements.txt (line 10)) (0.9.0)\n",
      "Requirement already satisfied: pydantic<3,>=1.9.0 in c:\\users\\dagri\\anaconda3\\envs\\wikibench\\lib\\site-packages (from openai==1.55.3->-r requirements.txt (line 10)) (2.10.6)\n",
      "Requirement already satisfied: sniffio in c:\\users\\dagri\\anaconda3\\envs\\wikibench\\lib\\site-packages (from openai==1.55.3->-r requirements.txt (line 10)) (1.3.1)\n",
      "Requirement already satisfied: typing-extensions<5,>=4.11 in c:\\users\\dagri\\anaconda3\\envs\\wikibench\\lib\\site-packages (from openai==1.55.3->-r requirements.txt (line 10)) (4.13.0)\n",
      "Requirement already satisfied: httpcore==1.* in c:\\users\\dagri\\anaconda3\\envs\\wikibench\\lib\\site-packages (from httpx==0.27.2->-r requirements.txt (line 11)) (1.0.7)\n",
      "Requirement already satisfied: jaxlib<=0.5.2,>=0.5.1 in c:\\users\\dagri\\anaconda3\\envs\\wikibench\\lib\\site-packages (from jax==0.5.2->jax[cpu]==0.5.2->-r requirements.txt (line 17)) (0.5.1)\n",
      "Requirement already satisfied: ml_dtypes>=0.4.0 in c:\\users\\dagri\\anaconda3\\envs\\wikibench\\lib\\site-packages (from jax==0.5.2->jax[cpu]==0.5.2->-r requirements.txt (line 17)) (0.5.1)\n",
      "Requirement already satisfied: opt_einsum in c:\\users\\dagri\\anaconda3\\envs\\wikibench\\lib\\site-packages (from jax==0.5.2->jax[cpu]==0.5.2->-r requirements.txt (line 17)) (3.4.0)\n",
      "Requirement already satisfied: h11<0.15,>=0.13 in c:\\users\\dagri\\anaconda3\\envs\\wikibench\\lib\\site-packages (from httpcore==1.*->httpx==0.27.2->-r requirements.txt (line 11)) (0.14.0)\n",
      "Requirement already satisfied: pytz>=2020.1 in c:\\users\\dagri\\anaconda3\\envs\\wikibench\\lib\\site-packages (from pandas->-r requirements.txt (line 2)) (2025.2)\n",
      "Requirement already satisfied: tzdata>=2022.7 in c:\\users\\dagri\\anaconda3\\envs\\wikibench\\lib\\site-packages (from pandas->-r requirements.txt (line 2)) (2025.1)\n",
      "Requirement already satisfied: langdetect in c:\\users\\dagri\\anaconda3\\envs\\wikibench\\lib\\site-packages (from goose3[all]->-r requirements.txt (line 9)) (1.0.9)\n",
      "Requirement already satisfied: pyahocorasick in c:\\users\\dagri\\anaconda3\\envs\\wikibench\\lib\\site-packages (from goose3[all]->-r requirements.txt (line 9)) (2.1.0)\n",
      "Requirement already satisfied: jieba in c:\\users\\dagri\\anaconda3\\envs\\wikibench\\lib\\site-packages (from goose3[all]->-r requirements.txt (line 9)) (0.42.1)\n",
      "Requirement already satisfied: click in c:\\users\\dagri\\anaconda3\\envs\\wikibench\\lib\\site-packages (from nltk->-r requirements.txt (line 13)) (8.1.8)\n",
      "Requirement already satisfied: regex>=2021.8.3 in c:\\users\\dagri\\anaconda3\\envs\\wikibench\\lib\\site-packages (from nltk->-r requirements.txt (line 13)) (2024.11.6)\n",
      "Requirement already satisfied: orjson in c:\\users\\dagri\\anaconda3\\envs\\wikibench\\lib\\site-packages (from bm25s[full]->-r requirements.txt (line 15)) (3.10.16)\n",
      "Requirement already satisfied: numba in c:\\users\\dagri\\anaconda3\\envs\\wikibench\\lib\\site-packages (from bm25s[full]->-r requirements.txt (line 15)) (0.61.0)\n",
      "Requirement already satisfied: huggingface-hub in c:\\users\\dagri\\anaconda3\\envs\\wikibench\\lib\\site-packages (from bm25s[full]->-r requirements.txt (line 15)) (0.30.1)\n",
      "Requirement already satisfied: black in c:\\users\\dagri\\anaconda3\\envs\\wikibench\\lib\\site-packages (from bm25s[full]->-r requirements.txt (line 15)) (25.1.0)\n",
      "Requirement already satisfied: pytrec-eval in c:\\users\\dagri\\anaconda3\\envs\\wikibench\\lib\\site-packages (from bm25s[full]->-r requirements.txt (line 15)) (0.5)\n",
      "Requirement already satisfied: filelock in c:\\users\\dagri\\anaconda3\\envs\\wikibench\\lib\\site-packages (from datasets->-r requirements.txt (line 16)) (3.17.0)\n",
      "Requirement already satisfied: pyarrow>=15.0.0 in c:\\users\\dagri\\anaconda3\\envs\\wikibench\\lib\\site-packages (from datasets->-r requirements.txt (line 16)) (19.0.1)\n",
      "Requirement already satisfied: dill<0.3.9,>=0.3.0 in c:\\users\\dagri\\anaconda3\\envs\\wikibench\\lib\\site-packages (from datasets->-r requirements.txt (line 16)) (0.3.8)\n",
      "Requirement already satisfied: xxhash in c:\\users\\dagri\\anaconda3\\envs\\wikibench\\lib\\site-packages (from datasets->-r requirements.txt (line 16)) (3.5.0)\n",
      "Requirement already satisfied: multiprocess<0.70.17 in c:\\users\\dagri\\anaconda3\\envs\\wikibench\\lib\\site-packages (from datasets->-r requirements.txt (line 16)) (0.70.16)\n",
      "Requirement already satisfied: fsspec<=2024.12.0,>=2023.1.0 in c:\\users\\dagri\\anaconda3\\envs\\wikibench\\lib\\site-packages (from fsspec[http]<=2024.12.0,>=2023.1.0->datasets->-r requirements.txt (line 16)) (2024.12.0)\n",
      "Requirement already satisfied: aiohttp in c:\\users\\dagri\\anaconda3\\envs\\wikibench\\lib\\site-packages (from datasets->-r requirements.txt (line 16)) (3.11.16)\n",
      "Requirement already satisfied: packaging in c:\\users\\dagri\\anaconda3\\envs\\wikibench\\lib\\site-packages (from datasets->-r requirements.txt (line 16)) (24.2)\n",
      "Requirement already satisfied: colorama in c:\\users\\dagri\\anaconda3\\envs\\wikibench\\lib\\site-packages (from tqdm->-r requirements.txt (line 18)) (0.4.6)\n",
      "Requirement already satisfied: torch>=1.11.0 in c:\\users\\dagri\\anaconda3\\envs\\wikibench\\lib\\site-packages (from sentence-transformers->-r requirements.txt (line 19)) (2.6.0)\n",
      "Requirement already satisfied: psutil in c:\\users\\dagri\\anaconda3\\envs\\wikibench\\lib\\site-packages (from accelerate->-r requirements.txt (line 20)) (7.0.0)\n",
      "Requirement already satisfied: safetensors>=0.4.3 in c:\\users\\dagri\\anaconda3\\envs\\wikibench\\lib\\site-packages (from accelerate->-r requirements.txt (line 20)) (0.5.3)\n",
      "Requirement already satisfied: tokenizers<0.22,>=0.21 in c:\\users\\dagri\\anaconda3\\envs\\wikibench\\lib\\site-packages (from transformers->-r requirements.txt (line 21)) (0.21.1)\n",
      "Requirement already satisfied: contourpy>=1.0.1 in c:\\users\\dagri\\anaconda3\\envs\\wikibench\\lib\\site-packages (from matplotlib->-r requirements.txt (line 22)) (1.3.1)\n",
      "Requirement already satisfied: cycler>=0.10 in c:\\users\\dagri\\anaconda3\\envs\\wikibench\\lib\\site-packages (from matplotlib->-r requirements.txt (line 22)) (0.12.1)\n",
      "Requirement already satisfied: fonttools>=4.22.0 in c:\\users\\dagri\\anaconda3\\envs\\wikibench\\lib\\site-packages (from matplotlib->-r requirements.txt (line 22)) (4.57.0)\n",
      "Requirement already satisfied: kiwisolver>=1.3.1 in c:\\users\\dagri\\anaconda3\\envs\\wikibench\\lib\\site-packages (from matplotlib->-r requirements.txt (line 22)) (1.4.8)\n",
      "Requirement already satisfied: pyparsing>=2.3.1 in c:\\users\\dagri\\anaconda3\\envs\\wikibench\\lib\\site-packages (from matplotlib->-r requirements.txt (line 22)) (3.2.3)\n",
      "Requirement already satisfied: dawg2-python>=0.8.0 in c:\\users\\dagri\\anaconda3\\envs\\wikibench\\lib\\site-packages (from pymorphy3->-r requirements.txt (line 23)) (0.9.0)\n",
      "Requirement already satisfied: pymorphy3-dicts-ru in c:\\users\\dagri\\anaconda3\\envs\\wikibench\\lib\\site-packages (from pymorphy3->-r requirements.txt (line 23)) (2.4.417150.4580142)\n",
      "Requirement already satisfied: setuptools>=68.2.2 in c:\\users\\dagri\\anaconda3\\envs\\wikibench\\lib\\site-packages (from pymorphy3->-r requirements.txt (line 23)) (78.1.0)\n",
      "Requirement already satisfied: six in c:\\users\\dagri\\anaconda3\\envs\\wikibench\\lib\\site-packages (from feedfinder2>=0.0.4->newspaper3k==0.2.8->-r requirements.txt (line 8)) (1.17.0)\n",
      "Requirement already satisfied: sgmllib3k in c:\\users\\dagri\\anaconda3\\envs\\wikibench\\lib\\site-packages (from feedparser>=5.2.1->newspaper3k==0.2.8->-r requirements.txt (line 8)) (1.0.0)\n",
      "Requirement already satisfied: aiohappyeyeballs>=2.3.0 in c:\\users\\dagri\\anaconda3\\envs\\wikibench\\lib\\site-packages (from aiohttp->datasets->-r requirements.txt (line 16)) (2.6.1)\n",
      "Requirement already satisfied: aiosignal>=1.1.2 in c:\\users\\dagri\\anaconda3\\envs\\wikibench\\lib\\site-packages (from aiohttp->datasets->-r requirements.txt (line 16)) (1.3.2)\n",
      "Requirement already satisfied: attrs>=17.3.0 in c:\\users\\dagri\\anaconda3\\envs\\wikibench\\lib\\site-packages (from aiohttp->datasets->-r requirements.txt (line 16)) (25.3.0)\n",
      "Requirement already satisfied: frozenlist>=1.1.1 in c:\\users\\dagri\\anaconda3\\envs\\wikibench\\lib\\site-packages (from aiohttp->datasets->-r requirements.txt (line 16)) (1.5.0)\n",
      "Requirement already satisfied: multidict<7.0,>=4.5 in c:\\users\\dagri\\anaconda3\\envs\\wikibench\\lib\\site-packages (from aiohttp->datasets->-r requirements.txt (line 16)) (6.2.0)\n",
      "Requirement already satisfied: propcache>=0.2.0 in c:\\users\\dagri\\anaconda3\\envs\\wikibench\\lib\\site-packages (from aiohttp->datasets->-r requirements.txt (line 16)) (0.3.1)\n",
      "Requirement already satisfied: yarl<2.0,>=1.17.0 in c:\\users\\dagri\\anaconda3\\envs\\wikibench\\lib\\site-packages (from aiohttp->datasets->-r requirements.txt (line 16)) (1.18.3)\n",
      "Requirement already satisfied: annotated-types>=0.6.0 in c:\\users\\dagri\\anaconda3\\envs\\wikibench\\lib\\site-packages (from pydantic<3,>=1.9.0->openai==1.55.3->-r requirements.txt (line 10)) (0.7.0)\n",
      "Requirement already satisfied: pydantic-core==2.27.2 in c:\\users\\dagri\\anaconda3\\envs\\wikibench\\lib\\site-packages (from pydantic<3,>=1.9.0->openai==1.55.3->-r requirements.txt (line 10)) (2.27.2)\n",
      "Requirement already satisfied: requests-file>=1.4 in c:\\users\\dagri\\anaconda3\\envs\\wikibench\\lib\\site-packages (from tldextract>=2.0.1->newspaper3k==0.2.8->-r requirements.txt (line 8)) (2.1.0)\n",
      "Requirement already satisfied: networkx in c:\\users\\dagri\\anaconda3\\envs\\wikibench\\lib\\site-packages (from torch>=1.11.0->sentence-transformers->-r requirements.txt (line 19)) (3.4.2)\n",
      "Requirement already satisfied: jinja2 in c:\\users\\dagri\\anaconda3\\envs\\wikibench\\lib\\site-packages (from torch>=1.11.0->sentence-transformers->-r requirements.txt (line 19)) (3.1.6)\n",
      "Requirement already satisfied: sympy==1.13.1 in c:\\users\\dagri\\anaconda3\\envs\\wikibench\\lib\\site-packages (from torch>=1.11.0->sentence-transformers->-r requirements.txt (line 19)) (1.13.1)\n",
      "Requirement already satisfied: mpmath<1.4,>=1.1.0 in c:\\users\\dagri\\anaconda3\\envs\\wikibench\\lib\\site-packages (from sympy==1.13.1->torch>=1.11.0->sentence-transformers->-r requirements.txt (line 19)) (1.3.0)\n",
      "Requirement already satisfied: mypy-extensions>=0.4.3 in c:\\users\\dagri\\anaconda3\\envs\\wikibench\\lib\\site-packages (from black->bm25s[full]->-r requirements.txt (line 15)) (1.0.0)\n",
      "Requirement already satisfied: pathspec>=0.9.0 in c:\\users\\dagri\\anaconda3\\envs\\wikibench\\lib\\site-packages (from black->bm25s[full]->-r requirements.txt (line 15)) (0.12.1)\n",
      "Requirement already satisfied: platformdirs>=2 in c:\\users\\dagri\\anaconda3\\envs\\wikibench\\lib\\site-packages (from black->bm25s[full]->-r requirements.txt (line 15)) (4.3.7)\n",
      "Requirement already satisfied: llvmlite<0.45,>=0.44.0dev0 in c:\\users\\dagri\\anaconda3\\envs\\wikibench\\lib\\site-packages (from numba->bm25s[full]->-r requirements.txt (line 15)) (0.44.0)\n",
      "Requirement already satisfied: MarkupSafe>=2.0 in c:\\users\\dagri\\anaconda3\\envs\\wikibench\\lib\\site-packages (from jinja2->torch>=1.11.0->sentence-transformers->-r requirements.txt (line 19)) (3.0.2)\n"
     ]
    }
   ],
   "source": [
    "!pip install -r requirements.txt"
   ]
  },
  {
   "cell_type": "code",
   "execution_count": 1,
   "id": "f10fe472-7e94-41f7-843b-5a33f1eb770d",
   "metadata": {},
   "outputs": [],
   "source": [
    "import json\n",
    "import sys\n",
    "import os\n",
    "import re\n",
    "sys.path.append(\"src\")"
   ]
  },
  {
   "cell_type": "code",
   "execution_count": 2,
   "id": "10a4b5ec-3805-4a98-9942-d5b12d1bb298",
   "metadata": {},
   "outputs": [],
   "source": [
    "%load_ext autoreload\n",
    "%autoreload 2"
   ]
  },
  {
   "cell_type": "code",
   "execution_count": 3,
   "id": "6664a03f-3846-48ae-8bcc-6377651f84c2",
   "metadata": {
    "scrolled": true
   },
   "outputs": [],
   "source": [
    "%reload_ext autoreload"
   ]
  },
  {
   "cell_type": "code",
   "execution_count": 4,
   "id": "216bea97-a5c3-464b-8015-5d87020be620",
   "metadata": {},
   "outputs": [
    {
     "name": "stdout",
     "output_type": "stream",
     "text": [
      "resource module not available on Windows\n"
     ]
    }
   ],
   "source": [
    "from wiki_extract import Extracter\n",
    "from wiki_gen import WikiGen\n",
    "from openai_utils import LlmCompleter, AsyncList\n",
    "from wiki_metrics import WikiEval\n",
    "from wiki_utils import WikiUtils"
   ]
  },
  {
   "cell_type": "code",
   "execution_count": 5,
   "id": "d9b4a312-18dc-4047-acd8-da3ea801094b",
   "metadata": {},
   "outputs": [],
   "source": [
    "def get_article(name, retrieve_sources=False, is_downloaded=False, verbose=False):\n",
    "    print('Article name: ', name)\n",
    "    page = Extracter(name, is_downloaded, verbose)\n",
    "    page.get_references()\n",
    "    page.get_outline()\n",
    "    if retrieve_sources and not is_downloaded:\n",
    "        page.fast_extracter()\n",
    "    if is_downloaded or retrieve_sources:\n",
    "        page.get_filtered_outline()\n",
    "    return page"
   ]
  },
  {
   "cell_type": "code",
   "execution_count": 6,
   "id": "e21955e3-1b7f-4abc-ac9f-e5ca0ccabaf3",
   "metadata": {},
   "outputs": [],
   "source": [
    "article_names = [\n",
    "    'Python',\n",
    "    'Летние Олимпийские игры 2024',\n",
    "    'Квантовый компьютер',\n",
    "    'Присоединение Крыма к Российской Федерации',\n",
    "    'Сколково (инновационный центр)',\n",
    "    'Tomb Raider (игра, 2013)',\n",
    "    'Чёрная дыра',\n",
    "    'Экономика США',\n",
    "    'Искусственный интеллект',\n",
    "    'COVID-19',\n",
    "    'Применение искусственного интеллекта',\n",
    "    'РИА Новости',\n",
    "    'Uncharted 4: A Thief’s End',\n",
    "    'Экономика КНР',\n",
    "    'Экономика Германии',\n",
    "    'Иннополис',\n",
    "    'Летние Олимпийские игры 2020',\n",
    "    'Солнечная система',\n",
    "    'C++',\n",
    "    'Си (язык программирования)',\n",
    "    'Сбербанк России',\n",
    "    'Чёрная смерть',\n",
    "    'Яндекс',\n",
    "    'Google (компания)',\n",
    "    'Большой адронный коллайдер',\n",
    "    'Геморрагическая лихорадка Эбола',\n",
    "    'Вирус иммунодефицита человека',\n",
    "    'Dota 2',\n",
    "    'TikTok',\n",
    "    'Марс',\n",
    "    'YouTube',\n",
    "    'Portal 2'\n",
    "]"
   ]
  },
  {
   "cell_type": "code",
   "execution_count": 14,
   "id": "bf985475-e072-4434-acab-c61f08ccc51a",
   "metadata": {},
   "outputs": [
    {
     "name": "stderr",
     "output_type": "stream",
     "text": [
      "Default prompt name is set to 'Classification'. This prompt will be applied to all `encode()` calls, except if `encode()` is called with `prompt` or `prompt_name` parameters.\n"
     ]
    }
   ],
   "source": [
    "client = LlmCompleter(api_address=URL, api_key=KEY, model_name='llama3-70b')\n",
    "wiki_writer = WikiGen(client)\n",
    "wiki_evaluater = WikiEval(wiki_writer, True)"
   ]
  },
  {
   "cell_type": "code",
   "execution_count": 8,
   "id": "6440ec21-7d5b-42a5-9cd1-d8d241fd2850",
   "metadata": {},
   "outputs": [
    {
     "name": "stdout",
     "output_type": "stream",
     "text": [
      "AsyncPage[Model](data=[Model(id='RefalMachine/RuadaptQwen2.5-32B-Pro-Beta', created=None, object=None, owned_by=None, max_model_len=30000, status='spawned'), Model(id='llama3-70b', created=None, object=None, owned_by=None, max_model_len=14000, status='spawned'), Model(id='qwen2.5-72b', created=None, object=None, owned_by=None, max_model_len=14000, status='spawned'), Model(id='RefalMachine/RuadaptQwen2.5-32B-QWQ-Beta', created=None, object=None, owned_by=None, max_model_len=6000, status='spawned'), Model(id='RefalMachine/RuadaptQwen2.5-7B-Garant-v2', created=None, object=None, owned_by=None, max_model_len=30000, status='offloaded'), Model(id='RefalMachine/RuadaptQwen2.5-7B-Lite-Beta', created=None, object=None, owned_by=None, max_model_len=30000, status='offloaded'), Model(id='deepseek-r1-32b', created=None, object=None, owned_by=None, max_model_len=30000, status='offloaded'), Model(id='qwen32b-coder', created=None, object=None, owned_by=None, max_model_len=30000, status='offloaded'), Model(id='tlite', created=None, object=None, owned_by=None, max_model_len=-1, status='offloaded')], object=None)\n"
     ]
    }
   ],
   "source": [
    "print(await client.client.models.list())"
   ]
  },
  {
   "cell_type": "code",
   "execution_count": 8,
   "id": "dc5d6af4-2f79-4f63-85df-073ff9c88750",
   "metadata": {
    "scrolled": true
   },
   "outputs": [
    {
     "name": "stdout",
     "output_type": "stream",
     "text": [
      "Article name:  Чёрная дыра\n",
      "Generated for section:  ('h2', 'Этимология')\n",
      "Generated for section:  ('h3', 'От Мичелла до Шварцшильда (1796—1915)')\n",
      "Generated for section:  ('h2', 'Описание')\n",
      "Generated for section:  ('h3', '«Чёрная звезда» Мичелла (1784—1796)')\n",
      "Generated for section:  ('h4', 'Основные свойства')\n",
      "Generated for section:  ('h3', 'Решение Рейснера\\xa0— Нордстрёма')\n",
      "Generated for section:  ('h3', 'Решение Керра')\n",
      "Generated for section:  ('h2', 'Падение в чёрную дыру')\n",
      "Generated for section:  ('h2', 'Модель на базе теории струн')\n",
      "Generated for section:  ('h4', 'Заключительные стадии испарения чёрной дыры')\n",
      "Generated for section:  ('h3', 'Сверхмассивные чёрные дыры')\n",
      "Generated for section:  ('h2', 'Чёрные дыры во Вселенной')\n",
      "Generated for section:  ('h3', 'Чёрные дыры звёздных масс')\n",
      "Generated for section:  ('h4', 'Измерение скорости микроволновых источников')\n",
      "Generated for section:  ('h3', 'Квантовые чёрные дыры')\n",
      "Generated for section:  ('h4', 'Наблюдение траекторий отдельных звёзд')\n",
      "Generated for section:  ('h3', '«Фотографирование» чёрных дыр')\n",
      "Generated for section:  ('h4', 'Возмущения горизонта событий и их затухание')\n",
      "Generated for section:  ('h4', 'Излучение Хокинга')\n",
      "Generated for section:  ('h4', 'Структура вращающихся чёрных дыр')\n",
      "Generated for section:  ('h4', 'Аккреция вещества в дыру')\n",
      "\n",
      "\n",
      "\n"
     ]
    },
    {
     "name": "stderr",
     "output_type": "stream",
     "text": [
      "Default prompt name is set to 'Classification'. This prompt will be applied to all `encode()` calls, except if `encode()` is called with `prompt` or `prompt_name` parameters.\n"
     ]
    },
    {
     "name": "stdout",
     "output_type": "stream",
     "text": [
      "Article name:  Экономика США\n",
      "Generated for section:  ('h2', 'Экономика')\n",
      "Generated for section:  ('h1', 'Экономика США')\n",
      "Generated for section:  ('h3', '2020-е')\n",
      "Generated for section:  ('h4', 'Ипотечный кризис 2007\\xa0года')\n",
      "Generated for section:  ('h2', 'Военно-промышленный комплекс США')\n",
      "Generated for section:  ('h3', 'Добыча нефти и газа')\n",
      "Generated for section:  ('h2', 'Бедность')\n",
      "Generated for section:  ('h2', 'Международная торговля (импорт и экспорт)')\n",
      "\n",
      "\n",
      "\n"
     ]
    },
    {
     "name": "stderr",
     "output_type": "stream",
     "text": [
      "Default prompt name is set to 'Classification'. This prompt will be applied to all `encode()` calls, except if `encode()` is called with `prompt` or `prompt_name` parameters.\n"
     ]
    },
    {
     "name": "stdout",
     "output_type": "stream",
     "text": [
      "Article name:  Искусственный интеллект\n",
      "Generated for section:  ('h2', 'Сложности в перспективе')\n",
      "Generated for section:  ('h3', 'История развития искусственного интеллекта в СССР и России')\n",
      "Generated for section:  ('h3', 'Известные системы искусственного интеллекта')\n",
      "Generated for section:  ('h3', 'Финансы')\n",
      "Generated for section:  ('h4', 'Исследования рынка и интеллектуальный анализ данных')\n",
      "Generated for section:  ('h4', 'Алгоритмическая торговля')\n",
      "Generated for section:  ('h3', 'Государственное управление')\n",
      "Generated for section:  ('h4', 'Банкинг')\n",
      "Generated for section:  ('h3', 'Военное дело')\n",
      "Generated for section:  ('h3', 'Онлайн и телефонные службы поддержки клиентов')\n",
      "Generated for section:  ('h3', 'Развлечение и игры')\n",
      "Generated for section:  ('h3', 'Музыка')\n",
      "Generated for section:  ('h3', 'Новости, издательство и писательство')\n",
      "Generated for section:  ('h3', 'Иные области применения')\n",
      "Generated for section:  ('h3', 'Пенитенциарная система')\n",
      "Generated for section:  ('h3', 'Психология и когнитология')\n",
      "Generated for section:  ('h3', 'Илон Маск против OpenAI и Microsoft')\n",
      "Generated for section:  ('h2', 'Правовые вопросы')\n",
      "\n",
      "\n",
      "\n"
     ]
    },
    {
     "name": "stderr",
     "output_type": "stream",
     "text": [
      "Default prompt name is set to 'Classification'. This prompt will be applied to all `encode()` calls, except if `encode()` is called with `prompt` or `prompt_name` parameters.\n"
     ]
    },
    {
     "name": "stdout",
     "output_type": "stream",
     "text": [
      "Article name:  COVID-19\n",
      "Generated for section:  ('h2', 'Диагностика')\n",
      "Generated for section:  ('h2', 'Эпидемиология')\n",
      "Generated for section:  ('h1', 'COVID-19')\n",
      "Generated for section:  ('h2', 'Клиническая картина')\n",
      "Generated for section:  ('h2', 'Лечение')\n",
      "Generated for section:  ('h2', 'Постковидный синдром')\n",
      "Generated for section:  ('h3', 'Передача инфекции')\n",
      "Generated for section:  ('h3', 'Патогенез')\n",
      "Generated for section:  ('h2', 'ВОЗ о ситуации с COVID-19 на конец 2023\\xa0года')\n",
      "Generated for section:  ('h3', 'Вирусология')\n",
      "Generated for section:  ('h2', 'Прогноз')\n",
      "Generated for section:  ('h4', 'Средства против синдрома высвобождения цитокинов')\n",
      "Generated for section:  ('h4', 'Рекомендации для здоровых')\n",
      "Generated for section:  ('h3', 'Экспериментальное лечение')\n",
      "Generated for section:  ('h3', 'Иммунитет')\n",
      "Generated for section:  ('h3', 'Средства от гиперкоагуляции')\n",
      "Generated for section:  ('h4', 'Рекомендации для медицинских работников')\n",
      "Generated for section:  ('h3', 'Осложнения')\n",
      "Generated for section:  ('h3', 'Диагностические показатели и биомаркеры')\n",
      "Generated for section:  ('h3', 'Лечение кортикостероидами')\n",
      "Generated for section:  ('h4', 'Альтернативные вакцины в профилактике')\n",
      "Generated for section:  ('h3', 'Вакцинопрофилактика COVID-19')\n",
      "Generated for section:  ('h3', 'Неэффективные лекарства')\n",
      "Generated for section:  ('h2', 'Экспериментальные терапии и направления исследований')\n",
      "Generated for section:  ('h4', 'Реконвалесцентная плазма')\n",
      "Generated for section:  ('h2', 'Факторы риска')\n",
      "Generated for section:  ('h2', 'Терминология')\n",
      "Generated for section:  ('h2', 'Дезинформация')\n",
      "Generated for section:  ('h2', 'Сравнение COVID-19 с гриппом')\n",
      "\n",
      "\n",
      "\n"
     ]
    },
    {
     "name": "stderr",
     "output_type": "stream",
     "text": [
      "Default prompt name is set to 'Classification'. This prompt will be applied to all `encode()` calls, except if `encode()` is called with `prompt` or `prompt_name` parameters.\n"
     ]
    },
    {
     "name": "stdout",
     "output_type": "stream",
     "text": [
      "Article name:  Применение искусственного интеллекта\n",
      "Generated for section:  ('h3', 'Машинный перевод')\n",
      "Generated for section:  ('h3', 'Таргетированная реклама и повышение активности в Интернете')\n",
      "Generated for section:  ('h3', 'Фильтрация спама')\n",
      "Generated for section:  ('h2', 'Игры')\n",
      "Generated for section:  ('h2', 'Образование')\n",
      "Generated for section:  ('h2', 'Вооружения')\n",
      "Generated for section:  ('h2', 'Финансы')\n",
      "Generated for section:  ('h2', 'Здравоохранение')\n",
      "Generated for section:  ('h3', 'Торговля и инвестиции')\n",
      "Generated for section:  ('h3', 'Обратная инженерия')\n",
      "Generated for section:  ('h3', 'Биохимия')\n",
      "Generated for section:  ('h3', 'Техника безопасности')\n",
      "Generated for section:  ('h2', 'Химия и биология')\n",
      "Generated for section:  ('h3', 'Биологические вычисления в ИИ и подобно ИИ')\n",
      "Generated for section:  ('h3', 'Новые типы машинного обучения')\n",
      "Generated for section:  ('h3', 'Цифровые аватары')\n",
      "Generated for section:  ('h2', 'Астрономия, космические исследования и уфология')\n",
      "Generated for section:  ('h3', 'Юридический анализ')\n",
      "Generated for section:  ('h3', 'Физика')\n",
      "Generated for section:  ('h3', 'Поиск внеземных цивилизаций')\n",
      "Generated for section:  ('h3', 'Дипфейки')\n",
      "Generated for section:  ('h3', 'Обслуживание клиентов онлайн и по телефону')\n",
      "Generated for section:  ('h3', 'Гостиничный сервис')\n",
      "Generated for section:  ('h3', 'Правоохранительные органы и судебное производство')\n",
      "\n",
      "\n",
      "\n"
     ]
    },
    {
     "name": "stderr",
     "output_type": "stream",
     "text": [
      "Default prompt name is set to 'Classification'. This prompt will be applied to all `encode()` calls, except if `encode()` is called with `prompt` or `prompt_name` parameters.\n"
     ]
    },
    {
     "name": "stdout",
     "output_type": "stream",
     "text": [
      "Article name:  РИА Новости\n",
      "Generated for section:  ('h3', 'РИА «Вести» и РИА «Новости»')\n",
      "Generated for section:  ('h3', 'Совинформбюро')\n",
      "Generated for section:  ('h3', 'Агентство печати «Новости»')\n",
      "Generated for section:  ('h1', 'РИА Новости')\n",
      "Generated for section:  ('h3', 'RIA.ru')\n",
      "Generated for section:  ('h3', 'РИА «Новости» с 2014 года по настоящее время')\n",
      "Generated for section:  ('h3', 'РИА «Новости» до 2013 года')\n",
      "Generated for section:  ('h2', 'Ликвидация ФГУП РАМИ «РИА Новости»')\n",
      "Generated for section:  ('h3', 'РИА Рейтинг')\n",
      "Generated for section:  ('h3', 'The Moscow News')\n",
      "Generated for section:  ('h3', 'РАПСИ')\n",
      "Generated for section:  ('h3', 'Блокировка в Канаде')\n",
      "Generated for section:  ('h3', 'Блокировка в ЕС')\n",
      "Generated for section:  ('h3', 'Блокировка в Азербайджане')\n",
      "Generated for section:  ('h2', 'Журналисты, погибшие или пострадавшие при исполнении профессионального долга')\n",
      "\n",
      "\n",
      "\n"
     ]
    },
    {
     "name": "stderr",
     "output_type": "stream",
     "text": [
      "Default prompt name is set to 'Classification'. This prompt will be applied to all `encode()` calls, except if `encode()` is called with `prompt` or `prompt_name` parameters.\n"
     ]
    },
    {
     "name": "stdout",
     "output_type": "stream",
     "text": [
      "Article name:  Uncharted 4: A Thief’s End\n",
      "Generated for section:  ('h1', 'Uncharted 4: A Thief’s End')\n",
      "Generated for section:  ('h2', 'Разработка')\n",
      "Generated for section:  ('h2', 'Отзывы и награды')\n",
      "\n",
      "\n",
      "\n"
     ]
    },
    {
     "name": "stderr",
     "output_type": "stream",
     "text": [
      "Default prompt name is set to 'Classification'. This prompt will be applied to all `encode()` calls, except if `encode()` is called with `prompt` or `prompt_name` parameters.\n"
     ]
    },
    {
     "name": "stdout",
     "output_type": "stream",
     "text": [
      "Article name:  Экономика КНР\n",
      "Generated for section:  ('h2', 'Сельское хозяйство')\n",
      "Generated for section:  ('h2', 'Общая информация')\n",
      "Generated for section:  ('h3', 'XXI\\xa0век')\n",
      "Generated for section:  ('h3', 'Руды металлов')\n",
      "Generated for section:  ('h3', 'Нефть и газ')\n",
      "Generated for section:  ('h2', 'Экономические показатели')\n",
      "Generated for section:  ('h3', 'XX\\xa0век')\n",
      "Generated for section:  ('h2', 'Частный сектор')\n",
      "Generated for section:  ('h2', 'Промышленность')\n",
      "Generated for section:  ('h2', 'Доходы населения')\n",
      "Generated for section:  ('h3', 'Электронная промышленность')\n",
      "Generated for section:  ('h3', 'Лёгкая промышленность')\n",
      "Generated for section:  ('h2', 'Минеральные ресурсы')\n",
      "Generated for section:  ('h3', 'Машиностроение')\n",
      "Generated for section:  ('h3', 'с США')\n",
      "Generated for section:  ('h3', 'с АСЕАН')\n",
      "Generated for section:  ('h3', 'Металлургия')\n",
      "Generated for section:  ('h2', 'Сфера услуг')\n",
      "Generated for section:  ('h3', 'с Австралией')\n",
      "Generated for section:  ('h3', 'с Центральной Азией')\n",
      "Generated for section:  ('h3', 'с Республикой Корея')\n",
      "Generated for section:  ('h3', 'с Африкой')\n",
      "Generated for section:  ('h3', 'Средний класс')\n",
      "Generated for section:  ('h2', 'Прогнозы экономистов')\n",
      "\n",
      "\n",
      "\n"
     ]
    },
    {
     "name": "stderr",
     "output_type": "stream",
     "text": [
      "Default prompt name is set to 'Classification'. This prompt will be applied to all `encode()` calls, except if `encode()` is called with `prompt` or `prompt_name` parameters.\n"
     ]
    },
    {
     "name": "stdout",
     "output_type": "stream",
     "text": [
      "Article name:  Экономика Германии\n",
      "Generated for section:  ('h4', 'Водородная энергетика')\n",
      "Generated for section:  ('h3', 'Энергетика')\n",
      "Generated for section:  ('h4', 'Машиностроение')\n",
      "\n",
      "\n",
      "\n"
     ]
    },
    {
     "name": "stderr",
     "output_type": "stream",
     "text": [
      "Default prompt name is set to 'Classification'. This prompt will be applied to all `encode()` calls, except if `encode()` is called with `prompt` or `prompt_name` parameters.\n"
     ]
    },
    {
     "name": "stdout",
     "output_type": "stream",
     "text": [
      "Article name:  Иннополис\n",
      "Generated for section:  ('h3', 'Проект города')\n",
      "Generated for section:  ('h3', 'Начало строительства')\n",
      "Generated for section:  ('h3', 'Городская инфраструктура')\n",
      "Generated for section:  ('h3', 'Городской бюджет')\n",
      "Generated for section:  ('h3', 'Административное устройство')\n",
      "Generated for section:  ('h2', 'Культура и спорт')\n",
      "Generated for section:  ('h3', 'Университет Иннополис')\n",
      "Generated for section:  ('h3', 'История названия')\n",
      "Generated for section:  ('h3', 'Открытие города')\n",
      "Generated for section:  ('h3', 'Транспорт')\n",
      "Generated for section:  ('h2', 'Здравоохранение')\n",
      "Generated for section:  ('h3', 'Органы власти')\n",
      "Generated for section:  ('h3', 'Особая экономическая зона')\n",
      "\n",
      "\n",
      "\n"
     ]
    },
    {
     "name": "stderr",
     "output_type": "stream",
     "text": [
      "Default prompt name is set to 'Classification'. This prompt will be applied to all `encode()` calls, except if `encode()` is called with `prompt` or `prompt_name` parameters.\n"
     ]
    },
    {
     "name": "stdout",
     "output_type": "stream",
     "text": [
      "Article name:  Летние Олимпийские игры 2020\n",
      "Generated for section:  ('h1', 'Летние Олимпийские игры 2020')\n",
      "Generated for section:  ('h2', 'Олимпийский комитет России')\n",
      "Generated for section:  ('h2', 'Случай с белорусской спортсменкой')\n",
      "Generated for section:  ('h2', 'Пандемия COVID-19 и Игры')\n",
      "\n",
      "\n",
      "\n"
     ]
    },
    {
     "name": "stderr",
     "output_type": "stream",
     "text": [
      "Default prompt name is set to 'Classification'. This prompt will be applied to all `encode()` calls, except if `encode()` is called with `prompt` or `prompt_name` parameters.\n"
     ]
    },
    {
     "name": "stdout",
     "output_type": "stream",
     "text": [
      "Article name:  Солнечная система\n",
      "Generated for section:  ('h5', 'Юпитер')\n",
      "Generated for section:  ('h2', 'Галактическая орбита')\n",
      "Generated for section:  ('h2', 'Структура')\n",
      "Generated for section:  ('h3', 'Терминология')\n",
      "Generated for section:  ('h4', 'Межпланетная среда')\n",
      "Generated for section:  ('h4', 'Пояс астероидов')\n",
      "Generated for section:  ('h4', 'Гелиосфера')\n",
      "Generated for section:  ('h5', 'Меркурий')\n",
      "Generated for section:  ('h4', 'Планеты земной группы')\n",
      "Generated for section:  ('h5', 'Церера')\n",
      "Generated for section:  ('h4', 'Кометы')\n",
      "Generated for section:  ('h5', 'Рассеянный диск')\n",
      "Generated for section:  ('h5', 'Девятая планета')\n",
      "Generated for section:  ('h2', '«Открытие» и исследование')\n",
      "Generated for section:  ('h5', 'Седна')\n",
      "Generated for section:  ('h4', 'Облако Оорта')\n",
      "Generated for section:  ('h2', 'Формирование и эволюция')\n",
      "Generated for section:  ('h3', 'Геоцентрическая и гелиоцентрическая системы')\n",
      "\n",
      "\n",
      "\n"
     ]
    },
    {
     "name": "stderr",
     "output_type": "stream",
     "text": [
      "Default prompt name is set to 'Classification'. This prompt will be applied to all `encode()` calls, except if `encode()` is called with `prompt` or `prompt_name` parameters.\n"
     ]
    },
    {
     "name": "stdout",
     "output_type": "stream",
     "text": [
      "Article name:  C++\n",
      "Generated for section:  ('h3', 'Развитие и стандартизация языка')\n",
      "Generated for section:  ('h3', 'C++ и Java')\n",
      "Generated for section:  ('h4', 'Результирующий объём исполнимого кода')\n",
      "Generated for section:  ('h3', 'Общие направления развития C++')\n",
      "Generated for section:  ('h2', 'Влияние и альтернативы')\n",
      "\n",
      "\n",
      "\n"
     ]
    },
    {
     "name": "stderr",
     "output_type": "stream",
     "text": [
      "Default prompt name is set to 'Classification'. This prompt will be applied to all `encode()` calls, except if `encode()` is called with `prompt` or `prompt_name` parameters.\n"
     ]
    },
    {
     "name": "stdout",
     "output_type": "stream",
     "text": [
      "Article name:  Си (язык программирования)\n",
      "Generated for section:  ('h2', 'Синтаксис и семантика')\n",
      "Generated for section:  ('h4', 'Вспомогательные целочисленные типы')\n",
      "Generated for section:  ('h4', 'Целые числа')\n",
      "Generated for section:  ('h4', 'Приведение целочисленных типов')\n",
      "Generated for section:  ('h4', 'Широкие строки')\n",
      "Generated for section:  ('h4', 'Неэффективные и небезопасные строки')\n",
      "Generated for section:  ('h4', 'Отсутствие контроля над адресной арифметикой')\n",
      "Generated for section:  ('h2', 'Препроцессор')\n",
      "Generated for section:  ('h4', 'Структуры')\n",
      "Generated for section:  ('h4', 'Массивы')\n",
      "Generated for section:  ('h4', 'Модули')\n",
      "Generated for section:  ('h4', 'Маркеры ошибок и errno')\n",
      "Generated for section:  ('h4', 'Отсутствие унификации обработки ошибок')\n",
      "Generated for section:  ('h4', 'Возврат кода ошибки')\n",
      "Generated for section:  ('h4', 'Ошибки в математических функциях')\n",
      "Generated for section:  ('h4', 'Освобождение ресурсов')\n",
      "Generated for section:  ('h4', 'Обработка ошибок на примере чтения файла')\n",
      "Generated for section:  ('h4', 'Отсутствие контроля инициализации переменных')\n",
      "Generated for section:  ('h4', 'Побуждающая к ошибкам динамическая память')\n",
      "Generated for section:  ('h4', 'Стандарты POSIX')\n",
      "Generated for section:  ('h4', 'Небезопасная реализация функций с переменным числом аргументов')\n",
      "\n",
      "\n",
      "\n"
     ]
    },
    {
     "name": "stderr",
     "output_type": "stream",
     "text": [
      "Default prompt name is set to 'Classification'. This prompt will be applied to all `encode()` calls, except if `encode()` is called with `prompt` or `prompt_name` parameters.\n"
     ]
    },
    {
     "name": "stdout",
     "output_type": "stream",
     "text": [
      "Article name:  Сбербанк России\n",
      "Generated for section:  ('h3', '2010—2019')\n",
      "Generated for section:  ('h1', 'Сбербанк России')\n",
      "Generated for section:  ('h2', 'История')\n",
      "Generated for section:  ('h3', '2020\\xa0год\\xa0— н.\\u2009в.')\n",
      "Generated for section:  ('h3', 'Производственная система Сбербанка')\n",
      "Generated for section:  ('h3', 'Показатели деятельности')\n",
      "Generated for section:  ('h2', 'Деятельность')\n",
      "Generated for section:  ('h3', 'Слияния и поглощения. Дочерние проекты')\n",
      "Generated for section:  ('h2', 'Оценки рейтинговых агентств')\n",
      "Generated for section:  ('h2', 'Логотип и смена фирменного стиля')\n",
      "Generated for section:  ('h2', 'Вклады граждан СССР в банке')\n",
      "Generated for section:  ('h2', 'Антимонопольные дела')\n",
      "Generated for section:  ('h2', 'Судебные разбирательства')\n",
      "Generated for section:  ('h3', 'Мошеннические прозвоны и рассылки')\n",
      "Generated for section:  ('h2', 'Кибербезопасность')\n",
      "Generated for section:  ('h2', 'Санкции')\n",
      "\n",
      "\n",
      "\n"
     ]
    },
    {
     "name": "stderr",
     "output_type": "stream",
     "text": [
      "Default prompt name is set to 'Classification'. This prompt will be applied to all `encode()` calls, except if `encode()` is called with `prompt` or `prompt_name` parameters.\n"
     ]
    },
    {
     "name": "stdout",
     "output_type": "stream",
     "text": [
      "Article name:  Чёрная смерть\n",
      "Generated for section:  ('h1', 'Чёрная смерть')\n",
      "Generated for section:  ('h2', 'Альтернативные теории')\n",
      "Generated for section:  ('h2', 'Хроника распространения чумы')\n",
      "Generated for section:  ('h3', 'Климатический фактор')\n",
      "Generated for section:  ('h2', 'Начало эпидемии')\n",
      "Generated for section:  ('h2', 'Эпидемиология')\n",
      "Generated for section:  ('h3', 'Католическая церковь и чума')\n",
      "\n",
      "\n",
      "\n"
     ]
    },
    {
     "name": "stderr",
     "output_type": "stream",
     "text": [
      "Default prompt name is set to 'Classification'. This prompt will be applied to all `encode()` calls, except if `encode()` is called with `prompt` or `prompt_name` parameters.\n"
     ]
    },
    {
     "name": "stdout",
     "output_type": "stream",
     "text": [
      "Article name:  Яндекс\n",
      "Generated for section:  ('h3', 'Поиск и портал')\n",
      "Generated for section:  ('h2', 'Сервисы, службы и приложения')\n",
      "Generated for section:  ('h3', 'Такси')\n",
      "Generated for section:  ('h1', 'Яндекс')\n",
      "Generated for section:  ('h2', 'Разделение бизнеса')\n",
      "Generated for section:  ('h3', '«Яндекс. Маркет»')\n",
      "Generated for section:  ('h3', 'Медиасервисы')\n",
      "Generated for section:  ('h3', 'Вертикали')\n",
      "Generated for section:  ('h3', 'История')\n",
      "Generated for section:  ('h2', 'Статистика и финансовые показатели')\n",
      "\n",
      "\n",
      "\n"
     ]
    },
    {
     "name": "stderr",
     "output_type": "stream",
     "text": [
      "Default prompt name is set to 'Classification'. This prompt will be applied to all `encode()` calls, except if `encode()` is called with `prompt` or `prompt_name` parameters.\n"
     ]
    },
    {
     "name": "stdout",
     "output_type": "stream",
     "text": [
      "Article name:  Google (компания)\n",
      "Generated for section:  ('h3', 'Неологизм «гуглить»')\n",
      "Generated for section:  ('h3', 'Рост')\n",
      "Generated for section:  ('h1', 'Google (компания)')\n",
      "Generated for section:  ('h3', 'Приобретения и партнёрства')\n",
      "Generated for section:  ('h3', 'Другие сервисы')\n",
      "Generated for section:  ('h3', 'Финансирование и первичное публичное предложение')\n",
      "Generated for section:  ('h3', 'Нарушение права на неприкосновенность частной жизни')\n",
      "Generated for section:  ('h3', 'Цензура в компании')\n",
      "Generated for section:  ('h3', 'Санкции Европейской комиссии')\n",
      "Generated for section:  ('h3', 'Gemini AI')\n",
      "Generated for section:  ('h3', 'Штрафы, суды, расследования')\n",
      "\n",
      "\n",
      "\n"
     ]
    },
    {
     "name": "stderr",
     "output_type": "stream",
     "text": [
      "Default prompt name is set to 'Classification'. This prompt will be applied to all `encode()` calls, except if `encode()` is called with `prompt` or `prompt_name` parameters.\n"
     ]
    },
    {
     "name": "stdout",
     "output_type": "stream",
     "text": [
      "Article name:  Большой адронный коллайдер\n",
      "Generated for section:  ('h4', '2008 год. Запуск. Авария')\n",
      "Generated for section:  ('h1', 'Большой адронный коллайдер')\n",
      "Generated for section:  ('h4', '2009—2014 годы. Работа на пониженной энергии (Run1)')\n",
      "Generated for section:  ('h4', '2022 (Run3)')\n",
      "Generated for section:  ('h3', 'Детекторы')\n",
      "\n",
      "\n",
      "\n"
     ]
    },
    {
     "name": "stderr",
     "output_type": "stream",
     "text": [
      "Default prompt name is set to 'Classification'. This prompt will be applied to all `encode()` calls, except if `encode()` is called with `prompt` or `prompt_name` parameters.\n"
     ]
    },
    {
     "name": "stdout",
     "output_type": "stream",
     "text": [
      "Article name:  Геморрагическая лихорадка Эбола\n",
      "Generated for section:  ('h2', 'Описание')\n",
      "Generated for section:  ('h1', 'Геморрагическая лихорадка Эбола')\n",
      "Generated for section:  ('h3', 'Кровотечение')\n",
      "Generated for section:  ('h3', 'События XXI\\xa0века')\n",
      "Generated for section:  ('h2', 'Эпидемиология')\n",
      "Generated for section:  ('h3', 'Препараты без доказанной эффективности')\n",
      "Generated for section:  ('h2', 'Лечение')\n",
      "Generated for section:  ('h2', 'Патогенез')\n",
      "Generated for section:  ('h3', 'Вакцины')\n",
      "Generated for section:  ('h2', 'Последствия болезни')\n",
      "\n",
      "\n",
      "\n"
     ]
    },
    {
     "name": "stderr",
     "output_type": "stream",
     "text": [
      "Default prompt name is set to 'Classification'. This prompt will be applied to all `encode()` calls, except if `encode()` is called with `prompt` or `prompt_name` parameters.\n"
     ]
    },
    {
     "name": "stdout",
     "output_type": "stream",
     "text": [
      "Article name:  Вирус иммунодефицита человека\n",
      "Generated for section:  ('h2', 'Классификация')\n",
      "Generated for section:  ('h3', 'Проникновение в клетку и обратная транскрипция')\n",
      "Generated for section:  ('h1', 'Вирус иммунодефицита человека')\n",
      "Generated for section:  ('h3', 'Лечение')\n",
      "Generated for section:  ('h2', 'Геном и кодируемые белки')\n",
      "Generated for section:  ('h2', 'Строение вириона')\n",
      "Generated for section:  ('h2', 'Открытие ВИЧ')\n",
      "Generated for section:  ('h3', 'Диагностика')\n",
      "Generated for section:  ('h3', 'Препараты для профилактики')\n",
      "Generated for section:  ('h3', 'ВИЧ-2')\n",
      "Generated for section:  ('h3', 'Nef')\n",
      "Generated for section:  ('h3', 'Vpu')\n",
      "Generated for section:  ('h3', 'Естественная устойчивость к ВИЧ')\n",
      "Generated for section:  ('h2', 'Происхождение')\n",
      "Generated for section:  ('h3', 'Распространение по организму')\n",
      "Generated for section:  ('h3', 'Транскрипция, сплайсинг, транспорт РНК из ядра в цитоплазму и трансляция')\n",
      "\n",
      "\n",
      "\n"
     ]
    },
    {
     "name": "stderr",
     "output_type": "stream",
     "text": [
      "Default prompt name is set to 'Classification'. This prompt will be applied to all `encode()` calls, except if `encode()` is called with `prompt` or `prompt_name` parameters.\n"
     ]
    },
    {
     "name": "stdout",
     "output_type": "stream",
     "text": [
      "Article name:  Dota 2\n",
      "Generated for section:  ('h2', 'Выход')\n",
      "Generated for section:  ('h1', 'Dota 2')\n",
      "Generated for section:  ('h2', 'Разработка')\n",
      "Generated for section:  ('h2', 'Игровой процесс')\n",
      "Generated for section:  ('h2', 'Судебные разбирательства')\n",
      "Generated for section:  ('h2', 'Игры человека против компьютера')\n",
      "Generated for section:  ('h2', 'Отзывы')\n",
      "\n",
      "\n",
      "\n"
     ]
    },
    {
     "name": "stderr",
     "output_type": "stream",
     "text": [
      "Default prompt name is set to 'Classification'. This prompt will be applied to all `encode()` calls, except if `encode()` is called with `prompt` or `prompt_name` parameters.\n"
     ]
    },
    {
     "name": "stdout",
     "output_type": "stream",
     "text": [
      "Article name:  TikTok\n",
      "Generated for section:  ('h3', 'Незаконный сбор данных')\n",
      "Generated for section:  ('h1', 'TikTok')\n",
      "Generated for section:  ('h3', 'Продажа американского сегмента TikTok')\n",
      "Generated for section:  ('h2', 'История')\n",
      "Generated for section:  ('h4', 'США')\n",
      "Generated for section:  ('h4', 'Российская Федерация')\n",
      "\n",
      "\n",
      "\n"
     ]
    },
    {
     "name": "stderr",
     "output_type": "stream",
     "text": [
      "Default prompt name is set to 'Classification'. This prompt will be applied to all `encode()` calls, except if `encode()` is called with `prompt` or `prompt_name` parameters.\n"
     ]
    },
    {
     "name": "stdout",
     "output_type": "stream",
     "text": [
      "Article name:  Марс\n",
      "Generated for section:  ('h3', 'Времена года на Марсе')\n",
      "Generated for section:  ('h2', 'Орбитальные характеристики')\n",
      "Generated for section:  ('h3', 'Параметры планеты')\n",
      "Generated for section:  ('h3', 'Атмосферное давление')\n",
      "Generated for section:  ('h2', 'Атмосфера и климат')\n",
      "Generated for section:  ('h3', 'В античной мифологии')\n",
      "Generated for section:  ('h3', 'Климат')\n",
      "Generated for section:  ('h3', 'Грунт')\n",
      "Generated for section:  ('h2', 'Основные сведения')\n",
      "Generated for section:  ('h2', 'Поверхность')\n",
      "Generated for section:  ('h3', 'Лёд и полярные шапки')\n",
      "Generated for section:  ('h2', 'Геология и внутреннее строение')\n",
      "Generated for section:  ('h3', 'Сила тяжести')\n",
      "Generated for section:  ('h3', 'Пылевые бури и пыльные вихри')\n",
      "Generated for section:  ('h3', 'Гидросфера Марса')\n",
      "Generated for section:  ('h3', 'Колонизация Марса')\n",
      "Generated for section:  ('h3', 'Небесная сфера')\n",
      "Generated for section:  ('h3', 'Магнитное поле')\n",
      "Generated for section:  ('h3', 'Фактические данные')\n",
      "Generated for section:  ('h2', 'Вопрос о праве собственности на планету и её участки')\n",
      "Generated for section:  ('h4', 'Исследование Марса межпланетными станциями')\n",
      "Generated for section:  ('h2', 'В культуре')\n",
      "Generated for section:  ('h4', 'Американские исследования')\n",
      "\n",
      "\n",
      "\n"
     ]
    },
    {
     "name": "stderr",
     "output_type": "stream",
     "text": [
      "Default prompt name is set to 'Classification'. This prompt will be applied to all `encode()` calls, except if `encode()` is called with `prompt` or `prompt_name` parameters.\n"
     ]
    },
    {
     "name": "stdout",
     "output_type": "stream",
     "text": [
      "Article name:  YouTube\n",
      "Generated for section:  ('h3', 'Загрузка видео')\n",
      "Generated for section:  ('h1', 'YouTube')\n",
      "Generated for section:  ('h2', 'История')\n",
      "Generated for section:  ('h3', 'Реклама')\n",
      "Generated for section:  ('h2', 'Блокировка, фильтрация и цензура')\n",
      "Generated for section:  ('h3', 'Ограничения функций в России')\n",
      "\n",
      "\n",
      "\n"
     ]
    },
    {
     "name": "stderr",
     "output_type": "stream",
     "text": [
      "Default prompt name is set to 'Classification'. This prompt will be applied to all `encode()` calls, except if `encode()` is called with `prompt` or `prompt_name` parameters.\n"
     ]
    }
   ],
   "source": [
    "page = get_article(name, False, True)\n",
    "sections = await wiki_evaluater.rank_sections(page)"
   ]
  },
  {
   "cell_type": "code",
   "execution_count": 13,
   "id": "ea338bbe-d804-47f7-85ac-1ae266174a0d",
   "metadata": {
    "collapsed": true,
    "jupyter": {
     "outputs_hidden": true
    },
    "scrolled": true
   },
   "outputs": [
    {
     "name": "stderr",
     "output_type": "stream",
     "text": [
      "[autoreload of wiki_gen failed: Traceback (most recent call last):\n",
      "  File \"C:\\Users\\dagri\\anaconda3\\envs\\WIKIbench\\Lib\\site-packages\\IPython\\extensions\\autoreload.py\", line 280, in check\n",
      "    elif self.deduper_reloader.maybe_reload_module(m):\n",
      "         ^^^^^^^^^^^^^^^^^^^^^^^^^^^^^^^^^^^^^^^^^^^^\n",
      "  File \"C:\\Users\\dagri\\anaconda3\\envs\\WIKIbench\\Lib\\site-packages\\IPython\\extensions\\deduperreload\\deduperreload.py\", line 533, in maybe_reload_module\n",
      "    new_source_code = f.read()\n",
      "                      ^^^^^^^^\n",
      "  File \"C:\\Users\\dagri\\anaconda3\\envs\\WIKIbench\\Lib\\encodings\\cp1251.py\", line 23, in decode\n",
      "    return codecs.charmap_decode(input,self.errors,decoding_table)[0]\n",
      "           ^^^^^^^^^^^^^^^^^^^^^^^^^^^^^^^^^^^^^^^^^^^^^^^^^^^^^^^\n",
      "UnicodeDecodeError: 'charmap' codec can't decode byte 0x98 in position 3794: character maps to <undefined>\n",
      "]\n",
      "Default prompt name is set to 'Classification'. This prompt will be applied to all `encode()` calls, except if `encode()` is called with `prompt` or `prompt_name` parameters.\n"
     ]
    },
    {
     "name": "stdout",
     "output_type": "stream",
     "text": [
      "https://ru.ruwiki.ru/wiki/Python\n",
      "('h1', 'Python')\n",
      "BERTScore Precision: 0.6102\n",
      "BERTScore Recall:    0.5932\n",
      "BERTScore F1:        0.6016\n",
      "\n",
      "Python является динамическим интерпретируемым языком, в котором нет объявлений типов переменных, параметров, функций или методов в исходном коде. Язык отслеживает типы всех значений во время выполнения и помечает код, который не имеет смысла во время выполнения. Исходные файлы Python используют расширение \".py\" и называются модулями, которые можно запустить напрямую или импортировать и использовать каким-либо другим модулем. Переменные в Python чувствительны к регистру, и конец строки отмечает конец оператора, поэтому не требуется точка с запятой в конце каждого оператора. Функции в Python должны быть определены перед их вызовом, обычно функцию main() определяют в нижней части файла, и отступы в коде Python влияют на его смысл, логический блок операторов должен иметь одинаковый отступ. Python выполняет очень мало проверок во время компиляции, почти все проверки типа и имени откладываются до выполнения каждой строки.\n",
      "\n",
      "В языке Python используются различные стили именования, включая подчеркивание и верблюжий регистр. Ключевые слова, такие как \"if\" и \"while\", не могут быть использованы в качестве имен переменных, а встроенные модули, такие как \"str\" и \"list\", не должны использоваться в качестве имен переменных, чтобы не переопределить системные переменные. Модули Python имеют свои собственные пространства имен, что позволяет избежать конфликтов имен переменных между модулями. Импорт модулей может быть осуществлен с помощью оператора \"import\", который позволяет получить доступ к определениям в модуле по полному имени, например \"sys.exit()\". Кроме того, существует форма импорта \"from sys import argv, exit\", которая делает определения доступными по коротким именам, но рекомендуется использовать полные имена для ясности. Python имеет обширную стандартную библиотеку, включающую множество модулей и пакетов, таких как sys, re и os, которые можно использовать без дополнительных настроек. Документация по всем модулям и пакетам доступна на сайте http://docs.python.org/library. Помощь по Python можно получить через поиск в Google, официальный сайт документации, список рассылки Tutor, StackOverflow и Quora. Внутри интерпретатора Python функции help() и dir() предоставляют доступ к строкам документации и атрибутам объектов. Эти функции можно использовать для получения информации о модулях, функциях и методах.\n",
      "\n",
      "Существует несколько реализаций языка программирования Python, включая CPython и его варианты, такие как Stackless Python, Pyston и Cinder. Также существуют уменьшенные варианты, такие как MicroPython и CircuitPython, предназначенные для встроенных систем. Другие реализации, не зависящие от CPython, включают PyPy, Jython и IronPython. Кроме того, существуют компиляторы и расширения, такие как Cython, Nuitka и Numba, которые изменяют поведение реализаций Python или компилируют код Python в другие языки. Python имеет простой и читаемый синтаксис, а также последовательную модель программирования, что делает его легким для изучения и использования. Язык предназначен для того, чтобы быть интуитивным и простым, с минимальным количеством сложностей и произвольных решений. Это приводит к повышению производительности и качества программного обеспечения, поскольку программисты могут сосредоточиться на написании кода, а не на изучении языка. Python также включает в себя инструменты, такие как модули и объектно-ориентированное программирование, которые способствуют повторному использованию кода. Простота и последовательность Python делают его привлекательным выбором для разработчиков, особенно в условиях быстрого развития технологий.\n",
      "\n",
      "Python может автоматизировать работу с компонентами, скомпилированными на других языках, с помощью инструментов zoals SWIG и SIP. Более крупные фреймворки, такие как поддержка COM в MS Windows, Jython и IronPython, предоставляют альтернативные способы скриптинга компонентов. Python имеет интерфейсы к большинству реляционных баз данных, включая Sybase, Oracle и MySQL, и определяет портативный API для доступа к базам данных. Модуль pickle обеспечивает простую систему сохранения и восстановления объектов, а внешние системы, такие как ZODB и SQLObject, предоставляют объектно-ориентированные базы данных. Python также позволяет прототипировать системы, которые можно затем перенести на языки, такие как C или C++, без необходимости полного переписывания.\n",
      "\n",
      "Python поставляется с полным исходным кодом, что позволяет разработчикам изучать и изменять его, создавая большую команду экспертов по реализации. Разработка Python осуществляется сообществом, которое координирует свои усилия через Интернет, под руководством создателя языка Гвидо ван Россума. Изменения языка проходят формальную процедуру улучшения и проверку системой тестирования. Стандартная реализация Python написана на переносимом ANSI C и может работать на большинстве платформ, включая Linux, Unix, Windows, Mac OS и другие. Библиотека стандартных модулей и скомпилированный байт-код также предназначены для переносимости между платформами.\n",
      "\n",
      "Python считается более эффективным инструментом для программного обеспечения с длительным сроком службы из-за своей.uniformности и последовательности синтаксиса. Создатель Python, математик по образованию, разработал язык с высокой степенью последовательности и ортогональностью, что облегчает его изучение и использование. Напротив, Perl, созданный лингвистом, имеет более гибкий и контекстно-зависимый дизайн, что может привести к трудностям в поддержке и обслуживании кода. Свобода выражения, поощряемая в сообществе Perl, может привести к уникальному и сложному коду, но также может создать проблемы при его поддержке. В результате Python часто предпочтительнее для проектов, требующих длительного обслуживания и поддержки.\n",
      "\n",
      "Язык Python относительно легко выучить, и опытные программисты могут начать создавать значительные программы уже через несколько часов\n",
      "\n",
      "\n",
      "('h2', 'История')\n",
      "BERTScore Precision: 0.5481\n",
      "BERTScore Recall:    0.6509\n",
      "BERTScore F1:        0.5951\n",
      "\n",
      "Разработка и выпуск Python 2.7 описаны в документе PEP 373, версия 2.7 получала поддержку исправления ошибок до 2020 года, официально завершив поддержку 1 января 2020 года. Последнее обновление поддержки, 2.7.18, было выпущено 20 апреля 2020 года. График выпуска 2.7.0 включал несколько альфа-, бета- и кандидатских версий, прежде чем была выпущена окончательная версия 3 июля 2010 года. Python имеет объектно-ориентированную модель, поддерживает динамическую типизацию, автоматическое управление памятью и включает в себя широкий спектр библиотек и инструментов для решения различных задач. Язык предназначен для того, чтобы сделать программирование более приятным, чем рутинным, благодаря своему встроенному инструментарию и простой синтаксису. Философия Python основана на минимализме, где предпочтение отдается явному и простому решению задач, а не сложному и неявному.\n",
      "\n",
      "Python поставляется с полным исходным кодом, что позволяет разработчикам изучать и изменять его, создавая большую команду экспертов по реализации. Разработка Python осуществляется сообществом, которое координирует свои усилия через Интернет, под руководством создателя языка Гвидо ван Россума. Изменения в языке проходят формальную процедуру улучшения и проверку, что делает Python более консервативным в отношении изменений. Стандартная реализация Python написана на переносимом ANSI C и может работать на большинстве основных платформ, включая Linux, Unix, Windows, Mac OS и другие. Это позволяет программам на Python работать на широком спектре устройств, от карманных компьютеров до суперкомпьютеров. Кроме того, Python считается более эффективным инструментом для программ, которые будут использоваться в течение длительного времени, поскольку его код легче читать и поддерживать. Создатель Python, математик по образованию, разработал язык с высокой степенью.uniformity и orthogonalностью, что делает его более простым для изучения и использования.\n",
      "\n",
      "Гвидо ван Россум создал Python, опираясь на свой опыт работы с языком ABC в группе CWI и знания о языке Modula-3. Он хотел создать язык, который бы сочетал в себе лучшие черты ABC и Modula-3, но был бы более расширяемым и имел бы доступ к системным вызовам Amoeba. Ван Россум был недоволен ограничениями ABC и не мог расширить его, что стало одной из причин создания нового языка. Опыт работы с Amoeba и необходимость в более удобном инструменте для системного администрирования также повлияли на создание Python. Ван Россум решил создать язык, который бы имел синтаксис, похожий на ABC, но с возможностью доступа к системным вызовам Amoeba. Разработка Python началась в 1989 году, а уже в 1991 году язык был опубликован в USENET. Версии Python различаются по стабильности, начиная с alpha, за которой следуют beta, release candidate и окончательный релиз. Alpha-версии имеют суффикс \"aN\", beta-версии - \"bN\", а release candidate - \"rcN\". Версии с суффиксом \"+\" являются нерелизными и собираются напрямую из репозитория разработки CPython.\n",
      "\n",
      "Для обсуждения Python существуют различные онлайн-платформы, включая новостные группы и почтовые списки, такие как comp.lang.python.announce, которая получает около пяти сообщений в день. Более подробная информация о других почтовых списках и новостных группах доступна на сайте https://www.python.org/community/lists/. Существует множество книг о Python, и их список можно найти на странице https://wiki.python.org/moin/PythonBooks. Первая статья о Python была опубликована в 1991 году и с тех пор стала устаревшей. Инфраструктура проекта Python распределена по всему миру и управляется командой Python Infrastructure Team. Документация по Python доступна на сайте https://docs.python.org/3/, а также в форматах PDF, plain text и HTML.\n",
      "\n",
      "Волонтёры, занимающиеся языком программирования Python, решили прекратить поддержку Python 2 с 1 января 2020 года. Это означает, что после этой даты в Python 2 не будут внесены никакие улучшения или исправления, даже если будут обнаружены проблемы с безопасностью. Решение о прекращении поддержки Python 2 было принято для того, чтобы ускорить улучшение Python, поскольку поддержка двух версий одновременно замедляла развитие языка. Волонтёры рекомендуют пользователям перейти на Python 3 как можно скорее. Прекращение поддержки Python 2 было запланировано изначально на 2015 год, но затем было перенесено на 2020 год.\n",
      "\n",
      "Python 2.7.18 был выпущен в апреле 2020 года с исправлениями, сделанными после выпуска Python 2.7.17 в октябре 2019 года. Поддержка Python 2 прекратилась 1 января 2020 года, и волонтеры не будут помогать в решении проблем безопасности или других вопросов, связанных с Python 2. Для перехода кода с Python 2 на Python 3 рекомендуется использовать официальное руководство \"Porting Python 2 Code to Python 3\". Если вы не уверены, зависит ли ваше программное обеспечение от Python 2, следует обратиться к поставщикам или разработчикам, или использовать инструмент \"Can I Use Python 3?\" для проверки. Программное обеспечение, написанное на Python 2, может столкнуться с проблемами безопасности и ограничениями в использовании инструментов, поддерживающих только Python 3.\n",
      "\n",
      "Пользователи, зависящие от программного обеспечения, написанного на Python 2, должны обратиться к поставщикам или разработчикам за помощью в переходе на Python 3. Если помощи нет, можно использовать ресурс \"Can I Use Python 3?\" для определения необходимых обновлений. Для получения поддержки можно обратиться к поставщикам\n",
      "\n",
      "\n",
      "('h2', 'Концепция и философия')\n",
      "BERTScore Precision: 0.5497\n",
      "BERTScore Recall:    0.5907\n",
      "BERTScore F1:        0.5695\n",
      "\n",
      "Python - это интерпретируемый, интерактивный, объектно-ориентированный язык программирования, поддерживающий несколько парадигм программирования и имеющий простую синтаксис. Он включает в себя модули, исключения, динамическую типизацию и классы, а также имеет интерфейсы к системным вызовам, библиотекам и оконным системам. Создатель языка, Гвидо ван Россум, стремился объединить лучшие черты языков ABC и Modula-3, сделав Python более расширяемым и доступным для системных вызовов Amoeba. Python является высокоуровневым языком программирования общего назначения, который может быть применен к различным классам задач, и имеет большую стандартную библиотеку, охватывающую такие области, как обработка строк, интернет-протоколы, инженерия программного обеспечения и интерфейсы операционной системы. Разработка Python началась в 1989 году, и уже через год язык использовался в проекте Amoeba с успехом. Фонд программного обеспечения Python, независимая некоммерческая организация, владеет авторскими правами на Python и занимается продвижением и развитием языка.\n",
      "\n",
      "Одним из ключевых расширений Python являются генераторные выражения, которые позволяют итерировать по элементам по одному, не создавая полного списка в памяти, что экономит память. Они особенно полезны с функциями, такими как sum(), min() и max(), которые уменьшают итерируемый ввод до одного значения. Кроме того, Python имеет модуль pprint, который предоставляет возможность \"красиво печатать\" произвольные структуры данных Python в форме, пригодной для использования в качестве входных данных для интерпретатора. Модуль сохраняет объекты на одной строке, если это возможно, и переносит их на несколько строк, если они не помещаются в допустимую ширину, которую можно регулировать с помощью параметра width. Python также поддерживает добавление новых встроенных модулей с помощью программирования на C, что позволяет реализовывать новые типы объектов и вызывать функции библиотеки C и системные вызовы.\n",
      "\n",
      "Для управления памятью Python использует стратегию подсчета ссылок, когда каждый объект содержит счетчик, который увеличивается при создании ссылки на объект и уменьшается при удалении ссылки, и освобождает память, когда счетчик достигает нуля. Кроме того, Python предлагает детектор циклов для обнаружения циклов ссылок, которые не могут быть освобождены с помощью обычного подсчёта ссылок. Модуль gc предоставляет функцию collect() для запуска детектора циклов, а также интерфейсы конфигурации и возможность отключения детектора во время выполнения. Это позволяет разработчикам эффективно управлять памятью и предотвращать утечки памяти, которые могут возникать из-за необычных путей в коде.\n",
      "\n",
      "\n",
      "('h2', 'Портируемость')\n",
      "BERTScore Precision: 0.0000\n",
      "BERTScore Recall:    0.0000\n",
      "BERTScore F1:        0.0000\n",
      "\n",
      "\n",
      "('h2', 'Типы и структуры данных')\n",
      "BERTScore Precision: 0.5998\n",
      "BERTScore Recall:    0.5927\n",
      "BERTScore F1:        0.5962\n",
      "\n",
      "Python имеет различные структуры данных, включая числовые типы, которые могут хранить простые данные, и коллекционные типы, которые могут обрабатывать несколько объектов одновременно. Контейнеры в Python можно разделить на типы последовательностей и неупорядоченные типы, при этом типы последовательностей, такие как строки, списки и кортежи, позволяют доступ к элементам в определенном порядке с помощью индекса. Строки являются неизменяемыми и ограничены кавычками или апострофами, в то время как списки являются изменяемыми и определяются с помощью квадратных скобок. Неупорядоченные типы включают множества и словари, где множества представляют собой неупорядоченную коллекцию неизменяемых значений и используются для проверки принадлежности и удаления дубликатов, а словари хранят неупорядоченные отношения один-к-одному между ключами и значениями. Эти структуры данных позволяют эффективно обрабатывать и манипулировать данными в программировании на Python.\n",
      "\n",
      "При работе со структурами данных в Python можно использовать различные операторы и функции для эффективной итерации и манипуляции данными. Например, оператор for может быть использован для итерации по последовательности значений, такой как список, строка, кортеж или словарь, и выполнять блок кода для каждого элемента. Кроме того, функции в Python могут быть определены с помощью ключевого слова def и могут принимать аргументы по ссылке без указания типа данных, что позволяет гибко обрабатывать и манипулировать данными. Кроме того, модули в Python, такие как Biopython, предоставляют широкий спектр возможностей для биоинформатики, включая расчет чистого заряда белка по его аминокислотной последовательности, что демонстрирует универсальность и эффективность языка Python в различных областях применения.\n",
      "\n",
      "\n",
      "('h2', 'Синтаксис и семантика')\n",
      "BERTScore Precision: 0.0000\n",
      "BERTScore Recall:    0.0000\n",
      "BERTScore F1:        0.0000\n",
      "\n",
      "\n",
      "('h3', 'Выражения')\n",
      "BERTScore Precision: 0.5817\n",
      "BERTScore Recall:    0.6640\n",
      "BERTScore F1:        0.6201\n",
      "\n",
      "Выражения в Python представляют собой единицы кода, которые выдают значение при оценке и могут включать переменные, литералы и операторы. Правила приоритета операторов в Python соответствуют математическим правилам, что позволяет точно определять значение сложных выражений. Сложные выражения могут быть разбиты с помощью правил приоритета операторов, но часто лучше использовать дополнительные скобки для ясности. Выражения могут включать математические возможности, такие как функция sin(), предоставляемые стандартной библиотекой Python. Переменные могут быть использованы для хранения и вывода значений, полученных в результате выражений, включая отдельные символы из строк и результаты расчетов. Выражения могут быть использованы в различных контекстах, включая функции и циклы, для автоматизации повторяющихся задач и выполнения расчетов.\n",
      "\n",
      "\n",
      "('h3', 'Строки документации')\n",
      "BERTScore Precision: 0.4298\n",
      "BERTScore Recall:    0.5214\n",
      "BERTScore F1:        0.4712\n",
      "\n",
      "Информация о строках документации в Python не может быть извлечена из предоставленных источников, поскольку они не содержат никаких значимых данных. Предоставленный текст не имеет контекста или смысла, что делает невозможным создание информативного описания. В результате невозможно предоставить подробное описание строк документации в Python на основе этих источников. Строки документации являются важным аспектом программирования, но без конкретной информации их описание в контексте Python невозможно. Необходимы дополнительные источники для предоставления точной и полезной информации по этой теме.\n",
      "\n",
      "\n",
      "('h2', 'Парадигмы программирования')\n",
      "BERTScore Precision: 0.5579\n",
      "BERTScore Recall:    0.6202\n",
      "BERTScore F1:        0.5874\n",
      "\n",
      "Python поддерживает структурированное программирование, которое включает в себя три основные конструкции: последовательность, решение и повторение. Последовательность предполагает выполнение блоков кода в порядке их следования, в то время как решение выполняет блок кода, если условие истинно, и может быть представлено с помощью операторов if и elif. Повторение повторяет блок кода, пока условие истинно, и может быть реализовано с помощью операторов while или for, при этом тело условных и циклических операторов определяется отступом в четыре пробела. Кроме того, Python может быть расширен для поддержки других парадигм программирования, таких как функциональное программирование и программирование с использованием предусловий и постусловий, с помощью метаклассов, таких как PyDBC. PyDBC позволяет изменить семантику Python без необходимости компиляции, добавляя вызовы методов, представляющих пред- и постусловия, а также инварианты классов. Это расширение позволяет разработчикам использовать более широкий спектр парадигм программирования при работе с Python.\n",
      "\n",
      "\n",
      "('h3', 'Объектно-ориентированное программирование')\n",
      "BERTScore Precision: 0.5997\n",
      "BERTScore Recall:    0.6732\n",
      "BERTScore F1:        0.6344\n",
      "\n",
      "Язык Python поддерживает объектно-ориентированное программирование, которое является одной из его ключевых особенностей. Этот подход позволяет создавать программы, состоящие из объектов, которые взаимодействуют между собой, что упрощает разработку сложных систем. В Python объектно-ориентированное программирование реализуется с помощью классов и объектов, которые могут наследовать свойства и поведение друг от друга. Это позволяет создавать иерархии объектов, что упрощает моделирование реальных систем. Кроме того, Python предоставляет мощную модель объектов, которая позволяет создавать сложные структуры данных и алгоритмы. Объектно-ориентированное программирование в Python широко используется в различных областях, включая научные исследования и разработку программного обеспечения.\n",
      "\n",
      "В дополнение к объектно-ориентированному программированию, Python также предоставляет мощные инструменты для работы со строками и функциями. Строки в Python представляют собой объекты-массивы символов типа str, которые могут быть манипулированы с помощью методов, таких как replace, и могут быть разрезаны с помощью синтаксиса срезов. Функции в Python могут принимать значения в качестве входных аргументов и выполнять над ними определенные действия, и могут быть использованы для выполнения различных манипуляций. Кроме того, функции в Python являются объектами и могут использоваться в качестве аргументов для других функций, что позволяет создавать сложные структуры программирования. Правильное использование имён переменных и функций, а также понимание правил области видимости и пространств имён в Python имеет важное значение для любого продвинутого программиста на этом языке.\n",
      "\n",
      "Для управления потоком выполнения программы Python предоставляет различные операторы, такие как if, elif и while. Оператор if позволяет выбирать, какие инструкции будут выполнены, в зависимости от условия, в то время как оператор while используется для повторения блока кода, пока заданное условие остается истинным. Кроме того, Python поддерживает рекурсивные функции, которые могут вызывать сами себя для решения задач. Алгоритм C3, используемый в Python 2.2 и 2.3, обеспечивает линеаризацию классов и предотвращает создание неоднозначных иерархий, что позволяет проектировать менее ошибочные иерархии классов.\n",
      "\n",
      "Python также предоставляет мощные инструменты для работы с данными и алгоритмами, включая рекурсивные функции и операторы цикла. Факториал натурального числа n, например, может быть реализован рекурсивно как произведение n и факториала числа n-1. Этот процесс позволяет реализовать математические операции на данных в рекурсивной форме, что упрощает решение сложных задач. Кроме того, использование алгоритма C3 в Python 2.3 позволяет проектировать менее ошибочные иерархии классов, что имеет важное значение для разработки сложных систем.\n",
      "\n",
      "Классы в Python позволяют объединять данные и функциональность, создавая новый тип объекта и позволяя создавать новые экземпляры этого типа. Каждый экземпляр класса может иметь атрибуты для поддержания своего состояния и методы для изменения этого состояния. Механизм классов в Python сочетает в себе элементы классовых механизмов C++ и Modula-3, обеспечивая все стандартные функции объектно-ориентированного программирования, включая наследование классов и переопределение методов. Классы в Python создаются во время выполнения и могут быть изменены после создания, а также могут содержать произвольные данные и иметь переопределенные операторы.\n",
      "\n",
      "Пространства имён объектов также образуют пространство имён. Пространства имён не имеют отношения между собой, поэтому разные модули могут определять одинаковые имена без конфликтов. Имена в модулях являются атрибутами, которые могут быть читаемыми или записываемыми, и записываемые атрибуты можно удалять с помощью оператора del. Пространства имён создаются в разное время и имеют разную продолжительность жизни, например, пространство имён встроенных имён создается при запуске интерпретатора Python и никогда не удаляется. Глобальное пространство имён модуля создается при чтении определения модуля, а локальное пространство имён функции создается при вызове функции.\n",
      "\n",
      "Алгоритм C3, используемый в Python для разрешения порядка в иерархиях множественного наследования, обеспечивает линеаризацию классов и предотвращает создание неоднозначных иерархий. Этот алгоритм гарантирует сохранение порядка, если это возможно, но если порядок нельзя сохранить, слияние не может быть рассчитано. Алгоритм C3 используется в Python начиная с версии 2.3 и позволяет проектировать менее ошибочные иерархии классов, что имеет важное значение для разработки сложных систем. Кроме того, алгоритм C3 позволяет создавать сложные структуры данных и алгоритмы, что упрощает решение сложных задач.\n",
      "\n",
      "Линейнизация класса в Python представляет собой упорядоченный список его предков, который может быть рассчитан с помощью алгоритма C3. Этот процесс включает в себя выбор головы первого списка и проверку её наличия в хвосте других списков. Если голова не найдена в других списках, она добавляется к линейному представлению класса и удаляется из списков слияния. Если голова найдена, процедура повторяется с следующим списком, пока все классы не будут удалены или пока не станет невозможно найти подходящую голову. Этот процесс гарантирует сохранение порядка, если это возможно, но если порядок нельзя сохранить, слияние не может быть рассчитано.\n",
      "\n",
      "Классы вводят новую синтаксис, три новых типа объектов и некоторые новые семантики. Определение класса имеет простую форму, начинающуюся с ключевого слова \"class\", за которым следует имя класса и набор операторов. Определения классов должны быть выполнены, прежде чем они будут иметь какой-либо эффект, и обычно содержат определения функций с особым форматом списка аргументов. При входе в определение класса создается новое пространство имен, используемое в качестве локальной области видимости, и все\n",
      "\n",
      "\n",
      "('h3', 'Обобщённое программирование')\n",
      "BERTScore Precision: 0.5112\n",
      "BERTScore Recall:    0.6128\n",
      "BERTScore F1:        0.5574\n",
      "\n",
      "Типовая система Python поддерживает объединения, обобщенные типы и специальный тип под названием Any, который согласован со всеми типами. Типы можно записывать с помощью нотации, например, Sequence[int], без необходимости добавления нового синтаксиса в язык. Предлагаемый модуль typing предоставляет стандартные определения и инструменты для типовой системы, включая понятие постепенного типирования, описанное в PEP 483. Python остается динамически типизированным языком, и авторы не намерены делать подсказки типов обязательными, основной целью является статический анализ, включая поддержку офлайн-проверщиков типов. Тип Type является ковариантным в своем параметре, что означает, что Type[Derived] является подтипом Type[Base], и позволяет вызывать переменную с произвольными аргументами, возвращая тип Any. Типовая система вдохновлена mypy и включает в себя использование отдельного офлайн-типчекера для проверки типов, который работает как мощный линтер, и не выполняет проверку типов во время выполнения.\n",
      "\n",
      "\n",
      "('h2', 'Возможности')\n",
      "BERTScore Precision: 0.0000\n",
      "BERTScore Recall:    0.0000\n",
      "BERTScore F1:        0.0000\n",
      "\n",
      "\n",
      "('h3', 'Регулярные выражения')\n",
      "BERTScore Precision: 0.5029\n",
      "BERTScore Recall:    0.5722\n",
      "BERTScore F1:        0.5353\n",
      "\n",
      "Модуль re в Python предоставляет операции сопоставления с регулярными выражениями, аналогичные тем, что найдены в Perl, и поддерживает как Unicode-строки, так и 8-битные строки. Регулярные выражения используют обратную косую черту ('\\') для обозначения специальных форм или для использования специальных символов без вызова их специального значения, и сырая строковая нотацию рекомендуется для шаблонов регулярных выражений, чтобы избежать конфликтов с использованием обратной косой черты в строковых литералах. Регулярные выражения представляют собой набор строк, которые соответствуют им, и функции в этом модуле позволяют проверить, соответствует ли конкретная строка данному регулярному выражению, а также объединять регулярные выражения для формирования новых выражений. Специальные символы в регулярных выражениях, такие как '|' или '(', имеют особое значение, и операторы повторения, такие как *, +, ?, {m,n}, позволяют указывать количество повторений предшествующего регулярного выражения. Конструкция '(?...)' используется для указания расширений в регулярных выражениях, включая установки флагов и некаптурующие скобки, и поддерживаются различные флаги, такие как re.A и re.ASCII, которые влияют на поведение регулярных выражений.\n",
      "\n",
      "Для улучшения читаемости шаблонов регулярных выражений можно использовать пробельные символы и комментарии. Пробельные символы внутри шаблона игнорируются, за исключением случаев, когда они находятся внутри класса символов или после неэкранированной обратной косой черты. Кроме того, строки, содержащие символ #, который не находится внутри класса символов и не предшествуется неэкранированной обратной косой чертой, игнорируются с этого символа до конца строки. Это позволяет добавлять комментарии и делить шаблоны на логические секции, что упрощает понимание и поддержку кода. Кроме того, функция re.compile() позволяет компилировать шаблоны регулярных выражений в объекты регулярных выражений, которые могут быть использованы для поиска совпадений с помощью методов match(), search() и других, что повышает эффективность при повторном использовании выражений в одной программе.\n",
      "\n",
      "\n",
      "('h2', 'Библиотеки')\n",
      "BERTScore Precision: 0.0000\n",
      "BERTScore Recall:    0.0000\n",
      "BERTScore F1:        0.0000\n",
      "\n",
      "\n",
      "('h3', 'Модули расширения и программные интерфейсы')\n",
      "BERTScore Precision: 0.5119\n",
      "BERTScore Recall:    0.5850\n",
      "BERTScore F1:        0.5460\n",
      "\n",
      "WSGI обеспечивает возможность использования любого фреймворка с любым сервером и создает новый вид фреймворков на основе слабо связанных компонентов middleware. Реализация WSGI не требует новых стандартных библиотек Python и может работать с версией Python 2.2.2 и выше, что делает ее простой и доступной для взаимодействия между серверами и фреймворками. Python предлагает широкий выбор веб-фреймворков, включая Zope, Quixote, Webware, SkunkWeb, PSO и Twisted Web, которые могут быть расширены с помощью middleware для добавления функциональности веб-приложений. WSGI-интерфейс имеет две стороны: серверную и приложенческую, где серверная сторона вызывает вызываемый объект, предоставленный приложенческой стороной, и может быть использован для создания компонентов \"middleware\" для предоставления расширенных API и других функций. Переменные окружения в WSGI представлены словарным объектом environ, содержащим переменные в стиле CGI, и должны соответствовать определенным требованиям, включая наличие переменных wsgi.version, wsgi.url_scheme, wsgi.input, wsgi.errors и wsgi.multithread.\n",
      "\n",
      "\n",
      "('h3', 'Графические библиотеки')\n",
      "BERTScore Precision: 0.6339\n",
      "BERTScore Recall:    0.6033\n",
      "BERTScore F1:        0.6182\n",
      "\n",
      "PyOpenGL является наиболее распространённым кроссплатформенным Python-интерфейсом к OpenGL и связанным с ним API, поддерживающим версии OpenGL от 1.1 до 4.4, а также другие спецификации, такие как GLES, GLU, EGL, WGL и GLX. Он совместим с различными внешними библиотеками GUI для Python, включая wxPython, PyGame, PyQt и другие. Проект PyOpenGL включает в себя несколько подпроектов, включая PyOpenGL, OpenGL_accelerate и OpenGLContext, и может быть установлен с помощью pip или путём ручной загрузки и установки пакетов. Документация PyOpenGL включает справочную документацию, поддержку и обратную связь, а также ссылки на более подробную документацию, и вклад в проект приветствуется. Существуют другие 3D-библиотеки для Python, многие из которых основаны на PyOpenGL или могут быть расширены с его помощью, что делает PyOpenGL важным инструментом для разработки графических приложений на Python.\n",
      "\n",
      "\n",
      "('h2', 'Примеры программ')\n",
      "BERTScore Precision: 0.0000\n",
      "BERTScore Recall:    0.0000\n",
      "BERTScore F1:        0.0000\n",
      "\n",
      "\n",
      "('h2', 'Профилирование и оптимизация кода')\n",
      "BERTScore Precision: 0.6368\n",
      "BERTScore Recall:    0.7067\n",
      "BERTScore F1:        0.6699\n",
      "\n",
      "PyChecker представляет собой инструмент для поиска ошибок в исходном коде Python, обнаруживающий проблемы, которые обычно выявляются компиляторами для менее динамических языков. Он работает путем импорта каждого модуля и проверки кода для каждого функции, класса и метода на возможные проблемы, включая неправильное использование глобальных переменных, передачу неправильного количества параметров и использование несуществующих классов и атрибутов. Инструмент можно использовать из командной строки или импортировать в код для проверки модулей, импортированных после него. PyChecker поддерживает Python 2.0-2.7 и может быть настроен с помощью файла .pycheckrc или командных опций. Этот инструмент аналогичен инструменту lint и может быть полезен для профилирования и оптимизации кода Python. Кроме того, PyChecker позволяет разработчикам выявлять и исправлять ошибки на ранней стадии, что может существенно повысить качество и производительность кода.\n",
      "\n",
      "\n",
      "('h2', 'Сравнение с другими языками')\n",
      "BERTScore Precision: 0.6171\n",
      "BERTScore Recall:    0.6574\n",
      "BERTScore F1:        0.6366\n",
      "\n",
      "Языки программирования, такие как Python, Java и C++, имеют разные философии, которые влияют на стиль написания программ, например, программисты Perl отдают предпочтение хеш-таблицам, а не массивам. Использование хеш-таблиц может быть эффективным для быстрого извлечения данных, но может быть неэффективным при необходимости последовательного просмотра всех значений. Существует компромисс между производительностью и удобством, и языки программирования, такие как Perl и Python, предлагают удобные функции, но могут привести к проблемам с производительностью и использованием памяти. Выбор языка программирования зависит не только от производительности и использования памяти, но и от таких факторов, как библиотеки, масштабируемость, сообщество и интерфейс с другими языками. Языки, такие как Java и Python, имеют обширные стандартные библиотеки, включающие классы для создания графических интерфейсов, структуры данных и доступ к базам данных, что позволяет им взаимодействовать с программами, написанными на других языках. Кроме того, инструменты, такие как Jython, позволяют языкам, таким как Java, Python и Perl, взаимодействовать друг с другом в областях, таких как биоинформатика.\n",
      "\n",
      "\n",
      "('h3', 'C++ и Java')\n",
      "BERTScore Precision: 0.6142\n",
      "BERTScore Recall:    0.6667\n",
      "BERTScore F1:        0.6394\n",
      "\n",
      "Python часто сравнивается с другими языками программирования, такими как Java, по различным критериям, включая скорость выполнения, время разработки и длину кода. По сравнению с Java, программы на Python обычно работают медленнее, но требуют меньше времени на разработку и имеют более короткий код. Языки программирования, такие как Java, Python и C#, имеют обширные стандартные библиотеки, включающие классы для создания графических интерфейсов, структуры данных и доступ к базам данных. Java может взаимодействовать с программами, написанными на C++, с помощью JNI, что позволяет использовать существующий код и ускорять выполнение программ. В отличие от Java, Python имеет более компактную реализацию и introspective возможности, что делает его привлекательным выбором для многих задач. Кроме того, Python и Java используются в биоинформатике, где могут взаимодействовать друг с другом с помощью инструментов, таких как Jython.\n",
      "\n",
      "Стоит отметить, что Python и Java имеют разные подходы к типизации и распределению памяти. В Python используется динамическая сильная типизация, что означает, что тип переменной может быть изменен во время выполнения программы. Это увеличивает гибкость программирования, но снижает обнаружение ошибок на ранней стадии. В отличие от этого, Java использует статическую сильную типизацию, что требует явного объявления переменных и обнаруживает ошибки типов на стадии компиляции. Кроме того, концепция боксинга и анбоксинга в Java и C# аналогична концепции Python для распределения памяти в стеке и куче. Однако использование боксинга не рекомендуется для арифметических выражений, поскольку может генерировать исключения, такие как NullPointerException в Java.\n",
      "\n",
      "Дополнительно, языки программирования, такие как Java, C# и Python, имеют ограничения на перегрузку операторов, чтобы избежать нестандартного поведения и улучшить читаемость кода. Кроме того, эти языки также решают проблемы, связанные с утечкой памяти и висящими ссылками, которые часто встречаются в языках, таких как C и C++. Например, Java и C# выбрасывают исключения при выходе за границы массива во время выполнения или сообщают об ошибках во время компиляции, в то время как Python, Modula-2 и Ada поддерживают проверку границ массива. Это снижает вероятность ошибок, связанных с указателями и памятью, особенно для начинающих программистов.\n",
      "\n",
      "Языки, такие как Java и Python, также не имеют указателей или имеют ограниченную поддержку указателей, что снижает вероятность ошибок, связанных с указателями, особенно для начинающих программистов. Кроме того, хорошо спроектированный язык программирования должен препятствовать перегрузке области видимости, поскольку она может быть ошибочной, особенно для начинающих программистов. Языки C# и Java не допускают перегрузку области видимости, а язык C++ предоставляет оператор разрешения области видимости \"::\" для доступа к глобальным переменным.\n",
      "\n",
      "\n",
      "('h3', 'Perl')\n",
      "BERTScore Precision: 0.5197\n",
      "BERTScore Recall:    0.5850\n",
      "BERTScore F1:        0.5504\n",
      "\n",
      "Perl имеет меньшую стандартную библиотеку по сравнению с языками, такими как Java и Python, но компенсирует это за счет большой коллекции модулей, доступных через сеть CPAN. Это позволяет разработчикам использовать существующий код и расширять функциональность языка. Perl может взаимодействовать с программами, написанными на C, используя XS, что позволяет использовать существующий код и ускорять выполнение программ. В биоинформатике Perl часто используется наряду с Java и Python, и для повторного использования кода создаются библиотеки и модули, такие как BioPerl. Эти библиотеки предоставляют набор инструментов для создания индивидуальных конвейеров и анализа, и являются открытыми проектами, принадлежащими Open Bioinformatics Foundation. Для оценки производительности Perl используются профилирующие инструменты, такие как Devel::DProf, которые предоставляют информацию о использовании памяти и времени, затраченном на выполнение функций.\n",
      "\n",
      "\n",
      "('h2', 'Критика')\n",
      "BERTScore Precision: 0.0000\n",
      "BERTScore Recall:    0.0000\n",
      "BERTScore F1:        0.0000\n",
      "\n",
      "\n",
      "('h3', 'Глобальная блокировка интерпретатора (GIL)')\n",
      "BERTScore Precision: 0.5222\n",
      "BERTScore Recall:    0.6227\n",
      "BERTScore F1:        0.5681\n",
      "\n",
      "Глобальная блокировка интерпретатора (GIL) в Python была переработана в экспериментальной версии, но это не означает полное удаление GIL. Новый механизм GIL по-прежнему сериализует доступ к большинству частей интерпретатора, но использует фиксированный интервал времени для освобождения GIL и планирования другого потока, вместо подсчёта операционных кодов. Это изменение направлено на улучшение эффективности и снижение накладных расходов в определённых ситуациях, таких как проблемы с производительностью блокировок в некоторых операционных системах. Новая реализация GIL улучшает производительность на платформах с плохой производительностью блокировок, таких как OS X, и даже на более эффективных платформах, таких как Linux. Реализация включает в себя пару мьютексов и условных переменных для защиты GIL и обеспечения принудительного переключения потоков, и поддерживает платформы POSIX и Windows. Новая реализация GIL обеспечивает примерно такие же, но немного лучшие результаты пропускной способности, и значительно лучше справляется с задержкой реакции на внешние события.\n",
      "\n",
      "Опыт показал, что полное удаление GIL может привести к замедлению работы на однопроцессорных системах из-за дополнительных операций блокировки. Например, в 1999 году Грег Стейн и Марк Хэммонд пытались удалить Глобальный Замок Интерпретатора (GIL) из Python, что привело к замедлению работы на 2 раза на однопроцессорной системе. Однако на системах с несколькими процессорами наблюдался прирост скорости, который стабилизировался на уровне 4 процессоров. Кроме того, стоит отметить, что GIL не является абсолютным ограничением для параллелизма в Python, поскольку большинство расширений на C освобождают GIL и могут работать параллельно на нескольких процессорах. Использование нескольких процессов с тщательным использованием межпроцессного взаимодействия может быть лучшим подходом для многопроцессорных систем, чем потоки, позволяя избежать проблем, связанных с блокировками и условиями гонки.\n",
      "\n",
      "\n",
      "('h2', 'Реализации')\n",
      "BERTScore Precision: 0.0000\n",
      "BERTScore Recall:    0.0000\n",
      "BERTScore F1:        0.0000\n",
      "\n",
      "\n",
      "('h2', 'Специализированные подмножества/расширения Python')\n",
      "BERTScore Precision: 0.0000\n",
      "BERTScore Recall:    0.0000\n",
      "BERTScore F1:        0.0000\n",
      "\n",
      "\n",
      "('h2', 'Инструменты поддержки программирования')\n",
      "BERTScore Precision: 0.0000\n",
      "BERTScore Recall:    0.0000\n",
      "BERTScore F1:        0.0000\n",
      "\n",
      "\n",
      "('h2', 'Применение')\n",
      "BERTScore Precision: 0.7186\n",
      "BERTScore Recall:    0.6242\n",
      "BERTScore F1:        0.6681\n",
      "\n",
      "Язык программирования Python находит широкое применение в различных областях, включая образование, научные исследования и разработку программного обеспечения. В школах Python может быть использован в качестве первого языка программирования, что позволяет школьникам решать разнообразные задачи в сжатые сроки и не вызывает трудностей при подготовке к ЕГЭ по информатике. В научных исследованиях, особенно в области нейробиологии, Python используется благодаря своей читаемости, модульности и большой стандартной библиотеке, что позволяет легко интегрироваться с другими языками программирования и библиотеками. Симуляторы нейронных сетей, такие как NEURON, NEST и MOOSE, изначально были написаны на языках программирования, таких как C++, но позже получили интерфейсы на языке Python, что позволяет использовать один и тот же скрипт моделирования и симуляции на разных симуляторах без изменений. Кроме того, проекты, такие как OMPC, направлены на создание моста между MATLAB и Python, обеспечивая независимость от коммерческого продукта MATLAB и позволяя переводить существующие функции MATLAB в программы на языке Python. Это демонстрирует универсальность и простоту языка Python, что делает его популярным выбором для различных приложений.\n",
      "\n",
      "Проект OMPC также играет значительную роль в продвижении Python как открытой альтернативы для научных вычислений, улучшая удобство использования и стимулируя дальнейшее развитие возможностей численных вычислений. Благодаря этому проекту, сообщество Python получает дополнительные инструменты и возможности для работы в области научных вычислений, что еще больше расширяет сферу применения языка Python.\n",
      "\n",
      "\n"
     ]
    }
   ],
   "source": [
    "from sentence_transformers import SentenceTransformer\n",
    "import razdel\n",
    "\n",
    "\n",
    "model_embeddings = SentenceTransformer(\"sergeyzh/BERTA\")\n",
    "print(page.link)\n",
    "for section in page.filtered_outline.keys():\n",
    "    if ((section not in sections) or sections[section] == -1) and section[0] == 'h2':\n",
    "        print(section)\n",
    "        print(f\"BERTScore Precision: {0:.4f}\")\n",
    "        print(f\"BERTScore Recall:    {0:.4f}\")\n",
    "        print(f\"BERTScore F1:        {0:.4f}\")\n",
    "        print()\n",
    "        print()\n",
    "        continue\n",
    "    elif section not in sections or sections[section] == -1:\n",
    "        continue\n",
    "    ref_emb =  model_embeddings.encode([s.text for s in razdel.sentenize(page.filtered_outline[section])], normalize_embeddings=True)\n",
    "    pred_emb = model_embeddings.encode([s.text for s in razdel.sentenize(sections[section])], normalize_embeddings=True)\n",
    "    sims = pred_emb @ ref_emb.T\n",
    "    precision_scores = sims.max(axis=1).mean()\n",
    "    recall_scores = sims.max(axis=0).mean()\n",
    "    if precision_scores + recall_scores == 0:\n",
    "        f1 = 0.0\n",
    "    else:\n",
    "        f1 = 2 * precision_scores * recall_scores / (precision_scores + recall_scores)\n",
    "    print(section)\n",
    "    print(f\"BERTScore Precision: {precision_scores:.4f}\")\n",
    "    print(f\"BERTScore Recall:    {recall_scores:.4f}\")\n",
    "    print(f\"BERTScore F1:        {f1:.4f}\")\n",
    "    print()\n",
    "    print(sections[section])\n",
    "    print()\n",
    "    print()"
   ]
  },
  {
   "cell_type": "code",
   "execution_count": 16,
   "id": "4d4c74ba-375b-4f94-a730-2352ed975061",
   "metadata": {},
   "outputs": [
    {
     "name": "stdout",
     "output_type": "stream",
     "text": [
      "Article name:  Квантовый компьютер\n"
     ]
    }
   ],
   "source": [
    "page = get_article(article_names[2], False, True)\n",
    "links = []\n",
    "for link in page.links.keys():\n",
    "    if link not in page.downloaded_links:\n",
    "        links.append((link, page.links[link][0]))"
   ]
  },
  {
   "cell_type": "code",
   "execution_count": 12,
   "id": "d258ba51-a187-417e-b5a0-f6c8e053faf7",
   "metadata": {
    "scrolled": true
   },
   "outputs": [
    {
     "name": "stdout",
     "output_type": "stream",
     "text": [
      "Article name:  Portal 2\n"
     ]
    }
   ],
   "source": [
    "annotations = AsyncList()\n",
    "\n",
    "pages = [get_article(name) for name in article_names]\n",
    "\n",
    "for page in pages:\n",
    "    annotations.append(wiki_writer.get_ref_subqueries(page))\n",
    "    annotations.append(wiki_writer.get_ref_subqueries(page, 1))\n",
    "\n",
    "await annotations.complete_couroutines(batch_size=40)\n",
    "annotations = await annotations.to_list()\n",
    "\n",
    "dir_name = os.path.join(\"Generation\", \"Subqueries_ref\", \"Annotations\")\n",
    "for i in range(0, len(annotations), 2):\n",
    "    name = re.sub(r'[<>:\"/\\\\|?*]', '', annotations[i][0])\n",
    "    file_name = os.path.join(dir_name, name + '.txt')\n",
    "    with open(file_name, 'w', encoding='utf-8') as f:\n",
    "        f.write(annotations[i][1] + \"\\n\")\n",
    "        f.write(annotations[i + 1][1])"
   ]
  },
  {
   "cell_type": "code",
   "execution_count": null,
   "id": "ce64aee5-17fa-478c-9005-2588d0088180",
   "metadata": {},
   "outputs": [],
   "source": [
    "'''\n",
    "for path in leaf_paths:\n",
    "    answer.append(wiki_writer.get_ref_subqueries(page.name, path))\n",
    "\n",
    "await answer.complete_couroutines(batch_size=25)\n",
    "answer = await answer.to_list()\n",
    "\n",
    "\n",
    "for i, json_str in enumerate(answer):\n",
    "    if json_str:\n",
    "        try:\n",
    "            if json_str.startswith('`'):\n",
    "                json_str = json_str[7:-3]\n",
    "            data = json.loads(json_str)\n",
    "            directory = os.path.join(\"Generation\", \"Subqueries_ref\", page.name)\n",
    "            os.makedirs(directory, exist_ok=True)\n",
    "            filename = page.name.replace(\" \", \"_\") + '_' + str(i) + '.json'\n",
    "            file_path = os.path.join(directory, filename)\n",
    "            with open(file_path, \"w\", encoding=\"utf-8\") as f:\n",
    "                json.dump(data, f, ensure_ascii=False, indent=2)\n",
    "        except:\n",
    "            print(f\"Пропущен некорректный JSON: {json_str}...\")\n",
    "            continue\n",
    "'''"
   ]
  },
  {
   "cell_type": "code",
   "execution_count": 9,
   "id": "740d953e-4b89-407d-9551-c7d8371bac00",
   "metadata": {},
   "outputs": [],
   "source": [
    "texts = []\n",
    "for subdir, _, files in os.walk(r'Generation\\Subqueries_ref\\Annotations'):\n",
    "    for file in files:\n",
    "        if file.endswith(\".txt\"):\n",
    "            file_path = os.path.join(subdir, file)\n",
    "            with open(file_path, \"r\", encoding=\"utf-8\") as f:\n",
    "                text = f.read()\n",
    "                texts.append((text, file_path))"
   ]
  },
  {
   "cell_type": "code",
   "execution_count": 10,
   "id": "b8f53a60-7a57-4685-b917-7c1521c17e01",
   "metadata": {},
   "outputs": [
    {
     "name": "stdout",
     "output_type": "stream",
     "text": [
      "COVID-19\n"
     ]
    }
   ],
   "source": [
    "print(texts[1][1].split('\\\\')[-1].split('.')[0])"
   ]
  },
  {
   "cell_type": "code",
   "execution_count": 11,
   "id": "996ca726-3d01-4a26-80be-cd194599788e",
   "metadata": {
    "editable": true,
    "scrolled": true,
    "slideshow": {
     "slide_type": ""
    },
    "tags": []
   },
   "outputs": [
    {
     "name": "stdout",
     "output_type": "stream",
     "text": [
      "C++\n",
      "COVID-19\n",
      "Dota 2\n",
      "Google (компания)\n",
      "Portal 2\n",
      "Python\n",
      "TikTok\n"
     ]
    },
    {
     "data": {
      "application/vnd.jupyter.widget-view+json": {
       "model_id": "40ed9ed52e3848fe83cf674016a43342",
       "version_major": 2,
       "version_minor": 0
      },
      "text/plain": [
       "Split strings:   0%|          | 0/1 [00:00<?, ?it/s]"
      ]
     },
     "metadata": {},
     "output_type": "display_data"
    },
    {
     "data": {
      "application/vnd.jupyter.widget-view+json": {
       "model_id": "b34478b8bb4243a8b4291f5b4e30b815",
       "version_major": 2,
       "version_minor": 0
      },
      "text/plain": [
       "Stem Tokens:   0%|          | 0/1 [00:00<?, ?it/s]"
      ]
     },
     "metadata": {},
     "output_type": "display_data"
    },
    {
     "data": {
      "application/vnd.jupyter.widget-view+json": {
       "model_id": "e449c483d51f499aaeb519807f74b324",
       "version_major": 2,
       "version_minor": 0
      },
      "text/plain": [
       "BM25S Retrieve:   0%|          | 0/1 [00:00<?, ?it/s]"
      ]
     },
     "metadata": {},
     "output_type": "display_data"
    },
    {
     "name": "stdout",
     "output_type": "stream",
     "text": [
      "Tomb Raider (игра, 2013)\n",
      "Ndcg:  0.99\n",
      "R-precision:  0.91\n"
     ]
    },
    {
     "data": {
      "application/vnd.jupyter.widget-view+json": {
       "model_id": "ac8908da984d4962b6db26905b8e8431",
       "version_major": 2,
       "version_minor": 0
      },
      "text/plain": [
       "Split strings:   0%|          | 0/1 [00:00<?, ?it/s]"
      ]
     },
     "metadata": {},
     "output_type": "display_data"
    },
    {
     "data": {
      "application/vnd.jupyter.widget-view+json": {
       "model_id": "471178d6fd7548bca13c461e6c249ac2",
       "version_major": 2,
       "version_minor": 0
      },
      "text/plain": [
       "Stem Tokens:   0%|          | 0/1 [00:00<?, ?it/s]"
      ]
     },
     "metadata": {},
     "output_type": "display_data"
    },
    {
     "data": {
      "application/vnd.jupyter.widget-view+json": {
       "model_id": "0f2f2b535fd04ac5995d125792211594",
       "version_major": 2,
       "version_minor": 0
      },
      "text/plain": [
       "BM25S Retrieve:   0%|          | 0/1 [00:00<?, ?it/s]"
      ]
     },
     "metadata": {},
     "output_type": "display_data"
    },
    {
     "name": "stdout",
     "output_type": "stream",
     "text": [
      "Uncharted 4 A Thief’s End\n",
      "Ndcg:  0.99\n",
      "R-precision:  0.93\n"
     ]
    },
    {
     "data": {
      "application/vnd.jupyter.widget-view+json": {
       "model_id": "d47b74c5e6364c4da03762b30ba474e7",
       "version_major": 2,
       "version_minor": 0
      },
      "text/plain": [
       "Split strings:   0%|          | 0/1 [00:00<?, ?it/s]"
      ]
     },
     "metadata": {},
     "output_type": "display_data"
    },
    {
     "data": {
      "application/vnd.jupyter.widget-view+json": {
       "model_id": "63137354b30041dcb92530ccbed8c8a4",
       "version_major": 2,
       "version_minor": 0
      },
      "text/plain": [
       "Stem Tokens:   0%|          | 0/1 [00:00<?, ?it/s]"
      ]
     },
     "metadata": {},
     "output_type": "display_data"
    },
    {
     "data": {
      "application/vnd.jupyter.widget-view+json": {
       "model_id": "6ac32d9241bc4409ad34217f86963f8f",
       "version_major": 2,
       "version_minor": 0
      },
      "text/plain": [
       "BM25S Retrieve:   0%|          | 0/1 [00:00<?, ?it/s]"
      ]
     },
     "metadata": {},
     "output_type": "display_data"
    },
    {
     "name": "stdout",
     "output_type": "stream",
     "text": [
      "YouTube\n",
      "Ndcg:  0.97\n",
      "R-precision:  0.83\n"
     ]
    },
    {
     "data": {
      "application/vnd.jupyter.widget-view+json": {
       "model_id": "7381b7272d4c4304a21e8acfab5b26da",
       "version_major": 2,
       "version_minor": 0
      },
      "text/plain": [
       "Split strings:   0%|          | 0/1 [00:00<?, ?it/s]"
      ]
     },
     "metadata": {},
     "output_type": "display_data"
    },
    {
     "data": {
      "application/vnd.jupyter.widget-view+json": {
       "model_id": "79ba684e984d468986045a79358f7872",
       "version_major": 2,
       "version_minor": 0
      },
      "text/plain": [
       "Stem Tokens:   0%|          | 0/1 [00:00<?, ?it/s]"
      ]
     },
     "metadata": {},
     "output_type": "display_data"
    },
    {
     "data": {
      "application/vnd.jupyter.widget-view+json": {
       "model_id": "e8f2e5db44b74d80a0367bb70bb92332",
       "version_major": 2,
       "version_minor": 0
      },
      "text/plain": [
       "BM25S Retrieve:   0%|          | 0/1 [00:00<?, ?it/s]"
      ]
     },
     "metadata": {},
     "output_type": "display_data"
    },
    {
     "name": "stdout",
     "output_type": "stream",
     "text": [
      "Большой адронный коллайдер\n",
      "Ndcg:  0.97\n",
      "R-precision:  0.87\n"
     ]
    },
    {
     "data": {
      "application/vnd.jupyter.widget-view+json": {
       "model_id": "4aca68f5262844989dcb26b91b168ae1",
       "version_major": 2,
       "version_minor": 0
      },
      "text/plain": [
       "Split strings:   0%|          | 0/1 [00:00<?, ?it/s]"
      ]
     },
     "metadata": {},
     "output_type": "display_data"
    },
    {
     "data": {
      "application/vnd.jupyter.widget-view+json": {
       "model_id": "3b20c2609f2348f79646c54d0caac310",
       "version_major": 2,
       "version_minor": 0
      },
      "text/plain": [
       "Stem Tokens:   0%|          | 0/1 [00:00<?, ?it/s]"
      ]
     },
     "metadata": {},
     "output_type": "display_data"
    },
    {
     "data": {
      "application/vnd.jupyter.widget-view+json": {
       "model_id": "ed0504c5f7b0481180220a3b4d5ef6f9",
       "version_major": 2,
       "version_minor": 0
      },
      "text/plain": [
       "BM25S Retrieve:   0%|          | 0/1 [00:00<?, ?it/s]"
      ]
     },
     "metadata": {},
     "output_type": "display_data"
    },
    {
     "name": "stdout",
     "output_type": "stream",
     "text": [
      "Вирус иммунодефицита человека\n",
      "Ndcg:  1.0\n",
      "R-precision:  0.97\n"
     ]
    },
    {
     "data": {
      "application/vnd.jupyter.widget-view+json": {
       "model_id": "e861494b4b354434a1361686438245b7",
       "version_major": 2,
       "version_minor": 0
      },
      "text/plain": [
       "Split strings:   0%|          | 0/1 [00:00<?, ?it/s]"
      ]
     },
     "metadata": {},
     "output_type": "display_data"
    },
    {
     "data": {
      "application/vnd.jupyter.widget-view+json": {
       "model_id": "a89e64dee42b493ea785fbd8a498a585",
       "version_major": 2,
       "version_minor": 0
      },
      "text/plain": [
       "Stem Tokens:   0%|          | 0/1 [00:00<?, ?it/s]"
      ]
     },
     "metadata": {},
     "output_type": "display_data"
    },
    {
     "data": {
      "application/vnd.jupyter.widget-view+json": {
       "model_id": "05934413141d4fd0bb4d431045bbde0b",
       "version_major": 2,
       "version_minor": 0
      },
      "text/plain": [
       "BM25S Retrieve:   0%|          | 0/1 [00:00<?, ?it/s]"
      ]
     },
     "metadata": {},
     "output_type": "display_data"
    },
    {
     "name": "stdout",
     "output_type": "stream",
     "text": [
      "Геморрагическая лихорадка Эбола\n",
      "Ndcg:  1.0\n",
      "R-precision:  1.0\n"
     ]
    },
    {
     "data": {
      "application/vnd.jupyter.widget-view+json": {
       "model_id": "e426e75c0f364c42a2badbaadcbdeddf",
       "version_major": 2,
       "version_minor": 0
      },
      "text/plain": [
       "Split strings:   0%|          | 0/1 [00:00<?, ?it/s]"
      ]
     },
     "metadata": {},
     "output_type": "display_data"
    },
    {
     "data": {
      "application/vnd.jupyter.widget-view+json": {
       "model_id": "f94a2d1fcc7644d39ad44acd7ff7cf9e",
       "version_major": 2,
       "version_minor": 0
      },
      "text/plain": [
       "Stem Tokens:   0%|          | 0/1 [00:00<?, ?it/s]"
      ]
     },
     "metadata": {},
     "output_type": "display_data"
    },
    {
     "data": {
      "application/vnd.jupyter.widget-view+json": {
       "model_id": "3abcbe8d435f4f288c286775b0ec03c1",
       "version_major": 2,
       "version_minor": 0
      },
      "text/plain": [
       "BM25S Retrieve:   0%|          | 0/1 [00:00<?, ?it/s]"
      ]
     },
     "metadata": {},
     "output_type": "display_data"
    },
    {
     "ename": "CancelledError",
     "evalue": "",
     "output_type": "error",
     "traceback": [
      "\u001b[31m---------------------------------------------------------------------------\u001b[39m",
      "\u001b[31mCancelledError\u001b[39m                            Traceback (most recent call last)",
      "\u001b[36mCell\u001b[39m\u001b[36m \u001b[39m\u001b[32mIn[11]\u001b[39m\u001b[32m, line 29\u001b[39m\n\u001b[32m     27\u001b[39m     \u001b[38;5;28mprint\u001b[39m(path.split(\u001b[33m'\u001b[39m\u001b[38;5;130;01m\\\\\u001b[39;00m\u001b[33m'\u001b[39m)[-\u001b[32m1\u001b[39m].split(\u001b[33m'\u001b[39m\u001b[33m.\u001b[39m\u001b[33m'\u001b[39m)[\u001b[32m0\u001b[39m])\n\u001b[32m     28\u001b[39m     \u001b[38;5;28;01mcontinue\u001b[39;00m\n\u001b[32m---> \u001b[39m\u001b[32m29\u001b[39m ndcg, pr_r_score = \u001b[38;5;28;01mawait\u001b[39;00m wiki_evaluater.rank_one_query(annotation, \u001b[32m3\u001b[39m*topK, path.split(\u001b[33m'\u001b[39m\u001b[38;5;130;01m\\\\\u001b[39;00m\u001b[33m'\u001b[39m)[-\u001b[32m1\u001b[39m].split(\u001b[33m'\u001b[39m\u001b[33m.\u001b[39m\u001b[33m'\u001b[39m)[\u001b[32m0\u001b[39m])\n\u001b[32m     30\u001b[39m ndcg_s += ndcg\n\u001b[32m     31\u001b[39m pr_r_s += pr_r_score\n",
      "\u001b[36mFile \u001b[39m\u001b[32m~\\WIKIBENCH\\src\\wiki_metrics.py:56\u001b[39m, in \u001b[36mWikiEval.rank_one_query\u001b[39m\u001b[34m(self, query, top_k, true_name)\u001b[39m\n\u001b[32m     54\u001b[39m source_texts = [snippets_list[idx][\u001b[32m1\u001b[39m] \u001b[38;5;28;01mfor\u001b[39;00m idx \u001b[38;5;129;01min\u001b[39;00m chosen_snippets]\n\u001b[32m     55\u001b[39m source_names = [snippets_list[idx][\u001b[32m0\u001b[39m][\u001b[32m0\u001b[39m] \u001b[38;5;28;01mfor\u001b[39;00m idx \u001b[38;5;129;01min\u001b[39;00m chosen_snippets] \u001b[38;5;66;03m# другой вид сохранения сниппетов!\u001b[39;00m\n\u001b[32m---> \u001b[39m\u001b[32m56\u001b[39m probs = \u001b[38;5;28;01mawait\u001b[39;00m \u001b[38;5;28mself\u001b[39m.client.filter_sources(true_name, source_texts)\n\u001b[32m     57\u001b[39m ranking = [(prob[\u001b[32m1\u001b[39m], name) \u001b[38;5;28;01mfor\u001b[39;00m name, prob \u001b[38;5;129;01min\u001b[39;00m \u001b[38;5;28mzip\u001b[39m(source_names, probs)]\n\u001b[32m     58\u001b[39m ranking = \u001b[38;5;28msorted\u001b[39m(ranking, reverse=\u001b[38;5;28;01mTrue\u001b[39;00m)\n",
      "\u001b[36mFile \u001b[39m\u001b[32m~\\WIKIBENCH\\src\\wiki_gen.py:354\u001b[39m, in \u001b[36mWikiGen.filter_sources\u001b[39m\u001b[34m(self, name, texts)\u001b[39m\n\u001b[32m    343\u001b[39m \u001b[38;5;28;01mfor\u001b[39;00m i1, text \u001b[38;5;129;01min\u001b[39;00m \u001b[38;5;28menumerate\u001b[39m(texts):\n\u001b[32m    344\u001b[39m     probs.append(\n\u001b[32m    345\u001b[39m         \u001b[38;5;28mself\u001b[39m.process_text(\n\u001b[32m    346\u001b[39m             i1, \n\u001b[32m   (...)\u001b[39m\u001b[32m    351\u001b[39m         )\n\u001b[32m    352\u001b[39m     )\n\u001b[32m--> \u001b[39m\u001b[32m354\u001b[39m \u001b[38;5;28;01mawait\u001b[39;00m probs.complete_couroutines(batch_size=\u001b[32m40\u001b[39m)\n\u001b[32m    355\u001b[39m final_probs = \u001b[38;5;28;01mawait\u001b[39;00m probs.to_list()\n\u001b[32m    356\u001b[39m final_probs = \u001b[38;5;28msorted\u001b[39m(final_probs)\n",
      "\u001b[36mFile \u001b[39m\u001b[32m~\\WIKIBENCH\\src\\openai_utils.py:113\u001b[39m, in \u001b[36mAsyncList.complete_couroutines\u001b[39m\u001b[34m(self, batch_size)\u001b[39m\n\u001b[32m    111\u001b[39m \u001b[38;5;28;01mwhile\u001b[39;00m \u001b[38;5;28mlen\u001b[39m(\u001b[38;5;28mself\u001b[39m.couroutine_ids) > \u001b[32m0\u001b[39m:\n\u001b[32m    112\u001b[39m     tasks = [\u001b[38;5;28mself\u001b[39m.contents[i] \u001b[38;5;28;01mfor\u001b[39;00m i \u001b[38;5;129;01min\u001b[39;00m \u001b[38;5;28mself\u001b[39m.couroutine_ids[:batch_size]]\n\u001b[32m--> \u001b[39m\u001b[32m113\u001b[39m     res = \u001b[38;5;28;01mawait\u001b[39;00m asyncio.gather(*tasks)\n\u001b[32m    114\u001b[39m     \u001b[38;5;28;01mfor\u001b[39;00m i, r \u001b[38;5;129;01min\u001b[39;00m \u001b[38;5;28mzip\u001b[39m(\u001b[38;5;28mself\u001b[39m.couroutine_ids, res):\n\u001b[32m    115\u001b[39m         \u001b[38;5;28mself\u001b[39m.contents[i] = r\n",
      "\u001b[36mFile \u001b[39m\u001b[32m~\\WIKIBENCH\\src\\wiki_gen.py:307\u001b[39m, in \u001b[36mWikiGen.process_text\u001b[39m\u001b[34m(self, i1, text, name, positive_choice, negative_choice)\u001b[39m\n\u001b[32m    298\u001b[39m     prompt = RANKING_PROMPT.format(name, snippet, positive_choice, negative_choice)\n\u001b[32m    299\u001b[39m     snippet_probs.append(\n\u001b[32m    300\u001b[39m         \u001b[38;5;28mself\u001b[39m.client.get_probability(\n\u001b[32m    301\u001b[39m             prompt, \n\u001b[32m   (...)\u001b[39m\u001b[32m    304\u001b[39m         )\n\u001b[32m    305\u001b[39m     )\n\u001b[32m--> \u001b[39m\u001b[32m307\u001b[39m \u001b[38;5;28;01mawait\u001b[39;00m snippet_probs.complete_couroutines(batch_size=\u001b[32m20\u001b[39m)\n\u001b[32m    308\u001b[39m snippet_results = \u001b[38;5;28;01mawait\u001b[39;00m snippet_probs.to_list()\n\u001b[32m    309\u001b[39m combined_prob = \u001b[32m0.0\u001b[39m\n",
      "\u001b[36mFile \u001b[39m\u001b[32m~\\WIKIBENCH\\src\\openai_utils.py:113\u001b[39m, in \u001b[36mAsyncList.complete_couroutines\u001b[39m\u001b[34m(self, batch_size)\u001b[39m\n\u001b[32m    111\u001b[39m \u001b[38;5;28;01mwhile\u001b[39;00m \u001b[38;5;28mlen\u001b[39m(\u001b[38;5;28mself\u001b[39m.couroutine_ids) > \u001b[32m0\u001b[39m:\n\u001b[32m    112\u001b[39m     tasks = [\u001b[38;5;28mself\u001b[39m.contents[i] \u001b[38;5;28;01mfor\u001b[39;00m i \u001b[38;5;129;01min\u001b[39;00m \u001b[38;5;28mself\u001b[39m.couroutine_ids[:batch_size]]\n\u001b[32m--> \u001b[39m\u001b[32m113\u001b[39m     res = \u001b[38;5;28;01mawait\u001b[39;00m asyncio.gather(*tasks)\n\u001b[32m    114\u001b[39m     \u001b[38;5;28;01mfor\u001b[39;00m i, r \u001b[38;5;129;01min\u001b[39;00m \u001b[38;5;28mzip\u001b[39m(\u001b[38;5;28mself\u001b[39m.couroutine_ids, res):\n\u001b[32m    115\u001b[39m         \u001b[38;5;28mself\u001b[39m.contents[i] = r\n",
      "\u001b[31mCancelledError\u001b[39m: "
     ]
    }
   ],
   "source": [
    "texts = []\n",
    "for subdir, _, files in os.walk(r'Generation\\Subqueries_ref\\Annotations'):\n",
    "    for file in files:\n",
    "        if file.endswith(\".txt\"):\n",
    "            file_path = os.path.join(subdir, file)\n",
    "            with open(file_path, \"r\", encoding=\"utf-8\") as f:\n",
    "                text = f.read()\n",
    "                texts.append((text, file_path))\n",
    "\n",
    "base_dir = os.path.join('Articles', 'Sources')\n",
    "\n",
    "folders = [f for f in os.listdir(base_dir) if os.path.isdir(os.path.join(base_dir, f))]\n",
    "\n",
    "snippets = wiki_evaluater.get_texts_from_disk()\n",
    "topR = []\n",
    "for folder in folders:\n",
    "    snip = [1 if snippet[0] == folder else 0 for snippet in snippets.keys()]\n",
    "    topR.append((folder, sum(snip)))\n",
    "\n",
    "ndcg_s = 0\n",
    "pr_r_s = 0\n",
    "count = 0\n",
    "for (annotation, path), (_, topK) in zip(texts, topR):\n",
    "    count += 1\n",
    "    \n",
    "    if count <= 7:\n",
    "        print(path.split('\\\\')[-1].split('.')[0])\n",
    "        continue\n",
    "    ndcg, pr_r_score = await wiki_evaluater.rank_one_query(annotation, 3*topK, path.split('\\\\')[-1].split('.')[0])\n",
    "    ndcg_s += ndcg\n",
    "    pr_r_s += pr_r_score\n",
    "    \n",
    "    print(path.split('\\\\')[-1].split('.')[0])\n",
    "    print(\"Ndcg: \", round(ndcg, 2))\n",
    "    print(\"R-precision: \", round(pr_r_score, 2))"
   ]
  },
  {
   "cell_type": "code",
   "execution_count": null,
   "id": "9659a5a6-22ac-4ae1-b74a-28b44fe60ea5",
   "metadata": {},
   "outputs": [],
   "source": [
    "print(ndcg_s/count)\n",
    "print(pr_r_s/count)"
   ]
  },
  {
   "cell_type": "code",
   "execution_count": 24,
   "id": "b12a074f-24fc-45a5-90f4-f5b5835f6ad1",
   "metadata": {},
   "outputs": [
    {
     "name": "stderr",
     "output_type": "stream",
     "text": [
      "Default prompt name is set to 'Classification'. This prompt will be applied to all `encode()` calls, except if `encode()` is called with `prompt` or `prompt_name` parameters.\n"
     ]
    }
   ],
   "source": [
    "client = LlmCompleter(api_address=URL, api_key=KEY, model_name='llama3-70b')\n",
    "wiki_writer = WikiGen(client)\n",
    "wiki_evaluater = WikiEval(wiki_writer, True)\n",
    "#for name in article_names:\n",
    "#    wiki_evaluater.get_embeddings(name)"
   ]
  },
  {
   "cell_type": "code",
   "execution_count": 21,
   "id": "4cc1a5c2-0f06-4bf1-9044-0566f2629a78",
   "metadata": {
    "scrolled": true
   },
   "outputs": [
    {
     "name": "stdout",
     "output_type": "stream",
     "text": [
      "Article name:  Python\n"
     ]
    },
    {
     "name": "stderr",
     "output_type": "stream",
     "text": [
      "Creating outline: 100%|███████████████████████████████████████████████████████████| 208/208 [00:00<00:00, 39694.93it/s]\n",
      "Getting link numbers: 100%|█████████████████████████████████████████████████████████| 195/195 [00:01<00:00, 148.21it/s]\n",
      "Calculating reference positions: 100%|██████████████████████████████████████████████| 54/54 [00:00<00:00, 53696.64it/s]\n"
     ]
    },
    {
     "name": "stdout",
     "output_type": "stream",
     "text": [
      "BERTScore Precision: 0.7675\n",
      "BERTScore Recall:    0.7159\n",
      "BERTScore F1:        0.7408\n",
      "\n",
      "Article name:  Летние Олимпийские игры 2024\n"
     ]
    },
    {
     "name": "stderr",
     "output_type": "stream",
     "text": [
      "Creating outline: 100%|██████████████████████████████████████████████████████████| 109/109 [00:00<00:00, 109033.90it/s]\n",
      "Getting link numbers: 100%|███████████████████████████████████████████████████████████| 96/96 [00:00<00:00, 297.70it/s]\n",
      "Calculating reference positions: 100%|██████████████████████████████████████████████| 32/32 [00:00<00:00, 31707.47it/s]\n"
     ]
    },
    {
     "name": "stdout",
     "output_type": "stream",
     "text": [
      "BERTScore Precision: 0.6329\n",
      "BERTScore Recall:    0.6278\n",
      "BERTScore F1:        0.6303\n",
      "\n",
      "Article name:  Квантовый компьютер\n"
     ]
    },
    {
     "name": "stderr",
     "output_type": "stream",
     "text": [
      "Creating outline: 100%|█████████████████████████████████████████████████████████████| 91/91 [00:00<00:00, 46450.25it/s]\n",
      "Getting link numbers: 100%|███████████████████████████████████████████████████████████| 62/62 [00:00<00:00, 407.56it/s]\n",
      "Calculating reference positions: 100%|█████████████████████████████████████████████████████████| 16/16 [00:00<?, ?it/s]\n"
     ]
    },
    {
     "name": "stdout",
     "output_type": "stream",
     "text": [
      "BERTScore Precision: 0.8234\n",
      "BERTScore Recall:    0.6833\n",
      "BERTScore F1:        0.7469\n",
      "\n",
      "Article name:  Присоединение Крыма к Российской Федерации\n"
     ]
    },
    {
     "name": "stderr",
     "output_type": "stream",
     "text": [
      "Creating outline: 100%|█████████████████████████████████████████████████████████████| 84/84 [00:00<00:00, 42540.63it/s]\n",
      "Getting link numbers: 100%|██████████████████████████████████████████████████████████| 36/36 [00:00<00:00, 1081.26it/s]\n",
      "Calculating reference positions: 100%|█████████████████████████████████████████████████████████| 22/22 [00:00<?, ?it/s]\n"
     ]
    },
    {
     "name": "stdout",
     "output_type": "stream",
     "text": [
      "BERTScore Precision: 0.6497\n",
      "BERTScore Recall:    0.6251\n",
      "BERTScore F1:        0.6372\n",
      "\n",
      "Article name:  Сколково (инновационный центр)\n"
     ]
    },
    {
     "name": "stderr",
     "output_type": "stream",
     "text": [
      "Creating outline: 100%|███████████████████████████████████████████████████████████| 283/283 [00:00<00:00, 50450.02it/s]\n",
      "Getting link numbers: 100%|█████████████████████████████████████████████████████████| 257/257 [00:01<00:00, 142.38it/s]\n",
      "Calculating reference positions: 100%|██████████████████████████████████████████████| 60/60 [00:00<00:00, 59818.93it/s]\n"
     ]
    },
    {
     "name": "stdout",
     "output_type": "stream",
     "text": [
      "BERTScore Precision: 0.6891\n",
      "BERTScore Recall:    0.6003\n",
      "BERTScore F1:        0.6416\n",
      "\n",
      "Article name:  Tomb Raider (игра, 2013)\n"
     ]
    },
    {
     "name": "stderr",
     "output_type": "stream",
     "text": [
      "Creating outline: 100%|███████████████████████████████████████████████████████████| 129/129 [00:00<00:00, 24438.36it/s]\n",
      "Getting link numbers: 100%|██████████████████████████████████████████████████████████| 270/270 [00:03<00:00, 73.81it/s]\n",
      "Calculating reference positions: 100%|██████████████████████████████████████████████| 33/33 [00:00<00:00, 61271.37it/s]\n"
     ]
    },
    {
     "name": "stdout",
     "output_type": "stream",
     "text": [
      "BERTScore Precision: 0.7748\n",
      "BERTScore Recall:    0.7210\n",
      "BERTScore F1:        0.7470\n",
      "\n",
      "Article name:  Чёрная дыра\n"
     ]
    },
    {
     "name": "stderr",
     "output_type": "stream",
     "text": [
      "Creating outline: 100%|███████████████████████████████████████████████████████████| 172/172 [00:00<00:00, 33874.27it/s]\n",
      "Getting link numbers: 100%|█████████████████████████████████████████████████████████| 104/104 [00:00<00:00, 231.75it/s]\n",
      "Calculating reference positions: 100%|██████████████████████████████████████████████| 50/50 [00:00<00:00, 92304.23it/s]\n"
     ]
    },
    {
     "name": "stdout",
     "output_type": "stream",
     "text": [
      "BERTScore Precision: 0.6968\n",
      "BERTScore Recall:    0.7395\n",
      "BERTScore F1:        0.7175\n",
      "\n",
      "Article name:  Экономика США\n"
     ]
    },
    {
     "name": "stderr",
     "output_type": "stream",
     "text": [
      "Creating outline: 100%|███████████████████████████████████████████████████████████| 148/148 [00:00<00:00, 49262.52it/s]\n",
      "Getting link numbers: 100%|███████████████████████████████████████████████████████████| 93/93 [00:00<00:00, 336.59it/s]\n",
      "Calculating reference positions: 100%|█████████████████████████████████████████████████████████| 30/30 [00:00<?, ?it/s]\n"
     ]
    },
    {
     "name": "stdout",
     "output_type": "stream",
     "text": [
      "BERTScore Precision: 0.7105\n",
      "BERTScore Recall:    0.6833\n",
      "BERTScore F1:        0.6966\n",
      "\n",
      "Article name:  Искусственный интеллект\n"
     ]
    },
    {
     "name": "stderr",
     "output_type": "stream",
     "text": [
      "Creating outline: 100%|███████████████████████████████████████████████████████████| 226/226 [00:00<00:00, 54359.03it/s]\n",
      "Getting link numbers: 100%|█████████████████████████████████████████████████████████| 106/106 [00:00<00:00, 340.59it/s]\n",
      "Calculating reference positions: 100%|█████████████████████████████████████████████| 61/61 [00:00<00:00, 113209.09it/s]\n"
     ]
    },
    {
     "name": "stdout",
     "output_type": "stream",
     "text": [
      "BERTScore Precision: 0.7543\n",
      "BERTScore Recall:    0.6968\n",
      "BERTScore F1:        0.7244\n",
      "\n",
      "Article name:  COVID-19\n"
     ]
    },
    {
     "name": "stderr",
     "output_type": "stream",
     "text": [
      "Creating outline: 100%|███████████████████████████████████████████████████████████| 191/191 [00:00<00:00, 52941.58it/s]\n",
      "Getting link numbers: 100%|█████████████████████████████████████████████████████████| 257/257 [00:02<00:00, 119.32it/s]\n",
      "Calculating reference positions: 100%|█████████████████████████████████████████████| 54/54 [00:00<00:00, 104086.59it/s]\n"
     ]
    },
    {
     "name": "stdout",
     "output_type": "stream",
     "text": [
      "BERTScore Precision: 0.7196\n",
      "BERTScore Recall:    0.7420\n",
      "BERTScore F1:        0.7306\n",
      "\n",
      "Article name:  Применение искусственного интеллекта\n"
     ]
    },
    {
     "name": "stderr",
     "output_type": "stream",
     "text": [
      "Creating outline: 100%|███████████████████████████████████████████████████████████| 151/151 [00:00<00:00, 56432.32it/s]\n",
      "Getting link numbers: 100%|█████████████████████████████████████████████████████████| 224/224 [00:01<00:00, 186.37it/s]\n",
      "Calculating reference positions: 100%|█████████████████████████████████████████████████████████| 46/46 [00:00<?, ?it/s]\n"
     ]
    },
    {
     "name": "stdout",
     "output_type": "stream",
     "text": [
      "BERTScore Precision: 0.7281\n",
      "BERTScore Recall:    0.6810\n",
      "BERTScore F1:        0.7038\n",
      "\n",
      "Article name:  РИА Новости\n"
     ]
    },
    {
     "name": "stderr",
     "output_type": "stream",
     "text": [
      "Creating outline: 100%|██████████████████████████████████████████████████████████| 102/102 [00:00<00:00, 101234.98it/s]\n",
      "Getting link numbers: 100%|███████████████████████████████████████████████████████████| 83/83 [00:00<00:00, 565.80it/s]\n",
      "Calculating reference positions: 100%|█████████████████████████████████████████████████████████| 29/29 [00:00<?, ?it/s]\n"
     ]
    },
    {
     "name": "stdout",
     "output_type": "stream",
     "text": [
      "BERTScore Precision: 0.7488\n",
      "BERTScore Recall:    0.6839\n",
      "BERTScore F1:        0.7148\n",
      "\n",
      "Article name:  Uncharted 4: A Thief’s End\n"
     ]
    },
    {
     "name": "stderr",
     "output_type": "stream",
     "text": [
      "Creating outline: 100%|█████████████████████████████████████████████████████████████| 56/56 [00:00<00:00, 55553.70it/s]\n",
      "Getting link numbers: 100%|███████████████████████████████████████████████████████████| 78/78 [00:00<00:00, 535.14it/s]\n",
      "Calculating reference positions: 100%|███████████████████████████████████████████████████████████| 9/9 [00:00<?, ?it/s]\n"
     ]
    },
    {
     "name": "stdout",
     "output_type": "stream",
     "text": [
      "BERTScore Precision: 0.7891\n",
      "BERTScore Recall:    0.8649\n",
      "BERTScore F1:        0.8252\n",
      "\n",
      "Article name:  Экономика КНР\n"
     ]
    },
    {
     "name": "stderr",
     "output_type": "stream",
     "text": [
      "Creating outline: 100%|███████████████████████████████████████████████████████████| 226/226 [00:00<00:00, 45220.53it/s]\n",
      "Getting link numbers: 100%|█████████████████████████████████████████████████████████| 172/172 [00:00<00:00, 175.65it/s]\n",
      "Calculating reference positions: 100%|██████████████████████████████████████████████| 57/57 [00:00<00:00, 56094.63it/s]\n"
     ]
    },
    {
     "name": "stdout",
     "output_type": "stream",
     "text": [
      "BERTScore Precision: 0.7128\n",
      "BERTScore Recall:    0.6747\n",
      "BERTScore F1:        0.6932\n",
      "\n",
      "Article name:  Экономика Германии\n"
     ]
    },
    {
     "name": "stderr",
     "output_type": "stream",
     "text": [
      "Creating outline: 100%|███████████████████████████████████████████████████████████| 151/151 [00:00<00:00, 75156.03it/s]\n",
      "Getting link numbers: 100%|███████████████████████████████████████████████████████████| 42/42 [00:00<00:00, 332.08it/s]\n",
      "Calculating reference positions: 100%|██████████████████████████████████████████████| 36/36 [00:00<00:00, 36192.46it/s]\n"
     ]
    },
    {
     "name": "stdout",
     "output_type": "stream",
     "text": [
      "BERTScore Precision: 0.8064\n",
      "BERTScore Recall:    0.7475\n",
      "BERTScore F1:        0.7758\n",
      "\n",
      "Article name:  Иннополис\n"
     ]
    },
    {
     "name": "stderr",
     "output_type": "stream",
     "text": [
      "Creating outline: 100%|█████████████████████████████████████████████████████████████| 84/84 [00:00<00:00, 43913.94it/s]\n",
      "Getting link numbers: 100%|█████████████████████████████████████████████████████████| 104/104 [00:00<00:00, 374.56it/s]\n",
      "Calculating reference positions: 100%|█████████████████████████████████████████████████████████| 25/25 [00:00<?, ?it/s]\n"
     ]
    },
    {
     "name": "stdout",
     "output_type": "stream",
     "text": [
      "BERTScore Precision: 0.7829\n",
      "BERTScore Recall:    0.7168\n",
      "BERTScore F1:        0.7484\n",
      "\n",
      "Article name:  Летние Олимпийские игры 2020\n"
     ]
    },
    {
     "name": "stderr",
     "output_type": "stream",
     "text": [
      "Creating outline: 100%|█████████████████████████████████████████████████████████████| 52/52 [00:00<00:00, 50277.50it/s]\n",
      "Getting link numbers: 100%|█████████████████████████████████████████████████████████| 103/103 [00:00<00:00, 272.69it/s]\n",
      "Calculating reference positions: 100%|██████████████████████████████████████████████| 14/14 [00:00<00:00, 19152.07it/s]\n"
     ]
    },
    {
     "name": "stdout",
     "output_type": "stream",
     "text": [
      "Couldn't get the answer\n",
      "BERTScore Precision: 0.6131\n",
      "BERTScore Recall:    0.5879\n",
      "BERTScore F1:        0.6003\n",
      "\n",
      "Article name:  Солнечная система\n"
     ]
    },
    {
     "name": "stderr",
     "output_type": "stream",
     "text": [
      "Creating outline: 100%|███████████████████████████████████████████████████████████| 155/155 [00:00<00:00, 39118.91it/s]\n",
      "Getting link numbers: 100%|███████████████████████████████████████████████████████████| 99/99 [00:00<00:00, 204.11it/s]\n",
      "Calculating reference positions: 100%|█████████████████████████████████████████████████████████| 47/47 [00:00<?, ?it/s]\n"
     ]
    },
    {
     "name": "stdout",
     "output_type": "stream",
     "text": [
      "Couldn't get the answer\n",
      "BERTScore Precision: 0.7194\n",
      "BERTScore Recall:    0.6165\n",
      "BERTScore F1:        0.6640\n",
      "\n",
      "Article name:  C++\n"
     ]
    },
    {
     "name": "stderr",
     "output_type": "stream",
     "text": [
      "Creating outline: 100%|███████████████████████████████████████████████████████████| 184/184 [00:00<00:00, 60696.18it/s]\n",
      "Getting link numbers: 100%|███████████████████████████████████████████████████████████| 59/59 [00:00<00:00, 329.09it/s]\n",
      "Calculating reference positions: 100%|█████████████████████████████████████████████████████████| 58/58 [00:00<?, ?it/s]\n"
     ]
    },
    {
     "name": "stdout",
     "output_type": "stream",
     "text": [
      "BERTScore Precision: 0.7530\n",
      "BERTScore Recall:    0.6629\n",
      "BERTScore F1:        0.7051\n",
      "\n",
      "Article name:  Си (язык программирования)\n"
     ]
    },
    {
     "name": "stderr",
     "output_type": "stream",
     "text": [
      "Creating outline: 100%|███████████████████████████████████████████████████████████| 223/223 [00:00<00:00, 44673.53it/s]\n",
      "Getting link numbers: 100%|█████████████████████████████████████████████████████████| 100/100 [00:00<00:00, 192.28it/s]\n",
      "Calculating reference positions: 100%|█████████████████████████████████████████████████████████| 68/68 [00:00<?, ?it/s]\n"
     ]
    },
    {
     "name": "stdout",
     "output_type": "stream",
     "text": [
      "BERTScore Precision: 0.7713\n",
      "BERTScore Recall:    0.6651\n",
      "BERTScore F1:        0.7142\n",
      "\n",
      "Article name:  Сбербанк России\n"
     ]
    },
    {
     "name": "stderr",
     "output_type": "stream",
     "text": [
      "Creating outline: 100%|███████████████████████████████████████████████████████████| 177/177 [00:00<00:00, 44279.60it/s]\n",
      "Getting link numbers: 100%|█████████████████████████████████████████████████████████| 197/197 [00:00<00:00, 241.18it/s]\n",
      "Calculating reference positions: 100%|██████████████████████████████████████████████| 28/28 [00:00<00:00, 28008.71it/s]\n"
     ]
    },
    {
     "name": "stdout",
     "output_type": "stream",
     "text": [
      "BERTScore Precision: 0.6732\n",
      "BERTScore Recall:    0.7232\n",
      "BERTScore F1:        0.6973\n",
      "\n",
      "Article name:  Чёрная смерть\n"
     ]
    },
    {
     "name": "stderr",
     "output_type": "stream",
     "text": [
      "Creating outline: 100%|███████████████████████████████████████████████████████████| 275/275 [00:00<00:00, 36147.59it/s]\n",
      "Getting link numbers: 100%|█████████████████████████████████████████████████████████| 214/214 [00:01<00:00, 162.74it/s]\n",
      "Calculating reference positions: 100%|█████████████████████████████████████████████████████████| 34/34 [00:00<?, ?it/s]\n"
     ]
    },
    {
     "name": "stdout",
     "output_type": "stream",
     "text": [
      "BERTScore Precision: 0.6411\n",
      "BERTScore Recall:    0.6520\n",
      "BERTScore F1:        0.6465\n",
      "\n",
      "Article name:  Яндекс\n"
     ]
    },
    {
     "name": "stderr",
     "output_type": "stream",
     "text": [
      "Creating outline: 100%|███████████████████████████████████████████████████████████| 105/105 [00:00<00:00, 63817.12it/s]\n",
      "Getting link numbers: 100%|█████████████████████████████████████████████████████████| 147/147 [00:00<00:00, 297.19it/s]\n",
      "Calculating reference positions: 100%|█████████████████████████████████████████████████████████| 30/30 [00:00<?, ?it/s]\n"
     ]
    },
    {
     "name": "stdout",
     "output_type": "stream",
     "text": [
      "BERTScore Precision: 0.6958\n",
      "BERTScore Recall:    0.7391\n",
      "BERTScore F1:        0.7168\n",
      "\n",
      "Article name:  Google (компания)\n"
     ]
    },
    {
     "name": "stderr",
     "output_type": "stream",
     "text": [
      "Creating outline: 100%|███████████████████████████████████████████████████████████| 143/143 [00:00<00:00, 53337.97it/s]\n",
      "Getting link numbers: 100%|█████████████████████████████████████████████████████████| 183/183 [00:00<00:00, 269.49it/s]\n",
      "Calculating reference positions: 100%|██████████████████████████████████████████████| 26/26 [00:00<00:00, 50370.39it/s]\n"
     ]
    },
    {
     "name": "stdout",
     "output_type": "stream",
     "text": [
      "BERTScore Precision: 0.7014\n",
      "BERTScore Recall:    0.6978\n",
      "BERTScore F1:        0.6996\n",
      "\n",
      "Article name:  Большой адронный коллайдер\n"
     ]
    },
    {
     "name": "stderr",
     "output_type": "stream",
     "text": [
      "Creating outline: 100%|█████████████████████████████████████████████████████████████| 88/88 [00:00<00:00, 35510.75it/s]\n",
      "Getting link numbers: 100%|███████████████████████████████████████████████████████████| 90/90 [00:00<00:00, 347.96it/s]\n",
      "Calculating reference positions: 100%|█████████████████████████████████████████████████████████| 32/32 [00:00<?, ?it/s]\n"
     ]
    },
    {
     "name": "stdout",
     "output_type": "stream",
     "text": [
      "BERTScore Precision: 0.7200\n",
      "BERTScore Recall:    0.6509\n",
      "BERTScore F1:        0.6837\n",
      "\n",
      "Article name:  Геморрагическая лихорадка Эбола\n"
     ]
    },
    {
     "name": "stderr",
     "output_type": "stream",
     "text": [
      "Creating outline: 100%|█████████████████████████████████████████████████████████████| 86/86 [00:00<00:00, 86088.34it/s]\n",
      "Getting link numbers: 100%|███████████████████████████████████████████████████████████| 95/95 [00:00<00:00, 313.42it/s]\n",
      "Calculating reference positions: 100%|█████████████████████████████████████████████████████████| 19/19 [00:00<?, ?it/s]\n"
     ]
    },
    {
     "name": "stdout",
     "output_type": "stream",
     "text": [
      "BERTScore Precision: 0.7234\n",
      "BERTScore Recall:    0.7558\n",
      "BERTScore F1:        0.7392\n",
      "\n",
      "Article name:  Вирус иммунодефицита человека\n"
     ]
    },
    {
     "name": "stderr",
     "output_type": "stream",
     "text": [
      "Creating outline: 100%|███████████████████████████████████████████████████████████| 124/124 [00:00<00:00, 49344.75it/s]\n",
      "Getting link numbers: 100%|█████████████████████████████████████████████████████████| 181/181 [00:01<00:00, 166.84it/s]\n",
      "Calculating reference positions: 100%|█████████████████████████████████████████████████████████| 30/30 [00:00<?, ?it/s]\n"
     ]
    },
    {
     "name": "stdout",
     "output_type": "stream",
     "text": [
      "BERTScore Precision: 0.7518\n",
      "BERTScore Recall:    0.6936\n",
      "BERTScore F1:        0.7215\n",
      "\n",
      "Article name:  Dota 2\n"
     ]
    },
    {
     "name": "stderr",
     "output_type": "stream",
     "text": [
      "Creating outline: 100%|█████████████████████████████████████████████████████████████| 43/43 [00:00<00:00, 20845.48it/s]\n",
      "Getting link numbers: 100%|█████████████████████████████████████████████████████████| 100/100 [00:00<00:00, 298.44it/s]\n",
      "Calculating reference positions: 100%|█████████████████████████████████████████████████████████| 13/13 [00:00<?, ?it/s]\n"
     ]
    },
    {
     "name": "stdout",
     "output_type": "stream",
     "text": [
      "BERTScore Precision: 0.6596\n",
      "BERTScore Recall:    0.7193\n",
      "BERTScore F1:        0.6882\n",
      "\n",
      "Article name:  TikTok\n"
     ]
    },
    {
     "name": "stderr",
     "output_type": "stream",
     "text": [
      "Creating outline: 100%|███████████████████████████████████████████████████████████| 143/143 [00:00<00:00, 71301.17it/s]\n",
      "Getting link numbers: 100%|█████████████████████████████████████████████████████████| 126/126 [00:00<00:00, 346.57it/s]\n",
      "Calculating reference positions: 100%|█████████████████████████████████████████████████████████| 30/30 [00:00<?, ?it/s]\n"
     ]
    },
    {
     "name": "stdout",
     "output_type": "stream",
     "text": [
      "BERTScore Precision: 0.6557\n",
      "BERTScore Recall:    0.6354\n",
      "BERTScore F1:        0.6454\n",
      "\n",
      "Article name:  Марс\n"
     ]
    },
    {
     "name": "stderr",
     "output_type": "stream",
     "text": [
      "Creating outline: 100%|███████████████████████████████████████████████████████████| 200/200 [00:00<00:00, 36923.32it/s]\n",
      "Getting link numbers: 100%|█████████████████████████████████████████████████████████| 160/160 [00:01<00:00, 138.84it/s]\n",
      "Calculating reference positions: 100%|██████████████████████████████████████████████| 42/42 [00:00<00:00, 43539.49it/s]\n"
     ]
    },
    {
     "name": "stdout",
     "output_type": "stream",
     "text": [
      "BERTScore Precision: 0.7337\n",
      "BERTScore Recall:    0.7666\n",
      "BERTScore F1:        0.7498\n",
      "\n",
      "Article name:  YouTube\n"
     ]
    },
    {
     "name": "stderr",
     "output_type": "stream",
     "text": [
      "Creating outline: 100%|███████████████████████████████████████████████████████████| 104/104 [00:00<00:00, 50851.90it/s]\n",
      "Getting link numbers: 100%|███████████████████████████████████████████████████████████| 96/96 [00:00<00:00, 423.04it/s]\n",
      "Calculating reference positions: 100%|██████████████████████████████████████████████| 18/18 [00:00<00:00, 17949.95it/s]\n"
     ]
    },
    {
     "name": "stdout",
     "output_type": "stream",
     "text": [
      "BERTScore Precision: 0.7226\n",
      "BERTScore Recall:    0.7471\n",
      "BERTScore F1:        0.7347\n",
      "\n",
      "BERTScore Precision: 0.7201\n",
      "BERTScore Recall:    0.6941\n",
      "BERTScore F1:        0.7058\n"
     ]
    }
   ],
   "source": [
    "p_s = 0\n",
    "r_s = 0\n",
    "f_s = 0\n",
    "for name in article_names:\n",
    "    page = get_article(name, is_downloaded=True)\n",
    "    p, r, f = await wiki_evaluater.rank_outline(name, mode=1, page=page, neighbor_count=1, description_mode=1)\n",
    "    p_s += p\n",
    "    r_s += r\n",
    "    f_s += f\n",
    "    print(f\"BERTScore Precision: {p:.4f}\")\n",
    "    print(f\"BERTScore Recall:    {r:.4f}\")\n",
    "    print(f\"BERTScore F1:        {f:.4f}\")\n",
    "    print()\n",
    "print(f\"BERTScore Precision: {p_s/len(article_names):.4f}\")\n",
    "print(f\"BERTScore Recall:    {r_s/len(article_names):.4f}\")\n",
    "print(f\"BERTScore F1:        {f_s/len(article_names):.4f}\")"
   ]
  },
  {
   "cell_type": "code",
   "execution_count": 10,
   "id": "ec693b49-28f3-437e-94dd-63854cf3d289",
   "metadata": {
    "collapsed": true,
    "jupyter": {
     "outputs_hidden": true
    },
    "scrolled": true
   },
   "outputs": [
    {
     "data": {
      "text/plain": [
       "{('h1',\n",
       "  'РИА Новости'): '9 декабря 2013 года медиагруппа РИА Новости была официально расформирована указом президента [1] Российской Федерации Владимира Путина «О некоторых мерах по повышению эффективности деятельности государственных средств массовой информации». Взамен была создана Международная медиагруппа « Россия сегодня » (МИА «Россия Сегодня»), которая продолжила использовать бренд РИА Новости. Главный редактор ФГУП РАМИ РИА Новости на момент ликвидации\\xa0— Ираклий Гачечиладзе [2].\\n\\nПомимо одноимённого агентства, в состав медиагруппы РИА Новости до 9 декабря 2013 года входило Российское агентство правовой и судебной информации ( РАПСИ ) [3], Агентство спортивных новостей «Р-Спорт» [4], Агентство экономической информации « Прайм » [5] [6], Рейтинговое агентство «РИА Рейтинг» [7], Российское информационное агентство науки и технологий «РИА Наука» [8], Издательский дом « Московские новости » [9], сеть медиацентров в России и за рубежом и ещё около 40 интернет-ресурсов на 22 языках. Совокупная аудитория на момент ликвидации РИА Новости как юридического лица и медиагруппы\\xa0— более 20\\xa0млн уникальных посетителей в месяц [9].\\n\\n',\n",
       " ('h2', 'История'): '',\n",
       " ('h3',\n",
       "  'Совинформбюро'): 'Через два дня после начала Великой отечественной войны\\xa0— 24 июня 1941 года Совет Народных Комиссаров СССР выпустил постановление «О создании и задачах Советского информационного бюро». В задачи агентства вошло составление сводок для радио, газет и журналов о положении на фронтах, работе тыла, о партизанском движении во время Великой Отечественной войны [10].\\n\\n',\n",
       " ('h3',\n",
       "  'Агентство печати «Новости»'): 'Совместно с Союзом советских обществ дружбы АПН издавало газету « Московские новости », которая с сентября 1990 года стала независимым изданием. Издательство АПН выпускало более 200 книг и брошюр общим тиражом около 20 миллионов экземпляров в год. В авторском активе агентства было более 7 тысяч человек. В АПН работали такие известные журналисты как Генрих Боровик, Владимир Симонов, Геннадий Герасимов, Владимир Познер, Владимир Молчанов, Виталий Третьяков и другие. Наряду с советскими авторами с агентством сотрудничали зарубежные писатели, журналисты и общественные деятели [11].\\n\\n',\n",
       " ('h3',\n",
       "  'РИА «Вести» и РИА «Новости»'): 'В сентябре 1991 года на базе ИАН было создано Российское информационное агентство «Новости». Указом Президента РФ от 22 августа 1991 года РИА «Новости» [15] было передано в ведение министерства печати и информации. Информационное агентство «Новости» имело около 80 загранбюро и корреспондентских пунктов, более 1\\xa0500 подписчиков в странах СНГ и около 100 за рубежом. На основании Указа Президента РФ от 15 сентября 1993 года «О Российском информационном агентстве „Новости“» РИА «Новости» стало государственным информационно-аналитическим агентством. В 1996 году работал радиоканал РИА «Новости»\\xa0— «РИА Радио». В августе 1997 года на базе телеканала РИА при учредительстве ВГТРК был создан телеканал « Культура ».\\n\\n',\n",
       " ('h3',\n",
       "  'РИА «Новости» до 2013 года'): 'Другим ключевым направлением развития РИА Новости в этот период стало превращение агентства в медиахолдинг. В 2008 году РИА Новости вернуло себе бренд « Московские новости » [19], утраченный агентством в 1990 году. В 2009 году РИА стало соучредителем агентства правовой информации РАПСИ, в 2011 приобрело агентство экономической информации « ПРАЙМ » [20] [21], создало агентство социальных исследований «Социальный навигатор», в 2012 создало рейтинговое агентство «РИА Рейтинг» [22], агентство спортивной информации «Р-Спорт» и российское информационное агентство науки и технологий «РИА Наука». В рамках мультимедийной стратегии на базе пресс-центра РИА Новости были созданы просветительские проекты: ЛектоРИА [23], РИА Арт [24], «Научный понедельник», «Открытый показ» и другие; социальные проекты «Диагноз которого нет»\\xa0— проект о детях аутистов, «Жизнь без преград», «Дети в беде», «Жизнь без наркотиков».\\n\\n',\n",
       " ('h3',\n",
       "  'РИА «Новости» с 2014 года по настоящее время'): 'В 2018 году сайт RIA.RU был перезапущен [27].\\n\\n4 января 2025 года украинский дрон атаковал ехавший по трассе Донецк-Горловка автомобиль с российскими журналистами, они ехали в Донецк после съёмок в Горловке. В результате удара погиб внештатный корреспондент издания « Известия », корреспондент РИА Новости и другие сотрудники СМИ получили ранения [28].\\n\\n',\n",
       " ('h2',\n",
       "  'Ликвидация ФГУП РАМИ «РИА Новости»'): '9 декабря 2013 года Президент России Владимир Путин подписал указ «О некоторых мерах по повышению эффективности деятельности государственных средств массовой информации» [29]. Согласно тексту указа, ФГУП РАМИ «РИА Новости» ликвидировано, права учредителя и имущественные права были переданы Международному информационному агентству « Россия сегодня » [30]. Генеральным директором новой структуры назначен Дмитрий Киселёв [31]. Тем же указом была ликвидирована Российская государственная радиовещательная компания « Голос России », имущество компании также перешло к « России сегодня ».\\n\\nГенеральный директор «России сегодня» Дмитрий Киселёв, комментируя создание агентства и своё назначение, обозначил цель новой структуры\\xa0— восстановить справедливое отношение к России [33]. «Восстановление справедливого отношения к России, как важной стране мира с добрыми намерениями\\xa0— это и есть миссия новой структуры, которую мне предстоит возглавить»\\n\\nЛиквидация РИА Новости и создание «России сегодня» вызвали широкое обсуждение в СМИ [34]. Так, комментируя указ, журналисты отмечали, что на фоне сокращения государственных инвестиций в «РИА Новости» в последние годы [35], другие государственные информационные активы\\xa0— ИТАР-ТАСС, федеральные телеканалы ( Первый канал, ВГТРК, НТВ, Russia Today ) никакого снижения государственной поддержки не ощутили [36].\\n\\n16 декабря 2013 года ликвидационная комиссия под руководством Дмитрия Киселёва [37] назначила на пост главного редактора упраздняемой структуры Ираклия Гачечиладзе [38], одновременно занимавшего должность заместителя главного редактора телеканала Russia Today Маргариты Симоньян.\\n\\n31 декабря 2013 года Дмитрий Киселёв объявил о своем решении назначить Маргариту Симоньян главным редактором «России сегодня» [39]. При этом, она сохраняет свою должность в RT.\\n\\n',\n",
       " ('h2', 'Структура РИА Новости до 2013 года'): '',\n",
       " ('h3',\n",
       "  'RIA.ru'): 'RIA.ru — один из крупнейших новостных ресурсов в Европе [44] [45]. До 2014 года публиковал материалы на 9 языках\\xa0— русском, английском, арабском, испанском, французском, немецком, персидском, китайском и японском. Рубрикатор включал в себя разделы политика, общество, экономика, новости о событиях в мире, происшествия, безопасность, спорт, новости науки и технологий, культура. Также в качестве самостоятельного проекта на ria.ru существовал публиковавший рецензии и обзоры событий культуры Weekend.\\n\\n',\n",
       " ('h3',\n",
       "  'РАПСИ'): 'Российское агентство правовой и судебной информации (сокр.: РАПСИ )\\xa0— первое в России агентство правовой информации, учреждённое 10 февраля 2009 РИА Новости, Конституционным Судом РФ, Верховным Судом РФ и Высшим Арбитражным Судом РФ для профессионального освещения деятельности судебной системы и жизни судейского сообщества в России. Вещание осуществляется на двух языках\\xa0— русском и английском. Главным редактором РАПСИ является Олег Ефросинин [47].\\n\\n',\n",
       " ('h3',\n",
       "  'The Moscow News'): 'The Moscow News — старейшая в России газета на английском языке, издаётся с 5 октября 1930 года [54]. Основана американской социалисткой Анной Луизой Стронг [55]. Была закрыта в 1949 году, главный редактор Михаил Бородин осуждён по делу « Еврейского антифашистского комитета » [56]. Вновь стала выходить под эгидой АПН с 1956 года [57].\\n\\nС 2007 года The Moscow News издавалась при участии РИА Новости [58]. Являлась крупнейшей по тиражу еженедельной англоязычной газетой для иностранцев и экспатов [59]. В начале 2014 года выход бумажной и электронной версии издания прекращен решением ликвидационной комиссии РИА Новости [60].\\n\\n',\n",
       " ('h3',\n",
       "  'РИА Рейтинг'): 'РИА Рейтинг — рейтинговое агентство, специализирующееся на оценке состояния компаний, регионов, банков, отраслей и кредитных рисков. Агентство было создано в декабре 2011 года на базе Центра экономических исследований «РИА Аналитика» РИА Новости, публичной деятельности «РИА Рейтинг» приступило в июне 2012 года [67].\\n\\n',\n",
       " ('h3', 'Ты\\xa0— репортёр'): '',\n",
       " ('h3',\n",
       "  'РИА Новости Украина'): 'Бывший информационный партнёр агентства « Россия сегодня » на Украине [69].\\n\\n',\n",
       " ('h2', 'Сервисы'): '',\n",
       " ('h2', 'На Олимпиаде в Сочи'): '',\n",
       " ('h2',\n",
       "  'Журналисты, погибшие или пострадавшие при исполнении профессионального долга'): '4 января 2025 года в результате атаки украинского беспилотника на легковой автомобиль на трассе Донецк—Горловка погиб внештатный корреспондент «Известий »Александр Мартемьянов. В числе пострадавших были корреспонденты «РИА Новости» и издания «Блокнот Донецк» [77].\\n\\n',\n",
       " ('h2', 'Санкции'): '',\n",
       " ('h3',\n",
       "  'Блокировка в Азербайджане'): 'Редакция РИА Новости в ответ выпустила статью [78] о блокировке сайта издания в Азербайджане, отметив, что материалы с высказываниями представителя Нагорного Карабаха сопровождались детальным изложением позиции Азербайджана. Комментируя высказывание главы управления пресс-службы МИД Азербайджана Лейлы Абдуллаевой редакция, РИА Новости отмечает, что «никаких доказательств провокационности или пропаганды сепаратизма со стороны РИА Новости представитель министерства не привела». Российская Федерация официально не признаёт Нагорно-Карабахскую республику, этой позиции придерживаются и государственные СМИ России.\\n\\n',\n",
       " ('h3',\n",
       "  'Блокировка в Канаде'): '3 февраля 2023 года РИА Новости были внесены в санкционные списки Канады как часть медиахолдинга « Россия сегодня » [79].\\n\\n',\n",
       " ('h3',\n",
       "  'Блокировка в ЕС'): 'В июне 2024 года МИД России запретил вещание 81 европейских СМИ (в их числе Politico, Spiegel, AFP) в ответ на аналогичные меры в отношении российских медиа «РИА Новости», « Известий » и « Российской газеты » [81].\\n\\n',\n",
       " ('h2', 'Блокировка в Молдавии'): ''}"
      ]
     },
     "execution_count": 10,
     "metadata": {},
     "output_type": "execute_result"
    }
   ],
   "source": [
    "page.filtered_outline"
   ]
  },
  {
   "cell_type": "code",
   "execution_count": 17,
   "id": "cefd7ec3-b2a9-4662-9ee1-d2f3ca44c39f",
   "metadata": {},
   "outputs": [
    {
     "name": "stdout",
     "output_type": "stream",
     "text": [
      "BERTScore Precision: 0.7086\n",
      "BERTScore Recall:    0.6927\n",
      "BERTScore F1:        0.6991\n"
     ]
    }
   ],
   "source": [
    "print(f\"BERTScore Precision: {p_s/len(article_names):.4f}\")\n",
    "print(f\"BERTScore Recall:    {r_s/len(article_names):.4f}\")\n",
    "print(f\"BERTScore F1:        {f_s/len(article_names):.4f}\")"
   ]
  },
  {
   "cell_type": "code",
   "execution_count": null,
   "id": "4512e2d1-1d19-4282-9c70-d52cbc7d72a3",
   "metadata": {},
   "outputs": [],
   "source": [
    "p_s = 0\n",
    "r_s = 0\n",
    "f_s = 0\n",
    "for name in article_names:\n",
    "    page = get_article(name, False, True)\n",
    "    pr, r, f = wiki_evaluater.rank_outline(name, 0, page=page, mode=1)"
   ]
  },
  {
   "cell_type": "code",
   "execution_count": 15,
   "id": "5db05f03-6052-47a2-86c6-31c0c9a39e8b",
   "metadata": {
    "scrolled": true
   },
   "outputs": [
    {
     "name": "stdout",
     "output_type": "stream",
     "text": [
      "Article name:  Python\n",
      "BERTScore Precision: 0.7464\n",
      "BERTScore Recall:    0.7355\n",
      "BERTScore F1:        0.7409\n",
      "\n",
      "Article name:  Летние Олимпийские игры 2024\n",
      "BERTScore Precision: 0.6786\n",
      "BERTScore Recall:    0.6754\n",
      "BERTScore F1:        0.6770\n",
      "\n",
      "Article name:  Квантовый компьютер\n",
      "BERTScore Precision: 0.7639\n",
      "BERTScore Recall:    0.6170\n",
      "BERTScore F1:        0.6826\n",
      "\n",
      "Article name:  Присоединение Крыма к Российской Федерации\n",
      "BERTScore Precision: 0.6650\n",
      "BERTScore Recall:    0.6185\n",
      "BERTScore F1:        0.6409\n",
      "\n",
      "Article name:  Сколково (инновационный центр)\n",
      "BERTScore Precision: 0.7384\n",
      "BERTScore Recall:    0.6413\n",
      "BERTScore F1:        0.6865\n",
      "\n",
      "Article name:  Tomb Raider (игра, 2013)\n",
      "BERTScore Precision: 0.7198\n",
      "BERTScore Recall:    0.6646\n",
      "BERTScore F1:        0.6911\n",
      "\n",
      "Article name:  Чёрная дыра\n",
      "BERTScore Precision: 0.7601\n",
      "BERTScore Recall:    0.7288\n",
      "BERTScore F1:        0.7441\n",
      "\n",
      "Article name:  Экономика США\n",
      "BERTScore Precision: 0.7039\n",
      "BERTScore Recall:    0.6529\n",
      "BERTScore F1:        0.6774\n",
      "\n",
      "Article name:  Искусственный интеллект\n",
      "BERTScore Precision: 0.7460\n",
      "BERTScore Recall:    0.6578\n",
      "BERTScore F1:        0.6991\n",
      "\n",
      "Article name:  COVID-19\n",
      "BERTScore Precision: 0.7561\n",
      "BERTScore Recall:    0.7530\n",
      "BERTScore F1:        0.7545\n",
      "\n",
      "Article name:  Применение искусственного интеллекта\n",
      "BERTScore Precision: 0.6485\n",
      "BERTScore Recall:    0.6524\n",
      "BERTScore F1:        0.6504\n",
      "\n",
      "Article name:  РИА Новости\n",
      "BERTScore Precision: 0.7176\n",
      "BERTScore Recall:    0.6489\n",
      "BERTScore F1:        0.6815\n",
      "\n",
      "Article name:  Uncharted 4: A Thief’s End\n",
      "BERTScore Precision: 0.7589\n",
      "BERTScore Recall:    0.8675\n",
      "BERTScore F1:        0.8096\n",
      "\n",
      "Article name:  Экономика КНР\n",
      "BERTScore Precision: 0.7341\n",
      "BERTScore Recall:    0.7103\n",
      "BERTScore F1:        0.7220\n",
      "\n",
      "Article name:  Экономика Германии\n",
      "BERTScore Precision: 0.6370\n",
      "BERTScore Recall:    0.7755\n",
      "BERTScore F1:        0.6995\n",
      "\n",
      "Article name:  Иннополис\n"
     ]
    },
    {
     "ename": "CancelledError",
     "evalue": "",
     "output_type": "error",
     "traceback": [
      "\u001b[31m---------------------------------------------------------------------------\u001b[39m",
      "\u001b[31mCancelledError\u001b[39m                            Traceback (most recent call last)",
      "\u001b[36mCell\u001b[39m\u001b[36m \u001b[39m\u001b[32mIn[15]\u001b[39m\u001b[32m, line 6\u001b[39m\n\u001b[32m      4\u001b[39m \u001b[38;5;28;01mfor\u001b[39;00m name \u001b[38;5;129;01min\u001b[39;00m article_names:\n\u001b[32m      5\u001b[39m     page = get_article(name, \u001b[38;5;28;01mFalse\u001b[39;00m, is_downloaded=\u001b[38;5;28;01mTrue\u001b[39;00m)\n\u001b[32m----> \u001b[39m\u001b[32m6\u001b[39m     p, r, f = \u001b[38;5;28;01mawait\u001b[39;00m wiki_evaluater.rank_outline(name, mode=\u001b[32m1\u001b[39m, page=page, neighbor_count=\u001b[32m0\u001b[39m, description_mode=\u001b[32m1\u001b[39m)\n\u001b[32m      7\u001b[39m     p_s += p\n\u001b[32m      8\u001b[39m     r_s += r\n",
      "\u001b[36mFile \u001b[39m\u001b[32m~\\WIKIBENCH\\src\\wiki_metrics.py:203\u001b[39m, in \u001b[36mWikiEval.rank_outline\u001b[39m\u001b[34m(self, name, neighbor_count, forced_cluster_num, mode, page, description_mode)\u001b[39m\n\u001b[32m    199\u001b[39m     clusters_centers = \u001b[38;5;28mlist\u001b[39m(header_to_embedding.values())\n\u001b[32m    200\u001b[39m     \u001b[38;5;66;03m#print(len(header_to_embedding))\u001b[39;00m\n\u001b[32m    201\u001b[39m     \u001b[38;5;66;03m#return\u001b[39;00m\n\u001b[32m    202\u001b[39m     \u001b[38;5;66;03m#print(list(header_to_embedding.keys())[0], ' ', len(list(header_to_embedding.values())[0]))\u001b[39;00m\n\u001b[32m--> \u001b[39m\u001b[32m203\u001b[39m outline = \u001b[38;5;28;01mawait\u001b[39;00m \u001b[38;5;28mself\u001b[39m.k_means_method(name, snippets_filtered, snippets_id, embeddings, neighbor_count, forced_cluster_num, clusters_centers, description_mode)\n\u001b[32m    204\u001b[39m \u001b[38;5;66;03m#print(outline)\u001b[39;00m\n\u001b[32m    205\u001b[39m parsed_headings = []\n",
      "\u001b[36mFile \u001b[39m\u001b[32m~\\WIKIBENCH\\src\\wiki_metrics.py:123\u001b[39m, in \u001b[36mWikiEval.k_means_method\u001b[39m\u001b[34m(self, name, snippets_filtered, snippets_id, embeddings, neighbor_count, forced_cluster_num, clusters_centers, description_mode)\u001b[39m\n\u001b[32m    118\u001b[39m     collected_snippets.setdefault(label, sample_snippet)\n\u001b[32m    119\u001b[39m \u001b[38;5;66;03m#print('parsed for clusters: ', len(collected_snippets))\u001b[39;00m\n\u001b[32m    120\u001b[39m \u001b[38;5;66;03m#print(len(collected_snippets[0]))\u001b[39;00m\n\u001b[32m    121\u001b[39m \u001b[38;5;66;03m#print(collected_snippets[0])\u001b[39;00m\n\u001b[32m    122\u001b[39m \u001b[38;5;66;03m#return\u001b[39;00m\n\u001b[32m--> \u001b[39m\u001b[32m123\u001b[39m outline = \u001b[38;5;28;01mawait\u001b[39;00m \u001b[38;5;28mself\u001b[39m.client.generate_outline(collected_snippets, name, description_mode)\n\u001b[32m    124\u001b[39m \u001b[38;5;28;01mreturn\u001b[39;00m outline\n",
      "\u001b[36mFile \u001b[39m\u001b[32m~\\WIKIBENCH\\src\\wiki_gen.py:366\u001b[39m, in \u001b[36mWikiGen.generate_outline\u001b[39m\u001b[34m(self, clusters, name, description_mode)\u001b[39m\n\u001b[32m    364\u001b[39m cluster_outlines = \u001b[38;5;28;01mawait\u001b[39;00m cluster_outlines.to_list()\n\u001b[32m    365\u001b[39m mega_outline = \u001b[33m\"\u001b[39m\u001b[38;5;130;01m\\n\u001b[39;00m\u001b[38;5;130;01m\\n\u001b[39;00m\u001b[33m\"\u001b[39m.join(\u001b[33mf\u001b[39m\u001b[33m\"\u001b[39m\u001b[38;5;132;01m{\u001b[39;00moutline\u001b[38;5;132;01m}\u001b[39;00m\u001b[33m\"\u001b[39m \u001b[38;5;28;01mfor\u001b[39;00m outline \u001b[38;5;129;01min\u001b[39;00m cluster_outlines)\n\u001b[32m--> \u001b[39m\u001b[32m366\u001b[39m outline = \u001b[38;5;28;01mawait\u001b[39;00m \u001b[38;5;28mself\u001b[39m.combine_outline(name, mega_outline)\n\u001b[32m    367\u001b[39m \u001b[38;5;28;01mreturn\u001b[39;00m outline\n",
      "\u001b[36mFile \u001b[39m\u001b[32m~\\WIKIBENCH\\src\\wiki_gen.py:269\u001b[39m, in \u001b[36mWikiGen.combine_outline\u001b[39m\u001b[34m(self, name, outlines)\u001b[39m\n\u001b[32m    267\u001b[39m \u001b[38;5;28;01masync\u001b[39;00m \u001b[38;5;28;01mdef\u001b[39;00m\u001b[38;5;250m \u001b[39m\u001b[34mcombine_outline\u001b[39m(\u001b[38;5;28mself\u001b[39m, name, outlines):\n\u001b[32m    268\u001b[39m     myprompt = COMBINE_OUTLINE_PROMPT.format(name, outlines)\n\u001b[32m--> \u001b[39m\u001b[32m269\u001b[39m     res = \u001b[38;5;28;01mawait\u001b[39;00m \u001b[38;5;28mself\u001b[39m.client.get_completion(myprompt)\n\u001b[32m    270\u001b[39m     \u001b[38;5;28;01mif\u001b[39;00m res.choices \u001b[38;5;129;01mis\u001b[39;00m \u001b[38;5;129;01mnot\u001b[39;00m \u001b[38;5;28;01mNone\u001b[39;00m:\n\u001b[32m    271\u001b[39m         response = res.choices[\u001b[32m0\u001b[39m].message.content.strip()\n",
      "\u001b[36mFile \u001b[39m\u001b[32m~\\WIKIBENCH\\src\\openai_utils.py:67\u001b[39m, in \u001b[36mLlmCompleter.get_completion\u001b[39m\u001b[34m(self, query, system, examples, choices, rep_penalty, regex_pattern, max_tokens, use_beam_search, beam_width, answer_prefix)\u001b[39m\n\u001b[32m     50\u001b[39m     beam_width = \u001b[38;5;28mmax\u001b[39m(\u001b[32m3\u001b[39m, beam_width)\n\u001b[32m     51\u001b[39m completion = \u001b[38;5;28mself\u001b[39m.client.chat.completions.create(\n\u001b[32m     52\u001b[39m     model=\u001b[38;5;28mself\u001b[39m.model,\n\u001b[32m     53\u001b[39m     messages=msgs,\n\u001b[32m   (...)\u001b[39m\u001b[32m     65\u001b[39m     }\n\u001b[32m     66\u001b[39m )\n\u001b[32m---> \u001b[39m\u001b[32m67\u001b[39m response = \u001b[38;5;28;01mawait\u001b[39;00m completion\n\u001b[32m     68\u001b[39m \u001b[38;5;28;01mreturn\u001b[39;00m response\n",
      "\u001b[36mFile \u001b[39m\u001b[32m~\\anaconda3\\envs\\WIKIbench\\Lib\\site-packages\\openai\\resources\\chat\\completions.py:1661\u001b[39m, in \u001b[36mAsyncCompletions.create\u001b[39m\u001b[34m(self, messages, model, audio, frequency_penalty, function_call, functions, logit_bias, logprobs, max_completion_tokens, max_tokens, metadata, modalities, n, parallel_tool_calls, prediction, presence_penalty, response_format, seed, service_tier, stop, store, stream, stream_options, temperature, tool_choice, tools, top_logprobs, top_p, user, extra_headers, extra_query, extra_body, timeout)\u001b[39m\n\u001b[32m   1620\u001b[39m \u001b[38;5;129m@required_args\u001b[39m([\u001b[33m\"\u001b[39m\u001b[33mmessages\u001b[39m\u001b[33m\"\u001b[39m, \u001b[33m\"\u001b[39m\u001b[33mmodel\u001b[39m\u001b[33m\"\u001b[39m], [\u001b[33m\"\u001b[39m\u001b[33mmessages\u001b[39m\u001b[33m\"\u001b[39m, \u001b[33m\"\u001b[39m\u001b[33mmodel\u001b[39m\u001b[33m\"\u001b[39m, \u001b[33m\"\u001b[39m\u001b[33mstream\u001b[39m\u001b[33m\"\u001b[39m])\n\u001b[32m   1621\u001b[39m \u001b[38;5;28;01masync\u001b[39;00m \u001b[38;5;28;01mdef\u001b[39;00m\u001b[38;5;250m \u001b[39m\u001b[34mcreate\u001b[39m(\n\u001b[32m   1622\u001b[39m     \u001b[38;5;28mself\u001b[39m,\n\u001b[32m   (...)\u001b[39m\u001b[32m   1658\u001b[39m     timeout: \u001b[38;5;28mfloat\u001b[39m | httpx.Timeout | \u001b[38;5;28;01mNone\u001b[39;00m | NotGiven = NOT_GIVEN,\n\u001b[32m   1659\u001b[39m ) -> ChatCompletion | AsyncStream[ChatCompletionChunk]:\n\u001b[32m   1660\u001b[39m     validate_response_format(response_format)\n\u001b[32m-> \u001b[39m\u001b[32m1661\u001b[39m     \u001b[38;5;28;01mreturn\u001b[39;00m \u001b[38;5;28;01mawait\u001b[39;00m \u001b[38;5;28mself\u001b[39m._post(\n\u001b[32m   1662\u001b[39m         \u001b[33m\"\u001b[39m\u001b[33m/chat/completions\u001b[39m\u001b[33m\"\u001b[39m,\n\u001b[32m   1663\u001b[39m         body=\u001b[38;5;28;01mawait\u001b[39;00m async_maybe_transform(\n\u001b[32m   1664\u001b[39m             {\n\u001b[32m   1665\u001b[39m                 \u001b[33m\"\u001b[39m\u001b[33mmessages\u001b[39m\u001b[33m\"\u001b[39m: messages,\n\u001b[32m   1666\u001b[39m                 \u001b[33m\"\u001b[39m\u001b[33mmodel\u001b[39m\u001b[33m\"\u001b[39m: model,\n\u001b[32m   1667\u001b[39m                 \u001b[33m\"\u001b[39m\u001b[33maudio\u001b[39m\u001b[33m\"\u001b[39m: audio,\n\u001b[32m   1668\u001b[39m                 \u001b[33m\"\u001b[39m\u001b[33mfrequency_penalty\u001b[39m\u001b[33m\"\u001b[39m: frequency_penalty,\n\u001b[32m   1669\u001b[39m                 \u001b[33m\"\u001b[39m\u001b[33mfunction_call\u001b[39m\u001b[33m\"\u001b[39m: function_call,\n\u001b[32m   1670\u001b[39m                 \u001b[33m\"\u001b[39m\u001b[33mfunctions\u001b[39m\u001b[33m\"\u001b[39m: functions,\n\u001b[32m   1671\u001b[39m                 \u001b[33m\"\u001b[39m\u001b[33mlogit_bias\u001b[39m\u001b[33m\"\u001b[39m: logit_bias,\n\u001b[32m   1672\u001b[39m                 \u001b[33m\"\u001b[39m\u001b[33mlogprobs\u001b[39m\u001b[33m\"\u001b[39m: logprobs,\n\u001b[32m   1673\u001b[39m                 \u001b[33m\"\u001b[39m\u001b[33mmax_completion_tokens\u001b[39m\u001b[33m\"\u001b[39m: max_completion_tokens,\n\u001b[32m   1674\u001b[39m                 \u001b[33m\"\u001b[39m\u001b[33mmax_tokens\u001b[39m\u001b[33m\"\u001b[39m: max_tokens,\n\u001b[32m   1675\u001b[39m                 \u001b[33m\"\u001b[39m\u001b[33mmetadata\u001b[39m\u001b[33m\"\u001b[39m: metadata,\n\u001b[32m   1676\u001b[39m                 \u001b[33m\"\u001b[39m\u001b[33mmodalities\u001b[39m\u001b[33m\"\u001b[39m: modalities,\n\u001b[32m   1677\u001b[39m                 \u001b[33m\"\u001b[39m\u001b[33mn\u001b[39m\u001b[33m\"\u001b[39m: n,\n\u001b[32m   1678\u001b[39m                 \u001b[33m\"\u001b[39m\u001b[33mparallel_tool_calls\u001b[39m\u001b[33m\"\u001b[39m: parallel_tool_calls,\n\u001b[32m   1679\u001b[39m                 \u001b[33m\"\u001b[39m\u001b[33mprediction\u001b[39m\u001b[33m\"\u001b[39m: prediction,\n\u001b[32m   1680\u001b[39m                 \u001b[33m\"\u001b[39m\u001b[33mpresence_penalty\u001b[39m\u001b[33m\"\u001b[39m: presence_penalty,\n\u001b[32m   1681\u001b[39m                 \u001b[33m\"\u001b[39m\u001b[33mresponse_format\u001b[39m\u001b[33m\"\u001b[39m: response_format,\n\u001b[32m   1682\u001b[39m                 \u001b[33m\"\u001b[39m\u001b[33mseed\u001b[39m\u001b[33m\"\u001b[39m: seed,\n\u001b[32m   1683\u001b[39m                 \u001b[33m\"\u001b[39m\u001b[33mservice_tier\u001b[39m\u001b[33m\"\u001b[39m: service_tier,\n\u001b[32m   1684\u001b[39m                 \u001b[33m\"\u001b[39m\u001b[33mstop\u001b[39m\u001b[33m\"\u001b[39m: stop,\n\u001b[32m   1685\u001b[39m                 \u001b[33m\"\u001b[39m\u001b[33mstore\u001b[39m\u001b[33m\"\u001b[39m: store,\n\u001b[32m   1686\u001b[39m                 \u001b[33m\"\u001b[39m\u001b[33mstream\u001b[39m\u001b[33m\"\u001b[39m: stream,\n\u001b[32m   1687\u001b[39m                 \u001b[33m\"\u001b[39m\u001b[33mstream_options\u001b[39m\u001b[33m\"\u001b[39m: stream_options,\n\u001b[32m   1688\u001b[39m                 \u001b[33m\"\u001b[39m\u001b[33mtemperature\u001b[39m\u001b[33m\"\u001b[39m: temperature,\n\u001b[32m   1689\u001b[39m                 \u001b[33m\"\u001b[39m\u001b[33mtool_choice\u001b[39m\u001b[33m\"\u001b[39m: tool_choice,\n\u001b[32m   1690\u001b[39m                 \u001b[33m\"\u001b[39m\u001b[33mtools\u001b[39m\u001b[33m\"\u001b[39m: tools,\n\u001b[32m   1691\u001b[39m                 \u001b[33m\"\u001b[39m\u001b[33mtop_logprobs\u001b[39m\u001b[33m\"\u001b[39m: top_logprobs,\n\u001b[32m   1692\u001b[39m                 \u001b[33m\"\u001b[39m\u001b[33mtop_p\u001b[39m\u001b[33m\"\u001b[39m: top_p,\n\u001b[32m   1693\u001b[39m                 \u001b[33m\"\u001b[39m\u001b[33muser\u001b[39m\u001b[33m\"\u001b[39m: user,\n\u001b[32m   1694\u001b[39m             },\n\u001b[32m   1695\u001b[39m             completion_create_params.CompletionCreateParams,\n\u001b[32m   1696\u001b[39m         ),\n\u001b[32m   1697\u001b[39m         options=make_request_options(\n\u001b[32m   1698\u001b[39m             extra_headers=extra_headers, extra_query=extra_query, extra_body=extra_body, timeout=timeout\n\u001b[32m   1699\u001b[39m         ),\n\u001b[32m   1700\u001b[39m         cast_to=ChatCompletion,\n\u001b[32m   1701\u001b[39m         stream=stream \u001b[38;5;129;01mor\u001b[39;00m \u001b[38;5;28;01mFalse\u001b[39;00m,\n\u001b[32m   1702\u001b[39m         stream_cls=AsyncStream[ChatCompletionChunk],\n\u001b[32m   1703\u001b[39m     )\n",
      "\u001b[36mFile \u001b[39m\u001b[32m~\\anaconda3\\envs\\WIKIbench\\Lib\\site-packages\\openai\\_base_client.py:1843\u001b[39m, in \u001b[36mAsyncAPIClient.post\u001b[39m\u001b[34m(self, path, cast_to, body, files, options, stream, stream_cls)\u001b[39m\n\u001b[32m   1829\u001b[39m \u001b[38;5;28;01masync\u001b[39;00m \u001b[38;5;28;01mdef\u001b[39;00m\u001b[38;5;250m \u001b[39m\u001b[34mpost\u001b[39m(\n\u001b[32m   1830\u001b[39m     \u001b[38;5;28mself\u001b[39m,\n\u001b[32m   1831\u001b[39m     path: \u001b[38;5;28mstr\u001b[39m,\n\u001b[32m   (...)\u001b[39m\u001b[32m   1838\u001b[39m     stream_cls: \u001b[38;5;28mtype\u001b[39m[_AsyncStreamT] | \u001b[38;5;28;01mNone\u001b[39;00m = \u001b[38;5;28;01mNone\u001b[39;00m,\n\u001b[32m   1839\u001b[39m ) -> ResponseT | _AsyncStreamT:\n\u001b[32m   1840\u001b[39m     opts = FinalRequestOptions.construct(\n\u001b[32m   1841\u001b[39m         method=\u001b[33m\"\u001b[39m\u001b[33mpost\u001b[39m\u001b[33m\"\u001b[39m, url=path, json_data=body, files=\u001b[38;5;28;01mawait\u001b[39;00m async_to_httpx_files(files), **options\n\u001b[32m   1842\u001b[39m     )\n\u001b[32m-> \u001b[39m\u001b[32m1843\u001b[39m     \u001b[38;5;28;01mreturn\u001b[39;00m \u001b[38;5;28;01mawait\u001b[39;00m \u001b[38;5;28mself\u001b[39m.request(cast_to, opts, stream=stream, stream_cls=stream_cls)\n",
      "\u001b[36mFile \u001b[39m\u001b[32m~\\anaconda3\\envs\\WIKIbench\\Lib\\site-packages\\openai\\_base_client.py:1537\u001b[39m, in \u001b[36mAsyncAPIClient.request\u001b[39m\u001b[34m(self, cast_to, options, stream, stream_cls, remaining_retries)\u001b[39m\n\u001b[32m   1534\u001b[39m \u001b[38;5;28;01melse\u001b[39;00m:\n\u001b[32m   1535\u001b[39m     retries_taken = \u001b[32m0\u001b[39m\n\u001b[32m-> \u001b[39m\u001b[32m1537\u001b[39m \u001b[38;5;28;01mreturn\u001b[39;00m \u001b[38;5;28;01mawait\u001b[39;00m \u001b[38;5;28mself\u001b[39m._request(\n\u001b[32m   1538\u001b[39m     cast_to=cast_to,\n\u001b[32m   1539\u001b[39m     options=options,\n\u001b[32m   1540\u001b[39m     stream=stream,\n\u001b[32m   1541\u001b[39m     stream_cls=stream_cls,\n\u001b[32m   1542\u001b[39m     retries_taken=retries_taken,\n\u001b[32m   1543\u001b[39m )\n",
      "\u001b[36mFile \u001b[39m\u001b[32m~\\anaconda3\\envs\\WIKIbench\\Lib\\site-packages\\openai\\_base_client.py:1576\u001b[39m, in \u001b[36mAsyncAPIClient._request\u001b[39m\u001b[34m(self, cast_to, options, stream, stream_cls, retries_taken)\u001b[39m\n\u001b[32m   1573\u001b[39m     kwargs[\u001b[33m\"\u001b[39m\u001b[33mauth\u001b[39m\u001b[33m\"\u001b[39m] = \u001b[38;5;28mself\u001b[39m.custom_auth\n\u001b[32m   1575\u001b[39m \u001b[38;5;28;01mtry\u001b[39;00m:\n\u001b[32m-> \u001b[39m\u001b[32m1576\u001b[39m     response = \u001b[38;5;28;01mawait\u001b[39;00m \u001b[38;5;28mself\u001b[39m._client.send(\n\u001b[32m   1577\u001b[39m         request,\n\u001b[32m   1578\u001b[39m         stream=stream \u001b[38;5;129;01mor\u001b[39;00m \u001b[38;5;28mself\u001b[39m._should_stream_response_body(request=request),\n\u001b[32m   1579\u001b[39m         **kwargs,\n\u001b[32m   1580\u001b[39m     )\n\u001b[32m   1581\u001b[39m \u001b[38;5;28;01mexcept\u001b[39;00m httpx.TimeoutException \u001b[38;5;28;01mas\u001b[39;00m err:\n\u001b[32m   1582\u001b[39m     log.debug(\u001b[33m\"\u001b[39m\u001b[33mEncountered httpx.TimeoutException\u001b[39m\u001b[33m\"\u001b[39m, exc_info=\u001b[38;5;28;01mTrue\u001b[39;00m)\n",
      "\u001b[36mFile \u001b[39m\u001b[32m~\\anaconda3\\envs\\WIKIbench\\Lib\\site-packages\\httpx\\_client.py:1629\u001b[39m, in \u001b[36mAsyncClient.send\u001b[39m\u001b[34m(self, request, stream, auth, follow_redirects)\u001b[39m\n\u001b[32m   1625\u001b[39m \u001b[38;5;28mself\u001b[39m._set_timeout(request)\n\u001b[32m   1627\u001b[39m auth = \u001b[38;5;28mself\u001b[39m._build_request_auth(request, auth)\n\u001b[32m-> \u001b[39m\u001b[32m1629\u001b[39m response = \u001b[38;5;28;01mawait\u001b[39;00m \u001b[38;5;28mself\u001b[39m._send_handling_auth(\n\u001b[32m   1630\u001b[39m     request,\n\u001b[32m   1631\u001b[39m     auth=auth,\n\u001b[32m   1632\u001b[39m     follow_redirects=follow_redirects,\n\u001b[32m   1633\u001b[39m     history=[],\n\u001b[32m   1634\u001b[39m )\n\u001b[32m   1635\u001b[39m \u001b[38;5;28;01mtry\u001b[39;00m:\n\u001b[32m   1636\u001b[39m     \u001b[38;5;28;01mif\u001b[39;00m \u001b[38;5;129;01mnot\u001b[39;00m stream:\n",
      "\u001b[36mFile \u001b[39m\u001b[32m~\\anaconda3\\envs\\WIKIbench\\Lib\\site-packages\\httpx\\_client.py:1657\u001b[39m, in \u001b[36mAsyncClient._send_handling_auth\u001b[39m\u001b[34m(self, request, auth, follow_redirects, history)\u001b[39m\n\u001b[32m   1654\u001b[39m request = \u001b[38;5;28;01mawait\u001b[39;00m auth_flow.\u001b[34m__anext__\u001b[39m()\n\u001b[32m   1656\u001b[39m \u001b[38;5;28;01mwhile\u001b[39;00m \u001b[38;5;28;01mTrue\u001b[39;00m:\n\u001b[32m-> \u001b[39m\u001b[32m1657\u001b[39m     response = \u001b[38;5;28;01mawait\u001b[39;00m \u001b[38;5;28mself\u001b[39m._send_handling_redirects(\n\u001b[32m   1658\u001b[39m         request,\n\u001b[32m   1659\u001b[39m         follow_redirects=follow_redirects,\n\u001b[32m   1660\u001b[39m         history=history,\n\u001b[32m   1661\u001b[39m     )\n\u001b[32m   1662\u001b[39m     \u001b[38;5;28;01mtry\u001b[39;00m:\n\u001b[32m   1663\u001b[39m         \u001b[38;5;28;01mtry\u001b[39;00m:\n",
      "\u001b[36mFile \u001b[39m\u001b[32m~\\anaconda3\\envs\\WIKIbench\\Lib\\site-packages\\httpx\\_client.py:1694\u001b[39m, in \u001b[36mAsyncClient._send_handling_redirects\u001b[39m\u001b[34m(self, request, follow_redirects, history)\u001b[39m\n\u001b[32m   1691\u001b[39m \u001b[38;5;28;01mfor\u001b[39;00m hook \u001b[38;5;129;01min\u001b[39;00m \u001b[38;5;28mself\u001b[39m._event_hooks[\u001b[33m\"\u001b[39m\u001b[33mrequest\u001b[39m\u001b[33m\"\u001b[39m]:\n\u001b[32m   1692\u001b[39m     \u001b[38;5;28;01mawait\u001b[39;00m hook(request)\n\u001b[32m-> \u001b[39m\u001b[32m1694\u001b[39m response = \u001b[38;5;28;01mawait\u001b[39;00m \u001b[38;5;28mself\u001b[39m._send_single_request(request)\n\u001b[32m   1695\u001b[39m \u001b[38;5;28;01mtry\u001b[39;00m:\n\u001b[32m   1696\u001b[39m     \u001b[38;5;28;01mfor\u001b[39;00m hook \u001b[38;5;129;01min\u001b[39;00m \u001b[38;5;28mself\u001b[39m._event_hooks[\u001b[33m\"\u001b[39m\u001b[33mresponse\u001b[39m\u001b[33m\"\u001b[39m]:\n",
      "\u001b[36mFile \u001b[39m\u001b[32m~\\anaconda3\\envs\\WIKIbench\\Lib\\site-packages\\httpx\\_client.py:1730\u001b[39m, in \u001b[36mAsyncClient._send_single_request\u001b[39m\u001b[34m(self, request)\u001b[39m\n\u001b[32m   1725\u001b[39m     \u001b[38;5;28;01mraise\u001b[39;00m \u001b[38;5;167;01mRuntimeError\u001b[39;00m(\n\u001b[32m   1726\u001b[39m         \u001b[33m\"\u001b[39m\u001b[33mAttempted to send an sync request with an AsyncClient instance.\u001b[39m\u001b[33m\"\u001b[39m\n\u001b[32m   1727\u001b[39m     )\n\u001b[32m   1729\u001b[39m \u001b[38;5;28;01mwith\u001b[39;00m request_context(request=request):\n\u001b[32m-> \u001b[39m\u001b[32m1730\u001b[39m     response = \u001b[38;5;28;01mawait\u001b[39;00m transport.handle_async_request(request)\n\u001b[32m   1732\u001b[39m \u001b[38;5;28;01massert\u001b[39;00m \u001b[38;5;28misinstance\u001b[39m(response.stream, AsyncByteStream)\n\u001b[32m   1733\u001b[39m response.request = request\n",
      "\u001b[36mFile \u001b[39m\u001b[32m~\\anaconda3\\envs\\WIKIbench\\Lib\\site-packages\\httpx\\_transports\\default.py:394\u001b[39m, in \u001b[36mAsyncHTTPTransport.handle_async_request\u001b[39m\u001b[34m(self, request)\u001b[39m\n\u001b[32m    381\u001b[39m req = httpcore.Request(\n\u001b[32m    382\u001b[39m     method=request.method,\n\u001b[32m    383\u001b[39m     url=httpcore.URL(\n\u001b[32m   (...)\u001b[39m\u001b[32m    391\u001b[39m     extensions=request.extensions,\n\u001b[32m    392\u001b[39m )\n\u001b[32m    393\u001b[39m \u001b[38;5;28;01mwith\u001b[39;00m map_httpcore_exceptions():\n\u001b[32m--> \u001b[39m\u001b[32m394\u001b[39m     resp = \u001b[38;5;28;01mawait\u001b[39;00m \u001b[38;5;28mself\u001b[39m._pool.handle_async_request(req)\n\u001b[32m    396\u001b[39m \u001b[38;5;28;01massert\u001b[39;00m \u001b[38;5;28misinstance\u001b[39m(resp.stream, typing.AsyncIterable)\n\u001b[32m    398\u001b[39m \u001b[38;5;28;01mreturn\u001b[39;00m Response(\n\u001b[32m    399\u001b[39m     status_code=resp.status,\n\u001b[32m    400\u001b[39m     headers=resp.headers,\n\u001b[32m    401\u001b[39m     stream=AsyncResponseStream(resp.stream),\n\u001b[32m    402\u001b[39m     extensions=resp.extensions,\n\u001b[32m    403\u001b[39m )\n",
      "\u001b[36mFile \u001b[39m\u001b[32m~\\anaconda3\\envs\\WIKIbench\\Lib\\site-packages\\httpcore\\_async\\connection_pool.py:256\u001b[39m, in \u001b[36mAsyncConnectionPool.handle_async_request\u001b[39m\u001b[34m(self, request)\u001b[39m\n\u001b[32m    253\u001b[39m         closing = \u001b[38;5;28mself\u001b[39m._assign_requests_to_connections()\n\u001b[32m    255\u001b[39m     \u001b[38;5;28;01mawait\u001b[39;00m \u001b[38;5;28mself\u001b[39m._close_connections(closing)\n\u001b[32m--> \u001b[39m\u001b[32m256\u001b[39m     \u001b[38;5;28;01mraise\u001b[39;00m exc \u001b[38;5;28;01mfrom\u001b[39;00m\u001b[38;5;250m \u001b[39m\u001b[38;5;28;01mNone\u001b[39;00m\n\u001b[32m    258\u001b[39m \u001b[38;5;66;03m# Return the response. Note that in this case we still have to manage\u001b[39;00m\n\u001b[32m    259\u001b[39m \u001b[38;5;66;03m# the point at which the response is closed.\u001b[39;00m\n\u001b[32m    260\u001b[39m \u001b[38;5;28;01massert\u001b[39;00m \u001b[38;5;28misinstance\u001b[39m(response.stream, typing.AsyncIterable)\n",
      "\u001b[36mFile \u001b[39m\u001b[32m~\\anaconda3\\envs\\WIKIbench\\Lib\\site-packages\\httpcore\\_async\\connection_pool.py:236\u001b[39m, in \u001b[36mAsyncConnectionPool.handle_async_request\u001b[39m\u001b[34m(self, request)\u001b[39m\n\u001b[32m    232\u001b[39m connection = \u001b[38;5;28;01mawait\u001b[39;00m pool_request.wait_for_connection(timeout=timeout)\n\u001b[32m    234\u001b[39m \u001b[38;5;28;01mtry\u001b[39;00m:\n\u001b[32m    235\u001b[39m     \u001b[38;5;66;03m# Send the request on the assigned connection.\u001b[39;00m\n\u001b[32m--> \u001b[39m\u001b[32m236\u001b[39m     response = \u001b[38;5;28;01mawait\u001b[39;00m connection.handle_async_request(\n\u001b[32m    237\u001b[39m         pool_request.request\n\u001b[32m    238\u001b[39m     )\n\u001b[32m    239\u001b[39m \u001b[38;5;28;01mexcept\u001b[39;00m ConnectionNotAvailable:\n\u001b[32m    240\u001b[39m     \u001b[38;5;66;03m# In some cases a connection may initially be available to\u001b[39;00m\n\u001b[32m    241\u001b[39m     \u001b[38;5;66;03m# handle a request, but then become unavailable.\u001b[39;00m\n\u001b[32m    242\u001b[39m     \u001b[38;5;66;03m#\u001b[39;00m\n\u001b[32m    243\u001b[39m     \u001b[38;5;66;03m# In this case we clear the connection and try again.\u001b[39;00m\n\u001b[32m    244\u001b[39m     pool_request.clear_connection()\n",
      "\u001b[36mFile \u001b[39m\u001b[32m~\\anaconda3\\envs\\WIKIbench\\Lib\\site-packages\\httpcore\\_async\\connection.py:103\u001b[39m, in \u001b[36mAsyncHTTPConnection.handle_async_request\u001b[39m\u001b[34m(self, request)\u001b[39m\n\u001b[32m    100\u001b[39m     \u001b[38;5;28mself\u001b[39m._connect_failed = \u001b[38;5;28;01mTrue\u001b[39;00m\n\u001b[32m    101\u001b[39m     \u001b[38;5;28;01mraise\u001b[39;00m exc\n\u001b[32m--> \u001b[39m\u001b[32m103\u001b[39m \u001b[38;5;28;01mreturn\u001b[39;00m \u001b[38;5;28;01mawait\u001b[39;00m \u001b[38;5;28mself\u001b[39m._connection.handle_async_request(request)\n",
      "\u001b[36mFile \u001b[39m\u001b[32m~\\anaconda3\\envs\\WIKIbench\\Lib\\site-packages\\httpcore\\_async\\http11.py:136\u001b[39m, in \u001b[36mAsyncHTTP11Connection.handle_async_request\u001b[39m\u001b[34m(self, request)\u001b[39m\n\u001b[32m    134\u001b[39m     \u001b[38;5;28;01masync\u001b[39;00m \u001b[38;5;28;01mwith\u001b[39;00m Trace(\u001b[33m\"\u001b[39m\u001b[33mresponse_closed\u001b[39m\u001b[33m\"\u001b[39m, logger, request) \u001b[38;5;28;01mas\u001b[39;00m trace:\n\u001b[32m    135\u001b[39m         \u001b[38;5;28;01mawait\u001b[39;00m \u001b[38;5;28mself\u001b[39m._response_closed()\n\u001b[32m--> \u001b[39m\u001b[32m136\u001b[39m \u001b[38;5;28;01mraise\u001b[39;00m exc\n",
      "\u001b[36mFile \u001b[39m\u001b[32m~\\anaconda3\\envs\\WIKIbench\\Lib\\site-packages\\httpcore\\_async\\http11.py:106\u001b[39m, in \u001b[36mAsyncHTTP11Connection.handle_async_request\u001b[39m\u001b[34m(self, request)\u001b[39m\n\u001b[32m     95\u001b[39m     \u001b[38;5;28;01mpass\u001b[39;00m\n\u001b[32m     97\u001b[39m \u001b[38;5;28;01masync\u001b[39;00m \u001b[38;5;28;01mwith\u001b[39;00m Trace(\n\u001b[32m     98\u001b[39m     \u001b[33m\"\u001b[39m\u001b[33mreceive_response_headers\u001b[39m\u001b[33m\"\u001b[39m, logger, request, kwargs\n\u001b[32m     99\u001b[39m ) \u001b[38;5;28;01mas\u001b[39;00m trace:\n\u001b[32m    100\u001b[39m     (\n\u001b[32m    101\u001b[39m         http_version,\n\u001b[32m    102\u001b[39m         status,\n\u001b[32m    103\u001b[39m         reason_phrase,\n\u001b[32m    104\u001b[39m         headers,\n\u001b[32m    105\u001b[39m         trailing_data,\n\u001b[32m--> \u001b[39m\u001b[32m106\u001b[39m     ) = \u001b[38;5;28;01mawait\u001b[39;00m \u001b[38;5;28mself\u001b[39m._receive_response_headers(**kwargs)\n\u001b[32m    107\u001b[39m     trace.return_value = (\n\u001b[32m    108\u001b[39m         http_version,\n\u001b[32m    109\u001b[39m         status,\n\u001b[32m    110\u001b[39m         reason_phrase,\n\u001b[32m    111\u001b[39m         headers,\n\u001b[32m    112\u001b[39m     )\n\u001b[32m    114\u001b[39m network_stream = \u001b[38;5;28mself\u001b[39m._network_stream\n",
      "\u001b[36mFile \u001b[39m\u001b[32m~\\anaconda3\\envs\\WIKIbench\\Lib\\site-packages\\httpcore\\_async\\http11.py:177\u001b[39m, in \u001b[36mAsyncHTTP11Connection._receive_response_headers\u001b[39m\u001b[34m(self, request)\u001b[39m\n\u001b[32m    174\u001b[39m timeout = timeouts.get(\u001b[33m\"\u001b[39m\u001b[33mread\u001b[39m\u001b[33m\"\u001b[39m, \u001b[38;5;28;01mNone\u001b[39;00m)\n\u001b[32m    176\u001b[39m \u001b[38;5;28;01mwhile\u001b[39;00m \u001b[38;5;28;01mTrue\u001b[39;00m:\n\u001b[32m--> \u001b[39m\u001b[32m177\u001b[39m     event = \u001b[38;5;28;01mawait\u001b[39;00m \u001b[38;5;28mself\u001b[39m._receive_event(timeout=timeout)\n\u001b[32m    178\u001b[39m     \u001b[38;5;28;01mif\u001b[39;00m \u001b[38;5;28misinstance\u001b[39m(event, h11.Response):\n\u001b[32m    179\u001b[39m         \u001b[38;5;28;01mbreak\u001b[39;00m\n",
      "\u001b[36mFile \u001b[39m\u001b[32m~\\anaconda3\\envs\\WIKIbench\\Lib\\site-packages\\httpcore\\_async\\http11.py:217\u001b[39m, in \u001b[36mAsyncHTTP11Connection._receive_event\u001b[39m\u001b[34m(self, timeout)\u001b[39m\n\u001b[32m    214\u001b[39m     event = \u001b[38;5;28mself\u001b[39m._h11_state.next_event()\n\u001b[32m    216\u001b[39m \u001b[38;5;28;01mif\u001b[39;00m event \u001b[38;5;129;01mis\u001b[39;00m h11.NEED_DATA:\n\u001b[32m--> \u001b[39m\u001b[32m217\u001b[39m     data = \u001b[38;5;28;01mawait\u001b[39;00m \u001b[38;5;28mself\u001b[39m._network_stream.read(\n\u001b[32m    218\u001b[39m         \u001b[38;5;28mself\u001b[39m.READ_NUM_BYTES, timeout=timeout\n\u001b[32m    219\u001b[39m     )\n\u001b[32m    221\u001b[39m     \u001b[38;5;66;03m# If we feed this case through h11 we'll raise an exception like:\u001b[39;00m\n\u001b[32m    222\u001b[39m     \u001b[38;5;66;03m#\u001b[39;00m\n\u001b[32m    223\u001b[39m     \u001b[38;5;66;03m#     httpcore.RemoteProtocolError: can't handle event type\u001b[39;00m\n\u001b[32m   (...)\u001b[39m\u001b[32m    227\u001b[39m     \u001b[38;5;66;03m# perspective. Instead we handle this case distinctly and treat\u001b[39;00m\n\u001b[32m    228\u001b[39m     \u001b[38;5;66;03m# it as a ConnectError.\u001b[39;00m\n\u001b[32m    229\u001b[39m     \u001b[38;5;28;01mif\u001b[39;00m data == \u001b[33mb\u001b[39m\u001b[33m\"\u001b[39m\u001b[33m\"\u001b[39m \u001b[38;5;129;01mand\u001b[39;00m \u001b[38;5;28mself\u001b[39m._h11_state.their_state == h11.SEND_RESPONSE:\n",
      "\u001b[36mFile \u001b[39m\u001b[32m~\\anaconda3\\envs\\WIKIbench\\Lib\\site-packages\\httpcore\\_backends\\anyio.py:35\u001b[39m, in \u001b[36mAnyIOStream.read\u001b[39m\u001b[34m(self, max_bytes, timeout)\u001b[39m\n\u001b[32m     33\u001b[39m \u001b[38;5;28;01mwith\u001b[39;00m anyio.fail_after(timeout):\n\u001b[32m     34\u001b[39m     \u001b[38;5;28;01mtry\u001b[39;00m:\n\u001b[32m---> \u001b[39m\u001b[32m35\u001b[39m         \u001b[38;5;28;01mreturn\u001b[39;00m \u001b[38;5;28;01mawait\u001b[39;00m \u001b[38;5;28mself\u001b[39m._stream.receive(max_bytes=max_bytes)\n\u001b[32m     36\u001b[39m     \u001b[38;5;28;01mexcept\u001b[39;00m anyio.EndOfStream:  \u001b[38;5;66;03m# pragma: nocover\u001b[39;00m\n\u001b[32m     37\u001b[39m         \u001b[38;5;28;01mreturn\u001b[39;00m \u001b[33mb\u001b[39m\u001b[33m\"\u001b[39m\u001b[33m\"\u001b[39m\n",
      "\u001b[36mFile \u001b[39m\u001b[32m~\\anaconda3\\envs\\WIKIbench\\Lib\\site-packages\\anyio\\_backends\\_asyncio.py:1254\u001b[39m, in \u001b[36mSocketStream.receive\u001b[39m\u001b[34m(self, max_bytes)\u001b[39m\n\u001b[32m   1248\u001b[39m \u001b[38;5;28;01mif\u001b[39;00m (\n\u001b[32m   1249\u001b[39m     \u001b[38;5;129;01mnot\u001b[39;00m \u001b[38;5;28mself\u001b[39m._protocol.read_event.is_set()\n\u001b[32m   1250\u001b[39m     \u001b[38;5;129;01mand\u001b[39;00m \u001b[38;5;129;01mnot\u001b[39;00m \u001b[38;5;28mself\u001b[39m._transport.is_closing()\n\u001b[32m   1251\u001b[39m     \u001b[38;5;129;01mand\u001b[39;00m \u001b[38;5;129;01mnot\u001b[39;00m \u001b[38;5;28mself\u001b[39m._protocol.is_at_eof\n\u001b[32m   1252\u001b[39m ):\n\u001b[32m   1253\u001b[39m     \u001b[38;5;28mself\u001b[39m._transport.resume_reading()\n\u001b[32m-> \u001b[39m\u001b[32m1254\u001b[39m     \u001b[38;5;28;01mawait\u001b[39;00m \u001b[38;5;28mself\u001b[39m._protocol.read_event.wait()\n\u001b[32m   1255\u001b[39m     \u001b[38;5;28mself\u001b[39m._transport.pause_reading()\n\u001b[32m   1256\u001b[39m \u001b[38;5;28;01melse\u001b[39;00m:\n",
      "\u001b[36mFile \u001b[39m\u001b[32m~\\anaconda3\\envs\\WIKIbench\\Lib\\asyncio\\locks.py:212\u001b[39m, in \u001b[36mEvent.wait\u001b[39m\u001b[34m(self)\u001b[39m\n\u001b[32m    210\u001b[39m \u001b[38;5;28mself\u001b[39m._waiters.append(fut)\n\u001b[32m    211\u001b[39m \u001b[38;5;28;01mtry\u001b[39;00m:\n\u001b[32m--> \u001b[39m\u001b[32m212\u001b[39m     \u001b[38;5;28;01mawait\u001b[39;00m fut\n\u001b[32m    213\u001b[39m     \u001b[38;5;28;01mreturn\u001b[39;00m \u001b[38;5;28;01mTrue\u001b[39;00m\n\u001b[32m    214\u001b[39m \u001b[38;5;28;01mfinally\u001b[39;00m:\n",
      "\u001b[31mCancelledError\u001b[39m: "
     ]
    }
   ],
   "source": [
    "p_s = 0\n",
    "r_s = 0\n",
    "f_s = 0\n",
    "for name in article_names:\n",
    "    page = get_article(name, False, is_downloaded=True)\n",
    "    p, r, f = await wiki_evaluater.rank_outline(name, mode=1, page=page, neighbor_count=0, description_mode=1)\n",
    "    p_s += p\n",
    "    r_s += r\n",
    "    f_s += f\n",
    "    print(f\"BERTScore Precision: {p:.4f}\")\n",
    "    print(f\"BERTScore Recall:    {r:.4f}\")\n",
    "    print(f\"BERTScore F1:        {f:.4f}\")\n",
    "    print()\n",
    "print(f\"BERTScore Precision: {p_s/len(article_names):.4f}\")\n",
    "print(f\"BERTScore Recall:    {r_s/len(article_names):.4f}\")\n",
    "print(f\"BERTScore F1:        {f_s/len(article_names):.4f}\")"
   ]
  },
  {
   "cell_type": "code",
   "execution_count": null,
   "id": "f4d6837f-4d22-441e-86f3-500eacf6f1a5",
   "metadata": {},
   "outputs": [],
   "source": []
  }
 ],
 "metadata": {
  "kernelspec": {
   "display_name": "Python 3 (ipykernel)",
   "language": "python",
   "name": "python3"
  },
  "language_info": {
   "codemirror_mode": {
    "name": "ipython",
    "version": 3
   },
   "file_extension": ".py",
   "mimetype": "text/x-python",
   "name": "python",
   "nbconvert_exporter": "python",
   "pygments_lexer": "ipython3",
   "version": "3.12.9"
  }
 },
 "nbformat": 4,
 "nbformat_minor": 5
}
