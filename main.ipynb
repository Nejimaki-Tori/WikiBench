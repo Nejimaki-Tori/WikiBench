{
 "cells": [
  {
   "cell_type": "code",
   "execution_count": 1,
   "id": "0b8632f9-b953-47c5-8045-542c52621be8",
   "metadata": {
    "scrolled": true
   },
   "outputs": [
    {
     "name": "stdout",
     "output_type": "stream",
     "text": [
      "Requirement already satisfied: numpy==2.0.2 in c:\\users\\dagri\\anaconda3\\envs\\wikibench\\lib\\site-packages (from -r requirements.txt (line 1)) (2.0.2)\n",
      "Requirement already satisfied: pandas in c:\\users\\dagri\\anaconda3\\envs\\wikibench\\lib\\site-packages (from -r requirements.txt (line 2)) (2.2.3)\n",
      "Requirement already satisfied: scipy==1.14.1 in c:\\users\\dagri\\anaconda3\\envs\\wikibench\\lib\\site-packages (from -r requirements.txt (line 3)) (1.14.1)\n",
      "Requirement already satisfied: scikit-learn==1.6.1 in c:\\users\\dagri\\anaconda3\\envs\\wikibench\\lib\\site-packages (from -r requirements.txt (line 4)) (1.6.1)\n",
      "Requirement already satisfied: requests==2.32.3 in c:\\users\\dagri\\anaconda3\\envs\\wikibench\\lib\\site-packages (from -r requirements.txt (line 5)) (2.32.3)\n",
      "Requirement already satisfied: BeautifulSoup4==4.11.1 in c:\\users\\dagri\\anaconda3\\envs\\wikibench\\lib\\site-packages (from -r requirements.txt (line 6)) (4.11.1)\n",
      "Requirement already satisfied: lxml_html_clean==0.4.1 in c:\\users\\dagri\\anaconda3\\envs\\wikibench\\lib\\site-packages (from -r requirements.txt (line 7)) (0.4.1)\n",
      "Requirement already satisfied: newspaper3k==0.2.8 in c:\\users\\dagri\\anaconda3\\envs\\wikibench\\lib\\site-packages (from -r requirements.txt (line 8)) (0.2.8)\n",
      "Requirement already satisfied: openai==1.55.3 in c:\\users\\dagri\\anaconda3\\envs\\wikibench\\lib\\site-packages (from -r requirements.txt (line 10)) (1.55.3)\n",
      "Requirement already satisfied: httpx==0.27.2 in c:\\users\\dagri\\anaconda3\\envs\\wikibench\\lib\\site-packages (from -r requirements.txt (line 11)) (0.27.2)\n",
      "Requirement already satisfied: asyncio==3.4.3 in c:\\users\\dagri\\anaconda3\\envs\\wikibench\\lib\\site-packages (from -r requirements.txt (line 12)) (3.4.3)\n",
      "Requirement already satisfied: nltk in c:\\users\\dagri\\anaconda3\\envs\\wikibench\\lib\\site-packages (from -r requirements.txt (line 13)) (3.9.1)\n",
      "Requirement already satisfied: PyStemmer==2.2.0.3 in c:\\users\\dagri\\anaconda3\\envs\\wikibench\\lib\\site-packages (from -r requirements.txt (line 14)) (2.2.0.3)\n",
      "Requirement already satisfied: datasets in c:\\users\\dagri\\anaconda3\\envs\\wikibench\\lib\\site-packages (from -r requirements.txt (line 16)) (3.5.0)\n",
      "Requirement already satisfied: jax==0.5.2 in c:\\users\\dagri\\anaconda3\\envs\\wikibench\\lib\\site-packages (from jax[cpu]==0.5.2->-r requirements.txt (line 17)) (0.5.2)\n",
      "Requirement already satisfied: tqdm in c:\\users\\dagri\\anaconda3\\envs\\wikibench\\lib\\site-packages (from -r requirements.txt (line 18)) (4.67.1)\n",
      "Requirement already satisfied: sentence-transformers in c:\\users\\dagri\\anaconda3\\envs\\wikibench\\lib\\site-packages (from -r requirements.txt (line 19)) (4.0.2)\n",
      "Requirement already satisfied: accelerate in c:\\users\\dagri\\anaconda3\\envs\\wikibench\\lib\\site-packages (from -r requirements.txt (line 20)) (1.6.0)\n",
      "Requirement already satisfied: transformers in c:\\users\\dagri\\anaconda3\\envs\\wikibench\\lib\\site-packages (from -r requirements.txt (line 21)) (4.51.0)\n",
      "Requirement already satisfied: matplotlib in c:\\users\\dagri\\anaconda3\\envs\\wikibench\\lib\\site-packages (from -r requirements.txt (line 22)) (3.10.1)\n",
      "Requirement already satisfied: pymorphy3 in c:\\users\\dagri\\anaconda3\\envs\\wikibench\\lib\\site-packages (from -r requirements.txt (line 23)) (2.0.3)\n",
      "Requirement already satisfied: razdel in c:\\users\\dagri\\anaconda3\\envs\\wikibench\\lib\\site-packages (from -r requirements.txt (line 24)) (0.5.0)\n",
      "Requirement already satisfied: goose3[all] in c:\\users\\dagri\\anaconda3\\envs\\wikibench\\lib\\site-packages (from -r requirements.txt (line 9)) (3.1.19)\n",
      "Requirement already satisfied: bm25s[full] in c:\\users\\dagri\\anaconda3\\envs\\wikibench\\lib\\site-packages (from -r requirements.txt (line 15)) (0.2.10)\n",
      "Requirement already satisfied: joblib>=1.2.0 in c:\\users\\dagri\\anaconda3\\envs\\wikibench\\lib\\site-packages (from scikit-learn==1.6.1->-r requirements.txt (line 4)) (1.4.2)\n",
      "Requirement already satisfied: threadpoolctl>=3.1.0 in c:\\users\\dagri\\anaconda3\\envs\\wikibench\\lib\\site-packages (from scikit-learn==1.6.1->-r requirements.txt (line 4)) (3.6.0)\n",
      "Requirement already satisfied: charset-normalizer<4,>=2 in c:\\users\\dagri\\anaconda3\\envs\\wikibench\\lib\\site-packages (from requests==2.32.3->-r requirements.txt (line 5)) (2.0.12)\n",
      "Requirement already satisfied: idna<4,>=2.5 in c:\\users\\dagri\\anaconda3\\envs\\wikibench\\lib\\site-packages (from requests==2.32.3->-r requirements.txt (line 5)) (3.10)\n",
      "Requirement already satisfied: urllib3<3,>=1.21.1 in c:\\users\\dagri\\anaconda3\\envs\\wikibench\\lib\\site-packages (from requests==2.32.3->-r requirements.txt (line 5)) (1.26.20)\n",
      "Requirement already satisfied: certifi>=2017.4.17 in c:\\users\\dagri\\anaconda3\\envs\\wikibench\\lib\\site-packages (from requests==2.32.3->-r requirements.txt (line 5)) (2025.1.31)\n",
      "Requirement already satisfied: soupsieve>1.2 in c:\\users\\dagri\\anaconda3\\envs\\wikibench\\lib\\site-packages (from BeautifulSoup4==4.11.1->-r requirements.txt (line 6)) (2.5)\n",
      "Requirement already satisfied: lxml in c:\\users\\dagri\\anaconda3\\envs\\wikibench\\lib\\site-packages (from lxml_html_clean==0.4.1->-r requirements.txt (line 7)) (5.3.1)\n",
      "Requirement already satisfied: Pillow>=3.3.0 in c:\\users\\dagri\\anaconda3\\envs\\wikibench\\lib\\site-packages (from newspaper3k==0.2.8->-r requirements.txt (line 8)) (11.1.0)\n",
      "Requirement already satisfied: PyYAML>=3.11 in c:\\users\\dagri\\anaconda3\\envs\\wikibench\\lib\\site-packages (from newspaper3k==0.2.8->-r requirements.txt (line 8)) (6.0.2)\n",
      "Requirement already satisfied: cssselect>=0.9.2 in c:\\users\\dagri\\anaconda3\\envs\\wikibench\\lib\\site-packages (from newspaper3k==0.2.8->-r requirements.txt (line 8)) (1.2.0)\n",
      "Requirement already satisfied: feedparser>=5.2.1 in c:\\users\\dagri\\anaconda3\\envs\\wikibench\\lib\\site-packages (from newspaper3k==0.2.8->-r requirements.txt (line 8)) (6.0.11)\n",
      "Requirement already satisfied: tldextract>=2.0.1 in c:\\users\\dagri\\anaconda3\\envs\\wikibench\\lib\\site-packages (from newspaper3k==0.2.8->-r requirements.txt (line 8)) (5.1.3)\n",
      "Requirement already satisfied: feedfinder2>=0.0.4 in c:\\users\\dagri\\anaconda3\\envs\\wikibench\\lib\\site-packages (from newspaper3k==0.2.8->-r requirements.txt (line 8)) (0.0.4)\n",
      "Requirement already satisfied: jieba3k>=0.35.1 in c:\\users\\dagri\\anaconda3\\envs\\wikibench\\lib\\site-packages (from newspaper3k==0.2.8->-r requirements.txt (line 8)) (0.35.1)\n",
      "Requirement already satisfied: python-dateutil>=2.5.3 in c:\\users\\dagri\\anaconda3\\envs\\wikibench\\lib\\site-packages (from newspaper3k==0.2.8->-r requirements.txt (line 8)) (2.9.0.post0)\n",
      "Requirement already satisfied: tinysegmenter==0.3 in c:\\users\\dagri\\anaconda3\\envs\\wikibench\\lib\\site-packages (from newspaper3k==0.2.8->-r requirements.txt (line 8)) (0.3)\n",
      "Requirement already satisfied: anyio<5,>=3.5.0 in c:\\users\\dagri\\anaconda3\\envs\\wikibench\\lib\\site-packages (from openai==1.55.3->-r requirements.txt (line 10)) (4.9.0)\n",
      "Requirement already satisfied: distro<2,>=1.7.0 in c:\\users\\dagri\\anaconda3\\envs\\wikibench\\lib\\site-packages (from openai==1.55.3->-r requirements.txt (line 10)) (1.9.0)\n",
      "Requirement already satisfied: jiter<1,>=0.4.0 in c:\\users\\dagri\\anaconda3\\envs\\wikibench\\lib\\site-packages (from openai==1.55.3->-r requirements.txt (line 10)) (0.9.0)\n",
      "Requirement already satisfied: pydantic<3,>=1.9.0 in c:\\users\\dagri\\anaconda3\\envs\\wikibench\\lib\\site-packages (from openai==1.55.3->-r requirements.txt (line 10)) (2.10.6)\n",
      "Requirement already satisfied: sniffio in c:\\users\\dagri\\anaconda3\\envs\\wikibench\\lib\\site-packages (from openai==1.55.3->-r requirements.txt (line 10)) (1.3.1)\n",
      "Requirement already satisfied: typing-extensions<5,>=4.11 in c:\\users\\dagri\\anaconda3\\envs\\wikibench\\lib\\site-packages (from openai==1.55.3->-r requirements.txt (line 10)) (4.13.0)\n",
      "Requirement already satisfied: httpcore==1.* in c:\\users\\dagri\\anaconda3\\envs\\wikibench\\lib\\site-packages (from httpx==0.27.2->-r requirements.txt (line 11)) (1.0.7)\n",
      "Requirement already satisfied: jaxlib<=0.5.2,>=0.5.1 in c:\\users\\dagri\\anaconda3\\envs\\wikibench\\lib\\site-packages (from jax==0.5.2->jax[cpu]==0.5.2->-r requirements.txt (line 17)) (0.5.1)\n",
      "Requirement already satisfied: ml_dtypes>=0.4.0 in c:\\users\\dagri\\anaconda3\\envs\\wikibench\\lib\\site-packages (from jax==0.5.2->jax[cpu]==0.5.2->-r requirements.txt (line 17)) (0.5.1)\n",
      "Requirement already satisfied: opt_einsum in c:\\users\\dagri\\anaconda3\\envs\\wikibench\\lib\\site-packages (from jax==0.5.2->jax[cpu]==0.5.2->-r requirements.txt (line 17)) (3.4.0)\n",
      "Requirement already satisfied: h11<0.15,>=0.13 in c:\\users\\dagri\\anaconda3\\envs\\wikibench\\lib\\site-packages (from httpcore==1.*->httpx==0.27.2->-r requirements.txt (line 11)) (0.14.0)\n",
      "Requirement already satisfied: pytz>=2020.1 in c:\\users\\dagri\\anaconda3\\envs\\wikibench\\lib\\site-packages (from pandas->-r requirements.txt (line 2)) (2025.2)\n",
      "Requirement already satisfied: tzdata>=2022.7 in c:\\users\\dagri\\anaconda3\\envs\\wikibench\\lib\\site-packages (from pandas->-r requirements.txt (line 2)) (2025.1)\n",
      "Requirement already satisfied: langdetect in c:\\users\\dagri\\anaconda3\\envs\\wikibench\\lib\\site-packages (from goose3[all]->-r requirements.txt (line 9)) (1.0.9)\n",
      "Requirement already satisfied: pyahocorasick in c:\\users\\dagri\\anaconda3\\envs\\wikibench\\lib\\site-packages (from goose3[all]->-r requirements.txt (line 9)) (2.1.0)\n",
      "Requirement already satisfied: jieba in c:\\users\\dagri\\anaconda3\\envs\\wikibench\\lib\\site-packages (from goose3[all]->-r requirements.txt (line 9)) (0.42.1)\n",
      "Requirement already satisfied: click in c:\\users\\dagri\\anaconda3\\envs\\wikibench\\lib\\site-packages (from nltk->-r requirements.txt (line 13)) (8.1.8)\n",
      "Requirement already satisfied: regex>=2021.8.3 in c:\\users\\dagri\\anaconda3\\envs\\wikibench\\lib\\site-packages (from nltk->-r requirements.txt (line 13)) (2024.11.6)\n",
      "Requirement already satisfied: orjson in c:\\users\\dagri\\anaconda3\\envs\\wikibench\\lib\\site-packages (from bm25s[full]->-r requirements.txt (line 15)) (3.10.16)\n",
      "Requirement already satisfied: numba in c:\\users\\dagri\\anaconda3\\envs\\wikibench\\lib\\site-packages (from bm25s[full]->-r requirements.txt (line 15)) (0.61.0)\n",
      "Requirement already satisfied: huggingface-hub in c:\\users\\dagri\\anaconda3\\envs\\wikibench\\lib\\site-packages (from bm25s[full]->-r requirements.txt (line 15)) (0.30.1)\n",
      "Requirement already satisfied: black in c:\\users\\dagri\\anaconda3\\envs\\wikibench\\lib\\site-packages (from bm25s[full]->-r requirements.txt (line 15)) (25.1.0)\n",
      "Requirement already satisfied: pytrec-eval in c:\\users\\dagri\\anaconda3\\envs\\wikibench\\lib\\site-packages (from bm25s[full]->-r requirements.txt (line 15)) (0.5)\n",
      "Requirement already satisfied: filelock in c:\\users\\dagri\\anaconda3\\envs\\wikibench\\lib\\site-packages (from datasets->-r requirements.txt (line 16)) (3.17.0)\n",
      "Requirement already satisfied: pyarrow>=15.0.0 in c:\\users\\dagri\\anaconda3\\envs\\wikibench\\lib\\site-packages (from datasets->-r requirements.txt (line 16)) (19.0.1)\n",
      "Requirement already satisfied: dill<0.3.9,>=0.3.0 in c:\\users\\dagri\\anaconda3\\envs\\wikibench\\lib\\site-packages (from datasets->-r requirements.txt (line 16)) (0.3.8)\n",
      "Requirement already satisfied: xxhash in c:\\users\\dagri\\anaconda3\\envs\\wikibench\\lib\\site-packages (from datasets->-r requirements.txt (line 16)) (3.5.0)\n",
      "Requirement already satisfied: multiprocess<0.70.17 in c:\\users\\dagri\\anaconda3\\envs\\wikibench\\lib\\site-packages (from datasets->-r requirements.txt (line 16)) (0.70.16)\n",
      "Requirement already satisfied: fsspec<=2024.12.0,>=2023.1.0 in c:\\users\\dagri\\anaconda3\\envs\\wikibench\\lib\\site-packages (from fsspec[http]<=2024.12.0,>=2023.1.0->datasets->-r requirements.txt (line 16)) (2024.12.0)\n",
      "Requirement already satisfied: aiohttp in c:\\users\\dagri\\anaconda3\\envs\\wikibench\\lib\\site-packages (from datasets->-r requirements.txt (line 16)) (3.11.16)\n",
      "Requirement already satisfied: packaging in c:\\users\\dagri\\anaconda3\\envs\\wikibench\\lib\\site-packages (from datasets->-r requirements.txt (line 16)) (24.2)\n",
      "Requirement already satisfied: colorama in c:\\users\\dagri\\anaconda3\\envs\\wikibench\\lib\\site-packages (from tqdm->-r requirements.txt (line 18)) (0.4.6)\n",
      "Requirement already satisfied: torch>=1.11.0 in c:\\users\\dagri\\anaconda3\\envs\\wikibench\\lib\\site-packages (from sentence-transformers->-r requirements.txt (line 19)) (2.6.0)\n",
      "Requirement already satisfied: psutil in c:\\users\\dagri\\anaconda3\\envs\\wikibench\\lib\\site-packages (from accelerate->-r requirements.txt (line 20)) (7.0.0)\n",
      "Requirement already satisfied: safetensors>=0.4.3 in c:\\users\\dagri\\anaconda3\\envs\\wikibench\\lib\\site-packages (from accelerate->-r requirements.txt (line 20)) (0.5.3)\n",
      "Requirement already satisfied: tokenizers<0.22,>=0.21 in c:\\users\\dagri\\anaconda3\\envs\\wikibench\\lib\\site-packages (from transformers->-r requirements.txt (line 21)) (0.21.1)\n",
      "Requirement already satisfied: contourpy>=1.0.1 in c:\\users\\dagri\\anaconda3\\envs\\wikibench\\lib\\site-packages (from matplotlib->-r requirements.txt (line 22)) (1.3.1)\n",
      "Requirement already satisfied: cycler>=0.10 in c:\\users\\dagri\\anaconda3\\envs\\wikibench\\lib\\site-packages (from matplotlib->-r requirements.txt (line 22)) (0.12.1)\n",
      "Requirement already satisfied: fonttools>=4.22.0 in c:\\users\\dagri\\anaconda3\\envs\\wikibench\\lib\\site-packages (from matplotlib->-r requirements.txt (line 22)) (4.57.0)\n",
      "Requirement already satisfied: kiwisolver>=1.3.1 in c:\\users\\dagri\\anaconda3\\envs\\wikibench\\lib\\site-packages (from matplotlib->-r requirements.txt (line 22)) (1.4.8)\n",
      "Requirement already satisfied: pyparsing>=2.3.1 in c:\\users\\dagri\\anaconda3\\envs\\wikibench\\lib\\site-packages (from matplotlib->-r requirements.txt (line 22)) (3.2.3)\n",
      "Requirement already satisfied: dawg2-python>=0.8.0 in c:\\users\\dagri\\anaconda3\\envs\\wikibench\\lib\\site-packages (from pymorphy3->-r requirements.txt (line 23)) (0.9.0)\n",
      "Requirement already satisfied: pymorphy3-dicts-ru in c:\\users\\dagri\\anaconda3\\envs\\wikibench\\lib\\site-packages (from pymorphy3->-r requirements.txt (line 23)) (2.4.417150.4580142)\n",
      "Requirement already satisfied: setuptools>=68.2.2 in c:\\users\\dagri\\anaconda3\\envs\\wikibench\\lib\\site-packages (from pymorphy3->-r requirements.txt (line 23)) (78.1.0)\n",
      "Requirement already satisfied: six in c:\\users\\dagri\\anaconda3\\envs\\wikibench\\lib\\site-packages (from feedfinder2>=0.0.4->newspaper3k==0.2.8->-r requirements.txt (line 8)) (1.17.0)\n",
      "Requirement already satisfied: sgmllib3k in c:\\users\\dagri\\anaconda3\\envs\\wikibench\\lib\\site-packages (from feedparser>=5.2.1->newspaper3k==0.2.8->-r requirements.txt (line 8)) (1.0.0)\n",
      "Requirement already satisfied: aiohappyeyeballs>=2.3.0 in c:\\users\\dagri\\anaconda3\\envs\\wikibench\\lib\\site-packages (from aiohttp->datasets->-r requirements.txt (line 16)) (2.6.1)\n",
      "Requirement already satisfied: aiosignal>=1.1.2 in c:\\users\\dagri\\anaconda3\\envs\\wikibench\\lib\\site-packages (from aiohttp->datasets->-r requirements.txt (line 16)) (1.3.2)\n",
      "Requirement already satisfied: attrs>=17.3.0 in c:\\users\\dagri\\anaconda3\\envs\\wikibench\\lib\\site-packages (from aiohttp->datasets->-r requirements.txt (line 16)) (25.3.0)\n",
      "Requirement already satisfied: frozenlist>=1.1.1 in c:\\users\\dagri\\anaconda3\\envs\\wikibench\\lib\\site-packages (from aiohttp->datasets->-r requirements.txt (line 16)) (1.5.0)\n",
      "Requirement already satisfied: multidict<7.0,>=4.5 in c:\\users\\dagri\\anaconda3\\envs\\wikibench\\lib\\site-packages (from aiohttp->datasets->-r requirements.txt (line 16)) (6.2.0)\n",
      "Requirement already satisfied: propcache>=0.2.0 in c:\\users\\dagri\\anaconda3\\envs\\wikibench\\lib\\site-packages (from aiohttp->datasets->-r requirements.txt (line 16)) (0.3.1)\n",
      "Requirement already satisfied: yarl<2.0,>=1.17.0 in c:\\users\\dagri\\anaconda3\\envs\\wikibench\\lib\\site-packages (from aiohttp->datasets->-r requirements.txt (line 16)) (1.18.3)\n",
      "Requirement already satisfied: annotated-types>=0.6.0 in c:\\users\\dagri\\anaconda3\\envs\\wikibench\\lib\\site-packages (from pydantic<3,>=1.9.0->openai==1.55.3->-r requirements.txt (line 10)) (0.7.0)\n",
      "Requirement already satisfied: pydantic-core==2.27.2 in c:\\users\\dagri\\anaconda3\\envs\\wikibench\\lib\\site-packages (from pydantic<3,>=1.9.0->openai==1.55.3->-r requirements.txt (line 10)) (2.27.2)\n",
      "Requirement already satisfied: requests-file>=1.4 in c:\\users\\dagri\\anaconda3\\envs\\wikibench\\lib\\site-packages (from tldextract>=2.0.1->newspaper3k==0.2.8->-r requirements.txt (line 8)) (2.1.0)\n",
      "Requirement already satisfied: networkx in c:\\users\\dagri\\anaconda3\\envs\\wikibench\\lib\\site-packages (from torch>=1.11.0->sentence-transformers->-r requirements.txt (line 19)) (3.4.2)\n",
      "Requirement already satisfied: jinja2 in c:\\users\\dagri\\anaconda3\\envs\\wikibench\\lib\\site-packages (from torch>=1.11.0->sentence-transformers->-r requirements.txt (line 19)) (3.1.6)\n",
      "Requirement already satisfied: sympy==1.13.1 in c:\\users\\dagri\\anaconda3\\envs\\wikibench\\lib\\site-packages (from torch>=1.11.0->sentence-transformers->-r requirements.txt (line 19)) (1.13.1)\n",
      "Requirement already satisfied: mpmath<1.4,>=1.1.0 in c:\\users\\dagri\\anaconda3\\envs\\wikibench\\lib\\site-packages (from sympy==1.13.1->torch>=1.11.0->sentence-transformers->-r requirements.txt (line 19)) (1.3.0)\n",
      "Requirement already satisfied: mypy-extensions>=0.4.3 in c:\\users\\dagri\\anaconda3\\envs\\wikibench\\lib\\site-packages (from black->bm25s[full]->-r requirements.txt (line 15)) (1.0.0)\n",
      "Requirement already satisfied: pathspec>=0.9.0 in c:\\users\\dagri\\anaconda3\\envs\\wikibench\\lib\\site-packages (from black->bm25s[full]->-r requirements.txt (line 15)) (0.12.1)\n",
      "Requirement already satisfied: platformdirs>=2 in c:\\users\\dagri\\anaconda3\\envs\\wikibench\\lib\\site-packages (from black->bm25s[full]->-r requirements.txt (line 15)) (4.3.7)\n",
      "Requirement already satisfied: llvmlite<0.45,>=0.44.0dev0 in c:\\users\\dagri\\anaconda3\\envs\\wikibench\\lib\\site-packages (from numba->bm25s[full]->-r requirements.txt (line 15)) (0.44.0)\n",
      "Requirement already satisfied: MarkupSafe>=2.0 in c:\\users\\dagri\\anaconda3\\envs\\wikibench\\lib\\site-packages (from jinja2->torch>=1.11.0->sentence-transformers->-r requirements.txt (line 19)) (3.0.2)\n"
     ]
    }
   ],
   "source": [
    "!pip install -r requirements.txt"
   ]
  },
  {
   "cell_type": "code",
   "execution_count": 10,
   "id": "10a4b5ec-3805-4a98-9942-d5b12d1bb298",
   "metadata": {},
   "outputs": [
    {
     "name": "stdout",
     "output_type": "stream",
     "text": [
      "The autoreload extension is already loaded. To reload it, use:\n",
      "  %reload_ext autoreload\n"
     ]
    }
   ],
   "source": [
    "%load_ext autoreload\n",
    "%autoreload 2"
   ]
  },
  {
   "cell_type": "code",
   "execution_count": 7,
   "id": "6664a03f-3846-48ae-8bcc-6377651f84c2",
   "metadata": {
    "scrolled": true
   },
   "outputs": [],
   "source": [
    "%reload_ext autoreload"
   ]
  },
  {
   "cell_type": "code",
   "execution_count": 1,
   "id": "954571ad-a45a-494c-a0ab-dbf20f1a0781",
   "metadata": {},
   "outputs": [
    {
     "name": "stdout",
     "output_type": "stream",
     "text": [
      "resource module not available on Windows\n"
     ]
    },
    {
     "name": "stderr",
     "output_type": "stream",
     "text": [
      "Default prompt name is set to 'Classification'. This prompt will be applied to all `encode()` calls, except if `encode()` is called with `prompt` or `prompt_name` parameters.\n"
     ]
    }
   ],
   "source": [
    "import sys\n",
    "\n",
    "sys.path.append(\"src\")\n",
    "from wiki_bench import WikiBench\n",
    "with open('Access_key.txt', 'r', encoding='utf-8') as file:\n",
    "    url, key = file.read().split()\n",
    "wiki_bench = WikiBench(url, key, model_name='yagpt5lite', pre_load=True)"
   ]
  },
  {
   "cell_type": "code",
   "execution_count": 2,
   "id": "c25ebd31-3ae0-4ec8-a26b-3714d91058bb",
   "metadata": {},
   "outputs": [],
   "source": [
    "with open('c.txt', 'r', encoding='utf-8') as file:\n",
    "    names = file.read().split('\\n')"
   ]
  },
  {
   "cell_type": "code",
   "execution_count": 4,
   "id": "81b91fd7-36c9-4165-90ea-8fe09864a357",
   "metadata": {},
   "outputs": [
    {
     "name": "stdout",
     "output_type": "stream",
     "text": [
      "Байкал\n"
     ]
    }
   ],
   "source": [
    "print(names[500])"
   ]
  },
  {
   "cell_type": "code",
   "execution_count": null,
   "id": "3e011884-3f4b-4439-ab84-00d06fc0c9e5",
   "metadata": {
    "scrolled": true
   },
   "outputs": [
    {
     "name": "stdout",
     "output_type": "stream",
     "text": [
      "Пригожин, Евгений Викторович\n",
      "ЧВК «Вагнер»\n",
      "Путин, Владимир Владимирович\n",
      "Россия\n",
      "Слово пацана. Кровь на асфальте\n",
      "Государство Палестина\n",
      "Король и Шут\n",
      "Израиль\n",
      "Сталин, Иосиф Виссарионович\n",
      "Союз Советских Социалистических Республик\n",
      "Президентские выборы в России (2024)\n",
      "ChatGPT\n",
      "Зеленский, Владимир Александрович\n",
      "Список фильмов кинематографической вселенной Marvel\n",
      "Криштиану Роналду\n",
      "Москва\n",
      "Atomic Heart\n",
      "ХАМАС\n",
      "Санкт-Петербург\n",
      "Месси, Лионель\n",
      "Shaman\n",
      "Оппенгеймер (фильм)\n",
      "Мятеж ЧВК «Вагнер»\n",
      "Шойгу, Сергей Кужугетович\n",
      "Ленин, Владимир Ильич\n",
      "Российская империя\n",
      "Китай\n",
      "YouTube\n",
      "Казахстан\n",
      "Аватар: Путь воды\n",
      "НАТО\n",
      "Елизавета II\n",
      "Кадыров, Рамзан Ахматович\n",
      "Пугачёва, Алла Борисовна\n"
     ]
    },
    {
     "name": "stderr",
     "output_type": "stream",
     "text": [
      "C:\\Users\\dagri\\anaconda3\\envs\\WIKIbench\\Lib\\site-packages\\dateutil\\parser\\_parser.py:1207: UnknownTimezoneWarning: tzname EST identified but not understood.  Pass `tzinfos` argument in order to correctly return a timezone-aware datetime.  In a future version, this will raise an exception.\n",
      "  warnings.warn(\"tzname {tzname} identified but not understood.  \"\n"
     ]
    },
    {
     "name": "stdout",
     "output_type": "stream",
     "text": [
      "Маск, Илон\n",
      "Арабо-израильский конфликт\n",
      "Великобритания\n"
     ]
    },
    {
     "name": "stderr",
     "output_type": "stream",
     "text": [
      "Some characters could not be decoded, and were replaced with REPLACEMENT CHARACTER.\n",
      "Some characters could not be decoded, and were replaced with REPLACEMENT CHARACTER.\n"
     ]
    },
    {
     "name": "stdout",
     "output_type": "stream",
     "text": [
      "Германия\n",
      "Байден, Джо\n",
      "Цой, Виктор Робертович\n",
      "Одни из нас (телесериал)\n",
      "БРИКС\n",
      "Ди Каприо, Леонардо\n",
      "Стрелков, Игорь Иванович\n",
      "Википедия\n",
      "Корейская Народно-Демократическая Республика\n",
      "Землетрясение в Турции и Сирии (2023)\n",
      "Террористический акт в Беслане\n",
      "Приднестровская Молдавская Республика\n",
      "Титаник\n",
      "Вызов (фильм, 2023)\n",
      "Афганская война (1979—1989)\n",
      "Террористические акты 11 сентября 2001 года\n",
      "Азербайджан\n",
      "Толстой, Лев Николаевич\n",
      "Хрущёв, Никита Сергеевич\n",
      "Горбачёв, Михаил Сергеевич\n",
      "Марцинкевич, Максим Сергеевич\n",
      "Лукашенко, Александр Григорьевич\n",
      "2023 год\n"
     ]
    },
    {
     "name": "stderr",
     "output_type": "stream",
     "text": [
      "Some characters could not be decoded, and were replaced with REPLACEMENT CHARACTER.\n",
      "Some characters could not be decoded, and were replaced with REPLACEMENT CHARACTER.\n"
     ]
    },
    {
     "name": "stdout",
     "output_type": "stream",
     "text": [
      "Искандер (ракетный комплекс)\n",
      "Прилепин, Захар\n",
      "General Dynamics F-16 Fighting Falcon\n",
      "Су-57\n",
      "Кабаева, Алина Маратовна\n",
      "Игра престолов (телесериал)\n",
      "Telegram\n",
      "Медведев, Дмитрий Анатольевич\n",
      "Вооружённые силы Российской Федерации\n",
      "Екатеринбург\n"
     ]
    },
    {
     "name": "stderr",
     "output_type": "stream",
     "text": [
      "Some characters could not be decoded, and were replaced with REPLACEMENT CHARACTER.\n",
      "Some characters could not be decoded, and were replaced with REPLACEMENT CHARACTER.\n"
     ]
    },
    {
     "name": "stdout",
     "output_type": "stream",
     "text": [
      "Канада\n",
      "Армения\n",
      "Minecraft\n",
      "Калининград\n",
      "ВКонтакте\n",
      "Мэрилин Монро\n"
     ]
    }
   ],
   "source": [
    "import shutil\n",
    "import os\n",
    "\n",
    "source_path = r'Articles\\Sources'\n",
    "err = []\n",
    "succ = []\n",
    "for name in names:\n",
    "    try:\n",
    "        page = wiki_bench.get_article(name=name, retrieve_sources=True, verbose=False, html=False, needs_saving=False)\n",
    "        if len(page.downloaded_links) >= 25:\n",
    "            succ.append(name)\n",
    "            print(page.name)\n",
    "        else:\n",
    "            article_dir = os.path.join(source_path, page.cleared_name)\n",
    "            if os.path.exists(article_dir) and os.path.isdir(article_dir):\n",
    "                shutil.rmtree(article_dir)\n",
    "    except:\n",
    "        err.append(name)\n",
    "        continue"
   ]
  },
  {
   "cell_type": "code",
   "execution_count": 12,
   "id": "01dc6114-4eeb-457f-b637-20a5db64a4dc",
   "metadata": {},
   "outputs": [
    {
     "data": {
      "text/plain": [
       "2029"
      ]
     },
     "execution_count": 12,
     "metadata": {},
     "output_type": "execute_result"
    }
   ],
   "source": [
    "from newspaper import Article\n",
    "\n",
    "article = Article('https://www.britannica.com/topic/European-Union', language='en')\n",
    "article.download()\n",
    "article.parse()\n",
    "text = article.text\n",
    "len(text)"
   ]
  },
  {
   "cell_type": "code",
   "execution_count": 1,
   "id": "484d0607-6ca0-4c0d-be27-ade96ef5cc87",
   "metadata": {},
   "outputs": [
    {
     "name": "stdout",
     "output_type": "stream",
     "text": [
      "resource module not available on Windows\n"
     ]
    }
   ],
   "source": [
    "import sys\n",
    "\n",
    "sys.path.append(\"src\")\n",
    "from wiki_bench import WikiBench"
   ]
  },
  {
   "cell_type": "code",
   "execution_count": 2,
   "id": "e97dabf1-5b7e-4de4-b745-3548f601471d",
   "metadata": {},
   "outputs": [],
   "source": [
    "with open('Access_key.txt', 'r', encoding='utf-8') as file:\n",
    "    url, key = file.read().split()"
   ]
  },
  {
   "cell_type": "code",
   "execution_count": 3,
   "id": "3041c821-d50d-4ff4-9e97-37f56a475800",
   "metadata": {},
   "outputs": [
    {
     "name": "stderr",
     "output_type": "stream",
     "text": [
      "Default prompt name is set to 'Classification'. This prompt will be applied to all `encode()` calls, except if `encode()` is called with `prompt` or `prompt_name` parameters.\n"
     ]
    }
   ],
   "source": [
    "wiki_bench = WikiBench(url, key, model_name='yagpt5lite', pre_load=True)"
   ]
  },
  {
   "cell_type": "code",
   "execution_count": 7,
   "id": "6440ec21-7d5b-42a5-9cd1-d8d241fd2850",
   "metadata": {
    "scrolled": true
   },
   "outputs": [
    {
     "name": "stdout",
     "output_type": "stream",
     "text": [
      "Model(id='deepseek-r1-32b', created=None, object=None, owned_by=None, max_model_len=30000, status='spawned')\n",
      "Model(id='tpro', created=None, object=None, owned_by=None, max_model_len=30000, status='spawned')\n",
      "Model(id='yagpt5lite', created=None, object=None, owned_by=None, max_model_len=30000, status='spawned')\n",
      "Model(id='RefalMachine/RuadaptQwen2.5-32B-Pro-Beta', created=None, object=None, owned_by=None, max_model_len=28000, status='spawned')\n",
      "Model(id='llama3-70b', created=None, object=None, owned_by=None, max_model_len=14000, status='spawned')\n",
      "Model(id='qwen2.5-72b', created=None, object=None, owned_by=None, max_model_len=14000, status='spawned')\n",
      "Model(id='DeepSeek V3', created=None, object=None, owned_by=None, max_model_len=-1, status='spawned')\n",
      "Model(id='Qwen3-235B-A22B', created=None, object=None, owned_by=None, max_model_len=-1, status='spawned')\n",
      "Model(id='RefalMachine/RuadaptQwen2.5-7B-Garant-v2', created=None, object=None, owned_by=None, max_model_len=30000, status='offloaded')\n",
      "Model(id='RefalMachine/RuadaptQwen2.5-7B-Lite-Beta', created=None, object=None, owned_by=None, max_model_len=30000, status='offloaded')\n",
      "Model(id='qwen32b-coder', created=None, object=None, owned_by=None, max_model_len=30000, status='offloaded')\n",
      "Model(id='vikhr12b', created=None, object=None, owned_by=None, max_model_len=30000, status='offloaded')\n",
      "Model(id='qwen3moe30b', created=None, object=None, owned_by=None, max_model_len=28000, status='offloaded')\n",
      "Model(id='RefalMachine/RuadaptQwen3-32B-Instruct-v1', created=None, object=None, owned_by=None, max_model_len=24000, status='offloaded')\n",
      "Model(id='gemma3', created=None, object=None, owned_by=None, max_model_len=22000, status='offloaded')\n",
      "Model(id='RefalMachine/RuadaptQwen2.5-32B-QWQ-Beta', created=None, object=None, owned_by=None, max_model_len=16000, status='offloaded')\n",
      "Model(id='tlite', created=None, object=None, owned_by=None, max_model_len=-1, status='offloaded')\n"
     ]
    }
   ],
   "source": [
    "lst = list(await wiki_bench.client.client.models.list())[0][1]\n",
    "for l in lst:\n",
    "    print(l)"
   ]
  },
  {
   "cell_type": "code",
   "execution_count": 2,
   "id": "d9710608-8b1d-43bb-8063-8302b2a29e89",
   "metadata": {
    "collapsed": true,
    "jupyter": {
     "outputs_hidden": true
    },
    "scrolled": true
   },
   "outputs": [
    {
     "name": "stdout",
     "output_type": "stream",
     "text": [
      "C++\n"
     ]
    },
    {
     "data": {
      "application/vnd.jupyter.widget-view+json": {
       "model_id": "d10ef4df627d4b81a818ee14e47e3b7a",
       "version_major": 2,
       "version_minor": 0
      },
      "text/plain": [
       "Split strings:   0%|          | 0/1 [00:00<?, ?it/s]"
      ]
     },
     "metadata": {},
     "output_type": "display_data"
    },
    {
     "data": {
      "application/vnd.jupyter.widget-view+json": {
       "model_id": "3aca7b1fcbba404e88dbe0ea8be14d2c",
       "version_major": 2,
       "version_minor": 0
      },
      "text/plain": [
       "Stem Tokens:   0%|          | 0/1 [00:00<?, ?it/s]"
      ]
     },
     "metadata": {},
     "output_type": "display_data"
    },
    {
     "data": {
      "application/vnd.jupyter.widget-view+json": {
       "model_id": "942d5748ebce4c26a5c0850a7dac0a79",
       "version_major": 2,
       "version_minor": 0
      },
      "text/plain": [
       "BM25S Retrieve:   0%|          | 0/1 [00:00<?, ?it/s]"
      ]
     },
     "metadata": {},
     "output_type": "display_data"
    },
    {
     "name": "stdout",
     "output_type": "stream",
     "text": [
      "0.5117420056466501\n",
      "0.125\n",
      "\n",
      "COVID-19\n"
     ]
    },
    {
     "data": {
      "application/vnd.jupyter.widget-view+json": {
       "model_id": "be0529f77de44b79a5c6651a8f716257",
       "version_major": 2,
       "version_minor": 0
      },
      "text/plain": [
       "Split strings:   0%|          | 0/1 [00:00<?, ?it/s]"
      ]
     },
     "metadata": {},
     "output_type": "display_data"
    },
    {
     "data": {
      "application/vnd.jupyter.widget-view+json": {
       "model_id": "3d73ba41ec2041298d4a6b4fe587ca9e",
       "version_major": 2,
       "version_minor": 0
      },
      "text/plain": [
       "Stem Tokens:   0%|          | 0/1 [00:00<?, ?it/s]"
      ]
     },
     "metadata": {},
     "output_type": "display_data"
    },
    {
     "data": {
      "application/vnd.jupyter.widget-view+json": {
       "model_id": "1bf54531653a43abbf38dbbdd0d194c9",
       "version_major": 2,
       "version_minor": 0
      },
      "text/plain": [
       "BM25S Retrieve:   0%|          | 0/1 [00:00<?, ?it/s]"
      ]
     },
     "metadata": {},
     "output_type": "display_data"
    },
    {
     "name": "stdout",
     "output_type": "stream",
     "text": [
      "0.7270792028266624\n",
      "0.10187110187110188\n",
      "\n",
      "Dota 2\n"
     ]
    },
    {
     "data": {
      "application/vnd.jupyter.widget-view+json": {
       "model_id": "2c45562186924d0eb35862563f0aa30a",
       "version_major": 2,
       "version_minor": 0
      },
      "text/plain": [
       "Split strings:   0%|          | 0/1 [00:00<?, ?it/s]"
      ]
     },
     "metadata": {},
     "output_type": "display_data"
    },
    {
     "data": {
      "application/vnd.jupyter.widget-view+json": {
       "model_id": "5165e3c8855a442e8cb07e7e7c7215e1",
       "version_major": 2,
       "version_minor": 0
      },
      "text/plain": [
       "Stem Tokens:   0%|          | 0/1 [00:00<?, ?it/s]"
      ]
     },
     "metadata": {},
     "output_type": "display_data"
    },
    {
     "data": {
      "application/vnd.jupyter.widget-view+json": {
       "model_id": "44348c7f6e3a4e9bafbe19a85cb11fc6",
       "version_major": 2,
       "version_minor": 0
      },
      "text/plain": [
       "BM25S Retrieve:   0%|          | 0/1 [00:00<?, ?it/s]"
      ]
     },
     "metadata": {},
     "output_type": "display_data"
    },
    {
     "name": "stdout",
     "output_type": "stream",
     "text": [
      "0.616165193008634\n",
      "0.03076923076923077\n",
      "\n",
      "Google (компания)\n"
     ]
    },
    {
     "data": {
      "application/vnd.jupyter.widget-view+json": {
       "model_id": "569f490417c94e84bdb4203945ce193c",
       "version_major": 2,
       "version_minor": 0
      },
      "text/plain": [
       "Split strings:   0%|          | 0/1 [00:00<?, ?it/s]"
      ]
     },
     "metadata": {},
     "output_type": "display_data"
    },
    {
     "data": {
      "application/vnd.jupyter.widget-view+json": {
       "model_id": "90116c07fec3407d9d3fb80afe7052cc",
       "version_major": 2,
       "version_minor": 0
      },
      "text/plain": [
       "Stem Tokens:   0%|          | 0/1 [00:00<?, ?it/s]"
      ]
     },
     "metadata": {},
     "output_type": "display_data"
    },
    {
     "data": {
      "application/vnd.jupyter.widget-view+json": {
       "model_id": "9aef7101aecd41268541647c3970c4c4",
       "version_major": 2,
       "version_minor": 0
      },
      "text/plain": [
       "BM25S Retrieve:   0%|          | 0/1 [00:00<?, ?it/s]"
      ]
     },
     "metadata": {},
     "output_type": "display_data"
    },
    {
     "name": "stdout",
     "output_type": "stream",
     "text": [
      "0.6437873324358534\n",
      "0.23300970873786409\n",
      "\n",
      "Portal 2\n"
     ]
    },
    {
     "data": {
      "application/vnd.jupyter.widget-view+json": {
       "model_id": "91f0a34187dd473baa10555b35dbef16",
       "version_major": 2,
       "version_minor": 0
      },
      "text/plain": [
       "Split strings:   0%|          | 0/1 [00:00<?, ?it/s]"
      ]
     },
     "metadata": {},
     "output_type": "display_data"
    },
    {
     "data": {
      "application/vnd.jupyter.widget-view+json": {
       "model_id": "61101c7dd35846a29a6147ae184f3a0e",
       "version_major": 2,
       "version_minor": 0
      },
      "text/plain": [
       "Stem Tokens:   0%|          | 0/1 [00:00<?, ?it/s]"
      ]
     },
     "metadata": {},
     "output_type": "display_data"
    },
    {
     "data": {
      "application/vnd.jupyter.widget-view+json": {
       "model_id": "851388f6b0fd421295d7a57fc2dfbf1a",
       "version_major": 2,
       "version_minor": 0
      },
      "text/plain": [
       "BM25S Retrieve:   0%|          | 0/1 [00:00<?, ?it/s]"
      ]
     },
     "metadata": {},
     "output_type": "display_data"
    },
    {
     "name": "stdout",
     "output_type": "stream",
     "text": [
      "0.702271277504201\n",
      "0.1276595744680851\n",
      "\n",
      "Python\n"
     ]
    },
    {
     "data": {
      "application/vnd.jupyter.widget-view+json": {
       "model_id": "62f96b9104bc466d8c104efc8d47224b",
       "version_major": 2,
       "version_minor": 0
      },
      "text/plain": [
       "Split strings:   0%|          | 0/1 [00:00<?, ?it/s]"
      ]
     },
     "metadata": {},
     "output_type": "display_data"
    },
    {
     "data": {
      "application/vnd.jupyter.widget-view+json": {
       "model_id": "63fbca2070554f42a60052a703a88c27",
       "version_major": 2,
       "version_minor": 0
      },
      "text/plain": [
       "Stem Tokens:   0%|          | 0/1 [00:00<?, ?it/s]"
      ]
     },
     "metadata": {},
     "output_type": "display_data"
    },
    {
     "data": {
      "application/vnd.jupyter.widget-view+json": {
       "model_id": "baf91a511c2a47ae84decce5d1156a17",
       "version_major": 2,
       "version_minor": 0
      },
      "text/plain": [
       "BM25S Retrieve:   0%|          | 0/1 [00:00<?, ?it/s]"
      ]
     },
     "metadata": {},
     "output_type": "display_data"
    },
    {
     "name": "stdout",
     "output_type": "stream",
     "text": [
      "0.7843599264225529\n",
      "0.233278955954323\n",
      "\n",
      "TikTok\n"
     ]
    },
    {
     "data": {
      "application/vnd.jupyter.widget-view+json": {
       "model_id": "804f1f7ed6324e7f980aee244714fa6c",
       "version_major": 2,
       "version_minor": 0
      },
      "text/plain": [
       "Split strings:   0%|          | 0/1 [00:00<?, ?it/s]"
      ]
     },
     "metadata": {},
     "output_type": "display_data"
    },
    {
     "data": {
      "application/vnd.jupyter.widget-view+json": {
       "model_id": "8bd7142b181a4dae9a4dc8a994a8d947",
       "version_major": 2,
       "version_minor": 0
      },
      "text/plain": [
       "Stem Tokens:   0%|          | 0/1 [00:00<?, ?it/s]"
      ]
     },
     "metadata": {},
     "output_type": "display_data"
    },
    {
     "data": {
      "application/vnd.jupyter.widget-view+json": {
       "model_id": "3724d70e5fd74af8896d50b935065c0b",
       "version_major": 2,
       "version_minor": 0
      },
      "text/plain": [
       "BM25S Retrieve:   0%|          | 0/1 [00:00<?, ?it/s]"
      ]
     },
     "metadata": {},
     "output_type": "display_data"
    },
    {
     "name": "stdout",
     "output_type": "stream",
     "text": [
      "0.6718742398955954\n",
      "0.09271523178807947\n",
      "\n",
      "Tomb Raider (игра, 2013)\n"
     ]
    },
    {
     "data": {
      "application/vnd.jupyter.widget-view+json": {
       "model_id": "345edf9887664686a2e2a593a7bca13d",
       "version_major": 2,
       "version_minor": 0
      },
      "text/plain": [
       "Split strings:   0%|          | 0/1 [00:00<?, ?it/s]"
      ]
     },
     "metadata": {},
     "output_type": "display_data"
    },
    {
     "data": {
      "application/vnd.jupyter.widget-view+json": {
       "model_id": "dcfbd3a2a6b44ed48bf6728ea3499cec",
       "version_major": 2,
       "version_minor": 0
      },
      "text/plain": [
       "Stem Tokens:   0%|          | 0/1 [00:00<?, ?it/s]"
      ]
     },
     "metadata": {},
     "output_type": "display_data"
    },
    {
     "data": {
      "application/vnd.jupyter.widget-view+json": {
       "model_id": "9c9232c974c448efaf6cbb7e305e6881",
       "version_major": 2,
       "version_minor": 0
      },
      "text/plain": [
       "BM25S Retrieve:   0%|          | 0/1 [00:00<?, ?it/s]"
      ]
     },
     "metadata": {},
     "output_type": "display_data"
    },
    {
     "name": "stdout",
     "output_type": "stream",
     "text": [
      "0.732102519498849\n",
      "0.20853080568720378\n",
      "\n",
      "Uncharted 4 A Thief’s End\n"
     ]
    },
    {
     "data": {
      "application/vnd.jupyter.widget-view+json": {
       "model_id": "19adbe17ccae4c979eac1a70362a2fba",
       "version_major": 2,
       "version_minor": 0
      },
      "text/plain": [
       "Split strings:   0%|          | 0/1 [00:00<?, ?it/s]"
      ]
     },
     "metadata": {},
     "output_type": "display_data"
    },
    {
     "data": {
      "application/vnd.jupyter.widget-view+json": {
       "model_id": "2bae2c7543ef43cd8d135d87b0e2315a",
       "version_major": 2,
       "version_minor": 0
      },
      "text/plain": [
       "Stem Tokens:   0%|          | 0/1 [00:00<?, ?it/s]"
      ]
     },
     "metadata": {},
     "output_type": "display_data"
    },
    {
     "data": {
      "application/vnd.jupyter.widget-view+json": {
       "model_id": "ae49894355194f618949151dc680bd2c",
       "version_major": 2,
       "version_minor": 0
      },
      "text/plain": [
       "BM25S Retrieve:   0%|          | 0/1 [00:00<?, ?it/s]"
      ]
     },
     "metadata": {},
     "output_type": "display_data"
    },
    {
     "name": "stdout",
     "output_type": "stream",
     "text": [
      "0.6574424218175681\n",
      "0.21929824561403508\n",
      "\n",
      "YouTube\n"
     ]
    },
    {
     "data": {
      "application/vnd.jupyter.widget-view+json": {
       "model_id": "1e1b730f50de45d6926ba74082b0d4f0",
       "version_major": 2,
       "version_minor": 0
      },
      "text/plain": [
       "Split strings:   0%|          | 0/1 [00:00<?, ?it/s]"
      ]
     },
     "metadata": {},
     "output_type": "display_data"
    },
    {
     "data": {
      "application/vnd.jupyter.widget-view+json": {
       "model_id": "571afa9ae8ca4e569d24c2ce55f24486",
       "version_major": 2,
       "version_minor": 0
      },
      "text/plain": [
       "Stem Tokens:   0%|          | 0/1 [00:00<?, ?it/s]"
      ]
     },
     "metadata": {},
     "output_type": "display_data"
    },
    {
     "data": {
      "application/vnd.jupyter.widget-view+json": {
       "model_id": "7246feb1dda64dfab674aba25989c04c",
       "version_major": 2,
       "version_minor": 0
      },
      "text/plain": [
       "BM25S Retrieve:   0%|          | 0/1 [00:00<?, ?it/s]"
      ]
     },
     "metadata": {},
     "output_type": "display_data"
    },
    {
     "name": "stdout",
     "output_type": "stream",
     "text": [
      "0.6116923425010674\n",
      "0.15517241379310345\n",
      "\n",
      "Большой адронный коллайдер\n"
     ]
    },
    {
     "data": {
      "application/vnd.jupyter.widget-view+json": {
       "model_id": "f4453a48e1144b9abddd8e753c2eaec2",
       "version_major": 2,
       "version_minor": 0
      },
      "text/plain": [
       "Split strings:   0%|          | 0/1 [00:00<?, ?it/s]"
      ]
     },
     "metadata": {},
     "output_type": "display_data"
    },
    {
     "data": {
      "application/vnd.jupyter.widget-view+json": {
       "model_id": "de21cab1d8c04de2976c1c264e51c765",
       "version_major": 2,
       "version_minor": 0
      },
      "text/plain": [
       "Stem Tokens:   0%|          | 0/1 [00:00<?, ?it/s]"
      ]
     },
     "metadata": {},
     "output_type": "display_data"
    },
    {
     "data": {
      "application/vnd.jupyter.widget-view+json": {
       "model_id": "2f3b2ba394794a8bbf6bbeff998407e2",
       "version_major": 2,
       "version_minor": 0
      },
      "text/plain": [
       "BM25S Retrieve:   0%|          | 0/1 [00:00<?, ?it/s]"
      ]
     },
     "metadata": {},
     "output_type": "display_data"
    },
    {
     "name": "stdout",
     "output_type": "stream",
     "text": [
      "0.550274758004911\n",
      "0.09302325581395349\n",
      "\n",
      "Вирус иммунодефицита человека\n"
     ]
    },
    {
     "data": {
      "application/vnd.jupyter.widget-view+json": {
       "model_id": "d9f3e29f3a3542f4a3be44c5bacbe790",
       "version_major": 2,
       "version_minor": 0
      },
      "text/plain": [
       "Split strings:   0%|          | 0/1 [00:00<?, ?it/s]"
      ]
     },
     "metadata": {},
     "output_type": "display_data"
    },
    {
     "data": {
      "application/vnd.jupyter.widget-view+json": {
       "model_id": "2ccda5fa1e734b8c8760626159950c92",
       "version_major": 2,
       "version_minor": 0
      },
      "text/plain": [
       "Stem Tokens:   0%|          | 0/1 [00:00<?, ?it/s]"
      ]
     },
     "metadata": {},
     "output_type": "display_data"
    },
    {
     "data": {
      "application/vnd.jupyter.widget-view+json": {
       "model_id": "f8b9abc9c1da4a498206c436faf602f2",
       "version_major": 2,
       "version_minor": 0
      },
      "text/plain": [
       "BM25S Retrieve:   0%|          | 0/1 [00:00<?, ?it/s]"
      ]
     },
     "metadata": {},
     "output_type": "display_data"
    },
    {
     "name": "stdout",
     "output_type": "stream",
     "text": [
      "0.7160548241790096\n",
      "0.1836734693877551\n",
      "\n",
      "Геморрагическая лихорадка Эбола\n"
     ]
    },
    {
     "data": {
      "application/vnd.jupyter.widget-view+json": {
       "model_id": "0aae22e1aa674976a0d0b977c5bea2fe",
       "version_major": 2,
       "version_minor": 0
      },
      "text/plain": [
       "Split strings:   0%|          | 0/1 [00:00<?, ?it/s]"
      ]
     },
     "metadata": {},
     "output_type": "display_data"
    },
    {
     "data": {
      "application/vnd.jupyter.widget-view+json": {
       "model_id": "67da368bea204316afabd0633dd8330b",
       "version_major": 2,
       "version_minor": 0
      },
      "text/plain": [
       "Stem Tokens:   0%|          | 0/1 [00:00<?, ?it/s]"
      ]
     },
     "metadata": {},
     "output_type": "display_data"
    },
    {
     "data": {
      "application/vnd.jupyter.widget-view+json": {
       "model_id": "e42c75f6dcda490fa100d43882a3af9f",
       "version_major": 2,
       "version_minor": 0
      },
      "text/plain": [
       "BM25S Retrieve:   0%|          | 0/1 [00:00<?, ?it/s]"
      ]
     },
     "metadata": {},
     "output_type": "display_data"
    },
    {
     "name": "stdout",
     "output_type": "stream",
     "text": [
      "0.6779439451394341\n",
      "0.12903225806451613\n",
      "\n",
      "Иннополис\n"
     ]
    },
    {
     "data": {
      "application/vnd.jupyter.widget-view+json": {
       "model_id": "e28d4b39d607499baa816206b4c423e1",
       "version_major": 2,
       "version_minor": 0
      },
      "text/plain": [
       "Split strings:   0%|          | 0/1 [00:00<?, ?it/s]"
      ]
     },
     "metadata": {},
     "output_type": "display_data"
    },
    {
     "data": {
      "application/vnd.jupyter.widget-view+json": {
       "model_id": "7df524152a104578ae6180963af44bb9",
       "version_major": 2,
       "version_minor": 0
      },
      "text/plain": [
       "Stem Tokens:   0%|          | 0/1 [00:00<?, ?it/s]"
      ]
     },
     "metadata": {},
     "output_type": "display_data"
    },
    {
     "data": {
      "application/vnd.jupyter.widget-view+json": {
       "model_id": "287070e0203944f9ac491c5501b54bed",
       "version_major": 2,
       "version_minor": 0
      },
      "text/plain": [
       "BM25S Retrieve:   0%|          | 0/1 [00:00<?, ?it/s]"
      ]
     },
     "metadata": {},
     "output_type": "display_data"
    },
    {
     "name": "stdout",
     "output_type": "stream",
     "text": [
      "0.6389928616564351\n",
      "0.16923076923076924\n",
      "\n",
      "Искусственный интеллект\n"
     ]
    },
    {
     "data": {
      "application/vnd.jupyter.widget-view+json": {
       "model_id": "befc85db610d440c9657b56384be52e3",
       "version_major": 2,
       "version_minor": 0
      },
      "text/plain": [
       "Split strings:   0%|          | 0/1 [00:00<?, ?it/s]"
      ]
     },
     "metadata": {},
     "output_type": "display_data"
    },
    {
     "data": {
      "application/vnd.jupyter.widget-view+json": {
       "model_id": "242e765cfe6246ddb7e85b0738cee8fb",
       "version_major": 2,
       "version_minor": 0
      },
      "text/plain": [
       "Stem Tokens:   0%|          | 0/1 [00:00<?, ?it/s]"
      ]
     },
     "metadata": {},
     "output_type": "display_data"
    },
    {
     "data": {
      "application/vnd.jupyter.widget-view+json": {
       "model_id": "a947799be6014ffe902763a8620ed165",
       "version_major": 2,
       "version_minor": 0
      },
      "text/plain": [
       "BM25S Retrieve:   0%|          | 0/1 [00:00<?, ?it/s]"
      ]
     },
     "metadata": {},
     "output_type": "display_data"
    },
    {
     "name": "stdout",
     "output_type": "stream",
     "text": [
      "0.5925482186749249\n",
      "0.1111111111111111\n",
      "\n",
      "Квантовый компьютер\n"
     ]
    },
    {
     "data": {
      "application/vnd.jupyter.widget-view+json": {
       "model_id": "f3bb389f55fa40c29868d5b77c5afb0f",
       "version_major": 2,
       "version_minor": 0
      },
      "text/plain": [
       "Split strings:   0%|          | 0/1 [00:00<?, ?it/s]"
      ]
     },
     "metadata": {},
     "output_type": "display_data"
    },
    {
     "data": {
      "application/vnd.jupyter.widget-view+json": {
       "model_id": "c2dc7b68f96d40249f45afac74cae8ea",
       "version_major": 2,
       "version_minor": 0
      },
      "text/plain": [
       "Stem Tokens:   0%|          | 0/1 [00:00<?, ?it/s]"
      ]
     },
     "metadata": {},
     "output_type": "display_data"
    },
    {
     "data": {
      "application/vnd.jupyter.widget-view+json": {
       "model_id": "2739cdba55894b108093088106e10152",
       "version_major": 2,
       "version_minor": 0
      },
      "text/plain": [
       "BM25S Retrieve:   0%|          | 0/1 [00:00<?, ?it/s]"
      ]
     },
     "metadata": {},
     "output_type": "display_data"
    },
    {
     "name": "stdout",
     "output_type": "stream",
     "text": [
      "0.6573901353984734\n",
      "0.0967741935483871\n",
      "\n",
      "Летние Олимпийские игры 2020\n"
     ]
    },
    {
     "data": {
      "application/vnd.jupyter.widget-view+json": {
       "model_id": "93e9f09d7c1c46fd9bed5baab7000b53",
       "version_major": 2,
       "version_minor": 0
      },
      "text/plain": [
       "Split strings:   0%|          | 0/1 [00:00<?, ?it/s]"
      ]
     },
     "metadata": {},
     "output_type": "display_data"
    },
    {
     "data": {
      "application/vnd.jupyter.widget-view+json": {
       "model_id": "27d683dba468411d981a7024b30691ff",
       "version_major": 2,
       "version_minor": 0
      },
      "text/plain": [
       "Stem Tokens:   0%|          | 0/1 [00:00<?, ?it/s]"
      ]
     },
     "metadata": {},
     "output_type": "display_data"
    },
    {
     "data": {
      "application/vnd.jupyter.widget-view+json": {
       "model_id": "404a6b4b743d461e95c715a198dd3c71",
       "version_major": 2,
       "version_minor": 0
      },
      "text/plain": [
       "BM25S Retrieve:   0%|          | 0/1 [00:00<?, ?it/s]"
      ]
     },
     "metadata": {},
     "output_type": "display_data"
    },
    {
     "name": "stdout",
     "output_type": "stream",
     "text": [
      "0.45031625524559565\n",
      "0.18181818181818182\n",
      "\n",
      "Летние Олимпийские игры 2024\n"
     ]
    },
    {
     "data": {
      "application/vnd.jupyter.widget-view+json": {
       "model_id": "97ef3f8aaeee4267a664a9651627b758",
       "version_major": 2,
       "version_minor": 0
      },
      "text/plain": [
       "Split strings:   0%|          | 0/1 [00:00<?, ?it/s]"
      ]
     },
     "metadata": {},
     "output_type": "display_data"
    },
    {
     "data": {
      "application/vnd.jupyter.widget-view+json": {
       "model_id": "f218e992889641ee84241d6d2f08919e",
       "version_major": 2,
       "version_minor": 0
      },
      "text/plain": [
       "Stem Tokens:   0%|          | 0/1 [00:00<?, ?it/s]"
      ]
     },
     "metadata": {},
     "output_type": "display_data"
    },
    {
     "data": {
      "application/vnd.jupyter.widget-view+json": {
       "model_id": "20b3d31affc7442986a06af43d88624f",
       "version_major": 2,
       "version_minor": 0
      },
      "text/plain": [
       "BM25S Retrieve:   0%|          | 0/1 [00:00<?, ?it/s]"
      ]
     },
     "metadata": {},
     "output_type": "display_data"
    },
    {
     "name": "stdout",
     "output_type": "stream",
     "text": [
      "0.7348735246482192\n",
      "0.19696969696969696\n",
      "\n",
      "Марс\n"
     ]
    },
    {
     "data": {
      "application/vnd.jupyter.widget-view+json": {
       "model_id": "8d2d27826ded4f53b04d3dc3dafc709c",
       "version_major": 2,
       "version_minor": 0
      },
      "text/plain": [
       "Split strings:   0%|          | 0/1 [00:00<?, ?it/s]"
      ]
     },
     "metadata": {},
     "output_type": "display_data"
    },
    {
     "data": {
      "application/vnd.jupyter.widget-view+json": {
       "model_id": "6108d61e1a6f42eda5f7e57b6a74f881",
       "version_major": 2,
       "version_minor": 0
      },
      "text/plain": [
       "Stem Tokens:   0%|          | 0/1 [00:00<?, ?it/s]"
      ]
     },
     "metadata": {},
     "output_type": "display_data"
    },
    {
     "data": {
      "application/vnd.jupyter.widget-view+json": {
       "model_id": "ded895d028584c18989d0462ad2f97d3",
       "version_major": 2,
       "version_minor": 0
      },
      "text/plain": [
       "BM25S Retrieve:   0%|          | 0/1 [00:00<?, ?it/s]"
      ]
     },
     "metadata": {},
     "output_type": "display_data"
    },
    {
     "name": "stdout",
     "output_type": "stream",
     "text": [
      "0.7219517667440942\n",
      "0.23333333333333334\n",
      "\n",
      "Применение искусственного интеллекта\n"
     ]
    },
    {
     "data": {
      "application/vnd.jupyter.widget-view+json": {
       "model_id": "e862c579011d4e2eb3ca698d4551da32",
       "version_major": 2,
       "version_minor": 0
      },
      "text/plain": [
       "Split strings:   0%|          | 0/1 [00:00<?, ?it/s]"
      ]
     },
     "metadata": {},
     "output_type": "display_data"
    },
    {
     "data": {
      "application/vnd.jupyter.widget-view+json": {
       "model_id": "b9e78633b89c482b84402fd79580e694",
       "version_major": 2,
       "version_minor": 0
      },
      "text/plain": [
       "Stem Tokens:   0%|          | 0/1 [00:00<?, ?it/s]"
      ]
     },
     "metadata": {},
     "output_type": "display_data"
    },
    {
     "data": {
      "application/vnd.jupyter.widget-view+json": {
       "model_id": "43bc71038c914704b792e23013650165",
       "version_major": 2,
       "version_minor": 0
      },
      "text/plain": [
       "BM25S Retrieve:   0%|          | 0/1 [00:00<?, ?it/s]"
      ]
     },
     "metadata": {},
     "output_type": "display_data"
    },
    {
     "name": "stdout",
     "output_type": "stream",
     "text": [
      "0.7503326497977469\n",
      "0.29333333333333333\n",
      "\n",
      "Присоединение Крыма к Российской Федерации\n"
     ]
    },
    {
     "data": {
      "application/vnd.jupyter.widget-view+json": {
       "model_id": "06c9b370e68344b9bb3dd0e0ac8aff3b",
       "version_major": 2,
       "version_minor": 0
      },
      "text/plain": [
       "Split strings:   0%|          | 0/1 [00:00<?, ?it/s]"
      ]
     },
     "metadata": {},
     "output_type": "display_data"
    },
    {
     "data": {
      "application/vnd.jupyter.widget-view+json": {
       "model_id": "f0199fa414b3432ea6a92c3f1bdd87dd",
       "version_major": 2,
       "version_minor": 0
      },
      "text/plain": [
       "Stem Tokens:   0%|          | 0/1 [00:00<?, ?it/s]"
      ]
     },
     "metadata": {},
     "output_type": "display_data"
    },
    {
     "data": {
      "application/vnd.jupyter.widget-view+json": {
       "model_id": "411119e3897f470a9aaf04c3078f0458",
       "version_major": 2,
       "version_minor": 0
      },
      "text/plain": [
       "BM25S Retrieve:   0%|          | 0/1 [00:00<?, ?it/s]"
      ]
     },
     "metadata": {},
     "output_type": "display_data"
    },
    {
     "name": "stdout",
     "output_type": "stream",
     "text": [
      "0.8542285704191281\n",
      "0.37209302325581395\n",
      "\n",
      "РИА Новости\n"
     ]
    },
    {
     "data": {
      "application/vnd.jupyter.widget-view+json": {
       "model_id": "353af682ec0242db92886d67c5c71d2a",
       "version_major": 2,
       "version_minor": 0
      },
      "text/plain": [
       "Split strings:   0%|          | 0/1 [00:00<?, ?it/s]"
      ]
     },
     "metadata": {},
     "output_type": "display_data"
    },
    {
     "data": {
      "application/vnd.jupyter.widget-view+json": {
       "model_id": "bb562f9102704c55a4a121bff943f0a8",
       "version_major": 2,
       "version_minor": 0
      },
      "text/plain": [
       "Stem Tokens:   0%|          | 0/1 [00:00<?, ?it/s]"
      ]
     },
     "metadata": {},
     "output_type": "display_data"
    },
    {
     "data": {
      "application/vnd.jupyter.widget-view+json": {
       "model_id": "267e957c19274d0b8189e0dbaac6eacc",
       "version_major": 2,
       "version_minor": 0
      },
      "text/plain": [
       "BM25S Retrieve:   0%|          | 0/1 [00:00<?, ?it/s]"
      ]
     },
     "metadata": {},
     "output_type": "display_data"
    },
    {
     "name": "stdout",
     "output_type": "stream",
     "text": [
      "0.6013684970702922\n",
      "0.16666666666666666\n",
      "\n",
      "Сбербанк России\n"
     ]
    },
    {
     "data": {
      "application/vnd.jupyter.widget-view+json": {
       "model_id": "a3f8a76b91384991aabbf05f561e9cb1",
       "version_major": 2,
       "version_minor": 0
      },
      "text/plain": [
       "Split strings:   0%|          | 0/1 [00:00<?, ?it/s]"
      ]
     },
     "metadata": {},
     "output_type": "display_data"
    },
    {
     "data": {
      "application/vnd.jupyter.widget-view+json": {
       "model_id": "c3de3a1c252249ce908c4791ee4a9bfc",
       "version_major": 2,
       "version_minor": 0
      },
      "text/plain": [
       "Stem Tokens:   0%|          | 0/1 [00:00<?, ?it/s]"
      ]
     },
     "metadata": {},
     "output_type": "display_data"
    },
    {
     "data": {
      "application/vnd.jupyter.widget-view+json": {
       "model_id": "0b437d72137c427c90a5316373e3d678",
       "version_major": 2,
       "version_minor": 0
      },
      "text/plain": [
       "BM25S Retrieve:   0%|          | 0/1 [00:00<?, ?it/s]"
      ]
     },
     "metadata": {},
     "output_type": "display_data"
    },
    {
     "name": "stdout",
     "output_type": "stream",
     "text": [
      "0.8279230995145391\n",
      "0.3815028901734104\n",
      "\n",
      "Си (язык программирования)\n"
     ]
    },
    {
     "data": {
      "application/vnd.jupyter.widget-view+json": {
       "model_id": "cd2411697224418498548d0e89b83ced",
       "version_major": 2,
       "version_minor": 0
      },
      "text/plain": [
       "Split strings:   0%|          | 0/1 [00:00<?, ?it/s]"
      ]
     },
     "metadata": {},
     "output_type": "display_data"
    },
    {
     "data": {
      "application/vnd.jupyter.widget-view+json": {
       "model_id": "41dd4a515e214cb9b641d96f6d5e7e95",
       "version_major": 2,
       "version_minor": 0
      },
      "text/plain": [
       "Stem Tokens:   0%|          | 0/1 [00:00<?, ?it/s]"
      ]
     },
     "metadata": {},
     "output_type": "display_data"
    },
    {
     "data": {
      "application/vnd.jupyter.widget-view+json": {
       "model_id": "3f3a770a44a341978beaefa479d631f9",
       "version_major": 2,
       "version_minor": 0
      },
      "text/plain": [
       "BM25S Retrieve:   0%|          | 0/1 [00:00<?, ?it/s]"
      ]
     },
     "metadata": {},
     "output_type": "display_data"
    },
    {
     "name": "stdout",
     "output_type": "stream",
     "text": [
      "0.7120568529278237\n",
      "0.36018957345971564\n",
      "\n",
      "Сколково (инновационный центр)\n"
     ]
    },
    {
     "data": {
      "application/vnd.jupyter.widget-view+json": {
       "model_id": "998da31582a146fe87ef44899cb361e7",
       "version_major": 2,
       "version_minor": 0
      },
      "text/plain": [
       "Split strings:   0%|          | 0/1 [00:00<?, ?it/s]"
      ]
     },
     "metadata": {},
     "output_type": "display_data"
    },
    {
     "data": {
      "application/vnd.jupyter.widget-view+json": {
       "model_id": "a3ecfb92c2524801bdbaed4fc2414faa",
       "version_major": 2,
       "version_minor": 0
      },
      "text/plain": [
       "Stem Tokens:   0%|          | 0/1 [00:00<?, ?it/s]"
      ]
     },
     "metadata": {},
     "output_type": "display_data"
    },
    {
     "data": {
      "application/vnd.jupyter.widget-view+json": {
       "model_id": "24e9258086404464a44d82dc27e14ac7",
       "version_major": 2,
       "version_minor": 0
      },
      "text/plain": [
       "BM25S Retrieve:   0%|          | 0/1 [00:00<?, ?it/s]"
      ]
     },
     "metadata": {},
     "output_type": "display_data"
    },
    {
     "name": "stdout",
     "output_type": "stream",
     "text": [
      "0.7978885510628093\n",
      "0.32819383259911894\n",
      "\n",
      "Солнечная система\n"
     ]
    },
    {
     "data": {
      "application/vnd.jupyter.widget-view+json": {
       "model_id": "7111b66ffc01421a95bcf9fbfa2eb1c0",
       "version_major": 2,
       "version_minor": 0
      },
      "text/plain": [
       "Split strings:   0%|          | 0/1 [00:00<?, ?it/s]"
      ]
     },
     "metadata": {},
     "output_type": "display_data"
    },
    {
     "data": {
      "application/vnd.jupyter.widget-view+json": {
       "model_id": "85ff4612c9eb491997b37c9fc8064fbd",
       "version_major": 2,
       "version_minor": 0
      },
      "text/plain": [
       "Stem Tokens:   0%|          | 0/1 [00:00<?, ?it/s]"
      ]
     },
     "metadata": {},
     "output_type": "display_data"
    },
    {
     "data": {
      "application/vnd.jupyter.widget-view+json": {
       "model_id": "4cf88851733b43e9ba3d9c15588a6c0c",
       "version_major": 2,
       "version_minor": 0
      },
      "text/plain": [
       "BM25S Retrieve:   0%|          | 0/1 [00:00<?, ?it/s]"
      ]
     },
     "metadata": {},
     "output_type": "display_data"
    },
    {
     "name": "stdout",
     "output_type": "stream",
     "text": [
      "0.6536643600580939\n",
      "0.21008403361344538\n",
      "\n",
      "Чёрная дыра\n"
     ]
    },
    {
     "data": {
      "application/vnd.jupyter.widget-view+json": {
       "model_id": "5079378fbcdf4f1db7a6d29ac5b54e01",
       "version_major": 2,
       "version_minor": 0
      },
      "text/plain": [
       "Split strings:   0%|          | 0/1 [00:00<?, ?it/s]"
      ]
     },
     "metadata": {},
     "output_type": "display_data"
    },
    {
     "data": {
      "application/vnd.jupyter.widget-view+json": {
       "model_id": "853d68a45b9240dfab2f9c1a230dbbdf",
       "version_major": 2,
       "version_minor": 0
      },
      "text/plain": [
       "Stem Tokens:   0%|          | 0/1 [00:00<?, ?it/s]"
      ]
     },
     "metadata": {},
     "output_type": "display_data"
    },
    {
     "data": {
      "application/vnd.jupyter.widget-view+json": {
       "model_id": "36a71fa13d84448e84ad1547c5af1f08",
       "version_major": 2,
       "version_minor": 0
      },
      "text/plain": [
       "BM25S Retrieve:   0%|          | 0/1 [00:00<?, ?it/s]"
      ]
     },
     "metadata": {},
     "output_type": "display_data"
    },
    {
     "name": "stdout",
     "output_type": "stream",
     "text": [
      "0.8230329706278424\n",
      "0.26570048309178745\n",
      "\n",
      "Чёрная смерть\n"
     ]
    },
    {
     "data": {
      "application/vnd.jupyter.widget-view+json": {
       "model_id": "3fc7096221464c9fbd3618dd803a8322",
       "version_major": 2,
       "version_minor": 0
      },
      "text/plain": [
       "Split strings:   0%|          | 0/1 [00:00<?, ?it/s]"
      ]
     },
     "metadata": {},
     "output_type": "display_data"
    },
    {
     "data": {
      "application/vnd.jupyter.widget-view+json": {
       "model_id": "4b5e20a3419d4e739ceedc3ce4aa31fc",
       "version_major": 2,
       "version_minor": 0
      },
      "text/plain": [
       "Stem Tokens:   0%|          | 0/1 [00:00<?, ?it/s]"
      ]
     },
     "metadata": {},
     "output_type": "display_data"
    },
    {
     "data": {
      "application/vnd.jupyter.widget-view+json": {
       "model_id": "b8cf90891a99448f89eed2d84bd0117c",
       "version_major": 2,
       "version_minor": 0
      },
      "text/plain": [
       "BM25S Retrieve:   0%|          | 0/1 [00:00<?, ?it/s]"
      ]
     },
     "metadata": {},
     "output_type": "display_data"
    },
    {
     "name": "stdout",
     "output_type": "stream",
     "text": [
      "0.8465493212892908\n",
      "0.3333333333333333\n",
      "\n",
      "Экономика КНР\n"
     ]
    },
    {
     "data": {
      "application/vnd.jupyter.widget-view+json": {
       "model_id": "e3ff3e06e902439aa0da64341b2d6840",
       "version_major": 2,
       "version_minor": 0
      },
      "text/plain": [
       "Split strings:   0%|          | 0/1 [00:00<?, ?it/s]"
      ]
     },
     "metadata": {},
     "output_type": "display_data"
    },
    {
     "data": {
      "application/vnd.jupyter.widget-view+json": {
       "model_id": "fe68e6a559184e28971eea059e7c0c86",
       "version_major": 2,
       "version_minor": 0
      },
      "text/plain": [
       "Stem Tokens:   0%|          | 0/1 [00:00<?, ?it/s]"
      ]
     },
     "metadata": {},
     "output_type": "display_data"
    },
    {
     "data": {
      "application/vnd.jupyter.widget-view+json": {
       "model_id": "68b31baeed644b75b52ba23cfce3ab9c",
       "version_major": 2,
       "version_minor": 0
      },
      "text/plain": [
       "BM25S Retrieve:   0%|          | 0/1 [00:00<?, ?it/s]"
      ]
     },
     "metadata": {},
     "output_type": "display_data"
    },
    {
     "name": "stdout",
     "output_type": "stream",
     "text": [
      "0.8075327550477744\n",
      "0.3717948717948718\n",
      "\n",
      "Экономика США\n"
     ]
    },
    {
     "data": {
      "application/vnd.jupyter.widget-view+json": {
       "model_id": "49f288126360453bb8049d9a0118d093",
       "version_major": 2,
       "version_minor": 0
      },
      "text/plain": [
       "Split strings:   0%|          | 0/1 [00:00<?, ?it/s]"
      ]
     },
     "metadata": {},
     "output_type": "display_data"
    },
    {
     "data": {
      "application/vnd.jupyter.widget-view+json": {
       "model_id": "e05da666d6c34cdd8604c430d6693486",
       "version_major": 2,
       "version_minor": 0
      },
      "text/plain": [
       "Stem Tokens:   0%|          | 0/1 [00:00<?, ?it/s]"
      ]
     },
     "metadata": {},
     "output_type": "display_data"
    },
    {
     "data": {
      "application/vnd.jupyter.widget-view+json": {
       "model_id": "d4d1db67880a4bed9d915861c687ad42",
       "version_major": 2,
       "version_minor": 0
      },
      "text/plain": [
       "BM25S Retrieve:   0%|          | 0/1 [00:00<?, ?it/s]"
      ]
     },
     "metadata": {},
     "output_type": "display_data"
    },
    {
     "name": "stdout",
     "output_type": "stream",
     "text": [
      "0.4559764191681722\n",
      "0.16666666666666666\n",
      "\n",
      "Яндекс\n"
     ]
    },
    {
     "data": {
      "application/vnd.jupyter.widget-view+json": {
       "model_id": "de4cf744fdfd4249940d523d30f60398",
       "version_major": 2,
       "version_minor": 0
      },
      "text/plain": [
       "Split strings:   0%|          | 0/1 [00:00<?, ?it/s]"
      ]
     },
     "metadata": {},
     "output_type": "display_data"
    },
    {
     "data": {
      "application/vnd.jupyter.widget-view+json": {
       "model_id": "b61026a9550c488f960339930df5660d",
       "version_major": 2,
       "version_minor": 0
      },
      "text/plain": [
       "Stem Tokens:   0%|          | 0/1 [00:00<?, ?it/s]"
      ]
     },
     "metadata": {},
     "output_type": "display_data"
    },
    {
     "data": {
      "application/vnd.jupyter.widget-view+json": {
       "model_id": "916f2b0eb0e14230b2383f90a083e8b5",
       "version_major": 2,
       "version_minor": 0
      },
      "text/plain": [
       "BM25S Retrieve:   0%|          | 0/1 [00:00<?, ?it/s]"
      ]
     },
     "metadata": {},
     "output_type": "display_data"
    },
    {
     "name": "stdout",
     "output_type": "stream",
     "text": [
      "0.7201728220301189\n",
      "0.1743119266055046\n",
      "\n"
     ]
    }
   ],
   "source": [
    "ndcg, pr = await wiki_bench.rank_query(reference_mode=0)"
   ]
  },
  {
   "cell_type": "code",
   "execution_count": 4,
   "id": "8888836d-b5e9-4732-ab09-cb6ada45504c",
   "metadata": {},
   "outputs": [
    {
     "name": "stdout",
     "output_type": "stream",
     "text": [
      "0.6854706329116891 0.20471426363078707\n"
     ]
    }
   ],
   "source": [
    "print(ndcg, pr)"
   ]
  },
  {
   "cell_type": "code",
   "execution_count": 5,
   "id": "1d20ea86-e25e-4f8d-a33b-831bc458bdfa",
   "metadata": {
    "collapsed": true,
    "jupyter": {
     "outputs_hidden": true
    },
    "scrolled": true
   },
   "outputs": [
    {
     "name": "stdout",
     "output_type": "stream",
     "text": [
      "Python\n",
      "Generated for section:  ('h3', 'Выражения')\n",
      "Generated for section:  ('h2', 'Парадигмы программирования')\n",
      "Generated for section:  ('h3', 'Обобщённое программирование')\n",
      "Generated for section:  ('h2', 'Применение')\n",
      "Generated for section:  ('h2', 'Концепция и философия')\n",
      "Generated for section:  ('h2', 'История')\n",
      "Generated for section:  ('h3', 'Объектно-ориентированное программирование')\n",
      "Generated for section:  ('h1', 'Python')\n",
      "Generated for section:  ('h3', 'Строки документации')\n",
      "Generated for section:  ('h3', 'Графические библиотеки')\n",
      "Generated for section:  ('h3', 'Модули расширения и программные интерфейсы')\n",
      "Generated for section:  ('h2', 'Типы и структуры данных')\n",
      "Generated for section:  ('h3', 'Регулярные выражения')\n",
      "Generated for section:  ('h2', 'Профилирование и оптимизация кода')\n",
      "Generated for section:  ('h3', 'Perl')\n",
      "Generated for section:  ('h3', 'Глобальная блокировка интерпретатора (GIL)')\n",
      "Generated for section:  ('h2', 'Сравнение с другими языками')\n",
      "Generated for section:  ('h3', 'C++ и Java')\n"
     ]
    },
    {
     "name": "stderr",
     "output_type": "stream",
     "text": [
      "Default prompt name is set to 'Classification'. This prompt will be applied to all `encode()` calls, except if `encode()` is called with `prompt` or `prompt_name` parameters.\n"
     ]
    },
    {
     "name": "stdout",
     "output_type": "stream",
     "text": [
      "Летние Олимпийские игры 2024\n",
      "Generated for section:  ('h2', 'Заявочный процесс')\n",
      "Generated for section:  ('h3', 'Эмблема')\n",
      "Generated for section:  ('h2', 'Олимпийская деревня')\n",
      "Generated for section:  ('h3', 'Слоган')\n",
      "Generated for section:  ('h3', 'Талисман')\n",
      "Generated for section:  ('h2', 'Участники')\n",
      "Generated for section:  ('h2', 'Дополнительная информация')\n",
      "Generated for section:  ('h2', 'Реклама')\n",
      "Generated for section:  ('h2', 'Безопасность')\n",
      "Generated for section:  ('h2', 'Мирные инициативы')\n"
     ]
    },
    {
     "name": "stderr",
     "output_type": "stream",
     "text": [
      "Default prompt name is set to 'Classification'. This prompt will be applied to all `encode()` calls, except if `encode()` is called with `prompt` or `prompt_name` parameters.\n"
     ]
    },
    {
     "name": "stdout",
     "output_type": "stream",
     "text": [
      "Квантовый компьютер\n",
      "Generated for section:  ('h3', 'Исследования в области искусственного интеллекта')\n",
      "Generated for section:  ('h2', 'Физические реализации квантовых компьютеров')\n",
      "Generated for section:  ('h3', 'Молекулярное моделирование')\n",
      "Generated for section:  ('h3', 'Приложения к криптографии')\n",
      "Generated for section:  ('h1', 'Квантовый компьютер')\n",
      "Generated for section:  ('h3', 'Экспериментальные образцы')\n",
      "Generated for section:  ('h3', 'Адиабатические компьютеры D-Wave')\n"
     ]
    },
    {
     "name": "stderr",
     "output_type": "stream",
     "text": [
      "Default prompt name is set to 'Classification'. This prompt will be applied to all `encode()` calls, except if `encode()` is called with `prompt` or `prompt_name` parameters.\n"
     ]
    },
    {
     "name": "stdout",
     "output_type": "stream",
     "text": [
      "Присоединение Крыма к Российской Федерации\n",
      "Generated for section:  ('h3', 'Международные отношения')\n",
      "Generated for section:  ('h2', 'В культуре')\n",
      "Generated for section:  ('h2', 'Предыстория')\n",
      "Generated for section:  ('h1', 'Присоединение Крыма к Российской Федерации')\n",
      "Generated for section:  ('h2', 'Решающие события')\n",
      "Generated for section:  ('h3', 'Фильмы')\n",
      "Generated for section:  ('h3', 'Торжественные мероприятия')\n",
      "Generated for section:  ('h3', 'Памятники')\n"
     ]
    },
    {
     "name": "stderr",
     "output_type": "stream",
     "text": [
      "Default prompt name is set to 'Classification'. This prompt will be applied to all `encode()` calls, except if `encode()` is called with `prompt` or `prompt_name` parameters.\n"
     ]
    },
    {
     "name": "stdout",
     "output_type": "stream",
     "text": [
      "Сколково (инновационный центр)\n",
      "Generated for section:  ('h3', 'Идея проекта')\n",
      "Generated for section:  ('h1', 'Сколково (инновационный центр)')\n",
      "Generated for section:  ('h2', 'Описание')\n",
      "Generated for section:  ('h3', 'Ликвидация местного самоуправления и особый правовой режим')\n",
      "Generated for section:  ('h4', '2019')\n",
      "Generated for section:  ('h4', '2010')\n",
      "Generated for section:  ('h3', 'Налоговый и правовой режим')\n",
      "Generated for section:  ('h4', '2012')\n",
      "Generated for section:  ('h4', '2011')\n",
      "Generated for section:  ('h4', '2014')\n",
      "Generated for section:  ('h4', '2013')\n",
      "Generated for section:  ('h5', 'Дело Бельтюкова и Пономарёва')\n",
      "Generated for section:  ('h5', 'Дело Луговцева и Хохлова')\n",
      "Generated for section:  ('h5', 'Причины и последствия')\n",
      "Generated for section:  ('h3', 'Региональные операторы')\n",
      "Generated for section:  ('h4', '2015')\n",
      "Generated for section:  ('h4', '2020')\n",
      "Generated for section:  ('h3', 'Skolkovo Ventures')\n",
      "Generated for section:  ('h2', 'Перспективы')\n",
      "Generated for section:  ('h4', '2017')\n",
      "Generated for section:  ('h4', '2016')\n",
      "Generated for section:  ('h4', '2018')\n",
      "Generated for section:  ('h3', 'Транспортные решения')\n",
      "Generated for section:  ('h3', 'Миграционный и визовый режим для иностранных специалистов')\n",
      "Generated for section:  ('h3', 'Центры коллективного пользования (ЦКП)')\n",
      "Generated for section:  ('h4', 'Кластер энергоэффективных технологий')\n",
      "Generated for section:  ('h3', 'Игнорирование опыта предшественников и ненаучность')\n",
      "Generated for section:  ('h3', 'Руководство')\n",
      "Generated for section:  ('h4', 'Кластер специальных технологий')\n",
      "Generated for section:  ('h3', 'Сотрудничество с университетами')\n",
      "Generated for section:  ('h3', 'Гранты')\n",
      "Generated for section:  ('h4', 'Открытый университет Сколково')\n",
      "Generated for section:  ('h2', 'Сотрудничество и партнёры')\n",
      "Generated for section:  ('h3', 'Результаты деятельности')\n",
      "Generated for section:  ('h4', 'Сколковский институт науки и технологий')\n",
      "Generated for section:  ('h4', 'Международная гимназия «Сколково»')\n",
      "Generated for section:  ('h3', 'Отсутствие спроса на инновации и критериев успеха')\n",
      "Generated for section:  ('h3', 'Собственность, назначение и использование земель')\n",
      "Generated for section:  ('h3', 'Расположение и транспортная доступность')\n"
     ]
    },
    {
     "name": "stderr",
     "output_type": "stream",
     "text": [
      "Default prompt name is set to 'Classification'. This prompt will be applied to all `encode()` calls, except if `encode()` is called with `prompt` or `prompt_name` parameters.\n"
     ]
    },
    {
     "name": "stdout",
     "output_type": "stream",
     "text": [
      "Tomb Raider (игра, 2013)\n",
      "Generated for section:  ('h3', 'Отзывы о дебютном трейлере')\n",
      "Generated for section:  ('h3', 'Слухи, анонс и выпуск')\n",
      "Generated for section:  ('h3', 'Производство и выпуск')\n",
      "Generated for section:  ('h3', 'Влияние')\n",
      "Generated for section:  ('h3', 'Производственный процесс')\n",
      "Generated for section:  ('h3', 'Основы')\n",
      "Generated for section:  ('h3', 'Технические особенности')\n",
      "Generated for section:  ('h3', 'Боевая система')\n",
      "Generated for section:  ('h3', 'Описание')\n",
      "Generated for section:  ('h2', 'Сиквел и дополнения')\n",
      "Generated for section:  ('h3', 'Концепция')\n",
      "Generated for section:  ('h3', 'Персонажи')\n",
      "Generated for section:  ('h3', 'Реакция на перезагрузку')\n",
      "Generated for section:  ('h3', 'Создатели')\n",
      "Generated for section:  ('h3', 'Навигация')\n",
      "Generated for section:  ('h3', 'Издания и продажи')\n",
      "Generated for section:  ('h2', 'Экранизация')\n",
      "Generated for section:  ('h3', 'Сопутствующая продукция и проекты')\n",
      "Generated for section:  ('h3', 'Цифровая выставка')\n",
      "Generated for section:  ('h3', 'Насилие и полемика')\n",
      "Generated for section:  ('h3', 'Восприятие')\n"
     ]
    },
    {
     "name": "stderr",
     "output_type": "stream",
     "text": [
      "Default prompt name is set to 'Classification'. This prompt will be applied to all `encode()` calls, except if `encode()` is called with `prompt` or `prompt_name` parameters.\n"
     ]
    },
    {
     "name": "stdout",
     "output_type": "stream",
     "text": [
      "Чёрная дыра\n",
      "Generated for section:  ('h2', 'Этимология')\n",
      "Generated for section:  ('h3', '«Чёрная звезда» Мичелла (1784—1796)')\n",
      "Generated for section:  ('h4', 'Основные свойства')\n",
      "Generated for section:  ('h2', 'Описание')\n",
      "Generated for section:  ('h3', 'От Мичелла до Шварцшильда (1796—1915)')\n",
      "Generated for section:  ('h3', 'Решение Рейснера\\xa0— Нордстрёма')\n",
      "Generated for section:  ('h3', 'Решение Керра')\n",
      "Generated for section:  ('h4', 'Заключительные стадии испарения чёрной дыры')\n",
      "Generated for section:  ('h3', 'Сверхмассивные чёрные дыры')\n",
      "Generated for section:  ('h2', 'Модель на базе теории струн')\n",
      "Generated for section:  ('h2', 'Чёрные дыры во Вселенной')\n",
      "Generated for section:  ('h3', 'Чёрные дыры звёздных масс')\n",
      "Generated for section:  ('h2', 'Падение в чёрную дыру')\n",
      "Generated for section:  ('h4', 'Возмущения горизонта событий и их затухание')\n",
      "Generated for section:  ('h4', 'Измерение скорости микроволновых источников')\n",
      "Generated for section:  ('h4', 'Излучение Хокинга')\n",
      "Generated for section:  ('h3', 'Квантовые чёрные дыры')\n",
      "Generated for section:  ('h4', 'Наблюдение траекторий отдельных звёзд')\n",
      "Generated for section:  ('h4', 'Структура вращающихся чёрных дыр')\n",
      "Generated for section:  ('h3', '«Фотографирование» чёрных дыр')\n",
      "Generated for section:  ('h4', 'Аккреция вещества в дыру')\n"
     ]
    },
    {
     "name": "stderr",
     "output_type": "stream",
     "text": [
      "Default prompt name is set to 'Classification'. This prompt will be applied to all `encode()` calls, except if `encode()` is called with `prompt` or `prompt_name` parameters.\n"
     ]
    },
    {
     "name": "stdout",
     "output_type": "stream",
     "text": [
      "Экономика США\n",
      "Generated for section:  ('h2', 'Экономика')\n",
      "Generated for section:  ('h1', 'Экономика США')\n",
      "Generated for section:  ('h4', 'Ипотечный кризис 2007\\xa0года')\n",
      "Generated for section:  ('h2', 'Военно-промышленный комплекс США')\n",
      "Generated for section:  ('h3', '2020-е')\n",
      "Generated for section:  ('h3', 'Добыча нефти и газа')\n",
      "Generated for section:  ('h2', 'Бедность')\n",
      "Generated for section:  ('h2', 'Международная торговля (импорт и экспорт)')\n"
     ]
    },
    {
     "name": "stderr",
     "output_type": "stream",
     "text": [
      "Default prompt name is set to 'Classification'. This prompt will be applied to all `encode()` calls, except if `encode()` is called with `prompt` or `prompt_name` parameters.\n"
     ]
    },
    {
     "name": "stdout",
     "output_type": "stream",
     "text": [
      "Искусственный интеллект\n",
      "Generated for section:  ('h3', 'Финансы')\n",
      "Generated for section:  ('h2', 'Сложности в перспективе')\n",
      "Generated for section:  ('h4', 'Исследования рынка и интеллектуальный анализ данных')\n",
      "Generated for section:  ('h4', 'Алгоритмическая торговля')\n",
      "Generated for section:  ('h3', 'Известные системы искусственного интеллекта')\n",
      "Generated for section:  ('h3', 'История развития искусственного интеллекта в СССР и России')\n",
      "Generated for section:  ('h3', 'Музыка')\n",
      "Generated for section:  ('h4', 'Банкинг')\n",
      "Generated for section:  ('h3', 'Государственное управление')\n",
      "Generated for section:  ('h3', 'Развлечение и игры')\n",
      "Generated for section:  ('h3', 'Онлайн и телефонные службы поддержки клиентов')\n",
      "Generated for section:  ('h3', 'Военное дело')\n",
      "Generated for section:  ('h3', 'Новости, издательство и писательство')\n",
      "Generated for section:  ('h3', 'Психология и когнитология')\n",
      "Generated for section:  ('h3', 'Иные области применения')\n",
      "Generated for section:  ('h3', 'Пенитенциарная система')\n",
      "Generated for section:  ('h3', 'Илон Маск против OpenAI и Microsoft')\n",
      "Generated for section:  ('h2', 'Правовые вопросы')\n"
     ]
    },
    {
     "name": "stderr",
     "output_type": "stream",
     "text": [
      "Default prompt name is set to 'Classification'. This prompt will be applied to all `encode()` calls, except if `encode()` is called with `prompt` or `prompt_name` parameters.\n"
     ]
    },
    {
     "name": "stdout",
     "output_type": "stream",
     "text": [
      "COVID-19\n",
      "Generated for section:  ('h2', 'Диагностика')\n",
      "Generated for section:  ('h3', 'Передача инфекции')\n",
      "Generated for section:  ('h2', 'Эпидемиология')\n",
      "Generated for section:  ('h2', 'Постковидный синдром')\n",
      "Generated for section:  ('h2', 'Лечение')\n",
      "Generated for section:  ('h2', 'Клиническая картина')\n",
      "Generated for section:  ('h3', 'Патогенез')\n",
      "Generated for section:  ('h1', 'COVID-19')\n",
      "Generated for section:  ('h4', 'Средства против синдрома высвобождения цитокинов')\n",
      "Generated for section:  ('h2', 'ВОЗ о ситуации с COVID-19 на конец 2023\\xa0года')\n",
      "Generated for section:  ('h3', 'Экспериментальное лечение')\n",
      "Generated for section:  ('h3', 'Вирусология')\n",
      "Generated for section:  ('h4', 'Рекомендации для здоровых')\n",
      "Generated for section:  ('h2', 'Прогноз')\n",
      "Generated for section:  ('h4', 'Рекомендации для медицинских работников')\n",
      "Generated for section:  ('h3', 'Осложнения')\n",
      "Generated for section:  ('h3', 'Иммунитет')\n",
      "Generated for section:  ('h3', 'Диагностические показатели и биомаркеры')\n",
      "Generated for section:  ('h3', 'Средства от гиперкоагуляции')\n",
      "Generated for section:  ('h4', 'Реконвалесцентная плазма')\n",
      "Generated for section:  ('h2', 'Экспериментальные терапии и направления исследований')\n",
      "Generated for section:  ('h4', 'Альтернативные вакцины в профилактике')\n",
      "Generated for section:  ('h3', 'Лечение кортикостероидами')\n",
      "Generated for section:  ('h3', 'Вакцинопрофилактика COVID-19')\n",
      "Generated for section:  ('h3', 'Неэффективные лекарства')\n",
      "Generated for section:  ('h2', 'Факторы риска')\n",
      "Generated for section:  ('h2', 'Дезинформация')\n",
      "Generated for section:  ('h2', 'Терминология')\n",
      "Generated for section:  ('h2', 'Сравнение COVID-19 с гриппом')\n"
     ]
    },
    {
     "name": "stderr",
     "output_type": "stream",
     "text": [
      "Default prompt name is set to 'Classification'. This prompt will be applied to all `encode()` calls, except if `encode()` is called with `prompt` or `prompt_name` parameters.\n"
     ]
    },
    {
     "name": "stdout",
     "output_type": "stream",
     "text": [
      "Применение искусственного интеллекта\n",
      "Generated for section:  ('h3', 'Таргетированная реклама и повышение активности в Интернете')\n",
      "Generated for section:  ('h3', 'Фильтрация спама')\n",
      "Generated for section:  ('h3', 'Машинный перевод')\n",
      "Generated for section:  ('h2', 'Образование')\n",
      "Generated for section:  ('h2', 'Игры')\n",
      "Generated for section:  ('h3', 'Биохимия')\n",
      "Generated for section:  ('h3', 'Техника безопасности')\n",
      "Generated for section:  ('h2', 'Финансы')\n",
      "Generated for section:  ('h3', 'Обратная инженерия')\n",
      "Generated for section:  ('h2', 'Вооружения')\n",
      "Generated for section:  ('h2', 'Химия и биология')\n",
      "Generated for section:  ('h3', 'Торговля и инвестиции')\n",
      "Generated for section:  ('h2', 'Здравоохранение')\n",
      "Generated for section:  ('h3', 'Юридический анализ')\n",
      "Generated for section:  ('h3', 'Физика')\n",
      "Generated for section:  ('h3', 'Биологические вычисления в ИИ и подобно ИИ')\n",
      "Generated for section:  ('h3', 'Новые типы машинного обучения')\n",
      "Generated for section:  ('h3', 'Поиск внеземных цивилизаций')\n",
      "Generated for section:  ('h3', 'Цифровые аватары')\n",
      "Generated for section:  ('h2', 'Астрономия, космические исследования и уфология')\n",
      "Generated for section:  ('h3', 'Дипфейки')\n",
      "Generated for section:  ('h3', 'Обслуживание клиентов онлайн и по телефону')\n",
      "Generated for section:  ('h3', 'Гостиничный сервис')\n",
      "Generated for section:  ('h3', 'Правоохранительные органы и судебное производство')\n"
     ]
    },
    {
     "name": "stderr",
     "output_type": "stream",
     "text": [
      "Default prompt name is set to 'Classification'. This prompt will be applied to all `encode()` calls, except if `encode()` is called with `prompt` or `prompt_name` parameters.\n"
     ]
    },
    {
     "name": "stdout",
     "output_type": "stream",
     "text": [
      "РИА Новости\n",
      "Generated for section:  ('h3', 'RIA.ru')\n",
      "Generated for section:  ('h3', 'РИА «Новости» с 2014 года по настоящее время')\n",
      "Generated for section:  ('h3', 'Совинформбюро')\n",
      "Generated for section:  ('h3', 'РИА «Вести» и РИА «Новости»')\n",
      "Generated for section:  ('h3', 'Агентство печати «Новости»')\n",
      "Generated for section:  ('h3', 'РИА «Новости» до 2013 года')\n",
      "Generated for section:  ('h1', 'РИА Новости')\n",
      "Generated for section:  ('h2', 'Ликвидация ФГУП РАМИ «РИА Новости»')\n",
      "Generated for section:  ('h3', 'Блокировка в Канаде')\n",
      "Generated for section:  ('h3', 'Блокировка в ЕС')\n",
      "Generated for section:  ('h3', 'РАПСИ')\n",
      "Generated for section:  ('h3', 'РИА Рейтинг')\n",
      "Generated for section:  ('h3', 'Блокировка в Азербайджане')\n",
      "Generated for section:  ('h3', 'The Moscow News')\n",
      "Generated for section:  ('h2', 'Журналисты, погибшие или пострадавшие при исполнении профессионального долга')\n"
     ]
    },
    {
     "name": "stderr",
     "output_type": "stream",
     "text": [
      "Default prompt name is set to 'Classification'. This prompt will be applied to all `encode()` calls, except if `encode()` is called with `prompt` or `prompt_name` parameters.\n"
     ]
    },
    {
     "name": "stdout",
     "output_type": "stream",
     "text": [
      "Uncharted 4: A Thief’s End\n",
      "Generated for section:  ('h1', 'Uncharted 4: A Thief’s End')\n",
      "Generated for section:  ('h2', 'Отзывы и награды')\n",
      "Generated for section:  ('h2', 'Разработка')\n"
     ]
    },
    {
     "name": "stderr",
     "output_type": "stream",
     "text": [
      "Default prompt name is set to 'Classification'. This prompt will be applied to all `encode()` calls, except if `encode()` is called with `prompt` or `prompt_name` parameters.\n"
     ]
    },
    {
     "name": "stdout",
     "output_type": "stream",
     "text": [
      "Экономика КНР\n",
      "Generated for section:  ('h3', 'Нефть и газ')\n",
      "Generated for section:  ('h3', 'Руды металлов')\n",
      "Generated for section:  ('h2', 'Сельское хозяйство')\n",
      "Generated for section:  ('h2', 'Экономические показатели')\n",
      "Generated for section:  ('h2', 'Общая информация')\n",
      "Generated for section:  ('h3', 'XX\\xa0век')\n",
      "Generated for section:  ('h3', 'XXI\\xa0век')\n",
      "Generated for section:  ('h2', 'Минеральные ресурсы')\n",
      "Generated for section:  ('h2', 'Частный сектор')\n",
      "Generated for section:  ('h3', 'Лёгкая промышленность')\n",
      "Generated for section:  ('h3', 'Электронная промышленность')\n",
      "Generated for section:  ('h2', 'Промышленность')\n",
      "Generated for section:  ('h2', 'Доходы населения')\n",
      "Generated for section:  ('h3', 'Машиностроение')\n",
      "Generated for section:  ('h3', 'с Центральной Азией')\n",
      "Generated for section:  ('h3', 'с Австралией')\n",
      "Generated for section:  ('h3', 'с АСЕАН')\n",
      "Generated for section:  ('h3', 'Металлургия')\n",
      "Generated for section:  ('h2', 'Сфера услуг')\n",
      "Generated for section:  ('h3', 'с Республикой Корея')\n",
      "Generated for section:  ('h3', 'с США')\n",
      "Generated for section:  ('h3', 'с Африкой')\n",
      "Generated for section:  ('h3', 'Средний класс')\n",
      "Generated for section:  ('h2', 'Прогнозы экономистов')\n"
     ]
    },
    {
     "name": "stderr",
     "output_type": "stream",
     "text": [
      "Default prompt name is set to 'Classification'. This prompt will be applied to all `encode()` calls, except if `encode()` is called with `prompt` or `prompt_name` parameters.\n"
     ]
    },
    {
     "name": "stdout",
     "output_type": "stream",
     "text": [
      "Иннополис\n",
      "Generated for section:  ('h2', 'Культура и спорт')\n",
      "Generated for section:  ('h3', 'Городской бюджет')\n",
      "Generated for section:  ('h3', 'Административное устройство')\n",
      "Generated for section:  ('h3', 'Университет Иннополис')\n",
      "Generated for section:  ('h3', 'Начало строительства')\n",
      "Generated for section:  ('h3', 'Проект города')\n",
      "Generated for section:  ('h3', 'Городская инфраструктура')\n",
      "Generated for section:  ('h3', 'История названия')\n",
      "Generated for section:  ('h2', 'Здравоохранение')\n",
      "Generated for section:  ('h3', 'Органы власти')\n",
      "Generated for section:  ('h3', 'Открытие города')\n",
      "Generated for section:  ('h3', 'Особая экономическая зона')\n",
      "Generated for section:  ('h3', 'Транспорт')\n"
     ]
    },
    {
     "name": "stderr",
     "output_type": "stream",
     "text": [
      "Default prompt name is set to 'Classification'. This prompt will be applied to all `encode()` calls, except if `encode()` is called with `prompt` or `prompt_name` parameters.\n"
     ]
    },
    {
     "name": "stdout",
     "output_type": "stream",
     "text": [
      "Летние Олимпийские игры 2020\n",
      "Generated for section:  ('h2', 'Пандемия COVID-19 и Игры')\n",
      "Generated for section:  ('h2', 'Олимпийский комитет России')\n",
      "Generated for section:  ('h1', 'Летние Олимпийские игры 2020')\n",
      "Generated for section:  ('h2', 'Случай с белорусской спортсменкой')\n"
     ]
    },
    {
     "name": "stderr",
     "output_type": "stream",
     "text": [
      "Default prompt name is set to 'Classification'. This prompt will be applied to all `encode()` calls, except if `encode()` is called with `prompt` or `prompt_name` parameters.\n"
     ]
    },
    {
     "name": "stdout",
     "output_type": "stream",
     "text": [
      "Солнечная система\n",
      "Generated for section:  ('h4', 'Межпланетная среда')\n",
      "Generated for section:  ('h5', 'Юпитер')\n",
      "Generated for section:  ('h2', 'Галактическая орбита')\n",
      "Generated for section:  ('h4', 'Пояс астероидов')\n",
      "Generated for section:  ('h2', 'Структура')\n",
      "Generated for section:  ('h3', 'Терминология')\n",
      "Generated for section:  ('h4', 'Гелиосфера')\n",
      "Generated for section:  ('h5', 'Девятая планета')\n",
      "Generated for section:  ('h5', 'Рассеянный диск')\n",
      "Generated for section:  ('h5', 'Церера')\n",
      "Generated for section:  ('h4', 'Кометы')\n",
      "Generated for section:  ('h5', 'Меркурий')\n",
      "Generated for section:  ('h4', 'Планеты земной группы')\n",
      "Generated for section:  ('h2', '«Открытие» и исследование')\n",
      "Generated for section:  ('h3', 'Геоцентрическая и гелиоцентрическая системы')\n",
      "Generated for section:  ('h2', 'Формирование и эволюция')\n",
      "Generated for section:  ('h4', 'Облако Оорта')\n",
      "Generated for section:  ('h5', 'Седна')\n"
     ]
    },
    {
     "name": "stderr",
     "output_type": "stream",
     "text": [
      "Default prompt name is set to 'Classification'. This prompt will be applied to all `encode()` calls, except if `encode()` is called with `prompt` or `prompt_name` parameters.\n"
     ]
    },
    {
     "name": "stdout",
     "output_type": "stream",
     "text": [
      "C++\n",
      "Generated for section:  ('h3', 'Общие направления развития C++')\n",
      "Generated for section:  ('h4', 'Результирующий объём исполнимого кода')\n",
      "Generated for section:  ('h3', 'Развитие и стандартизация языка')\n",
      "Generated for section:  ('h3', 'C++ и Java')\n",
      "Generated for section:  ('h2', 'Влияние и альтернативы')\n"
     ]
    },
    {
     "name": "stderr",
     "output_type": "stream",
     "text": [
      "Default prompt name is set to 'Classification'. This prompt will be applied to all `encode()` calls, except if `encode()` is called with `prompt` or `prompt_name` parameters.\n"
     ]
    },
    {
     "name": "stdout",
     "output_type": "stream",
     "text": [
      "Си (язык программирования)\n",
      "Generated for section:  ('h2', 'Синтаксис и семантика')\n",
      "Generated for section:  ('h4', 'Вспомогательные целочисленные типы')\n",
      "Generated for section:  ('h4', 'Приведение целочисленных типов')\n",
      "Generated for section:  ('h4', 'Целые числа')\n",
      "Generated for section:  ('h2', 'Препроцессор')\n",
      "Generated for section:  ('h4', 'Отсутствие контроля над адресной арифметикой')\n",
      "Generated for section:  ('h4', 'Массивы')\n",
      "Generated for section:  ('h4', 'Структуры')\n",
      "Generated for section:  ('h4', 'Широкие строки')\n",
      "Generated for section:  ('h4', 'Неэффективные и небезопасные строки')\n",
      "Generated for section:  ('h4', 'Модули')\n",
      "Generated for section:  ('h4', 'Возврат кода ошибки')\n",
      "Generated for section:  ('h4', 'Отсутствие унификации обработки ошибок')\n",
      "Generated for section:  ('h4', 'Ошибки в математических функциях')\n",
      "Generated for section:  ('h4', 'Освобождение ресурсов')\n",
      "Generated for section:  ('h4', 'Маркеры ошибок и errno')\n",
      "Generated for section:  ('h4', 'Стандарты POSIX')\n",
      "Generated for section:  ('h4', 'Обработка ошибок на примере чтения файла')\n",
      "Generated for section:  ('h4', 'Отсутствие контроля инициализации переменных')\n",
      "Generated for section:  ('h4', 'Небезопасная реализация функций с переменным числом аргументов')\n",
      "Generated for section:  ('h4', 'Побуждающая к ошибкам динамическая память')\n"
     ]
    },
    {
     "name": "stderr",
     "output_type": "stream",
     "text": [
      "Default prompt name is set to 'Classification'. This prompt will be applied to all `encode()` calls, except if `encode()` is called with `prompt` or `prompt_name` parameters.\n"
     ]
    },
    {
     "name": "stdout",
     "output_type": "stream",
     "text": [
      "Сбербанк России\n",
      "Generated for section:  ('h3', '2010—2019')\n",
      "Generated for section:  ('h2', 'История')\n",
      "Generated for section:  ('h1', 'Сбербанк России')\n",
      "Generated for section:  ('h2', 'Деятельность')\n",
      "Generated for section:  ('h3', '2020\\xa0год\\xa0— н.\\u2009в.')\n",
      "Generated for section:  ('h3', 'Слияния и поглощения. Дочерние проекты')\n",
      "Generated for section:  ('h3', 'Показатели деятельности')\n",
      "Generated for section:  ('h3', 'Мошеннические прозвоны и рассылки')\n",
      "Generated for section:  ('h2', 'Санкции')\n"
     ]
    },
    {
     "name": "stderr",
     "output_type": "stream",
     "text": [
      "Default prompt name is set to 'Classification'. This prompt will be applied to all `encode()` calls, except if `encode()` is called with `prompt` or `prompt_name` parameters.\n"
     ]
    },
    {
     "name": "stdout",
     "output_type": "stream",
     "text": [
      "Чёрная смерть\n",
      "Generated for section:  ('h1', 'Чёрная смерть')\n",
      "Generated for section:  ('h2', 'Альтернативные теории')\n",
      "Generated for section:  ('h3', 'Климатический фактор')\n",
      "Generated for section:  ('h2', 'Начало эпидемии')\n",
      "Generated for section:  ('h2', 'Эпидемиология')\n",
      "Generated for section:  ('h2', 'Хроника распространения чумы')\n",
      "Generated for section:  ('h3', 'Католическая церковь и чума')\n"
     ]
    },
    {
     "name": "stderr",
     "output_type": "stream",
     "text": [
      "Default prompt name is set to 'Classification'. This prompt will be applied to all `encode()` calls, except if `encode()` is called with `prompt` or `prompt_name` parameters.\n"
     ]
    },
    {
     "name": "stdout",
     "output_type": "stream",
     "text": [
      "Яндекс\n",
      "Generated for section:  ('h3', '«Яндекс. Маркет»')\n",
      "Generated for section:  ('h3', 'Такси')\n",
      "Generated for section:  ('h3', 'Медиасервисы')\n",
      "Generated for section:  ('h3', 'Вертикали')\n",
      "Generated for section:  ('h3', 'Поиск и портал')\n",
      "Generated for section:  ('h2', 'Сервисы, службы и приложения')\n",
      "Generated for section:  ('h1', 'Яндекс')\n",
      "Generated for section:  ('h3', 'Технологии искусственного интеллекта')\n",
      "Generated for section:  ('h3', 'Логотип')\n",
      "Generated for section:  ('h2', 'Статистика и финансовые показатели')\n"
     ]
    },
    {
     "name": "stderr",
     "output_type": "stream",
     "text": [
      "Default prompt name is set to 'Classification'. This prompt will be applied to all `encode()` calls, except if `encode()` is called with `prompt` or `prompt_name` parameters.\n"
     ]
    },
    {
     "name": "stdout",
     "output_type": "stream",
     "text": [
      "Google (компания)\n",
      "Generated for section:  ('h3', 'Рост')\n",
      "Generated for section:  ('h3', 'Поисковая система')\n",
      "Generated for section:  ('h3', 'Приобретения и партнёрства')\n",
      "Generated for section:  ('h1', 'Google (компания)')\n",
      "Generated for section:  ('h3', 'Финансирование и первичное публичное предложение')\n",
      "Generated for section:  ('h3', 'Другие сервисы')\n",
      "Generated for section:  ('h3', 'Цензура в компании')\n",
      "Generated for section:  ('h3', 'Нарушение права на неприкосновенность частной жизни')\n",
      "Generated for section:  ('h3', 'Санкции Европейской комиссии')\n",
      "Generated for section:  ('h3', 'Штрафы, суды, расследования')\n"
     ]
    },
    {
     "name": "stderr",
     "output_type": "stream",
     "text": [
      "Default prompt name is set to 'Classification'. This prompt will be applied to all `encode()` calls, except if `encode()` is called with `prompt` or `prompt_name` parameters.\n"
     ]
    },
    {
     "name": "stdout",
     "output_type": "stream",
     "text": [
      "Большой адронный коллайдер\n",
      "Generated for section:  ('h4', '2022 (Run3)')\n",
      "Generated for section:  ('h4', '2009—2014 годы. Работа на пониженной энергии (Run1)')\n",
      "Generated for section:  ('h1', 'Большой адронный коллайдер')\n",
      "Generated for section:  ('h4', '2008 год. Запуск. Авария')\n",
      "Generated for section:  ('h3', 'Детекторы')\n"
     ]
    },
    {
     "name": "stderr",
     "output_type": "stream",
     "text": [
      "Default prompt name is set to 'Classification'. This prompt will be applied to all `encode()` calls, except if `encode()` is called with `prompt` or `prompt_name` parameters.\n"
     ]
    },
    {
     "name": "stdout",
     "output_type": "stream",
     "text": [
      "Геморрагическая лихорадка Эбола\n",
      "Generated for section:  ('h3', 'Кровотечение')\n",
      "Generated for section:  ('h3', 'События XXI\\xa0века')\n",
      "Generated for section:  ('h2', 'Описание')\n",
      "Generated for section:  ('h1', 'Геморрагическая лихорадка Эбола')\n",
      "Generated for section:  ('h2', 'Эпидемиология')\n",
      "Generated for section:  ('h2', 'Последствия болезни')\n",
      "Generated for section:  ('h3', 'Препараты без доказанной эффективности')\n",
      "Generated for section:  ('h2', 'Патогенез')\n",
      "Generated for section:  ('h2', 'Лечение')\n",
      "Generated for section:  ('h3', 'Вакцины')\n"
     ]
    },
    {
     "name": "stderr",
     "output_type": "stream",
     "text": [
      "Default prompt name is set to 'Classification'. This prompt will be applied to all `encode()` calls, except if `encode()` is called with `prompt` or `prompt_name` parameters.\n"
     ]
    },
    {
     "name": "stdout",
     "output_type": "stream",
     "text": [
      "Вирус иммунодефицита человека\n",
      "Generated for section:  ('h2', 'Геном и кодируемые белки')\n",
      "Generated for section:  ('h2', 'Строение вириона')\n",
      "Generated for section:  ('h3', 'Проникновение в клетку и обратная транскрипция')\n",
      "Generated for section:  ('h2', 'Классификация')\n",
      "Generated for section:  ('h1', 'Вирус иммунодефицита человека')\n",
      "Generated for section:  ('h3', 'Лечение')\n",
      "Generated for section:  ('h2', 'Открытие ВИЧ')\n",
      "Generated for section:  ('h3', 'Препараты для профилактики')\n",
      "Generated for section:  ('h3', 'Диагностика')\n",
      "Generated for section:  ('h3', 'Nef')\n",
      "Generated for section:  ('h3', 'Vpu')\n",
      "Generated for section:  ('h3', 'ВИЧ-2')\n",
      "Generated for section:  ('h3', 'Естественная устойчивость к ВИЧ')\n",
      "Generated for section:  ('h2', 'Происхождение')\n",
      "Generated for section:  ('h3', 'Распространение по организму')\n",
      "Generated for section:  ('h3', 'Транскрипция, сплайсинг, транспорт РНК из ядра в цитоплазму и трансляция')\n"
     ]
    },
    {
     "name": "stderr",
     "output_type": "stream",
     "text": [
      "Default prompt name is set to 'Classification'. This prompt will be applied to all `encode()` calls, except if `encode()` is called with `prompt` or `prompt_name` parameters.\n"
     ]
    },
    {
     "name": "stdout",
     "output_type": "stream",
     "text": [
      "Dota 2\n",
      "Generated for section:  ('h2', 'Судебные разбирательства')\n",
      "Generated for section:  ('h2', 'Выход')\n",
      "Generated for section:  ('h2', 'Игры человека против компьютера')\n",
      "Generated for section:  ('h1', 'Dota 2')\n",
      "Generated for section:  ('h2', 'Разработка')\n",
      "Generated for section:  ('h2', 'Отзывы')\n",
      "Generated for section:  ('h2', 'Игровой процесс')\n"
     ]
    },
    {
     "name": "stderr",
     "output_type": "stream",
     "text": [
      "Default prompt name is set to 'Classification'. This prompt will be applied to all `encode()` calls, except if `encode()` is called with `prompt` or `prompt_name` parameters.\n"
     ]
    },
    {
     "name": "stdout",
     "output_type": "stream",
     "text": [
      "TikTok\n",
      "Generated for section:  ('h3', 'Незаконный сбор данных')\n",
      "Generated for section:  ('h1', 'TikTok')\n",
      "Generated for section:  ('h3', 'Продажа американского сегмента TikTok')\n",
      "Generated for section:  ('h2', 'История')\n",
      "Generated for section:  ('h4', 'США')\n",
      "Generated for section:  ('h4', 'Российская Федерация')\n"
     ]
    },
    {
     "name": "stderr",
     "output_type": "stream",
     "text": [
      "Default prompt name is set to 'Classification'. This prompt will be applied to all `encode()` calls, except if `encode()` is called with `prompt` or `prompt_name` parameters.\n"
     ]
    },
    {
     "name": "stdout",
     "output_type": "stream",
     "text": [
      "Марс\n",
      "Generated for section:  ('h3', 'Атмосферное давление')\n",
      "Generated for section:  ('h3', 'В античной мифологии')\n",
      "Generated for section:  ('h2', 'Атмосфера и климат')\n",
      "Generated for section:  ('h3', 'Времена года на Марсе')\n",
      "Generated for section:  ('h2', 'Орбитальные характеристики')\n",
      "Generated for section:  ('h3', 'Климат')\n",
      "Generated for section:  ('h3', 'Параметры планеты')\n",
      "Generated for section:  ('h3', 'Сила тяжести')\n",
      "Generated for section:  ('h3', 'Пылевые бури и пыльные вихри')\n",
      "Generated for section:  ('h3', 'Гидросфера Марса')\n",
      "Generated for section:  ('h2', 'Геология и внутреннее строение')\n",
      "Generated for section:  ('h3', 'Грунт')\n",
      "Generated for section:  ('h2', 'Основные сведения')\n",
      "Generated for section:  ('h2', 'Поверхность')\n",
      "Generated for section:  ('h3', 'Лёд и полярные шапки')\n",
      "Generated for section:  ('h2', 'Вопрос о праве собственности на планету и её участки')\n",
      "Generated for section:  ('h2', 'В культуре')\n",
      "Generated for section:  ('h3', 'Колонизация Марса')\n",
      "Generated for section:  ('h3', 'Небесная сфера')\n",
      "Generated for section:  ('h4', 'Исследование Марса межпланетными станциями')\n",
      "Generated for section:  ('h3', 'Магнитное поле')\n",
      "Generated for section:  ('h3', 'Фактические данные')\n",
      "Generated for section:  ('h4', 'Американские исследования')\n"
     ]
    },
    {
     "name": "stderr",
     "output_type": "stream",
     "text": [
      "Default prompt name is set to 'Classification'. This prompt will be applied to all `encode()` calls, except if `encode()` is called with `prompt` or `prompt_name` parameters.\n"
     ]
    },
    {
     "name": "stdout",
     "output_type": "stream",
     "text": [
      "YouTube\n",
      "Generated for section:  ('h3', 'Реклама')\n",
      "Generated for section:  ('h3', 'Загрузка видео')\n",
      "Generated for section:  ('h2', 'Блокировка, фильтрация и цензура')\n",
      "Generated for section:  ('h1', 'YouTube')\n",
      "Generated for section:  ('h2', 'История')\n",
      "Generated for section:  ('h3', 'Ограничения функций в России')\n"
     ]
    },
    {
     "name": "stderr",
     "output_type": "stream",
     "text": [
      "Default prompt name is set to 'Classification'. This prompt will be applied to all `encode()` calls, except if `encode()` is called with `prompt` or `prompt_name` parameters.\n"
     ]
    },
    {
     "name": "stdout",
     "output_type": "stream",
     "text": [
      "Portal 2\n",
      "Generated for section:  ('h3', 'ARG-головоломка и анонс игры')\n",
      "Generated for section:  ('h1', 'Portal 2')\n",
      "Generated for section:  ('h2', 'Разработка игры')\n",
      "Generated for section:  ('h3', 'Основы')\n",
      "Generated for section:  ('h3', 'Сюжет и дизайн персонажей')\n",
      "Generated for section:  ('h3', 'Создание кооперативного режима')\n",
      "Generated for section:  ('h2', 'Геймплей')\n",
      "Generated for section:  ('h3', 'Реклама и релиз')\n",
      "Generated for section:  ('h3', 'Продажи')\n"
     ]
    },
    {
     "name": "stderr",
     "output_type": "stream",
     "text": [
      "Default prompt name is set to 'Classification'. This prompt will be applied to all `encode()` calls, except if `encode()` is called with `prompt` or `prompt_name` parameters.\n"
     ]
    }
   ],
   "source": [
    "await wiki_bench.rank_sections()"
   ]
  },
  {
   "cell_type": "code",
   "execution_count": 2,
   "id": "6c8f5c93-d7c0-4ddc-83a5-e7039977ce78",
   "metadata": {
    "scrolled": true
   },
   "outputs": [
    {
     "name": "stdout",
     "output_type": "stream",
     "text": [
      "Python\n",
      "Pr:  0.6543764  rec:  0.68556154  f:  0.6696061\n",
      "\n",
      "Летние Олимпийские игры 2024\n",
      "Pr:  0.6496792  rec:  0.6435434  f:  0.64659667\n",
      "\n",
      "Квантовый компьютер\n",
      "Pr:  0.75661707  rec:  0.6884449  f:  0.72092295\n",
      "\n",
      "Присоединение Крыма к Российской Федерации\n",
      "Pr:  0.61119586  rec:  0.64211917  f:  0.6262761\n",
      "\n",
      "Сколково (инновационный центр)\n",
      "Pr:  0.68257624  rec:  0.6197468  f:  0.6496459\n",
      "\n",
      "Tomb Raider (игра, 2013)\n",
      "Pr:  0.6506553  rec:  0.6334215  f:  0.6419228\n",
      "\n",
      "Чёрная дыра\n",
      "Pr:  0.6942983  rec:  0.73457164  f:  0.7138674\n",
      "\n",
      "Экономика США\n",
      "Pr:  0.64455664  rec:  0.64970285  f:  0.64711946\n",
      "\n",
      "Искусственный интеллект\n",
      "Pr:  0.6875678  rec:  0.6396612  f:  0.6627499\n",
      "\n",
      "COVID-19\n",
      "Pr:  0.6405842  rec:  0.6554143  f:  0.6479144\n",
      "\n",
      "Применение искусственного интеллекта\n",
      "Pr:  0.5723816  rec:  0.6025469  f:  0.587077\n",
      "\n",
      "РИА Новости\n",
      "Pr:  0.6830424  rec:  0.63928556  f:  0.66044\n",
      "\n",
      "Uncharted 4: A Thief’s End\n",
      "Pr:  0.65849644  rec:  0.7792792  f:  0.7138145\n",
      "\n",
      "Экономика КНР\n",
      "Pr:  0.6330795  rec:  0.65861917  f:  0.64559686\n",
      "\n",
      "Иннополис\n",
      "Pr:  0.7519981  rec:  0.6917382  f:  0.72061056\n",
      "\n",
      "Летние Олимпийские игры 2020\n",
      "Pr:  0.59707683  rec:  0.6169111  f:  0.6068319\n",
      "\n",
      "Солнечная система\n",
      "Pr:  0.6586851  rec:  0.6711235  f:  0.6648461\n",
      "\n",
      "C++\n",
      "Pr:  0.58233213  rec:  0.5776547  f:  0.579984\n",
      "\n",
      "Си (язык программирования)\n",
      "Pr:  0.6551975  rec:  0.638658  f:  0.64682204\n",
      "\n",
      "Сбербанк России\n",
      "Pr:  0.6424682  rec:  0.64087456  f:  0.64167035\n",
      "\n",
      "Чёрная смерть\n",
      "Pr:  0.6864452  rec:  0.68734616  f:  0.6868954\n",
      "\n",
      "Яндекс\n",
      "Pr:  0.61825377  rec:  0.6076114  f:  0.6128864\n",
      "\n",
      "Google (компания)\n",
      "Pr:  0.70689595  rec:  0.5749265  f:  0.6341178\n",
      "\n",
      "Большой адронный коллайдер\n",
      "Pr:  0.6474593  rec:  0.55660796  f:  0.5986061\n",
      "\n",
      "Геморрагическая лихорадка Эбола\n",
      "Pr:  0.7160167  rec:  0.7093148  f:  0.71265\n",
      "\n",
      "Вирус иммунодефицита человека\n",
      "Pr:  0.61706305  rec:  0.6237834  f:  0.620405\n",
      "\n",
      "Dota 2\n",
      "Pr:  0.6381983  rec:  0.6900278  f:  0.6631018\n",
      "\n",
      "TikTok\n",
      "Pr:  0.630331  rec:  0.5767869  f:  0.60237145\n",
      "\n",
      "Марс\n",
      "Pr:  0.7161556  rec:  0.75196  f:  0.7336212\n",
      "\n",
      "YouTube\n",
      "Pr:  0.64810616  rec:  0.7066811  f:  0.6761274\n",
      "\n",
      "Portal 2\n",
      "Pr:  0.66349256  rec:  0.6865652  f:  0.6748317\n",
      "\n"
     ]
    }
   ],
   "source": [
    "p, r, f = await wiki_bench.rank_outline(neighbor_count=0, description_mode=1, mode=1)"
   ]
  },
  {
   "cell_type": "code",
   "execution_count": 4,
   "id": "09954b73-649c-49e3-90e6-3b7ec704d64c",
   "metadata": {},
   "outputs": [
    {
     "name": "stdout",
     "output_type": "stream",
     "text": [
      "0.6579123 0.65420926 0.65515894\n"
     ]
    }
   ],
   "source": [
    "print(p, r, f)"
   ]
  },
  {
   "cell_type": "code",
   "execution_count": 5,
   "id": "90483931-b9ca-4216-9451-6c37a9363cfe",
   "metadata": {},
   "outputs": [
    {
     "name": "stdout",
     "output_type": "stream",
     "text": [
      "66.06\n",
      "64.48\n",
      "67.40\n",
      "\n",
      "65.36\n",
      "63.83\n",
      "66.55\n",
      "\n",
      "65.90\n",
      "64.33\n",
      "66.61\n",
      "\n"
     ]
    }
   ],
   "source": [
    "import numpy as np\n",
    "from scipy.stats import bootstrap\n",
    "\n",
    "def calc(data):\n",
    "  data = np.array(data)\n",
    "  data1 = (data,)\n",
    "  bootstrap_ci = bootstrap(data1, np.mean, confidence_level=0.95, n_resamples=len(data)-1)\n",
    "\n",
    "  dist = bootstrap_ci.bootstrap_distribution\n",
    "  mean = np.quantile(dist, q=0.5)\n",
    "  min = np.quantile(dist, q=0.025)\n",
    "  max = np.quantile(dist, q=0.975)\n",
    "  print(f\"{100*mean:2.2f}\")\n",
    "  print(f\"{100*min:2.2f}\")\n",
    "  print(f\"{100*max:2.2f}\")\n",
    "  print()\n",
    "\n",
    "#elem_p = [e for el in wiki_bench.article_gen_logger for e in el[0]]\n",
    "#elem_r = [e for el in wiki_bench.article_gen_logger for e in el[1]]\n",
    "#elem_f = [e for el in wiki_bench.article_gen_logger for e in el[2]]\n",
    "\n",
    "elem_p = [el[0] for el in wiki_bench.outline_logger]\n",
    "elem_r = [el[1] for el in wiki_bench.outline_logger]\n",
    "elem_f = [el[2] for el in wiki_bench.outline_logger]\n",
    "\n",
    "calc(elem_p)\n",
    "calc(elem_r)\n",
    "calc(elem_f)"
   ]
  },
  {
   "cell_type": "code",
   "execution_count": 20,
   "id": "222dc07d-4c41-4e64-8e36-b1a9fa1441e0",
   "metadata": {},
   "outputs": [],
   "source": [
    "import json\n",
    "\n",
    "fixed_lst = [(float(a), float(b), float(c)) for a, b, c in wiki_bench.outline_logger]\n",
    "with open('vikhr_outline.json', 'w', encoding='utf-8') as f:\n",
    "    json.dump(fixed_lst, f, ensure_ascii=False, indent=2)"
   ]
  },
  {
   "cell_type": "code",
   "execution_count": 21,
   "id": "4cc1a5c2-0f06-4bf1-9044-0566f2629a78",
   "metadata": {
    "collapsed": true,
    "jupyter": {
     "outputs_hidden": true
    },
    "scrolled": true
   },
   "outputs": [
    {
     "name": "stdout",
     "output_type": "stream",
     "text": [
      "Article name:  Python\n"
     ]
    },
    {
     "name": "stderr",
     "output_type": "stream",
     "text": [
      "Creating outline: 100%|███████████████████████████████████████████████████████████| 208/208 [00:00<00:00, 39694.93it/s]\n",
      "Getting link numbers: 100%|█████████████████████████████████████████████████████████| 195/195 [00:01<00:00, 148.21it/s]\n",
      "Calculating reference positions: 100%|██████████████████████████████████████████████| 54/54 [00:00<00:00, 53696.64it/s]\n"
     ]
    },
    {
     "name": "stdout",
     "output_type": "stream",
     "text": [
      "BERTScore Precision: 0.7675\n",
      "BERTScore Recall:    0.7159\n",
      "BERTScore F1:        0.7408\n",
      "\n",
      "Article name:  Летние Олимпийские игры 2024\n"
     ]
    },
    {
     "name": "stderr",
     "output_type": "stream",
     "text": [
      "Creating outline: 100%|██████████████████████████████████████████████████████████| 109/109 [00:00<00:00, 109033.90it/s]\n",
      "Getting link numbers: 100%|███████████████████████████████████████████████████████████| 96/96 [00:00<00:00, 297.70it/s]\n",
      "Calculating reference positions: 100%|██████████████████████████████████████████████| 32/32 [00:00<00:00, 31707.47it/s]\n"
     ]
    },
    {
     "name": "stdout",
     "output_type": "stream",
     "text": [
      "BERTScore Precision: 0.6329\n",
      "BERTScore Recall:    0.6278\n",
      "BERTScore F1:        0.6303\n",
      "\n",
      "Article name:  Квантовый компьютер\n"
     ]
    },
    {
     "name": "stderr",
     "output_type": "stream",
     "text": [
      "Creating outline: 100%|█████████████████████████████████████████████████████████████| 91/91 [00:00<00:00, 46450.25it/s]\n",
      "Getting link numbers: 100%|███████████████████████████████████████████████████████████| 62/62 [00:00<00:00, 407.56it/s]\n",
      "Calculating reference positions: 100%|█████████████████████████████████████████████████████████| 16/16 [00:00<?, ?it/s]\n"
     ]
    },
    {
     "name": "stdout",
     "output_type": "stream",
     "text": [
      "BERTScore Precision: 0.8234\n",
      "BERTScore Recall:    0.6833\n",
      "BERTScore F1:        0.7469\n",
      "\n",
      "Article name:  Присоединение Крыма к Российской Федерации\n"
     ]
    },
    {
     "name": "stderr",
     "output_type": "stream",
     "text": [
      "Creating outline: 100%|█████████████████████████████████████████████████████████████| 84/84 [00:00<00:00, 42540.63it/s]\n",
      "Getting link numbers: 100%|██████████████████████████████████████████████████████████| 36/36 [00:00<00:00, 1081.26it/s]\n",
      "Calculating reference positions: 100%|█████████████████████████████████████████████████████████| 22/22 [00:00<?, ?it/s]\n"
     ]
    },
    {
     "name": "stdout",
     "output_type": "stream",
     "text": [
      "BERTScore Precision: 0.6497\n",
      "BERTScore Recall:    0.6251\n",
      "BERTScore F1:        0.6372\n",
      "\n",
      "Article name:  Сколково (инновационный центр)\n"
     ]
    },
    {
     "name": "stderr",
     "output_type": "stream",
     "text": [
      "Creating outline: 100%|███████████████████████████████████████████████████████████| 283/283 [00:00<00:00, 50450.02it/s]\n",
      "Getting link numbers: 100%|█████████████████████████████████████████████████████████| 257/257 [00:01<00:00, 142.38it/s]\n",
      "Calculating reference positions: 100%|██████████████████████████████████████████████| 60/60 [00:00<00:00, 59818.93it/s]\n"
     ]
    },
    {
     "name": "stdout",
     "output_type": "stream",
     "text": [
      "BERTScore Precision: 0.6891\n",
      "BERTScore Recall:    0.6003\n",
      "BERTScore F1:        0.6416\n",
      "\n",
      "Article name:  Tomb Raider (игра, 2013)\n"
     ]
    },
    {
     "name": "stderr",
     "output_type": "stream",
     "text": [
      "Creating outline: 100%|███████████████████████████████████████████████████████████| 129/129 [00:00<00:00, 24438.36it/s]\n",
      "Getting link numbers: 100%|██████████████████████████████████████████████████████████| 270/270 [00:03<00:00, 73.81it/s]\n",
      "Calculating reference positions: 100%|██████████████████████████████████████████████| 33/33 [00:00<00:00, 61271.37it/s]\n"
     ]
    },
    {
     "name": "stdout",
     "output_type": "stream",
     "text": [
      "BERTScore Precision: 0.7748\n",
      "BERTScore Recall:    0.7210\n",
      "BERTScore F1:        0.7470\n",
      "\n",
      "Article name:  Чёрная дыра\n"
     ]
    },
    {
     "name": "stderr",
     "output_type": "stream",
     "text": [
      "Creating outline: 100%|███████████████████████████████████████████████████████████| 172/172 [00:00<00:00, 33874.27it/s]\n",
      "Getting link numbers: 100%|█████████████████████████████████████████████████████████| 104/104 [00:00<00:00, 231.75it/s]\n",
      "Calculating reference positions: 100%|██████████████████████████████████████████████| 50/50 [00:00<00:00, 92304.23it/s]\n"
     ]
    },
    {
     "name": "stdout",
     "output_type": "stream",
     "text": [
      "BERTScore Precision: 0.6968\n",
      "BERTScore Recall:    0.7395\n",
      "BERTScore F1:        0.7175\n",
      "\n",
      "Article name:  Экономика США\n"
     ]
    },
    {
     "name": "stderr",
     "output_type": "stream",
     "text": [
      "Creating outline: 100%|███████████████████████████████████████████████████████████| 148/148 [00:00<00:00, 49262.52it/s]\n",
      "Getting link numbers: 100%|███████████████████████████████████████████████████████████| 93/93 [00:00<00:00, 336.59it/s]\n",
      "Calculating reference positions: 100%|█████████████████████████████████████████████████████████| 30/30 [00:00<?, ?it/s]\n"
     ]
    },
    {
     "name": "stdout",
     "output_type": "stream",
     "text": [
      "BERTScore Precision: 0.7105\n",
      "BERTScore Recall:    0.6833\n",
      "BERTScore F1:        0.6966\n",
      "\n",
      "Article name:  Искусственный интеллект\n"
     ]
    },
    {
     "name": "stderr",
     "output_type": "stream",
     "text": [
      "Creating outline: 100%|███████████████████████████████████████████████████████████| 226/226 [00:00<00:00, 54359.03it/s]\n",
      "Getting link numbers: 100%|█████████████████████████████████████████████████████████| 106/106 [00:00<00:00, 340.59it/s]\n",
      "Calculating reference positions: 100%|█████████████████████████████████████████████| 61/61 [00:00<00:00, 113209.09it/s]\n"
     ]
    },
    {
     "name": "stdout",
     "output_type": "stream",
     "text": [
      "BERTScore Precision: 0.7543\n",
      "BERTScore Recall:    0.6968\n",
      "BERTScore F1:        0.7244\n",
      "\n",
      "Article name:  COVID-19\n"
     ]
    },
    {
     "name": "stderr",
     "output_type": "stream",
     "text": [
      "Creating outline: 100%|███████████████████████████████████████████████████████████| 191/191 [00:00<00:00, 52941.58it/s]\n",
      "Getting link numbers: 100%|█████████████████████████████████████████████████████████| 257/257 [00:02<00:00, 119.32it/s]\n",
      "Calculating reference positions: 100%|█████████████████████████████████████████████| 54/54 [00:00<00:00, 104086.59it/s]\n"
     ]
    },
    {
     "name": "stdout",
     "output_type": "stream",
     "text": [
      "BERTScore Precision: 0.7196\n",
      "BERTScore Recall:    0.7420\n",
      "BERTScore F1:        0.7306\n",
      "\n",
      "Article name:  Применение искусственного интеллекта\n"
     ]
    },
    {
     "name": "stderr",
     "output_type": "stream",
     "text": [
      "Creating outline: 100%|███████████████████████████████████████████████████████████| 151/151 [00:00<00:00, 56432.32it/s]\n",
      "Getting link numbers: 100%|█████████████████████████████████████████████████████████| 224/224 [00:01<00:00, 186.37it/s]\n",
      "Calculating reference positions: 100%|█████████████████████████████████████████████████████████| 46/46 [00:00<?, ?it/s]\n"
     ]
    },
    {
     "name": "stdout",
     "output_type": "stream",
     "text": [
      "BERTScore Precision: 0.7281\n",
      "BERTScore Recall:    0.6810\n",
      "BERTScore F1:        0.7038\n",
      "\n",
      "Article name:  РИА Новости\n"
     ]
    },
    {
     "name": "stderr",
     "output_type": "stream",
     "text": [
      "Creating outline: 100%|██████████████████████████████████████████████████████████| 102/102 [00:00<00:00, 101234.98it/s]\n",
      "Getting link numbers: 100%|███████████████████████████████████████████████████████████| 83/83 [00:00<00:00, 565.80it/s]\n",
      "Calculating reference positions: 100%|█████████████████████████████████████████████████████████| 29/29 [00:00<?, ?it/s]\n"
     ]
    },
    {
     "name": "stdout",
     "output_type": "stream",
     "text": [
      "BERTScore Precision: 0.7488\n",
      "BERTScore Recall:    0.6839\n",
      "BERTScore F1:        0.7148\n",
      "\n",
      "Article name:  Uncharted 4: A Thief’s End\n"
     ]
    },
    {
     "name": "stderr",
     "output_type": "stream",
     "text": [
      "Creating outline: 100%|█████████████████████████████████████████████████████████████| 56/56 [00:00<00:00, 55553.70it/s]\n",
      "Getting link numbers: 100%|███████████████████████████████████████████████████████████| 78/78 [00:00<00:00, 535.14it/s]\n",
      "Calculating reference positions: 100%|███████████████████████████████████████████████████████████| 9/9 [00:00<?, ?it/s]\n"
     ]
    },
    {
     "name": "stdout",
     "output_type": "stream",
     "text": [
      "BERTScore Precision: 0.7891\n",
      "BERTScore Recall:    0.8649\n",
      "BERTScore F1:        0.8252\n",
      "\n",
      "Article name:  Экономика КНР\n"
     ]
    },
    {
     "name": "stderr",
     "output_type": "stream",
     "text": [
      "Creating outline: 100%|███████████████████████████████████████████████████████████| 226/226 [00:00<00:00, 45220.53it/s]\n",
      "Getting link numbers: 100%|█████████████████████████████████████████████████████████| 172/172 [00:00<00:00, 175.65it/s]\n",
      "Calculating reference positions: 100%|██████████████████████████████████████████████| 57/57 [00:00<00:00, 56094.63it/s]\n"
     ]
    },
    {
     "name": "stdout",
     "output_type": "stream",
     "text": [
      "BERTScore Precision: 0.7128\n",
      "BERTScore Recall:    0.6747\n",
      "BERTScore F1:        0.6932\n",
      "\n",
      "Article name:  Экономика Германии\n"
     ]
    },
    {
     "name": "stderr",
     "output_type": "stream",
     "text": [
      "Creating outline: 100%|███████████████████████████████████████████████████████████| 151/151 [00:00<00:00, 75156.03it/s]\n",
      "Getting link numbers: 100%|███████████████████████████████████████████████████████████| 42/42 [00:00<00:00, 332.08it/s]\n",
      "Calculating reference positions: 100%|██████████████████████████████████████████████| 36/36 [00:00<00:00, 36192.46it/s]\n"
     ]
    },
    {
     "name": "stdout",
     "output_type": "stream",
     "text": [
      "BERTScore Precision: 0.8064\n",
      "BERTScore Recall:    0.7475\n",
      "BERTScore F1:        0.7758\n",
      "\n",
      "Article name:  Иннополис\n"
     ]
    },
    {
     "name": "stderr",
     "output_type": "stream",
     "text": [
      "Creating outline: 100%|█████████████████████████████████████████████████████████████| 84/84 [00:00<00:00, 43913.94it/s]\n",
      "Getting link numbers: 100%|█████████████████████████████████████████████████████████| 104/104 [00:00<00:00, 374.56it/s]\n",
      "Calculating reference positions: 100%|█████████████████████████████████████████████████████████| 25/25 [00:00<?, ?it/s]\n"
     ]
    },
    {
     "name": "stdout",
     "output_type": "stream",
     "text": [
      "BERTScore Precision: 0.7829\n",
      "BERTScore Recall:    0.7168\n",
      "BERTScore F1:        0.7484\n",
      "\n",
      "Article name:  Летние Олимпийские игры 2020\n"
     ]
    },
    {
     "name": "stderr",
     "output_type": "stream",
     "text": [
      "Creating outline: 100%|█████████████████████████████████████████████████████████████| 52/52 [00:00<00:00, 50277.50it/s]\n",
      "Getting link numbers: 100%|█████████████████████████████████████████████████████████| 103/103 [00:00<00:00, 272.69it/s]\n",
      "Calculating reference positions: 100%|██████████████████████████████████████████████| 14/14 [00:00<00:00, 19152.07it/s]\n"
     ]
    },
    {
     "name": "stdout",
     "output_type": "stream",
     "text": [
      "Couldn't get the answer\n",
      "BERTScore Precision: 0.6131\n",
      "BERTScore Recall:    0.5879\n",
      "BERTScore F1:        0.6003\n",
      "\n",
      "Article name:  Солнечная система\n"
     ]
    },
    {
     "name": "stderr",
     "output_type": "stream",
     "text": [
      "Creating outline: 100%|███████████████████████████████████████████████████████████| 155/155 [00:00<00:00, 39118.91it/s]\n",
      "Getting link numbers: 100%|███████████████████████████████████████████████████████████| 99/99 [00:00<00:00, 204.11it/s]\n",
      "Calculating reference positions: 100%|█████████████████████████████████████████████████████████| 47/47 [00:00<?, ?it/s]\n"
     ]
    },
    {
     "name": "stdout",
     "output_type": "stream",
     "text": [
      "Couldn't get the answer\n",
      "BERTScore Precision: 0.7194\n",
      "BERTScore Recall:    0.6165\n",
      "BERTScore F1:        0.6640\n",
      "\n",
      "Article name:  C++\n"
     ]
    },
    {
     "name": "stderr",
     "output_type": "stream",
     "text": [
      "Creating outline: 100%|███████████████████████████████████████████████████████████| 184/184 [00:00<00:00, 60696.18it/s]\n",
      "Getting link numbers: 100%|███████████████████████████████████████████████████████████| 59/59 [00:00<00:00, 329.09it/s]\n",
      "Calculating reference positions: 100%|█████████████████████████████████████████████████████████| 58/58 [00:00<?, ?it/s]\n"
     ]
    },
    {
     "name": "stdout",
     "output_type": "stream",
     "text": [
      "BERTScore Precision: 0.7530\n",
      "BERTScore Recall:    0.6629\n",
      "BERTScore F1:        0.7051\n",
      "\n",
      "Article name:  Си (язык программирования)\n"
     ]
    },
    {
     "name": "stderr",
     "output_type": "stream",
     "text": [
      "Creating outline: 100%|███████████████████████████████████████████████████████████| 223/223 [00:00<00:00, 44673.53it/s]\n",
      "Getting link numbers: 100%|█████████████████████████████████████████████████████████| 100/100 [00:00<00:00, 192.28it/s]\n",
      "Calculating reference positions: 100%|█████████████████████████████████████████████████████████| 68/68 [00:00<?, ?it/s]\n"
     ]
    },
    {
     "name": "stdout",
     "output_type": "stream",
     "text": [
      "BERTScore Precision: 0.7713\n",
      "BERTScore Recall:    0.6651\n",
      "BERTScore F1:        0.7142\n",
      "\n",
      "Article name:  Сбербанк России\n"
     ]
    },
    {
     "name": "stderr",
     "output_type": "stream",
     "text": [
      "Creating outline: 100%|███████████████████████████████████████████████████████████| 177/177 [00:00<00:00, 44279.60it/s]\n",
      "Getting link numbers: 100%|█████████████████████████████████████████████████████████| 197/197 [00:00<00:00, 241.18it/s]\n",
      "Calculating reference positions: 100%|██████████████████████████████████████████████| 28/28 [00:00<00:00, 28008.71it/s]\n"
     ]
    },
    {
     "name": "stdout",
     "output_type": "stream",
     "text": [
      "BERTScore Precision: 0.6732\n",
      "BERTScore Recall:    0.7232\n",
      "BERTScore F1:        0.6973\n",
      "\n",
      "Article name:  Чёрная смерть\n"
     ]
    },
    {
     "name": "stderr",
     "output_type": "stream",
     "text": [
      "Creating outline: 100%|███████████████████████████████████████████████████████████| 275/275 [00:00<00:00, 36147.59it/s]\n",
      "Getting link numbers: 100%|█████████████████████████████████████████████████████████| 214/214 [00:01<00:00, 162.74it/s]\n",
      "Calculating reference positions: 100%|█████████████████████████████████████████████████████████| 34/34 [00:00<?, ?it/s]\n"
     ]
    },
    {
     "name": "stdout",
     "output_type": "stream",
     "text": [
      "BERTScore Precision: 0.6411\n",
      "BERTScore Recall:    0.6520\n",
      "BERTScore F1:        0.6465\n",
      "\n",
      "Article name:  Яндекс\n"
     ]
    },
    {
     "name": "stderr",
     "output_type": "stream",
     "text": [
      "Creating outline: 100%|███████████████████████████████████████████████████████████| 105/105 [00:00<00:00, 63817.12it/s]\n",
      "Getting link numbers: 100%|█████████████████████████████████████████████████████████| 147/147 [00:00<00:00, 297.19it/s]\n",
      "Calculating reference positions: 100%|█████████████████████████████████████████████████████████| 30/30 [00:00<?, ?it/s]\n"
     ]
    },
    {
     "name": "stdout",
     "output_type": "stream",
     "text": [
      "BERTScore Precision: 0.6958\n",
      "BERTScore Recall:    0.7391\n",
      "BERTScore F1:        0.7168\n",
      "\n",
      "Article name:  Google (компания)\n"
     ]
    },
    {
     "name": "stderr",
     "output_type": "stream",
     "text": [
      "Creating outline: 100%|███████████████████████████████████████████████████████████| 143/143 [00:00<00:00, 53337.97it/s]\n",
      "Getting link numbers: 100%|█████████████████████████████████████████████████████████| 183/183 [00:00<00:00, 269.49it/s]\n",
      "Calculating reference positions: 100%|██████████████████████████████████████████████| 26/26 [00:00<00:00, 50370.39it/s]\n"
     ]
    },
    {
     "name": "stdout",
     "output_type": "stream",
     "text": [
      "BERTScore Precision: 0.7014\n",
      "BERTScore Recall:    0.6978\n",
      "BERTScore F1:        0.6996\n",
      "\n",
      "Article name:  Большой адронный коллайдер\n"
     ]
    },
    {
     "name": "stderr",
     "output_type": "stream",
     "text": [
      "Creating outline: 100%|█████████████████████████████████████████████████████████████| 88/88 [00:00<00:00, 35510.75it/s]\n",
      "Getting link numbers: 100%|███████████████████████████████████████████████████████████| 90/90 [00:00<00:00, 347.96it/s]\n",
      "Calculating reference positions: 100%|█████████████████████████████████████████████████████████| 32/32 [00:00<?, ?it/s]\n"
     ]
    },
    {
     "name": "stdout",
     "output_type": "stream",
     "text": [
      "BERTScore Precision: 0.7200\n",
      "BERTScore Recall:    0.6509\n",
      "BERTScore F1:        0.6837\n",
      "\n",
      "Article name:  Геморрагическая лихорадка Эбола\n"
     ]
    },
    {
     "name": "stderr",
     "output_type": "stream",
     "text": [
      "Creating outline: 100%|█████████████████████████████████████████████████████████████| 86/86 [00:00<00:00, 86088.34it/s]\n",
      "Getting link numbers: 100%|███████████████████████████████████████████████████████████| 95/95 [00:00<00:00, 313.42it/s]\n",
      "Calculating reference positions: 100%|█████████████████████████████████████████████████████████| 19/19 [00:00<?, ?it/s]\n"
     ]
    },
    {
     "name": "stdout",
     "output_type": "stream",
     "text": [
      "BERTScore Precision: 0.7234\n",
      "BERTScore Recall:    0.7558\n",
      "BERTScore F1:        0.7392\n",
      "\n",
      "Article name:  Вирус иммунодефицита человека\n"
     ]
    },
    {
     "name": "stderr",
     "output_type": "stream",
     "text": [
      "Creating outline: 100%|███████████████████████████████████████████████████████████| 124/124 [00:00<00:00, 49344.75it/s]\n",
      "Getting link numbers: 100%|█████████████████████████████████████████████████████████| 181/181 [00:01<00:00, 166.84it/s]\n",
      "Calculating reference positions: 100%|█████████████████████████████████████████████████████████| 30/30 [00:00<?, ?it/s]\n"
     ]
    },
    {
     "name": "stdout",
     "output_type": "stream",
     "text": [
      "BERTScore Precision: 0.7518\n",
      "BERTScore Recall:    0.6936\n",
      "BERTScore F1:        0.7215\n",
      "\n",
      "Article name:  Dota 2\n"
     ]
    },
    {
     "name": "stderr",
     "output_type": "stream",
     "text": [
      "Creating outline: 100%|█████████████████████████████████████████████████████████████| 43/43 [00:00<00:00, 20845.48it/s]\n",
      "Getting link numbers: 100%|█████████████████████████████████████████████████████████| 100/100 [00:00<00:00, 298.44it/s]\n",
      "Calculating reference positions: 100%|█████████████████████████████████████████████████████████| 13/13 [00:00<?, ?it/s]\n"
     ]
    },
    {
     "name": "stdout",
     "output_type": "stream",
     "text": [
      "BERTScore Precision: 0.6596\n",
      "BERTScore Recall:    0.7193\n",
      "BERTScore F1:        0.6882\n",
      "\n",
      "Article name:  TikTok\n"
     ]
    },
    {
     "name": "stderr",
     "output_type": "stream",
     "text": [
      "Creating outline: 100%|███████████████████████████████████████████████████████████| 143/143 [00:00<00:00, 71301.17it/s]\n",
      "Getting link numbers: 100%|█████████████████████████████████████████████████████████| 126/126 [00:00<00:00, 346.57it/s]\n",
      "Calculating reference positions: 100%|█████████████████████████████████████████████████████████| 30/30 [00:00<?, ?it/s]\n"
     ]
    },
    {
     "name": "stdout",
     "output_type": "stream",
     "text": [
      "BERTScore Precision: 0.6557\n",
      "BERTScore Recall:    0.6354\n",
      "BERTScore F1:        0.6454\n",
      "\n",
      "Article name:  Марс\n"
     ]
    },
    {
     "name": "stderr",
     "output_type": "stream",
     "text": [
      "Creating outline: 100%|███████████████████████████████████████████████████████████| 200/200 [00:00<00:00, 36923.32it/s]\n",
      "Getting link numbers: 100%|█████████████████████████████████████████████████████████| 160/160 [00:01<00:00, 138.84it/s]\n",
      "Calculating reference positions: 100%|██████████████████████████████████████████████| 42/42 [00:00<00:00, 43539.49it/s]\n"
     ]
    },
    {
     "name": "stdout",
     "output_type": "stream",
     "text": [
      "BERTScore Precision: 0.7337\n",
      "BERTScore Recall:    0.7666\n",
      "BERTScore F1:        0.7498\n",
      "\n",
      "Article name:  YouTube\n"
     ]
    },
    {
     "name": "stderr",
     "output_type": "stream",
     "text": [
      "Creating outline: 100%|███████████████████████████████████████████████████████████| 104/104 [00:00<00:00, 50851.90it/s]\n",
      "Getting link numbers: 100%|███████████████████████████████████████████████████████████| 96/96 [00:00<00:00, 423.04it/s]\n",
      "Calculating reference positions: 100%|██████████████████████████████████████████████| 18/18 [00:00<00:00, 17949.95it/s]\n"
     ]
    },
    {
     "name": "stdout",
     "output_type": "stream",
     "text": [
      "BERTScore Precision: 0.7226\n",
      "BERTScore Recall:    0.7471\n",
      "BERTScore F1:        0.7347\n",
      "\n",
      "BERTScore Precision: 0.7201\n",
      "BERTScore Recall:    0.6941\n",
      "BERTScore F1:        0.7058\n"
     ]
    }
   ],
   "source": [
    "p_s = 0\n",
    "r_s = 0\n",
    "f_s = 0\n",
    "for name in article_names:\n",
    "    page = get_article(name, is_downloaded=True)\n",
    "    p, r, f = await wiki_evaluater.rank_outline(name, mode=1, page=page, neighbor_count=1, description_mode=1)\n",
    "    p_s += p\n",
    "    r_s += r\n",
    "    f_s += f\n",
    "    print(f\"BERTScore Precision: {p:.4f}\")\n",
    "    print(f\"BERTScore Recall:    {r:.4f}\")\n",
    "    print(f\"BERTScore F1:        {f:.4f}\")\n",
    "    print()\n",
    "print(f\"BERTScore Precision: {p_s/len(article_names):.4f}\")\n",
    "print(f\"BERTScore Recall:    {r_s/len(article_names):.4f}\")\n",
    "print(f\"BERTScore F1:        {f_s/len(article_names):.4f}\")"
   ]
  },
  {
   "cell_type": "code",
   "execution_count": null,
   "id": "4512e2d1-1d19-4282-9c70-d52cbc7d72a3",
   "metadata": {},
   "outputs": [],
   "source": [
    "p_s = 0\n",
    "r_s = 0\n",
    "f_s = 0\n",
    "for name in article_names:\n",
    "    page = get_article(name, False, True)\n",
    "    pr, r, f = wiki_evaluater.rank_outline(name, 0, page=page, mode=1)"
   ]
  },
  {
   "cell_type": "code",
   "execution_count": 28,
   "id": "625a3514-cc66-46c6-9c3f-706de9635cbb",
   "metadata": {},
   "outputs": [
    {
     "name": "stdout",
     "output_type": "stream",
     "text": [
      "53.31\n",
      "52.69\n",
      "53.98\n",
      "\n",
      "54.36\n",
      "53.52\n",
      "55.28\n",
      "\n",
      "53.57\n",
      "52.92\n",
      "54.23\n",
      "\n"
     ]
    }
   ],
   "source": [
    "import re\n",
    "import os\n",
    "import numpy as np\n",
    "from scipy.stats import bootstrap\n",
    "\n",
    "sred_p = []\n",
    "sred_r = []\n",
    "sred_f = []\n",
    "for subdir, _, files in os.walk(r'D:\\MSU\\year_4\\semester_8\\Diploma\\early_report\\vikhr12b'):\n",
    "    for file in files:\n",
    "\n",
    "        if file.endswith(\".txt\"):\n",
    "            file_path = os.path.join(subdir, file)\n",
    "            with open(file_path, \"r\", encoding=\"utf-8\", errors='replace') as f:\n",
    "                #print(file_path)\n",
    "                precisions = []\n",
    "                recalls = []\n",
    "                f1s = []\n",
    "                content = f.read()\n",
    "                precision_matches = re.findall(r'BERTScore Precision:\\s*([0-9.]+)', content)\n",
    "                recall_matches = re.findall(r'BERTScore Recall:\\s*([0-9.]+)', content)\n",
    "                f1_matches = re.findall(r'BERTScore F1:\\s*([0-9.]+)', content)\n",
    "\n",
    "                precisions = [float(p) for p in precision_matches if float(p) != 0]\n",
    "                recalls = [float(r) for r in recall_matches if float(r) != 0]\n",
    "                f1s = [float(f) for f in f1_matches if float(f) != 0]\n",
    "                sred_p += precisions\n",
    "                sred_r += recalls\n",
    "                sred_f += f1s\n",
    "                \n",
    "def calc(data):\n",
    "  data = np.array(data)\n",
    "  data1 = (data,)\n",
    "  bootstrap_ci = bootstrap(data1, np.mean, confidence_level=0.95, n_resamples=len(data)-1)\n",
    "\n",
    "  dist = bootstrap_ci.bootstrap_distribution\n",
    "  mean = np.quantile(dist, q=0.5)\n",
    "  min = np.quantile(dist, q=0.025)\n",
    "  max = np.quantile(dist, q=0.975)\n",
    "  print(f\"{100*mean:2.2f}\")\n",
    "  print(f\"{100*min:2.2f}\")\n",
    "  print(f\"{100*max:2.2f}\")\n",
    "  print()\n",
    "\n",
    "calc(sred_p)\n",
    "calc(sred_r)\n",
    "calc(sred_f)"
   ]
  },
  {
   "cell_type": "code",
   "execution_count": 65,
   "id": "67ade2f2-6f15-4c10-a700-0fcfdf64d33a",
   "metadata": {
    "scrolled": true
   },
   "outputs": [
    {
     "name": "stderr",
     "output_type": "stream",
     "text": [
      "Default prompt name is set to 'Classification'. This prompt will be applied to all `encode()` calls, except if `encode()` is called with `prompt` or `prompt_name` parameters.\n"
     ]
    },
    {
     "name": "stdout",
     "output_type": "stream",
     "text": [
      "Python\n",
      "658\n",
      "344\n",
      "Летние Олимпийские игры 2024\n",
      "66\n",
      "24\n",
      "Квантовый компьютер\n",
      "85\n",
      "37\n",
      "Присоединение Крыма к Российской Федерации\n",
      "118\n",
      "75\n",
      "Сколково (инновационный центр)\n",
      "552\n",
      "337\n",
      "Tomb Raider (игра, 2013)\n",
      "325\n",
      "142\n",
      "Чёрная дыра\n",
      "273\n",
      "120\n",
      "Экономика США\n",
      "62\n",
      "34\n",
      "Искусственный интеллект\n",
      "215\n",
      "95\n",
      "COVID-19\n",
      "610\n",
      "322\n",
      "Применение искусственного интеллекта\n",
      "398\n",
      "250\n",
      "РИА Новости\n",
      "87\n",
      "45\n",
      "Uncharted 4: A Thief’s End\n",
      "67\n",
      "42\n",
      "Экономика КНР\n",
      "253\n",
      "141\n",
      "Иннополис\n",
      "188\n",
      "118\n",
      "Летние Олимпийские игры 2020\n",
      "50\n",
      "40\n",
      "Солнечная система\n",
      "274\n",
      "193\n",
      "C++\n",
      "40\n",
      "30\n",
      "Trying again!\n",
      "Си (язык программирования)\n",
      "570\n",
      "392\n",
      "Сбербанк России\n",
      "186\n",
      "86\n",
      "Чёрная смерть\n",
      "357\n",
      "283\n",
      "Яндекс\n",
      "129\n",
      "70\n",
      "Google (компания)\n",
      "110\n",
      "59\n",
      "Большой адронный коллайдер\n",
      "48\n",
      "29\n",
      "Геморрагическая лихорадка Эбола\n",
      "156\n",
      "92\n",
      "Вирус иммунодефицита человека\n",
      "163\n",
      "99\n",
      "Dota 2\n",
      "147\n",
      "71\n",
      "TikTok\n",
      "122\n",
      "55\n",
      "Марс\n",
      "228\n",
      "137\n",
      "YouTube\n",
      "65\n",
      "20\n",
      "Portal 2\n",
      "101\n",
      "57\n"
     ]
    }
   ],
   "source": [
    "from sentence_transformers import SentenceTransformer\n",
    "import razdel\n",
    "import json\n",
    "\n",
    "\n",
    "model = SentenceTransformer(\"sergeyzh/BERTA\")\n",
    "\n",
    "results = {}\n",
    "for name in wiki_bench.article_names:\n",
    "    page = wiki_bench.get_article(name, False, True)\n",
    "    section_to_sn = wiki_bench.wiki_evaluater.section_to_snippets(page)\n",
    "    count_article = 0\n",
    "    count_article_bad = 0\n",
    "    article_results = []\n",
    "    for section, text in page.filtered_outline.items():\n",
    "        if not text:\n",
    "            continue\n",
    "        count = 0\n",
    "        count_bad = 0\n",
    "        count_good = 0\n",
    "        article_sents = [t.text for t in razdel.sentenize(text)]\n",
    "        article_sents = model.encode(article_sents, normalize_embs=True)\n",
    "        for i, sn in enumerate(section_to_sn[section]):\n",
    "            snippet = sn[1]\n",
    "            count += 1\n",
    "            snippet_sents = [t.text for t in razdel.sentenize(snippet)]\n",
    "            snippet_sents = model.encode(snippet_sents, normalize_embs=True)\n",
    "            max_sim = article_sents @ snippet_sents.T\n",
    "            max_sim = max_sim.max()\n",
    "            article_results.append({\n",
    "                'section': section,\n",
    "                'snippet_index': i,\n",
    "                'max_sim': float(max_sim)\n",
    "            })\n",
    "            if max_sim > 0.55:\n",
    "                count_good += 1\n",
    "            else:\n",
    "                count_bad += 1\n",
    "        count_article += count\n",
    "        count_article_bad += count_bad\n",
    "        #print('For section: ', section)\n",
    "        #print('All: ', count)\n",
    "        #print('Bad: ', count_bad)\n",
    "    results[name] = {\n",
    "        'total_snippets': count_article,\n",
    "        'bad_snippets': count_article_bad,\n",
    "        'details': article_results\n",
    "    }\n",
    "    print(name)\n",
    "    print(count_article)\n",
    "    print(count_article_bad)\n",
    "\n",
    "with open('max_sim_results.json', 'w', encoding='utf-8') as f:\n",
    "    json.dump(results, f, indent=4, ensure_ascii=False)"
   ]
  },
  {
   "cell_type": "code",
   "execution_count": 22,
   "id": "1cd1393b-1919-4766-b1a5-4bf495b50465",
   "metadata": {
    "collapsed": true,
    "jupyter": {
     "outputs_hidden": true
    }
   },
   "outputs": [
    {
     "data": {
      "image/png": "[encoded data removed]",
      "text/plain": [
       "<Figure size 1000x600 with 1 Axes>"
      ]
     },
     "metadata": {},
     "output_type": "display_data"
    }
   ],
   "source": [
    "import json\n",
    "import matplotlib.pyplot as plt\n",
    "\n",
    "with open('max_sim_results.json', 'r', encoding='utf-8') as f:\n",
    "    results = json.load(f)\n",
    "\n",
    "all_max_sim = []\n",
    "for article in results.values():\n",
    "    for detail in article['details']:\n",
    "        all_max_sim.append(detail['max_sim'])\n",
    "\n",
    "plt.figure(figsize=(10, 6))\n",
    "plt.hist(all_max_sim, bins=50, color = 'cyan', edgecolor='black')\n",
    "plt.title('Сходство сниппетов и текста статьи')\n",
    "plt.xlabel('Максимальное сходство(косинус)')\n",
    "plt.ylabel('Количество сниппетов')\n",
    "plt.grid(False)\n",
    "plt.show()"
   ]
  },
  {
   "cell_type": "code",
   "execution_count": 6,
   "id": "7c72c116-ea70-4757-9e9b-f97760d26435",
   "metadata": {
    "collapsed": true,
    "jupyter": {
     "outputs_hidden": true
    },
    "scrolled": true
   },
   "outputs": [
    {
     "name": "stdout",
     "output_type": "stream",
     "text": [
      "Python\n",
      "found snippets:  784\n",
      "emb len:  784\n",
      "Count of emb ids:  76\n",
      "Downloaded docs:  {'cite_note-_995b6156384c43a7-16': 1, 'cite_note-AutoNT-2-10': 2, 'cite_note-effbot-call-by-object-9': 3, 'cite_note-_d0f8d8a689287635-17': 4, 'cite_note-98-interview-5': 5, 'cite_note-faq-created-3': 6, 'cite_note-_8406e6c0afbf6fdf-18': 7, 'cite_note-_31adfebf6a01c187-15': 8, 'cite_note-_cc32a279a63274a3-20': 9, 'cite_note-_557c9342431fdc2d-1': 10, 'cite_note-AutoNT-4-12': 11, 'cite_note-28': 12, 'cite_note-python-8468-42': 13, 'cite_note-35': 14, 'cite_note-AutoNT-5-13': 15, 'cite_note-39': 16, 'cite_note-38': 17, 'cite_note-:1-27': 18, 'cite_note-classmix-8': 19, 'cite_note-AutoNT-24-51': 20, 'cite_note-_121bab8024e9d28f-19': 21, 'cite_note-56': 22, 'cite_note-50': 23, 'cite_note-:10-45': 24, 'cite_note-55': 25, 'cite_note-AutoNT-3-11': 26, 'cite_note-:14-47': 27, 'cite_note-_82f3fb81aba07547-22': 28, 'cite_note-48': 29, 'cite_note-AutoNT-59-59': 30, 'cite_note-foreword-81': 31, 'cite_note-76': 32, 'cite_note-57': 33, 'cite_note-83': 34, 'cite_note-72': 35, 'cite_note-:6-84': 36, 'cite_note-69': 37, 'cite_note-AutoNT-19-65': 38, 'cite_note-pep0237-77': 39, 'cite_note-AutoNT-15-85': 40, 'cite_note-:5-43': 41, 'cite_note-91': 42, 'cite_note-73': 43, 'cite_note-82': 44, 'cite_note-Reference_counting-58': 45, 'cite_note-:16-89': 46, 'cite_note-116': 47, 'cite_note-118': 48, 'cite_note-_41c7665e9753f4af-21': 49, 'cite_note-106': 50, 'cite_note-129': 51, 'cite_note-135': 52, 'cite_note-127': 53, 'cite_note-125': 54, 'cite_note-155': 55, 'cite_note-153': 56, 'cite_note-102': 57, 'cite_note-:17-132': 58, 'cite_note-71': 59, 'cite_note-158': 60, 'cite_note-139': 61, 'cite_note-159': 62, 'cite_note-171': 63, 'cite_note-92': 64, 'cite_note-172': 65, 'cite_note-136': 66, 'cite_note-178': 67, 'cite_note-151': 68, 'cite_note-150': 69, 'cite_note-185': 70, 'cite_note-165': 71, 'cite_note-194': 72, 'cite_note-pyrex-181': 73, 'cite_note-78': 74, 'cite_note-202': 75, 'cite_note-204': 76}\n",
      "Found hints:  9\n",
      "Летние Олимпийские игры 2024\n",
      "found snippets:  76\n",
      "emb len:  76\n",
      "Count of emb ids:  39\n",
      "Downloaded docs:  {'cite_note-6': 1, 'cite_note-16': 2, 'cite_note-30': 3, 'cite_note-5': 4, 'cite_note-15': 5, 'cite_note-guardian-mascot-9': 6, 'cite_note-42': 7, 'cite_note-не_рады-41': 8, 'cite_note-logo-wp-7': 9, 'cite_note-34': 10, 'cite_note-51': 11, 'cite_note-40': 12, 'cite_note-37': 13, 'cite_note-39': 14, 'cite_note-38': 15, 'cite_note-48': 16, 'cite_note-4': 17, 'cite_note-33': 18, 'cite_note-52': 19, 'cite_note-53': 20, 'cite_note-47': 21, 'cite_note-54': 22, 'cite_note-59': 23, 'cite_note-56': 24, 'cite_note-57': 25, 'cite_note-83': 26, 'cite_note-81': 27, 'cite_note-85': 28, 'cite_note-86': 29, 'cite_note-78': 30, 'cite_note-63': 31, 'cite_note-88': 32, 'cite_note-89': 33, 'cite_note-87': 34, 'cite_note-90': 35, 'cite_note-96': 36, 'cite_note-95': 37, 'cite_note-98': 38, 'cite_note-97': 39}\n",
      "Found hints:  8\n",
      "Квантовый компьютер\n",
      "found snippets:  84\n",
      "emb len:  84\n",
      "Count of emb ids:  27\n",
      "Downloaded docs:  {'cite_note-18': 1, 'cite_note-16': 2, 'cite_note-:0-2': 3, 'cite_note-Google-AI-11': 4, 'cite_note-autogenerated1-17': 5, 'cite_note-15': 6, 'cite_note-21': 7, 'cite_note-3': 8, 'cite_note-23': 9, 'cite_note-24': 10, 'cite_note-Opt2-29': 11, 'cite_note-35': 12, 'cite_note-n1-53qubit2017-42': 13, 'cite_note-43': 14, 'cite_note-39': 15, 'cite_note-46': 16, 'cite_note-Zeilinger-8': 17, 'cite_note-48': 18, 'cite_note-45': 19, 'cite_note-business-51': 20, 'cite_note-58': 21, 'cite_note-60': 22, 'cite_note-64': 23, 'cite_note-49': 24, 'cite_note-53': 25, 'cite_note-52': 26, 'cite_note-63': 27}\n",
      "Found hints:  3\n",
      "Присоединение Крыма к Российской Федерации\n",
      "found snippets:  118\n",
      "emb len:  118\n",
      "Count of emb ids:  20\n",
      "Downloaded docs:  {'cite_note-2': 1, 'cite_note-17': 2, 'cite_note-29': 3, 'cite_note-8': 4, 'cite_note-1': 5, 'cite_note-26': 6, 'cite_note-7': 7, 'cite_note-30': 8, 'cite_note-28': 9, 'cite_note-6': 10, 'cite_note-10': 11, 'cite_note-5': 12, 'cite_note-21': 13, 'cite_note-43': 14, 'cite_note-39': 15, 'cite_note-44': 16, 'cite_note-16': 17, 'cite_note-13': 18, 'cite_note-:0-38': 19, 'cite_note-31': 20}\n",
      "Found hints:  4\n",
      "Сколково (инновационный центр)\n",
      "found snippets:  520\n",
      "emb len:  520\n",
      "Count of emb ids:  156\n",
      "Downloaded docs:  {'cite_note-закон2019-тасс-4': 1, 'cite_note-33': 2, 'cite_note-komm940-3': 3, 'cite_note-kommersant1-30': 4, 'cite_note-20': 5, 'cite_note-23': 6, 'cite_note-42': 7, 'cite_note-22': 8, 'cite_note-6': 9, 'cite_note-37': 10, 'cite_note-НиЖ-48': 11, 'cite_note-47': 12, 'cite_note-32': 13, 'cite_note-54': 14, 'cite_note-45': 15, 'cite_note-53': 16, 'cite_note-38': 17, 'cite_note-31': 18, 'cite_note-40': 19, 'cite_note-10': 20, 'cite_note-BFM-63': 21, 'cite_note-72': 22, 'cite_note-65': 23, 'cite_note-68': 24, 'cite_note-75': 25, 'cite_note-73': 26, 'cite_note-78': 27, 'cite_note-61': 28, 'cite_note-82': 29, 'cite_note-77': 30, 'cite_note-69': 31, 'cite_note-70': 32, 'cite_note-76': 33, 'cite_note-87': 34, 'cite_note-84': 35, 'cite_note-85': 36, 'cite_note-93': 37, 'cite_note-90': 38, 'cite_note-88': 39, 'cite_note-92': 40, 'cite_note-83': 41, 'cite_note-Skolkovo_Ventures-96': 42, 'cite_note-whathappened-74': 43, 'cite_note-97': 44, 'cite_note-104': 45, 'cite_note-98': 46, 'cite_note-89': 47, 'cite_note-100': 48, 'cite_note-99': 49, 'cite_note-110': 50, 'cite_note-19': 51, 'cite_note-:4-113': 52, 'cite_note-122': 53, 'cite_note-MSokolov-29': 54, 'cite_note-131': 55, 'cite_note-gazeta_plan-124': 56, 'cite_note-medved2904210-128': 57, 'cite_note-Анкудиновка-112': 58, 'cite_note-133': 59, 'cite_note-109': 60, 'cite_note-130': 61, 'cite_note-111': 62, 'cite_note-107': 63, 'cite_note-108': 64, 'cite_note-140': 65, 'cite_note-115': 66, 'cite_note-102': 67, 'cite_note-141': 68, 'cite_note-114': 69, 'cite_note-:5-119': 70, 'cite_note-116': 71, 'cite_note-Skolkovo1-150': 72, 'cite_note-134': 73, 'cite_note-137': 74, 'cite_note-152': 75, 'cite_note-154': 76, 'cite_note-143': 77, 'cite_note-144': 78, 'cite_note-145': 79, 'cite_note-16': 80, 'cite_note-147': 81, 'cite_note-172': 82, 'cite_note-148': 83, 'cite_note-163': 84, 'cite_note-157': 85, 'cite_note-Степанов-158': 86, 'cite_note-Review-175': 87, 'cite_note-Девятьяров-165': 88, 'cite_note-173': 89, 'cite_note-169': 90, 'cite_note-198': 91, 'cite_note-193': 92, 'cite_note-183': 93, 'cite_note-Иванова-189': 94, 'cite_note-196': 95, 'cite_note-191': 96, 'cite_note-:1-180': 97, 'cite_note-Ляликова-202': 98, 'cite_note-пресс-тур-192': 99, 'cite_note-Степанов-10лет-205': 100, 'cite_note-218': 101, 'cite_note-224': 102, 'cite_note-215': 103, 'cite_note-214': 104, 'cite_note-219': 105, 'cite_note-200': 106, 'cite_note-220': 107, 'cite_note-217': 108, 'cite_note-225': 109, 'cite_note-221': 110, 'cite_note-237': 111, 'cite_note-228': 112, 'cite_note-238': 113, 'cite_note-234': 114, 'cite_note-210': 115, 'cite_note-230': 116, 'cite_note-236': 117, 'cite_note-247': 118, 'cite_note-240': 119, 'cite_note-242': 120, 'cite_note-245': 121, 'cite_note-243': 122, 'cite_note-252': 123, 'cite_note-235': 124, 'cite_note-260': 125, 'cite_note-259': 126, 'cite_note-249': 127, 'cite_note-251': 128, 'cite_note-forbs22032010-258': 129, 'cite_note-117': 130, 'cite_note-273': 131, 'cite_note-Билевская-281': 132, 'cite_note-279': 133, 'cite_note-272': 134, 'cite_note-266': 135, 'cite_note-286': 136, 'cite_note-284': 137, 'cite_note-289': 138, 'cite_note-294': 139, 'cite_note-Левинский-295': 140, 'cite_note-296': 141, 'cite_note-Мещеряков-299': 142, 'cite_note-304': 143, 'cite_note-305': 144, 'cite_note-268': 145, 'cite_note-307': 146, 'cite_note-rbc2013-301': 147, 'cite_note-264': 148, 'cite_note-303': 149, 'cite_note-308': 150, 'cite_note-309': 151, 'cite_note-310': 152, 'cite_note-Осипов,_Баданин-313': 153, 'cite_note-Винокурова-314': 154, 'cite_note-Сурков-отставка-315': 155, 'cite_note-277': 156}\n",
      "Found hints:  5\n",
      "Tomb Raider (игра, 2013)\n",
      "found snippets:  241\n",
      "emb len:  241\n",
      "Count of emb ids:  68\n",
      "Downloaded docs:  {'cite_note-prew_pg-36': 1, 'cite_note-dee-7': 2, 'cite_note-gwprew-28': 3, 'cite_note-dspy-43': 4, 'cite_note-achivki-35': 5, 'cite_note-mystery-55': 6, 'cite_note-ignrew-44': 7, 'cite_note-ggg-66': 8, 'cite_note-no_exp-92': 9, 'cite_note-scrennload-98': 10, 'cite_note-chastsujeta2-81': 11, 'cite_note-hitman-39': 12, 'cite_note-rezon-95': 13, 'cite_note-mishel-103': 14, 'cite_note-vliania_mnogo-26': 15, 'cite_note-tech-114': 16, 'cite_note-barlog2-122': 17, 'cite_note-144': 18, 'cite_note-140': 19, 'cite_note-148': 20, 'cite_note-iter-154': 21, 'cite_note-znak-155': 22, 'cite_note-setb-174': 23, 'cite_note-rprl20-164': 24, 'cite_note-uncharted-177': 25, 'cite_note-kammilka3-170': 26, 'cite_note-refilm-180': 27, 'cite_note-hollywood-150': 28, 'cite_note-refilm2-181': 29, 'cite_note-hlikl-172': 30, 'cite_note-vge3anons-207': 31, 'cite_note-kot_digital-214': 32, 'cite_note-chehol-215': 33, 'cite_note-zaiavil-213': 34, 'cite_note-otklad3-253': 35, 'cite_note-naturalevolution-254': 36, 'cite_note-bla-271': 37, 'cite_note-288': 38, 'cite_note-287': 39, 'cite_note-all-258': 40, 'cite_note-ispitaniya-320': 41, 'cite_note-295': 42, 'cite_note-rape-328': 43, 'cite_note-holywar-330': 44, 'cite_note-themeforadult-332': 45, 'cite_note-bliat-281': 46, 'cite_note-fearr-335': 47, 'cite_note-337': 48, 'cite_note-glubina-331': 49, 'cite_note-guardrew-340': 50, 'cite_note-339': 51, 'cite_note-girew-338': 52, 'cite_note-eurogrew-354': 53, 'cite_note-pgrew-351': 54, 'cite_note-pcgamer-361': 55, 'cite_note-edewoger-362': 56, 'cite_note-trs-306': 57, 'cite_note-newmaterial-372': 58, 'cite_note-366': 59, 'cite_note-grrew-364': 60, 'cite_note-325': 61, 'cite_note-ogovoril-334': 62, 'cite_note-gsrew-359': 63, 'cite_note-fkjlhj-352': 64, 'cite_note-hrep90b-387': 65, 'cite_note-ofanon-244': 66, 'cite_note-igropods-56': 67, 'cite_note-sirew-42': 68}\n",
      "Found hints:  3\n",
      "Чёрная дыра\n",
      "found snippets:  252\n",
      "emb len:  252\n",
      "Count of emb ids:  35\n",
      "Downloaded docs:  {'cite_note-Kaufman11-30': 1, 'cite_note-_9a6a54435ff22470-28': 2, 'cite_note-bh2-41': 3, 'cite_note-11': 4, 'cite_note-35': 5, 'cite_note-2': 6, 'cite_note-9': 7, 'cite_note-_656a5786026dce5f-46': 8, 'cite_note-51': 9, 'cite_note-63': 10, 'cite_note-54': 11, 'cite_note-47': 12, 'cite_note-62': 13, 'cite_note-Levin-7': 14, 'cite_note-68': 15, 'cite_note-NKJ201905-89': 16, 'cite_note-91': 17, 'cite_note-Hawking1974-33': 18, 'cite_note-90': 19, 'cite_note-80': 20, 'cite_note-2009_Gillessen-85': 21, 'cite_note-84': 22, 'cite_note-92': 23, 'cite_note-74': 24, 'cite_note-97': 25, 'cite_note-110': 26, 'cite_note-106': 27, 'cite_note-111': 28, 'cite_note-96': 29, 'cite_note-Gross-40': 30, 'cite_note-64': 31, 'cite_note-99': 32, 'cite_note-60': 33, 'cite_note-104': 34, 'cite_note-GRA21-66': 35}\n",
      "Found hints:  9\n",
      "Экономика США\n",
      "found snippets:  62\n",
      "emb len:  62\n",
      "Count of emb ids:  25\n",
      "Downloaded docs:  {'cite_note-28': 1, 'cite_note-26': 2, 'cite_note-25': 3, 'cite_note-31': 4, 'cite_note-16': 5, 'cite_note-29': 6, 'cite_note-34': 7, 'cite_note-2': 8, 'cite_note-48': 9, 'cite_note-39': 10, 'cite_note-54': 11, 'cite_note-56': 12, 'cite_note-52': 13, 'cite_note-62': 14, 'cite_note-53': 15, 'cite_note-41': 16, 'cite_note-50': 17, 'cite_note-22': 18, 'cite_note-61': 19, 'cite_note-83': 20, 'cite_note-97': 21, 'cite_note-99': 22, 'cite_note-98': 23, 'cite_note-113': 24, 'cite_note-115': 25}\n",
      "Found hints:  7\n",
      "Искусственный интеллект\n",
      "found snippets:  221\n",
      "emb len:  221\n",
      "Count of emb ids:  37\n",
      "Downloaded docs:  {'cite_note-15': 1, 'cite_note-22': 2, 'cite_note-20': 3, 'cite_note-18': 4, 'cite_note-36': 5, 'cite_note-23': 6, 'cite_note-21': 7, 'cite_note-40': 8, 'cite_note-45': 9, 'cite_note-6': 10, 'cite_note-47': 11, 'cite_note-48': 12, 'cite_note-50': 13, 'cite_note-58': 14, 'cite_note-57': 15, 'cite_note-59': 16, 'cite_note-72': 17, 'cite_note-61': 18, 'cite_note-TASSFSIN-89': 19, 'cite_note-84': 20, 'cite_note-90': 21, 'cite_note-81': 22, 'cite_note-80': 23, 'cite_note-83': 24, 'cite_note-78': 25, 'cite_note-96': 26, 'cite_note-111': 27, 'cite_note-112': 28, 'cite_note-105': 29, 'cite_note-114': 30, 'cite_note-118': 31, 'cite_note-93': 32, 'cite_note-119': 33, 'cite_note-116': 34, 'cite_note-120': 35, 'cite_note-73': 36, 'cite_note-108': 37}\n",
      "Found hints:  5\n",
      "COVID-19\n",
      "found snippets:  546\n",
      "emb len:  546\n",
      "Count of emb ids:  90\n",
      "Downloaded docs:  {'cite_note-:79-1': 1, 'cite_note-31': 2, 'cite_note-17': 3, 'cite_note-14': 4, 'cite_note-:18-27': 5, 'cite_note-:54-23': 6, 'cite_note-50': 7, 'cite_note-19': 8, 'cite_note-49': 9, 'cite_note-15': 10, 'cite_note-16': 11, 'cite_note-34': 12, 'cite_note-:44-56': 13, 'cite_note-51': 14, 'cite_note-35': 15, 'cite_note-:76-24': 16, 'cite_note-:72-10': 17, 'cite_note-67': 18, 'cite_note-70': 19, 'cite_note-69': 20, 'cite_note-:70-64': 21, 'cite_note-:67-43': 22, 'cite_note-81': 23, 'cite_note-:35-88': 24, 'cite_note-101': 25, 'cite_note-:39-42': 26, 'cite_note-26': 27, 'cite_note-:81-123': 28, 'cite_note-72': 29, 'cite_note-:71-66': 30, 'cite_note-137': 31, 'cite_note-141': 32, 'cite_note-:38-109': 33, 'cite_note-150': 34, 'cite_note-136': 35, 'cite_note-:46-100': 36, 'cite_note-140': 37, 'cite_note-133': 38, 'cite_note-122': 39, 'cite_note-144': 40, 'cite_note-170': 41, 'cite_note-130': 42, 'cite_note-:21-135': 43, 'cite_note-147': 44, 'cite_note-132': 45, 'cite_note-125': 46, 'cite_note-189': 47, 'cite_note-158': 48, 'cite_note-:12-167': 49, 'cite_note-160': 50, 'cite_note-205': 51, 'cite_note-202': 52, 'cite_note-:65-187': 53, 'cite_note-192': 54, 'cite_note-:59-87': 55, 'cite_note-218': 56, 'cite_note-221': 57, 'cite_note-224': 58, 'cite_note-222': 59, 'cite_note-206': 60, 'cite_note-213': 61, 'cite_note-214': 62, 'cite_note-226': 63, 'cite_note-143': 64, 'cite_note-:16-210': 65, 'cite_note-:28-172': 66, 'cite_note-183': 67, 'cite_note-209': 68, 'cite_note-249': 69, 'cite_note-:75-248': 70, 'cite_note-234': 71, 'cite_note-227': 72, 'cite_note-:36-243': 73, 'cite_note-:6-190': 74, 'cite_note-:24-250': 75, 'cite_note-191': 76, 'cite_note-:52-246': 77, 'cite_note-245': 78, 'cite_note-english_version-244': 79, 'cite_note-223': 80, 'cite_note-GUAR-255': 81, 'cite_note-:83-257': 82, 'cite_note-232': 83, 'cite_note-229': 84, 'cite_note-239': 85, 'cite_note-198': 86, 'cite_note-:78-237': 87, 'cite_note-:74-247': 88, 'cite_note-62': 89, 'cite_note-173': 90}\n",
      "Found hints:  15\n",
      "Применение искусственного интеллекта\n",
      "found snippets:  415\n",
      "emb len:  415\n",
      "Count of emb ids:  82\n",
      "Downloaded docs:  {'cite_note-31': 1, 'cite_note-13': 2, 'cite_note-23': 3, 'cite_note-34': 4, 'cite_note-36': 5, 'cite_note-30': 6, 'cite_note-55': 7, 'cite_note-47': 8, 'cite_note-3': 9, 'cite_note-81': 10, 'cite_note-52': 11, 'cite_note-57': 12, 'cite_note-66': 13, 'cite_note-21': 14, 'cite_note-61': 15, 'cite_note-82': 16, 'cite_note-87': 17, 'cite_note-85': 18, 'cite_note-65': 19, 'cite_note-92': 20, 'cite_note-24': 21, 'cite_note-113': 22, 'cite_note-100': 23, 'cite_note-125': 24, 'cite_note-120': 25, 'cite_note-121': 26, 'cite_note-economist20201130-123': 27, 'cite_note-122': 28, 'cite_note-147': 29, 'cite_note-130': 30, 'cite_note-2022-07-biologist-132': 31, 'cite_note-141': 32, 'cite_note-54': 33, 'cite_note-156': 34, 'cite_note-154': 35, 'cite_note-151': 36, 'cite_note-168': 37, 'cite_note-173': 38, 'cite_note-131': 39, 'cite_note-134': 40, 'cite_note-116': 41, 'cite_note-158': 42, 'cite_note-esaai-185': 43, 'cite_note-182': 44, 'cite_note-157': 45, 'cite_note-184': 46, 'cite_note-171': 47, 'cite_note-195': 48, 'cite_note-194': 49, 'cite_note-196': 50, 'cite_note-199': 51, 'cite_note-193': 52, 'cite_note-192': 53, 'cite_note-161': 54, 'cite_note-197': 55, 'cite_note-10.1007/s42438-018-0007-6-162': 56, 'cite_note-203': 57, 'cite_note-152': 58, 'cite_note-200': 59, 'cite_note-213': 60, 'cite_note-advancedsciencenews.com/an-artific-215': 61, 'cite_note-225': 62, 'cite_note-nasaai-179': 63, 'cite_note-:3-231': 64, 'cite_note-239': 65, 'cite_note-236': 66, 'cite_note-230': 67, 'cite_note-247': 68, 'cite_note-243': 69, 'cite_note-242': 70, 'cite_note-245': 71, 'cite_note-wpdp-257': 72, 'cite_note-250': 73, 'cite_note-248': 74, 'cite_note-219': 75, 'cite_note-259': 76, 'cite_note-249': 77, 'cite_note-261': 78, 'cite_note-262': 79, 'cite_note-chrome-webstore-fake-news-debunker-256': 80, 'cite_note-229': 81, 'cite_note-98': 82}\n",
      "Found hints:  9\n",
      "РИА Новости\n",
      "found snippets:  85\n",
      "emb len:  85\n",
      "Count of emb ids:  35\n",
      "Downloaded docs:  {'cite_note-7': 1, 'cite_note-22': 2, 'cite_note-3': 3, 'cite_note-21': 4, 'cite_note-15': 5, 'cite_note-2': 6, 'cite_note-5': 7, 'cite_note-6': 8, 'cite_note-20': 9, 'cite_note-29': 10, 'cite_note-пу-30': 11, 'cite_note-autogenerated5-11': 12, 'cite_note-autogenerated2-10': 13, 'cite_note-8': 14, 'cite_note-1': 15, 'cite_note-33': 16, 'cite_note-38': 17, 'cite_note-28': 18, 'cite_note-34': 19, 'cite_note-35': 20, 'cite_note-37': 21, 'cite_note-39': 22, 'cite_note-27': 23, 'cite_note-47': 24, 'cite_note-36': 25, 'cite_note-44': 26, 'cite_note-55': 27, 'cite_note-45': 28, 'cite_note-67': 29, 'cite_note-59': 30, 'cite_note-69': 31, 'cite_note-:0-77': 32, 'cite_note-81': 33, 'cite_note-78': 34, 'cite_note-79': 35}\n",
      "Found hints:  3\n",
      "Uncharted 4: A Thief’s End\n",
      "found snippets:  143\n",
      "emb len:  143\n",
      "Count of emb ids:  27\n",
      "Downloaded docs:  {'cite_note-20': 1, 'cite_note-18': 2, 'cite_note-Amy_Hennig_joins_Visceral_Games_to_work_on_Star_Wars_IP-14': 3, 'cite_note-Sony_lay-offs_explained_by_insider,_Hennig_left_Naughty_Dog_due_to_Uncharted_4_creative_differences_–_rumour-16': 4, 'cite_note-9': 5, 'cite_note-24': 6, 'cite_note-33': 7, 'cite_note-38': 8, 'cite_note-46': 9, 'cite_note-42': 10, 'cite_note-39': 11, 'cite_note-48': 12, 'cite_note-35': 13, 'cite_note-44': 14, 'cite_note-53': 15, 'cite_note-37': 16, 'cite_note-55': 17, 'cite_note-52': 18, 'cite_note-66': 19, 'cite_note-71': 20, 'cite_note-69': 21, 'cite_note-70': 22, 'cite_note-65': 23, 'cite_note-78': 24, 'cite_note-73': 25, 'cite_note-76': 26, 'cite_note-61': 27}\n",
      "Found hints:  4\n",
      "Экономика КНР\n",
      "found snippets:  243\n",
      "emb len:  243\n",
      "Count of emb ids:  65\n",
      "Downloaded docs:  {'cite_note-автоссылка8-6': 1, 'cite_note-15': 2, 'cite_note-8': 3, 'cite_note-12': 4, 'cite_note-11': 5, 'cite_note-30': 6, 'cite_note-автоссылка10-27': 7, 'cite_note-34': 8, 'cite_note-35': 9, 'cite_note-38': 10, 'cite_note-41': 11, 'cite_note-42': 12, 'cite_note-44': 13, 'cite_note-47': 14, 'cite_note-50': 15, 'cite_note-54': 16, 'cite_note-25': 17, 'cite_note-31': 18, 'cite_note-FAO-67': 19, 'cite_note-49': 20, 'cite_note-86': 21, 'cite_note-89': 22, 'cite_note-78': 23, 'cite_note-84': 24, 'cite_note-91': 25, 'cite_note-102': 26, 'cite_note-96': 27, 'cite_note-72': 28, 'cite_note-95': 29, 'cite_note-74': 30, 'cite_note-88': 31, 'cite_note-105': 32, 'cite_note-93': 33, 'cite_note-114': 34, 'cite_note-britannica-70': 35, 'cite_note-119': 36, 'cite_note-118': 37, 'cite_note-121': 38, 'cite_note-128': 39, 'cite_note-132': 40, 'cite_note-133': 41, 'cite_note-135': 42, 'cite_note-131': 43, 'cite_note-124': 44, 'cite_note-136': 45, 'cite_note-157': 46, 'cite_note-94': 47, 'cite_note-160': 48, 'cite_note-159': 49, 'cite_note-chinamiddle-164': 50, 'cite_note-76': 51, 'cite_note-68': 52, 'cite_note-169': 53, 'cite_note-148': 54, 'cite_note-100': 55, 'cite_note-174': 56, 'cite_note-103': 57, 'cite_note-170': 58, 'cite_note-167': 59, 'cite_note-173': 60, 'cite_note-автоссылка2-149': 61, 'cite_note-175': 62, 'cite_note-автоссылка6-162': 63, 'cite_note-101': 64, 'cite_note-163': 65}\n",
      "Found hints:  12\n",
      "Иннополис\n",
      "found snippets:  162\n",
      "emb len:  162\n",
      "Count of emb ids:  45\n",
      "Downloaded docs:  {'cite_note-2012.project.kommerant-13': 1, 'cite_note-elizavetino.cnews-23': 2, 'cite_note-city.tass-28': 3, 'cite_note-2010.project.kommerant-12': 4, 'cite_note-foundation.ria-18': 5, 'cite_note-elizavetino2.kommerant-25': 6, 'cite_note-elizavetino1.kommerant-24': 7, 'cite_note-4': 8, 'cite_note-rif.lenta-33': 9, 'cite_note-name.tatcenter-15': 10, 'cite_note-numbers.vedomosti-16': 11, 'cite_note-not.elizavetino.tatarinform-27': 12, 'cite_note-opening.kommersant-29': 13, 'cite_note-open2015.rbc-31': 14, 'cite_note-112015.rbc-32': 15, 'cite_note-structure.cnews-53': 16, 'cite_note-mayor.business-52': 17, 'cite_note-houses.rv-57': 18, 'cite_note-houses.rbc-56': 19, 'cite_note-citizenname.business-37': 20, 'cite_note-mayor-out.business-46': 21, 'cite_note-houses3.rv-59': 22, 'cite_note-houses2.rv-58': 23, 'cite_note-100.rbc-62': 24, 'cite_note-65': 25, 'cite_note-eivanov.business-51': 26, 'cite_note-100.rv-63': 27, 'cite_note-83': 28, 'cite_note-example-92': 29, 'cite_note-megafon.cnews-75': 30, 'cite_note-gas.rbc-72': 31, 'cite_note-name.business-35': 32, 'cite_note-economyzone.regnum-90': 33, 'cite_note-67': 34, 'cite_note-96': 35, 'cite_note-air.rv-81': 36, 'cite_note-how.rusbase-82': 37, 'cite_note-economyzone.kommersant-94': 38, 'cite_note-107': 39, 'cite_note-about2016.kommersant-100': 40, 'cite_note-economyzone.scimag-95': 41, 'cite_note-97': 42, 'cite_note-school.tatarinform-104': 43, 'cite_note-2014.business-102': 44, 'cite_note-parks.rbc-110': 45}\n",
      "Found hints:  4\n",
      "Летние Олимпийские игры 2020\n",
      "found snippets:  50\n",
      "emb len:  50\n",
      "Count of emb ids:  10\n",
      "Downloaded docs:  {'cite_note-28': 1, 'cite_note-3': 2, 'cite_note-CAS-31': 3, 'cite_note-38': 4, 'cite_note-37': 5, 'cite_note-39': 6, 'cite_note-LATimes24032020-9': 7, 'cite_note-103': 8, 'cite_note-100': 9, 'cite_note-89': 10}\n",
      "Found hints:  4\n",
      "Солнечная система\n",
      "found snippets:  260\n",
      "emb len:  260\n",
      "Count of emb ids:  32\n",
      "Downloaded docs:  {\"cite_note-Period_of_the_Sun's_Orbit_around_the_Galaxy_(Cosmic_Year)-12\": 1, 'cite_note-How_fast_is_Earth_moving?-13': 2, 'cite_note-Astronomers_Had_it_Wrong:_Most_Stars_are_Single-43': 3, 'cite_note-Solar_System_Facts-26': 4, 'cite_note-Солнечная_система-59': 5, 'cite_note-Поверхность_Венеры-62': 6, 'cite_note-Esa_scientist_discovers_a_way_to_shortlist_stars_that_might_have_planets-57': 7, 'cite_note-Поверхность_Марса-61': 8, 'cite_note-New_study_reveals_twice_as_many_asteroids_as_previously_believed-79': 9, 'cite_note-Mercury_Facts-66': 10, 'cite_note-Dwarf_Planets_and_their_Systems-31': 11, 'cite_note-Spectral_classification-14': 12, 'cite_note-Planet_Found_in_Nearest_Star_System_to_Earth-4': 13, 'cite_note-Caltech_Researchers_Find_Evidence_of_a_Real_Ninth_Planet-93': 14, 'cite_note-New_evidence_suggests_a_ninth_planet_lurking_at_the_edge_of_the_solar_system-94': 15, 'cite_note-Вояджеры_нашли_на_границе_Солнечной_системы_магнитные_пузыри-127': 16, 'cite_note-The_1000_km_Scale_KBOs-116': 17, 'cite_note-Orbit_Fit_and_Astrometric_record_for_136472-111': 18, \"cite_note-Composition_of_Earth's_Atmosphere-72\": 19, 'cite_note-Interstellar_space,_and_step_on_it!-126': 20, 'cite_note-Геоцентрическая_система_мира-153': 21, 'cite_note-The_Kuiper_Belt_and_The_Oort_Cloud-129': 22, 'cite_note-Science:_Fiery_future_for_planet_Earth-146': 23, 'cite_note-Sedna_-_2003_VB12-130': 24, 'cite_note-Dawn_at_Ceres-85': 25, 'cite_note-Dwarf_Planet_Makemake_Lacks_Atmosphere-139': 26, 'cite_note-Supernova_Explosion_May_Have_Caused_Mammoth_Extinction-184': 27, 'cite_note-IAUC_6764:_Sats_OF_URANUS-166': 28, 'cite_note-Большое_Магелланово_облако_может_выкинуть_Солнечную_систему_из_Млечного_Пути-187': 29, 'cite_note-IAUC_4168:_Sats_AND_RINGS_OF_URANUS;_CCO-165': 30, 'cite_note-Загадка_образования_астероидного_пояса_Койпера-115': 31, \"cite_note-A_study_of_the_original_orbits_of_``hyperbolic''_comets-98\": 32}\n",
      "Found hints:  4\n",
      "C++\n",
      "found snippets:  57\n",
      "emb len:  57\n",
      "Count of emb ids:  12\n",
      "Downloaded docs:  {'cite_note-21': 1, 'cite_note-23': 2, 'cite_note-8': 3, 'cite_note-22': 4, 'cite_note-32': 5, 'cite_note-sozd-14': 6, 'cite_note-20': 7, 'cite_note-bioinfartcl-28': 8, 'cite_note-12': 9, 'cite_note-19': 10, 'cite_note-62': 11, 'cite_note-55': 12}\n",
      "Found hints:  2\n",
      "Си (язык программирования)\n",
      "found snippets:  597\n",
      "emb len:  597\n",
      "Count of emb ids:  62\n",
      "Downloaded docs:  {'cite_note-13': 1, 'cite_note-:9-28': 2, 'cite_note-29': 3, 'cite_note-:10-27': 4, 'cite_note-:15-25': 5, 'cite_note-21': 6, 'cite_note-19': 7, 'cite_note-43': 8, 'cite_note-30': 9, 'cite_note-40': 10, 'cite_note-36': 11, 'cite_note-:7-20': 12, 'cite_note-:16-37': 13, 'cite_note-45': 14, 'cite_note-44': 15, 'cite_note-49': 16, 'cite_note-54': 17, 'cite_note-8': 18, 'cite_note-61': 19, 'cite_note-:12-62': 20, 'cite_note-63': 21, 'cite_note-:3-67': 22, 'cite_note-55': 23, 'cite_note-:13-59': 24, 'cite_note-72': 25, 'cite_note-:14-69': 26, 'cite_note-70': 27, 'cite_note-75': 28, 'cite_note-73': 29, 'cite_note-78': 30, 'cite_note-:4-68': 31, 'cite_note-64': 32, 'cite_note-6': 33, 'cite_note-34': 34, 'cite_note-82': 35, 'cite_note-7': 36, 'cite_note-87': 37, 'cite_note-92': 38, 'cite_note-:11-60': 39, 'cite_note-93': 40, 'cite_note-95': 41, 'cite_note-104': 42, 'cite_note-106': 43, 'cite_note-105': 44, 'cite_note-grb_cll-109': 45, 'cite_note-116': 46, 'cite_note-112': 47, 'cite_note-113': 48, 'cite_note-114': 49, 'cite_note-83': 50, 'cite_note-111': 51, 'cite_note-117': 52, 'cite_note-smart_ptr-108': 53, 'cite_note-:5-110': 54, 'cite_note-12': 55, 'cite_note-102': 56, 'cite_note-107': 57, 'cite_note-42': 58, 'cite_note-33': 59, 'cite_note-18': 60, 'cite_note-65': 61, 'cite_note-103': 62}\n",
      "Found hints:  4\n",
      "Сбербанк России\n",
      "found snippets:  217\n",
      "emb len:  217\n",
      "Count of emb ids:  103\n",
      "Downloaded docs:  {'cite_note-24': 1, 'cite_note-25': 2, 'cite_note-21': 3, 'cite_note-13': 4, 'cite_note-22': 5, 'cite_note-17': 6, 'cite_note-32': 7, 'cite_note-31': 8, 'cite_note-27': 9, 'cite_note-38': 10, 'cite_note-14': 11, 'cite_note-19': 12, 'cite_note-37': 13, 'cite_note-36': 14, 'cite_note-29': 15, 'cite_note-10': 16, 'cite_note-35': 17, 'cite_note-40': 18, 'cite_note-51': 19, 'cite_note-33': 20, 'cite_note-28': 21, 'cite_note-42': 22, 'cite_note-41': 23, 'cite_note-61': 24, 'cite_note-43': 25, 'cite_note-67': 26, 'cite_note-50': 27, 'cite_note-52': 28, 'cite_note-57': 29, 'cite_note-54': 30, 'cite_note-63': 31, 'cite_note-64': 32, 'cite_note-59': 33, 'cite_note-69': 34, 'cite_note-72': 35, 'cite_note-84': 36, 'cite_note-газ_12_2011-77': 37, 'cite_note-62': 38, 'cite_note-68': 39, 'cite_note-79': 40, 'cite_note-76': 41, 'cite_note-75': 42, 'cite_note-88': 43, 'cite_note-71': 44, 'cite_note-101': 45, 'cite_note-86': 46, 'cite_note-87': 47, 'cite_note-108': 48, 'cite_note-100': 49, 'cite_note-85': 50, 'cite_note-106': 51, 'cite_note-95': 52, 'cite_note-120': 53, 'cite_note-98': 54, 'cite_note-112': 55, 'cite_note-111': 56, 'cite_note-115': 57, 'cite_note-118': 58, 'cite_note-123': 59, 'cite_note-110': 60, 'cite_note-113': 61, 'cite_note-114': 62, 'cite_note-121': 63, 'cite_note-125': 64, 'cite_note-147': 65, 'cite_note-143': 66, 'cite_note-128': 67, 'cite_note-141': 68, 'cite_note-131': 69, 'cite_note-137': 70, 'cite_note-156': 71, 'cite_note-146': 72, 'cite_note-154': 73, 'cite_note-140': 74, 'cite_note-151': 75, 'cite_note-158': 76, 'cite_note-145': 77, 'cite_note-168': 78, 'cite_note-149': 79, 'cite_note-150': 80, 'cite_note-159': 81, 'cite_note-165': 82, 'cite_note-157': 83, 'cite_note-160': 84, 'cite_note-171': 85, 'cite_note-185': 86, 'cite_note-180': 87, 'cite_note-174': 88, 'cite_note-179': 89, 'cite_note-186': 90, 'cite_note-:2-182': 91, 'cite_note-183': 92, 'cite_note-190': 93, 'cite_note-187': 94, 'cite_note-201': 95, 'cite_note-188': 96, 'cite_note-202': 97, 'cite_note-:3-197': 98, 'cite_note-198': 99, 'cite_note-199': 100, 'cite_note-203': 101, 'cite_note-152': 102, 'cite_note-7': 103}\n",
      "Found hints:  10\n",
      "Чёрная смерть\n",
      "found snippets:  284\n",
      "emb len:  284\n",
      "Count of emb ids:  18\n",
      "Downloaded docs:  {'cite_note-6': 1, 'cite_note-81': 2, 'cite_note-97': 3, 'cite_note-Hecker-25': 4, 'cite_note-Zhukov-118': 5, 'cite_note-165': 6, 'cite_note-2': 7, 'cite_note-167': 8, 'cite_note-199': 9, 'cite_note-120': 10, 'cite_note-52': 11, 'cite_note-24': 12, 'cite_note-nature2022-7': 13, 'cite_note-birdsall-226': 14, 'cite_note-224': 15, 'cite_note-hunter-225': 16, 'cite_note-Kelly-208': 17, 'cite_note-Руссев-55': 18}\n",
      "Found hints:  8\n",
      "Яндекс\n",
      "found snippets:  134\n",
      "emb len:  134\n",
      "Count of emb ids:  50\n",
      "Downloaded docs:  {'cite_note-53': 1, 'cite_note-исторфорбс-26': 2, 'cite_note-44': 3, 'cite_note-51': 4, 'cite_note-15': 5, 'cite_note-45': 6, 'cite_note-55': 7, 'cite_note-64': 8, 'cite_note-63': 9, 'cite_note-58': 10, 'cite_note-67': 11, 'cite_note-уход-65': 12, 'cite_note-72': 13, 'cite_note-57': 14, 'cite_note-73': 15, 'cite_note-78': 16, 'cite_note-74': 17, 'cite_note-87': 18, 'cite_note-press_releases.20160328-84': 19, 'cite_note-25': 20, 'cite_note-81': 21, 'cite_note-бробанк-11': 22, 'cite_note-70': 23, 'cite_note-80': 24, 'cite_note-71': 25, 'cite_note-82': 26, 'cite_note-86': 27, 'cite_note-90': 28, 'cite_note-тинькофф-8': 29, 'cite_note-94': 30, 'cite_note-93': 31, 'cite_note-95': 32, 'cite_note-89': 33, 'cite_note-107': 34, 'cite_note-110': 35, 'cite_note-117': 36, 'cite_note-104': 37, 'cite_note-111': 38, 'cite_note-123': 39, 'cite_note-116': 40, 'cite_note-112': 41, 'cite_note-126': 42, 'cite_note-нашёл-138': 43, 'cite_note-129': 44, 'cite_note-yandex-3823-144': 45, 'cite_note-145': 46, 'cite_note-135': 47, 'cite_note-151': 48, 'cite_note-150': 49, 'cite_note-152': 50}\n",
      "Found hints:  4\n",
      "Google (компания)\n",
      "found snippets:  162\n",
      "emb len:  162\n",
      "Count of emb ids:  56\n",
      "Downloaded docs:  {'cite_note-6': 1, 'cite_note-_3dc6b86dd6616599-2': 2, 'cite_note-55': 3, 'cite_note-39': 4, 'cite_note-63': 5, 'cite_note-67': 6, 'cite_note-52': 7, 'cite_note-74': 8, 'cite_note-90': 9, 'cite_note-84': 10, 'cite_note-86': 11, 'cite_note-49': 12, 'cite_note-64': 13, 'cite_note-50': 14, 'cite_note-54': 15, 'cite_note-102': 16, 'cite_note-109': 17, 'cite_note-117': 18, 'cite_note-119': 19, 'cite_note-116': 20, 'cite_note-115': 21, 'cite_note-126': 22, 'cite_note-112': 23, 'cite_note-128': 24, 'cite_note-129': 25, 'cite_note-146': 26, 'cite_note-147': 27, 'cite_note-152': 28, 'cite_note-135': 29, 'cite_note-162': 30, 'cite_note-165': 31, 'cite_note-167': 32, 'cite_note-168': 33, 'cite_note-172': 34, 'cite_note-150': 35, 'cite_note-170': 36, 'cite_note-174': 37, 'cite_note-176': 38, 'cite_note-175': 39, 'cite_note-177': 40, 'cite_note-178': 41, 'cite_note-182': 42, 'cite_note-183': 43, 'cite_note-13': 44, 'cite_note-194': 45, 'cite_note-188': 46, 'cite_note-201': 47, 'cite_note-181': 48, 'cite_note-202': 49, 'cite_note-203': 50, 'cite_note-204': 51, 'cite_note-195': 52, 'cite_note-198': 53, 'cite_note-200': 54, 'cite_note-192': 55, 'cite_note-51': 56}\n",
      "Found hints:  5\n",
      "Большой адронный коллайдер\n",
      "found snippets:  56\n",
      "emb len:  56\n",
      "Count of emb ids:  24\n",
      "Downloaded docs:  {'cite_note-15': 1, 'cite_note-25': 2, 'cite_note-30': 3, 'cite_note-31': 4, 'cite_note-32': 5, 'cite_note-38': 6, 'cite_note-33': 7, 'cite_note-36': 8, 'cite_note-autogenerated4-17': 9, 'cite_note-3': 10, 'cite_note-29': 11, 'cite_note-10': 12, 'cite_note-20': 13, 'cite_note-CnetRestarts-27': 14, 'cite_note-autogenerated3-18': 15, 'cite_note-11': 16, 'cite_note-autogenerated1-71': 17, 'cite_note-90': 18, 'cite_note-80': 19, 'cite_note-72': 20, 'cite_note-higgsBoson-16': 21, 'cite_note-79': 22, 'cite_note-69': 23, 'cite_note-44': 24}\n",
      "Found hints:  1\n",
      "Геморрагическая лихорадка Эбола\n",
      "found snippets:  144\n",
      "emb len:  144\n",
      "Count of emb ids:  33\n",
      "Downloaded docs:  {'cite_note-:0-10': 1, 'cite_note-1': 2, 'cite_note-9': 3, 'cite_note-who.apr14-36': 4, 'cite_note-44': 5, 'cite_note-45': 6, 'cite_note-28': 7, 'cite_note-47': 8, 'cite_note-Wired_2019-08-12-48': 9, 'cite_note-16': 10, 'cite_note-lenta1-62': 11, 'cite_note-who14-fs103-59': 12, 'cite_note-autogenerated1-56': 13, 'cite_note-WHO2014-61': 14, 'cite_note-68': 15, 'cite_note-22': 16, 'cite_note-:5-21': 17, 'cite_note-nyt-60': 18, 'cite_note-87': 19, 'cite_note-93': 20, 'cite_note-67': 21, 'cite_note-78': 22, 'cite_note-94': 23, 'cite_note-92': 24, 'cite_note-Нетёсов,_2019-82': 25, 'cite_note-95': 26, 'cite_note-90': 27, 'cite_note-103': 28, 'cite_note-Silverman,_2014-100': 29, 'cite_note-kobinger-69': 30, 'cite_note-РИАН-2019-02-01-96': 31, 'cite_note-27': 32, 'cite_note-102': 33}\n",
      "Found hints:  8\n",
      "Вирус иммунодефицита человека\n",
      "found snippets:  161\n",
      "emb len:  161\n",
      "Count of emb ids:  48\n",
      "Downloaded docs:  {'cite_note-3': 1, 'cite_note-20': 2, 'cite_note-15': 3, 'cite_note-18': 4, 'cite_note-16': 5, 'cite_note-7': 6, 'cite_note-av1986-24': 7, 'cite_note-31': 8, 'cite_note-41': 9, 'cite_note-MMWR1982a-28': 10, 'cite_note-25': 11, 'cite_note-26': 12, 'cite_note-37': 13, 'cite_note-61': 14, 'cite_note-44': 15, 'cite_note-47': 16, 'cite_note-autogenerated16-71': 17, 'cite_note-Levy-42': 18, 'cite_note-72': 19, 'cite_note-77': 20, 'cite_note-74': 21, 'cite_note-73': 22, 'cite_note-86': 23, 'cite_note-81': 24, 'cite_note-88': 25, 'cite_note-103': 26, 'cite_note-Nyamweya-92': 27, 'cite_note-millennia-110': 28, 'cite_note-113': 29, 'cite_note-121': 30, 'cite_note-Van_Damme_N._2008-129': 31, 'cite_note-156': 32, 'cite_note-autogenerated2-131': 33, 'cite_note-134': 34, 'cite_note-autogenerated5-137': 35, 'cite_note-162': 36, 'cite_note-pmid22355797-144': 37, 'cite_note-Worobey-158': 38, 'cite_note-McNeil-172': 39, 'cite_note-174': 40, 'cite_note-pmid9989410-163': 41, 'cite_note-Zhu-173': 42, 'cite_note-177': 43, 'cite_note-178': 44, 'cite_note-Sousa2010-170': 45, 'cite_note-Tokarev_A._2009-183': 46, 'cite_note-Perez-Caballero_D._2009-185': 47, 'cite_note-188': 48}\n",
      "Found hints:  6\n",
      "Dota 2\n",
      "found snippets:  153\n",
      "emb len:  153\n",
      "Count of emb ids:  35\n",
      "Downloaded docs:  {'cite_note-ValveDota2-6': 1, 'cite_note-Polygon_guide-19': 2, 'cite_note-22': 3, 'cite_note-9': 4, 'cite_note-relkotaku-8': 5, 'cite_note-Comparison_of_Dota_2_and_LoL-17': 6, 'cite_note-Gameplay-21': 7, 'cite_note-10': 8, 'cite_note-FeakMescon-27': 9, 'cite_note-ignicefrog-4': 10, 'cite_note-35': 11, 'cite_note-IGNDOTA2-31': 12, 'cite_note-Beginner-16': 13, 'cite_note-Heroes-20': 14, 'cite_note-BlizzardDOTA-36': 15, 'cite_note-ti6yahoo-14': 16, 'cite_note-48': 17, 'cite_note-diretide-46': 18, 'cite_note-34': 19, 'cite_note-51': 20, 'cite_note-49': 21, 'cite_note-62': 22, 'cite_note-70': 23, 'cite_note-65': 24, 'cite_note-Dota2012-66': 25, 'cite_note-GI-74': 26, 'cite_note-IGN-71': 27, 'cite_note-80': 28, 'cite_note-EuroG-75': 29, 'cite_note-81': 30, 'cite_note-PC_Gamer-76': 31, 'cite_note-84': 32, 'cite_note-95': 33, 'cite_note-GSpot-77': 34, 'cite_note-101': 35}\n",
      "Found hints:  8\n",
      "TikTok\n",
      "found snippets:  167\n",
      "emb len:  167\n",
      "Count of emb ids:  75\n",
      "Downloaded docs:  {'cite_note-32': 1, 'cite_note-TikTok_стал_главным_приложением_года-13': 2, 'cite_note-TikTok_и_система_фильтрации_контента-2': 3, 'cite_note-33': 4, 'cite_note-35': 5, 'cite_note-20': 6, 'cite_note-36': 7, 'cite_note-37': 8, 'cite_note-34': 9, 'cite_note-G2020-14': 10, 'cite_note-21': 11, 'cite_note-45': 12, 'cite_note-7': 13, 'cite_note-30': 14, 'cite_note-39': 15, 'cite_note-46': 16, 'cite_note-43': 17, 'cite_note-40': 18, 'cite_note-8': 19, 'cite_note-42': 20, 'cite_note-56': 21, 'cite_note-23': 22, 'cite_note-53': 23, 'cite_note-19': 24, 'cite_note-47': 25, 'cite_note-48': 26, 'cite_note-31': 27, 'cite_note-67': 28, 'cite_note-70': 29, 'cite_note-72': 30, 'cite_note-11': 31, 'cite_note-55': 32, 'cite_note-78': 33, 'cite_note-81': 34, 'cite_note-80': 35, 'cite_note-83': 36, 'cite_note-66': 37, 'cite_note-64': 38, 'cite_note-86': 39, 'cite_note-87': 40, 'cite_note-85': 41, 'cite_note-89': 42, 'cite_note-71': 43, 'cite_note-92': 44, 'cite_note-91': 45, 'cite_note-93': 46, 'cite_note-94': 47, 'cite_note-58': 48, 'cite_note-95': 49, 'cite_note-97': 50, 'cite_note-98': 51, 'cite_note-96': 52, 'cite_note-90': 53, 'cite_note-75': 54, 'cite_note-79': 55, 'cite_note-27': 56, 'cite_note-65': 57, 'cite_note-99': 58, 'cite_note-100': 59, 'cite_note-102': 60, 'cite_note-104': 61, 'cite_note-129': 62, 'cite_note-112': 63, 'cite_note-автоссылка5-117': 64, 'cite_note-Настройки_учётной_записи-131': 65, 'cite_note-Безопасность_и_благополучие_несовершеннолетних-128': 66, 'cite_note-118': 67, 'cite_note-автоссылка2-105': 68, 'cite_note-125': 69, 'cite_note-Конфиденциальность_видео-106': 70, 'cite_note-Настройки_конфиденциальности_и_безопасности_для_несовершеннолетних-107': 71, 'cite_note-137': 72, 'cite_note-Опасны_ли_приложения-139': 73, 'cite_note-Безопасность_пользователей-132': 74, 'cite_note-101': 75}\n",
      "Found hints:  4\n",
      "Марс\n",
      "found snippets:  232\n",
      "emb len:  232\n",
      "Count of emb ids:  57\n",
      "Downloaded docs:  {'cite_note-28_августа_2003_-_рекордное_противостояние_Марса-29': 1, 'cite_note-Марс_БРЭ-34': 2, 'cite_note-История_исследований_Марса_с_помощью_космических_аппаратов-26': 3, 'cite_note-Марс_Астронет-35': 4, 'cite_note-Какая_температура_на_Марсе?-39': 5, 'cite_note-Давайте_подумаем_1_—_Можно_ли_«победить»_низкую_гравитацию_Марса?-36': 6, 'cite_note-Pressure_on_the_Surface_of_Mars-47': 7, 'cite_note-Mars_Britannica-32': 8, 'cite_note-Extreme_Planet_Takes_Its_Toll-7': 9, 'cite_note-Раскрыта_тайна_потери_Марсом_плотной_атмосферы-57': 10, 'cite_note-Mars_also_undergoing_climate_change_as_ice_age_retreats,_study_shows-55': 11, 'cite_note-Mars_Pathfinder_Science_Results-46': 12, \"cite_note-Wet_and_Mild:_Caltech_Researchers_Take_the_Temperature_of_Mars's_Past-58\": 13, 'cite_note-Spirit_Gets_A_Dust_Devil_Once-Over-64': 14, 'cite_note-Mars_Fact_Sheet-1': 15, 'cite_note-Девять_значимых_событий_2018\\xa0года_в_физике_и_астрономии-87': 16, 'cite_note-Mars_Express_сфотографировал_дельту_в_кратере_Эберсвальде-91': 17, 'cite_note-Evidence_detected_of_lake_beneath_the_surface_of_Mars-86': 18, \"cite_note-Clays,_Not_Water,_Are_Likely_Source_of_Mars_'Lakes'-88\": 19, 'cite_note-110': 20, 'cite_note-NASA_Findings_Suggest_Jets_Bursting_From_Martian_Ice_Cap-79': 21, 'cite_note-Ученые:_На_Марсе_оказалось_неожиданно_много_воды-109': 22, 'cite_note-NASA’s_MRO_Finds_Water_Flowed_on_Mars_Longer_Than_Previously_Thought-101': 23, 'cite_note-Preliminary_Mars_Pathfinder_APXS_Results-103': 24, 'cite_note-На_Марсе_обнаружены_признаки_жизни-140': 25, 'cite_note-Марс_перепроверяют_на_наличие_органики-144': 26, 'cite_note-Birthplace_of_famous_Mars_meteorite_pinpointed-142': 27, 'cite_note-New_Analysis_of_Viking_Mission_Results_Indicates_Presence_of_Life_on_Mars-146': 28, 'cite_note-Geologic_Map_of_MTM_–40277,_–45277,_–40272,_and_–45272_Quadrangles,_Eastern_Hellas_Planitia_Region_of_Mars-120': 29, 'cite_note-Is_there_a_North_Star_for_Mars?-153': 30, 'cite_note-173': 31, 'cite_note-MGS_Press_Release_99-56-124': 32, 'cite_note-Космический_аппарат_MAVEN_вышел_на_орбиту_Марса-186': 33, 'cite_note-Magnetic_fields_and_Mars-123': 34, 'cite_note-Viking_Mission_to_Mars-177': 35, 'cite_note-Mariner_4-176': 36, 'cite_note-Mars_Pathfinder-178': 37, 'cite_note-Земельные_участки_на_Луне_можно_приобрести_всего_по_$2,5_за_сотку-196': 38, 'cite_note-Mars_Global_Surveyor-179': 39, 'cite_note-Phoenix_Mars_Lander-180': 40, 'cite_note-ExoMars_2016-188': 41, 'cite_note-Jonathan_Swift_and_the_moons_of_Mars-204': 42, 'cite_note-2001_Mars_Odyssey-183': 43, 'cite_note-Emirates_Mars_Mission_(Hope)-189': 44, 'cite_note-Гигин._Астрономия-210': 45, 'cite_note-Tianwen_1-190': 46, 'cite_note-Mars_Reconnaissance_Orbiter-185': 47, 'cite_note-Mars_Science_Laboratory_(MSL)-191': 48, 'cite_note-Древнегреческие_названия_планет-209': 49, 'cite_note-InSight-192': 50, 'cite_note-Decimvs_Magnvs_Avsonivs-211': 51, 'cite_note-MARS_2020-193': 52, 'cite_note-Life_on_Mars?_Genius-205': 53, 'cite_note-Opportunity-182': 54, 'cite_note-Будут_ли_цвести_яблони_на_Марсе?-53': 55, 'cite_note-Mars_Express-184': 56, 'cite_note-Spirit-181': 57}\n",
      "Found hints:  10\n",
      "YouTube\n",
      "found snippets:  70\n",
      "emb len:  70\n",
      "Count of emb ids:  30\n",
      "Downloaded docs:  {'cite_note-19': 1, 'cite_note-6': 2, 'cite_note-25': 3, 'cite_note-17': 4, 'cite_note-29': 5, 'cite_note-7': 6, 'cite_note-24': 7, 'cite_note-9': 8, 'cite_note-34': 9, 'cite_note-1': 10, 'cite_note-53': 11, 'cite_note-31': 12, 'cite_note-64': 13, 'cite_note-38': 14, 'cite_note-74': 15, 'cite_note-lenta0919-80': 16, 'cite_note-:1-59': 17, 'cite_note-82': 18, 'cite_note-78': 19, 'cite_note-92': 20, 'cite_note-91': 21, 'cite_note-100': 22, 'cite_note-coverstory-66': 23, 'cite_note-mitchell-65': 24, 'cite_note-102': 25, 'cite_note-98': 26, 'cite_note-104': 27, 'cite_note-101': 28, 'cite_note-97': 29, 'cite_note-103': 30}\n",
      "Found hints:  4\n",
      "Portal 2\n",
      "found snippets:  117\n",
      "emb len:  117\n",
      "Count of emb ids:  35\n",
      "Downloaded docs:  {'cite_note-GI7-19': 1, 'cite_note-GI4-10': 2, 'cite_note-Интервью_PC_Gamer,_с._1-8': 3, 'cite_note-GI1-7': 4, 'cite_note-35': 5, 'cite_note-_972fba69a0cc32d4-1': 6, 'cite_note-18': 7, 'cite_note-15': 8, 'cite_note-13': 9, 'cite_note-14': 10, 'cite_note-21': 11, 'cite_note-16': 12, 'cite_note-17': 13, 'cite_note-43': 14, 'cite_note-45': 15, 'cite_note-49': 16, 'cite_note-Character_desing-58': 17, 'cite_note-Writers-57': 18, 'cite_note-Интервью_PC_Gamer,_с._2-55': 19, 'cite_note-40': 20, 'cite_note-66': 21, 'cite_note-74': 22, 'cite_note-83': 23, 'cite_note-84': 24, 'cite_note-82': 25, 'cite_note-90': 26, 'cite_note-104': 27, 'cite_note-105': 28, 'cite_note-eurogamer_review-98': 29, 'cite_note-pc_gamer_us_review-102': 30, 'cite_note-109': 31, 'cite_note-gi_review-100': 32, 'cite_note-117': 33, 'cite_note-ign_review-96': 34, 'cite_note-120': 35}\n",
      "Found hints:  4\n"
     ]
    }
   ],
   "source": [
    "for name in wiki_bench.article_names:\n",
    "    print(name)\n",
    "    page = wiki_bench.get_article(name, is_downloaded=True)\n",
    "    await wiki_bench.wiki_evaluater.rank_outline(name, mode=1, page=page, neighbor_count=0, description_mode=0)"
   ]
  },
  {
   "cell_type": "code",
   "execution_count": 27,
   "id": "d6ca62f5-aaae-4e07-8d0c-56f0820ff60a",
   "metadata": {},
   "outputs": [],
   "source": [
    "import os\n",
    "\n",
    "texts2 = []\n",
    "for subdir, _, files in os.walk(r'Generation\\Subqueries_ref\\Annotations'):\n",
    "    for file in files:\n",
    "        if file.endswith(\".txt\"):\n",
    "            file_path = os.path.join(subdir, file)\n",
    "            with open(file_path, \"r\", encoding=\"utf-8\") as f:\n",
    "                text = f.read()\n",
    "                texts2.append(text.split('\\n')[0])"
   ]
  },
  {
   "cell_type": "code",
   "execution_count": 26,
   "id": "93ee71db-5140-42f7-bd42-2493e2f5763d",
   "metadata": {},
   "outputs": [
    {
     "name": "stdout",
     "output_type": "stream",
     "text": [
      "['C++', 'COVID-19', 'Dota 2', 'Google (компания)', 'Portal 2', 'Python', 'TikTok', 'Tomb Raider (игра, 2013)', 'Uncharted 4: A Thief’s End', 'YouTube', 'Большой адронный коллайдер', 'Вирус иммунодефицита человека', 'Геморрагическая лихорадка Эбола', 'Иннополис', 'Искусственный интеллект', 'Квантовый компьютер', 'Летние Олимпийские игры 2020', 'Летние Олимпийские игры 2024', 'Марс', 'Применение искусственного интеллекта', 'Присоединение Крыма к Российской Федерации', 'РИА Новости', 'Сбербанк России', 'Си (язык программирования)', 'Сколково (инновационный центр)', 'Солнечная система', 'Чёрная дыра', 'Чёрная смерть', 'Экономика КНР', 'Экономика США', 'Яндекс']\n"
     ]
    }
   ],
   "source": [
    "print(names)"
   ]
  },
  {
   "cell_type": "code",
   "execution_count": 40,
   "id": "15d3eefc-0454-4f58-8bad-bea5affa416d",
   "metadata": {
    "scrolled": true
   },
   "outputs": [
    {
     "name": "stdout",
     "output_type": "stream",
     "text": [
      "Статья \"РИА Новости\" представляет собой обзор истории и деятельности одноимённого российского информационного агентства. В ней освещаются ключевые этапы развития агентства, включая его структуру до 2013 года и ликвидацию ФГУП РАМИ \"РИА Новости\". Кроме того, статья затрагивает темы, связанные с работой агентства на крупных мероприятиях, таких как Олимпиада в Сочи, а также проблемы, с которыми столкнулись журналисты при исполнении профессионального долга. Статья также рассматривает вопросы, связанные с санкциями и блокировкой агентства в отдельных странах, таких как Молдавия. В целом, статья дает всесторонний обзор деятельности и истории РИА Новости.\n"
     ]
    }
   ],
   "source": [
    "print(texts2[21])"
   ]
  },
  {
   "cell_type": "code",
   "execution_count": 67,
   "id": "40984364-73f8-40d5-93b5-166cb95035d6",
   "metadata": {},
   "outputs": [
    {
     "name": "stderr",
     "output_type": "stream",
     "text": [
      "Default prompt name is set to 'Classification'. This prompt will be applied to all `encode()` calls, except if `encode()` is called with `prompt` or `prompt_name` parameters.\n"
     ]
    }
   ],
   "source": [
    "wiki_bench = WikiBench(url, key, model_name='tpro', pre_load=True)"
   ]
  },
  {
   "cell_type": "code",
   "execution_count": null,
   "id": "cb1a62e4-be83-42bb-a56e-b7cd4fd8cabd",
   "metadata": {},
   "outputs": [],
   "source": [
    "Model(id='tpro', created=None, object=None, owned_by=None, max_model_len=30000, status='spawned')\n",
    "Model(id='yagpt5lite', created=None, object=None, owned_by=None, max_model_len=30000, status='spawned')\n",
    "Model(id='RefalMachine/RuadaptQwen2.5-32B-Pro-Beta', created=None, object=None, owned_by=None, max_model_len=28000, status='spawned')\n",
    "Model(id='RefalMachine/RuadaptQwen2.5-32B-QWQ-Beta', created=None, object=None, owned_by=None, max_model_len=16000, status='spawned')\n",
    "Model(id='llama3-70b', created=None, object=None, owned_by=None, max_model_len=14000, status='spawned')\n",
    "Model(id='qwen2.5-72b', created=None, object=None, owned_by=None, max_model_len=14000, status='spawned')\n",
    "Model(id='RefalMachine/RuadaptQwen2.5-7B-Garant-v2', created=None, object=None, owned_by=None, max_model_len=30000, status='offloaded')\n",
    "Model(id='RefalMachine/RuadaptQwen2.5-7B-Lite-Beta', created=None, object=None, owned_by=None, max_model_len=30000, status='offloaded')\n",
    "Model(id='deepseek-r1-32b', created=None, object=None, owned_by=None, max_model_len=30000, status='offloaded')\n",
    "Model(id='qwen32b-coder', created=None, object=None, owned_by=None, max_model_len=30000, status='offloaded')\n",
    "Model(id='vikhr12b', created=None, object=None, owned_by=None, max_model_len=30000, status='offloaded')\n",
    "Model(id='Nemotron49b', created=None, object=None, owned_by=None, max_model_len=16000, status='offloaded')\n",
    "Model(id='tlite', created=None, object=None, owned_by=None, max_model_len=-1, status='offloaded')"
   ]
  },
  {
   "cell_type": "code",
   "execution_count": 68,
   "id": "361e24b0-b314-4b5a-927e-aa9cd45d0847",
   "metadata": {
    "scrolled": true
   },
   "outputs": [
    {
     "name": "stderr",
     "output_type": "stream",
     "text": [
      "Default prompt name is set to 'Classification'. This prompt will be applied to all `encode()` calls, except if `encode()` is called with `prompt` or `prompt_name` parameters.\n"
     ]
    },
    {
     "name": "stdout",
     "output_type": "stream",
     "text": [
      "C++\n",
      "0.73895943 0.73998207 0.7394704\n",
      "COVID-19\n",
      "0.82927626 0.8021694 0.81549764\n",
      "Dota 2\n",
      "0.7436553 0.8785052 0.8054753\n",
      "Google (компания)\n",
      "0.7857456 0.75630057 0.77074194\n",
      "Portal 2\n",
      "0.7469662 0.80251527 0.77374506\n",
      "Python\n",
      "0.81863266 0.7961141 0.80721635\n",
      "TikTok\n",
      "0.7229557 0.6834162 0.70263016\n",
      "Tomb Raider (игра, 2013)\n",
      "0.8054377 0.78164595 0.7933635\n",
      "Uncharted 4: A Thief’s End\n",
      "0.77498615 0.8640586 0.8171021\n",
      "YouTube\n",
      "0.6753873 0.732163 0.7026301\n",
      "Большой адронный коллайдер\n",
      "0.7570621 0.6562817 0.70307875\n",
      "Вирус иммунодефицита человека\n",
      "0.78900635 0.7084751 0.74657536\n",
      "Геморрагическая лихорадка Эбола\n",
      "0.7956749 0.81653273 0.8059689\n",
      "Иннополис\n",
      "0.8002834 0.81979 0.8099193\n",
      "Искусственный интеллект\n",
      "0.7256788 0.7150952 0.7203481\n",
      "Квантовый компьютер\n",
      "0.73267645 0.77512956 0.7533054\n",
      "Летние Олимпийские игры 2020\n",
      "0.69711417 0.8802828 0.77806365\n",
      "Летние Олимпийские игры 2024\n",
      "0.74998575 0.819381 0.7831491\n",
      "Марс\n",
      "0.7787132 0.80061924 0.7895143\n",
      "Применение искусственного интеллекта\n",
      "0.76705825 0.7867975 0.77680254\n",
      "Присоединение Крыма к Российской Федерации\n",
      "0.736753 0.75935864 0.74788505\n",
      "РИА Новости\n",
      "0.7217075 0.6888173 0.704879\n",
      "Сбербанк России\n",
      "0.7779142 0.7713225 0.7746043\n",
      "Си (язык программирования)\n",
      "0.79545885 0.73285383 0.76287407\n",
      "Сколково (инновационный центр)\n",
      "0.79571015 0.63451153 0.7060266\n",
      "Солнечная система\n",
      "0.75778335 0.7524673 0.755116\n",
      "Чёрная дыра\n",
      "0.7529354 0.7525389 0.7527371\n",
      "Чёрная смерть\n",
      "0.7304377 0.76762056 0.74856764\n",
      "Экономика КНР\n",
      "0.82077074 0.76319104 0.7909344\n",
      "Экономика США\n",
      "0.8206975 0.8282966 0.8244796\n",
      "Яндекс\n",
      "0.75201815 0.72483784 0.7381779\n",
      "0.7644337 0.7674539 0.76454455\n"
     ]
    }
   ],
   "source": [
    "from sentence_transformers import SentenceTransformer\n",
    "import numpy as np\n",
    "\n",
    "\n",
    "PROMPT = \"\"\"\n",
    "Ты — опытный редактор Википедии. На основе краткого описания статьи и ее названия тебе нужно составить короткий план всей статьи.\n",
    "Пожалуйста, строго следуй этим инструкциям:\n",
    "1. Начни план с названия интересующей темы \"Topic\"\n",
    "2. Используй \"# Title\" для заголовков разделов, \"## Title\" для заголовков подразделов, \"### Title\" для подподразделов и так далее.\n",
    "3. В конце плана напиши **END**\n",
    "4. Ничего другого писать не нужно.\n",
    "\n",
    "Тема статьи: {}\n",
    "Описание статьи: {}\n",
    "\"\"\"\n",
    "model_embeddings = SentenceTransformer(\"sergeyzh/BERTA\")\n",
    "p = 0\n",
    "r = 0\n",
    "f = 0\n",
    "count = 0\n",
    "a = []\n",
    "b = []\n",
    "c = []\n",
    "for name, text in zip(names, texts2):\n",
    "    count += 1\n",
    "    print(name)\n",
    "    page = wiki_bench.get_article(name, False, True)\n",
    "    myprompt = PROMPT.format(name, text)\n",
    "    res = await wiki_bench.client.get_completion(myprompt)\n",
    "    if res.choices is not None:\n",
    "        response = res.choices[0].message.content.strip()\n",
    "    else:\n",
    "        print('Error!')\n",
    "        continue\n",
    "    outline = response\n",
    "    parsed_headings = []\n",
    "    for line in outline.split('\\n'):\n",
    "        line = line.strip()\n",
    "        if line.startswith(\"#\"):\n",
    "            level = len(line) - len(line.lstrip(\"#\"))\n",
    "            title = line[level:].strip()\n",
    "            if title:\n",
    "                parsed_headings.append((level, title))\n",
    "    heads = [head[1] for head in parsed_headings]\n",
    "    pred_emb = model_embeddings.encode(heads, normalize_embeddings=True)\n",
    "    true_heads = []\n",
    "    for headings in page.filtered_outline.keys():\n",
    "        true_heads.append(headings[1])\n",
    "    ref_emb =  model_embeddings.encode(true_heads, normalize_embeddings=True)\n",
    "    sims = pred_emb @ ref_emb.T\n",
    "    precision_scores = sims.max(axis=1).mean()\n",
    "    recall_scores = sims.max(axis=0).mean()\n",
    "    if precision_scores + recall_scores == 0:\n",
    "        f1 = 0.0\n",
    "    else:\n",
    "        f1 = 2 * precision_scores * recall_scores / (precision_scores + recall_scores)\n",
    "    p += precision_scores\n",
    "    r += recall_scores\n",
    "    f += f1\n",
    "    a.append(precision_scores)\n",
    "    b.append(recall_scores)\n",
    "    c.append(f1)\n",
    "    print(precision_scores, recall_scores, f1)\n",
    "print(p / count, r / count, f / count)"
   ]
  },
  {
   "cell_type": "code",
   "execution_count": 71,
   "id": "2a6c4756-a340-434a-bb64-137d9fcd6856",
   "metadata": {
    "scrolled": true
   },
   "outputs": [
    {
     "name": "stdout",
     "output_type": "stream",
     "text": [
      "76.54\n",
      "75.39\n",
      "77.30\n",
      "\n",
      "76.75\n",
      "75.29\n",
      "78.50\n",
      "\n",
      "76.51\n",
      "75.52\n",
      "77.64\n",
      "\n"
     ]
    }
   ],
   "source": [
    "import numpy as np\n",
    "from scipy.stats import bootstrap\n",
    "\n",
    "def calc(data):\n",
    "  data = np.array(data)\n",
    "  data1 = (data,)\n",
    "  bootstrap_ci = bootstrap(data1, np.mean, confidence_level=0.95, n_resamples=len(data)-1)\n",
    "\n",
    "  dist = bootstrap_ci.bootstrap_distribution\n",
    "  mean = np.quantile(dist, q=0.5)\n",
    "  min = np.quantile(dist, q=0.025)\n",
    "  max = np.quantile(dist, q=0.975)\n",
    "  print(f\"{100*mean:2.2f}\")\n",
    "  print(f\"{100*min:2.2f}\")\n",
    "  print(f\"{100*max:2.2f}\")\n",
    "  print()\n",
    "\n",
    "calc(a)\n",
    "calc(b)\n",
    "calc(c)"
   ]
  },
  {
   "cell_type": "code",
   "execution_count": 70,
   "id": "33f2cb7b-358a-42a1-b805-36133f9b2a6b",
   "metadata": {},
   "outputs": [],
   "source": [
    "import json\n",
    "\n",
    "fixed_lst = [(float(a), float(b), float(c)) for a, b, c in zip(a, b, c)]\n",
    "with open('tpro_outline.json', 'w', encoding='utf-8') as f:\n",
    "    json.dump(fixed_lst, f, ensure_ascii=False, indent=2)"
   ]
  },
  {
   "cell_type": "code",
   "execution_count": 1,
   "id": "1518ef75-7e47-4e97-a1fe-9768bcab046d",
   "metadata": {},
   "outputs": [
    {
     "name": "stdout",
     "output_type": "stream",
     "text": [
      "resource module not available on Windows\n"
     ]
    }
   ],
   "source": [
    "import sys\n",
    "\n",
    "sys.path.append(\"src\")\n",
    "from wiki_bench import WikiBench\n",
    "with open('Access_key.txt', 'r', encoding='utf-8') as file:\n",
    "    url, key = file.read().split()"
   ]
  },
  {
   "cell_type": "code",
   "execution_count": 11,
   "id": "6f9b5bea-dcd4-4b64-b7df-56aaa3fa296c",
   "metadata": {},
   "outputs": [
    {
     "name": "stderr",
     "output_type": "stream",
     "text": [
      "Default prompt name is set to 'Classification'. This prompt will be applied to all `encode()` calls, except if `encode()` is called with `prompt` or `prompt_name` parameters.\n"
     ]
    },
    {
     "name": "stdout",
     "output_type": "stream",
     "text": [
      "Model(id='tpro', created=None, object=None, owned_by=None, max_model_len=30000, status='spawned')\n",
      "Model(id='vikhr12b', created=None, object=None, owned_by=None, max_model_len=30000, status='spawned')\n",
      "Model(id='yagpt5lite', created=None, object=None, owned_by=None, max_model_len=30000, status='spawned')\n",
      "Model(id='RefalMachine/RuadaptQwen2.5-32B-Pro-Beta', created=None, object=None, owned_by=None, max_model_len=28000, status='spawned')\n",
      "Model(id='qwen2.5-72b', created=None, object=None, owned_by=None, max_model_len=14000, status='spawned')\n",
      "Model(id='RefalMachine/RuadaptQwen2.5-7B-Garant-v2', created=None, object=None, owned_by=None, max_model_len=30000, status='offloaded')\n",
      "Model(id='RefalMachine/RuadaptQwen2.5-7B-Lite-Beta', created=None, object=None, owned_by=None, max_model_len=30000, status='offloaded')\n",
      "Model(id='deepseek-r1-32b', created=None, object=None, owned_by=None, max_model_len=30000, status='offloaded')\n",
      "Model(id='qwen32b-coder', created=None, object=None, owned_by=None, max_model_len=30000, status='offloaded')\n",
      "Model(id='qwen3moe30b', created=None, object=None, owned_by=None, max_model_len=30000, status='offloaded')\n",
      "Model(id='gemma3', created=None, object=None, owned_by=None, max_model_len=22000, status='offloaded')\n",
      "Model(id='RefalMachine/RuadaptQwen2.5-32B-QWQ-Beta', created=None, object=None, owned_by=None, max_model_len=16000, status='offloaded')\n",
      "Model(id='llama3-70b', created=None, object=None, owned_by=None, max_model_len=14000, status='offloaded')\n",
      "Model(id='tlite', created=None, object=None, owned_by=None, max_model_len=-1, status='offloaded')\n"
     ]
    }
   ],
   "source": [
    "wiki_bench = WikiBench(url, key, model_name='yagpt5lite', pre_load=True)\n",
    "lst = list(await wiki_bench.client.client.models.list())[0][1]\n",
    "for l in lst:\n",
    "    print(l)"
   ]
  },
  {
   "cell_type": "code",
   "execution_count": 14,
   "id": "25c215dc-8ab1-4134-8e35-6d13e133db64",
   "metadata": {
    "scrolled": true
   },
   "outputs": [
    {
     "name": "stderr",
     "output_type": "stream",
     "text": [
      "Default prompt name is set to 'Classification'. This prompt will be applied to all `encode()` calls, except if `encode()` is called with `prompt` or `prompt_name` parameters.\n"
     ]
    }
   ],
   "source": [
    "from sentence_transformers import SentenceTransformer\n",
    "import os\n",
    "import razdel\n",
    "from openai_utils import AsyncList\n",
    "\n",
    "model = SentenceTransformer(\"sergeyzh/BERTA\")\n",
    "\n",
    "texts = []\n",
    "for subdir, _, files in os.walk(r'Generation\\Subqueries_ref\\Annotations'):\n",
    "    for file in files:\n",
    "        if file.endswith(\".txt\"):\n",
    "            file_path = os.path.join(subdir, file)\n",
    "            with open(file_path, \"r\", encoding=\"utf-8\") as f:\n",
    "                text = f.read()\n",
    "                texts.append(text)\n",
    "\n",
    "base_dir = os.path.join('Articles', 'Sources')\n",
    "        \n",
    "folders = [f for f in os.listdir(base_dir) if os.path.isdir(os.path.join(base_dir, f))]\n",
    "\n",
    "snippets = wiki_bench.wiki_evaluater.get_texts_from_disk()\n",
    "topR = []\n",
    "for folder in folders:\n",
    "    snip = [1 if snippet[0] == folder else 0 for snippet in snippets.keys()]\n",
    "    topR.append((folder, sum(snip)))\n",
    "    \n",
    "annotations = AsyncList()\n",
    "for name, _ in topR:\n",
    "    annotations.append(wiki_bench.wiki_writer.get_ref_subqueries(None, 0, 0, name))\n",
    "    #annotations.append(wiki_bench.wiki_writer.get_ref_subqueries(None, 1, 0, name))\n",
    "\n",
    "await annotations.complete_couroutines(batch_size=40)\n",
    "annotations = await annotations.to_list()\n",
    "new_texts = []\n",
    "for i in range(0, len(annotations), 1):\n",
    "    new_text = annotations[i]# + '\\n' + annotations[i + 1]\n",
    "    new_texts.append(new_text)\n",
    "\n",
    "pr_scores = []\n",
    "rec_scores = []\n",
    "for text, new_text in zip(texts, new_texts):\n",
    "    text_sents = [t.text for t in razdel.sentenize(text.split('\\n')[0])]\n",
    "    text_emb = model.encode(text_sents, normalize_embs=True)\n",
    "    new_text_sents = [t.text for t in razdel.sentenize(new_text)]\n",
    "    new_text_emb = model.encode(new_text_sents, normalize_embs=True)\n",
    "    sims = new_text_emb @ text_emb.T\n",
    "    precision_scores = sims.max(axis=1).mean()\n",
    "    recall_scores = sims.max(axis=0).mean()\n",
    "    pr_scores.append(precision_scores)\n",
    "    rec_scores.append(recall_scores)"
   ]
  },
  {
   "cell_type": "code",
   "execution_count": 15,
   "id": "4c2e6f0d-1ff9-401a-b679-1163b39c6af2",
   "metadata": {},
   "outputs": [
    {
     "name": "stdout",
     "output_type": "stream",
     "text": [
      "72.54\n",
      "70.83\n",
      "74.86\n",
      "\n",
      "68.98\n",
      "67.40\n",
      "70.66\n",
      "\n"
     ]
    }
   ],
   "source": [
    "import numpy as np\n",
    "from scipy.stats import bootstrap\n",
    "\n",
    "def calc(data):\n",
    "  data = np.array(data)\n",
    "  data1 = (data,)\n",
    "  bootstrap_ci = bootstrap(data1, np.mean, confidence_level=0.95, n_resamples=len(data)-1)\n",
    "\n",
    "  dist = bootstrap_ci.bootstrap_distribution\n",
    "  mean = np.quantile(dist, q=0.5)\n",
    "  min = np.quantile(dist, q=0.025)\n",
    "  max = np.quantile(dist, q=0.975)\n",
    "  print(f\"{100*mean:2.2f}\")\n",
    "  print(f\"{100*min:2.2f}\")\n",
    "  print(f\"{100*max:2.2f}\")\n",
    "  print()\n",
    "\n",
    "elem_p = [el[0] for el in wiki_bench.outline_logger]\n",
    "elem_r = [el[1] for el in wiki_bench.outline_logger]\n",
    "\n",
    "calc(pr_scores)\n",
    "calc(rec_scores)"
   ]
  },
  {
   "cell_type": "code",
   "execution_count": null,
   "id": "6b64656f-67cb-4e95-b92d-a027afff4d79",
   "metadata": {},
   "outputs": [],
   "source": []
  }
 ],
 "metadata": {
  "kernelspec": {
   "display_name": "Python 3 (ipykernel)",
   "language": "python",
   "name": "python3"
  },
  "language_info": {
   "codemirror_mode": {
    "name": "ipython",
    "version": 3
   },
   "file_extension": ".py",
   "mimetype": "text/x-python",
   "name": "python",
   "nbconvert_exporter": "python",
   "pygments_lexer": "ipython3",
   "version": "3.12.9"
  }
 },
 "nbformat": 4,
 "nbformat_minor": 5
}
